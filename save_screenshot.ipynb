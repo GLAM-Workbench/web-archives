{
 "cells": [
  {
   "cell_type": "markdown",
   "metadata": {},
   "source": [
    "# Get full page screenshots from archived web pages"
   ]
  },
  {
   "cell_type": "code",
   "execution_count": null,
   "metadata": {},
   "outputs": [],
   "source": [
    "from selenium import webdriver\n",
    "import requests\n",
    "import selenium\n",
    "from PIL import Image\n",
    "import PIL\n",
    "import io\n",
    "import base64\n",
    "import time\n",
    "import re\n",
    "import arrow\n",
    "from slugify import slugify\n",
    "from webdriverdownloader import GeckoDriverDownloader\n",
    "from pathlib import Path\n",
    "from IPython.display import display, HTML\n",
    "from urllib.parse import urlparse\n",
    "import ipywidgets as widgets\n",
    "\n",
    "gdd = GeckoDriverDownloader()\n",
    "geckodriver = gdd.download_and_install(\"v0.26.0\")[1]"
   ]
  },
  {
   "cell_type": "code",
   "execution_count": null,
   "metadata": {},
   "outputs": [],
   "source": [
    "TIMEGATES = {\n",
    "    'nla': 'https://web.archive.org.au/awa/',\n",
    "    'nlnz': 'https://ndhadeliver.natlib.govt.nz/webarchive/wayback/',\n",
    "    'bl': 'https://www.webarchive.org.uk/wayback/archive/',\n",
    "    'ia': 'https://web.archive.org/web/'\n",
    "}\n",
    "\n",
    "pywb = ['webarchive.org.uk', 'web.archive.org.au', 'webarchive.nla.gov.au']\n",
    "wayback = ['ndhadeliver.natlib.govt.nz', 'web.archive.org']\n",
    "\n",
    "html_output = []\n",
    "\n",
    "def format_date_for_headers(iso_date, tz):\n",
    "    '''\n",
    "    Convert an ISO date (YYYY-MM-DD) to a datetime at noon in the specified timezone.\n",
    "    Convert the datetime to UTC and format as required by Accet-Datetime headers:\n",
    "    eg Fri, 23 Mar 2007 01:00:00 GMT\n",
    "    '''\n",
    "    local = arrow.get(f'{iso_date} 12:00:00 {tz}', 'YYYY-MM-DD HH:mm:ss ZZZ')\n",
    "    gmt = local.to('utc')\n",
    "    return f'{gmt.format(\"ddd, DD MMM YYYY HH:mm:ss\")} GMT'\n",
    "\n",
    "def format_date_from_timestamp(url):\n",
    "    timestamp = re.search(r'/(\\d{14})(?:if_|mp_)*/', url).group(1)\n",
    "    return arrow.get(timestamp, 'YYYYMMDDHHmmss').format('d MMMM YYYY')\n",
    "\n",
    "def parse_links_from_headers(headers):\n",
    "    '''\n",
    "    Extract original, timegate, timemap, and memento links from 'Link' header.\n",
    "    '''\n",
    "    memento_links = {}\n",
    "    try:\n",
    "        links = re.findall(r'<(.*?)>; rel=\"(original|timegate|timemap|memento|first memento|prev memento|next memento|last memento)\"', headers['Link'])\n",
    "    except KeyError:\n",
    "        # print(headers)\n",
    "        return None\n",
    "    else:\n",
    "        for url, url_type in links:\n",
    "            memento_links[url_type] = url\n",
    "        return memento_links\n",
    "\n",
    "def query_timegate(timegate, url, date=None, tz='Australia/Canberra'):\n",
    "    headers = {}\n",
    "    if date:\n",
    "        formatted_date = format_date_for_headers(date, tz)\n",
    "        headers['Accept-Datetime'] = formatted_date\n",
    "    # BL & NLNZ don't seem to default to latest date if no date supplied\n",
    "    elif not date and timegate in ['bl', 'nlnz']:\n",
    "        formatted_date = format_date_for_headers(arrow.utcnow().format('YYYY-MM-DD'), tz)\n",
    "        headers['Accept-Datetime'] = formatted_date\n",
    "    # Note that you don't get a timegate response if you leave off the trailing slash, but extras don't hurt!\n",
    "    tg_url = f'{TIMEGATES[timegate]}{url}/' if not url.endswith('/') else f'{TIMEGATES[timegate]}{url}'\n",
    "    # print(tg_url)\n",
    "    # IA doesn't work with head, others don't work with get...\n",
    "    if timegate == 'ia':\n",
    "        response = requests.get(tg_url, headers=headers)\n",
    "    else:\n",
    "        response = requests.head(tg_url, headers=headers)\n",
    "    return parse_links_from_headers(response.headers)\n",
    "\n",
    "def get_memento():\n",
    "    links = query_timegate(repository.value, target_url.value, target_date.value)\n",
    "    # NLNZ doesn't always seem to return a Memento, so we'll build in some fuzziness\n",
    "    if links:\n",
    "        if 'memento' in links:\n",
    "            memento = links['memento']\n",
    "        elif 'prev memento' in links:\n",
    "            memento = links['prev memento']\n",
    "        elif 'next memento' in links:\n",
    "            memento = links['next memento']\n",
    "        elif 'last memento' in links:\n",
    "            memento = links['last memento']\n",
    "    else:\n",
    "        memento = None\n",
    "    return memento\n",
    "    \n",
    "def get_full_page_screenshot(url, save_width=200):\n",
    "    '''\n",
    "    Gets a full page screenshot of the supplied url.\n",
    "    By default resizes the screenshot to a maximum width of 200px.\n",
    "    Provide a 'save_width' value to change this.\n",
    "    \n",
    "    NOTE the webdriver sometimes fails for unknown reasons. Just try again.\n",
    "    '''\n",
    "    global html_output\n",
    "    domain = urlparse(url)[1].replace('www.', '')\n",
    "    # NZ and IA inject content into the page, so we use if_ to get the original page (with rewritten urls)\n",
    "    if domain in wayback and 'if_' not in url:\n",
    "        url = re.sub(r'/(\\d{14})/http', r'/\\1if_/http', url)\n",
    "    try:\n",
    "        date_str, site = re.search(r'/(\\d{14})(?:if_|mp_)*/https*://(.+/)', url).groups()\n",
    "    except AttributeError:\n",
    "        # There's something wrong with the link...\n",
    "        # print(url)\n",
    "        show_error(f'{url} isn\\'t a Memento – did you forget to select an archive?')\n",
    "    else:\n",
    "        ss_file = Path('screenshots', f'{slugify(site)}-{date_str}-{save_width}.png')\n",
    "        options = webdriver.FirefoxOptions()\n",
    "        options.headless = True\n",
    "        driver = webdriver.Firefox(executable_path=geckodriver, options=options)\n",
    "        driver.implicitly_wait(30)\n",
    "        driver.get(url)\n",
    "        # Give some time for everything to load\n",
    "        time.sleep(15)\n",
    "        driver.maximize_window()\n",
    "        current_width = driver.get_window_size()['width']\n",
    "        # UK and AU use pywb in framed replay mode, so we need to switch to the framed content\n",
    "        if domain in pywb:\n",
    "            try:\n",
    "                driver.switch_to.frame(0)\n",
    "            except selenium.common.exceptions.NoSuchFrameException:\n",
    "                show_error(f'Couldn\\'t get a screenshot of {url} – sorry...')\n",
    "                return\n",
    "        try:\n",
    "            ss = driver.find_element_by_tag_name('body').screenshot_as_base64\n",
    "        except selenium.common.exceptions.NoSuchElementException:\n",
    "            try:\n",
    "                ss = driver.find_element_by_tag_name('frameset').screenshot_as_base64\n",
    "            except selenium.common.exceptions.NoSuchElementException:\n",
    "                show_error(f'Couldn\\'t get a screenshot of {url} – sorry...')\n",
    "                return\n",
    "        driver.quit()\n",
    "        img = Image.open(io.BytesIO(base64.b64decode(ss)))\n",
    "        ratio = save_width / current_width\n",
    "        (width, height) = (round(img.width * ratio), round(img.height * ratio))\n",
    "        resized_img = img.resize((width, height), PIL.Image.LANCZOS)\n",
    "        resized_img.save(ss_file)\n",
    "        date = format_date_from_timestamp(url)\n",
    "        status.clear_output()\n",
    "        html_output.append(f'<div style=\"float:left; margin-left: 20px;\"><p><b>{date}</b><br><a href=\"{url.replace(\"if_/\", \"/\")}\">{target_url.value}</a></p><p><a href=\"{ss_file}\"><img src=\"{ss_file}\"></a><br><a href=\"{ss_file}\">[Download]</a></p></div>')\n",
    "        with out:\n",
    "            display((HTML(''.join(html_output))))\n",
    "\n",
    "def show_error(message=None):\n",
    "    status.clear_output()\n",
    "    with status:\n",
    "        print(f'Something went wrong – {message}')\n",
    "\n",
    "def start(e):\n",
    "    status.clear_output()\n",
    "    out.clear_output(wait=True)\n",
    "    with status:\n",
    "        print('Generating screenshot...')\n",
    "    if repository.value:\n",
    "        memento = get_memento()\n",
    "    else:\n",
    "        memento = target_url.value\n",
    "    if memento:\n",
    "        get_full_page_screenshot(memento, save_width=width.value)\n",
    "    else:\n",
    "        show_error('couldn\\'t find a Memento – sorry...')\n",
    "    \n",
    "def clear(e):\n",
    "    global html_output\n",
    "    html_output = []\n",
    "    status.clear_output()\n",
    "    out.clear_output()\n",
    "    \n",
    "def clear_last(e):\n",
    "    global html_output\n",
    "    html_output.pop()\n",
    "    out.clear_output(wait=True)\n",
    "    with out:\n",
    "        display((HTML(''.join(html_output))))\n",
    "\n",
    "repository = widgets.Dropdown(\n",
    "    options=[('---', ''), ('UK Web Archive', 'bl'), ('National Library of Australia', 'nla'), ('National Library of New Zealand', 'nlnz'), ('Internet Archive', 'ia')],\n",
    "    description='Archive:',\n",
    "    disabled=False,\n",
    ")\n",
    "\n",
    "target_url = widgets.Text(description='Target URL:')\n",
    "\n",
    "target_date = widgets.DatePicker(\n",
    "    description='Target date: ',\n",
    "    disabled=False\n",
    ")\n",
    "\n",
    "width = widgets.IntSlider(\n",
    "    value=7,\n",
    "    min=200,\n",
    "    max=1000,\n",
    "    step=100,\n",
    "    description='Width:',\n",
    "    disabled=False,\n",
    "    continuous_update=False,\n",
    "    orientation='horizontal',\n",
    "    readout=True,\n",
    "    readout_format='d'\n",
    ")\n",
    "\n",
    "out = widgets.Output()\n",
    "status = widgets.Output()\n",
    "ss_button = widgets.Button(description='Get screenshot', button_style='primary')\n",
    "ss_button.on_click(start)\n",
    "clear_button = widgets.Button(description='Clear all')\n",
    "clear_button.on_click(clear)\n",
    "clear_last_button = widgets.Button(description='Clear last')\n",
    "clear_last_button.on_click(clear_last)\n",
    "note = '''\n",
    "    <ul>\n",
    "    <li>Select a repository, and insert a url to generate a screenshot from the archive.</li>\n",
    "    <li>If you include a date, it\\'ll attempt to find the closest capture using Memento Timegates.</li>\n",
    "    <li>If you don't include a date, it'll give you the most recent capture.</li>\n",
    "    <li>If you already have the url of the exact capture you want, just put it in the 'Target url' box and leave 'Archive' and 'Target date' blank.\n",
    "    <li>You can add multiple screenshots to compare changes.</li>\n",
    "    </ul>\n",
    "    '''\n",
    "display(HTML(note), widgets.HBox([widgets.VBox([repository, target_date]), widgets.VBox([target_url, width])], layout=widgets.Layout(padding='20px')), widgets.HBox([ss_button, clear_button, clear_last_button]), status, out)"
   ]
  },
  {
   "cell_type": "markdown",
   "metadata": {},
   "source": [
    "----\n",
    "\n",
    "Work on this notebook was supported by the [IIPC Discretionary Funding Programme 2019-2020](http://netpreserve.org/projects/)"
   ]
  }
 ],
 "metadata": {
  "kernelspec": {
   "display_name": "Python 3",
   "language": "python",
   "name": "python3"
  },
  "language_info": {
   "codemirror_mode": {
    "name": "ipython",
    "version": 3
   },
   "file_extension": ".py",
   "mimetype": "text/x-python",
   "name": "python",
   "nbconvert_exporter": "python",
   "pygments_lexer": "ipython3",
   "version": "3.7.3"
  },
  "widgets": {
   "application/vnd.jupyter.widget-state+json": {
    "state": {
     "012f95c721094fd0a8ba9823d3194313": {
      "model_module": "@jupyter-widgets/controls",
      "model_module_version": "1.5.0",
      "model_name": "DatePickerModel",
      "state": {
       "description": "Target date: ",
       "disabled": false,
       "layout": "IPY_MODEL_14a2b2ea4355431ba96537a5fd1d13fd",
       "style": "IPY_MODEL_449d9b66d4454f7d87aea537a9cdd7e1"
      }
     },
     "01319beb4b684cfa908a032ebb6efddc": {
      "model_module": "@jupyter-widgets/controls",
      "model_module_version": "1.5.0",
      "model_name": "DescriptionStyleModel",
      "state": {
       "description_width": ""
      }
     },
     "017119870e68489893c6974cce90a0b7": {
      "model_module": "@jupyter-widgets/base",
      "model_module_version": "1.2.0",
      "model_name": "LayoutModel",
      "state": {}
     },
     "02783ebaf16d4826839c56ea0e3e1882": {
      "model_module": "@jupyter-widgets/base",
      "model_module_version": "1.2.0",
      "model_name": "LayoutModel",
      "state": {}
     },
     "030a1eac2f304385949626c48b3ab862": {
      "model_module": "@jupyter-widgets/base",
      "model_module_version": "1.2.0",
      "model_name": "LayoutModel",
      "state": {}
     },
     "03238f32ec4440dbb08462b0dac2184e": {
      "model_module": "@jupyter-widgets/base",
      "model_module_version": "1.2.0",
      "model_name": "LayoutModel",
      "state": {}
     },
     "033c3471942748a589c04b4a21f4afa5": {
      "model_module": "@jupyter-widgets/base",
      "model_module_version": "1.2.0",
      "model_name": "LayoutModel",
      "state": {}
     },
     "03d077bf1b954ce296442ce96c0d0b21": {
      "model_module": "@jupyter-widgets/controls",
      "model_module_version": "1.5.0",
      "model_name": "ButtonStyleModel",
      "state": {}
     },
     "041dfd2820134019b37d5c46b7072e56": {
      "model_module": "@jupyter-widgets/base",
      "model_module_version": "1.2.0",
      "model_name": "LayoutModel",
      "state": {}
     },
     "04c0650330554eafa251d2ab5bc91f8f": {
      "model_module": "@jupyter-widgets/base",
      "model_module_version": "1.2.0",
      "model_name": "LayoutModel",
      "state": {}
     },
     "04f539a67a5944c492cddc65226251ec": {
      "model_module": "@jupyter-widgets/controls",
      "model_module_version": "1.5.0",
      "model_name": "ButtonModel",
      "state": {
       "button_style": "primary",
       "description": "Get screenshot",
       "layout": "IPY_MODEL_1b714b1d2e9b49ceb66b35f0d0f2aa00",
       "style": "IPY_MODEL_1dd05ad042cd44fa969628eeaeace512"
      }
     },
     "06398d2eb98b4359ab589604e4507646": {
      "model_module": "@jupyter-widgets/controls",
      "model_module_version": "1.5.0",
      "model_name": "HBoxModel",
      "state": {
       "children": [
        "IPY_MODEL_fe37e5a8f14f4ae98d9554fe0bc0d592",
        "IPY_MODEL_1002055f2e564e4aa3b2a9d25652c8bb"
       ],
       "layout": "IPY_MODEL_fa72facbee59403abc44926ebf50283e"
      }
     },
     "065c05ce9acc4c0b990b9f6d531e5d18": {
      "model_module": "@jupyter-widgets/controls",
      "model_module_version": "1.5.0",
      "model_name": "VBoxModel",
      "state": {
       "children": [
        "IPY_MODEL_3031703b847843d783c5d4fd14c89a85",
        "IPY_MODEL_45f4c905f6314703aeea1ced8c746434"
       ],
       "layout": "IPY_MODEL_3bb00f791e6042cfbb4a7ba387366b11"
      }
     },
     "06de83615aa5453082d236fbd21039f5": {
      "model_module": "@jupyter-widgets/base",
      "model_module_version": "1.2.0",
      "model_name": "LayoutModel",
      "state": {}
     },
     "07172284a0044a95bd38436fb97015f3": {
      "model_module": "@jupyter-widgets/controls",
      "model_module_version": "1.5.0",
      "model_name": "DescriptionStyleModel",
      "state": {
       "description_width": ""
      }
     },
     "07b35dacabfe479894be2c669c171a3f": {
      "model_module": "@jupyter-widgets/controls",
      "model_module_version": "1.5.0",
      "model_name": "VBoxModel",
      "state": {
       "children": [
        "IPY_MODEL_dbfb5ef5428a4eefa0f15ccb497d2249",
        "IPY_MODEL_c6dbce3a8af3489ab0a67b513c1a40d5"
       ],
       "layout": "IPY_MODEL_5f81f2cd18214d48b33d112b98831382"
      }
     },
     "07b64ede95114c8eb794ffe77e8794b8": {
      "model_module": "@jupyter-widgets/controls",
      "model_module_version": "1.5.0",
      "model_name": "DropdownModel",
      "state": {
       "_options_labels": [
        "---",
        "UK Web Archive",
        "National Library of Australia",
        "National Library of New Zealand",
        "Internet Archive"
       ],
       "description": "Archive:",
       "index": 2,
       "layout": "IPY_MODEL_3d094f19626f49f9b6086b7895f21933",
       "style": "IPY_MODEL_0db232342f0a4d7d9a0fdbdd0cffde47"
      }
     },
     "07e94713e0db4aae8391ea9fe04d4596": {
      "model_module": "@jupyter-widgets/base",
      "model_module_version": "1.2.0",
      "model_name": "LayoutModel",
      "state": {
       "padding": "20px"
      }
     },
     "080f87c61aa44280b643f167b3414e62": {
      "model_module": "@jupyter-widgets/controls",
      "model_module_version": "1.5.0",
      "model_name": "ButtonModel",
      "state": {
       "button_style": "primary",
       "description": "Get screenshot",
       "layout": "IPY_MODEL_f5d6c867a2a049048173c822eabd7bb2",
       "style": "IPY_MODEL_6acde2afe5c24766b5ad907f80db3700"
      }
     },
     "0888a271741f453cbb4f281f68b470b0": {
      "model_module": "@jupyter-widgets/base",
      "model_module_version": "1.2.0",
      "model_name": "LayoutModel",
      "state": {}
     },
     "08ce96699bca40b1b44cb001c151be42": {
      "model_module": "@jupyter-widgets/controls",
      "model_module_version": "1.5.0",
      "model_name": "HBoxModel",
      "state": {
       "children": [
        "IPY_MODEL_6e4f1e057c25482c9be1b444951e687d",
        "IPY_MODEL_bfc8cc4fe6444fca871bbabf25de8950"
       ],
       "layout": "IPY_MODEL_85d0e2d1b356405f954d32c70ccda533"
      }
     },
     "08f978ba3c57494bb6b400cb1a2494d0": {
      "model_module": "@jupyter-widgets/controls",
      "model_module_version": "1.5.0",
      "model_name": "SliderStyleModel",
      "state": {
       "description_width": ""
      }
     },
     "09a00dde63104e53bdb0d88c5e98f3e6": {
      "model_module": "@jupyter-widgets/controls",
      "model_module_version": "1.5.0",
      "model_name": "IntSliderModel",
      "state": {
       "continuous_update": false,
       "description": "Width:",
       "layout": "IPY_MODEL_873846d9b46f436a9bfc7c0102dc3665",
       "max": 1000,
       "min": 200,
       "step": 100,
       "style": "IPY_MODEL_d3d98451261e444f8bcbdc9c067a9da5",
       "value": 200
      }
     },
     "0a6e3e167bd74337ab1245a5835eb78c": {
      "model_module": "@jupyter-widgets/base",
      "model_module_version": "1.2.0",
      "model_name": "LayoutModel",
      "state": {}
     },
     "0b0280b257b24adebcf33d3d427f7360": {
      "model_module": "@jupyter-widgets/base",
      "model_module_version": "1.2.0",
      "model_name": "LayoutModel",
      "state": {}
     },
     "0b4f3d824e604ced867b46116ae86547": {
      "model_module": "@jupyter-widgets/base",
      "model_module_version": "1.2.0",
      "model_name": "LayoutModel",
      "state": {}
     },
     "0c16fd8c1fda4b4aa3184dc5d4a0c0b7": {
      "model_module": "@jupyter-widgets/base",
      "model_module_version": "1.2.0",
      "model_name": "LayoutModel",
      "state": {}
     },
     "0ca8029e746f4f33a7904e91474f3e91": {
      "model_module": "@jupyter-widgets/controls",
      "model_module_version": "1.5.0",
      "model_name": "SliderStyleModel",
      "state": {
       "description_width": ""
      }
     },
     "0d6105744f084ae586183b21374e9a5b": {
      "model_module": "@jupyter-widgets/controls",
      "model_module_version": "1.5.0",
      "model_name": "ButtonModel",
      "state": {
       "description": "Clear",
       "layout": "IPY_MODEL_945cea032a304f739ed7667e9ce5a42d",
       "style": "IPY_MODEL_3e0f67c6420941e78ae498da9d93a73a"
      }
     },
     "0db232342f0a4d7d9a0fdbdd0cffde47": {
      "model_module": "@jupyter-widgets/controls",
      "model_module_version": "1.5.0",
      "model_name": "DescriptionStyleModel",
      "state": {
       "description_width": ""
      }
     },
     "0df87d4e5d104b04857c933e3798e97e": {
      "model_module": "@jupyter-widgets/controls",
      "model_module_version": "1.5.0",
      "model_name": "ButtonStyleModel",
      "state": {}
     },
     "0ecdc5dcc81a41758699dafb548f6139": {
      "model_module": "@jupyter-widgets/controls",
      "model_module_version": "1.5.0",
      "model_name": "IntSliderModel",
      "state": {
       "continuous_update": false,
       "description": "Width:",
       "layout": "IPY_MODEL_a66c34b5c68046dfaf72cc2a95f0c838",
       "max": 1000,
       "min": 200,
       "step": 100,
       "style": "IPY_MODEL_b7924c0cfc2b4800b139c8af8f342966",
       "value": 200
      }
     },
     "0fa9fa7d25f24cc99e40138cff340eff": {
      "model_module": "@jupyter-widgets/base",
      "model_module_version": "1.2.0",
      "model_name": "LayoutModel",
      "state": {}
     },
     "1002055f2e564e4aa3b2a9d25652c8bb": {
      "model_module": "@jupyter-widgets/controls",
      "model_module_version": "1.5.0",
      "model_name": "VBoxModel",
      "state": {
       "children": [
        "IPY_MODEL_1598faa205a14818b015ac4a1a9ca9cd",
        "IPY_MODEL_8cde331115754f6e90a0b68feff04576"
       ],
       "layout": "IPY_MODEL_76ab070c0bb349e9b0adda560147420d"
      }
     },
     "10aa124c2bc54a38b37db0699133af8e": {
      "model_module": "@jupyter-widgets/base",
      "model_module_version": "1.2.0",
      "model_name": "LayoutModel",
      "state": {}
     },
     "10c773e14c6246cb88acc6c23b8a1b56": {
      "model_module": "@jupyter-widgets/output",
      "model_module_version": "1.0.0",
      "model_name": "OutputModel",
      "state": {
       "layout": "IPY_MODEL_e0e97ba3866840e7b1e54fd60bdf9cef",
       "outputs": [
        {
         "data": {
          "text/html": "<div style=\"float:left; margin-left: 20px;\"><p><b>4 January 2020</b><br><a href=\"https://ndhadeliver.natlib.govt.nz/webarchive/wayback/20200130060106if_/http://natlib.govt.nz/\">http://natlib.govt.nz</a></p><p><a href=\"screenshots/natlib-govt-nz-20200130060106-200.png\"><img src=\"screenshots/natlib-govt-nz-20200130060106-200.png\"></a></p></div><div style=\"float:left; margin-left: 20px;\"><p><b>4 January 2020</b><br><a href=\"https://ndhadeliver.natlib.govt.nz/webarchive/wayback/20200130060106if_/https://natlib.govt.nz/\">https://natlib.govt.nz</a></p><p><a href=\"screenshots/natlib-govt-nz-20200130060106-200.png\"><img src=\"screenshots/natlib-govt-nz-20200130060106-200.png\"></a></p></div>",
          "text/plain": "<IPython.core.display.HTML object>"
         },
         "metadata": {},
         "output_type": "display_data"
        }
       ]
      }
     },
     "10eff4b78492488aae8346624950ab50": {
      "model_module": "@jupyter-widgets/base",
      "model_module_version": "1.2.0",
      "model_name": "LayoutModel",
      "state": {}
     },
     "110b98881ee24bc997847b9cd4a064e4": {
      "model_module": "@jupyter-widgets/base",
      "model_module_version": "1.2.0",
      "model_name": "LayoutModel",
      "state": {}
     },
     "136e06aac36c439e8e705c13bac326ce": {
      "model_module": "@jupyter-widgets/controls",
      "model_module_version": "1.5.0",
      "model_name": "ButtonStyleModel",
      "state": {}
     },
     "13bf3b53c1f84718b8812279f8ab03e6": {
      "model_module": "@jupyter-widgets/controls",
      "model_module_version": "1.5.0",
      "model_name": "TextModel",
      "state": {
       "description": "Target URL:",
       "layout": "IPY_MODEL_8f07021ca9d544e3912d8c78e66fc28b",
       "style": "IPY_MODEL_6cc4f54c59a545a48f248ff6beb2a8ac",
       "value": "http://bl.uk"
      }
     },
     "13c0b9cfc7ab46fc8532134faba95e26": {
      "model_module": "@jupyter-widgets/controls",
      "model_module_version": "1.5.0",
      "model_name": "DropdownModel",
      "state": {
       "_options_labels": [
        "---",
        "UK Web Archive",
        "National Library of Australia",
        "National Library of New Zealand",
        "Internet Archive"
       ],
       "description": "Archive:",
       "index": 3,
       "layout": "IPY_MODEL_b36835f399304a76915bb218695f506a",
       "style": "IPY_MODEL_c42122b95ae548caa602d9aff05185b7"
      }
     },
     "14a2b2ea4355431ba96537a5fd1d13fd": {
      "model_module": "@jupyter-widgets/base",
      "model_module_version": "1.2.0",
      "model_name": "LayoutModel",
      "state": {}
     },
     "14ced59a76794de48f6ae88d2c237c5d": {
      "model_module": "@jupyter-widgets/controls",
      "model_module_version": "1.5.0",
      "model_name": "VBoxModel",
      "state": {
       "children": [
        "IPY_MODEL_c657d488ae234dae9ad82825cc939f0d",
        "IPY_MODEL_012f95c721094fd0a8ba9823d3194313"
       ],
       "layout": "IPY_MODEL_04c0650330554eafa251d2ab5bc91f8f"
      }
     },
     "15294f7d950c4a52bff7dd71489467e2": {
      "model_module": "@jupyter-widgets/base",
      "model_module_version": "1.2.0",
      "model_name": "LayoutModel",
      "state": {}
     },
     "1558c74540694bc99a167d73de7f160a": {
      "model_module": "@jupyter-widgets/base",
      "model_module_version": "1.2.0",
      "model_name": "LayoutModel",
      "state": {}
     },
     "1598faa205a14818b015ac4a1a9ca9cd": {
      "model_module": "@jupyter-widgets/controls",
      "model_module_version": "1.5.0",
      "model_name": "TextModel",
      "state": {
       "description": "Target URL:",
       "layout": "IPY_MODEL_809dfc19f9fb4c4886edad797dcb7524",
       "style": "IPY_MODEL_07172284a0044a95bd38436fb97015f3",
       "value": "https://natlib.govt.nz"
      }
     },
     "16366d1e3e8f41e3a2c4390097b0dec4": {
      "model_module": "@jupyter-widgets/base",
      "model_module_version": "1.2.0",
      "model_name": "LayoutModel",
      "state": {}
     },
     "16b66464388c4e1296e715752a25da89": {
      "model_module": "@jupyter-widgets/controls",
      "model_module_version": "1.5.0",
      "model_name": "DescriptionStyleModel",
      "state": {
       "description_width": ""
      }
     },
     "16fd236839204d05bacd5eca394468f2": {
      "model_module": "@jupyter-widgets/base",
      "model_module_version": "1.2.0",
      "model_name": "LayoutModel",
      "state": {}
     },
     "17b782e4e2244ffc8b6fdeb23fecaf3b": {
      "model_module": "@jupyter-widgets/controls",
      "model_module_version": "1.5.0",
      "model_name": "SliderStyleModel",
      "state": {
       "description_width": ""
      }
     },
     "17f8abf5d73b49ab8fb3fe97d3dce281": {
      "model_module": "@jupyter-widgets/base",
      "model_module_version": "1.2.0",
      "model_name": "LayoutModel",
      "state": {}
     },
     "1832c7d1eeee4af1903dd99683f743c5": {
      "model_module": "@jupyter-widgets/base",
      "model_module_version": "1.2.0",
      "model_name": "LayoutModel",
      "state": {}
     },
     "1832ceda236049fba370124063a6a309": {
      "model_module": "@jupyter-widgets/base",
      "model_module_version": "1.2.0",
      "model_name": "LayoutModel",
      "state": {}
     },
     "185f4fa755404710866c42dfcd84da1c": {
      "model_module": "@jupyter-widgets/controls",
      "model_module_version": "1.5.0",
      "model_name": "VBoxModel",
      "state": {
       "children": [
        "IPY_MODEL_8e20f7fcef244086af2768c7e997e5e0",
        "IPY_MODEL_0ecdc5dcc81a41758699dafb548f6139"
       ],
       "layout": "IPY_MODEL_af718d50a41245ef98eebeb7df6daa12"
      }
     },
     "18e8e480ad954b0082ef3adf77264e0e": {
      "model_module": "@jupyter-widgets/controls",
      "model_module_version": "1.5.0",
      "model_name": "VBoxModel",
      "state": {
       "children": [
        "IPY_MODEL_07b64ede95114c8eb794ffe77e8794b8",
        "IPY_MODEL_6d4cca5fca334d7387d6c76fe0c85281"
       ],
       "layout": "IPY_MODEL_980c6580d7ce4519a5f10041e7350f6c"
      }
     },
     "1947f5728c5946c0979f61aa90732b6b": {
      "model_module": "@jupyter-widgets/controls",
      "model_module_version": "1.5.0",
      "model_name": "HBoxModel",
      "state": {
       "children": [
        "IPY_MODEL_cb18c442bc8f41a1a3c2c085f113af8a",
        "IPY_MODEL_d0bcc94b94a54dd78f502f7867fca587"
       ],
       "layout": "IPY_MODEL_9ec7c86a51dc442fab4f37776b144dff"
      }
     },
     "1b714b1d2e9b49ceb66b35f0d0f2aa00": {
      "model_module": "@jupyter-widgets/base",
      "model_module_version": "1.2.0",
      "model_name": "LayoutModel",
      "state": {}
     },
     "1bc3d062aaa84ff2affd342b46399d0e": {
      "model_module": "@jupyter-widgets/base",
      "model_module_version": "1.2.0",
      "model_name": "LayoutModel",
      "state": {}
     },
     "1cb3fc0816dc4e9ca43d44df19e8e98d": {
      "model_module": "@jupyter-widgets/base",
      "model_module_version": "1.2.0",
      "model_name": "LayoutModel",
      "state": {}
     },
     "1d8127bea6a64830b845e33b28d33ca1": {
      "model_module": "@jupyter-widgets/controls",
      "model_module_version": "1.5.0",
      "model_name": "ButtonModel",
      "state": {
       "description": "Clear all",
       "layout": "IPY_MODEL_3754329c5449408c822e9120f1bc62f0",
       "style": "IPY_MODEL_599207e70e76499c9e4ca9411e7f413e"
      }
     },
     "1dd05ad042cd44fa969628eeaeace512": {
      "model_module": "@jupyter-widgets/controls",
      "model_module_version": "1.5.0",
      "model_name": "ButtonStyleModel",
      "state": {}
     },
     "1e0ca94e4dce4006843c8985c92d9b99": {
      "model_module": "@jupyter-widgets/controls",
      "model_module_version": "1.5.0",
      "model_name": "ButtonStyleModel",
      "state": {}
     },
     "1f5b83f035ac4e4f9f17a63ccbf9fc0d": {
      "model_module": "@jupyter-widgets/controls",
      "model_module_version": "1.5.0",
      "model_name": "ButtonStyleModel",
      "state": {}
     },
     "1f611bfb3f394c0f8d1cb6bef01dc0a1": {
      "model_module": "@jupyter-widgets/controls",
      "model_module_version": "1.5.0",
      "model_name": "HBoxModel",
      "state": {
       "children": [
        "IPY_MODEL_a7d69e8a420b42338f2aac08a8a3985b",
        "IPY_MODEL_cc54e9ae3db846f79a8c68948ccdd8b8",
        "IPY_MODEL_bcb49fa7951e4592848b6b548f322048"
       ],
       "layout": "IPY_MODEL_7e9575ca442c42e3a1cda2bbd43d872c"
      }
     },
     "1fc2b7a059aa497881977256cbfbd2ad": {
      "model_module": "@jupyter-widgets/base",
      "model_module_version": "1.2.0",
      "model_name": "LayoutModel",
      "state": {}
     },
     "1fe04b0268b942f69e0beb6053caa64d": {
      "model_module": "@jupyter-widgets/base",
      "model_module_version": "1.2.0",
      "model_name": "LayoutModel",
      "state": {}
     },
     "2005151138664424baa4112ae8202e29": {
      "model_module": "@jupyter-widgets/controls",
      "model_module_version": "1.5.0",
      "model_name": "HBoxModel",
      "state": {
       "children": [
        "IPY_MODEL_9f5388f28c0e4a5189a47cda3ba9d533",
        "IPY_MODEL_0d6105744f084ae586183b21374e9a5b"
       ],
       "layout": "IPY_MODEL_b5f026fa28cc4338b1509e0764bcc306"
      }
     },
     "2008f51d81e64216afdcc5ad45123f81": {
      "model_module": "@jupyter-widgets/controls",
      "model_module_version": "1.5.0",
      "model_name": "DescriptionStyleModel",
      "state": {
       "description_width": ""
      }
     },
     "201bf2ca170b4a9ea9a89bdd92a924b4": {
      "model_module": "@jupyter-widgets/controls",
      "model_module_version": "1.5.0",
      "model_name": "HBoxModel",
      "state": {
       "children": [
        "IPY_MODEL_74b4a85e1ada4c54a84d53fee1ccc8e8",
        "IPY_MODEL_37413841e141428ebdca225a9b8eddab"
       ],
       "layout": "IPY_MODEL_7edae328719d46928bd797dff5992f93"
      }
     },
     "20ff317ee4574933b6bac3540b55d6b6": {
      "model_module": "@jupyter-widgets/controls",
      "model_module_version": "1.5.0",
      "model_name": "ButtonModel",
      "state": {
       "button_style": "primary",
       "description": "Get screenshot",
       "layout": "IPY_MODEL_4f5c9e316db64c96813d189c1367aded",
       "style": "IPY_MODEL_5a39c8dfd36844e89949852374cfdf96"
      }
     },
     "21721eb6e36d40d8a0c841d4eeb2ab6c": {
      "model_module": "@jupyter-widgets/base",
      "model_module_version": "1.2.0",
      "model_name": "LayoutModel",
      "state": {}
     },
     "21973a27be7e46cfbe86983c5c62aeaa": {
      "model_module": "@jupyter-widgets/base",
      "model_module_version": "1.2.0",
      "model_name": "LayoutModel",
      "state": {}
     },
     "22f60728b6ac4f34b5b674e8d8e0f39c": {
      "model_module": "@jupyter-widgets/base",
      "model_module_version": "1.2.0",
      "model_name": "LayoutModel",
      "state": {}
     },
     "2459591a85e447a48261f9401a728e60": {
      "model_module": "@jupyter-widgets/controls",
      "model_module_version": "1.5.0",
      "model_name": "ButtonStyleModel",
      "state": {}
     },
     "246cb5c167ae463baaa2e7f012db8fcd": {
      "model_module": "@jupyter-widgets/controls",
      "model_module_version": "1.5.0",
      "model_name": "ButtonModel",
      "state": {
       "description": "Clear",
       "layout": "IPY_MODEL_c4d98fa6910f4c62862115b61cbcb15c",
       "style": "IPY_MODEL_350d49ac58734c829d2ff563136e15f6"
      }
     },
     "24bc4ee57672410290bd9d556676d931": {
      "model_module": "@jupyter-widgets/controls",
      "model_module_version": "1.5.0",
      "model_name": "VBoxModel",
      "state": {
       "children": [
        "IPY_MODEL_e650a5c88a4e4bc4ae2af7f751a8eda1",
        "IPY_MODEL_690ead0d38624a69abd08c1c4b3a5322"
       ],
       "layout": "IPY_MODEL_4c13d2d279164960b40bf9b2772dcb25"
      }
     },
     "24c6a9a14dbe4609bc927748b8cb8cff": {
      "model_module": "@jupyter-widgets/base",
      "model_module_version": "1.2.0",
      "model_name": "LayoutModel",
      "state": {}
     },
     "26d8c7090fb44c91a3a14aeab76cea44": {
      "model_module": "@jupyter-widgets/base",
      "model_module_version": "1.2.0",
      "model_name": "LayoutModel",
      "state": {}
     },
     "26e57465f03a43fc8d126adc54f2e439": {
      "model_module": "@jupyter-widgets/controls",
      "model_module_version": "1.5.0",
      "model_name": "DescriptionStyleModel",
      "state": {
       "description_width": ""
      }
     },
     "270c9c599ea946f1b172b5170e057590": {
      "model_module": "@jupyter-widgets/base",
      "model_module_version": "1.2.0",
      "model_name": "LayoutModel",
      "state": {}
     },
     "270e86c71d544e83abca909b45d2f11c": {
      "model_module": "@jupyter-widgets/controls",
      "model_module_version": "1.5.0",
      "model_name": "DropdownModel",
      "state": {
       "_options_labels": [
        "---",
        "UK Web Archive",
        "National Library of Australia",
        "National Library of New Zealand",
        "Internet Archive"
       ],
       "description": "Archive:",
       "index": 1,
       "layout": "IPY_MODEL_0b4f3d824e604ced867b46116ae86547",
       "style": "IPY_MODEL_6a5d0c7b027242b2bae6b46484778c3c"
      }
     },
     "276b63706ab0443e9bac887e872a80f8": {
      "model_module": "@jupyter-widgets/controls",
      "model_module_version": "1.5.0",
      "model_name": "DescriptionStyleModel",
      "state": {
       "description_width": ""
      }
     },
     "27ceab0ee5b14ab18c8ec2fdd3660fe6": {
      "model_module": "@jupyter-widgets/base",
      "model_module_version": "1.2.0",
      "model_name": "LayoutModel",
      "state": {}
     },
     "28e33f3f142548f685d5ee45e601d59a": {
      "model_module": "@jupyter-widgets/base",
      "model_module_version": "1.2.0",
      "model_name": "LayoutModel",
      "state": {}
     },
     "29a7fa0774a14b7786a2bae9c67dfe6d": {
      "model_module": "@jupyter-widgets/controls",
      "model_module_version": "1.5.0",
      "model_name": "DescriptionStyleModel",
      "state": {
       "description_width": ""
      }
     },
     "29bda28c8f104bdc916f05c8f533e2e5": {
      "model_module": "@jupyter-widgets/output",
      "model_module_version": "1.0.0",
      "model_name": "OutputModel",
      "state": {
       "layout": "IPY_MODEL_e3acb47b36304fe697ee6923e8c975f0",
       "outputs": [
        {
         "data": {
          "text/html": "<div style=\"float:left; margin-left: 20px;\"><p><b>5 January 2016</b><br><a href=\"https://www.webarchive.org.uk/wayback/archive/20160101010000mp_/http://bl.uk/\">http://bl.uk</a></p><p><a href=\"screenshots/bl-uk-20160101010000-200.png\"><img src=\"screenshots/bl-uk-20160101010000-200.png\"></a><br><a href=\"screenshots/bl-uk-20160101010000-200.png\">[Download]</a></p></div>",
          "text/plain": "<IPython.core.display.HTML object>"
         },
         "metadata": {},
         "output_type": "display_data"
        }
       ]
      }
     },
     "2a4610d7e5dc4a068a30cba9852c33e7": {
      "model_module": "@jupyter-widgets/controls",
      "model_module_version": "1.5.0",
      "model_name": "DescriptionStyleModel",
      "state": {
       "description_width": ""
      }
     },
     "2abc2b3fcfba4c629d6156bc08251291": {
      "model_module": "@jupyter-widgets/controls",
      "model_module_version": "1.5.0",
      "model_name": "VBoxModel",
      "state": {
       "children": [
        "IPY_MODEL_ce0561b92ccb4263aa04025b6b4beffe",
        "IPY_MODEL_d394e1d319944ac3a7849c7e27bdbd40"
       ],
       "layout": "IPY_MODEL_38d96cc1626f46489698c977344a42c0"
      }
     },
     "2b2353a3bb3e443eac44eaa0cffd7d96": {
      "model_module": "@jupyter-widgets/controls",
      "model_module_version": "1.5.0",
      "model_name": "TextModel",
      "state": {
       "description": "Target URL:",
       "layout": "IPY_MODEL_4c29e534244c4f659e596075492320c7",
       "style": "IPY_MODEL_87926a01e271430882dc111df71db649",
       "value": "https://bl.uk"
      }
     },
     "2b75b6f517fa40b7b0aca2ea9b839fcc": {
      "model_module": "@jupyter-widgets/controls",
      "model_module_version": "1.5.0",
      "model_name": "DatePickerModel",
      "state": {
       "description": "Target date: ",
       "disabled": false,
       "layout": "IPY_MODEL_16fd236839204d05bacd5eca394468f2",
       "style": "IPY_MODEL_53da0477c2e04e3bbe48fd086231da58",
       "value": {
        "date": 1,
        "month": 0,
        "year": 2015
       }
      }
     },
     "2b7d4ffb819348b8b68249bc57bf116b": {
      "model_module": "@jupyter-widgets/base",
      "model_module_version": "1.2.0",
      "model_name": "LayoutModel",
      "state": {}
     },
     "2c11e0caa34d4620b6512308899526d2": {
      "model_module": "@jupyter-widgets/base",
      "model_module_version": "1.2.0",
      "model_name": "LayoutModel",
      "state": {}
     },
     "2c37fd6cc1064e94905af6488e25b7e7": {
      "model_module": "@jupyter-widgets/controls",
      "model_module_version": "1.5.0",
      "model_name": "ButtonModel",
      "state": {
       "description": "Clear",
       "layout": "IPY_MODEL_110b98881ee24bc997847b9cd4a064e4",
       "style": "IPY_MODEL_2459591a85e447a48261f9401a728e60"
      }
     },
     "2c665fcbc2be46b1bae473781e4be92e": {
      "model_module": "@jupyter-widgets/controls",
      "model_module_version": "1.5.0",
      "model_name": "ButtonModel",
      "state": {
       "description": "Clear all",
       "layout": "IPY_MODEL_4b90e6944eea4f6d8aca06903def9b73",
       "style": "IPY_MODEL_7a35c0d014e4400c9f9ea07dd2e208f6"
      }
     },
     "2cd90f34df6e420a935705b45762ff8f": {
      "model_module": "@jupyter-widgets/controls",
      "model_module_version": "1.5.0",
      "model_name": "ButtonStyleModel",
      "state": {}
     },
     "2d575f48cc6248f1ab63159635508b3c": {
      "model_module": "@jupyter-widgets/controls",
      "model_module_version": "1.5.0",
      "model_name": "TextModel",
      "state": {
       "description": "Target URL:",
       "layout": "IPY_MODEL_6466cccca61644718a454b05ebf12d9d",
       "style": "IPY_MODEL_dd3baa2f0c094e11b9a4e22b3096b52a",
       "value": "https://natlib.govt.nz"
      }
     },
     "2e2b1c88bef1454bb1b2560ab6aad420": {
      "model_module": "@jupyter-widgets/output",
      "model_module_version": "1.0.0",
      "model_name": "OutputModel",
      "state": {
       "layout": "IPY_MODEL_02783ebaf16d4826839c56ea0e3e1882",
       "outputs": [
        {
         "data": {
          "text/html": "<div style=\"float:left; margin-left: 20px;\"><p><b>4 May 2020</b><br><b>http://bl.uk</b></p><p><a href=\"screenshots/bl-uk-20200507020000-200.png\"><img src=\"screenshots/bl-uk-20200507020000-200.png\"></a></p></div><div style=\"float:left; margin-left: 20px;\"><p><b>4 May 2020</b><br><b>http://bl.uk</b></p><p><a href=\"screenshots/bl-uk-20200507020000-200.png\"><img src=\"screenshots/bl-uk-20200507020000-200.png\"></a></p></div>",
          "text/plain": "<IPython.core.display.HTML object>"
         },
         "metadata": {},
         "output_type": "display_data"
        }
       ]
      }
     },
     "2e34b5a51af749419e0ecdfc64fe30d3": {
      "model_module": "@jupyter-widgets/base",
      "model_module_version": "1.2.0",
      "model_name": "LayoutModel",
      "state": {}
     },
     "2e66b2d51092433abb2f3ee0a16ac7da": {
      "model_module": "@jupyter-widgets/base",
      "model_module_version": "1.2.0",
      "model_name": "LayoutModel",
      "state": {}
     },
     "2e87134116184d7eb338352b227cc098": {
      "model_module": "@jupyter-widgets/base",
      "model_module_version": "1.2.0",
      "model_name": "LayoutModel",
      "state": {}
     },
     "2e9f3a291a854b119ca277458f837be7": {
      "model_module": "@jupyter-widgets/controls",
      "model_module_version": "1.5.0",
      "model_name": "DatePickerModel",
      "state": {
       "description": "Target date: ",
       "disabled": false,
       "layout": "IPY_MODEL_fc73d764271543ed82fb823960e0f0bd",
       "style": "IPY_MODEL_7b750dc4fe5140719d36ff4f44846f70"
      }
     },
     "2ef5025497b34d658d349a20ad3e3031": {
      "model_module": "@jupyter-widgets/base",
      "model_module_version": "1.2.0",
      "model_name": "LayoutModel",
      "state": {}
     },
     "2f004421c06843329311801b95c27e6c": {
      "model_module": "@jupyter-widgets/base",
      "model_module_version": "1.2.0",
      "model_name": "LayoutModel",
      "state": {}
     },
     "2f93b757973f4c41a666a12aeafc6858": {
      "model_module": "@jupyter-widgets/controls",
      "model_module_version": "1.5.0",
      "model_name": "TextModel",
      "state": {
       "description": "Target URL:",
       "layout": "IPY_MODEL_5012a73071a743b3a00517bba09b1ddb",
       "style": "IPY_MODEL_a53f927d965348adae734afe0d2a1bd1",
       "value": "http://nla.gov.au"
      }
     },
     "3031703b847843d783c5d4fd14c89a85": {
      "model_module": "@jupyter-widgets/controls",
      "model_module_version": "1.5.0",
      "model_name": "TextModel",
      "state": {
       "description": "Target URL:",
       "layout": "IPY_MODEL_607c13a9e88843ab99bf9b31248ff8ac",
       "style": "IPY_MODEL_01319beb4b684cfa908a032ebb6efddc"
      }
     },
     "3058b7ba685c445cbb73429244413930": {
      "model_module": "@jupyter-widgets/controls",
      "model_module_version": "1.5.0",
      "model_name": "DropdownModel",
      "state": {
       "_options_labels": [
        "---",
        "UK Web Archive",
        "National Library of Australia",
        "National Library of New Zealand",
        "Internet Archive"
       ],
       "description": "Archive:",
       "index": 0,
       "layout": "IPY_MODEL_1558c74540694bc99a167d73de7f160a",
       "style": "IPY_MODEL_a231877b708b4e5d8bb9a4ca750e821e"
      }
     },
     "30d19c409fe74d4eb98aada74c2669f4": {
      "model_module": "@jupyter-widgets/controls",
      "model_module_version": "1.5.0",
      "model_name": "DescriptionStyleModel",
      "state": {
       "description_width": ""
      }
     },
     "31e249c0fd5647d7ba6b4090065db981": {
      "model_module": "@jupyter-widgets/controls",
      "model_module_version": "1.5.0",
      "model_name": "ButtonStyleModel",
      "state": {}
     },
     "33524f692b8f43a6a92adb3ea35ac57f": {
      "model_module": "@jupyter-widgets/controls",
      "model_module_version": "1.5.0",
      "model_name": "TextModel",
      "state": {
       "description": "Target URL:",
       "layout": "IPY_MODEL_21973a27be7e46cfbe86983c5c62aeaa",
       "style": "IPY_MODEL_9e2184ec15864392b9f5b04caf84108c",
       "value": "https://natlib.govt.nz"
      }
     },
     "34885f7c6aeb46fc9fbefa48560d72c9": {
      "model_module": "@jupyter-widgets/controls",
      "model_module_version": "1.5.0",
      "model_name": "DescriptionStyleModel",
      "state": {
       "description_width": ""
      }
     },
     "348e49ccc3514c34a3e7f7d974f552a0": {
      "model_module": "@jupyter-widgets/base",
      "model_module_version": "1.2.0",
      "model_name": "LayoutModel",
      "state": {}
     },
     "350d49ac58734c829d2ff563136e15f6": {
      "model_module": "@jupyter-widgets/controls",
      "model_module_version": "1.5.0",
      "model_name": "ButtonStyleModel",
      "state": {}
     },
     "3540a2eecb404e90ae2b35eb08c773bb": {
      "model_module": "@jupyter-widgets/base",
      "model_module_version": "1.2.0",
      "model_name": "LayoutModel",
      "state": {}
     },
     "35ed6a13706b4d478c75b279a9b4db2b": {
      "model_module": "@jupyter-widgets/controls",
      "model_module_version": "1.5.0",
      "model_name": "ButtonStyleModel",
      "state": {}
     },
     "36377088c8134094b03a9343029632a0": {
      "model_module": "@jupyter-widgets/controls",
      "model_module_version": "1.5.0",
      "model_name": "TextModel",
      "state": {
       "description": "Target URL:",
       "layout": "IPY_MODEL_4bd8f31d358d4838b7adeacf47487f7d",
       "style": "IPY_MODEL_c431a771c13a41a3b46e74b85a0b16db",
       "value": "http://abc.net.au"
      }
     },
     "37413841e141428ebdca225a9b8eddab": {
      "model_module": "@jupyter-widgets/controls",
      "model_module_version": "1.5.0",
      "model_name": "VBoxModel",
      "state": {
       "children": [
        "IPY_MODEL_eaff707ce2bb4bbaa1235f82439c0b83",
        "IPY_MODEL_ba8951ae276e45ec91b92d6b8f4de6b6"
       ],
       "layout": "IPY_MODEL_0b0280b257b24adebcf33d3d427f7360"
      }
     },
     "3754329c5449408c822e9120f1bc62f0": {
      "model_module": "@jupyter-widgets/base",
      "model_module_version": "1.2.0",
      "model_name": "LayoutModel",
      "state": {}
     },
     "37a5360b09894ea9b78830c72081be59": {
      "model_module": "@jupyter-widgets/base",
      "model_module_version": "1.2.0",
      "model_name": "LayoutModel",
      "state": {}
     },
     "3878a1a638274c1d98dd5914680427a2": {
      "model_module": "@jupyter-widgets/controls",
      "model_module_version": "1.5.0",
      "model_name": "DescriptionStyleModel",
      "state": {
       "description_width": ""
      }
     },
     "38d96cc1626f46489698c977344a42c0": {
      "model_module": "@jupyter-widgets/base",
      "model_module_version": "1.2.0",
      "model_name": "LayoutModel",
      "state": {}
     },
     "39060bc79f544ece89aa9bf9af4d8f2e": {
      "model_module": "@jupyter-widgets/controls",
      "model_module_version": "1.5.0",
      "model_name": "VBoxModel",
      "state": {
       "children": [
        "IPY_MODEL_a766a02b80374155883572885cb30e55",
        "IPY_MODEL_09a00dde63104e53bdb0d88c5e98f3e6"
       ],
       "layout": "IPY_MODEL_2e66b2d51092433abb2f3ee0a16ac7da"
      }
     },
     "39a69c8d5309484e8ef6a662cee165fc": {
      "model_module": "@jupyter-widgets/base",
      "model_module_version": "1.2.0",
      "model_name": "LayoutModel",
      "state": {
       "padding": "20px"
      }
     },
     "3b7b7a0499a94a7bb2980c5333a1f351": {
      "model_module": "@jupyter-widgets/base",
      "model_module_version": "1.2.0",
      "model_name": "LayoutModel",
      "state": {}
     },
     "3b88db0df8d84fad888443a17df469a1": {
      "model_module": "@jupyter-widgets/base",
      "model_module_version": "1.2.0",
      "model_name": "LayoutModel",
      "state": {}
     },
     "3bb00f791e6042cfbb4a7ba387366b11": {
      "model_module": "@jupyter-widgets/base",
      "model_module_version": "1.2.0",
      "model_name": "LayoutModel",
      "state": {}
     },
     "3cfb279918d9404e8d9c4fd593c7e71e": {
      "model_module": "@jupyter-widgets/base",
      "model_module_version": "1.2.0",
      "model_name": "LayoutModel",
      "state": {}
     },
     "3d094f19626f49f9b6086b7895f21933": {
      "model_module": "@jupyter-widgets/base",
      "model_module_version": "1.2.0",
      "model_name": "LayoutModel",
      "state": {}
     },
     "3d85bc0032ad42079cc6bcea554f0979": {
      "model_module": "@jupyter-widgets/controls",
      "model_module_version": "1.5.0",
      "model_name": "DropdownModel",
      "state": {
       "_options_labels": [
        "---",
        "UK Web Archive",
        "National Library of Australia",
        "National Library of New Zealand",
        "Internet Archive"
       ],
       "description": "Archive:",
       "index": 3,
       "layout": "IPY_MODEL_9aefc1ff8ed74ebd9921c3aa46f7fe46",
       "style": "IPY_MODEL_26e57465f03a43fc8d126adc54f2e439"
      }
     },
     "3e073500143f4fd4aa5431f09f1693a8": {
      "model_module": "@jupyter-widgets/base",
      "model_module_version": "1.2.0",
      "model_name": "LayoutModel",
      "state": {}
     },
     "3e0f67c6420941e78ae498da9d93a73a": {
      "model_module": "@jupyter-widgets/controls",
      "model_module_version": "1.5.0",
      "model_name": "ButtonStyleModel",
      "state": {}
     },
     "3e881ed9f6b94baa8bf95cc4f5cc46c2": {
      "model_module": "@jupyter-widgets/controls",
      "model_module_version": "1.5.0",
      "model_name": "HBoxModel",
      "state": {
       "children": [
        "IPY_MODEL_04f539a67a5944c492cddc65226251ec",
        "IPY_MODEL_1d8127bea6a64830b845e33b28d33ca1",
        "IPY_MODEL_564b3d09979645748c562290988e517a"
       ],
       "layout": "IPY_MODEL_915ec93946af438e959c36a36aa88cde"
      }
     },
     "3f8c5aa4931c45c6b3f81aaa58110871": {
      "model_module": "@jupyter-widgets/controls",
      "model_module_version": "1.5.0",
      "model_name": "DatePickerModel",
      "state": {
       "description": "Target date: ",
       "disabled": false,
       "layout": "IPY_MODEL_033c3471942748a589c04b4a21f4afa5",
       "style": "IPY_MODEL_40613ccaef564c339bd7bdb985059d3a"
      }
     },
     "3f921fa94a564b829922bb0457247066": {
      "model_module": "@jupyter-widgets/controls",
      "model_module_version": "1.5.0",
      "model_name": "DropdownModel",
      "state": {
       "_options_labels": [
        "---",
        "UK Web Archive",
        "National Library of Australia",
        "National Library of New Zealand",
        "Internet Archive"
       ],
       "description": "Archive:",
       "index": 1,
       "layout": "IPY_MODEL_017119870e68489893c6974cce90a0b7",
       "style": "IPY_MODEL_a133be3487fb46eca37cb4ea8c0beb04"
      }
     },
     "400d0a185c354991a874b9c55e51a239": {
      "model_module": "@jupyter-widgets/controls",
      "model_module_version": "1.5.0",
      "model_name": "DropdownModel",
      "state": {
       "_options_labels": [
        "---",
        "UK Web Archive",
        "National Library of Australia",
        "National Library of New Zealand",
        "Internet Archive"
       ],
       "description": "Archive:",
       "index": 1,
       "layout": "IPY_MODEL_5624ffb8f13f449ca75c19951968f8a0",
       "style": "IPY_MODEL_e43d04f8e40a4b6ba23f7923c7a19b79"
      }
     },
     "40613ccaef564c339bd7bdb985059d3a": {
      "model_module": "@jupyter-widgets/controls",
      "model_module_version": "1.5.0",
      "model_name": "DescriptionStyleModel",
      "state": {
       "description_width": ""
      }
     },
     "414f1db9e9274606acf53c970d9fe409": {
      "model_module": "@jupyter-widgets/base",
      "model_module_version": "1.2.0",
      "model_name": "LayoutModel",
      "state": {}
     },
     "447ee944dcfd46728d8341ab83d6759e": {
      "model_module": "@jupyter-widgets/controls",
      "model_module_version": "1.5.0",
      "model_name": "ButtonStyleModel",
      "state": {}
     },
     "449d9b66d4454f7d87aea537a9cdd7e1": {
      "model_module": "@jupyter-widgets/controls",
      "model_module_version": "1.5.0",
      "model_name": "DescriptionStyleModel",
      "state": {
       "description_width": ""
      }
     },
     "45d70afbdc4b4f1c849625dc4db7d7a5": {
      "model_module": "@jupyter-widgets/controls",
      "model_module_version": "1.5.0",
      "model_name": "DropdownModel",
      "state": {
       "_options_labels": [
        "---",
        "UK Web Archive",
        "National Library of Australia",
        "National Library of New Zealand",
        "Internet Archive"
       ],
       "description": "Archive:",
       "index": 1,
       "layout": "IPY_MODEL_041dfd2820134019b37d5c46b7072e56",
       "style": "IPY_MODEL_d8d48c2e51ab4f00a1f6fc00a862e87d"
      }
     },
     "45deeffad1f84a89a5efda9e2ca9656b": {
      "model_module": "@jupyter-widgets/controls",
      "model_module_version": "1.5.0",
      "model_name": "ButtonModel",
      "state": {
       "description": "Clear",
       "layout": "IPY_MODEL_f10b5fc9925a48668de0618c04d99576",
       "style": "IPY_MODEL_ac966504f17b4799b2cf6e3e67267e61"
      }
     },
     "45f4c905f6314703aeea1ced8c746434": {
      "model_module": "@jupyter-widgets/controls",
      "model_module_version": "1.5.0",
      "model_name": "IntSliderModel",
      "state": {
       "continuous_update": false,
       "description": "Width:",
       "layout": "IPY_MODEL_1fe04b0268b942f69e0beb6053caa64d",
       "max": 1000,
       "min": 200,
       "step": 100,
       "style": "IPY_MODEL_9505c7a96f364820b83460ca557d6111",
       "value": 200
      }
     },
     "474f6bc1bf334d1a9d187af0a343b70e": {
      "model_module": "@jupyter-widgets/controls",
      "model_module_version": "1.5.0",
      "model_name": "SliderStyleModel",
      "state": {
       "description_width": ""
      }
     },
     "480debf1335445bf836c60309bad4afa": {
      "model_module": "@jupyter-widgets/controls",
      "model_module_version": "1.5.0",
      "model_name": "ButtonModel",
      "state": {
       "button_style": "primary",
       "description": "Get screenshot",
       "layout": "IPY_MODEL_2e87134116184d7eb338352b227cc098",
       "style": "IPY_MODEL_136e06aac36c439e8e705c13bac326ce"
      }
     },
     "483bbbd278f14aac9412a387e81113f7": {
      "model_module": "@jupyter-widgets/controls",
      "model_module_version": "1.5.0",
      "model_name": "ButtonModel",
      "state": {
       "button_style": "primary",
       "description": "Get screenshot",
       "layout": "IPY_MODEL_c8ce3990580d4ade9abccd01f5111f1a",
       "style": "IPY_MODEL_649e15ed7bf64bfb85737e49765ccf19"
      }
     },
     "485856836ed84a7e98076d4c6d036093": {
      "model_module": "@jupyter-widgets/controls",
      "model_module_version": "1.5.0",
      "model_name": "DescriptionStyleModel",
      "state": {
       "description_width": ""
      }
     },
     "490b06f2cf364e73b195a07536b05d28": {
      "model_module": "@jupyter-widgets/base",
      "model_module_version": "1.2.0",
      "model_name": "LayoutModel",
      "state": {}
     },
     "4b3900e75f9c464ea58804568c3142c7": {
      "model_module": "@jupyter-widgets/controls",
      "model_module_version": "1.5.0",
      "model_name": "ButtonModel",
      "state": {
       "button_style": "primary",
       "description": "Get screenshot",
       "layout": "IPY_MODEL_74ee3fc63c7c44a2a71c1f7231cafef0",
       "style": "IPY_MODEL_03d077bf1b954ce296442ce96c0d0b21"
      }
     },
     "4b7e0d8b1916438ca3542263944a3ffb": {
      "model_module": "@jupyter-widgets/controls",
      "model_module_version": "1.5.0",
      "model_name": "DropdownModel",
      "state": {
       "_options_labels": [
        "---",
        "UK Web Archive",
        "National Library of Australia",
        "National Library of New Zealand",
        "Internet Archive"
       ],
       "description": "Archive:",
       "index": 4,
       "layout": "IPY_MODEL_c77ee6a2e88a4b01919c30a1dd0282c1",
       "style": "IPY_MODEL_bea6f2f4df104ea9b7103e24659fef6b"
      }
     },
     "4b90e6944eea4f6d8aca06903def9b73": {
      "model_module": "@jupyter-widgets/base",
      "model_module_version": "1.2.0",
      "model_name": "LayoutModel",
      "state": {}
     },
     "4bba4431fadd431d971283c858ac626d": {
      "model_module": "@jupyter-widgets/controls",
      "model_module_version": "1.5.0",
      "model_name": "ButtonModel",
      "state": {
       "description": "Clear all",
       "layout": "IPY_MODEL_d4c49b6d5b2249978fb0035cad988b79",
       "style": "IPY_MODEL_8769f0096baa4a49a9b3e5868492a9e8"
      }
     },
     "4bd8f31d358d4838b7adeacf47487f7d": {
      "model_module": "@jupyter-widgets/base",
      "model_module_version": "1.2.0",
      "model_name": "LayoutModel",
      "state": {}
     },
     "4beca828481640998cb838189ec749a0": {
      "model_module": "@jupyter-widgets/controls",
      "model_module_version": "1.5.0",
      "model_name": "ButtonStyleModel",
      "state": {}
     },
     "4c13d2d279164960b40bf9b2772dcb25": {
      "model_module": "@jupyter-widgets/base",
      "model_module_version": "1.2.0",
      "model_name": "LayoutModel",
      "state": {}
     },
     "4c29e534244c4f659e596075492320c7": {
      "model_module": "@jupyter-widgets/base",
      "model_module_version": "1.2.0",
      "model_name": "LayoutModel",
      "state": {}
     },
     "4c93eecd88c04c3b9c1e13f5f2fb6e32": {
      "model_module": "@jupyter-widgets/output",
      "model_module_version": "1.0.0",
      "model_name": "OutputModel",
      "state": {
       "layout": "IPY_MODEL_e80fd2a7775c44bc9a6a18662b8bfec8"
      }
     },
     "4d1d1b6f3b5c40b89e460dc8b1a6adcf": {
      "model_module": "@jupyter-widgets/controls",
      "model_module_version": "1.5.0",
      "model_name": "VBoxModel",
      "state": {
       "children": [
        "IPY_MODEL_45d70afbdc4b4f1c849625dc4db7d7a5",
        "IPY_MODEL_ecea024f3a004c90a24d21d76488a36e"
       ],
       "layout": "IPY_MODEL_10eff4b78492488aae8346624950ab50"
      }
     },
     "4d82ffd7aa4746c6a91cbacc5504161b": {
      "model_module": "@jupyter-widgets/controls",
      "model_module_version": "1.5.0",
      "model_name": "VBoxModel",
      "state": {
       "children": [
        "IPY_MODEL_13c0b9cfc7ab46fc8532134faba95e26",
        "IPY_MODEL_d3f197c0a68b4437a0399df843fd90b5"
       ],
       "layout": "IPY_MODEL_3cfb279918d9404e8d9c4fd593c7e71e"
      }
     },
     "4dbd12063b604557bec1e1e9b5e4bf79": {
      "model_module": "@jupyter-widgets/controls",
      "model_module_version": "1.5.0",
      "model_name": "ButtonModel",
      "state": {
       "description": "Clear",
       "layout": "IPY_MODEL_ddb5b92a5567474689f83884f586a05a",
       "style": "IPY_MODEL_1f5b83f035ac4e4f9f17a63ccbf9fc0d"
      }
     },
     "4ef1b5a8e43e4df4937274d1a207d4ca": {
      "model_module": "@jupyter-widgets/controls",
      "model_module_version": "1.5.0",
      "model_name": "HBoxModel",
      "state": {
       "children": [
        "IPY_MODEL_18e8e480ad954b0082ef3adf77264e0e",
        "IPY_MODEL_82c6474f8726460981a9203b7ed09936"
       ],
       "layout": "IPY_MODEL_39a69c8d5309484e8ef6a662cee165fc"
      }
     },
     "4ef245e3a6f74b9d9cb7add9ba297627": {
      "model_module": "@jupyter-widgets/controls",
      "model_module_version": "1.5.0",
      "model_name": "SliderStyleModel",
      "state": {
       "description_width": ""
      }
     },
     "4f5c9e316db64c96813d189c1367aded": {
      "model_module": "@jupyter-widgets/base",
      "model_module_version": "1.2.0",
      "model_name": "LayoutModel",
      "state": {}
     },
     "4fc2626b086148398a501b424edd2043": {
      "model_module": "@jupyter-widgets/output",
      "model_module_version": "1.0.0",
      "model_name": "OutputModel",
      "state": {
       "layout": "IPY_MODEL_95c06ec8b1eb4b90b32b01037c3a7013",
       "outputs": [
        {
         "data": {
          "text/html": "<div style=\"float:left; margin-left: 20px;\"><p><b>4 March 2020</b></p><p><a href=\"screenshots/pandora-nla-gov-au-pan-161756-20200306-0200-www-nla-gov-au-20200305172547-200.png\"><img src=\"screenshots/pandora-nla-gov-au-pan-161756-20200306-0200-www-nla-gov-au-20200305172547-200.png\"></a></p></div>",
          "text/plain": "<IPython.core.display.HTML object>"
         },
         "metadata": {},
         "output_type": "display_data"
        }
       ]
      }
     },
     "5012a73071a743b3a00517bba09b1ddb": {
      "model_module": "@jupyter-widgets/base",
      "model_module_version": "1.2.0",
      "model_name": "LayoutModel",
      "state": {}
     },
     "50a796feb21548358954b8d598c55026": {
      "model_module": "@jupyter-widgets/controls",
      "model_module_version": "1.5.0",
      "model_name": "VBoxModel",
      "state": {
       "children": [
        "IPY_MODEL_b15c4f4b43a04e2cbae776a7c5fabfe4",
        "IPY_MODEL_f988de292eb9478fa8bd7cbabe872193"
       ],
       "layout": "IPY_MODEL_8a150b3860ec4b42bc55b233c9fd957e"
      }
     },
     "50f0613dcac04da1a826c4d3d67a75b1": {
      "model_module": "@jupyter-widgets/base",
      "model_module_version": "1.2.0",
      "model_name": "LayoutModel",
      "state": {}
     },
     "51e9d8508e62418199e18950f2d7c384": {
      "model_module": "@jupyter-widgets/base",
      "model_module_version": "1.2.0",
      "model_name": "LayoutModel",
      "state": {}
     },
     "522a59e89faf448582be6bfb5448bc18": {
      "model_module": "@jupyter-widgets/output",
      "model_module_version": "1.0.0",
      "model_name": "OutputModel",
      "state": {
       "layout": "IPY_MODEL_414f1db9e9274606acf53c970d9fe409",
       "outputs": [
        {
         "data": {
          "text/html": "<div style=\"float:left; margin-left: 20px;\"><p><b>4 May 2020</b><br><a href=\"https://www.webarchive.org.uk/wayback/archive/20200507020000mp_/https://bl.uk/\">https://bl.uk</a></p><p><a href=\"screenshots/bl-uk-20200507020000-200.png\"><img src=\"screenshots/bl-uk-20200507020000-200.png\"></a><br><a href=\"screenshots/bl-uk-20200507020000-200.png\">[Download]</a></p></div>",
          "text/plain": "<IPython.core.display.HTML object>"
         },
         "metadata": {},
         "output_type": "display_data"
        }
       ]
      }
     },
     "5260fa23d8ee4394b4933b081d1d3cea": {
      "model_module": "@jupyter-widgets/output",
      "model_module_version": "1.0.0",
      "model_name": "OutputModel",
      "state": {
       "layout": "IPY_MODEL_270c9c599ea946f1b172b5170e057590",
       "outputs": [
        {
         "name": "stdout",
         "output_type": "stream",
         "text": "Something went wrong, sorry...\n"
        }
       ]
      }
     },
     "5309c9b418854d6dace19b3d5aa51047": {
      "model_module": "@jupyter-widgets/controls",
      "model_module_version": "1.5.0",
      "model_name": "DatePickerModel",
      "state": {
       "description": "Target date: ",
       "disabled": false,
       "layout": "IPY_MODEL_83a03c62714043faa5f2f852a3c51f5b",
       "style": "IPY_MODEL_ed8c4d0b480349df908ad54591b9187f"
      }
     },
     "53da0477c2e04e3bbe48fd086231da58": {
      "model_module": "@jupyter-widgets/controls",
      "model_module_version": "1.5.0",
      "model_name": "DescriptionStyleModel",
      "state": {
       "description_width": ""
      }
     },
     "558e9b57286e4ffe9f9af22226bc16be": {
      "model_module": "@jupyter-widgets/controls",
      "model_module_version": "1.5.0",
      "model_name": "ButtonModel",
      "state": {
       "button_style": "primary",
       "description": "Get screenshot",
       "layout": "IPY_MODEL_28e33f3f142548f685d5ee45e601d59a",
       "style": "IPY_MODEL_57bf8e5d07fd42a2a4f3295e68ac55d6"
      }
     },
     "55d2214154414563afe306d7445385e0": {
      "model_module": "@jupyter-widgets/output",
      "model_module_version": "1.0.0",
      "model_name": "OutputModel",
      "state": {
       "layout": "IPY_MODEL_6625c6aa754d474ca2e088ed129a320e",
       "outputs": [
        {
         "data": {
          "text/html": "<div style=\"float:left; margin-left: 20px;\"><p><b>4 May 2020</b><br><a href=\"https://www.webarchive.org.uk/wayback/archive/20200507020000mp_/http://bl.uk/\">http://bl.uk</a></p><p><a href=\"screenshots/bl-uk-20200507020000-200.png\"><img src=\"screenshots/bl-uk-20200507020000-200.png\"></a></p></div>",
          "text/plain": "<IPython.core.display.HTML object>"
         },
         "metadata": {},
         "output_type": "display_data"
        }
       ]
      }
     },
     "56054f35ddf24e1fb05c3785bcd813d3": {
      "model_module": "@jupyter-widgets/controls",
      "model_module_version": "1.5.0",
      "model_name": "VBoxModel",
      "state": {
       "children": [
        "IPY_MODEL_270e86c71d544e83abca909b45d2f11c",
        "IPY_MODEL_5309c9b418854d6dace19b3d5aa51047"
       ],
       "layout": "IPY_MODEL_92ff6b0ecc5f4f5da471b4e1bffab76c"
      }
     },
     "56180f6c42a44198be39b7bd01033064": {
      "model_module": "@jupyter-widgets/base",
      "model_module_version": "1.2.0",
      "model_name": "LayoutModel",
      "state": {}
     },
     "5624ffb8f13f449ca75c19951968f8a0": {
      "model_module": "@jupyter-widgets/base",
      "model_module_version": "1.2.0",
      "model_name": "LayoutModel",
      "state": {}
     },
     "564b3d09979645748c562290988e517a": {
      "model_module": "@jupyter-widgets/controls",
      "model_module_version": "1.5.0",
      "model_name": "ButtonModel",
      "state": {
       "description": "Clear last",
       "layout": "IPY_MODEL_61741b8d9b5b40c7ad08eebf6b7fc9d4",
       "style": "IPY_MODEL_afdab2ef6c30406f881d5ef6ab5ba079"
      }
     },
     "57bf8e5d07fd42a2a4f3295e68ac55d6": {
      "model_module": "@jupyter-widgets/controls",
      "model_module_version": "1.5.0",
      "model_name": "ButtonStyleModel",
      "state": {}
     },
     "59362f89351747c088cd360aaddfd4c6": {
      "model_module": "@jupyter-widgets/base",
      "model_module_version": "1.2.0",
      "model_name": "LayoutModel",
      "state": {}
     },
     "599207e70e76499c9e4ca9411e7f413e": {
      "model_module": "@jupyter-widgets/controls",
      "model_module_version": "1.5.0",
      "model_name": "ButtonStyleModel",
      "state": {}
     },
     "59dc52766cc343d88a14b9f5d6bb6dfe": {
      "model_module": "@jupyter-widgets/controls",
      "model_module_version": "1.5.0",
      "model_name": "ButtonStyleModel",
      "state": {}
     },
     "5a39c8dfd36844e89949852374cfdf96": {
      "model_module": "@jupyter-widgets/controls",
      "model_module_version": "1.5.0",
      "model_name": "ButtonStyleModel",
      "state": {}
     },
     "5ad4441679d54c2e999ba2dff9945d89": {
      "model_module": "@jupyter-widgets/controls",
      "model_module_version": "1.5.0",
      "model_name": "ButtonStyleModel",
      "state": {}
     },
     "5adbb1fc098c42728200e6832315aa4f": {
      "model_module": "@jupyter-widgets/base",
      "model_module_version": "1.2.0",
      "model_name": "LayoutModel",
      "state": {}
     },
     "5b4ce952627e4802bcc7c97e04f5ec16": {
      "model_module": "@jupyter-widgets/output",
      "model_module_version": "1.0.0",
      "model_name": "OutputModel",
      "state": {
       "layout": "IPY_MODEL_3b7b7a0499a94a7bb2980c5333a1f351"
      }
     },
     "5bb9e6a141f04985b4730f62d99295bb": {
      "model_module": "@jupyter-widgets/base",
      "model_module_version": "1.2.0",
      "model_name": "LayoutModel",
      "state": {
       "padding": "20px"
      }
     },
     "5bdfba13a9364659b6d87ffaae3469ae": {
      "model_module": "@jupyter-widgets/controls",
      "model_module_version": "1.5.0",
      "model_name": "ButtonStyleModel",
      "state": {}
     },
     "5bf2525da6064a3381595dc91f7fa2de": {
      "model_module": "@jupyter-widgets/controls",
      "model_module_version": "1.5.0",
      "model_name": "DropdownModel",
      "state": {
       "_options_labels": [
        "---",
        "UK Web Archive",
        "National Library of Australia",
        "National Library of New Zealand",
        "Internet Archive"
       ],
       "description": "Archive:",
       "index": 2,
       "layout": "IPY_MODEL_e2e8cc2baa22402eb81be6c8e1d2c565",
       "style": "IPY_MODEL_b8bb297532c94ba6af7ca3b044c1b56d"
      }
     },
     "5d47138580804b6fa157e54d655c8d51": {
      "model_module": "@jupyter-widgets/controls",
      "model_module_version": "1.5.0",
      "model_name": "ButtonModel",
      "state": {
       "button_style": "primary",
       "description": "Get screenshot",
       "layout": "IPY_MODEL_68c7b76c0361424caa63ef214b881d30",
       "style": "IPY_MODEL_e0d3140ae4a14b438a5a541d7455411f"
      }
     },
     "5d5fc044ba88409aada38821ef28ee5a": {
      "model_module": "@jupyter-widgets/controls",
      "model_module_version": "1.5.0",
      "model_name": "ButtonModel",
      "state": {
       "description": "Clear",
       "layout": "IPY_MODEL_e48a138b59194f90b888916bf242fec8",
       "style": "IPY_MODEL_2cd90f34df6e420a935705b45762ff8f"
      }
     },
     "5e3e201c60fb465b98f2f061ae5dc29b": {
      "model_module": "@jupyter-widgets/output",
      "model_module_version": "1.0.0",
      "model_name": "OutputModel",
      "state": {
       "layout": "IPY_MODEL_854adc1c2b994657a263511d1f34c8c4"
      }
     },
     "5f5b7ec6caac40b1bfbe6c52e0ffc0f8": {
      "model_module": "@jupyter-widgets/controls",
      "model_module_version": "1.5.0",
      "model_name": "ButtonModel",
      "state": {
       "description": "Clear last",
       "layout": "IPY_MODEL_2ef5025497b34d658d349a20ad3e3031",
       "style": "IPY_MODEL_8251cfc94f8a437bb73d6d03e17ba587"
      }
     },
     "5f81f2cd18214d48b33d112b98831382": {
      "model_module": "@jupyter-widgets/base",
      "model_module_version": "1.2.0",
      "model_name": "LayoutModel",
      "state": {}
     },
     "600655e3f7714093b426d814c24a066e": {
      "model_module": "@jupyter-widgets/base",
      "model_module_version": "1.2.0",
      "model_name": "LayoutModel",
      "state": {}
     },
     "607c13a9e88843ab99bf9b31248ff8ac": {
      "model_module": "@jupyter-widgets/base",
      "model_module_version": "1.2.0",
      "model_name": "LayoutModel",
      "state": {}
     },
     "60a0b5a7edee416d929a03cda849e7ae": {
      "model_module": "@jupyter-widgets/controls",
      "model_module_version": "1.5.0",
      "model_name": "IntSliderModel",
      "state": {
       "continuous_update": false,
       "description": "Width:",
       "layout": "IPY_MODEL_c7bdcde78bfe462dacc754449f8c8603",
       "max": 1000,
       "min": 200,
       "step": 100,
       "style": "IPY_MODEL_67f3fe4760e7459491e5e0f846125905",
       "value": 200
      }
     },
     "60f6792547c94544b2c826cb94c31117": {
      "model_module": "@jupyter-widgets/base",
      "model_module_version": "1.2.0",
      "model_name": "LayoutModel",
      "state": {
       "padding": "20px"
      }
     },
     "610c278f08eb4a3e80e67bea2b2e4739": {
      "model_module": "@jupyter-widgets/controls",
      "model_module_version": "1.5.0",
      "model_name": "ButtonModel",
      "state": {
       "button_style": "primary",
       "description": "Get screenshot",
       "layout": "IPY_MODEL_10aa124c2bc54a38b37db0699133af8e",
       "style": "IPY_MODEL_e381b1d52d294d4aac6163d1c8c08e30"
      }
     },
     "6173b44febfa4854b3fc3e3e5fdbd671": {
      "model_module": "@jupyter-widgets/controls",
      "model_module_version": "1.5.0",
      "model_name": "TextModel",
      "state": {
       "description": "Target URL:",
       "layout": "IPY_MODEL_7b87f0ee81d34d5a916ee3fb7be5ce10",
       "style": "IPY_MODEL_b387efd1dfe14abfa3478860ddb3f35b"
      }
     },
     "61741b8d9b5b40c7ad08eebf6b7fc9d4": {
      "model_module": "@jupyter-widgets/base",
      "model_module_version": "1.2.0",
      "model_name": "LayoutModel",
      "state": {}
     },
     "627208c6f7624b10b4210e60652feb9d": {
      "model_module": "@jupyter-widgets/controls",
      "model_module_version": "1.5.0",
      "model_name": "HBoxModel",
      "state": {
       "children": [
        "IPY_MODEL_2abc2b3fcfba4c629d6156bc08251291",
        "IPY_MODEL_7b78cf7e477a4e7e8568487f373c84c7"
       ],
       "layout": "IPY_MODEL_bfcc1b3865f74b5bbf86edcd446d35bd"
      }
     },
     "62ba9d84bc964254a0dc7cea53f2b403": {
      "model_module": "@jupyter-widgets/controls",
      "model_module_version": "1.5.0",
      "model_name": "SliderStyleModel",
      "state": {
       "description_width": ""
      }
     },
     "63fb7471c80146d3be48b9ac49709bde": {
      "model_module": "@jupyter-widgets/base",
      "model_module_version": "1.2.0",
      "model_name": "LayoutModel",
      "state": {
       "padding": "20px"
      }
     },
     "6466cccca61644718a454b05ebf12d9d": {
      "model_module": "@jupyter-widgets/base",
      "model_module_version": "1.2.0",
      "model_name": "LayoutModel",
      "state": {}
     },
     "649e15ed7bf64bfb85737e49765ccf19": {
      "model_module": "@jupyter-widgets/controls",
      "model_module_version": "1.5.0",
      "model_name": "ButtonStyleModel",
      "state": {}
     },
     "65064ba74260410f88f416bc329e4b06": {
      "model_module": "@jupyter-widgets/base",
      "model_module_version": "1.2.0",
      "model_name": "LayoutModel",
      "state": {}
     },
     "650df612319b4d22bef16ac13ef5025b": {
      "model_module": "@jupyter-widgets/controls",
      "model_module_version": "1.5.0",
      "model_name": "ButtonModel",
      "state": {
       "description": "Clear",
       "layout": "IPY_MODEL_51e9d8508e62418199e18950f2d7c384",
       "style": "IPY_MODEL_d23043463ea84e01a0d593964a2568de"
      }
     },
     "657ac7c0f1af4a97a9d8d4188f558fd5": {
      "model_module": "@jupyter-widgets/base",
      "model_module_version": "1.2.0",
      "model_name": "LayoutModel",
      "state": {}
     },
     "65d0c0a8bce24191ba05bc59fdd3808a": {
      "model_module": "@jupyter-widgets/base",
      "model_module_version": "1.2.0",
      "model_name": "LayoutModel",
      "state": {}
     },
     "6625c6aa754d474ca2e088ed129a320e": {
      "model_module": "@jupyter-widgets/base",
      "model_module_version": "1.2.0",
      "model_name": "LayoutModel",
      "state": {}
     },
     "66a1d118afcd46aeaf35fd56ced083a8": {
      "model_module": "@jupyter-widgets/controls",
      "model_module_version": "1.5.0",
      "model_name": "DescriptionStyleModel",
      "state": {
       "description_width": ""
      }
     },
     "67284b182e6a44e5be68bcb1d167e5f8": {
      "model_module": "@jupyter-widgets/controls",
      "model_module_version": "1.5.0",
      "model_name": "DescriptionStyleModel",
      "state": {
       "description_width": ""
      }
     },
     "67325facac9d4da28f627ec558abc0f8": {
      "model_module": "@jupyter-widgets/base",
      "model_module_version": "1.2.0",
      "model_name": "LayoutModel",
      "state": {}
     },
     "6784e84f521348d28277e1c5966e42a5": {
      "model_module": "@jupyter-widgets/controls",
      "model_module_version": "1.5.0",
      "model_name": "VBoxModel",
      "state": {
       "children": [
        "IPY_MODEL_82bbf134fe3c41e38bb88720884da5b4",
        "IPY_MODEL_7c6824b50c044daf86e62dcc83175d61"
       ],
       "layout": "IPY_MODEL_e5fd5675d0dc40fdb8db9285fea6f823"
      }
     },
     "67c9a2ba43264a528326c206708d6e79": {
      "model_module": "@jupyter-widgets/controls",
      "model_module_version": "1.5.0",
      "model_name": "HBoxModel",
      "state": {
       "children": [
        "IPY_MODEL_ba44ea4bb27942ffbbc51bba02f929d9",
        "IPY_MODEL_45deeffad1f84a89a5efda9e2ca9656b"
       ],
       "layout": "IPY_MODEL_2f004421c06843329311801b95c27e6c"
      }
     },
     "67f3fe4760e7459491e5e0f846125905": {
      "model_module": "@jupyter-widgets/controls",
      "model_module_version": "1.5.0",
      "model_name": "SliderStyleModel",
      "state": {
       "description_width": ""
      }
     },
     "68c7b76c0361424caa63ef214b881d30": {
      "model_module": "@jupyter-widgets/base",
      "model_module_version": "1.2.0",
      "model_name": "LayoutModel",
      "state": {}
     },
     "690ead0d38624a69abd08c1c4b3a5322": {
      "model_module": "@jupyter-widgets/controls",
      "model_module_version": "1.5.0",
      "model_name": "DatePickerModel",
      "state": {
       "description": "Target date: ",
       "disabled": false,
       "layout": "IPY_MODEL_6c51106c05a44696849d19fc2c612b7d",
       "style": "IPY_MODEL_276b63706ab0443e9bac887e872a80f8"
      }
     },
     "699353a32964465bb1a0a808aa08f139": {
      "model_module": "@jupyter-widgets/base",
      "model_module_version": "1.2.0",
      "model_name": "LayoutModel",
      "state": {}
     },
     "69ce509fe6c14bad8d43ed95b2957bbd": {
      "model_module": "@jupyter-widgets/controls",
      "model_module_version": "1.5.0",
      "model_name": "DescriptionStyleModel",
      "state": {
       "description_width": ""
      }
     },
     "69ef6c6f26c649eba7c3360dcae6721e": {
      "model_module": "@jupyter-widgets/controls",
      "model_module_version": "1.5.0",
      "model_name": "IntSliderModel",
      "state": {
       "continuous_update": false,
       "description": "Width:",
       "layout": "IPY_MODEL_c6af1f769b2b4452abc26e7f0a3a0e11",
       "max": 1000,
       "min": 200,
       "step": 100,
       "style": "IPY_MODEL_d43522940b3d40e59e221c1ca032d038",
       "value": 200
      }
     },
     "6a5d0c7b027242b2bae6b46484778c3c": {
      "model_module": "@jupyter-widgets/controls",
      "model_module_version": "1.5.0",
      "model_name": "DescriptionStyleModel",
      "state": {
       "description_width": ""
      }
     },
     "6acde2afe5c24766b5ad907f80db3700": {
      "model_module": "@jupyter-widgets/controls",
      "model_module_version": "1.5.0",
      "model_name": "ButtonStyleModel",
      "state": {}
     },
     "6c51106c05a44696849d19fc2c612b7d": {
      "model_module": "@jupyter-widgets/base",
      "model_module_version": "1.2.0",
      "model_name": "LayoutModel",
      "state": {}
     },
     "6cc4f54c59a545a48f248ff6beb2a8ac": {
      "model_module": "@jupyter-widgets/controls",
      "model_module_version": "1.5.0",
      "model_name": "DescriptionStyleModel",
      "state": {
       "description_width": ""
      }
     },
     "6d4cca5fca334d7387d6c76fe0c85281": {
      "model_module": "@jupyter-widgets/controls",
      "model_module_version": "1.5.0",
      "model_name": "DatePickerModel",
      "state": {
       "description": "Target date: ",
       "disabled": false,
       "layout": "IPY_MODEL_7c9a6e6d36c34483af7fc7ac3e09d370",
       "style": "IPY_MODEL_67284b182e6a44e5be68bcb1d167e5f8"
      }
     },
     "6e4f1e057c25482c9be1b444951e687d": {
      "model_module": "@jupyter-widgets/controls",
      "model_module_version": "1.5.0",
      "model_name": "ButtonModel",
      "state": {
       "button_style": "primary",
       "description": "Get screenshot",
       "layout": "IPY_MODEL_994ca76be9144035b462296ff13351b7",
       "style": "IPY_MODEL_fb33aedfacb24b0380fc15792dd78a21"
      }
     },
     "6e771215e1a14619b2bae213101c72b5": {
      "model_module": "@jupyter-widgets/controls",
      "model_module_version": "1.5.0",
      "model_name": "ButtonModel",
      "state": {
       "description": "Clear all",
       "layout": "IPY_MODEL_2e34b5a51af749419e0ecdfc64fe30d3",
       "style": "IPY_MODEL_5bdfba13a9364659b6d87ffaae3469ae"
      }
     },
     "6ef2a458afb34d408a46a92decbf3173": {
      "model_module": "@jupyter-widgets/base",
      "model_module_version": "1.2.0",
      "model_name": "LayoutModel",
      "state": {}
     },
     "6f230865dcf2448f8da848a448913641": {
      "model_module": "@jupyter-widgets/controls",
      "model_module_version": "1.5.0",
      "model_name": "VBoxModel",
      "state": {
       "children": [
        "IPY_MODEL_4b7e0d8b1916438ca3542263944a3ffb",
        "IPY_MODEL_bbef0e05c2b341e1b2cb123db37c3b43"
       ],
       "layout": "IPY_MODEL_f92376a8344f444ba5edd56758971a89"
      }
     },
     "6f875dcb489b4fbebad8c7a5de2cd58b": {
      "model_module": "@jupyter-widgets/output",
      "model_module_version": "1.0.0",
      "model_name": "OutputModel",
      "state": {
       "layout": "IPY_MODEL_f6101f5cfe984776b62241b84efd7c43"
      }
     },
     "70794194d1274b87a618a972ad41159b": {
      "model_module": "@jupyter-widgets/controls",
      "model_module_version": "1.5.0",
      "model_name": "DatePickerModel",
      "state": {
       "description": "Target date: ",
       "disabled": false,
       "layout": "IPY_MODEL_a1d71dc296c44dc68d080e8d1c0efe24",
       "style": "IPY_MODEL_86bfe8ddb2f8464bb4a20194de8a9499",
       "value": {
        "date": 1,
        "month": 0,
        "year": 1996
       }
      }
     },
     "715f1cf87a374460b31e2d0a0390673b": {
      "model_module": "@jupyter-widgets/controls",
      "model_module_version": "1.5.0",
      "model_name": "DatePickerModel",
      "state": {
       "description": "Target date: ",
       "disabled": false,
       "layout": "IPY_MODEL_d58db443946144fdb8b4fadf252139b6",
       "style": "IPY_MODEL_2008f51d81e64216afdcc5ad45123f81"
      }
     },
     "721d69192667442480a42c7d4cd8a40d": {
      "model_module": "@jupyter-widgets/base",
      "model_module_version": "1.2.0",
      "model_name": "LayoutModel",
      "state": {}
     },
     "74277a31ab7741db8debd202b48e4c8e": {
      "model_module": "@jupyter-widgets/controls",
      "model_module_version": "1.5.0",
      "model_name": "HBoxModel",
      "state": {
       "children": [
        "IPY_MODEL_6f230865dcf2448f8da848a448913641",
        "IPY_MODEL_185f4fa755404710866c42dfcd84da1c"
       ],
       "layout": "IPY_MODEL_82fcaef3d38040eea04ebc81922cf521"
      }
     },
     "74b4a85e1ada4c54a84d53fee1ccc8e8": {
      "model_module": "@jupyter-widgets/controls",
      "model_module_version": "1.5.0",
      "model_name": "VBoxModel",
      "state": {
       "children": [
        "IPY_MODEL_400d0a185c354991a874b9c55e51a239",
        "IPY_MODEL_2b75b6f517fa40b7b0aca2ea9b839fcc"
       ],
       "layout": "IPY_MODEL_1cb3fc0816dc4e9ca43d44df19e8e98d"
      }
     },
     "74ee3fc63c7c44a2a71c1f7231cafef0": {
      "model_module": "@jupyter-widgets/base",
      "model_module_version": "1.2.0",
      "model_name": "LayoutModel",
      "state": {}
     },
     "765ce88177b844f7ac902c96d0b0ae69": {
      "model_module": "@jupyter-widgets/controls",
      "model_module_version": "1.5.0",
      "model_name": "VBoxModel",
      "state": {
       "children": [
        "IPY_MODEL_13bf3b53c1f84718b8812279f8ab03e6",
        "IPY_MODEL_f066c1aa68664377acf1b0a3d9db9f10"
       ],
       "layout": "IPY_MODEL_b84ab06d280a4268a10729415ac4e0e7"
      }
     },
     "76ab070c0bb349e9b0adda560147420d": {
      "model_module": "@jupyter-widgets/base",
      "model_module_version": "1.2.0",
      "model_name": "LayoutModel",
      "state": {}
     },
     "77ca08561f3148ee936cf0333a914c31": {
      "model_module": "@jupyter-widgets/controls",
      "model_module_version": "1.5.0",
      "model_name": "ButtonStyleModel",
      "state": {}
     },
     "77f8f2ad7f6d4d11b5e57f2a06dc26ec": {
      "model_module": "@jupyter-widgets/output",
      "model_module_version": "1.0.0",
      "model_name": "OutputModel",
      "state": {
       "layout": "IPY_MODEL_1832c7d1eeee4af1903dd99683f743c5"
      }
     },
     "797f797ab9234bdb8b10b2e498a26710": {
      "model_module": "@jupyter-widgets/controls",
      "model_module_version": "1.5.0",
      "model_name": "SliderStyleModel",
      "state": {
       "description_width": ""
      }
     },
     "7a35c0d014e4400c9f9ea07dd2e208f6": {
      "model_module": "@jupyter-widgets/controls",
      "model_module_version": "1.5.0",
      "model_name": "ButtonStyleModel",
      "state": {}
     },
     "7b750dc4fe5140719d36ff4f44846f70": {
      "model_module": "@jupyter-widgets/controls",
      "model_module_version": "1.5.0",
      "model_name": "DescriptionStyleModel",
      "state": {
       "description_width": ""
      }
     },
     "7b78cf7e477a4e7e8568487f373c84c7": {
      "model_module": "@jupyter-widgets/controls",
      "model_module_version": "1.5.0",
      "model_name": "VBoxModel",
      "state": {
       "children": [
        "IPY_MODEL_33524f692b8f43a6a92adb3ea35ac57f",
        "IPY_MODEL_60a0b5a7edee416d929a03cda849e7ae"
       ],
       "layout": "IPY_MODEL_0fa9fa7d25f24cc99e40138cff340eff"
      }
     },
     "7b87f0ee81d34d5a916ee3fb7be5ce10": {
      "model_module": "@jupyter-widgets/base",
      "model_module_version": "1.2.0",
      "model_name": "LayoutModel",
      "state": {}
     },
     "7c6824b50c044daf86e62dcc83175d61": {
      "model_module": "@jupyter-widgets/controls",
      "model_module_version": "1.5.0",
      "model_name": "DatePickerModel",
      "state": {
       "description": "Target date: ",
       "disabled": false,
       "layout": "IPY_MODEL_bf5ae8256b0c46069f3d4a65228d94df",
       "style": "IPY_MODEL_fc0e9b21e86741b2b7047d5704bde118",
       "value": {
        "date": 1,
        "month": 0,
        "year": 2016
       }
      }
     },
     "7c9a6e6d36c34483af7fc7ac3e09d370": {
      "model_module": "@jupyter-widgets/base",
      "model_module_version": "1.2.0",
      "model_name": "LayoutModel",
      "state": {}
     },
     "7ce32405f8ac448aa19508bcf49bc988": {
      "model_module": "@jupyter-widgets/base",
      "model_module_version": "1.2.0",
      "model_name": "LayoutModel",
      "state": {}
     },
     "7d41cecd66f247e3b1baf55261363aff": {
      "model_module": "@jupyter-widgets/controls",
      "model_module_version": "1.5.0",
      "model_name": "ButtonStyleModel",
      "state": {}
     },
     "7e9575ca442c42e3a1cda2bbd43d872c": {
      "model_module": "@jupyter-widgets/base",
      "model_module_version": "1.2.0",
      "model_name": "LayoutModel",
      "state": {}
     },
     "7edae328719d46928bd797dff5992f93": {
      "model_module": "@jupyter-widgets/base",
      "model_module_version": "1.2.0",
      "model_name": "LayoutModel",
      "state": {
       "padding": "20px"
      }
     },
     "7efb54bb44e845a5b941ebc58858d64b": {
      "model_module": "@jupyter-widgets/controls",
      "model_module_version": "1.5.0",
      "model_name": "HBoxModel",
      "state": {
       "children": [
        "IPY_MODEL_14ced59a76794de48f6ae88d2c237c5d",
        "IPY_MODEL_876d521f62c34ea6965f5c1da31b5b66"
       ],
       "layout": "IPY_MODEL_60f6792547c94544b2c826cb94c31117"
      }
     },
     "806888191a404204ad99bb347b456078": {
      "model_module": "@jupyter-widgets/base",
      "model_module_version": "1.2.0",
      "model_name": "LayoutModel",
      "state": {}
     },
     "809dfc19f9fb4c4886edad797dcb7524": {
      "model_module": "@jupyter-widgets/base",
      "model_module_version": "1.2.0",
      "model_name": "LayoutModel",
      "state": {}
     },
     "80fb3a844cb1430faa36bf6be642eb04": {
      "model_module": "@jupyter-widgets/controls",
      "model_module_version": "1.5.0",
      "model_name": "VBoxModel",
      "state": {
       "children": [
        "IPY_MODEL_36377088c8134094b03a9343029632a0",
        "IPY_MODEL_fc9bf5a7470347588ca2c81aa28d68ae"
       ],
       "layout": "IPY_MODEL_b6bf24aa71ec4a28965e6192fb0e8f96"
      }
     },
     "81139a39c55243faabf6ef159f0eb1cb": {
      "model_module": "@jupyter-widgets/output",
      "model_module_version": "1.0.0",
      "model_name": "OutputModel",
      "state": {
       "layout": "IPY_MODEL_cf1bf502d83e4a4586cfaf6bccf7523a"
      }
     },
     "8251cfc94f8a437bb73d6d03e17ba587": {
      "model_module": "@jupyter-widgets/controls",
      "model_module_version": "1.5.0",
      "model_name": "ButtonStyleModel",
      "state": {}
     },
     "82bbf134fe3c41e38bb88720884da5b4": {
      "model_module": "@jupyter-widgets/controls",
      "model_module_version": "1.5.0",
      "model_name": "DropdownModel",
      "state": {
       "_options_labels": [
        "---",
        "UK Web Archive",
        "National Library of Australia",
        "National Library of New Zealand",
        "Internet Archive"
       ],
       "description": "Archive:",
       "index": 1,
       "layout": "IPY_MODEL_e1a15c02e51c4f2ea64785865ff30a00",
       "style": "IPY_MODEL_945e444b7c18467b8f68f479514bcbea"
      }
     },
     "82c6474f8726460981a9203b7ed09936": {
      "model_module": "@jupyter-widgets/controls",
      "model_module_version": "1.5.0",
      "model_name": "VBoxModel",
      "state": {
       "children": [
        "IPY_MODEL_2f93b757973f4c41a666a12aeafc6858",
        "IPY_MODEL_fe6c29223d6944ed941ac4f29f77f3e5"
       ],
       "layout": "IPY_MODEL_348e49ccc3514c34a3e7f7d974f552a0"
      }
     },
     "82fcaef3d38040eea04ebc81922cf521": {
      "model_module": "@jupyter-widgets/base",
      "model_module_version": "1.2.0",
      "model_name": "LayoutModel",
      "state": {
       "padding": "20px"
      }
     },
     "83a03c62714043faa5f2f852a3c51f5b": {
      "model_module": "@jupyter-widgets/base",
      "model_module_version": "1.2.0",
      "model_name": "LayoutModel",
      "state": {}
     },
     "841de34fc50641d49684b31af8f78f16": {
      "model_module": "@jupyter-widgets/base",
      "model_module_version": "1.2.0",
      "model_name": "LayoutModel",
      "state": {}
     },
     "850d535df6eb4087a6faacbcdbd0341f": {
      "model_module": "@jupyter-widgets/base",
      "model_module_version": "1.2.0",
      "model_name": "LayoutModel",
      "state": {}
     },
     "854adc1c2b994657a263511d1f34c8c4": {
      "model_module": "@jupyter-widgets/base",
      "model_module_version": "1.2.0",
      "model_name": "LayoutModel",
      "state": {}
     },
     "85d0e2d1b356405f954d32c70ccda533": {
      "model_module": "@jupyter-widgets/base",
      "model_module_version": "1.2.0",
      "model_name": "LayoutModel",
      "state": {}
     },
     "866267007f3041a7bd0105cbac9b911e": {
      "model_module": "@jupyter-widgets/output",
      "model_module_version": "1.0.0",
      "model_name": "OutputModel",
      "state": {
       "layout": "IPY_MODEL_d14026788034437ab3532d7394f55344",
       "outputs": [
        {
         "data": {
          "text/html": "<div style=\"float:left; margin-left: 20px;\"><p><b>4 May 2020</b><br><a href=\"url\">http://bl.uk</a></p><p><a href=\"screenshots/bl-uk-20200507020000-200.png\"><img src=\"screenshots/bl-uk-20200507020000-200.png\"></a></p></div>",
          "text/plain": "<IPython.core.display.HTML object>"
         },
         "metadata": {},
         "output_type": "display_data"
        }
       ]
      }
     },
     "86a52f285fd04b3cb47a73f83561a3bb": {
      "model_module": "@jupyter-widgets/controls",
      "model_module_version": "1.5.0",
      "model_name": "HBoxModel",
      "state": {
       "children": [
        "IPY_MODEL_d992ccfdffbd41ea86c5243a010a7023",
        "IPY_MODEL_2c665fcbc2be46b1bae473781e4be92e",
        "IPY_MODEL_5f5b7ec6caac40b1bfbe6c52e0ffc0f8"
       ],
       "layout": "IPY_MODEL_8b4d34c29fb4446dbed814b409228049"
      }
     },
     "86bfe8ddb2f8464bb4a20194de8a9499": {
      "model_module": "@jupyter-widgets/controls",
      "model_module_version": "1.5.0",
      "model_name": "DescriptionStyleModel",
      "state": {
       "description_width": ""
      }
     },
     "873846d9b46f436a9bfc7c0102dc3665": {
      "model_module": "@jupyter-widgets/base",
      "model_module_version": "1.2.0",
      "model_name": "LayoutModel",
      "state": {}
     },
     "874714fec4ec448facf3ca0e6d14221c": {
      "model_module": "@jupyter-widgets/base",
      "model_module_version": "1.2.0",
      "model_name": "LayoutModel",
      "state": {}
     },
     "8769f0096baa4a49a9b3e5868492a9e8": {
      "model_module": "@jupyter-widgets/controls",
      "model_module_version": "1.5.0",
      "model_name": "ButtonStyleModel",
      "state": {}
     },
     "876d521f62c34ea6965f5c1da31b5b66": {
      "model_module": "@jupyter-widgets/controls",
      "model_module_version": "1.5.0",
      "model_name": "VBoxModel",
      "state": {
       "children": [
        "IPY_MODEL_d3607da5a075400cb00db57ec81dc0b2",
        "IPY_MODEL_ccf487c7910a45539ba6c88a42e693dd"
       ],
       "layout": "IPY_MODEL_d7b081bf473f4ed4acaa30cb3ca23b6f"
      }
     },
     "87926a01e271430882dc111df71db649": {
      "model_module": "@jupyter-widgets/controls",
      "model_module_version": "1.5.0",
      "model_name": "DescriptionStyleModel",
      "state": {
       "description_width": ""
      }
     },
     "8a150b3860ec4b42bc55b233c9fd957e": {
      "model_module": "@jupyter-widgets/base",
      "model_module_version": "1.2.0",
      "model_name": "LayoutModel",
      "state": {}
     },
     "8a548f80036449ffa52b04db3920c5f6": {
      "model_module": "@jupyter-widgets/base",
      "model_module_version": "1.2.0",
      "model_name": "LayoutModel",
      "state": {}
     },
     "8b4d34c29fb4446dbed814b409228049": {
      "model_module": "@jupyter-widgets/base",
      "model_module_version": "1.2.0",
      "model_name": "LayoutModel",
      "state": {}
     },
     "8bfca474a0ca4879924abef3a9827ae3": {
      "model_module": "@jupyter-widgets/controls",
      "model_module_version": "1.5.0",
      "model_name": "ButtonStyleModel",
      "state": {}
     },
     "8cde331115754f6e90a0b68feff04576": {
      "model_module": "@jupyter-widgets/controls",
      "model_module_version": "1.5.0",
      "model_name": "IntSliderModel",
      "state": {
       "continuous_update": false,
       "description": "Width:",
       "layout": "IPY_MODEL_6ef2a458afb34d408a46a92decbf3173",
       "max": 1000,
       "min": 200,
       "step": 100,
       "style": "IPY_MODEL_797f797ab9234bdb8b10b2e498a26710",
       "value": 200
      }
     },
     "8ced5c38ac1743209165a45d08316eb7": {
      "model_module": "@jupyter-widgets/base",
      "model_module_version": "1.2.0",
      "model_name": "LayoutModel",
      "state": {}
     },
     "8e20f7fcef244086af2768c7e997e5e0": {
      "model_module": "@jupyter-widgets/controls",
      "model_module_version": "1.5.0",
      "model_name": "TextModel",
      "state": {
       "description": "Target URL:",
       "layout": "IPY_MODEL_1bc3d062aaa84ff2affd342b46399d0e",
       "style": "IPY_MODEL_d9d52de6d0a7463cb8c62417f73aa255",
       "value": "http://abc.net.au"
      }
     },
     "8ed67e368ee4414f8fe3f1d8f1240955": {
      "model_module": "@jupyter-widgets/controls",
      "model_module_version": "1.5.0",
      "model_name": "IntSliderModel",
      "state": {
       "continuous_update": false,
       "description": "Width:",
       "layout": "IPY_MODEL_721d69192667442480a42c7d4cd8a40d",
       "max": 1000,
       "min": 200,
       "step": 100,
       "style": "IPY_MODEL_62ba9d84bc964254a0dc7cea53f2b403",
       "value": 200
      }
     },
     "8ef0c008477c47aebb39a61fa790a49e": {
      "model_module": "@jupyter-widgets/controls",
      "model_module_version": "1.5.0",
      "model_name": "ButtonModel",
      "state": {
       "description": "Clear last",
       "layout": "IPY_MODEL_ad8bb4fa00be4841b21abfc527d57609",
       "style": "IPY_MODEL_31e249c0fd5647d7ba6b4090065db981"
      }
     },
     "8f07021ca9d544e3912d8c78e66fc28b": {
      "model_module": "@jupyter-widgets/base",
      "model_module_version": "1.2.0",
      "model_name": "LayoutModel",
      "state": {}
     },
     "911af829172444dda57579b29fb61e4a": {
      "model_module": "@jupyter-widgets/controls",
      "model_module_version": "1.5.0",
      "model_name": "DescriptionStyleModel",
      "state": {
       "description_width": ""
      }
     },
     "915ec93946af438e959c36a36aa88cde": {
      "model_module": "@jupyter-widgets/base",
      "model_module_version": "1.2.0",
      "model_name": "LayoutModel",
      "state": {}
     },
     "9285994933fe4991aaaaf28c69b4315f": {
      "model_module": "@jupyter-widgets/controls",
      "model_module_version": "1.5.0",
      "model_name": "ButtonModel",
      "state": {
       "button_style": "primary",
       "description": "Get screenshot",
       "layout": "IPY_MODEL_22f60728b6ac4f34b5b674e8d8e0f39c",
       "style": "IPY_MODEL_4beca828481640998cb838189ec749a0"
      }
     },
     "92ac03fd0f764594aafaf1d86a3d3308": {
      "model_module": "@jupyter-widgets/controls",
      "model_module_version": "1.5.0",
      "model_name": "IntSliderModel",
      "state": {
       "continuous_update": false,
       "description": "Width:",
       "layout": "IPY_MODEL_bb9db6b332ad4994a663222d440a8d96",
       "max": 1000,
       "min": 200,
       "step": 100,
       "style": "IPY_MODEL_4ef245e3a6f74b9d9cb7add9ba297627",
       "value": 200
      }
     },
     "92ff6b0ecc5f4f5da471b4e1bffab76c": {
      "model_module": "@jupyter-widgets/base",
      "model_module_version": "1.2.0",
      "model_name": "LayoutModel",
      "state": {}
     },
     "945cea032a304f739ed7667e9ce5a42d": {
      "model_module": "@jupyter-widgets/base",
      "model_module_version": "1.2.0",
      "model_name": "LayoutModel",
      "state": {}
     },
     "945e444b7c18467b8f68f479514bcbea": {
      "model_module": "@jupyter-widgets/controls",
      "model_module_version": "1.5.0",
      "model_name": "DescriptionStyleModel",
      "state": {
       "description_width": ""
      }
     },
     "946e066e3f9a4ecbb13564c197ed3e79": {
      "model_module": "@jupyter-widgets/base",
      "model_module_version": "1.2.0",
      "model_name": "LayoutModel",
      "state": {
       "padding": "20px"
      }
     },
     "949ec0050e994337b2627b75ea6c1514": {
      "model_module": "@jupyter-widgets/controls",
      "model_module_version": "1.5.0",
      "model_name": "HBoxModel",
      "state": {
       "children": [
        "IPY_MODEL_d929e0c55e864dc3910865b878d7e1f7",
        "IPY_MODEL_4dbd12063b604557bec1e1e9b5e4bf79"
       ],
       "layout": "IPY_MODEL_efc4239d8e0b456d8bff12c7fa42c4ad"
      }
     },
     "94e757650908456984411984e1214748": {
      "model_module": "@jupyter-widgets/controls",
      "model_module_version": "1.5.0",
      "model_name": "ButtonStyleModel",
      "state": {}
     },
     "9505c7a96f364820b83460ca557d6111": {
      "model_module": "@jupyter-widgets/controls",
      "model_module_version": "1.5.0",
      "model_name": "SliderStyleModel",
      "state": {
       "description_width": ""
      }
     },
     "95c06ec8b1eb4b90b32b01037c3a7013": {
      "model_module": "@jupyter-widgets/base",
      "model_module_version": "1.2.0",
      "model_name": "LayoutModel",
      "state": {}
     },
     "962715c6d0764b47b93d566e3170b605": {
      "model_module": "@jupyter-widgets/base",
      "model_module_version": "1.2.0",
      "model_name": "LayoutModel",
      "state": {}
     },
     "971da23006944404ae6d6fb709dd3a0c": {
      "model_module": "@jupyter-widgets/base",
      "model_module_version": "1.2.0",
      "model_name": "LayoutModel",
      "state": {}
     },
     "980c6580d7ce4519a5f10041e7350f6c": {
      "model_module": "@jupyter-widgets/base",
      "model_module_version": "1.2.0",
      "model_name": "LayoutModel",
      "state": {}
     },
     "994ca76be9144035b462296ff13351b7": {
      "model_module": "@jupyter-widgets/base",
      "model_module_version": "1.2.0",
      "model_name": "LayoutModel",
      "state": {}
     },
     "9a00132b04024a04bc323ee8141d250a": {
      "model_module": "@jupyter-widgets/base",
      "model_module_version": "1.2.0",
      "model_name": "LayoutModel",
      "state": {}
     },
     "9a6da5bdcff34a1f8187ef0904ea5779": {
      "model_module": "@jupyter-widgets/controls",
      "model_module_version": "1.5.0",
      "model_name": "ButtonModel",
      "state": {
       "description": "Clear last",
       "layout": "IPY_MODEL_26d8c7090fb44c91a3a14aeab76cea44",
       "style": "IPY_MODEL_94e757650908456984411984e1214748"
      }
     },
     "9aa9d9ed45ca4ac9a64cce8e10f5554a": {
      "model_module": "@jupyter-widgets/output",
      "model_module_version": "1.0.0",
      "model_name": "OutputModel",
      "state": {
       "layout": "IPY_MODEL_b3a6b60eacd841d4b3953dcac17acf18",
       "outputs": [
        {
         "data": {
          "text/html": "<div style=\"float:left; margin-left: 20px;\"><p><b>4 March 2020</b></p><p><a href=\"screenshots/pandora-nla-gov-au-pan-161756-20200306-0200-www-nla-gov-au-20200305172547-200.png\"><img src=\"screenshots/pandora-nla-gov-au-pan-161756-20200306-0200-www-nla-gov-au-20200305172547-200.png\"></a></p></div><div style=\"float:left; margin-left: 20px;\"><p><b>1 December 2010</b></p><p><a href=\"screenshots/www-nla-gov-au-20101227142625-200.png\"><img src=\"screenshots/www-nla-gov-au-20101227142625-200.png\"></a></p></div><div style=\"float:left; margin-left: 20px;\"><p><b>3 December 1997</b></p><p><a href=\"screenshots/www-abc-net-au-80-19971210210421-200.png\"><img src=\"screenshots/www-abc-net-au-80-19971210210421-200.png\"></a></p></div><div style=\"float:left; margin-left: 20px;\"><p><b>4 October 1996</b></p><p><a href=\"screenshots/www-abc-net-au-80-19961017233008-200.png\"><img src=\"screenshots/www-abc-net-au-80-19961017233008-200.png\"></a></p></div>",
          "text/plain": "<IPython.core.display.HTML object>"
         },
         "metadata": {},
         "output_type": "display_data"
        }
       ]
      }
     },
     "9aefc1ff8ed74ebd9921c3aa46f7fe46": {
      "model_module": "@jupyter-widgets/base",
      "model_module_version": "1.2.0",
      "model_name": "LayoutModel",
      "state": {}
     },
     "9d46b1f44b5f434b9461016df0b7c4cb": {
      "model_module": "@jupyter-widgets/base",
      "model_module_version": "1.2.0",
      "model_name": "LayoutModel",
      "state": {}
     },
     "9dbf038f1705481090e78705eebb9f4f": {
      "model_module": "@jupyter-widgets/controls",
      "model_module_version": "1.5.0",
      "model_name": "HBoxModel",
      "state": {
       "children": [
        "IPY_MODEL_4b3900e75f9c464ea58804568c3142c7",
        "IPY_MODEL_246cb5c167ae463baaa2e7f012db8fcd"
       ],
       "layout": "IPY_MODEL_1832ceda236049fba370124063a6a309"
      }
     },
     "9e2184ec15864392b9f5b04caf84108c": {
      "model_module": "@jupyter-widgets/controls",
      "model_module_version": "1.5.0",
      "model_name": "DescriptionStyleModel",
      "state": {
       "description_width": ""
      }
     },
     "9e5bba7cf8b446d1b29fb91587f13c2d": {
      "model_module": "@jupyter-widgets/output",
      "model_module_version": "1.0.0",
      "model_name": "OutputModel",
      "state": {
       "layout": "IPY_MODEL_971da23006944404ae6d6fb709dd3a0c"
      }
     },
     "9ec7c86a51dc442fab4f37776b144dff": {
      "model_module": "@jupyter-widgets/base",
      "model_module_version": "1.2.0",
      "model_name": "LayoutModel",
      "state": {
       "padding": "20px"
      }
     },
     "9ed695a3c238439482cfaf5e4ed88262": {
      "model_module": "@jupyter-widgets/base",
      "model_module_version": "1.2.0",
      "model_name": "LayoutModel",
      "state": {}
     },
     "9f5388f28c0e4a5189a47cda3ba9d533": {
      "model_module": "@jupyter-widgets/controls",
      "model_module_version": "1.5.0",
      "model_name": "ButtonModel",
      "state": {
       "button_style": "primary",
       "description": "Get screenshot",
       "layout": "IPY_MODEL_7ce32405f8ac448aa19508bcf49bc988",
       "style": "IPY_MODEL_7d41cecd66f247e3b1baf55261363aff"
      }
     },
     "a0c77b7325da4c00822b5b0a17024253": {
      "model_module": "@jupyter-widgets/controls",
      "model_module_version": "1.5.0",
      "model_name": "ButtonModel",
      "state": {
       "description": "Clear all",
       "layout": "IPY_MODEL_50f0613dcac04da1a826c4d3d67a75b1",
       "style": "IPY_MODEL_35ed6a13706b4d478c75b279a9b4db2b"
      }
     },
     "a116b52606474012a86c5567e4c357ae": {
      "model_module": "@jupyter-widgets/controls",
      "model_module_version": "1.5.0",
      "model_name": "SliderStyleModel",
      "state": {
       "description_width": ""
      }
     },
     "a133be3487fb46eca37cb4ea8c0beb04": {
      "model_module": "@jupyter-widgets/controls",
      "model_module_version": "1.5.0",
      "model_name": "DescriptionStyleModel",
      "state": {
       "description_width": ""
      }
     },
     "a1d71dc296c44dc68d080e8d1c0efe24": {
      "model_module": "@jupyter-widgets/base",
      "model_module_version": "1.2.0",
      "model_name": "LayoutModel",
      "state": {}
     },
     "a231877b708b4e5d8bb9a4ca750e821e": {
      "model_module": "@jupyter-widgets/controls",
      "model_module_version": "1.5.0",
      "model_name": "DescriptionStyleModel",
      "state": {
       "description_width": ""
      }
     },
     "a2a03b31f120461abf13c68cb37335c7": {
      "model_module": "@jupyter-widgets/base",
      "model_module_version": "1.2.0",
      "model_name": "LayoutModel",
      "state": {}
     },
     "a34de48d9391455ab9fe4e68c06ff1e0": {
      "model_module": "@jupyter-widgets/base",
      "model_module_version": "1.2.0",
      "model_name": "LayoutModel",
      "state": {}
     },
     "a49967da2f2e4667825faa39d41c7eb9": {
      "model_module": "@jupyter-widgets/base",
      "model_module_version": "1.2.0",
      "model_name": "LayoutModel",
      "state": {}
     },
     "a53f927d965348adae734afe0d2a1bd1": {
      "model_module": "@jupyter-widgets/controls",
      "model_module_version": "1.5.0",
      "model_name": "DescriptionStyleModel",
      "state": {
       "description_width": ""
      }
     },
     "a5972da59c604485abb4993c535eda0b": {
      "model_module": "@jupyter-widgets/base",
      "model_module_version": "1.2.0",
      "model_name": "LayoutModel",
      "state": {}
     },
     "a645c7f8ef184d049429d66340640b2c": {
      "model_module": "@jupyter-widgets/controls",
      "model_module_version": "1.5.0",
      "model_name": "ButtonModel",
      "state": {
       "description": "Clear",
       "layout": "IPY_MODEL_5adbb1fc098c42728200e6832315aa4f",
       "style": "IPY_MODEL_5ad4441679d54c2e999ba2dff9945d89"
      }
     },
     "a66c34b5c68046dfaf72cc2a95f0c838": {
      "model_module": "@jupyter-widgets/base",
      "model_module_version": "1.2.0",
      "model_name": "LayoutModel",
      "state": {}
     },
     "a766a02b80374155883572885cb30e55": {
      "model_module": "@jupyter-widgets/controls",
      "model_module_version": "1.5.0",
      "model_name": "TextModel",
      "state": {
       "description": "Target URL:",
       "layout": "IPY_MODEL_fee96b35b0804e85a695b148f0241b9c",
       "style": "IPY_MODEL_bc113e38f0064bb1a683650a6b881bb4",
       "value": "http://bl.uk"
      }
     },
     "a7d69e8a420b42338f2aac08a8a3985b": {
      "model_module": "@jupyter-widgets/controls",
      "model_module_version": "1.5.0",
      "model_name": "ButtonModel",
      "state": {
       "button_style": "primary",
       "description": "Get screenshot",
       "layout": "IPY_MODEL_24c6a9a14dbe4609bc927748b8cb8cff",
       "style": "IPY_MODEL_eaf9d9d46ba04e56b9e2729c4d3a9fc2"
      }
     },
     "a9567ff4ea804fa8b7f60753e6084f73": {
      "model_module": "@jupyter-widgets/base",
      "model_module_version": "1.2.0",
      "model_name": "LayoutModel",
      "state": {}
     },
     "ab4f5100e0444ad387034b002deda18c": {
      "model_module": "@jupyter-widgets/controls",
      "model_module_version": "1.5.0",
      "model_name": "HBoxModel",
      "state": {
       "children": [
        "IPY_MODEL_20ff317ee4574933b6bac3540b55d6b6",
        "IPY_MODEL_a0c77b7325da4c00822b5b0a17024253"
       ],
       "layout": "IPY_MODEL_bca31a2b56ce4cef8a24ce2d75f04362"
      }
     },
     "ab9fe697b69b49c888a5c3d25c39d169": {
      "model_module": "@jupyter-widgets/controls",
      "model_module_version": "1.5.0",
      "model_name": "DescriptionStyleModel",
      "state": {
       "description_width": ""
      }
     },
     "abc8d639c7894aaa950c8e00105fcdac": {
      "model_module": "@jupyter-widgets/controls",
      "model_module_version": "1.5.0",
      "model_name": "DescriptionStyleModel",
      "state": {
       "description_width": ""
      }
     },
     "ac966504f17b4799b2cf6e3e67267e61": {
      "model_module": "@jupyter-widgets/controls",
      "model_module_version": "1.5.0",
      "model_name": "ButtonStyleModel",
      "state": {}
     },
     "ad8bb4fa00be4841b21abfc527d57609": {
      "model_module": "@jupyter-widgets/base",
      "model_module_version": "1.2.0",
      "model_name": "LayoutModel",
      "state": {}
     },
     "adff2d78a13444df82b30ac0fd850e33": {
      "model_module": "@jupyter-widgets/controls",
      "model_module_version": "1.5.0",
      "model_name": "TextModel",
      "state": {
       "description": "Target URL:",
       "layout": "IPY_MODEL_c9163544c67641e988145ec45138933d",
       "style": "IPY_MODEL_c9a7d411664d478fb412d710e160eab0",
       "value": "http://nla.gov.au"
      }
     },
     "ae48f6363abc4ae6a6873ad602866690": {
      "model_module": "@jupyter-widgets/controls",
      "model_module_version": "1.5.0",
      "model_name": "VBoxModel",
      "state": {
       "children": [
        "IPY_MODEL_3f921fa94a564b829922bb0457247066",
        "IPY_MODEL_715f1cf87a374460b31e2d0a0390673b"
       ],
       "layout": "IPY_MODEL_2b7d4ffb819348b8b68249bc57bf116b"
      }
     },
     "af157212b16e415499f648cd76b791d6": {
      "model_module": "@jupyter-widgets/output",
      "model_module_version": "1.0.0",
      "model_name": "OutputModel",
      "state": {
       "layout": "IPY_MODEL_cf24c9eecb46423382640d733e0878dd"
      }
     },
     "af718d50a41245ef98eebeb7df6daa12": {
      "model_module": "@jupyter-widgets/base",
      "model_module_version": "1.2.0",
      "model_name": "LayoutModel",
      "state": {}
     },
     "afbf213bbd67431a96e9d0e37fa7b0c6": {
      "model_module": "@jupyter-widgets/controls",
      "model_module_version": "1.5.0",
      "model_name": "VBoxModel",
      "state": {
       "children": [
        "IPY_MODEL_adff2d78a13444df82b30ac0fd850e33",
        "IPY_MODEL_8ed67e368ee4414f8fe3f1d8f1240955"
       ],
       "layout": "IPY_MODEL_1fc2b7a059aa497881977256cbfbd2ad"
      }
     },
     "afdab2ef6c30406f881d5ef6ab5ba079": {
      "model_module": "@jupyter-widgets/controls",
      "model_module_version": "1.5.0",
      "model_name": "ButtonStyleModel",
      "state": {}
     },
     "b15c4f4b43a04e2cbae776a7c5fabfe4": {
      "model_module": "@jupyter-widgets/controls",
      "model_module_version": "1.5.0",
      "model_name": "TextModel",
      "state": {
       "description": "Target URL:",
       "layout": "IPY_MODEL_bb31e2ebe28d4a3d8c057c38016952af",
       "style": "IPY_MODEL_485856836ed84a7e98076d4c6d036093",
       "value": "http://bl.uk"
      }
     },
     "b1b3647d385743e1a1faf167eadcb8d8": {
      "model_module": "@jupyter-widgets/controls",
      "model_module_version": "1.5.0",
      "model_name": "ButtonModel",
      "state": {
       "description": "Clear all",
       "layout": "IPY_MODEL_850d535df6eb4087a6faacbcdbd0341f",
       "style": "IPY_MODEL_447ee944dcfd46728d8341ab83d6759e"
      }
     },
     "b2804abf25374b1bbce676458273a9a9": {
      "model_module": "@jupyter-widgets/controls",
      "model_module_version": "1.5.0",
      "model_name": "HBoxModel",
      "state": {
       "children": [
        "IPY_MODEL_483bbbd278f14aac9412a387e81113f7",
        "IPY_MODEL_650df612319b4d22bef16ac13ef5025b"
       ],
       "layout": "IPY_MODEL_a9567ff4ea804fa8b7f60753e6084f73"
      }
     },
     "b2cb601ea3e14e369d149c71d76c1719": {
      "model_module": "@jupyter-widgets/output",
      "model_module_version": "1.0.0",
      "model_name": "OutputModel",
      "state": {
       "layout": "IPY_MODEL_c4dce52627c9452980ef5de1539c9110",
       "outputs": [
        {
         "data": {
          "text/html": "<div style=\"float:left; margin-left: 20px;\"><p><b>5 January 2010</b><br><a href=\"https://www.webarchive.org.uk/wayback/archive/20100101010000mp_/https://bl.uk/\">https://bl.uk</a></p><p><a href=\"screenshots/bl-uk-20100101010000-200.png\"><img src=\"screenshots/bl-uk-20100101010000-200.png\"></a><br><a href=\"screenshots/bl-uk-20100101010000-200.png\">[Download]</a></p></div>",
          "text/plain": "<IPython.core.display.HTML object>"
         },
         "metadata": {},
         "output_type": "display_data"
        }
       ]
      }
     },
     "b2d2e2c8026845fc953880bf330bcb30": {
      "model_module": "@jupyter-widgets/controls",
      "model_module_version": "1.5.0",
      "model_name": "DatePickerModel",
      "state": {
       "description": "Target date: ",
       "disabled": false,
       "layout": "IPY_MODEL_e416cfb850f742ffbf6346c23151fe24",
       "style": "IPY_MODEL_2a4610d7e5dc4a068a30cba9852c33e7"
      }
     },
     "b36835f399304a76915bb218695f506a": {
      "model_module": "@jupyter-widgets/base",
      "model_module_version": "1.2.0",
      "model_name": "LayoutModel",
      "state": {}
     },
     "b379cee864544a29b81de9e156f3cb1b": {
      "model_module": "@jupyter-widgets/output",
      "model_module_version": "1.0.0",
      "model_name": "OutputModel",
      "state": {
       "layout": "IPY_MODEL_fd23befc8d624df4859704510520541f"
      }
     },
     "b387efd1dfe14abfa3478860ddb3f35b": {
      "model_module": "@jupyter-widgets/controls",
      "model_module_version": "1.5.0",
      "model_name": "DescriptionStyleModel",
      "state": {
       "description_width": ""
      }
     },
     "b3a64b36da364c2895cf64aca7209e6e": {
      "model_module": "@jupyter-widgets/base",
      "model_module_version": "1.2.0",
      "model_name": "LayoutModel",
      "state": {}
     },
     "b3a6b60eacd841d4b3953dcac17acf18": {
      "model_module": "@jupyter-widgets/base",
      "model_module_version": "1.2.0",
      "model_name": "LayoutModel",
      "state": {}
     },
     "b40ce53b66f848cda413ac8d949d747b": {
      "model_module": "@jupyter-widgets/controls",
      "model_module_version": "1.5.0",
      "model_name": "DescriptionStyleModel",
      "state": {
       "description_width": ""
      }
     },
     "b4271012410642c79fe7cd6e6e6d57a3": {
      "model_module": "@jupyter-widgets/controls",
      "model_module_version": "1.5.0",
      "model_name": "HBoxModel",
      "state": {
       "children": [
        "IPY_MODEL_f09f5e4a93684b35a5841effaa8da389",
        "IPY_MODEL_065c05ce9acc4c0b990b9f6d531e5d18"
       ],
       "layout": "IPY_MODEL_bc8a238933244a798e23636597e23c53"
      }
     },
     "b551c01ffbf84f10803825642b18b6db": {
      "model_module": "@jupyter-widgets/controls",
      "model_module_version": "1.5.0",
      "model_name": "ButtonStyleModel",
      "state": {}
     },
     "b5f026fa28cc4338b1509e0764bcc306": {
      "model_module": "@jupyter-widgets/base",
      "model_module_version": "1.2.0",
      "model_name": "LayoutModel",
      "state": {}
     },
     "b6bf24aa71ec4a28965e6192fb0e8f96": {
      "model_module": "@jupyter-widgets/base",
      "model_module_version": "1.2.0",
      "model_name": "LayoutModel",
      "state": {}
     },
     "b7924c0cfc2b4800b139c8af8f342966": {
      "model_module": "@jupyter-widgets/controls",
      "model_module_version": "1.5.0",
      "model_name": "SliderStyleModel",
      "state": {
       "description_width": ""
      }
     },
     "b84ab06d280a4268a10729415ac4e0e7": {
      "model_module": "@jupyter-widgets/base",
      "model_module_version": "1.2.0",
      "model_name": "LayoutModel",
      "state": {}
     },
     "b8bb297532c94ba6af7ca3b044c1b56d": {
      "model_module": "@jupyter-widgets/controls",
      "model_module_version": "1.5.0",
      "model_name": "DescriptionStyleModel",
      "state": {
       "description_width": ""
      }
     },
     "b8e9b18bffef454d8bc6729572e99bca": {
      "model_module": "@jupyter-widgets/controls",
      "model_module_version": "1.5.0",
      "model_name": "VBoxModel",
      "state": {
       "children": [
        "IPY_MODEL_2b2353a3bb3e443eac44eaa0cffd7d96",
        "IPY_MODEL_92ac03fd0f764594aafaf1d86a3d3308"
       ],
       "layout": "IPY_MODEL_8ced5c38ac1743209165a45d08316eb7"
      }
     },
     "b9065553350f4e619e723e675d263900": {
      "model_module": "@jupyter-widgets/base",
      "model_module_version": "1.2.0",
      "model_name": "LayoutModel",
      "state": {}
     },
     "b9cc5af8334b4a7ba72bb7b0a7dc76eb": {
      "model_module": "@jupyter-widgets/controls",
      "model_module_version": "1.5.0",
      "model_name": "DatePickerModel",
      "state": {
       "description": "Target date: ",
       "disabled": false,
       "layout": "IPY_MODEL_d0aec51ef28e4d06a195c08ed52f8ee0",
       "style": "IPY_MODEL_b40ce53b66f848cda413ac8d949d747b"
      }
     },
     "ba44ea4bb27942ffbbc51bba02f929d9": {
      "model_module": "@jupyter-widgets/controls",
      "model_module_version": "1.5.0",
      "model_name": "ButtonModel",
      "state": {
       "button_style": "primary",
       "description": "Get screenshot",
       "layout": "IPY_MODEL_a5972da59c604485abb4993c535eda0b",
       "style": "IPY_MODEL_b551c01ffbf84f10803825642b18b6db"
      }
     },
     "ba7c2064917b410bb7f821a9e57782cb": {
      "model_module": "@jupyter-widgets/base",
      "model_module_version": "1.2.0",
      "model_name": "LayoutModel",
      "state": {}
     },
     "ba8951ae276e45ec91b92d6b8f4de6b6": {
      "model_module": "@jupyter-widgets/controls",
      "model_module_version": "1.5.0",
      "model_name": "IntSliderModel",
      "state": {
       "continuous_update": false,
       "description": "Width:",
       "layout": "IPY_MODEL_a34de48d9391455ab9fe4e68c06ff1e0",
       "max": 1000,
       "min": 200,
       "step": 100,
       "style": "IPY_MODEL_a116b52606474012a86c5567e4c357ae",
       "value": 200
      }
     },
     "bb31e2ebe28d4a3d8c057c38016952af": {
      "model_module": "@jupyter-widgets/base",
      "model_module_version": "1.2.0",
      "model_name": "LayoutModel",
      "state": {}
     },
     "bb9db6b332ad4994a663222d440a8d96": {
      "model_module": "@jupyter-widgets/base",
      "model_module_version": "1.2.0",
      "model_name": "LayoutModel",
      "state": {}
     },
     "bbb604cc79ab4d868f5dcce1cdcfdfb4": {
      "model_module": "@jupyter-widgets/controls",
      "model_module_version": "1.5.0",
      "model_name": "SliderStyleModel",
      "state": {
       "description_width": ""
      }
     },
     "bbef0e05c2b341e1b2cb123db37c3b43": {
      "model_module": "@jupyter-widgets/controls",
      "model_module_version": "1.5.0",
      "model_name": "DatePickerModel",
      "state": {
       "description": "Target date: ",
       "disabled": false,
       "layout": "IPY_MODEL_874714fec4ec448facf3ca0e6d14221c",
       "style": "IPY_MODEL_ab9fe697b69b49c888a5c3d25c39d169"
      }
     },
     "bc113e38f0064bb1a683650a6b881bb4": {
      "model_module": "@jupyter-widgets/controls",
      "model_module_version": "1.5.0",
      "model_name": "DescriptionStyleModel",
      "state": {
       "description_width": ""
      }
     },
     "bc81d94777334438811dcab257c1ad67": {
      "model_module": "@jupyter-widgets/output",
      "model_module_version": "1.0.0",
      "model_name": "OutputModel",
      "state": {
       "layout": "IPY_MODEL_eb277f1119c54e08a20b91695685beb7"
      }
     },
     "bc8910686be244388b8787c77b0d04b4": {
      "model_module": "@jupyter-widgets/output",
      "model_module_version": "1.0.0",
      "model_name": "OutputModel",
      "state": {
       "layout": "IPY_MODEL_d6bb532822624a7497a21912a420a274"
      }
     },
     "bc8a238933244a798e23636597e23c53": {
      "model_module": "@jupyter-widgets/base",
      "model_module_version": "1.2.0",
      "model_name": "LayoutModel",
      "state": {
       "padding": "20px"
      }
     },
     "bca31a2b56ce4cef8a24ce2d75f04362": {
      "model_module": "@jupyter-widgets/base",
      "model_module_version": "1.2.0",
      "model_name": "LayoutModel",
      "state": {}
     },
     "bcb49fa7951e4592848b6b548f322048": {
      "model_module": "@jupyter-widgets/controls",
      "model_module_version": "1.5.0",
      "model_name": "ButtonModel",
      "state": {
       "description": "Clear last",
       "layout": "IPY_MODEL_657ac7c0f1af4a97a9d8d4188f558fd5",
       "style": "IPY_MODEL_8bfca474a0ca4879924abef3a9827ae3"
      }
     },
     "bea6f2f4df104ea9b7103e24659fef6b": {
      "model_module": "@jupyter-widgets/controls",
      "model_module_version": "1.5.0",
      "model_name": "DescriptionStyleModel",
      "state": {
       "description_width": ""
      }
     },
     "bf479c3e5588413f9bf45045cb4f81bf": {
      "model_module": "@jupyter-widgets/base",
      "model_module_version": "1.2.0",
      "model_name": "LayoutModel",
      "state": {}
     },
     "bf5ae8256b0c46069f3d4a65228d94df": {
      "model_module": "@jupyter-widgets/base",
      "model_module_version": "1.2.0",
      "model_name": "LayoutModel",
      "state": {}
     },
     "bfc8cc4fe6444fca871bbabf25de8950": {
      "model_module": "@jupyter-widgets/controls",
      "model_module_version": "1.5.0",
      "model_name": "ButtonModel",
      "state": {
       "description": "Clear",
       "layout": "IPY_MODEL_b3a64b36da364c2895cf64aca7209e6e",
       "style": "IPY_MODEL_1e0ca94e4dce4006843c8985c92d9b99"
      }
     },
     "bfcc1b3865f74b5bbf86edcd446d35bd": {
      "model_module": "@jupyter-widgets/base",
      "model_module_version": "1.2.0",
      "model_name": "LayoutModel",
      "state": {
       "padding": "20px"
      }
     },
     "c00da800585b4f42880879f71288a5e2": {
      "model_module": "@jupyter-widgets/output",
      "model_module_version": "1.0.0",
      "model_name": "OutputModel",
      "state": {
       "layout": "IPY_MODEL_21721eb6e36d40d8a0c841d4eeb2ab6c"
      }
     },
     "c0c2c2a79baf4267bb601a248bcf0fc2": {
      "model_module": "@jupyter-widgets/output",
      "model_module_version": "1.0.0",
      "model_name": "OutputModel",
      "state": {
       "layout": "IPY_MODEL_e5dd258d4d0f4006b4b2f82453d48490"
      }
     },
     "c150f7ffce03474a85a881c8192ab651": {
      "model_module": "@jupyter-widgets/controls",
      "model_module_version": "1.5.0",
      "model_name": "HBoxModel",
      "state": {
       "children": [
        "IPY_MODEL_480debf1335445bf836c60309bad4afa",
        "IPY_MODEL_b1b3647d385743e1a1faf167eadcb8d8",
        "IPY_MODEL_8ef0c008477c47aebb39a61fa790a49e"
       ],
       "layout": "IPY_MODEL_17f8abf5d73b49ab8fb3fe97d3dce281"
      }
     },
     "c2f482cf1bb142c7b8f7f3151983e718": {
      "model_module": "@jupyter-widgets/base",
      "model_module_version": "1.2.0",
      "model_name": "LayoutModel",
      "state": {}
     },
     "c2fcd770c5fd4300ac8d3d5b65a05853": {
      "model_module": "@jupyter-widgets/controls",
      "model_module_version": "1.5.0",
      "model_name": "DropdownModel",
      "state": {
       "_options_labels": [
        "---",
        "UK Web Archive",
        "National Library of Australia",
        "National Library of New Zealand",
        "Internet Archive"
       ],
       "description": "Archive:",
       "index": 0,
       "layout": "IPY_MODEL_0a6e3e167bd74337ab1245a5835eb78c",
       "style": "IPY_MODEL_16b66464388c4e1296e715752a25da89"
      }
     },
     "c42122b95ae548caa602d9aff05185b7": {
      "model_module": "@jupyter-widgets/controls",
      "model_module_version": "1.5.0",
      "model_name": "DescriptionStyleModel",
      "state": {
       "description_width": ""
      }
     },
     "c431a771c13a41a3b46e74b85a0b16db": {
      "model_module": "@jupyter-widgets/controls",
      "model_module_version": "1.5.0",
      "model_name": "DescriptionStyleModel",
      "state": {
       "description_width": ""
      }
     },
     "c4d98fa6910f4c62862115b61cbcb15c": {
      "model_module": "@jupyter-widgets/base",
      "model_module_version": "1.2.0",
      "model_name": "LayoutModel",
      "state": {}
     },
     "c4dce52627c9452980ef5de1539c9110": {
      "model_module": "@jupyter-widgets/base",
      "model_module_version": "1.2.0",
      "model_name": "LayoutModel",
      "state": {}
     },
     "c657d488ae234dae9ad82825cc939f0d": {
      "model_module": "@jupyter-widgets/controls",
      "model_module_version": "1.5.0",
      "model_name": "DropdownModel",
      "state": {
       "_options_labels": [
        "---",
        "UK Web Archive",
        "National Library of Australia",
        "National Library of New Zealand",
        "Internet Archive"
       ],
       "description": "Archive:",
       "index": 0,
       "layout": "IPY_MODEL_3e073500143f4fd4aa5431f09f1693a8",
       "style": "IPY_MODEL_3878a1a638274c1d98dd5914680427a2"
      }
     },
     "c65a95fcef5f475fb1ffe4d0d96c80a5": {
      "model_module": "@jupyter-widgets/controls",
      "model_module_version": "1.5.0",
      "model_name": "HBoxModel",
      "state": {
       "children": [
        "IPY_MODEL_c9c077dd03f94108bfebc8d9835e75ba",
        "IPY_MODEL_afbf213bbd67431a96e9d0e37fa7b0c6"
       ],
       "layout": "IPY_MODEL_d87f55d335bf4807b0cf29719bbd7a6f"
      }
     },
     "c6af1f769b2b4452abc26e7f0a3a0e11": {
      "model_module": "@jupyter-widgets/base",
      "model_module_version": "1.2.0",
      "model_name": "LayoutModel",
      "state": {}
     },
     "c6cd862822aa401f94091df60b3abc09": {
      "model_module": "@jupyter-widgets/controls",
      "model_module_version": "1.5.0",
      "model_name": "DescriptionStyleModel",
      "state": {
       "description_width": ""
      }
     },
     "c6d072f97c864900996e2315fbd09ab0": {
      "model_module": "@jupyter-widgets/base",
      "model_module_version": "1.2.0",
      "model_name": "LayoutModel",
      "state": {}
     },
     "c6dbce3a8af3489ab0a67b513c1a40d5": {
      "model_module": "@jupyter-widgets/controls",
      "model_module_version": "1.5.0",
      "model_name": "IntSliderModel",
      "state": {
       "continuous_update": false,
       "description": "Width:",
       "layout": "IPY_MODEL_8a548f80036449ffa52b04db3920c5f6",
       "max": 1000,
       "min": 200,
       "step": 100,
       "style": "IPY_MODEL_0ca8029e746f4f33a7904e91474f3e91",
       "value": 200
      }
     },
     "c77ee6a2e88a4b01919c30a1dd0282c1": {
      "model_module": "@jupyter-widgets/base",
      "model_module_version": "1.2.0",
      "model_name": "LayoutModel",
      "state": {}
     },
     "c7bdcde78bfe462dacc754449f8c8603": {
      "model_module": "@jupyter-widgets/base",
      "model_module_version": "1.2.0",
      "model_name": "LayoutModel",
      "state": {}
     },
     "c8ce3990580d4ade9abccd01f5111f1a": {
      "model_module": "@jupyter-widgets/base",
      "model_module_version": "1.2.0",
      "model_name": "LayoutModel",
      "state": {}
     },
     "c9069ab494f14ed4a1f10d9503fe4e71": {
      "model_module": "@jupyter-widgets/output",
      "model_module_version": "1.0.0",
      "model_name": "OutputModel",
      "state": {
       "layout": "IPY_MODEL_faac49f6e56a411bbb391d34c6cd48f8",
       "outputs": [
        {
         "name": "stdout",
         "output_type": "stream",
         "text": "Something went wrong – http://nla.gov.au isn't a Memento – did you forget to select an archive?\n"
        }
       ]
      }
     },
     "c9163544c67641e988145ec45138933d": {
      "model_module": "@jupyter-widgets/base",
      "model_module_version": "1.2.0",
      "model_name": "LayoutModel",
      "state": {}
     },
     "c94034585858447186e03ab362bff753": {
      "model_module": "@jupyter-widgets/base",
      "model_module_version": "1.2.0",
      "model_name": "LayoutModel",
      "state": {}
     },
     "c95544e2fa6f4547b8f4e9e23b122994": {
      "model_module": "@jupyter-widgets/controls",
      "model_module_version": "1.5.0",
      "model_name": "DescriptionStyleModel",
      "state": {
       "description_width": ""
      }
     },
     "c9a7d411664d478fb412d710e160eab0": {
      "model_module": "@jupyter-widgets/controls",
      "model_module_version": "1.5.0",
      "model_name": "DescriptionStyleModel",
      "state": {
       "description_width": ""
      }
     },
     "c9c077dd03f94108bfebc8d9835e75ba": {
      "model_module": "@jupyter-widgets/controls",
      "model_module_version": "1.5.0",
      "model_name": "VBoxModel",
      "state": {
       "children": [
        "IPY_MODEL_3058b7ba685c445cbb73429244413930",
        "IPY_MODEL_b9cc5af8334b4a7ba72bb7b0a7dc76eb"
       ],
       "layout": "IPY_MODEL_9d46b1f44b5f434b9461016df0b7c4cb"
      }
     },
     "caf3b33a4bd84776a31c1bad93c176c8": {
      "model_module": "@jupyter-widgets/controls",
      "model_module_version": "1.5.0",
      "model_name": "ButtonStyleModel",
      "state": {}
     },
     "cb18c442bc8f41a1a3c2c085f113af8a": {
      "model_module": "@jupyter-widgets/controls",
      "model_module_version": "1.5.0",
      "model_name": "VBoxModel",
      "state": {
       "children": [
        "IPY_MODEL_c2fcd770c5fd4300ac8d3d5b65a05853",
        "IPY_MODEL_b2d2e2c8026845fc953880bf330bcb30"
       ],
       "layout": "IPY_MODEL_ba7c2064917b410bb7f821a9e57782cb"
      }
     },
     "cc54e9ae3db846f79a8c68948ccdd8b8": {
      "model_module": "@jupyter-widgets/controls",
      "model_module_version": "1.5.0",
      "model_name": "ButtonModel",
      "state": {
       "description": "Clear all",
       "layout": "IPY_MODEL_15294f7d950c4a52bff7dd71489467e2",
       "style": "IPY_MODEL_dade934ce568428f8757b1343a203f79"
      }
     },
     "cce65e4b01e64193971ec0516702b935": {
      "model_module": "@jupyter-widgets/controls",
      "model_module_version": "1.5.0",
      "model_name": "HBoxModel",
      "state": {
       "children": [
        "IPY_MODEL_d577c9e0ea5f49e9b4d9b779733b9979",
        "IPY_MODEL_80fb3a844cb1430faa36bf6be642eb04"
       ],
       "layout": "IPY_MODEL_07e94713e0db4aae8391ea9fe04d4596"
      }
     },
     "ccf487c7910a45539ba6c88a42e693dd": {
      "model_module": "@jupyter-widgets/controls",
      "model_module_version": "1.5.0",
      "model_name": "IntSliderModel",
      "state": {
       "continuous_update": false,
       "description": "Width:",
       "layout": "IPY_MODEL_3540a2eecb404e90ae2b35eb08c773bb",
       "max": 1000,
       "min": 200,
       "step": 100,
       "style": "IPY_MODEL_dea44ce5580442468fd712549cb7549b",
       "value": 200
      }
     },
     "cd364e33fa1d438b8e2cb0b70288eae2": {
      "model_module": "@jupyter-widgets/controls",
      "model_module_version": "1.5.0",
      "model_name": "SliderStyleModel",
      "state": {
       "description_width": ""
      }
     },
     "cd970f13d57b4a59b998cd25e04e7e4d": {
      "model_module": "@jupyter-widgets/controls",
      "model_module_version": "1.5.0",
      "model_name": "HBoxModel",
      "state": {
       "children": [
        "IPY_MODEL_610c278f08eb4a3e80e67bea2b2e4739",
        "IPY_MODEL_5d5fc044ba88409aada38821ef28ee5a"
       ],
       "layout": "IPY_MODEL_67325facac9d4da28f627ec558abc0f8"
      }
     },
     "ce01961eb0b9432e9e0a279dbc97e3c5": {
      "model_module": "@jupyter-widgets/controls",
      "model_module_version": "1.5.0",
      "model_name": "ButtonModel",
      "state": {
       "description": "Clear last",
       "layout": "IPY_MODEL_06de83615aa5453082d236fbd21039f5",
       "style": "IPY_MODEL_77ca08561f3148ee936cf0333a914c31"
      }
     },
     "ce0561b92ccb4263aa04025b6b4beffe": {
      "model_module": "@jupyter-widgets/controls",
      "model_module_version": "1.5.0",
      "model_name": "DropdownModel",
      "state": {
       "_options_labels": [
        "---",
        "UK Web Archive",
        "National Library of Australia",
        "National Library of New Zealand",
        "Internet Archive"
       ],
       "description": "Archive:",
       "index": 3,
       "layout": "IPY_MODEL_e0ace92f65c441a08260a33fbdc5903d",
       "style": "IPY_MODEL_66a1d118afcd46aeaf35fd56ced083a8"
      }
     },
     "cf1bf502d83e4a4586cfaf6bccf7523a": {
      "model_module": "@jupyter-widgets/base",
      "model_module_version": "1.2.0",
      "model_name": "LayoutModel",
      "state": {}
     },
     "cf24c9eecb46423382640d733e0878dd": {
      "model_module": "@jupyter-widgets/base",
      "model_module_version": "1.2.0",
      "model_name": "LayoutModel",
      "state": {}
     },
     "cf320c69ed0048089304da1aefd226d6": {
      "model_module": "@jupyter-widgets/controls",
      "model_module_version": "1.5.0",
      "model_name": "HBoxModel",
      "state": {
       "children": [
        "IPY_MODEL_080f87c61aa44280b643f167b3414e62",
        "IPY_MODEL_4bba4431fadd431d971283c858ac626d",
        "IPY_MODEL_ce01961eb0b9432e9e0a279dbc97e3c5"
       ],
       "layout": "IPY_MODEL_a2a03b31f120461abf13c68cb37335c7"
      }
     },
     "d0aec51ef28e4d06a195c08ed52f8ee0": {
      "model_module": "@jupyter-widgets/base",
      "model_module_version": "1.2.0",
      "model_name": "LayoutModel",
      "state": {}
     },
     "d0bcc94b94a54dd78f502f7867fca587": {
      "model_module": "@jupyter-widgets/controls",
      "model_module_version": "1.5.0",
      "model_name": "VBoxModel",
      "state": {
       "children": [
        "IPY_MODEL_6173b44febfa4854b3fc3e3e5fdbd671",
        "IPY_MODEL_69ef6c6f26c649eba7c3360dcae6721e"
       ],
       "layout": "IPY_MODEL_a49967da2f2e4667825faa39d41c7eb9"
      }
     },
     "d14026788034437ab3532d7394f55344": {
      "model_module": "@jupyter-widgets/base",
      "model_module_version": "1.2.0",
      "model_name": "LayoutModel",
      "state": {}
     },
     "d23043463ea84e01a0d593964a2568de": {
      "model_module": "@jupyter-widgets/controls",
      "model_module_version": "1.5.0",
      "model_name": "ButtonStyleModel",
      "state": {}
     },
     "d2ace69bddc646fca9f9dde981b3345f": {
      "model_module": "@jupyter-widgets/output",
      "model_module_version": "1.0.0",
      "model_name": "OutputModel",
      "state": {
       "layout": "IPY_MODEL_030a1eac2f304385949626c48b3ab862"
      }
     },
     "d3607da5a075400cb00db57ec81dc0b2": {
      "model_module": "@jupyter-widgets/controls",
      "model_module_version": "1.5.0",
      "model_name": "TextModel",
      "state": {
       "description": "Target URL:",
       "layout": "IPY_MODEL_2c11e0caa34d4620b6512308899526d2",
       "style": "IPY_MODEL_c95544e2fa6f4547b8f4e9e23b122994",
       "value": "http://nla.gov.au"
      }
     },
     "d394e1d319944ac3a7849c7e27bdbd40": {
      "model_module": "@jupyter-widgets/controls",
      "model_module_version": "1.5.0",
      "model_name": "DatePickerModel",
      "state": {
       "description": "Target date: ",
       "disabled": false,
       "layout": "IPY_MODEL_bf479c3e5588413f9bf45045cb4f81bf",
       "style": "IPY_MODEL_c6cd862822aa401f94091df60b3abc09"
      }
     },
     "d3d98451261e444f8bcbdc9c067a9da5": {
      "model_module": "@jupyter-widgets/controls",
      "model_module_version": "1.5.0",
      "model_name": "SliderStyleModel",
      "state": {
       "description_width": ""
      }
     },
     "d3f197c0a68b4437a0399df843fd90b5": {
      "model_module": "@jupyter-widgets/controls",
      "model_module_version": "1.5.0",
      "model_name": "DatePickerModel",
      "state": {
       "description": "Target date: ",
       "disabled": false,
       "layout": "IPY_MODEL_56180f6c42a44198be39b7bd01033064",
       "style": "IPY_MODEL_69ce509fe6c14bad8d43ed95b2957bbd"
      }
     },
     "d43522940b3d40e59e221c1ca032d038": {
      "model_module": "@jupyter-widgets/controls",
      "model_module_version": "1.5.0",
      "model_name": "SliderStyleModel",
      "state": {
       "description_width": ""
      }
     },
     "d4c49b6d5b2249978fb0035cad988b79": {
      "model_module": "@jupyter-widgets/base",
      "model_module_version": "1.2.0",
      "model_name": "LayoutModel",
      "state": {}
     },
     "d577c9e0ea5f49e9b4d9b779733b9979": {
      "model_module": "@jupyter-widgets/controls",
      "model_module_version": "1.5.0",
      "model_name": "VBoxModel",
      "state": {
       "children": [
        "IPY_MODEL_5bf2525da6064a3381595dc91f7fa2de",
        "IPY_MODEL_70794194d1274b87a618a972ad41159b"
       ],
       "layout": "IPY_MODEL_ff89140750264c60b7f63d7a6ba92c19"
      }
     },
     "d58db443946144fdb8b4fadf252139b6": {
      "model_module": "@jupyter-widgets/base",
      "model_module_version": "1.2.0",
      "model_name": "LayoutModel",
      "state": {}
     },
     "d5c712b6e64c44c59f3271e54f000433": {
      "model_module": "@jupyter-widgets/controls",
      "model_module_version": "1.5.0",
      "model_name": "HBoxModel",
      "state": {
       "children": [
        "IPY_MODEL_4d1d1b6f3b5c40b89e460dc8b1a6adcf",
        "IPY_MODEL_765ce88177b844f7ac902c96d0b0ae69"
       ],
       "layout": "IPY_MODEL_63fb7471c80146d3be48b9ac49709bde"
      }
     },
     "d67ad074efd04f0c8b114149f4ff2b1c": {
      "model_module": "@jupyter-widgets/output",
      "model_module_version": "1.0.0",
      "model_name": "OutputModel",
      "state": {
       "layout": "IPY_MODEL_eeba6d9f5c014b63bf3b724ab1fe707a"
      }
     },
     "d6bb532822624a7497a21912a420a274": {
      "model_module": "@jupyter-widgets/base",
      "model_module_version": "1.2.0",
      "model_name": "LayoutModel",
      "state": {}
     },
     "d7b081bf473f4ed4acaa30cb3ca23b6f": {
      "model_module": "@jupyter-widgets/base",
      "model_module_version": "1.2.0",
      "model_name": "LayoutModel",
      "state": {}
     },
     "d87f55d335bf4807b0cf29719bbd7a6f": {
      "model_module": "@jupyter-widgets/base",
      "model_module_version": "1.2.0",
      "model_name": "LayoutModel",
      "state": {
       "padding": "20px"
      }
     },
     "d8b22d7973fa41c29b24486114bd1acc": {
      "model_module": "@jupyter-widgets/controls",
      "model_module_version": "1.5.0",
      "model_name": "HBoxModel",
      "state": {
       "children": [
        "IPY_MODEL_4d82ffd7aa4746c6a91cbacc5504161b",
        "IPY_MODEL_f2354ce7fe8f4bbfa082958c9784296c"
       ],
       "layout": "IPY_MODEL_5bb9e6a141f04985b4730f62d99295bb"
      }
     },
     "d8d48c2e51ab4f00a1f6fc00a862e87d": {
      "model_module": "@jupyter-widgets/controls",
      "model_module_version": "1.5.0",
      "model_name": "DescriptionStyleModel",
      "state": {
       "description_width": ""
      }
     },
     "d929e0c55e864dc3910865b878d7e1f7": {
      "model_module": "@jupyter-widgets/controls",
      "model_module_version": "1.5.0",
      "model_name": "ButtonModel",
      "state": {
       "button_style": "primary",
       "description": "Get screenshot",
       "layout": "IPY_MODEL_37a5360b09894ea9b78830c72081be59",
       "style": "IPY_MODEL_caf3b33a4bd84776a31c1bad93c176c8"
      }
     },
     "d992ccfdffbd41ea86c5243a010a7023": {
      "model_module": "@jupyter-widgets/controls",
      "model_module_version": "1.5.0",
      "model_name": "ButtonModel",
      "state": {
       "button_style": "primary",
       "description": "Get screenshot",
       "layout": "IPY_MODEL_9a00132b04024a04bc323ee8141d250a",
       "style": "IPY_MODEL_0df87d4e5d104b04857c933e3798e97e"
      }
     },
     "d9d52de6d0a7463cb8c62417f73aa255": {
      "model_module": "@jupyter-widgets/controls",
      "model_module_version": "1.5.0",
      "model_name": "DescriptionStyleModel",
      "state": {
       "description_width": ""
      }
     },
     "dade934ce568428f8757b1343a203f79": {
      "model_module": "@jupyter-widgets/controls",
      "model_module_version": "1.5.0",
      "model_name": "ButtonStyleModel",
      "state": {}
     },
     "db9a0851d1c748ccac375f3e2cc2204a": {
      "model_module": "@jupyter-widgets/controls",
      "model_module_version": "1.5.0",
      "model_name": "HBoxModel",
      "state": {
       "children": [
        "IPY_MODEL_558e9b57286e4ffe9f9af22226bc16be",
        "IPY_MODEL_2c37fd6cc1064e94905af6488e25b7e7"
       ],
       "layout": "IPY_MODEL_65064ba74260410f88f416bc329e4b06"
      }
     },
     "dbab3af2b7fe43959ad606561a26cd94": {
      "model_module": "@jupyter-widgets/controls",
      "model_module_version": "1.5.0",
      "model_name": "ButtonModel",
      "state": {
       "description": "Clear last",
       "layout": "IPY_MODEL_65d0c0a8bce24191ba05bc59fdd3808a",
       "style": "IPY_MODEL_59dc52766cc343d88a14b9f5d6bb6dfe"
      }
     },
     "dbfb5ef5428a4eefa0f15ccb497d2249": {
      "model_module": "@jupyter-widgets/controls",
      "model_module_version": "1.5.0",
      "model_name": "TextModel",
      "state": {
       "description": "Target URL:",
       "layout": "IPY_MODEL_fa2e038b710d4f14934e7e7be5663cf8",
       "style": "IPY_MODEL_34885f7c6aeb46fc9fbefa48560d72c9",
       "value": "http://bl.uk"
      }
     },
     "dcb7ac94b95c4790b17f10eabdfb0c77": {
      "model_module": "@jupyter-widgets/base",
      "model_module_version": "1.2.0",
      "model_name": "LayoutModel",
      "state": {}
     },
     "dd3baa2f0c094e11b9a4e22b3096b52a": {
      "model_module": "@jupyter-widgets/controls",
      "model_module_version": "1.5.0",
      "model_name": "DescriptionStyleModel",
      "state": {
       "description_width": ""
      }
     },
     "ddb5b92a5567474689f83884f586a05a": {
      "model_module": "@jupyter-widgets/base",
      "model_module_version": "1.2.0",
      "model_name": "LayoutModel",
      "state": {}
     },
     "dea44ce5580442468fd712549cb7549b": {
      "model_module": "@jupyter-widgets/controls",
      "model_module_version": "1.5.0",
      "model_name": "SliderStyleModel",
      "state": {
       "description_width": ""
      }
     },
     "df57a05f049d4ac095928e8063d4fd17": {
      "model_module": "@jupyter-widgets/base",
      "model_module_version": "1.2.0",
      "model_name": "LayoutModel",
      "state": {}
     },
     "dfea9d8ea5574c0e8913e07bc18e64d1": {
      "model_module": "@jupyter-widgets/output",
      "model_module_version": "1.0.0",
      "model_name": "OutputModel",
      "state": {
       "layout": "IPY_MODEL_0c16fd8c1fda4b4aa3184dc5d4a0c0b7",
       "outputs": [
        {
         "name": "stdout",
         "output_type": "stream",
         "text": "Generating screenshot...\n"
        }
       ]
      }
     },
     "e0ace92f65c441a08260a33fbdc5903d": {
      "model_module": "@jupyter-widgets/base",
      "model_module_version": "1.2.0",
      "model_name": "LayoutModel",
      "state": {}
     },
     "e0d3140ae4a14b438a5a541d7455411f": {
      "model_module": "@jupyter-widgets/controls",
      "model_module_version": "1.5.0",
      "model_name": "ButtonStyleModel",
      "state": {}
     },
     "e0e97ba3866840e7b1e54fd60bdf9cef": {
      "model_module": "@jupyter-widgets/base",
      "model_module_version": "1.2.0",
      "model_name": "LayoutModel",
      "state": {}
     },
     "e103fd15099e450493021acb2ff7e8a5": {
      "model_module": "@jupyter-widgets/output",
      "model_module_version": "1.0.0",
      "model_name": "OutputModel",
      "state": {
       "layout": "IPY_MODEL_0888a271741f453cbb4f281f68b470b0",
       "outputs": [
        {
         "name": "stdout",
         "output_type": "stream",
         "text": "Something went wrong – http://nla.gov.au isn't a Memento – sorry...\n"
        }
       ]
      }
     },
     "e1a15c02e51c4f2ea64785865ff30a00": {
      "model_module": "@jupyter-widgets/base",
      "model_module_version": "1.2.0",
      "model_name": "LayoutModel",
      "state": {}
     },
     "e21db716d235496bb336daa332daa3ca": {
      "model_module": "@jupyter-widgets/controls",
      "model_module_version": "1.5.0",
      "model_name": "IntSliderModel",
      "state": {
       "continuous_update": false,
       "description": "Width:",
       "layout": "IPY_MODEL_27ceab0ee5b14ab18c8ec2fdd3660fe6",
       "max": 1000,
       "min": 200,
       "step": 100,
       "style": "IPY_MODEL_08f978ba3c57494bb6b400cb1a2494d0",
       "value": 200
      }
     },
     "e2e8cc2baa22402eb81be6c8e1d2c565": {
      "model_module": "@jupyter-widgets/base",
      "model_module_version": "1.2.0",
      "model_name": "LayoutModel",
      "state": {}
     },
     "e381b1d52d294d4aac6163d1c8c08e30": {
      "model_module": "@jupyter-widgets/controls",
      "model_module_version": "1.5.0",
      "model_name": "ButtonStyleModel",
      "state": {}
     },
     "e3acb47b36304fe697ee6923e8c975f0": {
      "model_module": "@jupyter-widgets/base",
      "model_module_version": "1.2.0",
      "model_name": "LayoutModel",
      "state": {}
     },
     "e416cfb850f742ffbf6346c23151fe24": {
      "model_module": "@jupyter-widgets/base",
      "model_module_version": "1.2.0",
      "model_name": "LayoutModel",
      "state": {}
     },
     "e43d04f8e40a4b6ba23f7923c7a19b79": {
      "model_module": "@jupyter-widgets/controls",
      "model_module_version": "1.5.0",
      "model_name": "DescriptionStyleModel",
      "state": {
       "description_width": ""
      }
     },
     "e48a138b59194f90b888916bf242fec8": {
      "model_module": "@jupyter-widgets/base",
      "model_module_version": "1.2.0",
      "model_name": "LayoutModel",
      "state": {}
     },
     "e4e05df69413455ca2aa0c5a3b693d8d": {
      "model_module": "@jupyter-widgets/controls",
      "model_module_version": "1.5.0",
      "model_name": "HBoxModel",
      "state": {
       "children": [
        "IPY_MODEL_6784e84f521348d28277e1c5966e42a5",
        "IPY_MODEL_50a796feb21548358954b8d598c55026"
       ],
       "layout": "IPY_MODEL_ea738a411b7b4f9eaea5a7595cab1d5e"
      }
     },
     "e50092a3da0d48e1ab6a00c6ed951843": {
      "model_module": "@jupyter-widgets/controls",
      "model_module_version": "1.5.0",
      "model_name": "HBoxModel",
      "state": {
       "children": [
        "IPY_MODEL_24bc4ee57672410290bd9d556676d931",
        "IPY_MODEL_07b35dacabfe479894be2c669c171a3f"
       ],
       "layout": "IPY_MODEL_f7cb9c719ca84de99027ed87dfc61a6a"
      }
     },
     "e5dd258d4d0f4006b4b2f82453d48490": {
      "model_module": "@jupyter-widgets/base",
      "model_module_version": "1.2.0",
      "model_name": "LayoutModel",
      "state": {}
     },
     "e5fd5675d0dc40fdb8db9285fea6f823": {
      "model_module": "@jupyter-widgets/base",
      "model_module_version": "1.2.0",
      "model_name": "LayoutModel",
      "state": {}
     },
     "e650a5c88a4e4bc4ae2af7f751a8eda1": {
      "model_module": "@jupyter-widgets/controls",
      "model_module_version": "1.5.0",
      "model_name": "DropdownModel",
      "state": {
       "_options_labels": [
        "---",
        "UK Web Archive",
        "National Library of Australia",
        "National Library of New Zealand",
        "Internet Archive"
       ],
       "description": "Archive:",
       "index": 1,
       "layout": "IPY_MODEL_c94034585858447186e03ab362bff753",
       "style": "IPY_MODEL_abc8d639c7894aaa950c8e00105fcdac"
      }
     },
     "e6528fe67c1845799df497462f8736c5": {
      "model_module": "@jupyter-widgets/controls",
      "model_module_version": "1.5.0",
      "model_name": "DropdownModel",
      "state": {
       "_options_labels": [
        "---",
        "UK Web Archive",
        "National Library of Australia",
        "National Library of New Zealand",
        "Internet Archive"
       ],
       "description": "Archive:",
       "index": 0,
       "layout": "IPY_MODEL_dcb7ac94b95c4790b17f10eabdfb0c77",
       "style": "IPY_MODEL_911af829172444dda57579b29fb61e4a"
      }
     },
     "e80fd2a7775c44bc9a6a18662b8bfec8": {
      "model_module": "@jupyter-widgets/base",
      "model_module_version": "1.2.0",
      "model_name": "LayoutModel",
      "state": {}
     },
     "e88655f7aeb54d448f1bd3976495e37b": {
      "model_module": "@jupyter-widgets/controls",
      "model_module_version": "1.5.0",
      "model_name": "HBoxModel",
      "state": {
       "children": [
        "IPY_MODEL_ae48f6363abc4ae6a6873ad602866690",
        "IPY_MODEL_b8e9b18bffef454d8bc6729572e99bca"
       ],
       "layout": "IPY_MODEL_946e066e3f9a4ecbb13564c197ed3e79"
      }
     },
     "e91d043b02cd43e8821f02de5fef8ed0": {
      "model_module": "@jupyter-widgets/output",
      "model_module_version": "1.0.0",
      "model_name": "OutputModel",
      "state": {
       "layout": "IPY_MODEL_490b06f2cf364e73b195a07536b05d28",
       "outputs": [
        {
         "data": {
          "text/html": "<div style=\"float:left; margin-left: 20px;\"><p><b>4 January 2020</b><br><a href=\"https://ndhadeliver.natlib.govt.nz/webarchive/wayback/20200130060106/https://natlib.govt.nz/\">https://natlib.govt.nz</a></p><p><a href=\"screenshots/natlib-govt-nz-20200130060106-200.png\"><img src=\"screenshots/natlib-govt-nz-20200130060106-200.png\"></a></p></div>",
          "text/plain": "<IPython.core.display.HTML object>"
         },
         "metadata": {},
         "output_type": "display_data"
        }
       ]
      }
     },
     "ea738a411b7b4f9eaea5a7595cab1d5e": {
      "model_module": "@jupyter-widgets/base",
      "model_module_version": "1.2.0",
      "model_name": "LayoutModel",
      "state": {
       "padding": "20px"
      }
     },
     "eaf9d9d46ba04e56b9e2729c4d3a9fc2": {
      "model_module": "@jupyter-widgets/controls",
      "model_module_version": "1.5.0",
      "model_name": "ButtonStyleModel",
      "state": {}
     },
     "eaff707ce2bb4bbaa1235f82439c0b83": {
      "model_module": "@jupyter-widgets/controls",
      "model_module_version": "1.5.0",
      "model_name": "TextModel",
      "state": {
       "description": "Target URL:",
       "layout": "IPY_MODEL_59362f89351747c088cd360aaddfd4c6",
       "style": "IPY_MODEL_29a7fa0774a14b7786a2bae9c67dfe6d",
       "value": "https://bl.uk"
      }
     },
     "eb277f1119c54e08a20b91695685beb7": {
      "model_module": "@jupyter-widgets/base",
      "model_module_version": "1.2.0",
      "model_name": "LayoutModel",
      "state": {}
     },
     "eb42741689e24d59a1575047c41e9d0c": {
      "model_module": "@jupyter-widgets/output",
      "model_module_version": "1.0.0",
      "model_name": "OutputModel",
      "state": {
       "layout": "IPY_MODEL_03238f32ec4440dbb08462b0dac2184e",
       "outputs": [
        {
         "data": {
          "text/html": "<div style=\"float:left; margin-left: 20px;\"><p><b>4 January 2020</b><br><a href=\"https://ndhadeliver.natlib.govt.nz/webarchive/wayback/20200130060106/https://natlib.govt.nz/\">https://natlib.govt.nz</a></p><p><a href=\"screenshots/natlib-govt-nz-20200130060106-200.png\"><img src=\"screenshots/natlib-govt-nz-20200130060106-200.png\"></a><br><a href=\"screenshots/natlib-govt-nz-20200130060106-200.png\">[Download]</a></p></div>",
          "text/plain": "<IPython.core.display.HTML object>"
         },
         "metadata": {},
         "output_type": "display_data"
        }
       ]
      }
     },
     "ecea024f3a004c90a24d21d76488a36e": {
      "model_module": "@jupyter-widgets/controls",
      "model_module_version": "1.5.0",
      "model_name": "DatePickerModel",
      "state": {
       "description": "Target date: ",
       "disabled": false,
       "layout": "IPY_MODEL_16366d1e3e8f41e3a2c4390097b0dec4",
       "style": "IPY_MODEL_30d19c409fe74d4eb98aada74c2669f4"
      }
     },
     "ed8c4d0b480349df908ad54591b9187f": {
      "model_module": "@jupyter-widgets/controls",
      "model_module_version": "1.5.0",
      "model_name": "DescriptionStyleModel",
      "state": {
       "description_width": ""
      }
     },
     "eeba6d9f5c014b63bf3b724ab1fe707a": {
      "model_module": "@jupyter-widgets/base",
      "model_module_version": "1.2.0",
      "model_name": "LayoutModel",
      "state": {}
     },
     "efc4239d8e0b456d8bff12c7fa42c4ad": {
      "model_module": "@jupyter-widgets/base",
      "model_module_version": "1.2.0",
      "model_name": "LayoutModel",
      "state": {}
     },
     "f066c1aa68664377acf1b0a3d9db9f10": {
      "model_module": "@jupyter-widgets/controls",
      "model_module_version": "1.5.0",
      "model_name": "IntSliderModel",
      "state": {
       "continuous_update": false,
       "description": "Width:",
       "layout": "IPY_MODEL_9ed695a3c238439482cfaf5e4ed88262",
       "max": 1000,
       "min": 200,
       "step": 100,
       "style": "IPY_MODEL_bbb604cc79ab4d868f5dcce1cdcfdfb4",
       "value": 200
      }
     },
     "f09f5e4a93684b35a5841effaa8da389": {
      "model_module": "@jupyter-widgets/controls",
      "model_module_version": "1.5.0",
      "model_name": "VBoxModel",
      "state": {
       "children": [
        "IPY_MODEL_e6528fe67c1845799df497462f8736c5",
        "IPY_MODEL_3f8c5aa4931c45c6b3f81aaa58110871"
       ],
       "layout": "IPY_MODEL_3b88db0df8d84fad888443a17df469a1"
      }
     },
     "f10b5fc9925a48668de0618c04d99576": {
      "model_module": "@jupyter-widgets/base",
      "model_module_version": "1.2.0",
      "model_name": "LayoutModel",
      "state": {}
     },
     "f1cf743842884e58b50f032035ec684e": {
      "model_module": "@jupyter-widgets/controls",
      "model_module_version": "1.5.0",
      "model_name": "HBoxModel",
      "state": {
       "children": [
        "IPY_MODEL_9285994933fe4991aaaaf28c69b4315f",
        "IPY_MODEL_a645c7f8ef184d049429d66340640b2c"
       ],
       "layout": "IPY_MODEL_841de34fc50641d49684b31af8f78f16"
      }
     },
     "f2354ce7fe8f4bbfa082958c9784296c": {
      "model_module": "@jupyter-widgets/controls",
      "model_module_version": "1.5.0",
      "model_name": "VBoxModel",
      "state": {
       "children": [
        "IPY_MODEL_2d575f48cc6248f1ab63159635508b3c",
        "IPY_MODEL_e21db716d235496bb336daa332daa3ca"
       ],
       "layout": "IPY_MODEL_806888191a404204ad99bb347b456078"
      }
     },
     "f338d435fba5419ab5ff6965d68d0750": {
      "model_module": "@jupyter-widgets/controls",
      "model_module_version": "1.5.0",
      "model_name": "HBoxModel",
      "state": {
       "children": [
        "IPY_MODEL_5d47138580804b6fa157e54d655c8d51",
        "IPY_MODEL_6e771215e1a14619b2bae213101c72b5",
        "IPY_MODEL_9a6da5bdcff34a1f8187ef0904ea5779"
       ],
       "layout": "IPY_MODEL_962715c6d0764b47b93d566e3170b605"
      }
     },
     "f5b9ece2fe694490b3b34ee1c34cb34f": {
      "model_module": "@jupyter-widgets/output",
      "model_module_version": "1.0.0",
      "model_name": "OutputModel",
      "state": {
       "layout": "IPY_MODEL_c2f482cf1bb142c7b8f7f3151983e718"
      }
     },
     "f5d6c867a2a049048173c822eabd7bb2": {
      "model_module": "@jupyter-widgets/base",
      "model_module_version": "1.2.0",
      "model_name": "LayoutModel",
      "state": {}
     },
     "f6101f5cfe984776b62241b84efd7c43": {
      "model_module": "@jupyter-widgets/base",
      "model_module_version": "1.2.0",
      "model_name": "LayoutModel",
      "state": {}
     },
     "f7cb9c719ca84de99027ed87dfc61a6a": {
      "model_module": "@jupyter-widgets/base",
      "model_module_version": "1.2.0",
      "model_name": "LayoutModel",
      "state": {
       "padding": "20px"
      }
     },
     "f92376a8344f444ba5edd56758971a89": {
      "model_module": "@jupyter-widgets/base",
      "model_module_version": "1.2.0",
      "model_name": "LayoutModel",
      "state": {}
     },
     "f988de292eb9478fa8bd7cbabe872193": {
      "model_module": "@jupyter-widgets/controls",
      "model_module_version": "1.5.0",
      "model_name": "IntSliderModel",
      "state": {
       "continuous_update": false,
       "description": "Width:",
       "layout": "IPY_MODEL_b9065553350f4e619e723e675d263900",
       "max": 1000,
       "min": 200,
       "step": 100,
       "style": "IPY_MODEL_474f6bc1bf334d1a9d187af0a343b70e",
       "value": 200
      }
     },
     "fa2e038b710d4f14934e7e7be5663cf8": {
      "model_module": "@jupyter-widgets/base",
      "model_module_version": "1.2.0",
      "model_name": "LayoutModel",
      "state": {}
     },
     "fa72facbee59403abc44926ebf50283e": {
      "model_module": "@jupyter-widgets/base",
      "model_module_version": "1.2.0",
      "model_name": "LayoutModel",
      "state": {
       "padding": "20px"
      }
     },
     "faac49f6e56a411bbb391d34c6cd48f8": {
      "model_module": "@jupyter-widgets/base",
      "model_module_version": "1.2.0",
      "model_name": "LayoutModel",
      "state": {}
     },
     "faf9f0e8df0f4a9cae9f7c2d49d03153": {
      "model_module": "@jupyter-widgets/base",
      "model_module_version": "1.2.0",
      "model_name": "LayoutModel",
      "state": {
       "padding": "20px"
      }
     },
     "fb33aedfacb24b0380fc15792dd78a21": {
      "model_module": "@jupyter-widgets/controls",
      "model_module_version": "1.5.0",
      "model_name": "ButtonStyleModel",
      "state": {}
     },
     "fb65a02951a94665ac648927db39cc63": {
      "model_module": "@jupyter-widgets/controls",
      "model_module_version": "1.5.0",
      "model_name": "HBoxModel",
      "state": {
       "children": [
        "IPY_MODEL_56054f35ddf24e1fb05c3785bcd813d3",
        "IPY_MODEL_39060bc79f544ece89aa9bf9af4d8f2e"
       ],
       "layout": "IPY_MODEL_faf9f0e8df0f4a9cae9f7c2d49d03153"
      }
     },
     "fc0e9b21e86741b2b7047d5704bde118": {
      "model_module": "@jupyter-widgets/controls",
      "model_module_version": "1.5.0",
      "model_name": "DescriptionStyleModel",
      "state": {
       "description_width": ""
      }
     },
     "fc73d764271543ed82fb823960e0f0bd": {
      "model_module": "@jupyter-widgets/base",
      "model_module_version": "1.2.0",
      "model_name": "LayoutModel",
      "state": {}
     },
     "fc9bf5a7470347588ca2c81aa28d68ae": {
      "model_module": "@jupyter-widgets/controls",
      "model_module_version": "1.5.0",
      "model_name": "IntSliderModel",
      "state": {
       "continuous_update": false,
       "description": "Width:",
       "layout": "IPY_MODEL_600655e3f7714093b426d814c24a066e",
       "max": 1000,
       "min": 200,
       "step": 100,
       "style": "IPY_MODEL_cd364e33fa1d438b8e2cb0b70288eae2",
       "value": 200
      }
     },
     "fd23befc8d624df4859704510520541f": {
      "model_module": "@jupyter-widgets/base",
      "model_module_version": "1.2.0",
      "model_name": "LayoutModel",
      "state": {}
     },
     "fe37e5a8f14f4ae98d9554fe0bc0d592": {
      "model_module": "@jupyter-widgets/controls",
      "model_module_version": "1.5.0",
      "model_name": "VBoxModel",
      "state": {
       "children": [
        "IPY_MODEL_3d85bc0032ad42079cc6bcea554f0979",
        "IPY_MODEL_2e9f3a291a854b119ca277458f837be7"
       ],
       "layout": "IPY_MODEL_c6d072f97c864900996e2315fbd09ab0"
      }
     },
     "fe6c29223d6944ed941ac4f29f77f3e5": {
      "model_module": "@jupyter-widgets/controls",
      "model_module_version": "1.5.0",
      "model_name": "IntSliderModel",
      "state": {
       "continuous_update": false,
       "description": "Width:",
       "layout": "IPY_MODEL_df57a05f049d4ac095928e8063d4fd17",
       "max": 1000,
       "min": 200,
       "step": 100,
       "style": "IPY_MODEL_17b782e4e2244ffc8b6fdeb23fecaf3b",
       "value": 200
      }
     },
     "fee96b35b0804e85a695b148f0241b9c": {
      "model_module": "@jupyter-widgets/base",
      "model_module_version": "1.2.0",
      "model_name": "LayoutModel",
      "state": {}
     },
     "ff04b76c073a400a8f52358de9a789cd": {
      "model_module": "@jupyter-widgets/output",
      "model_module_version": "1.0.0",
      "model_name": "OutputModel",
      "state": {
       "layout": "IPY_MODEL_699353a32964465bb1a0a808aa08f139"
      }
     },
     "ff89140750264c60b7f63d7a6ba92c19": {
      "model_module": "@jupyter-widgets/base",
      "model_module_version": "1.2.0",
      "model_name": "LayoutModel",
      "state": {}
     }
    },
    "version_major": 2,
    "version_minor": 0
   }
  }
 },
 "nbformat": 4,
 "nbformat_minor": 4
}
