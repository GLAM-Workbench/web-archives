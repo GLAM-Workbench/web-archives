{
 "cells": [
  {
   "cell_type": "markdown",
   "metadata": {},
   "source": [
    "# Get full page screenshots from archived web pages"
   ]
  },
  {
   "cell_type": "markdown",
   "metadata": {},
   "source": [
    "<p class=\"alert alert-warning\">Work in progress – this is an experimental tool. Some sites and captures cause errors for reasons I don't yet understand...<p>"
   ]
  },
  {
   "cell_type": "code",
   "execution_count": null,
   "metadata": {},
   "outputs": [],
   "source": [
    "%%capture\n",
    "from selenium import webdriver\n",
    "import requests\n",
    "import selenium\n",
    "from PIL import Image\n",
    "import PIL\n",
    "import io\n",
    "import base64\n",
    "import time\n",
    "import re\n",
    "import arrow\n",
    "from slugify import slugify\n",
    "from webdriverdownloader import GeckoDriverDownloader\n",
    "from pathlib import Path\n",
    "from IPython.display import display, HTML\n",
    "from urllib.parse import urlparse\n",
    "import ipywidgets as widgets\n",
    "\n",
    "gdd = GeckoDriverDownloader()\n",
    "geckodriver = gdd.download_and_install(\"v0.26.0\")[1]"
   ]
  },
  {
   "cell_type": "code",
   "execution_count": null,
   "metadata": {},
   "outputs": [],
   "source": [
    "%%capture\n",
    "%%javascript\n",
    "// This is necessary in Jupyter notebook to stop the output area folding up\n",
    "// Will give an error in Jupyter Lab\n",
    "IPython.OutputArea.prototype._should_scroll = function(lines) {return false}"
   ]
  },
  {
   "cell_type": "code",
   "execution_count": null,
   "metadata": {},
   "outputs": [],
   "source": [
    "TIMEGATES = {\n",
    "    'nla': 'https://web.archive.org.au/awa/',\n",
    "    'nlnz': 'https://ndhadeliver.natlib.govt.nz/webarchive/wayback/',\n",
    "    'bl': 'https://www.webarchive.org.uk/wayback/archive/',\n",
    "    'ia': 'https://web.archive.org/web/'\n",
    "}\n",
    "\n",
    "wayback = ['ndhadeliver.natlib.govt.nz', 'web.archive.org']\n",
    "pywb = {'web.archive.org.au': 'replayFrame', 'webarchive.nla.gov.au': 'replayFrame', 'webarchive.org.uk': 'replay_iframe'}\n",
    "\n",
    "html_output = []\n",
    "\n",
    "def format_date_for_headers(iso_date, tz):\n",
    "    '''\n",
    "    Convert an ISO date (YYYY-MM-DD) to a datetime at noon in the specified timezone.\n",
    "    Convert the datetime to UTC and format as required by Accet-Datetime headers:\n",
    "    eg Fri, 23 Mar 2007 01:00:00 GMT\n",
    "    '''\n",
    "    local = arrow.get(f'{iso_date} 12:00:00 {tz}', 'YYYY-MM-DD HH:mm:ss ZZZ')\n",
    "    gmt = local.to('utc')\n",
    "    return f'{gmt.format(\"ddd, DD MMM YYYY HH:mm:ss\")} GMT'\n",
    "\n",
    "def format_date_from_timestamp(url):\n",
    "    timestamp = re.search(r'/(\\d{14})(?:if_|mp_)*/', url).group(1)\n",
    "    return arrow.get(timestamp, 'YYYYMMDDHHmmss').format('d MMMM YYYY')\n",
    "\n",
    "def parse_links_from_headers(headers):\n",
    "    '''\n",
    "    Extract original, timegate, timemap, and memento links from 'Link' header.\n",
    "    '''\n",
    "    memento_links = {}\n",
    "    try:\n",
    "        links = re.findall(r'<(.*?)>; rel=\"(original|timegate|timemap|memento|first memento|prev memento|next memento|last memento)\"', headers['Link'])\n",
    "    except KeyError:\n",
    "        # print(headers)\n",
    "        return None\n",
    "    else:\n",
    "        for url, url_type in links:\n",
    "            memento_links[url_type] = url\n",
    "        return memento_links\n",
    "\n",
    "def query_timegate(timegate, url, date=None, tz='Australia/Canberra'):\n",
    "    headers = {}\n",
    "    if date:\n",
    "        formatted_date = format_date_for_headers(date, tz)\n",
    "        headers['Accept-Datetime'] = formatted_date\n",
    "    # BL & NLNZ don't seem to default to latest date if no date supplied\n",
    "    elif not date and timegate in ['bl', 'nlnz']:\n",
    "        formatted_date = format_date_for_headers(arrow.utcnow().format('YYYY-MM-DD'), tz)\n",
    "        headers['Accept-Datetime'] = formatted_date\n",
    "    # Note that you don't get a timegate response if you leave off the trailing slash, but extras don't hurt!\n",
    "    tg_url = f'{TIMEGATES[timegate]}{url}/' if not url.endswith('/') else f'{TIMEGATES[timegate]}{url}'\n",
    "    # print(tg_url)\n",
    "    # IA doesn't work with head, others don't work with get...\n",
    "    if timegate == 'ia':\n",
    "        response = requests.get(tg_url, headers=headers)\n",
    "    else:\n",
    "        response = requests.head(tg_url, headers=headers)\n",
    "    return parse_links_from_headers(response.headers)\n",
    "\n",
    "def get_memento():\n",
    "    links = query_timegate(repository.value, target_url.value, target_date.value)\n",
    "    # NLNZ doesn't always seem to return a Memento, so we'll build in some fuzziness\n",
    "    if links:\n",
    "        if 'memento' in links:\n",
    "            memento = links['memento']\n",
    "        elif 'prev memento' in links:\n",
    "            memento = links['prev memento']\n",
    "        elif 'next memento' in links:\n",
    "            memento = links['next memento']\n",
    "        elif 'last memento' in links:\n",
    "            memento = links['last memento']\n",
    "    else:\n",
    "        memento = None\n",
    "    return memento\n",
    "    \n",
    "def get_full_page_screenshot(url, save_width=200):\n",
    "    '''\n",
    "    Gets a full page screenshot of the supplied url.\n",
    "    By default resizes the screenshot to a maximum width of 200px.\n",
    "    Provide a 'save_width' value to change this.\n",
    "    \n",
    "    NOTE the webdriver sometimes fails for unknown reasons. Just try again.\n",
    "    '''\n",
    "    global html_output\n",
    "    domain = urlparse(url)[1].replace('www.', '')\n",
    "    # NZ and IA inject content into the page, so we use if_ to get the original page (with rewritten urls)\n",
    "    if domain in wayback and 'if_' not in url:\n",
    "        url = re.sub(r'/(\\d{14})/http', r'/\\1if_/http', url)\n",
    "    try:\n",
    "        date_str, site = re.search(r'/(\\d{14})(?:if_|mp_)*/https*://(.+/)', url).groups()\n",
    "    except AttributeError:\n",
    "        # There's something wrong with the link...\n",
    "        # print(url)\n",
    "        show_error(f'{url} isn\\'t a Memento – did you forget to select an archive?')\n",
    "    else:\n",
    "        ss_file = Path('screenshots', f'{slugify(site)}-{date_str}-{save_width}.png')\n",
    "        options = webdriver.FirefoxOptions()\n",
    "        options.headless = True\n",
    "        driver = webdriver.Firefox(executable_path=geckodriver, options=options)\n",
    "        driver.implicitly_wait(15)\n",
    "        driver.get(url)\n",
    "        # Give some time for everything to load\n",
    "        time.sleep(15)\n",
    "        driver.maximize_window()\n",
    "        current_width = driver.get_window_size()['width']\n",
    "        # UK and AU use pywb in framed replay mode, so we need to switch to the framed content\n",
    "        if domain in pywb:\n",
    "            try:\n",
    "                driver.switch_to.frame(pywb[domain])\n",
    "            except selenium.common.exceptions.NoSuchFrameException:\n",
    "                # If we pass here we'll probably still get a ss, just not full page -- better than failing?\n",
    "                pass\n",
    "        ss = None\n",
    "        for tag in ['body', 'html', 'frameset']:\n",
    "            try:\n",
    "                elem = driver.find_element_by_tag_name(tag)\n",
    "                ss = elem.screenshot_as_base64\n",
    "                break\n",
    "            except (selenium.common.exceptions.NoSuchElementException, selenium.common.exceptions.WebDriverException):\n",
    "                pass\n",
    "        driver.quit()\n",
    "        if not ss:\n",
    "            show_error(f'Couldn\\'t get a screenshot of {url} – sorry...')\n",
    "        else:\n",
    "            img = Image.open(io.BytesIO(base64.b64decode(ss)))\n",
    "            ratio = save_width / current_width\n",
    "            (width, height) = (round(img.width * ratio), round(img.height * ratio))\n",
    "            resized_img = img.resize((width, height), PIL.Image.LANCZOS)\n",
    "            resized_img.save(ss_file)\n",
    "            date = format_date_from_timestamp(url)\n",
    "            try:\n",
    "                display_url = re.search(r'/\\d{14}(?:mp_|if_|id_)*/(.*)$', url).group(1)\n",
    "            except AttributeError:\n",
    "                display_url = url\n",
    "            status.clear_output()\n",
    "            html_output.append(f'<div style=\"float:left; margin-left: 20px;\"><p><b>{date}</b><br><a href=\"{url.replace(\"if_/\", \"/\")}\">{display_url}</a></p><p><a href=\"{ss_file}\"><img src=\"{ss_file}\"></a><br><a href=\"{ss_file}\">[Download]</a></p></div>')\n",
    "            with out:\n",
    "                display((HTML(''.join(html_output))))\n",
    "\n",
    "def show_error(message=None):\n",
    "    status.clear_output()\n",
    "    with status:\n",
    "        print(f'Something went wrong – {message}')\n",
    "\n",
    "def start(e):\n",
    "    status.clear_output()\n",
    "    out.clear_output(wait=True)\n",
    "    with status:\n",
    "        print('Generating screenshot...')\n",
    "    if repository.value:\n",
    "        memento = get_memento()\n",
    "    else:\n",
    "        memento = target_url.value\n",
    "    if memento:\n",
    "        try:\n",
    "            get_full_page_screenshot(memento, save_width=width.value)\n",
    "        except selenium.common.exceptions.WebDriverException:\n",
    "            show_error(f'couldn\\'t get a screenshot of {memento} – sorry...')\n",
    "    else:\n",
    "        show_error('couldn\\'t find a Memento – sorry...')\n",
    "    \n",
    "def clear(e):\n",
    "    global html_output\n",
    "    html_output = []\n",
    "    status.clear_output()\n",
    "    out.clear_output()\n",
    "    \n",
    "def clear_last(e):\n",
    "    global html_output\n",
    "    html_output.pop()\n",
    "    out.clear_output(wait=True)\n",
    "    with out:\n",
    "        display((HTML(''.join(html_output))))\n",
    "\n",
    "repository = widgets.Dropdown(\n",
    "    options=[('---', ''), ('UK Web Archive', 'bl'), ('National Library of Australia', 'nla'), ('National Library of New Zealand', 'nlnz'), ('Internet Archive', 'ia')],\n",
    "    description='Archive:',\n",
    "    disabled=False,\n",
    ")\n",
    "\n",
    "target_url = widgets.Text(description='Target URL:')\n",
    "\n",
    "target_date = widgets.DatePicker(\n",
    "    description='Target date: ',\n",
    "    disabled=False\n",
    ")\n",
    "\n",
    "width = widgets.IntSlider(\n",
    "    value=7,\n",
    "    min=200,\n",
    "    max=1000,\n",
    "    step=100,\n",
    "    description='Width:',\n",
    "    disabled=False,\n",
    "    continuous_update=False,\n",
    "    orientation='horizontal',\n",
    "    readout=True,\n",
    "    readout_format='d'\n",
    ")\n",
    "\n",
    "out = widgets.Output()\n",
    "status = widgets.Output()\n",
    "ss_button = widgets.Button(description='Get screenshot', button_style='primary')\n",
    "ss_button.on_click(start)\n",
    "clear_button = widgets.Button(description='Clear all')\n",
    "clear_button.on_click(clear)\n",
    "clear_last_button = widgets.Button(description='Clear last')\n",
    "clear_last_button.on_click(clear_last)\n",
    "note = '''\n",
    "    <ul>\n",
    "    <li>Select a repository, and insert a url to generate a screenshot from the archive.</li>\n",
    "    <li>If you include a date, it\\'ll attempt to find the closest capture using Memento Timegates.</li>\n",
    "    <li>If you don't include a date, it'll give you the most recent capture.</li>\n",
    "    <li>If you already have the url of the exact capture you want, just put it in the 'Target url' box and leave 'Archive' and 'Target date' blank.\n",
    "    <li>You can add multiple screenshots to compare changes.</li>\n",
    "    </ul>\n",
    "    '''\n",
    "display(HTML(note), widgets.HBox([widgets.VBox([repository, target_date]), widgets.VBox([target_url, width])], layout=widgets.Layout(padding='20px')), widgets.HBox([ss_button, clear_button, clear_last_button]), status, out)"
   ]
  },
  {
   "cell_type": "markdown",
   "metadata": {},
   "source": [
    "----\n",
    "\n",
    "Work on this notebook was supported by the [IIPC Discretionary Funding Programme 2019-2020](http://netpreserve.org/projects/)"
   ]
  }
 ],
 "metadata": {
  "kernelspec": {
   "display_name": "Python 3",
   "language": "python",
   "name": "python3"
  },
  "language_info": {
   "codemirror_mode": {
    "name": "ipython",
    "version": 3
   },
   "file_extension": ".py",
   "mimetype": "text/x-python",
   "name": "python",
   "nbconvert_exporter": "python",
   "pygments_lexer": "ipython3",
   "version": "3.7.3"
  },
  "widgets": {
   "application/vnd.jupyter.widget-state+json": {
    "state": {
     "0061a8c8a9954c0f95138053124af7c8": {
      "model_module": "@jupyter-widgets/controls",
      "model_module_version": "1.5.0",
      "model_name": "DescriptionStyleModel",
      "state": {
       "description_width": ""
      }
     },
     "0087363254184cc48ac0b8072fd051f2": {
      "model_module": "@jupyter-widgets/controls",
      "model_module_version": "1.5.0",
      "model_name": "SliderStyleModel",
      "state": {
       "description_width": ""
      }
     },
     "00904f97de994b1fa854fd948c9d9299": {
      "model_module": "@jupyter-widgets/controls",
      "model_module_version": "1.5.0",
      "model_name": "HBoxModel",
      "state": {
       "children": [
        "IPY_MODEL_0763d673a97d419f9ba933d1fd4823d3",
        "IPY_MODEL_8ea05fb2b152435597cdcb2034962a1f"
       ],
       "layout": "IPY_MODEL_9b373909d6bd4d49a42fd9419f72e765"
      }
     },
     "00c7df29784d4edaad2faf638d0eb018": {
      "model_module": "@jupyter-widgets/base",
      "model_module_version": "1.2.0",
      "model_name": "LayoutModel",
      "state": {}
     },
     "011984e5c6fa4eb59040e3461dddc234": {
      "model_module": "@jupyter-widgets/controls",
      "model_module_version": "1.5.0",
      "model_name": "VBoxModel",
      "state": {
       "children": [
        "IPY_MODEL_8cd384d47a2443d28795f661da677233",
        "IPY_MODEL_e7814e1ac8ef4084900108332aa2c02c"
       ],
       "layout": "IPY_MODEL_c61f18c90e2148cfa641149981ce52b3"
      }
     },
     "012f4fd23c3d48adad5c210270b1b58b": {
      "model_module": "@jupyter-widgets/base",
      "model_module_version": "1.2.0",
      "model_name": "LayoutModel",
      "state": {
       "padding": "20px"
      }
     },
     "013a588e77ab43ec91a53b97a8f372f4": {
      "model_module": "@jupyter-widgets/controls",
      "model_module_version": "1.5.0",
      "model_name": "SliderStyleModel",
      "state": {
       "description_width": ""
      }
     },
     "01915b7d85a34c399f18d65a6b2062e6": {
      "model_module": "@jupyter-widgets/controls",
      "model_module_version": "1.5.0",
      "model_name": "DatePickerModel",
      "state": {
       "description": "Target date: ",
       "disabled": false,
       "layout": "IPY_MODEL_f9bf9162687e4ab7804749e175cb79d7",
       "style": "IPY_MODEL_a1286c6976bc4b658b3bf6c03fe16b8f"
      }
     },
     "0212e5c3c1d84f22b3980e7f76a17117": {
      "model_module": "@jupyter-widgets/base",
      "model_module_version": "1.2.0",
      "model_name": "LayoutModel",
      "state": {}
     },
     "025e2f9eb37f4807aa9dddd0683be4f5": {
      "model_module": "@jupyter-widgets/controls",
      "model_module_version": "1.5.0",
      "model_name": "ButtonStyleModel",
      "state": {}
     },
     "02e97715558a48529797b00d5282ea54": {
      "model_module": "@jupyter-widgets/output",
      "model_module_version": "1.0.0",
      "model_name": "OutputModel",
      "state": {
       "layout": "IPY_MODEL_5b86d2060be649c887d9a2d5788a9660"
      }
     },
     "0315a36b524848609996c9c4ede1c3e8": {
      "model_module": "@jupyter-widgets/controls",
      "model_module_version": "1.5.0",
      "model_name": "HBoxModel",
      "state": {
       "children": [
        "IPY_MODEL_571bdf6d2edf43c7986aa02067d9701a",
        "IPY_MODEL_79db58687eb4463a890fc74e055731ea",
        "IPY_MODEL_064e708cb56d45c0beb2c1a693c27b0b"
       ],
       "layout": "IPY_MODEL_a861a8a332b9467a8408a2082f4e9c40"
      }
     },
     "034f7ebb3c9f41a49d3950444771c900": {
      "model_module": "@jupyter-widgets/controls",
      "model_module_version": "1.5.0",
      "model_name": "ButtonModel",
      "state": {
       "description": "Clear last",
       "layout": "IPY_MODEL_42ac8cd171824b28a6d86d7d0ab43058",
       "style": "IPY_MODEL_711f059a20034460a5a57223c4c767af"
      }
     },
     "037c43d3a69143c9944bf2a88449bdf2": {
      "model_module": "@jupyter-widgets/output",
      "model_module_version": "1.0.0",
      "model_name": "OutputModel",
      "state": {
       "layout": "IPY_MODEL_e3e80a1260454e65af903cad32f42aae"
      }
     },
     "040fac475c044b33a152d75e5419cba9": {
      "model_module": "@jupyter-widgets/base",
      "model_module_version": "1.2.0",
      "model_name": "LayoutModel",
      "state": {}
     },
     "0442fd44dfaa42ec872c01ba84425051": {
      "model_module": "@jupyter-widgets/controls",
      "model_module_version": "1.5.0",
      "model_name": "DescriptionStyleModel",
      "state": {
       "description_width": ""
      }
     },
     "0466536be2114354aed8d712916439db": {
      "model_module": "@jupyter-widgets/controls",
      "model_module_version": "1.5.0",
      "model_name": "ButtonStyleModel",
      "state": {}
     },
     "04da824e904f4050ba71f1061f54f784": {
      "model_module": "@jupyter-widgets/base",
      "model_module_version": "1.2.0",
      "model_name": "LayoutModel",
      "state": {}
     },
     "04f4acf9eeea4365a21e763a52baa8fa": {
      "model_module": "@jupyter-widgets/base",
      "model_module_version": "1.2.0",
      "model_name": "LayoutModel",
      "state": {
       "padding": "20px"
      }
     },
     "04f94de8c55c4424b7b26d1212ef3628": {
      "model_module": "@jupyter-widgets/controls",
      "model_module_version": "1.5.0",
      "model_name": "ButtonStyleModel",
      "state": {}
     },
     "05867c87261d4784ad194c0237ec6bef": {
      "model_module": "@jupyter-widgets/base",
      "model_module_version": "1.2.0",
      "model_name": "LayoutModel",
      "state": {}
     },
     "05954ba6a4fd47bfb22158e5086972ea": {
      "model_module": "@jupyter-widgets/controls",
      "model_module_version": "1.5.0",
      "model_name": "HBoxModel",
      "state": {
       "children": [
        "IPY_MODEL_cb097d4bc77d4110b39273761cc24a80",
        "IPY_MODEL_77da0e332c0e4bab891b0c7c53d7d102",
        "IPY_MODEL_db0369e500a44d8c81a662b248cd4a8f"
       ],
       "layout": "IPY_MODEL_7ef055b7a3104686bab45ec4243befa7"
      }
     },
     "05d36eefa4124ee1a625b994c2f3a4c8": {
      "model_module": "@jupyter-widgets/controls",
      "model_module_version": "1.5.0",
      "model_name": "ButtonStyleModel",
      "state": {}
     },
     "064e708cb56d45c0beb2c1a693c27b0b": {
      "model_module": "@jupyter-widgets/controls",
      "model_module_version": "1.5.0",
      "model_name": "ButtonModel",
      "state": {
       "description": "Clear last",
       "layout": "IPY_MODEL_5470c4b00f3a4ee5a78479a12a0fa148",
       "style": "IPY_MODEL_3c2d7b5d065b413f9afd751920bceefc"
      }
     },
     "07319dc65c754a71af0867eddb032193": {
      "model_module": "@jupyter-widgets/controls",
      "model_module_version": "1.5.0",
      "model_name": "ButtonStyleModel",
      "state": {}
     },
     "0763d673a97d419f9ba933d1fd4823d3": {
      "model_module": "@jupyter-widgets/controls",
      "model_module_version": "1.5.0",
      "model_name": "VBoxModel",
      "state": {
       "children": [
        "IPY_MODEL_9aebe86f5eb54ba6941469b94ec16e30",
        "IPY_MODEL_3f969ffbf89249a693e9ae6e4aa9ead5"
       ],
       "layout": "IPY_MODEL_3b699b5cdf5e4d41b1ee9285b15b93bc"
      }
     },
     "0790861e058f4add873cea2a020eaa2f": {
      "model_module": "@jupyter-widgets/base",
      "model_module_version": "1.2.0",
      "model_name": "LayoutModel",
      "state": {}
     },
     "07b09576df744a578d3cf00de0f1ee81": {
      "model_module": "@jupyter-widgets/base",
      "model_module_version": "1.2.0",
      "model_name": "LayoutModel",
      "state": {}
     },
     "07b3b8a0dce34f198655d2a21e87b0b4": {
      "model_module": "@jupyter-widgets/base",
      "model_module_version": "1.2.0",
      "model_name": "LayoutModel",
      "state": {
       "padding": "20px"
      }
     },
     "07c4ad2f5dae45ba94d9661a6c535857": {
      "model_module": "@jupyter-widgets/controls",
      "model_module_version": "1.5.0",
      "model_name": "DropdownModel",
      "state": {
       "_options_labels": [
        "---",
        "UK Web Archive",
        "National Library of Australia",
        "National Library of New Zealand",
        "Internet Archive"
       ],
       "description": "Archive:",
       "index": 1,
       "layout": "IPY_MODEL_3a6bb7c1ef654ebea43e1cf2cf8007d4",
       "style": "IPY_MODEL_7719986034a643d8874c3c11b76bf4bb"
      }
     },
     "07f32c1f68024aa982f9dfa0ac4bf4cd": {
      "model_module": "@jupyter-widgets/controls",
      "model_module_version": "1.5.0",
      "model_name": "SliderStyleModel",
      "state": {
       "description_width": ""
      }
     },
     "0844aa7b38d641ecab23ed992bbcc707": {
      "model_module": "@jupyter-widgets/controls",
      "model_module_version": "1.5.0",
      "model_name": "ButtonStyleModel",
      "state": {}
     },
     "086f159e9248451dbb0ecf9a2f9cb6f7": {
      "model_module": "@jupyter-widgets/controls",
      "model_module_version": "1.5.0",
      "model_name": "VBoxModel",
      "state": {
       "children": [
        "IPY_MODEL_7dce054a01b24beb8bba658bdbd1264e",
        "IPY_MODEL_e4ae94b33170406b90955a4687da3a86"
       ],
       "layout": "IPY_MODEL_508469ce35fb46ab93bb0bbd84903046"
      }
     },
     "087efcc9970145d0b69172c8a4975a06": {
      "model_module": "@jupyter-widgets/base",
      "model_module_version": "1.2.0",
      "model_name": "LayoutModel",
      "state": {}
     },
     "08c4bda15ac847448e9e8809958180f8": {
      "model_module": "@jupyter-widgets/controls",
      "model_module_version": "1.5.0",
      "model_name": "ButtonModel",
      "state": {
       "description": "Clear all",
       "layout": "IPY_MODEL_cd667dd37e0b4dd4956a2dbedd05e300",
       "style": "IPY_MODEL_9452b6c6dfa04dc0ad39c9445fe97543"
      }
     },
     "0910baa8f4944df69d23afb2b7ffb219": {
      "model_module": "@jupyter-widgets/base",
      "model_module_version": "1.2.0",
      "model_name": "LayoutModel",
      "state": {}
     },
     "097876185e274f7087dfb6ea1fefb35b": {
      "model_module": "@jupyter-widgets/base",
      "model_module_version": "1.2.0",
      "model_name": "LayoutModel",
      "state": {}
     },
     "097d565b195f49e18e9f2e2de617a074": {
      "model_module": "@jupyter-widgets/base",
      "model_module_version": "1.2.0",
      "model_name": "LayoutModel",
      "state": {}
     },
     "0988883ae10c4a8290e222d3bac9e1f6": {
      "model_module": "@jupyter-widgets/controls",
      "model_module_version": "1.5.0",
      "model_name": "DropdownModel",
      "state": {
       "_options_labels": [
        "---",
        "UK Web Archive",
        "National Library of Australia",
        "National Library of New Zealand",
        "Internet Archive"
       ],
       "description": "Archive:",
       "index": 0,
       "layout": "IPY_MODEL_fc5024bbe36541f6bc48ef0e434ef5ad",
       "style": "IPY_MODEL_f15bc7cf77094a0bb5e8bf9c2a180b0e"
      }
     },
     "09930e6a3f7a49fd81db74f458a2c64b": {
      "model_module": "@jupyter-widgets/base",
      "model_module_version": "1.2.0",
      "model_name": "LayoutModel",
      "state": {}
     },
     "09ad722bec2a432db66f86d9dcf47e42": {
      "model_module": "@jupyter-widgets/controls",
      "model_module_version": "1.5.0",
      "model_name": "ButtonModel",
      "state": {
       "description": "Clear last",
       "layout": "IPY_MODEL_db1e3c3973aa44a9b4c57dfbc7ad31cd",
       "style": "IPY_MODEL_cfd64575f54649c88482aecc57f4ba76"
      }
     },
     "0a42a5ef217842d48729ce4a740dc30c": {
      "model_module": "@jupyter-widgets/controls",
      "model_module_version": "1.5.0",
      "model_name": "ButtonModel",
      "state": {
       "description": "Clear last",
       "layout": "IPY_MODEL_c4012506de234eff83a7ac5d943a74b8",
       "style": "IPY_MODEL_8564beb3af3c4e96aa755ed16d768b40"
      }
     },
     "0a8e957034c94c08b606eeae1360aab4": {
      "model_module": "@jupyter-widgets/controls",
      "model_module_version": "1.5.0",
      "model_name": "DescriptionStyleModel",
      "state": {
       "description_width": ""
      }
     },
     "0b93b64888694d4e9c3d5ca6807a645d": {
      "model_module": "@jupyter-widgets/controls",
      "model_module_version": "1.5.0",
      "model_name": "ButtonStyleModel",
      "state": {}
     },
     "0ba0bde49f97483d9f8ba7795345d748": {
      "model_module": "@jupyter-widgets/controls",
      "model_module_version": "1.5.0",
      "model_name": "VBoxModel",
      "state": {
       "children": [
        "IPY_MODEL_3c46d2b69b9143639e36d02f266058ed",
        "IPY_MODEL_49db1732f6f84a34a79c6862ca13e8f1"
       ],
       "layout": "IPY_MODEL_22989bec938d4fe187e2fb3f27d4bb97"
      }
     },
     "0c6c246abc084652a501f3acd81fed56": {
      "model_module": "@jupyter-widgets/controls",
      "model_module_version": "1.5.0",
      "model_name": "ButtonStyleModel",
      "state": {}
     },
     "0c77cdcb966f4b6f819a803b96111fe3": {
      "model_module": "@jupyter-widgets/controls",
      "model_module_version": "1.5.0",
      "model_name": "VBoxModel",
      "state": {
       "children": [
        "IPY_MODEL_e83765cff081405e941760fe82606763",
        "IPY_MODEL_7e238ee88d644ecab5e937d8acc30579"
       ],
       "layout": "IPY_MODEL_c32413bf834c40cf9a8cc90aaa2317cf"
      }
     },
     "0cf0cb6e0c1a4379b3eaa5efc97339c7": {
      "model_module": "@jupyter-widgets/controls",
      "model_module_version": "1.5.0",
      "model_name": "ButtonModel",
      "state": {
       "description": "Clear last",
       "layout": "IPY_MODEL_6f02ffa4362b424f84849256c41b2dea",
       "style": "IPY_MODEL_e175c38da1d84b2c9b2955306b8093bd"
      }
     },
     "0d2cc0cd2d4a4cfd9c0bc51285568284": {
      "model_module": "@jupyter-widgets/base",
      "model_module_version": "1.2.0",
      "model_name": "LayoutModel",
      "state": {
       "padding": "20px"
      }
     },
     "0d628351695849f989d0f1204541eba9": {
      "model_module": "@jupyter-widgets/base",
      "model_module_version": "1.2.0",
      "model_name": "LayoutModel",
      "state": {}
     },
     "0e8a5f63279c4feab07c7541add0e699": {
      "model_module": "@jupyter-widgets/controls",
      "model_module_version": "1.5.0",
      "model_name": "SliderStyleModel",
      "state": {
       "description_width": ""
      }
     },
     "0f22ae94c92e44f3a941166b3f74423a": {
      "model_module": "@jupyter-widgets/controls",
      "model_module_version": "1.5.0",
      "model_name": "HBoxModel",
      "state": {
       "children": [
        "IPY_MODEL_d50c80ca580b471f89d1c90da944a5f9",
        "IPY_MODEL_26b2e5871c1d4763a907e47e78dfd4f6",
        "IPY_MODEL_a32db3249f9945bbbd1ba05987b1d40b"
       ],
       "layout": "IPY_MODEL_5f8b8bdf73224071828b713f821ca26f"
      }
     },
     "0f93587d5aba457b9393e4dc61c6580e": {
      "model_module": "@jupyter-widgets/controls",
      "model_module_version": "1.5.0",
      "model_name": "DescriptionStyleModel",
      "state": {
       "description_width": ""
      }
     },
     "0fcb65470e0c405eb53202db49626f99": {
      "model_module": "@jupyter-widgets/controls",
      "model_module_version": "1.5.0",
      "model_name": "HBoxModel",
      "state": {
       "children": [
        "IPY_MODEL_cc7c955ce83741998eac469e94013303",
        "IPY_MODEL_011984e5c6fa4eb59040e3461dddc234"
       ],
       "layout": "IPY_MODEL_571a9b9821694ad08f9ae64b206ee345"
      }
     },
     "0fcc71e52e854e74bc4653b350ede04c": {
      "model_module": "@jupyter-widgets/controls",
      "model_module_version": "1.5.0",
      "model_name": "IntSliderModel",
      "state": {
       "continuous_update": false,
       "description": "Width:",
       "layout": "IPY_MODEL_4331fc14407d439fb008d5004466b213",
       "max": 1000,
       "min": 200,
       "step": 100,
       "style": "IPY_MODEL_457204fa573349a39f41ca5333254137",
       "value": 200
      }
     },
     "0fd0b1357ec44cce93e8a589e800caf7": {
      "model_module": "@jupyter-widgets/base",
      "model_module_version": "1.2.0",
      "model_name": "LayoutModel",
      "state": {}
     },
     "0ff41f16e765497aa085c9a3be54a3df": {
      "model_module": "@jupyter-widgets/controls",
      "model_module_version": "1.5.0",
      "model_name": "ButtonModel",
      "state": {
       "description": "Clear all",
       "layout": "IPY_MODEL_2a25f051e14b4ac6ab6fd09ede80d593",
       "style": "IPY_MODEL_404d9fb5b2d64633a626090c3402c504"
      }
     },
     "1018af1570224d9b8d19b0c6bd2759ce": {
      "model_module": "@jupyter-widgets/controls",
      "model_module_version": "1.5.0",
      "model_name": "ButtonModel",
      "state": {
       "description": "Clear last",
       "layout": "IPY_MODEL_83046e0ad3b04678a44c93be47dddc81",
       "style": "IPY_MODEL_425bd58b79914a1e8dab1ee7a152f9fd"
      }
     },
     "104a1caa2f7b4e7d90d4013e6ea95569": {
      "model_module": "@jupyter-widgets/base",
      "model_module_version": "1.2.0",
      "model_name": "LayoutModel",
      "state": {}
     },
     "133a46fd3170442b8d66023c4b5b87e3": {
      "model_module": "@jupyter-widgets/base",
      "model_module_version": "1.2.0",
      "model_name": "LayoutModel",
      "state": {}
     },
     "150a003e5ec54e028368bb87dc543fae": {
      "model_module": "@jupyter-widgets/base",
      "model_module_version": "1.2.0",
      "model_name": "LayoutModel",
      "state": {}
     },
     "15a4b7570c6f43fe816cb6e32be0731a": {
      "model_module": "@jupyter-widgets/base",
      "model_module_version": "1.2.0",
      "model_name": "LayoutModel",
      "state": {}
     },
     "166a711e270441b0846c2f24e28addc6": {
      "model_module": "@jupyter-widgets/controls",
      "model_module_version": "1.5.0",
      "model_name": "IntSliderModel",
      "state": {
       "continuous_update": false,
       "description": "Width:",
       "layout": "IPY_MODEL_786779a6030646dc8228ee00c641f0da",
       "max": 1000,
       "min": 200,
       "step": 100,
       "style": "IPY_MODEL_c273d4ffdc5a4b97b59f981d544d7f13",
       "value": 200
      }
     },
     "174bcaf993b4427296ad91974cf9e059": {
      "model_module": "@jupyter-widgets/controls",
      "model_module_version": "1.5.0",
      "model_name": "ButtonStyleModel",
      "state": {}
     },
     "177b40254c5a4adc87bd08e1c2d372be": {
      "model_module": "@jupyter-widgets/controls",
      "model_module_version": "1.5.0",
      "model_name": "ButtonModel",
      "state": {
       "description": "Clear all",
       "layout": "IPY_MODEL_46384519da8a48e894ebcae84ee810e7",
       "style": "IPY_MODEL_0844aa7b38d641ecab23ed992bbcc707"
      }
     },
     "17c558cde0174dc1ba28ce1b12e63fb4": {
      "model_module": "@jupyter-widgets/output",
      "model_module_version": "1.0.0",
      "model_name": "OutputModel",
      "state": {
       "layout": "IPY_MODEL_d78b426341e84924846ec54519030cd2"
      }
     },
     "1810b7e24d8345cf99b08ba24d67bedc": {
      "model_module": "@jupyter-widgets/base",
      "model_module_version": "1.2.0",
      "model_name": "LayoutModel",
      "state": {}
     },
     "1829bbfa254749b79efeb72760fcbc16": {
      "model_module": "@jupyter-widgets/controls",
      "model_module_version": "1.5.0",
      "model_name": "IntSliderModel",
      "state": {
       "continuous_update": false,
       "description": "Width:",
       "layout": "IPY_MODEL_8929b9893baf48d68595c60bcd720996",
       "max": 1000,
       "min": 200,
       "step": 100,
       "style": "IPY_MODEL_0087363254184cc48ac0b8072fd051f2",
       "value": 200
      }
     },
     "1927885041dd403eb48f7d1cb51671f4": {
      "model_module": "@jupyter-widgets/base",
      "model_module_version": "1.2.0",
      "model_name": "LayoutModel",
      "state": {}
     },
     "192b701594b74c5da07849d875fe775c": {
      "model_module": "@jupyter-widgets/base",
      "model_module_version": "1.2.0",
      "model_name": "LayoutModel",
      "state": {}
     },
     "1953417f6dab49b5a846b54f2aa68c79": {
      "model_module": "@jupyter-widgets/controls",
      "model_module_version": "1.5.0",
      "model_name": "SliderStyleModel",
      "state": {
       "description_width": ""
      }
     },
     "19fd36224f5b47e190fcc9a847243725": {
      "model_module": "@jupyter-widgets/controls",
      "model_module_version": "1.5.0",
      "model_name": "ButtonStyleModel",
      "state": {}
     },
     "1a11178c1d8941a59cf257844a0e07b9": {
      "model_module": "@jupyter-widgets/base",
      "model_module_version": "1.2.0",
      "model_name": "LayoutModel",
      "state": {}
     },
     "1a18407e6a2044e38313db7965460c62": {
      "model_module": "@jupyter-widgets/output",
      "model_module_version": "1.0.0",
      "model_name": "OutputModel",
      "state": {
       "layout": "IPY_MODEL_46973f1f5379406d8b010aafaaad313a",
       "outputs": [
        {
         "data": {
          "text/html": "<div style=\"float:left; margin-left: 20px;\"><p><b>5 December 2018</b><br><a href=\"https://web.archive.org.au/awa/20181221094558mp_/https://www.abc.net.au/\">http://abc.net.au</a></p><p><a href=\"screenshots/www-abc-net-au-20181221094558-200.png\"><img src=\"screenshots/www-abc-net-au-20181221094558-200.png\"></a><br><a href=\"screenshots/www-abc-net-au-20181221094558-200.png\">[Download]</a></p></div><div style=\"float:left; margin-left: 20px;\"><p><b>5 April 2020</b><br><a href=\"https://web.archive.org.au/awa/20200403051912mp_/https://www.abc.net.au/\">http://abc.net.au</a></p><p><a href=\"screenshots/www-abc-net-au-20200403051912-200.png\"><img src=\"screenshots/www-abc-net-au-20200403051912-200.png\"></a><br><a href=\"screenshots/www-abc-net-au-20200403051912-200.png\">[Download]</a></p></div>",
          "text/plain": "<IPython.core.display.HTML object>"
         },
         "metadata": {},
         "output_type": "display_data"
        }
       ]
      }
     },
     "1a7da4e404a341e698b7f72b776125a1": {
      "model_module": "@jupyter-widgets/controls",
      "model_module_version": "1.5.0",
      "model_name": "SliderStyleModel",
      "state": {
       "description_width": ""
      }
     },
     "1a8f77f792204288abc8da6b6c9861ba": {
      "model_module": "@jupyter-widgets/base",
      "model_module_version": "1.2.0",
      "model_name": "LayoutModel",
      "state": {}
     },
     "1a91585da273424fb6f030019f251253": {
      "model_module": "@jupyter-widgets/base",
      "model_module_version": "1.2.0",
      "model_name": "LayoutModel",
      "state": {}
     },
     "1aeb2ffe7bd84a819660cafeb50527a4": {
      "model_module": "@jupyter-widgets/controls",
      "model_module_version": "1.5.0",
      "model_name": "VBoxModel",
      "state": {
       "children": [
        "IPY_MODEL_76cf2014dc53486c8595045643fe9086",
        "IPY_MODEL_1829bbfa254749b79efeb72760fcbc16"
       ],
       "layout": "IPY_MODEL_42b5930a31b1487ab7c2411ab023edf7"
      }
     },
     "1afc665cc7ca498d817e5337351c1572": {
      "model_module": "@jupyter-widgets/controls",
      "model_module_version": "1.5.0",
      "model_name": "ButtonModel",
      "state": {
       "description": "Clear last",
       "layout": "IPY_MODEL_5040cb80bd6742f3b6c9aae9a61f0037",
       "style": "IPY_MODEL_45ea0b47527c4cf8afd4bf4113a66fb9"
      }
     },
     "1b9b09780db64e09a0b2215ecc1ac6bc": {
      "model_module": "@jupyter-widgets/controls",
      "model_module_version": "1.5.0",
      "model_name": "HBoxModel",
      "state": {
       "children": [
        "IPY_MODEL_ef97f07e7f7c4c4c81a32ec81c4eafac",
        "IPY_MODEL_b0f1a27441e94677a28afaac1ac600a0",
        "IPY_MODEL_2d99a0c3f551401893389efdfe3143f2"
       ],
       "layout": "IPY_MODEL_3030d972cb3e46139757fd1e4dc881bc"
      }
     },
     "1b9d91a8d27b4f07be437ff4eb974472": {
      "model_module": "@jupyter-widgets/base",
      "model_module_version": "1.2.0",
      "model_name": "LayoutModel",
      "state": {}
     },
     "1c443806df7f47cca9ee452ebfce2fd2": {
      "model_module": "@jupyter-widgets/base",
      "model_module_version": "1.2.0",
      "model_name": "LayoutModel",
      "state": {}
     },
     "1c9ac863f4e3417c9326ece3bc35a1fb": {
      "model_module": "@jupyter-widgets/controls",
      "model_module_version": "1.5.0",
      "model_name": "VBoxModel",
      "state": {
       "children": [
        "IPY_MODEL_43ee874aed124395971be7a4f05389e1",
        "IPY_MODEL_d11e9a9d5a4d4a618d4eb4f2d0feb099"
       ],
       "layout": "IPY_MODEL_6dcad034a404447ab2c47a2ca4fdb1f0"
      }
     },
     "1cf14ebac25f415297933272454be9a8": {
      "model_module": "@jupyter-widgets/base",
      "model_module_version": "1.2.0",
      "model_name": "LayoutModel",
      "state": {}
     },
     "1cf549f56b024476892bb866d551c077": {
      "model_module": "@jupyter-widgets/controls",
      "model_module_version": "1.5.0",
      "model_name": "ButtonStyleModel",
      "state": {}
     },
     "1d586eddaab54e6ba5aba50c4cb987ef": {
      "model_module": "@jupyter-widgets/base",
      "model_module_version": "1.2.0",
      "model_name": "LayoutModel",
      "state": {}
     },
     "1da386ea37da4479906145db821041a2": {
      "model_module": "@jupyter-widgets/controls",
      "model_module_version": "1.5.0",
      "model_name": "VBoxModel",
      "state": {
       "children": [
        "IPY_MODEL_4ca3c812954e4fc882cc5d974394e26a",
        "IPY_MODEL_9943a9eeae96490dbb9c675fcffd4a2a"
       ],
       "layout": "IPY_MODEL_9c632fece73a49678ac4efde3b9197bb"
      }
     },
     "1de94384d9434f69affb79c778275381": {
      "model_module": "@jupyter-widgets/controls",
      "model_module_version": "1.5.0",
      "model_name": "DatePickerModel",
      "state": {
       "description": "Target date: ",
       "disabled": false,
       "layout": "IPY_MODEL_37bfe42620e9479f8993020fbf15d8a3",
       "style": "IPY_MODEL_6dfd4475a99847c18dd4d1c6279341c1"
      }
     },
     "1e95c45d6ea043d0a0da7bd929036399": {
      "model_module": "@jupyter-widgets/controls",
      "model_module_version": "1.5.0",
      "model_name": "ButtonStyleModel",
      "state": {}
     },
     "1f6a29106da947af9bddc98da8371209": {
      "model_module": "@jupyter-widgets/controls",
      "model_module_version": "1.5.0",
      "model_name": "DescriptionStyleModel",
      "state": {
       "description_width": ""
      }
     },
     "1f883a97b3f64af09a1932d6ed69689e": {
      "model_module": "@jupyter-widgets/base",
      "model_module_version": "1.2.0",
      "model_name": "LayoutModel",
      "state": {}
     },
     "1f9dd0cb6aac4e6bab982517b54b3fa8": {
      "model_module": "@jupyter-widgets/controls",
      "model_module_version": "1.5.0",
      "model_name": "ButtonModel",
      "state": {
       "description": "Clear all",
       "layout": "IPY_MODEL_b0fd48e94846461491fcbb8742bb22ea",
       "style": "IPY_MODEL_19fd36224f5b47e190fcc9a847243725"
      }
     },
     "1ff1057d140740fe896271243c33a456": {
      "model_module": "@jupyter-widgets/base",
      "model_module_version": "1.2.0",
      "model_name": "LayoutModel",
      "state": {}
     },
     "2032a11fdff6483aa3bae05f2e3c4c81": {
      "model_module": "@jupyter-widgets/output",
      "model_module_version": "1.0.0",
      "model_name": "OutputModel",
      "state": {
       "layout": "IPY_MODEL_097876185e274f7087dfb6ea1fefb35b",
       "outputs": [
        {
         "name": "stdout",
         "output_type": "stream",
         "text": "Generating screenshot...\n"
        }
       ]
      }
     },
     "20b4f5c5c1e04a66a283ba0a41f0f3f3": {
      "model_module": "@jupyter-widgets/controls",
      "model_module_version": "1.5.0",
      "model_name": "VBoxModel",
      "state": {
       "children": [
        "IPY_MODEL_f443f4bc0fe8474c9cb0f3f1ebcd5d13",
        "IPY_MODEL_6d3e9d473db64e62818782ac00dddfbe"
       ],
       "layout": "IPY_MODEL_aa1d9e2e322445a6bb9a4c0d92d4249a"
      }
     },
     "20e82684a7534914bfeb2900fadb0e6f": {
      "model_module": "@jupyter-widgets/controls",
      "model_module_version": "1.5.0",
      "model_name": "VBoxModel",
      "state": {
       "children": [
        "IPY_MODEL_ff6753656d1a459381d3961232d0e2df",
        "IPY_MODEL_395f766336ca42c8a08a0c82740149e1"
       ],
       "layout": "IPY_MODEL_eea7ef0cf7c0448cb7c49ddb6b72d40e"
      }
     },
     "210c38e8822e4808a4b7349d39b393ef": {
      "model_module": "@jupyter-widgets/controls",
      "model_module_version": "1.5.0",
      "model_name": "ButtonStyleModel",
      "state": {}
     },
     "219ccf760b354d4491491089c624b497": {
      "model_module": "@jupyter-widgets/output",
      "model_module_version": "1.0.0",
      "model_name": "OutputModel",
      "state": {
       "layout": "IPY_MODEL_f22a4abfe0d040ee98100e6d08c15b27",
       "outputs": [
        {
         "name": "stdout",
         "output_type": "stream",
         "text": "Something went wrong – couldn't get a screenshot of {memento} – sorry...\n"
        }
       ]
      }
     },
     "21d55e4684a6481ca990ed1b0eeda456": {
      "model_module": "@jupyter-widgets/controls",
      "model_module_version": "1.5.0",
      "model_name": "DescriptionStyleModel",
      "state": {
       "description_width": ""
      }
     },
     "22328ea48024442983c04dbd2b531448": {
      "model_module": "@jupyter-widgets/controls",
      "model_module_version": "1.5.0",
      "model_name": "IntSliderModel",
      "state": {
       "continuous_update": false,
       "description": "Width:",
       "layout": "IPY_MODEL_0212e5c3c1d84f22b3980e7f76a17117",
       "max": 1000,
       "min": 200,
       "step": 100,
       "style": "IPY_MODEL_1a7da4e404a341e698b7f72b776125a1",
       "value": 200
      }
     },
     "22989bec938d4fe187e2fb3f27d4bb97": {
      "model_module": "@jupyter-widgets/base",
      "model_module_version": "1.2.0",
      "model_name": "LayoutModel",
      "state": {}
     },
     "234386f479724ac6a612d0fba1a5474a": {
      "model_module": "@jupyter-widgets/controls",
      "model_module_version": "1.5.0",
      "model_name": "IntSliderModel",
      "state": {
       "continuous_update": false,
       "description": "Width:",
       "layout": "IPY_MODEL_2c776a5adc1c4575a41925d5c44c8399",
       "max": 1000,
       "min": 200,
       "step": 100,
       "style": "IPY_MODEL_dee05f0ac5814f9f8f15c99b5beb3f42",
       "value": 200
      }
     },
     "239a8672897d40d180ad166188027232": {
      "model_module": "@jupyter-widgets/controls",
      "model_module_version": "1.5.0",
      "model_name": "DescriptionStyleModel",
      "state": {
       "description_width": ""
      }
     },
     "23ad1930a051430b95d982297605871a": {
      "model_module": "@jupyter-widgets/base",
      "model_module_version": "1.2.0",
      "model_name": "LayoutModel",
      "state": {}
     },
     "241204819f31415a98ec0777ec822093": {
      "model_module": "@jupyter-widgets/base",
      "model_module_version": "1.2.0",
      "model_name": "LayoutModel",
      "state": {}
     },
     "2430730c0b2a429083f3aa9de909548b": {
      "model_module": "@jupyter-widgets/controls",
      "model_module_version": "1.5.0",
      "model_name": "ButtonStyleModel",
      "state": {}
     },
     "253cdec45c4d41ec8cb756d64bf9e7fd": {
      "model_module": "@jupyter-widgets/controls",
      "model_module_version": "1.5.0",
      "model_name": "DatePickerModel",
      "state": {
       "description": "Target date: ",
       "disabled": false,
       "layout": "IPY_MODEL_bc44becc5dd94edda8150e7866ffa1d8",
       "style": "IPY_MODEL_b13768c937c5410e9e2e699f516726c4"
      }
     },
     "256f2f49721f41eda24d0054107a19a3": {
      "model_module": "@jupyter-widgets/base",
      "model_module_version": "1.2.0",
      "model_name": "LayoutModel",
      "state": {}
     },
     "25cbef0e21a5487ea1b024fe36ecd273": {
      "model_module": "@jupyter-widgets/base",
      "model_module_version": "1.2.0",
      "model_name": "LayoutModel",
      "state": {}
     },
     "26b2e5871c1d4763a907e47e78dfd4f6": {
      "model_module": "@jupyter-widgets/controls",
      "model_module_version": "1.5.0",
      "model_name": "ButtonModel",
      "state": {
       "description": "Clear all",
       "layout": "IPY_MODEL_29db00fb268743fa840072d0af3feb04",
       "style": "IPY_MODEL_937ee8d60e0546bbbe91ba796720cc1c"
      }
     },
     "29332d79f9f2465b825af8edbd4a8f81": {
      "model_module": "@jupyter-widgets/base",
      "model_module_version": "1.2.0",
      "model_name": "LayoutModel",
      "state": {}
     },
     "29910f4a5fda4518a7905e7a541e1cc3": {
      "model_module": "@jupyter-widgets/controls",
      "model_module_version": "1.5.0",
      "model_name": "ButtonModel",
      "state": {
       "description": "Clear last",
       "layout": "IPY_MODEL_89f17ce890154606a576c0c3d7ec17aa",
       "style": "IPY_MODEL_3a2021c8a17c4839911862cc9cf8c8e3"
      }
     },
     "29db00fb268743fa840072d0af3feb04": {
      "model_module": "@jupyter-widgets/base",
      "model_module_version": "1.2.0",
      "model_name": "LayoutModel",
      "state": {}
     },
     "2a25f051e14b4ac6ab6fd09ede80d593": {
      "model_module": "@jupyter-widgets/base",
      "model_module_version": "1.2.0",
      "model_name": "LayoutModel",
      "state": {}
     },
     "2a5e7178c4304cbba108be3917335f96": {
      "model_module": "@jupyter-widgets/base",
      "model_module_version": "1.2.0",
      "model_name": "LayoutModel",
      "state": {}
     },
     "2a5ede3eba4d4ba3ba0f97d681d497f7": {
      "model_module": "@jupyter-widgets/base",
      "model_module_version": "1.2.0",
      "model_name": "LayoutModel",
      "state": {}
     },
     "2a7bca17ec1943d2b629a88182723163": {
      "model_module": "@jupyter-widgets/base",
      "model_module_version": "1.2.0",
      "model_name": "LayoutModel",
      "state": {}
     },
     "2ab7ed9774874c59948733456fb69393": {
      "model_module": "@jupyter-widgets/controls",
      "model_module_version": "1.5.0",
      "model_name": "HBoxModel",
      "state": {
       "children": [
        "IPY_MODEL_a4805e4dde5745799db6880e0f6ae042",
        "IPY_MODEL_bb38667687ee43b09581a1751cd4d6c0",
        "IPY_MODEL_0cf0cb6e0c1a4379b3eaa5efc97339c7"
       ],
       "layout": "IPY_MODEL_83289d551e504047b7e70b4603c2ca3f"
      }
     },
     "2acd50c39c934f80b5a9380226806286": {
      "model_module": "@jupyter-widgets/controls",
      "model_module_version": "1.5.0",
      "model_name": "VBoxModel",
      "state": {
       "children": [
        "IPY_MODEL_67edf70a1cd34c04932dd33b82e1af9d",
        "IPY_MODEL_166a711e270441b0846c2f24e28addc6"
       ],
       "layout": "IPY_MODEL_e5d584d22dfe479abba4e267d3b8e514"
      }
     },
     "2b6c0b3f0ab049fabf156e15324831a5": {
      "model_module": "@jupyter-widgets/controls",
      "model_module_version": "1.5.0",
      "model_name": "ButtonStyleModel",
      "state": {}
     },
     "2bc26cb3e68646f3911f6d4fcd1d0e2f": {
      "model_module": "@jupyter-widgets/controls",
      "model_module_version": "1.5.0",
      "model_name": "DescriptionStyleModel",
      "state": {
       "description_width": ""
      }
     },
     "2bc7945701934f2ea21071e855cd1910": {
      "model_module": "@jupyter-widgets/base",
      "model_module_version": "1.2.0",
      "model_name": "LayoutModel",
      "state": {}
     },
     "2bcdf108a4ce4621a0d06dfbdac3a741": {
      "model_module": "@jupyter-widgets/controls",
      "model_module_version": "1.5.0",
      "model_name": "SliderStyleModel",
      "state": {
       "description_width": ""
      }
     },
     "2c776a5adc1c4575a41925d5c44c8399": {
      "model_module": "@jupyter-widgets/base",
      "model_module_version": "1.2.0",
      "model_name": "LayoutModel",
      "state": {}
     },
     "2c7844546b534033b6b74ca9b4d94061": {
      "model_module": "@jupyter-widgets/controls",
      "model_module_version": "1.5.0",
      "model_name": "ButtonModel",
      "state": {
       "button_style": "primary",
       "description": "Get screenshot",
       "layout": "IPY_MODEL_7d17c29e0df84ffeb8dddf97f229c203",
       "style": "IPY_MODEL_4e592ecd48794f2fa67d5a212e1646ad"
      }
     },
     "2d0d400204d44b5a92e2bb57b6d0cefe": {
      "model_module": "@jupyter-widgets/controls",
      "model_module_version": "1.5.0",
      "model_name": "HBoxModel",
      "state": {
       "children": [
        "IPY_MODEL_70d5f38b209e4e9187d7abf0e8ee7eeb",
        "IPY_MODEL_47c44f64de7d403f8d794c539f8e0ef3",
        "IPY_MODEL_8e4089cf41984a9994e6efa5b27a210e"
       ],
       "layout": "IPY_MODEL_76565fb6c23048518a8365548ef9d2ca"
      }
     },
     "2d2a850273c9420cbdd8e8a6f045d25b": {
      "model_module": "@jupyter-widgets/controls",
      "model_module_version": "1.5.0",
      "model_name": "IntSliderModel",
      "state": {
       "continuous_update": false,
       "description": "Width:",
       "layout": "IPY_MODEL_97c02d1f970e482a84e1d03edaa897c1",
       "max": 1000,
       "min": 200,
       "step": 100,
       "style": "IPY_MODEL_0e8a5f63279c4feab07c7541add0e699",
       "value": 200
      }
     },
     "2d4d1620c7644b60afd469ed0f543161": {
      "model_module": "@jupyter-widgets/controls",
      "model_module_version": "1.5.0",
      "model_name": "ButtonStyleModel",
      "state": {}
     },
     "2d99a0c3f551401893389efdfe3143f2": {
      "model_module": "@jupyter-widgets/controls",
      "model_module_version": "1.5.0",
      "model_name": "ButtonModel",
      "state": {
       "description": "Clear last",
       "layout": "IPY_MODEL_3e5110bd02d44a759df3a15334feec91",
       "style": "IPY_MODEL_bf5ff01661c249b3930dc8ae036ab71c"
      }
     },
     "2ed4b8733422452fba7a0c0d8e7e43ae": {
      "model_module": "@jupyter-widgets/base",
      "model_module_version": "1.2.0",
      "model_name": "LayoutModel",
      "state": {
       "padding": "20px"
      }
     },
     "2f4ffe38697248ad9225fdad7e88abf9": {
      "model_module": "@jupyter-widgets/controls",
      "model_module_version": "1.5.0",
      "model_name": "HBoxModel",
      "state": {
       "children": [
        "IPY_MODEL_49ec57b45d1442d5ba2aca4c1d79ca6b",
        "IPY_MODEL_826933df8d13428fba09c5b8acaf96d1"
       ],
       "layout": "IPY_MODEL_f21885a1d66a430a922d28fa737fdd82"
      }
     },
     "2fe0445e6c974ecd932e8cc48abf99b6": {
      "model_module": "@jupyter-widgets/base",
      "model_module_version": "1.2.0",
      "model_name": "LayoutModel",
      "state": {}
     },
     "2ff9972dc488412c938505f137f81a6b": {
      "model_module": "@jupyter-widgets/controls",
      "model_module_version": "1.5.0",
      "model_name": "HBoxModel",
      "state": {
       "children": [
        "IPY_MODEL_744dace3adce4dcb8a34398e0b2436a5",
        "IPY_MODEL_08c4bda15ac847448e9e8809958180f8",
        "IPY_MODEL_1afc665cc7ca498d817e5337351c1572"
       ],
       "layout": "IPY_MODEL_133a46fd3170442b8d66023c4b5b87e3"
      }
     },
     "3030d972cb3e46139757fd1e4dc881bc": {
      "model_module": "@jupyter-widgets/base",
      "model_module_version": "1.2.0",
      "model_name": "LayoutModel",
      "state": {}
     },
     "303baafc27de4585b57ce553589759b7": {
      "model_module": "@jupyter-widgets/base",
      "model_module_version": "1.2.0",
      "model_name": "LayoutModel",
      "state": {
       "padding": "20px"
      }
     },
     "309e68f94b9a4bb4a570ac32ee752556": {
      "model_module": "@jupyter-widgets/base",
      "model_module_version": "1.2.0",
      "model_name": "LayoutModel",
      "state": {
       "padding": "20px"
      }
     },
     "30fef3b8ead14b9e85ecf4287f1c3ac8": {
      "model_module": "@jupyter-widgets/controls",
      "model_module_version": "1.5.0",
      "model_name": "ButtonModel",
      "state": {
       "button_style": "primary",
       "description": "Get screenshot",
       "layout": "IPY_MODEL_7d8158afc77646b0a6a27a6972cdf221",
       "style": "IPY_MODEL_80e045e6a6434d589288617b28daa60d"
      }
     },
     "314727b1e8eb4e0587ca8510bc4cf41b": {
      "model_module": "@jupyter-widgets/base",
      "model_module_version": "1.2.0",
      "model_name": "LayoutModel",
      "state": {}
     },
     "31c60bff8d994080a24879feecda4128": {
      "model_module": "@jupyter-widgets/base",
      "model_module_version": "1.2.0",
      "model_name": "LayoutModel",
      "state": {
       "padding": "20px"
      }
     },
     "31dec32ef54e4e3eb6af74d960f994f9": {
      "model_module": "@jupyter-widgets/base",
      "model_module_version": "1.2.0",
      "model_name": "LayoutModel",
      "state": {}
     },
     "3267892e80dd4174bb3c64fd3d1c46e8": {
      "model_module": "@jupyter-widgets/base",
      "model_module_version": "1.2.0",
      "model_name": "LayoutModel",
      "state": {}
     },
     "32780fbae49e47febb2277b5868b85e9": {
      "model_module": "@jupyter-widgets/base",
      "model_module_version": "1.2.0",
      "model_name": "LayoutModel",
      "state": {}
     },
     "32a6167c554842068d30ead41f3b6bcd": {
      "model_module": "@jupyter-widgets/output",
      "model_module_version": "1.0.0",
      "model_name": "OutputModel",
      "state": {
       "layout": "IPY_MODEL_b499d0528cbb4a4a98f2d3c9bfca967d"
      }
     },
     "33133b9d88a0474797e011b8bfa0339e": {
      "model_module": "@jupyter-widgets/controls",
      "model_module_version": "1.5.0",
      "model_name": "SliderStyleModel",
      "state": {
       "description_width": ""
      }
     },
     "3335da9fd5ee4542b594f812a210b85b": {
      "model_module": "@jupyter-widgets/base",
      "model_module_version": "1.2.0",
      "model_name": "LayoutModel",
      "state": {}
     },
     "3346e3435c1f4edb8e9ccd3dc4f11868": {
      "model_module": "@jupyter-widgets/base",
      "model_module_version": "1.2.0",
      "model_name": "LayoutModel",
      "state": {}
     },
     "3455d3093ca7424987352ba669767ed7": {
      "model_module": "@jupyter-widgets/base",
      "model_module_version": "1.2.0",
      "model_name": "LayoutModel",
      "state": {}
     },
     "34ae4d65ea5d406ab72e2a4f0552b205": {
      "model_module": "@jupyter-widgets/output",
      "model_module_version": "1.0.0",
      "model_name": "OutputModel",
      "state": {
       "layout": "IPY_MODEL_1c443806df7f47cca9ee452ebfce2fd2"
      }
     },
     "359e952722194d7a86f4dd0beb49ff8e": {
      "model_module": "@jupyter-widgets/controls",
      "model_module_version": "1.5.0",
      "model_name": "VBoxModel",
      "state": {
       "children": [
        "IPY_MODEL_f41f47583cb64a63b474be7cb635bb68",
        "IPY_MODEL_253cdec45c4d41ec8cb756d64bf9e7fd"
       ],
       "layout": "IPY_MODEL_c536fb602c3d41b49bfc17891449091f"
      }
     },
     "36fda8ef891c43a5a5fcd5aa4dc5ff80": {
      "model_module": "@jupyter-widgets/base",
      "model_module_version": "1.2.0",
      "model_name": "LayoutModel",
      "state": {}
     },
     "37bfe42620e9479f8993020fbf15d8a3": {
      "model_module": "@jupyter-widgets/base",
      "model_module_version": "1.2.0",
      "model_name": "LayoutModel",
      "state": {}
     },
     "37ccd1f797a84230b0e6e0245287d149": {
      "model_module": "@jupyter-widgets/base",
      "model_module_version": "1.2.0",
      "model_name": "LayoutModel",
      "state": {}
     },
     "38f184e4afa6435ebdd75ab57717e82a": {
      "model_module": "@jupyter-widgets/controls",
      "model_module_version": "1.5.0",
      "model_name": "DescriptionStyleModel",
      "state": {
       "description_width": ""
      }
     },
     "38f83c9d9f3a425a9b085342062f20e6": {
      "model_module": "@jupyter-widgets/output",
      "model_module_version": "1.0.0",
      "model_name": "OutputModel",
      "state": {
       "layout": "IPY_MODEL_c15697ac180f4fd38f2db58f1d668c1d"
      }
     },
     "39044468b05e4eeaacec6bfc60161b6f": {
      "model_module": "@jupyter-widgets/controls",
      "model_module_version": "1.5.0",
      "model_name": "DescriptionStyleModel",
      "state": {
       "description_width": ""
      }
     },
     "395f766336ca42c8a08a0c82740149e1": {
      "model_module": "@jupyter-widgets/controls",
      "model_module_version": "1.5.0",
      "model_name": "IntSliderModel",
      "state": {
       "continuous_update": false,
       "description": "Width:",
       "layout": "IPY_MODEL_d7c102fe9c854a3db009c47eec808a4b",
       "max": 1000,
       "min": 200,
       "step": 100,
       "style": "IPY_MODEL_49d9d57e6b30459fab43fb21d80d6a0f",
       "value": 200
      }
     },
     "3964b9146b1a48dc8e737a422dc990e9": {
      "model_module": "@jupyter-widgets/controls",
      "model_module_version": "1.5.0",
      "model_name": "DatePickerModel",
      "state": {
       "description": "Target date: ",
       "disabled": false,
       "layout": "IPY_MODEL_6af6e7d851514209b494860dbad96732",
       "style": "IPY_MODEL_ce648904c0a94227b8c0e4310563077f",
       "value": {
        "date": 1,
        "month": 0,
        "year": 2010
       }
      }
     },
     "39c57078680b456b92660ad5d8cb1a81": {
      "model_module": "@jupyter-widgets/base",
      "model_module_version": "1.2.0",
      "model_name": "LayoutModel",
      "state": {}
     },
     "3a2021c8a17c4839911862cc9cf8c8e3": {
      "model_module": "@jupyter-widgets/controls",
      "model_module_version": "1.5.0",
      "model_name": "ButtonStyleModel",
      "state": {}
     },
     "3a215831936a41639ae3df9a14dba3c3": {
      "model_module": "@jupyter-widgets/base",
      "model_module_version": "1.2.0",
      "model_name": "LayoutModel",
      "state": {}
     },
     "3a2e76d6e7a44729a39f19e537b222bf": {
      "model_module": "@jupyter-widgets/base",
      "model_module_version": "1.2.0",
      "model_name": "LayoutModel",
      "state": {}
     },
     "3a4c69d13a8a4f47a82bcd14ac41d246": {
      "model_module": "@jupyter-widgets/base",
      "model_module_version": "1.2.0",
      "model_name": "LayoutModel",
      "state": {}
     },
     "3a66d3f04771466c8482e735ec525868": {
      "model_module": "@jupyter-widgets/controls",
      "model_module_version": "1.5.0",
      "model_name": "DropdownModel",
      "state": {
       "_options_labels": [
        "---",
        "UK Web Archive",
        "National Library of Australia",
        "National Library of New Zealand",
        "Internet Archive"
       ],
       "description": "Archive:",
       "index": 2,
       "layout": "IPY_MODEL_767cf9d1ba674f8587399e2423c75e92",
       "style": "IPY_MODEL_0f93587d5aba457b9393e4dc61c6580e"
      }
     },
     "3a6bb7c1ef654ebea43e1cf2cf8007d4": {
      "model_module": "@jupyter-widgets/base",
      "model_module_version": "1.2.0",
      "model_name": "LayoutModel",
      "state": {}
     },
     "3ab1d1d156eb493290a3c5553da6e574": {
      "model_module": "@jupyter-widgets/controls",
      "model_module_version": "1.5.0",
      "model_name": "DropdownModel",
      "state": {
       "_options_labels": [
        "---",
        "UK Web Archive",
        "National Library of Australia",
        "National Library of New Zealand",
        "Internet Archive"
       ],
       "description": "Archive:",
       "index": 4,
       "layout": "IPY_MODEL_55eb8d1e37514879adb9d2cc8f374602",
       "style": "IPY_MODEL_ecf64066f43b4ee3b889ad16e576871c"
      }
     },
     "3b45a21c57a4486ba16ae2d7a90b2453": {
      "model_module": "@jupyter-widgets/base",
      "model_module_version": "1.2.0",
      "model_name": "LayoutModel",
      "state": {}
     },
     "3b64951f43eb4aa6a7263b9b6312779f": {
      "model_module": "@jupyter-widgets/controls",
      "model_module_version": "1.5.0",
      "model_name": "VBoxModel",
      "state": {
       "children": [
        "IPY_MODEL_3a66d3f04771466c8482e735ec525868",
        "IPY_MODEL_56007c46db1344559d881abedccb21f9"
       ],
       "layout": "IPY_MODEL_872a70d4799e4a28b193fb12f0af3abf"
      }
     },
     "3b699b5cdf5e4d41b1ee9285b15b93bc": {
      "model_module": "@jupyter-widgets/base",
      "model_module_version": "1.2.0",
      "model_name": "LayoutModel",
      "state": {}
     },
     "3c2d7b5d065b413f9afd751920bceefc": {
      "model_module": "@jupyter-widgets/controls",
      "model_module_version": "1.5.0",
      "model_name": "ButtonStyleModel",
      "state": {}
     },
     "3c46d2b69b9143639e36d02f266058ed": {
      "model_module": "@jupyter-widgets/controls",
      "model_module_version": "1.5.0",
      "model_name": "DropdownModel",
      "state": {
       "_options_labels": [
        "---",
        "UK Web Archive",
        "National Library of Australia",
        "National Library of New Zealand",
        "Internet Archive"
       ],
       "description": "Archive:",
       "index": 0,
       "layout": "IPY_MODEL_b229bf745d6542fca6a90dd37fe7d56e",
       "style": "IPY_MODEL_e47429ee910143f886d74f78d7dbae31"
      }
     },
     "3c5490c10e344fa3b6c23b99305e7ceb": {
      "model_module": "@jupyter-widgets/base",
      "model_module_version": "1.2.0",
      "model_name": "LayoutModel",
      "state": {}
     },
     "3ca7fcbd86944e2aa76d0ebef3cb1da9": {
      "model_module": "@jupyter-widgets/controls",
      "model_module_version": "1.5.0",
      "model_name": "IntSliderModel",
      "state": {
       "continuous_update": false,
       "description": "Width:",
       "layout": "IPY_MODEL_b734d8678e2a4f07a972afebed8a1b34",
       "max": 1000,
       "min": 200,
       "step": 100,
       "style": "IPY_MODEL_7d6df78193e8489389ddffa7eacc89d5",
       "value": 200
      }
     },
     "3d8c4cbd9c0b481aa0dda598a135308f": {
      "model_module": "@jupyter-widgets/controls",
      "model_module_version": "1.5.0",
      "model_name": "HBoxModel",
      "state": {
       "children": [
        "IPY_MODEL_1da386ea37da4479906145db821041a2",
        "IPY_MODEL_ce98a96042e24ddc8621cc1c7613f7ea"
       ],
       "layout": "IPY_MODEL_d1f9360b397a417985a610ab22e65e08"
      }
     },
     "3d9e23b3448a4aac906613867c5e3663": {
      "model_module": "@jupyter-widgets/base",
      "model_module_version": "1.2.0",
      "model_name": "LayoutModel",
      "state": {}
     },
     "3dc3572f0fb5455e9a68cdc474315a40": {
      "model_module": "@jupyter-widgets/controls",
      "model_module_version": "1.5.0",
      "model_name": "ButtonModel",
      "state": {
       "description": "Clear last",
       "layout": "IPY_MODEL_37ccd1f797a84230b0e6e0245287d149",
       "style": "IPY_MODEL_5eff32edd9194a84adc8630c68cde489"
      }
     },
     "3dfc316292d44cab8830c16b2a96c937": {
      "model_module": "@jupyter-widgets/controls",
      "model_module_version": "1.5.0",
      "model_name": "DescriptionStyleModel",
      "state": {
       "description_width": ""
      }
     },
     "3e5110bd02d44a759df3a15334feec91": {
      "model_module": "@jupyter-widgets/base",
      "model_module_version": "1.2.0",
      "model_name": "LayoutModel",
      "state": {}
     },
     "3eb138fa0bcb49dcadfb66c1d3d97db4": {
      "model_module": "@jupyter-widgets/controls",
      "model_module_version": "1.5.0",
      "model_name": "DescriptionStyleModel",
      "state": {
       "description_width": ""
      }
     },
     "3f3102c548764901ab064310ac97fab1": {
      "model_module": "@jupyter-widgets/controls",
      "model_module_version": "1.5.0",
      "model_name": "DatePickerModel",
      "state": {
       "description": "Target date: ",
       "disabled": false,
       "layout": "IPY_MODEL_5378c8a3fb854b7fb1cf8a3e8ceb49c4",
       "style": "IPY_MODEL_d287767b9771487d86d26cf4b8c60192"
      }
     },
     "3f969ffbf89249a693e9ae6e4aa9ead5": {
      "model_module": "@jupyter-widgets/controls",
      "model_module_version": "1.5.0",
      "model_name": "DatePickerModel",
      "state": {
       "description": "Target date: ",
       "disabled": false,
       "layout": "IPY_MODEL_1810b7e24d8345cf99b08ba24d67bedc",
       "style": "IPY_MODEL_59663e8ed01d4e189c479d27693fa8e6"
      }
     },
     "3fe5b23666bc47d2ab571ff5565f71f7": {
      "model_module": "@jupyter-widgets/controls",
      "model_module_version": "1.5.0",
      "model_name": "DatePickerModel",
      "state": {
       "description": "Target date: ",
       "disabled": false,
       "layout": "IPY_MODEL_3267892e80dd4174bb3c64fd3d1c46e8",
       "style": "IPY_MODEL_7c81e38a3ea149d2a3f447a4ccfea54e"
      }
     },
     "404d9fb5b2d64633a626090c3402c504": {
      "model_module": "@jupyter-widgets/controls",
      "model_module_version": "1.5.0",
      "model_name": "ButtonStyleModel",
      "state": {}
     },
     "40c37a9663e24afeabe4f0be5fa2a2e1": {
      "model_module": "@jupyter-widgets/base",
      "model_module_version": "1.2.0",
      "model_name": "LayoutModel",
      "state": {}
     },
     "40e78f6123d94bcead8393dcf48f93e8": {
      "model_module": "@jupyter-widgets/controls",
      "model_module_version": "1.5.0",
      "model_name": "ButtonModel",
      "state": {
       "description": "Clear all",
       "layout": "IPY_MODEL_d91c2a743d3f405aa06635feb37941db",
       "style": "IPY_MODEL_04f94de8c55c4424b7b26d1212ef3628"
      }
     },
     "41e9400a80ed47f382c034a329417987": {
      "model_module": "@jupyter-widgets/base",
      "model_module_version": "1.2.0",
      "model_name": "LayoutModel",
      "state": {}
     },
     "425bd58b79914a1e8dab1ee7a152f9fd": {
      "model_module": "@jupyter-widgets/controls",
      "model_module_version": "1.5.0",
      "model_name": "ButtonStyleModel",
      "state": {}
     },
     "42ac8cd171824b28a6d86d7d0ab43058": {
      "model_module": "@jupyter-widgets/base",
      "model_module_version": "1.2.0",
      "model_name": "LayoutModel",
      "state": {}
     },
     "42b5930a31b1487ab7c2411ab023edf7": {
      "model_module": "@jupyter-widgets/base",
      "model_module_version": "1.2.0",
      "model_name": "LayoutModel",
      "state": {}
     },
     "4331fc14407d439fb008d5004466b213": {
      "model_module": "@jupyter-widgets/base",
      "model_module_version": "1.2.0",
      "model_name": "LayoutModel",
      "state": {}
     },
     "434e16df159c4fbfb6efe4019d36e38e": {
      "model_module": "@jupyter-widgets/base",
      "model_module_version": "1.2.0",
      "model_name": "LayoutModel",
      "state": {}
     },
     "43b32c77aab74a83b71affeb957bd095": {
      "model_module": "@jupyter-widgets/controls",
      "model_module_version": "1.5.0",
      "model_name": "DescriptionStyleModel",
      "state": {
       "description_width": ""
      }
     },
     "43e74c7a19ce40c3becbecacc34bc39a": {
      "model_module": "@jupyter-widgets/base",
      "model_module_version": "1.2.0",
      "model_name": "LayoutModel",
      "state": {}
     },
     "43ee874aed124395971be7a4f05389e1": {
      "model_module": "@jupyter-widgets/controls",
      "model_module_version": "1.5.0",
      "model_name": "TextModel",
      "state": {
       "description": "Target URL:",
       "layout": "IPY_MODEL_567533fd509a420688c90f5165a9783e",
       "style": "IPY_MODEL_70264c56c99540efa66df317fe78df25",
       "value": "http://bl.uk"
      }
     },
     "44b10e5c0f8d40d28b07408cc260dd58": {
      "model_module": "@jupyter-widgets/controls",
      "model_module_version": "1.5.0",
      "model_name": "HBoxModel",
      "state": {
       "children": [
        "IPY_MODEL_5256aab7a05c4abb987dec750d61c593",
        "IPY_MODEL_e2bd56ac7ee64dc68280efe802f09614"
       ],
       "layout": "IPY_MODEL_acd85851bb3b4dbe8b73899ef6608ea3"
      }
     },
     "44fda3f18e6e4b1fb36f10437612b422": {
      "model_module": "@jupyter-widgets/base",
      "model_module_version": "1.2.0",
      "model_name": "LayoutModel",
      "state": {}
     },
     "453deca008e24e9bacf216ed17db31b1": {
      "model_module": "@jupyter-widgets/output",
      "model_module_version": "1.0.0",
      "model_name": "OutputModel",
      "state": {
       "layout": "IPY_MODEL_9a80df097a274de9957ef89c1c1290be"
      }
     },
     "457204fa573349a39f41ca5333254137": {
      "model_module": "@jupyter-widgets/controls",
      "model_module_version": "1.5.0",
      "model_name": "SliderStyleModel",
      "state": {
       "description_width": ""
      }
     },
     "45cbbd6e81aa41b1ad4b4af392abea33": {
      "model_module": "@jupyter-widgets/controls",
      "model_module_version": "1.5.0",
      "model_name": "TextModel",
      "state": {
       "description": "Target URL:",
       "layout": "IPY_MODEL_4e287bed0b0d4b4b87f8f2ef8286419f",
       "style": "IPY_MODEL_6be13447a8dd4f039b20ec1fd5281c4a",
       "value": "http://abc.net.au"
      }
     },
     "45d59d76793f4be1a626dbe8faf325e1": {
      "model_module": "@jupyter-widgets/controls",
      "model_module_version": "1.5.0",
      "model_name": "DescriptionStyleModel",
      "state": {
       "description_width": ""
      }
     },
     "45ea0b47527c4cf8afd4bf4113a66fb9": {
      "model_module": "@jupyter-widgets/controls",
      "model_module_version": "1.5.0",
      "model_name": "ButtonStyleModel",
      "state": {}
     },
     "4605a81a357c45c8a389df9f245c02c1": {
      "model_module": "@jupyter-widgets/controls",
      "model_module_version": "1.5.0",
      "model_name": "DescriptionStyleModel",
      "state": {
       "description_width": ""
      }
     },
     "4624e92b750841f489081d58170c5cc9": {
      "model_module": "@jupyter-widgets/controls",
      "model_module_version": "1.5.0",
      "model_name": "DatePickerModel",
      "state": {
       "description": "Target date: ",
       "disabled": false,
       "layout": "IPY_MODEL_60d52ea3948b437c836f6d74f3d3a5a2",
       "style": "IPY_MODEL_1f6a29106da947af9bddc98da8371209"
      }
     },
     "46384519da8a48e894ebcae84ee810e7": {
      "model_module": "@jupyter-widgets/base",
      "model_module_version": "1.2.0",
      "model_name": "LayoutModel",
      "state": {}
     },
     "4686311512a349a79b9b011c7a21e406": {
      "model_module": "@jupyter-widgets/base",
      "model_module_version": "1.2.0",
      "model_name": "LayoutModel",
      "state": {
       "padding": "20px"
      }
     },
     "46973f1f5379406d8b010aafaaad313a": {
      "model_module": "@jupyter-widgets/base",
      "model_module_version": "1.2.0",
      "model_name": "LayoutModel",
      "state": {}
     },
     "46edc698a6244c1ea1a2c622442ee6b7": {
      "model_module": "@jupyter-widgets/base",
      "model_module_version": "1.2.0",
      "model_name": "LayoutModel",
      "state": {}
     },
     "470dfef3b11d4d4c96507cd4e40eeba6": {
      "model_module": "@jupyter-widgets/controls",
      "model_module_version": "1.5.0",
      "model_name": "ButtonStyleModel",
      "state": {}
     },
     "470f20b1f8d742ac9e3c97211d9c39cc": {
      "model_module": "@jupyter-widgets/base",
      "model_module_version": "1.2.0",
      "model_name": "LayoutModel",
      "state": {}
     },
     "47c44f64de7d403f8d794c539f8e0ef3": {
      "model_module": "@jupyter-widgets/controls",
      "model_module_version": "1.5.0",
      "model_name": "ButtonModel",
      "state": {
       "description": "Clear all",
       "layout": "IPY_MODEL_3d9e23b3448a4aac906613867c5e3663",
       "style": "IPY_MODEL_6ab6f7f795ea414380d3db7ddca44d5e"
      }
     },
     "48280a85a8a74c60958f2345e15c0819": {
      "model_module": "@jupyter-widgets/output",
      "model_module_version": "1.0.0",
      "model_name": "OutputModel",
      "state": {
       "layout": "IPY_MODEL_fe9bf08162ca42d8b0eecdeccd440987",
       "outputs": [
        {
         "data": {
          "text/html": "<div style=\"float:left; margin-left: 20px;\"><p><b>4 March 2013</b><br><a href=\"https://webarchive.nla.gov.au/awa/20130328232628/http://www.pm.gov.au/ \">https://webarchive.nla.gov.au/awa/20130328232628/http://www.pm.gov.au/ </a></p><p><a href=\"screenshots/www-pm-gov-au-20130328232628-200.png\"><img src=\"screenshots/www-pm-gov-au-20130328232628-200.png\"></a><br><a href=\"screenshots/www-pm-gov-au-20130328232628-200.png\">[Download]</a></p></div>",
          "text/plain": "<IPython.core.display.HTML object>"
         },
         "metadata": {},
         "output_type": "display_data"
        }
       ]
      }
     },
     "48670aa69bb5454297918b397a29dfdb": {
      "model_module": "@jupyter-widgets/base",
      "model_module_version": "1.2.0",
      "model_name": "LayoutModel",
      "state": {}
     },
     "4869f56821044ece8f98176013ca2346": {
      "model_module": "@jupyter-widgets/base",
      "model_module_version": "1.2.0",
      "model_name": "LayoutModel",
      "state": {}
     },
     "486db98558ec4c91a6483106113e91bb": {
      "model_module": "@jupyter-widgets/output",
      "model_module_version": "1.0.0",
      "model_name": "OutputModel",
      "state": {
       "layout": "IPY_MODEL_b33bc9fce3e44944b5cb61527ace2651"
      }
     },
     "49339965e33849669c6eb51a61d2a4e8": {
      "model_module": "@jupyter-widgets/controls",
      "model_module_version": "1.5.0",
      "model_name": "ButtonModel",
      "state": {
       "description": "Clear last",
       "layout": "IPY_MODEL_36fda8ef891c43a5a5fcd5aa4dc5ff80",
       "style": "IPY_MODEL_b8e9d6b70693413aaca6353d6fc002b0"
      }
     },
     "4939e6aac84742d2abaa1a3b908d65e7": {
      "model_module": "@jupyter-widgets/base",
      "model_module_version": "1.2.0",
      "model_name": "LayoutModel",
      "state": {}
     },
     "49d9d57e6b30459fab43fb21d80d6a0f": {
      "model_module": "@jupyter-widgets/controls",
      "model_module_version": "1.5.0",
      "model_name": "SliderStyleModel",
      "state": {
       "description_width": ""
      }
     },
     "49db1732f6f84a34a79c6862ca13e8f1": {
      "model_module": "@jupyter-widgets/controls",
      "model_module_version": "1.5.0",
      "model_name": "DatePickerModel",
      "state": {
       "description": "Target date: ",
       "disabled": false,
       "layout": "IPY_MODEL_8b8b545cb39b4378a143d6a6ae7fc499",
       "style": "IPY_MODEL_91fb2a97c4e84d048b9c9bf8875859e4"
      }
     },
     "49dbcd4b9dcd4005be61739ad687f206": {
      "model_module": "@jupyter-widgets/controls",
      "model_module_version": "1.5.0",
      "model_name": "IntSliderModel",
      "state": {
       "continuous_update": false,
       "description": "Width:",
       "layout": "IPY_MODEL_09930e6a3f7a49fd81db74f458a2c64b",
       "max": 1000,
       "min": 200,
       "step": 100,
       "style": "IPY_MODEL_f87873f71a9f413689601967ce6e674c",
       "value": 200
      }
     },
     "49ec57b45d1442d5ba2aca4c1d79ca6b": {
      "model_module": "@jupyter-widgets/controls",
      "model_module_version": "1.5.0",
      "model_name": "VBoxModel",
      "state": {
       "children": [
        "IPY_MODEL_5f4920929ae24f2b8a19975e2471344e",
        "IPY_MODEL_4624e92b750841f489081d58170c5cc9"
       ],
       "layout": "IPY_MODEL_58cecf72f29546b8aa86d2c717134dea"
      }
     },
     "4a4f1cbb06f54f17b7e3158a910ab51d": {
      "model_module": "@jupyter-widgets/base",
      "model_module_version": "1.2.0",
      "model_name": "LayoutModel",
      "state": {}
     },
     "4a9a67b970d34c1281abda22b3db24da": {
      "model_module": "@jupyter-widgets/controls",
      "model_module_version": "1.5.0",
      "model_name": "ButtonStyleModel",
      "state": {}
     },
     "4ab6ff3a53624592be1740177ed1869d": {
      "model_module": "@jupyter-widgets/controls",
      "model_module_version": "1.5.0",
      "model_name": "DescriptionStyleModel",
      "state": {
       "description_width": ""
      }
     },
     "4ad720f9d18e49268ba5bf926610c63a": {
      "model_module": "@jupyter-widgets/controls",
      "model_module_version": "1.5.0",
      "model_name": "DescriptionStyleModel",
      "state": {
       "description_width": ""
      }
     },
     "4afad50e327343eea4e2c56893d0239d": {
      "model_module": "@jupyter-widgets/controls",
      "model_module_version": "1.5.0",
      "model_name": "VBoxModel",
      "state": {
       "children": [
        "IPY_MODEL_45cbbd6e81aa41b1ad4b4af392abea33",
        "IPY_MODEL_2d2a850273c9420cbdd8e8a6f045d25b"
       ],
       "layout": "IPY_MODEL_dd4aeb3ac0554fce88c7062e75b9b498"
      }
     },
     "4afd27a06b0a4fc793ef93f074556e83": {
      "model_module": "@jupyter-widgets/base",
      "model_module_version": "1.2.0",
      "model_name": "LayoutModel",
      "state": {}
     },
     "4b14ef4a8a1043038fcd562d3cfa3ef4": {
      "model_module": "@jupyter-widgets/output",
      "model_module_version": "1.0.0",
      "model_name": "OutputModel",
      "state": {
       "layout": "IPY_MODEL_e1d2ddfd7bc049e099f219d1a7eb33e2"
      }
     },
     "4ca3c812954e4fc882cc5d974394e26a": {
      "model_module": "@jupyter-widgets/controls",
      "model_module_version": "1.5.0",
      "model_name": "DropdownModel",
      "state": {
       "_options_labels": [
        "---",
        "UK Web Archive",
        "National Library of Australia",
        "National Library of New Zealand",
        "Internet Archive"
       ],
       "description": "Archive:",
       "index": 3,
       "layout": "IPY_MODEL_48670aa69bb5454297918b397a29dfdb",
       "style": "IPY_MODEL_762d19efbbea4156aad3c2c3f4dc1576"
      }
     },
     "4ce200e7b7d64e80820b5a83311fb3ea": {
      "model_module": "@jupyter-widgets/base",
      "model_module_version": "1.2.0",
      "model_name": "LayoutModel",
      "state": {
       "padding": "20px"
      }
     },
     "4ceea045a40c4609b55afbe3bc71298d": {
      "model_module": "@jupyter-widgets/controls",
      "model_module_version": "1.5.0",
      "model_name": "ButtonStyleModel",
      "state": {}
     },
     "4d825c52c9244b9cbd2ee9ed96104f27": {
      "model_module": "@jupyter-widgets/controls",
      "model_module_version": "1.5.0",
      "model_name": "ButtonModel",
      "state": {
       "description": "Clear all",
       "layout": "IPY_MODEL_15a4b7570c6f43fe816cb6e32be0731a",
       "style": "IPY_MODEL_470dfef3b11d4d4c96507cd4e40eeba6"
      }
     },
     "4e24676a8516448db168ba643b48b213": {
      "model_module": "@jupyter-widgets/controls",
      "model_module_version": "1.5.0",
      "model_name": "DatePickerModel",
      "state": {
       "description": "Target date: ",
       "disabled": false,
       "layout": "IPY_MODEL_8acd8315f18541448b89469f301d62ac",
       "style": "IPY_MODEL_2bc26cb3e68646f3911f6d4fcd1d0e2f"
      }
     },
     "4e287bed0b0d4b4b87f8f2ef8286419f": {
      "model_module": "@jupyter-widgets/base",
      "model_module_version": "1.2.0",
      "model_name": "LayoutModel",
      "state": {}
     },
     "4e592ecd48794f2fa67d5a212e1646ad": {
      "model_module": "@jupyter-widgets/controls",
      "model_module_version": "1.5.0",
      "model_name": "ButtonStyleModel",
      "state": {}
     },
     "4f38c454ee9c41f8add33870ce78cee2": {
      "model_module": "@jupyter-widgets/base",
      "model_module_version": "1.2.0",
      "model_name": "LayoutModel",
      "state": {}
     },
     "4f89f14cc740478388e0b575d32de207": {
      "model_module": "@jupyter-widgets/controls",
      "model_module_version": "1.5.0",
      "model_name": "ButtonModel",
      "state": {
       "description": "Clear all",
       "layout": "IPY_MODEL_8dd4d460367f4b98a59bbb55db674693",
       "style": "IPY_MODEL_9441cf8ede4b41728bdfe8ba5a70e55c"
      }
     },
     "4fa24f9b4b8e4ab2ba5bba537032a437": {
      "model_module": "@jupyter-widgets/output",
      "model_module_version": "1.0.0",
      "model_name": "OutputModel",
      "state": {
       "layout": "IPY_MODEL_f72012c5c5084259b0b418c46d120205",
       "outputs": [
        {
         "data": {
          "text/html": "<div style=\"float:left; margin-left: 20px;\"><p><b>6 November 2010</b><br><a href=\"https://web.archive.org.au/awa/20101127074747mp_/http://pm.gov.au/\">http://pm.gov.au</a></p><p><a href=\"screenshots/pm-gov-au-20101127074747-200.png\"><img src=\"screenshots/pm-gov-au-20101127074747-200.png\"></a><br><a href=\"screenshots/pm-gov-au-20101127074747-200.png\">[Download]</a></p></div>",
          "text/plain": "<IPython.core.display.HTML object>"
         },
         "metadata": {},
         "output_type": "display_data"
        }
       ]
      }
     },
     "4fa9711e9cd84868a2895824fa66d1b4": {
      "model_module": "@jupyter-widgets/controls",
      "model_module_version": "1.5.0",
      "model_name": "TextModel",
      "state": {
       "description": "Target URL:",
       "layout": "IPY_MODEL_43e74c7a19ce40c3becbecacc34bc39a",
       "style": "IPY_MODEL_dd206a1b2b0b4dabbb19555479b3ddbc",
       "value": "http://natlib.govt.nz"
      }
     },
     "500979b73a2c40aaa79755426caba533": {
      "model_module": "@jupyter-widgets/controls",
      "model_module_version": "1.5.0",
      "model_name": "TextModel",
      "state": {
       "description": "Target URL:",
       "layout": "IPY_MODEL_8e1f993d1400490a89d6f21bfa23eb76",
       "style": "IPY_MODEL_debf1f2395b9413d938b44cb5e498186",
       "value": "https://webarchive.nla.gov.au/awa/20130328232628/http://www.pm.gov.au/ "
      }
     },
     "50303c6a4c0b456a9b8577ae1fdb2db2": {
      "model_module": "@jupyter-widgets/controls",
      "model_module_version": "1.5.0",
      "model_name": "HBoxModel",
      "state": {
       "children": [
        "IPY_MODEL_f9c22670f7db45debd46bff15a5c8187",
        "IPY_MODEL_aa4d3e22955c4d1aace4ea6d8246e05a"
       ],
       "layout": "IPY_MODEL_dc82d8e3fe914db4ac302a29856316c6"
      }
     },
     "5040cb80bd6742f3b6c9aae9a61f0037": {
      "model_module": "@jupyter-widgets/base",
      "model_module_version": "1.2.0",
      "model_name": "LayoutModel",
      "state": {}
     },
     "50673fbb67d545359c1eb51436430b06": {
      "model_module": "@jupyter-widgets/base",
      "model_module_version": "1.2.0",
      "model_name": "LayoutModel",
      "state": {}
     },
     "5083f1d6880f47d2afa19a7a4ea9eacc": {
      "model_module": "@jupyter-widgets/controls",
      "model_module_version": "1.5.0",
      "model_name": "DatePickerModel",
      "state": {
       "description": "Target date: ",
       "disabled": false,
       "layout": "IPY_MODEL_52a16d0fd53645228db1de22be491624",
       "style": "IPY_MODEL_58f50c8478d64a6497fb5f4975af3428",
       "value": {
        "date": 1,
        "month": 0,
        "year": 2020
       }
      }
     },
     "508469ce35fb46ab93bb0bbd84903046": {
      "model_module": "@jupyter-widgets/base",
      "model_module_version": "1.2.0",
      "model_name": "LayoutModel",
      "state": {}
     },
     "50bb5cf6d0144ad3bba1401d742eb87a": {
      "model_module": "@jupyter-widgets/controls",
      "model_module_version": "1.5.0",
      "model_name": "ButtonStyleModel",
      "state": {}
     },
     "5129a4cea56c40e6b4de95ef8355e19d": {
      "model_module": "@jupyter-widgets/controls",
      "model_module_version": "1.5.0",
      "model_name": "ButtonStyleModel",
      "state": {}
     },
     "515172885116490e8b8f6596500f7cb4": {
      "model_module": "@jupyter-widgets/base",
      "model_module_version": "1.2.0",
      "model_name": "LayoutModel",
      "state": {}
     },
     "52102f9e2b1545df8cb6253b8e9f6738": {
      "model_module": "@jupyter-widgets/output",
      "model_module_version": "1.0.0",
      "model_name": "OutputModel",
      "state": {
       "layout": "IPY_MODEL_e290e72836654af4bba0a35b6a7564a1",
       "outputs": [
        {
         "name": "stdout",
         "output_type": "stream",
         "text": "Something went wrong – couldn't get a screenshot of https://web.archive.org.au/awa-nobanner/20130328232628/http://www.pm.gov.au/ – sorry...\n"
        }
       ]
      }
     },
     "5256aab7a05c4abb987dec750d61c593": {
      "model_module": "@jupyter-widgets/controls",
      "model_module_version": "1.5.0",
      "model_name": "VBoxModel",
      "state": {
       "children": [
        "IPY_MODEL_706d5650908c4e7fb5fea5162a479464",
        "IPY_MODEL_01915b7d85a34c399f18d65a6b2062e6"
       ],
       "layout": "IPY_MODEL_8e715311c3a24a808079c9ac4a5271ec"
      }
     },
     "526912572df6445fa1aa1c2afef7881e": {
      "model_module": "@jupyter-widgets/controls",
      "model_module_version": "1.5.0",
      "model_name": "ButtonStyleModel",
      "state": {}
     },
     "52a16d0fd53645228db1de22be491624": {
      "model_module": "@jupyter-widgets/base",
      "model_module_version": "1.2.0",
      "model_name": "LayoutModel",
      "state": {}
     },
     "5324cf10135344e396c97c99dcf32cd2": {
      "model_module": "@jupyter-widgets/controls",
      "model_module_version": "1.5.0",
      "model_name": "VBoxModel",
      "state": {
       "children": [
        "IPY_MODEL_be13bb5d7ea24770ba66991b25989be2",
        "IPY_MODEL_c7dcf2468d5f4ed39ebaebe6c291f222"
       ],
       "layout": "IPY_MODEL_e4f2242bff9444c9accd18c267e7a4db"
      }
     },
     "53300cfc38474bf99b10e87c26496de3": {
      "model_module": "@jupyter-widgets/controls",
      "model_module_version": "1.5.0",
      "model_name": "SliderStyleModel",
      "state": {
       "description_width": ""
      }
     },
     "5378c8a3fb854b7fb1cf8a3e8ceb49c4": {
      "model_module": "@jupyter-widgets/base",
      "model_module_version": "1.2.0",
      "model_name": "LayoutModel",
      "state": {}
     },
     "539842242b0d458ba6a68034b13d33af": {
      "model_module": "@jupyter-widgets/controls",
      "model_module_version": "1.5.0",
      "model_name": "DescriptionStyleModel",
      "state": {
       "description_width": ""
      }
     },
     "53c1e7f45ad1451e88c82320f82bc1ae": {
      "model_module": "@jupyter-widgets/controls",
      "model_module_version": "1.5.0",
      "model_name": "TextModel",
      "state": {
       "description": "Target URL:",
       "layout": "IPY_MODEL_5e615fe0316f4bc7bd9d48af0fd35428",
       "style": "IPY_MODEL_a3a46541c4564bd3badea67b02ab00c1",
       "value": "https://web.archive.org.au/awa-nobanner/20130328232628/http://www.pm.gov.au/"
      }
     },
     "540e7e555bef4a499b5db16ff9cb41ab": {
      "model_module": "@jupyter-widgets/controls",
      "model_module_version": "1.5.0",
      "model_name": "SliderStyleModel",
      "state": {
       "description_width": ""
      }
     },
     "5470c4b00f3a4ee5a78479a12a0fa148": {
      "model_module": "@jupyter-widgets/base",
      "model_module_version": "1.2.0",
      "model_name": "LayoutModel",
      "state": {}
     },
     "5474e610cec347019434662f31a25646": {
      "model_module": "@jupyter-widgets/base",
      "model_module_version": "1.2.0",
      "model_name": "LayoutModel",
      "state": {}
     },
     "5497290fd71144b7b17b034774c3ed1d": {
      "model_module": "@jupyter-widgets/controls",
      "model_module_version": "1.5.0",
      "model_name": "ButtonStyleModel",
      "state": {}
     },
     "5506228c49e842ffa11df47c2b5b10cc": {
      "model_module": "@jupyter-widgets/controls",
      "model_module_version": "1.5.0",
      "model_name": "ButtonModel",
      "state": {
       "button_style": "primary",
       "description": "Get screenshot",
       "layout": "IPY_MODEL_d8371b9fd9bd4422a3b690d0666ba583",
       "style": "IPY_MODEL_81324112a7344adc85d87a963f9694ea"
      }
     },
     "551c7f8a0a5c46c29597889c88d3b398": {
      "model_module": "@jupyter-widgets/controls",
      "model_module_version": "1.5.0",
      "model_name": "VBoxModel",
      "state": {
       "children": [
        "IPY_MODEL_c8de282874d946dab9e282166d829064",
        "IPY_MODEL_0fcc71e52e854e74bc4653b350ede04c"
       ],
       "layout": "IPY_MODEL_a2c449d354044ebf975c565453e3925f"
      }
     },
     "55eb8d1e37514879adb9d2cc8f374602": {
      "model_module": "@jupyter-widgets/base",
      "model_module_version": "1.2.0",
      "model_name": "LayoutModel",
      "state": {}
     },
     "56007c46db1344559d881abedccb21f9": {
      "model_module": "@jupyter-widgets/controls",
      "model_module_version": "1.5.0",
      "model_name": "DatePickerModel",
      "state": {
       "description": "Target date: ",
       "disabled": false,
       "layout": "IPY_MODEL_8474a998f2754f56aefb2b34e215ff32",
       "style": "IPY_MODEL_abb92e30f3644cdb8bd1dcc88e8b8574",
       "value": {
        "date": 29,
        "month": 2,
        "year": 2013
       }
      }
     },
     "567533fd509a420688c90f5165a9783e": {
      "model_module": "@jupyter-widgets/base",
      "model_module_version": "1.2.0",
      "model_name": "LayoutModel",
      "state": {}
     },
     "571a9b9821694ad08f9ae64b206ee345": {
      "model_module": "@jupyter-widgets/base",
      "model_module_version": "1.2.0",
      "model_name": "LayoutModel",
      "state": {
       "padding": "20px"
      }
     },
     "571bdf6d2edf43c7986aa02067d9701a": {
      "model_module": "@jupyter-widgets/controls",
      "model_module_version": "1.5.0",
      "model_name": "ButtonModel",
      "state": {
       "button_style": "primary",
       "description": "Get screenshot",
       "layout": "IPY_MODEL_f4a6282b8cc1419bb377b4fa251c74e1",
       "style": "IPY_MODEL_799ab996687b452191a0213e342c8b3c"
      }
     },
     "58bd28a2372a416caea96ce8b628c1c8": {
      "model_module": "@jupyter-widgets/controls",
      "model_module_version": "1.5.0",
      "model_name": "SliderStyleModel",
      "state": {
       "description_width": ""
      }
     },
     "58cecf72f29546b8aa86d2c717134dea": {
      "model_module": "@jupyter-widgets/base",
      "model_module_version": "1.2.0",
      "model_name": "LayoutModel",
      "state": {}
     },
     "58f50c8478d64a6497fb5f4975af3428": {
      "model_module": "@jupyter-widgets/controls",
      "model_module_version": "1.5.0",
      "model_name": "DescriptionStyleModel",
      "state": {
       "description_width": ""
      }
     },
     "59663e8ed01d4e189c479d27693fa8e6": {
      "model_module": "@jupyter-widgets/controls",
      "model_module_version": "1.5.0",
      "model_name": "DescriptionStyleModel",
      "state": {
       "description_width": ""
      }
     },
     "5a5baa3afcec437986aa329113b0f606": {
      "model_module": "@jupyter-widgets/controls",
      "model_module_version": "1.5.0",
      "model_name": "VBoxModel",
      "state": {
       "children": [
        "IPY_MODEL_84059dd9dbd347139a9c7ad621bf2dc9",
        "IPY_MODEL_ea0967ab5d5941a9bff56b80773e128a"
       ],
       "layout": "IPY_MODEL_64db7823d9d04b289a0460d41333ba84"
      }
     },
     "5a7a771dd6934de09d0a5c52ad5b211b": {
      "model_module": "@jupyter-widgets/controls",
      "model_module_version": "1.5.0",
      "model_name": "ButtonStyleModel",
      "state": {}
     },
     "5a99121797b342018b009a61fc4bc062": {
      "model_module": "@jupyter-widgets/base",
      "model_module_version": "1.2.0",
      "model_name": "LayoutModel",
      "state": {}
     },
     "5ad058957e704df49a8886fe7c9d9c94": {
      "model_module": "@jupyter-widgets/controls",
      "model_module_version": "1.5.0",
      "model_name": "DescriptionStyleModel",
      "state": {
       "description_width": ""
      }
     },
     "5ad9f18495bd40b9b4028da3ba6b0d6e": {
      "model_module": "@jupyter-widgets/controls",
      "model_module_version": "1.5.0",
      "model_name": "ButtonStyleModel",
      "state": {}
     },
     "5b30d27e628e4b329b2e73fd13c297a3": {
      "model_module": "@jupyter-widgets/controls",
      "model_module_version": "1.5.0",
      "model_name": "HBoxModel",
      "state": {
       "children": [
        "IPY_MODEL_9f7ab3dc1f6e47d0a6c6f01233fffb49",
        "IPY_MODEL_f39cee39537f42f4b6aba85894feadf9"
       ],
       "layout": "IPY_MODEL_0d2cc0cd2d4a4cfd9c0bc51285568284"
      }
     },
     "5b6aebe7ebde4193a74be0213ab7e249": {
      "model_module": "@jupyter-widgets/base",
      "model_module_version": "1.2.0",
      "model_name": "LayoutModel",
      "state": {}
     },
     "5b7105455f4c496385b5e2aae69951fa": {
      "model_module": "@jupyter-widgets/controls",
      "model_module_version": "1.5.0",
      "model_name": "ButtonStyleModel",
      "state": {}
     },
     "5b86d2060be649c887d9a2d5788a9660": {
      "model_module": "@jupyter-widgets/base",
      "model_module_version": "1.2.0",
      "model_name": "LayoutModel",
      "state": {}
     },
     "5bf7b629a86448248164676d689a60f0": {
      "model_module": "@jupyter-widgets/base",
      "model_module_version": "1.2.0",
      "model_name": "LayoutModel",
      "state": {}
     },
     "5c087166ae38438ab86f27eee85b4d58": {
      "model_module": "@jupyter-widgets/controls",
      "model_module_version": "1.5.0",
      "model_name": "HBoxModel",
      "state": {
       "children": [
        "IPY_MODEL_683f42d22cb84f80a97f0c4198838049",
        "IPY_MODEL_f2f86cf7d2824b98b9d1d97384660b0f"
       ],
       "layout": "IPY_MODEL_b739a4e21e4d42dca4f6544c6618d457"
      }
     },
     "5cfb624895bb493f8bbc0d74141708e0": {
      "model_module": "@jupyter-widgets/controls",
      "model_module_version": "1.5.0",
      "model_name": "DescriptionStyleModel",
      "state": {
       "description_width": ""
      }
     },
     "5da84a1f64104110b89f22436ed8429e": {
      "model_module": "@jupyter-widgets/controls",
      "model_module_version": "1.5.0",
      "model_name": "DescriptionStyleModel",
      "state": {
       "description_width": ""
      }
     },
     "5e2e4b986ad245eeaea2df0767cba8cf": {
      "model_module": "@jupyter-widgets/base",
      "model_module_version": "1.2.0",
      "model_name": "LayoutModel",
      "state": {}
     },
     "5e615fe0316f4bc7bd9d48af0fd35428": {
      "model_module": "@jupyter-widgets/base",
      "model_module_version": "1.2.0",
      "model_name": "LayoutModel",
      "state": {}
     },
     "5eff32edd9194a84adc8630c68cde489": {
      "model_module": "@jupyter-widgets/controls",
      "model_module_version": "1.5.0",
      "model_name": "ButtonStyleModel",
      "state": {}
     },
     "5f22abc45c7d41fd858ef215fdca4546": {
      "model_module": "@jupyter-widgets/base",
      "model_module_version": "1.2.0",
      "model_name": "LayoutModel",
      "state": {}
     },
     "5f4920929ae24f2b8a19975e2471344e": {
      "model_module": "@jupyter-widgets/controls",
      "model_module_version": "1.5.0",
      "model_name": "DropdownModel",
      "state": {
       "_options_labels": [
        "---",
        "UK Web Archive",
        "National Library of Australia",
        "National Library of New Zealand",
        "Internet Archive"
       ],
       "description": "Archive:",
       "index": 0,
       "layout": "IPY_MODEL_97ece49a232e4ac888049ae140bdf637",
       "style": "IPY_MODEL_45d59d76793f4be1a626dbe8faf325e1"
      }
     },
     "5f4d8058b18b4b2f8c4057f75579440a": {
      "model_module": "@jupyter-widgets/base",
      "model_module_version": "1.2.0",
      "model_name": "LayoutModel",
      "state": {
       "padding": "20px"
      }
     },
     "5f6daecf499341b788f79b28cd5dcc82": {
      "model_module": "@jupyter-widgets/controls",
      "model_module_version": "1.5.0",
      "model_name": "ButtonStyleModel",
      "state": {}
     },
     "5f8b8bdf73224071828b713f821ca26f": {
      "model_module": "@jupyter-widgets/base",
      "model_module_version": "1.2.0",
      "model_name": "LayoutModel",
      "state": {}
     },
     "5ff9c308697a4d0081be17807a415abd": {
      "model_module": "@jupyter-widgets/controls",
      "model_module_version": "1.5.0",
      "model_name": "DropdownModel",
      "state": {
       "_options_labels": [
        "---",
        "UK Web Archive",
        "National Library of Australia",
        "National Library of New Zealand",
        "Internet Archive"
       ],
       "description": "Archive:",
       "index": 0,
       "layout": "IPY_MODEL_d0853f71dffa464abc3efdc3b441ae76",
       "style": "IPY_MODEL_0061a8c8a9954c0f95138053124af7c8"
      }
     },
     "60c85e64957f463d82a3cc477ade58e7": {
      "model_module": "@jupyter-widgets/base",
      "model_module_version": "1.2.0",
      "model_name": "LayoutModel",
      "state": {}
     },
     "60d52ea3948b437c836f6d74f3d3a5a2": {
      "model_module": "@jupyter-widgets/base",
      "model_module_version": "1.2.0",
      "model_name": "LayoutModel",
      "state": {}
     },
     "615b95331f504f9a830826065edee823": {
      "model_module": "@jupyter-widgets/controls",
      "model_module_version": "1.5.0",
      "model_name": "DropdownModel",
      "state": {
       "_options_labels": [
        "---",
        "UK Web Archive",
        "National Library of Australia",
        "National Library of New Zealand",
        "Internet Archive"
       ],
       "description": "Archive:",
       "index": 2,
       "layout": "IPY_MODEL_dccfffa226a147fd8c64c70e02084d77",
       "style": "IPY_MODEL_a17589a9e20b43afa6210c9179e60e53"
      }
     },
     "61da6d123c16494daf12348ea72fa300": {
      "model_module": "@jupyter-widgets/controls",
      "model_module_version": "1.5.0",
      "model_name": "DescriptionStyleModel",
      "state": {
       "description_width": ""
      }
     },
     "620fabbed25e410282a6094344936e6c": {
      "model_module": "@jupyter-widgets/controls",
      "model_module_version": "1.5.0",
      "model_name": "ButtonModel",
      "state": {
       "description": "Clear last",
       "layout": "IPY_MODEL_684c5d3acf6b4e8b807df8c295bdef79",
       "style": "IPY_MODEL_5ad9f18495bd40b9b4028da3ba6b0d6e"
      }
     },
     "62322e100c364e418ad9ac8fb5d6d521": {
      "model_module": "@jupyter-widgets/base",
      "model_module_version": "1.2.0",
      "model_name": "LayoutModel",
      "state": {}
     },
     "631f14369d444578ba39c0c1e8219dc5": {
      "model_module": "@jupyter-widgets/base",
      "model_module_version": "1.2.0",
      "model_name": "LayoutModel",
      "state": {}
     },
     "6368b4e7ff464fcbbea42e25728a0ba5": {
      "model_module": "@jupyter-widgets/controls",
      "model_module_version": "1.5.0",
      "model_name": "DropdownModel",
      "state": {
       "_options_labels": [
        "---",
        "UK Web Archive",
        "National Library of Australia",
        "National Library of New Zealand",
        "Internet Archive"
       ],
       "description": "Archive:",
       "index": 1,
       "layout": "IPY_MODEL_a3dbdc43dcde42de9af90671672a7925",
       "style": "IPY_MODEL_bc50e081750f4d01b362886b6c11c437"
      }
     },
     "63ac54800d4b49fa8ef815f88a2ded84": {
      "model_module": "@jupyter-widgets/controls",
      "model_module_version": "1.5.0",
      "model_name": "ButtonStyleModel",
      "state": {}
     },
     "64db7823d9d04b289a0460d41333ba84": {
      "model_module": "@jupyter-widgets/base",
      "model_module_version": "1.2.0",
      "model_name": "LayoutModel",
      "state": {}
     },
     "652f96efb41c4b0b9593c53ae802719a": {
      "model_module": "@jupyter-widgets/controls",
      "model_module_version": "1.5.0",
      "model_name": "HBoxModel",
      "state": {
       "children": [
        "IPY_MODEL_f10251e45b9d4affbd12d23d6f227781",
        "IPY_MODEL_40e78f6123d94bcead8393dcf48f93e8",
        "IPY_MODEL_09ad722bec2a432db66f86d9dcf47e42"
       ],
       "layout": "IPY_MODEL_2a7bca17ec1943d2b629a88182723163"
      }
     },
     "6637ea6c169248728cc12e77f8e25065": {
      "model_module": "@jupyter-widgets/controls",
      "model_module_version": "1.5.0",
      "model_name": "IntSliderModel",
      "state": {
       "continuous_update": false,
       "description": "Width:",
       "layout": "IPY_MODEL_78f271205c8b4927944a50dcb4f9378d",
       "max": 1000,
       "min": 200,
       "step": 100,
       "style": "IPY_MODEL_33133b9d88a0474797e011b8bfa0339e",
       "value": 200
      }
     },
     "66413a8a2246417191de732c0e52cdd2": {
      "model_module": "@jupyter-widgets/output",
      "model_module_version": "1.0.0",
      "model_name": "OutputModel",
      "state": {
       "layout": "IPY_MODEL_eee706c6c1a244c08870038adaf5fdda"
      }
     },
     "672790bf55fb4b1294eb146bbdf55e41": {
      "model_module": "@jupyter-widgets/base",
      "model_module_version": "1.2.0",
      "model_name": "LayoutModel",
      "state": {}
     },
     "6746bb9176e74d838e994a103e4c3f2d": {
      "model_module": "@jupyter-widgets/base",
      "model_module_version": "1.2.0",
      "model_name": "LayoutModel",
      "state": {}
     },
     "67edf70a1cd34c04932dd33b82e1af9d": {
      "model_module": "@jupyter-widgets/controls",
      "model_module_version": "1.5.0",
      "model_name": "TextModel",
      "state": {
       "description": "Target URL:",
       "layout": "IPY_MODEL_1a8f77f792204288abc8da6b6c9861ba",
       "style": "IPY_MODEL_e89bb2ec9b2a490a8d385a5cb5abf15e",
       "value": "https://webarchive.nla.gov.au/awa/20130328232628/http://www.pm.gov.au/"
      }
     },
     "6809becde9af421eb88d2fc0ce1db9e2": {
      "model_module": "@jupyter-widgets/controls",
      "model_module_version": "1.5.0",
      "model_name": "HBoxModel",
      "state": {
       "children": [
        "IPY_MODEL_f05f79ba132e4f6e86611ca135cb51a4",
        "IPY_MODEL_83dccc2751d44b95b3715f8813bc7d07",
        "IPY_MODEL_29910f4a5fda4518a7905e7a541e1cc3"
       ],
       "layout": "IPY_MODEL_1a91585da273424fb6f030019f251253"
      }
     },
     "683f42d22cb84f80a97f0c4198838049": {
      "model_module": "@jupyter-widgets/controls",
      "model_module_version": "1.5.0",
      "model_name": "VBoxModel",
      "state": {
       "children": [
        "IPY_MODEL_7c97bcbd8f27482aaf1406b16ff84a8c",
        "IPY_MODEL_965831be2d06408d9e6bccb09a83bda5"
       ],
       "layout": "IPY_MODEL_867e15c85547495fae164750f19feedd"
      }
     },
     "684c5d3acf6b4e8b807df8c295bdef79": {
      "model_module": "@jupyter-widgets/base",
      "model_module_version": "1.2.0",
      "model_name": "LayoutModel",
      "state": {}
     },
     "68597142155648c4a91a63bf7b5a24b3": {
      "model_module": "@jupyter-widgets/controls",
      "model_module_version": "1.5.0",
      "model_name": "SliderStyleModel",
      "state": {
       "description_width": ""
      }
     },
     "68fce4695b8f4b678f736ff1f4040bb5": {
      "model_module": "@jupyter-widgets/base",
      "model_module_version": "1.2.0",
      "model_name": "LayoutModel",
      "state": {}
     },
     "69129dd03fad47d9b9541d509cb85cd3": {
      "model_module": "@jupyter-widgets/controls",
      "model_module_version": "1.5.0",
      "model_name": "HBoxModel",
      "state": {
       "children": [
        "IPY_MODEL_c10f7477a1f14ab1aee9c25a676e47b0",
        "IPY_MODEL_4afad50e327343eea4e2c56893d0239d"
       ],
       "layout": "IPY_MODEL_303baafc27de4585b57ce553589759b7"
      }
     },
     "69592bd829f94507aa2e867876ab1267": {
      "model_module": "@jupyter-widgets/base",
      "model_module_version": "1.2.0",
      "model_name": "LayoutModel",
      "state": {}
     },
     "697cdcf8a46243399f0f864d22e3999b": {
      "model_module": "@jupyter-widgets/output",
      "model_module_version": "1.0.0",
      "model_name": "OutputModel",
      "state": {
       "layout": "IPY_MODEL_b3c1afd8edb04c2d886f090fd1b8927c",
       "outputs": [
        {
         "data": {
          "text/html": "<div style=\"float:left; margin-left: 20px;\"><p><b>5 May 2020</b><br><a href=\"https://www.webarchive.org.uk/wayback/archive/20200508020000mp_/http://bl.uk/\">http://bl.uk</a></p><p><a href=\"screenshots/bl-uk-20200508020000-200.png\"><img src=\"screenshots/bl-uk-20200508020000-200.png\"></a><br><a href=\"screenshots/bl-uk-20200508020000-200.png\">[Download]</a></p></div><div style=\"float:left; margin-left: 20px;\"><p><b>5 January 2010</b><br><a href=\"https://www.webarchive.org.uk/wayback/archive/20100101010000mp_/http://bl.uk/\">http://bl.uk</a></p><p><a href=\"screenshots/bl-uk-20100101010000-200.png\"><img src=\"screenshots/bl-uk-20100101010000-200.png\"></a><br><a href=\"screenshots/bl-uk-20100101010000-200.png\">[Download]</a></p></div>",
          "text/plain": "<IPython.core.display.HTML object>"
         },
         "metadata": {},
         "output_type": "display_data"
        }
       ]
      }
     },
     "69aefdbb93f24e3b9e93739fbc4ed9e3": {
      "model_module": "@jupyter-widgets/base",
      "model_module_version": "1.2.0",
      "model_name": "LayoutModel",
      "state": {}
     },
     "69c80894d4314e31a750f2c84dd364c5": {
      "model_module": "@jupyter-widgets/base",
      "model_module_version": "1.2.0",
      "model_name": "LayoutModel",
      "state": {}
     },
     "6a219bdf53a5403eaa253ff6695e12b8": {
      "model_module": "@jupyter-widgets/controls",
      "model_module_version": "1.5.0",
      "model_name": "DescriptionStyleModel",
      "state": {
       "description_width": ""
      }
     },
     "6a843416148242fea2042ff654ace30c": {
      "model_module": "@jupyter-widgets/base",
      "model_module_version": "1.2.0",
      "model_name": "LayoutModel",
      "state": {}
     },
     "6ab6f7f795ea414380d3db7ddca44d5e": {
      "model_module": "@jupyter-widgets/controls",
      "model_module_version": "1.5.0",
      "model_name": "ButtonStyleModel",
      "state": {}
     },
     "6af6e7d851514209b494860dbad96732": {
      "model_module": "@jupyter-widgets/base",
      "model_module_version": "1.2.0",
      "model_name": "LayoutModel",
      "state": {}
     },
     "6b43dd3e07ff4940bc8139ba88133cb7": {
      "model_module": "@jupyter-widgets/controls",
      "model_module_version": "1.5.0",
      "model_name": "ButtonModel",
      "state": {
       "description": "Clear last",
       "layout": "IPY_MODEL_6746bb9176e74d838e994a103e4c3f2d",
       "style": "IPY_MODEL_63ac54800d4b49fa8ef815f88a2ded84"
      }
     },
     "6bd033c73ede47a8835da030a1c6a8e7": {
      "model_module": "@jupyter-widgets/controls",
      "model_module_version": "1.5.0",
      "model_name": "HBoxModel",
      "state": {
       "children": [
        "IPY_MODEL_5506228c49e842ffa11df47c2b5b10cc",
        "IPY_MODEL_7a2842a95b7d427aa2e7078caf420ba8",
        "IPY_MODEL_1018af1570224d9b8d19b0c6bd2759ce"
       ],
       "layout": "IPY_MODEL_bf78a39c475d4568881cd5311105e4ba"
      }
     },
     "6be13447a8dd4f039b20ec1fd5281c4a": {
      "model_module": "@jupyter-widgets/controls",
      "model_module_version": "1.5.0",
      "model_name": "DescriptionStyleModel",
      "state": {
       "description_width": ""
      }
     },
     "6bf9d7f56d3b4c5283025befd9f8cc2a": {
      "model_module": "@jupyter-widgets/controls",
      "model_module_version": "1.5.0",
      "model_name": "ButtonModel",
      "state": {
       "button_style": "primary",
       "description": "Get screenshot",
       "layout": "IPY_MODEL_ee3f06e8cd794c0aba9d5f3cc433848c",
       "style": "IPY_MODEL_2d4d1620c7644b60afd469ed0f543161"
      }
     },
     "6ccf10a87ac7499cb40797ab6dec3733": {
      "model_module": "@jupyter-widgets/base",
      "model_module_version": "1.2.0",
      "model_name": "LayoutModel",
      "state": {}
     },
     "6d206a48042349239692ca957edd21eb": {
      "model_module": "@jupyter-widgets/controls",
      "model_module_version": "1.5.0",
      "model_name": "HBoxModel",
      "state": {
       "children": [
        "IPY_MODEL_b03b7e8596db4218bd23c1cf1843bfee",
        "IPY_MODEL_0c77cdcb966f4b6f819a803b96111fe3"
       ],
       "layout": "IPY_MODEL_309e68f94b9a4bb4a570ac32ee752556"
      }
     },
     "6d3e9d473db64e62818782ac00dddfbe": {
      "model_module": "@jupyter-widgets/controls",
      "model_module_version": "1.5.0",
      "model_name": "IntSliderModel",
      "state": {
       "continuous_update": false,
       "description": "Width:",
       "layout": "IPY_MODEL_ddfad60fd03b4047b16a4cd1f2ffc084",
       "max": 1000,
       "min": 200,
       "step": 100,
       "style": "IPY_MODEL_e86ba4b3757d4cf386c36b4b1f1f27df",
       "value": 200
      }
     },
     "6d8bf57250b14c9aa3a3d05643f26df2": {
      "model_module": "@jupyter-widgets/controls",
      "model_module_version": "1.5.0",
      "model_name": "ButtonModel",
      "state": {
       "button_style": "primary",
       "description": "Get screenshot",
       "layout": "IPY_MODEL_256f2f49721f41eda24d0054107a19a3",
       "style": "IPY_MODEL_f1432b430c5c48c4a0ba89140db9161e"
      }
     },
     "6da5a3be187644d6b945bbd44c3537d6": {
      "model_module": "@jupyter-widgets/controls",
      "model_module_version": "1.5.0",
      "model_name": "ButtonStyleModel",
      "state": {}
     },
     "6dcad034a404447ab2c47a2ca4fdb1f0": {
      "model_module": "@jupyter-widgets/base",
      "model_module_version": "1.2.0",
      "model_name": "LayoutModel",
      "state": {}
     },
     "6dfd4475a99847c18dd4d1c6279341c1": {
      "model_module": "@jupyter-widgets/controls",
      "model_module_version": "1.5.0",
      "model_name": "DescriptionStyleModel",
      "state": {
       "description_width": ""
      }
     },
     "6e314615a419438d9d73e9bcca786247": {
      "model_module": "@jupyter-widgets/controls",
      "model_module_version": "1.5.0",
      "model_name": "HBoxModel",
      "state": {
       "children": [
        "IPY_MODEL_e377cf0bf52546cc9d39f2a106f1b8ba",
        "IPY_MODEL_20e82684a7534914bfeb2900fadb0e6f"
       ],
       "layout": "IPY_MODEL_c77915abde4d4cc6a8a201ac22d839ad"
      }
     },
     "6f02ffa4362b424f84849256c41b2dea": {
      "model_module": "@jupyter-widgets/base",
      "model_module_version": "1.2.0",
      "model_name": "LayoutModel",
      "state": {}
     },
     "6f13ecc359d44a6090284d59e1f0a7df": {
      "model_module": "@jupyter-widgets/base",
      "model_module_version": "1.2.0",
      "model_name": "LayoutModel",
      "state": {}
     },
     "6f90f367cf124ee69e0723ff6e02b516": {
      "model_module": "@jupyter-widgets/base",
      "model_module_version": "1.2.0",
      "model_name": "LayoutModel",
      "state": {}
     },
     "70264c56c99540efa66df317fe78df25": {
      "model_module": "@jupyter-widgets/controls",
      "model_module_version": "1.5.0",
      "model_name": "DescriptionStyleModel",
      "state": {
       "description_width": ""
      }
     },
     "706d5650908c4e7fb5fea5162a479464": {
      "model_module": "@jupyter-widgets/controls",
      "model_module_version": "1.5.0",
      "model_name": "DropdownModel",
      "state": {
       "_options_labels": [
        "---",
        "UK Web Archive",
        "National Library of Australia",
        "National Library of New Zealand",
        "Internet Archive"
       ],
       "description": "Archive:",
       "index": 0,
       "layout": "IPY_MODEL_73295ddfdbca44c59ca3f9ab397517ce",
       "style": "IPY_MODEL_d8107cd28adb42fd9ca4cca4614a55ed"
      }
     },
     "70b21d66ff284dfda9ea7e4762ff4d0b": {
      "model_module": "@jupyter-widgets/controls",
      "model_module_version": "1.5.0",
      "model_name": "HBoxModel",
      "state": {
       "children": [
        "IPY_MODEL_a49123080c4a40bcb541f1f033e93362",
        "IPY_MODEL_cf5167d72c004a23876ff5ea8a39d04b"
       ],
       "layout": "IPY_MODEL_4ce200e7b7d64e80820b5a83311fb3ea"
      }
     },
     "70d5f38b209e4e9187d7abf0e8ee7eeb": {
      "model_module": "@jupyter-widgets/controls",
      "model_module_version": "1.5.0",
      "model_name": "ButtonModel",
      "state": {
       "button_style": "primary",
       "description": "Get screenshot",
       "layout": "IPY_MODEL_79c14bddface435b91b74f93e18df381",
       "style": "IPY_MODEL_50bb5cf6d0144ad3bba1401d742eb87a"
      }
     },
     "711f059a20034460a5a57223c4c767af": {
      "model_module": "@jupyter-widgets/controls",
      "model_module_version": "1.5.0",
      "model_name": "ButtonStyleModel",
      "state": {}
     },
     "7131361ec52245c0a61da4da7e3a68a2": {
      "model_module": "@jupyter-widgets/controls",
      "model_module_version": "1.5.0",
      "model_name": "DescriptionStyleModel",
      "state": {
       "description_width": ""
      }
     },
     "7175451e74a945d2ae9ec7c91a6dce5f": {
      "model_module": "@jupyter-widgets/controls",
      "model_module_version": "1.5.0",
      "model_name": "VBoxModel",
      "state": {
       "children": [
        "IPY_MODEL_f5f6a34b89fd4d4a80a344089f2f86b2",
        "IPY_MODEL_e7fdb8d5f8f34fa5b3d2b80fa802d816"
       ],
       "layout": "IPY_MODEL_e2ad335c792c4975ab1244dac09e1958"
      }
     },
     "73295ddfdbca44c59ca3f9ab397517ce": {
      "model_module": "@jupyter-widgets/base",
      "model_module_version": "1.2.0",
      "model_name": "LayoutModel",
      "state": {}
     },
     "73775cccd9f64461a0d380f73d2e5d8f": {
      "model_module": "@jupyter-widgets/base",
      "model_module_version": "1.2.0",
      "model_name": "LayoutModel",
      "state": {}
     },
     "744dace3adce4dcb8a34398e0b2436a5": {
      "model_module": "@jupyter-widgets/controls",
      "model_module_version": "1.5.0",
      "model_name": "ButtonModel",
      "state": {
       "button_style": "primary",
       "description": "Get screenshot",
       "layout": "IPY_MODEL_241204819f31415a98ec0777ec822093",
       "style": "IPY_MODEL_f442e227169147eea9e6a0bba1498635"
      }
     },
     "74c124d4c82843b4ac6001fa97f8a934": {
      "model_module": "@jupyter-widgets/controls",
      "model_module_version": "1.5.0",
      "model_name": "HBoxModel",
      "state": {
       "children": [
        "IPY_MODEL_9d2fe674f1464896bee56a1faf2cd890",
        "IPY_MODEL_7175451e74a945d2ae9ec7c91a6dce5f"
       ],
       "layout": "IPY_MODEL_7a42a296849d4ec199e717f0658e8e53"
      }
     },
     "75e1537624a14b2596d74f9c5b7bd81d": {
      "model_module": "@jupyter-widgets/controls",
      "model_module_version": "1.5.0",
      "model_name": "HBoxModel",
      "state": {
       "children": [
        "IPY_MODEL_2c7844546b534033b6b74ca9b4d94061",
        "IPY_MODEL_7cc60d8594674a5d905171fa7a6a4a8f",
        "IPY_MODEL_d8af32b6b2864a69b43eccb415d97e30"
       ],
       "layout": "IPY_MODEL_4f38c454ee9c41f8add33870ce78cee2"
      }
     },
     "75e70984e3fc4d3eb7515aa0bd14b4b3": {
      "model_module": "@jupyter-widgets/output",
      "model_module_version": "1.0.0",
      "model_name": "OutputModel",
      "state": {
       "layout": "IPY_MODEL_ed7494751ab84f7bb48a22b81be20e7d",
       "outputs": [
        {
         "data": {
          "text/html": "<div style=\"float:left; margin-left: 20px;\"><p><b>5 April 2020</b><br><a href=\"https://web.archive.org.au/awa/20200417054553mp_/https://www.abc.net.au/\">http://abc.net.au</a></p><p><a href=\"screenshots/www-abc-net-au-20200417054553-200.png\"><img src=\"screenshots/www-abc-net-au-20200417054553-200.png\"></a><br><a href=\"screenshots/www-abc-net-au-20200417054553-200.png\">[Download]</a></p></div>",
          "text/plain": "<IPython.core.display.HTML object>"
         },
         "metadata": {},
         "output_type": "display_data"
        }
       ]
      }
     },
     "761c98df592e4d47813ac1cc5ed2d6a5": {
      "model_module": "@jupyter-widgets/controls",
      "model_module_version": "1.5.0",
      "model_name": "VBoxModel",
      "state": {
       "children": [
        "IPY_MODEL_af787bb72ebb4c7f91c5445f884928e7",
        "IPY_MODEL_cb3deac4984743bf941b5a057c4d8ecb"
       ],
       "layout": "IPY_MODEL_cc51f0db127d42728040bdcd60fe9cf6"
      }
     },
     "762d19efbbea4156aad3c2c3f4dc1576": {
      "model_module": "@jupyter-widgets/controls",
      "model_module_version": "1.5.0",
      "model_name": "DescriptionStyleModel",
      "state": {
       "description_width": ""
      }
     },
     "76565fb6c23048518a8365548ef9d2ca": {
      "model_module": "@jupyter-widgets/base",
      "model_module_version": "1.2.0",
      "model_name": "LayoutModel",
      "state": {}
     },
     "767cf9d1ba674f8587399e2423c75e92": {
      "model_module": "@jupyter-widgets/base",
      "model_module_version": "1.2.0",
      "model_name": "LayoutModel",
      "state": {}
     },
     "76cf2014dc53486c8595045643fe9086": {
      "model_module": "@jupyter-widgets/controls",
      "model_module_version": "1.5.0",
      "model_name": "TextModel",
      "state": {
       "description": "Target URL:",
       "layout": "IPY_MODEL_29332d79f9f2465b825af8edbd4a8f81",
       "style": "IPY_MODEL_dd926c2894284112b9fc8531fb81ff33",
       "value": "http://pm.gov.au"
      }
     },
     "7719986034a643d8874c3c11b76bf4bb": {
      "model_module": "@jupyter-widgets/controls",
      "model_module_version": "1.5.0",
      "model_name": "DescriptionStyleModel",
      "state": {
       "description_width": ""
      }
     },
     "7722fa0ea4e54509a5cb6304d4737787": {
      "model_module": "@jupyter-widgets/base",
      "model_module_version": "1.2.0",
      "model_name": "LayoutModel",
      "state": {}
     },
     "77da0e332c0e4bab891b0c7c53d7d102": {
      "model_module": "@jupyter-widgets/controls",
      "model_module_version": "1.5.0",
      "model_name": "ButtonModel",
      "state": {
       "description": "Clear all",
       "layout": "IPY_MODEL_f4f4c2833c974e49b7cfa7bffbc7a69f",
       "style": "IPY_MODEL_07319dc65c754a71af0867eddb032193"
      }
     },
     "786779a6030646dc8228ee00c641f0da": {
      "model_module": "@jupyter-widgets/base",
      "model_module_version": "1.2.0",
      "model_name": "LayoutModel",
      "state": {}
     },
     "78f271205c8b4927944a50dcb4f9378d": {
      "model_module": "@jupyter-widgets/base",
      "model_module_version": "1.2.0",
      "model_name": "LayoutModel",
      "state": {}
     },
     "799ab996687b452191a0213e342c8b3c": {
      "model_module": "@jupyter-widgets/controls",
      "model_module_version": "1.5.0",
      "model_name": "ButtonStyleModel",
      "state": {}
     },
     "79c14bddface435b91b74f93e18df381": {
      "model_module": "@jupyter-widgets/base",
      "model_module_version": "1.2.0",
      "model_name": "LayoutModel",
      "state": {}
     },
     "79db58687eb4463a890fc74e055731ea": {
      "model_module": "@jupyter-widgets/controls",
      "model_module_version": "1.5.0",
      "model_name": "ButtonModel",
      "state": {
       "description": "Clear all",
       "layout": "IPY_MODEL_eff90cc402834b6d8b5d34172716bc05",
       "style": "IPY_MODEL_4ceea045a40c4609b55afbe3bc71298d"
      }
     },
     "7a04e5e5272d4f639598bf4f0a0ab9c3": {
      "model_module": "@jupyter-widgets/output",
      "model_module_version": "1.0.0",
      "model_name": "OutputModel",
      "state": {
       "layout": "IPY_MODEL_c4355087aebb470db05b8c91095a9737"
      }
     },
     "7a2842a95b7d427aa2e7078caf420ba8": {
      "model_module": "@jupyter-widgets/controls",
      "model_module_version": "1.5.0",
      "model_name": "ButtonModel",
      "state": {
       "description": "Clear all",
       "layout": "IPY_MODEL_087efcc9970145d0b69172c8a4975a06",
       "style": "IPY_MODEL_1e95c45d6ea043d0a0da7bd929036399"
      }
     },
     "7a42a296849d4ec199e717f0658e8e53": {
      "model_module": "@jupyter-widgets/base",
      "model_module_version": "1.2.0",
      "model_name": "LayoutModel",
      "state": {
       "padding": "20px"
      }
     },
     "7a4b3b22c8444e8e8fd45707327e8d7a": {
      "model_module": "@jupyter-widgets/controls",
      "model_module_version": "1.5.0",
      "model_name": "HBoxModel",
      "state": {
       "children": [
        "IPY_MODEL_dec0f84872c044dfb1dc6afb511b0285",
        "IPY_MODEL_1aeb2ffe7bd84a819660cafeb50527a4"
       ],
       "layout": "IPY_MODEL_31c60bff8d994080a24879feecda4128"
      }
     },
     "7a7fe67a9b8f4518aab520e9ea343a5e": {
      "model_module": "@jupyter-widgets/controls",
      "model_module_version": "1.5.0",
      "model_name": "ButtonStyleModel",
      "state": {}
     },
     "7a85fe4a219642ebac95f284438e1f0f": {
      "model_module": "@jupyter-widgets/controls",
      "model_module_version": "1.5.0",
      "model_name": "DescriptionStyleModel",
      "state": {
       "description_width": ""
      }
     },
     "7a9a723cee5e4f9ca40067700b1a0fc2": {
      "model_module": "@jupyter-widgets/base",
      "model_module_version": "1.2.0",
      "model_name": "LayoutModel",
      "state": {}
     },
     "7bf1d18e9cff46fbb0413bd033960a78": {
      "model_module": "@jupyter-widgets/controls",
      "model_module_version": "1.5.0",
      "model_name": "ButtonModel",
      "state": {
       "description": "Clear all",
       "layout": "IPY_MODEL_1cf14ebac25f415297933272454be9a8",
       "style": "IPY_MODEL_025e2f9eb37f4807aa9dddd0683be4f5"
      }
     },
     "7bf333d6d63142a38c662c4b2d6c875f": {
      "model_module": "@jupyter-widgets/base",
      "model_module_version": "1.2.0",
      "model_name": "LayoutModel",
      "state": {}
     },
     "7c81e38a3ea149d2a3f447a4ccfea54e": {
      "model_module": "@jupyter-widgets/controls",
      "model_module_version": "1.5.0",
      "model_name": "DescriptionStyleModel",
      "state": {
       "description_width": ""
      }
     },
     "7c97bcbd8f27482aaf1406b16ff84a8c": {
      "model_module": "@jupyter-widgets/controls",
      "model_module_version": "1.5.0",
      "model_name": "DropdownModel",
      "state": {
       "_options_labels": [
        "---",
        "UK Web Archive",
        "National Library of Australia",
        "National Library of New Zealand",
        "Internet Archive"
       ],
       "description": "Archive:",
       "index": 3,
       "layout": "IPY_MODEL_470f20b1f8d742ac9e3c97211d9c39cc",
       "style": "IPY_MODEL_9f4cb512d7894acb97aaef4e6edd898a"
      }
     },
     "7cc60d8594674a5d905171fa7a6a4a8f": {
      "model_module": "@jupyter-widgets/controls",
      "model_module_version": "1.5.0",
      "model_name": "ButtonModel",
      "state": {
       "description": "Clear all",
       "layout": "IPY_MODEL_a08ca66a4b6f408b84b79c4109674da6",
       "style": "IPY_MODEL_92358b8aba984da5840413b664d2f093"
      }
     },
     "7d17c29e0df84ffeb8dddf97f229c203": {
      "model_module": "@jupyter-widgets/base",
      "model_module_version": "1.2.0",
      "model_name": "LayoutModel",
      "state": {}
     },
     "7d6df78193e8489389ddffa7eacc89d5": {
      "model_module": "@jupyter-widgets/controls",
      "model_module_version": "1.5.0",
      "model_name": "SliderStyleModel",
      "state": {
       "description_width": ""
      }
     },
     "7d8158afc77646b0a6a27a6972cdf221": {
      "model_module": "@jupyter-widgets/base",
      "model_module_version": "1.2.0",
      "model_name": "LayoutModel",
      "state": {}
     },
     "7da5702d8f3843dc90dae307280f2f9c": {
      "model_module": "@jupyter-widgets/base",
      "model_module_version": "1.2.0",
      "model_name": "LayoutModel",
      "state": {}
     },
     "7dce054a01b24beb8bba658bdbd1264e": {
      "model_module": "@jupyter-widgets/controls",
      "model_module_version": "1.5.0",
      "model_name": "TextModel",
      "state": {
       "description": "Target URL:",
       "layout": "IPY_MODEL_150a003e5ec54e028368bb87dc543fae",
       "style": "IPY_MODEL_9812e38a21344c45ae3cf1bed8356451"
      }
     },
     "7e238ee88d644ecab5e937d8acc30579": {
      "model_module": "@jupyter-widgets/controls",
      "model_module_version": "1.5.0",
      "model_name": "IntSliderModel",
      "state": {
       "continuous_update": false,
       "description": "Width:",
       "layout": "IPY_MODEL_bf6b2ed84bc444f09c7934e45a2d45f9",
       "max": 1000,
       "min": 200,
       "step": 100,
       "style": "IPY_MODEL_830be46f6b6449769f762b38af0e6883",
       "value": 200
      }
     },
     "7ef055b7a3104686bab45ec4243befa7": {
      "model_module": "@jupyter-widgets/base",
      "model_module_version": "1.2.0",
      "model_name": "LayoutModel",
      "state": {}
     },
     "7f5bd8fdb7624851ad2c063bf2be0468": {
      "model_module": "@jupyter-widgets/base",
      "model_module_version": "1.2.0",
      "model_name": "LayoutModel",
      "state": {}
     },
     "803335a806384f3ca610e20b692498ef": {
      "model_module": "@jupyter-widgets/base",
      "model_module_version": "1.2.0",
      "model_name": "LayoutModel",
      "state": {}
     },
     "80e045e6a6434d589288617b28daa60d": {
      "model_module": "@jupyter-widgets/controls",
      "model_module_version": "1.5.0",
      "model_name": "ButtonStyleModel",
      "state": {}
     },
     "81324112a7344adc85d87a963f9694ea": {
      "model_module": "@jupyter-widgets/controls",
      "model_module_version": "1.5.0",
      "model_name": "ButtonStyleModel",
      "state": {}
     },
     "818ed0b0fe7543e987413250778e115e": {
      "model_module": "@jupyter-widgets/controls",
      "model_module_version": "1.5.0",
      "model_name": "DropdownModel",
      "state": {
       "_options_labels": [
        "---",
        "UK Web Archive",
        "National Library of Australia",
        "National Library of New Zealand",
        "Internet Archive"
       ],
       "description": "Archive:",
       "index": 3,
       "layout": "IPY_MODEL_32780fbae49e47febb2277b5868b85e9",
       "style": "IPY_MODEL_f27815b2afd949a38f48c8333b651b11"
      }
     },
     "81ddbd22ac724c89b98824f42bdb6db3": {
      "model_module": "@jupyter-widgets/base",
      "model_module_version": "1.2.0",
      "model_name": "LayoutModel",
      "state": {}
     },
     "81f037587821413c9155c0f9186bbdac": {
      "model_module": "@jupyter-widgets/controls",
      "model_module_version": "1.5.0",
      "model_name": "TextModel",
      "state": {
       "description": "Target URL:",
       "layout": "IPY_MODEL_5bf7b629a86448248164676d689a60f0",
       "style": "IPY_MODEL_239a8672897d40d180ad166188027232",
       "value": "http://pm.gov.au"
      }
     },
     "826933df8d13428fba09c5b8acaf96d1": {
      "model_module": "@jupyter-widgets/controls",
      "model_module_version": "1.5.0",
      "model_name": "VBoxModel",
      "state": {
       "children": [
        "IPY_MODEL_53c1e7f45ad1451e88c82320f82bc1ae",
        "IPY_MODEL_d1eca440c5fb44efa945c128a2e7afa5"
       ],
       "layout": "IPY_MODEL_31dec32ef54e4e3eb6af74d960f994f9"
      }
     },
     "82a4cf512e6e4dfe903fa684ebbbaff1": {
      "model_module": "@jupyter-widgets/base",
      "model_module_version": "1.2.0",
      "model_name": "LayoutModel",
      "state": {}
     },
     "83046e0ad3b04678a44c93be47dddc81": {
      "model_module": "@jupyter-widgets/base",
      "model_module_version": "1.2.0",
      "model_name": "LayoutModel",
      "state": {}
     },
     "830be46f6b6449769f762b38af0e6883": {
      "model_module": "@jupyter-widgets/controls",
      "model_module_version": "1.5.0",
      "model_name": "SliderStyleModel",
      "state": {
       "description_width": ""
      }
     },
     "83289d551e504047b7e70b4603c2ca3f": {
      "model_module": "@jupyter-widgets/base",
      "model_module_version": "1.2.0",
      "model_name": "LayoutModel",
      "state": {}
     },
     "8339bfa7af3b409d8ee28180a6e25dff": {
      "model_module": "@jupyter-widgets/controls",
      "model_module_version": "1.5.0",
      "model_name": "HBoxModel",
      "state": {
       "children": [
        "IPY_MODEL_6bf9d7f56d3b4c5283025befd9f8cc2a",
        "IPY_MODEL_f6423268a13b48c8a09009de0fff458c",
        "IPY_MODEL_034f7ebb3c9f41a49d3950444771c900"
       ],
       "layout": "IPY_MODEL_7bf333d6d63142a38c662c4b2d6c875f"
      }
     },
     "83dccc2751d44b95b3715f8813bc7d07": {
      "model_module": "@jupyter-widgets/controls",
      "model_module_version": "1.5.0",
      "model_name": "ButtonModel",
      "state": {
       "description": "Clear all",
       "layout": "IPY_MODEL_3455d3093ca7424987352ba669767ed7",
       "style": "IPY_MODEL_fd10939fc619465383c0a9087104584a"
      }
     },
     "83e0602baa4d47af823bc4737770a5ba": {
      "model_module": "@jupyter-widgets/controls",
      "model_module_version": "1.5.0",
      "model_name": "TextModel",
      "state": {
       "description": "Target URL:",
       "layout": "IPY_MODEL_3c5490c10e344fa3b6c23b99305e7ceb",
       "style": "IPY_MODEL_3dfc316292d44cab8830c16b2a96c937",
       "value": "https://webarchive.nla.gov.au/awa/20130328232628/http://www.pm.gov.au/"
      }
     },
     "83f6af5a8e5a43faa703d53dd38e1ecc": {
      "model_module": "@jupyter-widgets/controls",
      "model_module_version": "1.5.0",
      "model_name": "DescriptionStyleModel",
      "state": {
       "description_width": ""
      }
     },
     "84059dd9dbd347139a9c7ad621bf2dc9": {
      "model_module": "@jupyter-widgets/controls",
      "model_module_version": "1.5.0",
      "model_name": "DropdownModel",
      "state": {
       "_options_labels": [
        "---",
        "UK Web Archive",
        "National Library of Australia",
        "National Library of New Zealand",
        "Internet Archive"
       ],
       "description": "Archive:",
       "index": 0,
       "layout": "IPY_MODEL_69aefdbb93f24e3b9e93739fbc4ed9e3",
       "style": "IPY_MODEL_f1eea3af5c0246eea9a7cc5d545f20fa"
      }
     },
     "842f70d11e49485391ddab893f2a8544": {
      "model_module": "@jupyter-widgets/base",
      "model_module_version": "1.2.0",
      "model_name": "LayoutModel",
      "state": {}
     },
     "8474a998f2754f56aefb2b34e215ff32": {
      "model_module": "@jupyter-widgets/base",
      "model_module_version": "1.2.0",
      "model_name": "LayoutModel",
      "state": {}
     },
     "847eff6bdb8e47219127cbccf2f86da4": {
      "model_module": "@jupyter-widgets/output",
      "model_module_version": "1.0.0",
      "model_name": "OutputModel",
      "state": {
       "layout": "IPY_MODEL_1927885041dd403eb48f7d1cb51671f4"
      }
     },
     "84c37fabdff84f9d8d8c54b97d11876b": {
      "model_module": "@jupyter-widgets/controls",
      "model_module_version": "1.5.0",
      "model_name": "ButtonStyleModel",
      "state": {}
     },
     "8507955028a94fb2aed29db741f04b73": {
      "model_module": "@jupyter-widgets/base",
      "model_module_version": "1.2.0",
      "model_name": "LayoutModel",
      "state": {}
     },
     "8564beb3af3c4e96aa755ed16d768b40": {
      "model_module": "@jupyter-widgets/controls",
      "model_module_version": "1.5.0",
      "model_name": "ButtonStyleModel",
      "state": {}
     },
     "85cbbdb76bb74c118c8f46a6a46e52f6": {
      "model_module": "@jupyter-widgets/base",
      "model_module_version": "1.2.0",
      "model_name": "LayoutModel",
      "state": {}
     },
     "863384907a5a4bad9b82502cda6479a0": {
      "model_module": "@jupyter-widgets/controls",
      "model_module_version": "1.5.0",
      "model_name": "DatePickerModel",
      "state": {
       "description": "Target date: ",
       "disabled": false,
       "layout": "IPY_MODEL_6f13ecc359d44a6090284d59e1f0a7df",
       "style": "IPY_MODEL_afe5626f052849bdaec1b99652cc8667",
       "value": {
        "date": 1,
        "month": 0,
        "year": 2020
       }
      }
     },
     "867e15c85547495fae164750f19feedd": {
      "model_module": "@jupyter-widgets/base",
      "model_module_version": "1.2.0",
      "model_name": "LayoutModel",
      "state": {}
     },
     "86ebd953184f441a80b053539fea5889": {
      "model_module": "@jupyter-widgets/controls",
      "model_module_version": "1.5.0",
      "model_name": "ButtonModel",
      "state": {
       "description": "Clear all",
       "layout": "IPY_MODEL_3a4c69d13a8a4f47a82bcd14ac41d246",
       "style": "IPY_MODEL_5a7a771dd6934de09d0a5c52ad5b211b"
      }
     },
     "872a70d4799e4a28b193fb12f0af3abf": {
      "model_module": "@jupyter-widgets/base",
      "model_module_version": "1.2.0",
      "model_name": "LayoutModel",
      "state": {}
     },
     "8929b9893baf48d68595c60bcd720996": {
      "model_module": "@jupyter-widgets/base",
      "model_module_version": "1.2.0",
      "model_name": "LayoutModel",
      "state": {}
     },
     "89dc0872180d438faddd0004fcf170c2": {
      "model_module": "@jupyter-widgets/controls",
      "model_module_version": "1.5.0",
      "model_name": "HBoxModel",
      "state": {
       "children": [
        "IPY_MODEL_d882ab52ef214521b5e3d4d39a71019d",
        "IPY_MODEL_d52b0d6de7db418d8b0d9877d1aebc81",
        "IPY_MODEL_c28545f1cbe3437f95b66cff0b27aa0b"
       ],
       "layout": "IPY_MODEL_314727b1e8eb4e0587ca8510bc4cf41b"
      }
     },
     "89f17ce890154606a576c0c3d7ec17aa": {
      "model_module": "@jupyter-widgets/base",
      "model_module_version": "1.2.0",
      "model_name": "LayoutModel",
      "state": {}
     },
     "8a0761a34de640f69e5ce2b2e2e7596c": {
      "model_module": "@jupyter-widgets/output",
      "model_module_version": "1.0.0",
      "model_name": "OutputModel",
      "state": {
       "layout": "IPY_MODEL_aa5ca00433704e2fbe62939b6b3e9bc3",
       "outputs": [
        {
         "data": {
          "text/html": "<div style=\"float:left; margin-left: 20px;\"><p><b>5 April 2020</b><br><a href=\"https://web.archive.org.au/awa/20200417054553mp_/https://www.abc.net.au/\">http://abc.net.au</a></p><p><a href=\"screenshots/www-abc-net-au-20200417054553-200.png\"><img src=\"screenshots/www-abc-net-au-20200417054553-200.png\"></a><br><a href=\"screenshots/www-abc-net-au-20200417054553-200.png\">[Download]</a></p></div>",
          "text/plain": "<IPython.core.display.HTML object>"
         },
         "metadata": {},
         "output_type": "display_data"
        }
       ]
      }
     },
     "8a2cd6395bfb4c6589865fa823259c1b": {
      "model_module": "@jupyter-widgets/controls",
      "model_module_version": "1.5.0",
      "model_name": "ButtonModel",
      "state": {
       "button_style": "primary",
       "description": "Get screenshot",
       "layout": "IPY_MODEL_fd24cfae5b844bb58851775aa06e4951",
       "style": "IPY_MODEL_526912572df6445fa1aa1c2afef7881e"
      }
     },
     "8acd8315f18541448b89469f301d62ac": {
      "model_module": "@jupyter-widgets/base",
      "model_module_version": "1.2.0",
      "model_name": "LayoutModel",
      "state": {}
     },
     "8b37ddcff6104151962a17ff26456f3f": {
      "model_module": "@jupyter-widgets/controls",
      "model_module_version": "1.5.0",
      "model_name": "DropdownModel",
      "state": {
       "_options_labels": [
        "---",
        "UK Web Archive",
        "National Library of Australia",
        "National Library of New Zealand",
        "Internet Archive"
       ],
       "description": "Archive:",
       "index": 0,
       "layout": "IPY_MODEL_2a5e7178c4304cbba108be3917335f96",
       "style": "IPY_MODEL_539842242b0d458ba6a68034b13d33af"
      }
     },
     "8b7d21208ad2427dad0cfabca82d936e": {
      "model_module": "@jupyter-widgets/base",
      "model_module_version": "1.2.0",
      "model_name": "LayoutModel",
      "state": {
       "padding": "20px"
      }
     },
     "8b8b545cb39b4378a143d6a6ae7fc499": {
      "model_module": "@jupyter-widgets/base",
      "model_module_version": "1.2.0",
      "model_name": "LayoutModel",
      "state": {}
     },
     "8b8ce3a211e84145b4db1c56caab5b72": {
      "model_module": "@jupyter-widgets/output",
      "model_module_version": "1.0.0",
      "model_name": "OutputModel",
      "state": {
       "layout": "IPY_MODEL_cb8c9d1cdaee4da69e7ec1c21d3f269a",
       "outputs": [
        {
         "name": "stdout",
         "output_type": "stream",
         "text": "Generating screenshot...\n"
        }
       ]
      }
     },
     "8bafe7ad2ad543bab2860522e09c86ad": {
      "model_module": "@jupyter-widgets/base",
      "model_module_version": "1.2.0",
      "model_name": "LayoutModel",
      "state": {}
     },
     "8be42f7b01a849288bf2099ccb607408": {
      "model_module": "@jupyter-widgets/controls",
      "model_module_version": "1.5.0",
      "model_name": "DropdownModel",
      "state": {
       "_options_labels": [
        "---",
        "UK Web Archive",
        "National Library of Australia",
        "National Library of New Zealand",
        "Internet Archive"
       ],
       "description": "Archive:",
       "index": 2,
       "layout": "IPY_MODEL_a7e42556643346298e94256e5f411fac",
       "style": "IPY_MODEL_6a219bdf53a5403eaa253ff6695e12b8"
      }
     },
     "8c5206dfe93f4461a3e275981dc607d2": {
      "model_module": "@jupyter-widgets/base",
      "model_module_version": "1.2.0",
      "model_name": "LayoutModel",
      "state": {}
     },
     "8c612fa55e6e4c0085504e110ca33ed0": {
      "model_module": "@jupyter-widgets/base",
      "model_module_version": "1.2.0",
      "model_name": "LayoutModel",
      "state": {}
     },
     "8cace418fc144f19b9596745cf2c2354": {
      "model_module": "@jupyter-widgets/controls",
      "model_module_version": "1.5.0",
      "model_name": "HBoxModel",
      "state": {
       "children": [
        "IPY_MODEL_c9e088dbbbb04f5eab15c83d964ed73d",
        "IPY_MODEL_4d825c52c9244b9cbd2ee9ed96104f27",
        "IPY_MODEL_e357bac8ef54484a9c491da8c13c592f"
       ],
       "layout": "IPY_MODEL_8c5206dfe93f4461a3e275981dc607d2"
      }
     },
     "8cd384d47a2443d28795f661da677233": {
      "model_module": "@jupyter-widgets/controls",
      "model_module_version": "1.5.0",
      "model_name": "TextModel",
      "state": {
       "description": "Target URL:",
       "layout": "IPY_MODEL_9061bced22fe439ba12387197a8570f6",
       "style": "IPY_MODEL_5da84a1f64104110b89f22436ed8429e",
       "value": "http://bl.uk"
      }
     },
     "8d21c89143f5440a8e2622bf40646025": {
      "model_module": "@jupyter-widgets/controls",
      "model_module_version": "1.5.0",
      "model_name": "ButtonModel",
      "state": {
       "description": "Clear last",
       "layout": "IPY_MODEL_bb21f1517742498b9ddc046e683264c1",
       "style": "IPY_MODEL_ed0fe55ed6a14212962339dfa5072bb8"
      }
     },
     "8d39a95a9c5b48868a4da61c714ebe23": {
      "model_module": "@jupyter-widgets/base",
      "model_module_version": "1.2.0",
      "model_name": "LayoutModel",
      "state": {
       "padding": "20px"
      }
     },
     "8d5da13779b84c53a339c484dc4b6869": {
      "model_module": "@jupyter-widgets/controls",
      "model_module_version": "1.5.0",
      "model_name": "DescriptionStyleModel",
      "state": {
       "description_width": ""
      }
     },
     "8d5e9bd0cd2149989d8e8f09f6f3afa0": {
      "model_module": "@jupyter-widgets/base",
      "model_module_version": "1.2.0",
      "model_name": "LayoutModel",
      "state": {}
     },
     "8dd4d460367f4b98a59bbb55db674693": {
      "model_module": "@jupyter-widgets/base",
      "model_module_version": "1.2.0",
      "model_name": "LayoutModel",
      "state": {}
     },
     "8e1f993d1400490a89d6f21bfa23eb76": {
      "model_module": "@jupyter-widgets/base",
      "model_module_version": "1.2.0",
      "model_name": "LayoutModel",
      "state": {}
     },
     "8e4089cf41984a9994e6efa5b27a210e": {
      "model_module": "@jupyter-widgets/controls",
      "model_module_version": "1.5.0",
      "model_name": "ButtonModel",
      "state": {
       "description": "Clear last",
       "layout": "IPY_MODEL_3a215831936a41639ae3df9a14dba3c3",
       "style": "IPY_MODEL_2430730c0b2a429083f3aa9de909548b"
      }
     },
     "8e5536db2c834a38a78a88d148f9c962": {
      "model_module": "@jupyter-widgets/base",
      "model_module_version": "1.2.0",
      "model_name": "LayoutModel",
      "state": {}
     },
     "8e715311c3a24a808079c9ac4a5271ec": {
      "model_module": "@jupyter-widgets/base",
      "model_module_version": "1.2.0",
      "model_name": "LayoutModel",
      "state": {}
     },
     "8ea05fb2b152435597cdcb2034962a1f": {
      "model_module": "@jupyter-widgets/controls",
      "model_module_version": "1.5.0",
      "model_name": "VBoxModel",
      "state": {
       "children": [
        "IPY_MODEL_a15ea0d084d94d53a5c0493a9c65057d",
        "IPY_MODEL_d47304e83eb042c382220bc61b4ffc2b"
       ],
       "layout": "IPY_MODEL_a4fad40981d940149768fd12cb5bf8eb"
      }
     },
     "8f9c847dab81476e9ce569defbcec62f": {
      "model_module": "@jupyter-widgets/controls",
      "model_module_version": "1.5.0",
      "model_name": "DatePickerModel",
      "state": {
       "description": "Target date: ",
       "disabled": false,
       "layout": "IPY_MODEL_7722fa0ea4e54509a5cb6304d4737787",
       "style": "IPY_MODEL_21d55e4684a6481ca990ed1b0eeda456",
       "value": {
        "date": 1,
        "month": 0,
        "year": 2020
       }
      }
     },
     "901e921a26d4464f8afa72c67e35e5fb": {
      "model_module": "@jupyter-widgets/base",
      "model_module_version": "1.2.0",
      "model_name": "LayoutModel",
      "state": {}
     },
     "9061bced22fe439ba12387197a8570f6": {
      "model_module": "@jupyter-widgets/base",
      "model_module_version": "1.2.0",
      "model_name": "LayoutModel",
      "state": {}
     },
     "911b3b6b50e3490297b2e77ed90ee4d0": {
      "model_module": "@jupyter-widgets/controls",
      "model_module_version": "1.5.0",
      "model_name": "VBoxModel",
      "state": {
       "children": [
        "IPY_MODEL_3ab1d1d156eb493290a3c5553da6e574",
        "IPY_MODEL_a60b0e29e6b74bc9b753036339347ffa"
       ],
       "layout": "IPY_MODEL_40c37a9663e24afeabe4f0be5fa2a2e1"
      }
     },
     "9173790556794a028f52c1452e3b1f8f": {
      "model_module": "@jupyter-widgets/base",
      "model_module_version": "1.2.0",
      "model_name": "LayoutModel",
      "state": {}
     },
     "91fb2a97c4e84d048b9c9bf8875859e4": {
      "model_module": "@jupyter-widgets/controls",
      "model_module_version": "1.5.0",
      "model_name": "DescriptionStyleModel",
      "state": {
       "description_width": ""
      }
     },
     "92358b8aba984da5840413b664d2f093": {
      "model_module": "@jupyter-widgets/controls",
      "model_module_version": "1.5.0",
      "model_name": "ButtonStyleModel",
      "state": {}
     },
     "937ee8d60e0546bbbe91ba796720cc1c": {
      "model_module": "@jupyter-widgets/controls",
      "model_module_version": "1.5.0",
      "model_name": "ButtonStyleModel",
      "state": {}
     },
     "93e774bab7b74da7ac66da950e929655": {
      "model_module": "@jupyter-widgets/controls",
      "model_module_version": "1.5.0",
      "model_name": "ButtonStyleModel",
      "state": {}
     },
     "942b7108f77b44099eda333f82932d6c": {
      "model_module": "@jupyter-widgets/output",
      "model_module_version": "1.0.0",
      "model_name": "OutputModel",
      "state": {
       "layout": "IPY_MODEL_8d5e9bd0cd2149989d8e8f09f6f3afa0"
      }
     },
     "9441cf8ede4b41728bdfe8ba5a70e55c": {
      "model_module": "@jupyter-widgets/controls",
      "model_module_version": "1.5.0",
      "model_name": "ButtonStyleModel",
      "state": {}
     },
     "9452b6c6dfa04dc0ad39c9445fe97543": {
      "model_module": "@jupyter-widgets/controls",
      "model_module_version": "1.5.0",
      "model_name": "ButtonStyleModel",
      "state": {}
     },
     "947b9446e33e4cad87752029a9543381": {
      "model_module": "@jupyter-widgets/base",
      "model_module_version": "1.2.0",
      "model_name": "LayoutModel",
      "state": {}
     },
     "948631545c1647439e1dd3b96c21f355": {
      "model_module": "@jupyter-widgets/base",
      "model_module_version": "1.2.0",
      "model_name": "LayoutModel",
      "state": {}
     },
     "94b88b6df26648429e59401dbf4aa90d": {
      "model_module": "@jupyter-widgets/base",
      "model_module_version": "1.2.0",
      "model_name": "LayoutModel",
      "state": {}
     },
     "94ffa4c386d3428cb77bdd27b0bae8e5": {
      "model_module": "@jupyter-widgets/controls",
      "model_module_version": "1.5.0",
      "model_name": "IntSliderModel",
      "state": {
       "continuous_update": false,
       "description": "Width:",
       "layout": "IPY_MODEL_4869f56821044ece8f98176013ca2346",
       "max": 1000,
       "min": 200,
       "step": 100,
       "style": "IPY_MODEL_ba2885afdc794dc0917490abd14064d6",
       "value": 200
      }
     },
     "954706ea898a49bdae223cc263e0b46c": {
      "model_module": "@jupyter-widgets/controls",
      "model_module_version": "1.5.0",
      "model_name": "ButtonStyleModel",
      "state": {}
     },
     "95e9fc86c50f4d569c0674d7051bb8c0": {
      "model_module": "@jupyter-widgets/base",
      "model_module_version": "1.2.0",
      "model_name": "LayoutModel",
      "state": {}
     },
     "965831be2d06408d9e6bccb09a83bda5": {
      "model_module": "@jupyter-widgets/controls",
      "model_module_version": "1.5.0",
      "model_name": "DatePickerModel",
      "state": {
       "description": "Target date: ",
       "disabled": false,
       "layout": "IPY_MODEL_d8d69a82f1954550971d202840142ce4",
       "style": "IPY_MODEL_9aa75a4f62c6436980c9c9bb09a14fe9"
      }
     },
     "97c02d1f970e482a84e1d03edaa897c1": {
      "model_module": "@jupyter-widgets/base",
      "model_module_version": "1.2.0",
      "model_name": "LayoutModel",
      "state": {}
     },
     "97ece49a232e4ac888049ae140bdf637": {
      "model_module": "@jupyter-widgets/base",
      "model_module_version": "1.2.0",
      "model_name": "LayoutModel",
      "state": {}
     },
     "9812e38a21344c45ae3cf1bed8356451": {
      "model_module": "@jupyter-widgets/controls",
      "model_module_version": "1.5.0",
      "model_name": "DescriptionStyleModel",
      "state": {
       "description_width": ""
      }
     },
     "9943a9eeae96490dbb9c675fcffd4a2a": {
      "model_module": "@jupyter-widgets/controls",
      "model_module_version": "1.5.0",
      "model_name": "DatePickerModel",
      "state": {
       "description": "Target date: ",
       "disabled": false,
       "layout": "IPY_MODEL_f001773cbefa44a2944800d3f1fe59b9",
       "style": "IPY_MODEL_b462147d62f74439885be3b3d428466c"
      }
     },
     "99b85fd06e4b4a72ad521d14c0e94acb": {
      "model_module": "@jupyter-widgets/controls",
      "model_module_version": "1.5.0",
      "model_name": "SliderStyleModel",
      "state": {
       "description_width": ""
      }
     },
     "9a80df097a274de9957ef89c1c1290be": {
      "model_module": "@jupyter-widgets/base",
      "model_module_version": "1.2.0",
      "model_name": "LayoutModel",
      "state": {}
     },
     "9aa75a4f62c6436980c9c9bb09a14fe9": {
      "model_module": "@jupyter-widgets/controls",
      "model_module_version": "1.5.0",
      "model_name": "DescriptionStyleModel",
      "state": {
       "description_width": ""
      }
     },
     "9aebe86f5eb54ba6941469b94ec16e30": {
      "model_module": "@jupyter-widgets/controls",
      "model_module_version": "1.5.0",
      "model_name": "DropdownModel",
      "state": {
       "_options_labels": [
        "---",
        "UK Web Archive",
        "National Library of Australia",
        "National Library of New Zealand",
        "Internet Archive"
       ],
       "description": "Archive:",
       "index": 2,
       "layout": "IPY_MODEL_0fd0b1357ec44cce93e8a589e800caf7",
       "style": "IPY_MODEL_7131361ec52245c0a61da4da7e3a68a2"
      }
     },
     "9b0714be6b5b4e4fb8ef1d2024f664df": {
      "model_module": "@jupyter-widgets/output",
      "model_module_version": "1.0.0",
      "model_name": "OutputModel",
      "state": {
       "layout": "IPY_MODEL_af49faf23ece4c25becbd0af54a00cf9",
       "outputs": [
        {
         "data": {
          "text/html": "<div style=\"float:left; margin-left: 20px;\"><p><b>3 January 2020</b><br><a href=\"https://www.webarchive.org.uk/wayback/archive/20200101010000mp_/http://bl.uk/\">http://bl.uk</a></p><p><a href=\"screenshots/bl-uk-20200101010000-200.png\"><img src=\"screenshots/bl-uk-20200101010000-200.png\"></a><br><a href=\"screenshots/bl-uk-20200101010000-200.png\">[Download]</a></p></div>",
          "text/plain": "<IPython.core.display.HTML object>"
         },
         "metadata": {},
         "output_type": "display_data"
        }
       ]
      }
     },
     "9b373909d6bd4d49a42fd9419f72e765": {
      "model_module": "@jupyter-widgets/base",
      "model_module_version": "1.2.0",
      "model_name": "LayoutModel",
      "state": {
       "padding": "20px"
      }
     },
     "9c612aba22fc481a998185dbd9011314": {
      "model_module": "@jupyter-widgets/base",
      "model_module_version": "1.2.0",
      "model_name": "LayoutModel",
      "state": {}
     },
     "9c632fece73a49678ac4efde3b9197bb": {
      "model_module": "@jupyter-widgets/base",
      "model_module_version": "1.2.0",
      "model_name": "LayoutModel",
      "state": {}
     },
     "9d2fe674f1464896bee56a1faf2cd890": {
      "model_module": "@jupyter-widgets/controls",
      "model_module_version": "1.5.0",
      "model_name": "VBoxModel",
      "state": {
       "children": [
        "IPY_MODEL_8b37ddcff6104151962a17ff26456f3f",
        "IPY_MODEL_b11f1ae1213144a182c74d3c3951513e"
       ],
       "layout": "IPY_MODEL_04da824e904f4050ba71f1061f54f784"
      }
     },
     "9e0a40bea5814b14bfcda6bf2678c54e": {
      "model_module": "@jupyter-widgets/base",
      "model_module_version": "1.2.0",
      "model_name": "LayoutModel",
      "state": {}
     },
     "9f4cb512d7894acb97aaef4e6edd898a": {
      "model_module": "@jupyter-widgets/controls",
      "model_module_version": "1.5.0",
      "model_name": "DescriptionStyleModel",
      "state": {
       "description_width": ""
      }
     },
     "9f7ab3dc1f6e47d0a6c6f01233fffb49": {
      "model_module": "@jupyter-widgets/controls",
      "model_module_version": "1.5.0",
      "model_name": "VBoxModel",
      "state": {
       "children": [
        "IPY_MODEL_f19b99b22b6c42e7b47b94a6ab67e3a5",
        "IPY_MODEL_8f9c847dab81476e9ce569defbcec62f"
       ],
       "layout": "IPY_MODEL_6ccf10a87ac7499cb40797ab6dec3733"
      }
     },
     "a08ca66a4b6f408b84b79c4109674da6": {
      "model_module": "@jupyter-widgets/base",
      "model_module_version": "1.2.0",
      "model_name": "LayoutModel",
      "state": {}
     },
     "a1286c6976bc4b658b3bf6c03fe16b8f": {
      "model_module": "@jupyter-widgets/controls",
      "model_module_version": "1.5.0",
      "model_name": "DescriptionStyleModel",
      "state": {
       "description_width": ""
      }
     },
     "a13c2c50398446da9cf20b85d393cb93": {
      "model_module": "@jupyter-widgets/controls",
      "model_module_version": "1.5.0",
      "model_name": "VBoxModel",
      "state": {
       "children": [
        "IPY_MODEL_81f037587821413c9155c0f9186bbdac",
        "IPY_MODEL_94ffa4c386d3428cb77bdd27b0bae8e5"
       ],
       "layout": "IPY_MODEL_81ddbd22ac724c89b98824f42bdb6db3"
      }
     },
     "a14a62efe3e846f5829c0ee2839ec7f4": {
      "model_module": "@jupyter-widgets/controls",
      "model_module_version": "1.5.0",
      "model_name": "HBoxModel",
      "state": {
       "children": [
        "IPY_MODEL_a908805a02c7409dac9825b5f2bdb494",
        "IPY_MODEL_086f159e9248451dbb0ecf9a2f9cb6f7"
       ],
       "layout": "IPY_MODEL_012f4fd23c3d48adad5c210270b1b58b"
      }
     },
     "a15ea0d084d94d53a5c0493a9c65057d": {
      "model_module": "@jupyter-widgets/controls",
      "model_module_version": "1.5.0",
      "model_name": "TextModel",
      "state": {
       "description": "Target URL:",
       "layout": "IPY_MODEL_2bc7945701934f2ea21071e855cd1910",
       "style": "IPY_MODEL_43b32c77aab74a83b71affeb957bd095",
       "value": "http://abc.net.au"
      }
     },
     "a17589a9e20b43afa6210c9179e60e53": {
      "model_module": "@jupyter-widgets/controls",
      "model_module_version": "1.5.0",
      "model_name": "DescriptionStyleModel",
      "state": {
       "description_width": ""
      }
     },
     "a2c449d354044ebf975c565453e3925f": {
      "model_module": "@jupyter-widgets/base",
      "model_module_version": "1.2.0",
      "model_name": "LayoutModel",
      "state": {}
     },
     "a32db3249f9945bbbd1ba05987b1d40b": {
      "model_module": "@jupyter-widgets/controls",
      "model_module_version": "1.5.0",
      "model_name": "ButtonModel",
      "state": {
       "description": "Clear last",
       "layout": "IPY_MODEL_73775cccd9f64461a0d380f73d2e5d8f",
       "style": "IPY_MODEL_4a9a67b970d34c1281abda22b3db24da"
      }
     },
     "a3a46541c4564bd3badea67b02ab00c1": {
      "model_module": "@jupyter-widgets/controls",
      "model_module_version": "1.5.0",
      "model_name": "DescriptionStyleModel",
      "state": {
       "description_width": ""
      }
     },
     "a3dbdc43dcde42de9af90671672a7925": {
      "model_module": "@jupyter-widgets/base",
      "model_module_version": "1.2.0",
      "model_name": "LayoutModel",
      "state": {}
     },
     "a4805e4dde5745799db6880e0f6ae042": {
      "model_module": "@jupyter-widgets/controls",
      "model_module_version": "1.5.0",
      "model_name": "ButtonModel",
      "state": {
       "button_style": "primary",
       "description": "Get screenshot",
       "layout": "IPY_MODEL_a4ae1273e5e44b2d8768505082ab36c1",
       "style": "IPY_MODEL_210c38e8822e4808a4b7349d39b393ef"
      }
     },
     "a49123080c4a40bcb541f1f033e93362": {
      "model_module": "@jupyter-widgets/controls",
      "model_module_version": "1.5.0",
      "model_name": "VBoxModel",
      "state": {
       "children": [
        "IPY_MODEL_07c4ad2f5dae45ba94d9661a6c535857",
        "IPY_MODEL_863384907a5a4bad9b82502cda6479a0"
       ],
       "layout": "IPY_MODEL_6a843416148242fea2042ff654ace30c"
      }
     },
     "a4ae1273e5e44b2d8768505082ab36c1": {
      "model_module": "@jupyter-widgets/base",
      "model_module_version": "1.2.0",
      "model_name": "LayoutModel",
      "state": {}
     },
     "a4df2d5ed567459884be33cd3801d554": {
      "model_module": "@jupyter-widgets/controls",
      "model_module_version": "1.5.0",
      "model_name": "IntSliderModel",
      "state": {
       "continuous_update": false,
       "description": "Width:",
       "layout": "IPY_MODEL_a9b2cd57083e46cebfc8347644b813d8",
       "max": 1000,
       "min": 200,
       "step": 100,
       "style": "IPY_MODEL_aa0cd67dfcb342b3be08441009256678",
       "value": 200
      }
     },
     "a4e25a69948141498aad987c1a4a224a": {
      "model_module": "@jupyter-widgets/controls",
      "model_module_version": "1.5.0",
      "model_name": "DescriptionStyleModel",
      "state": {
       "description_width": ""
      }
     },
     "a4e265a2d388499d820f7515a861e3bc": {
      "model_module": "@jupyter-widgets/base",
      "model_module_version": "1.2.0",
      "model_name": "LayoutModel",
      "state": {}
     },
     "a4f82f213b9641248e5f6448a6de27da": {
      "model_module": "@jupyter-widgets/output",
      "model_module_version": "1.0.0",
      "model_name": "OutputModel",
      "state": {
       "layout": "IPY_MODEL_b69e107fa44744c98ee89511626f6c7c",
       "outputs": [
        {
         "data": {
          "text/html": "<div style=\"float:left; margin-left: 20px;\"><p><b>4 March 2013</b><br><a href=\"https://webarchive.nla.gov.au/awa/20130328232628/http://www.pm.gov.au/\">https://webarchive.nla.gov.au/awa/20130328232628/http://www.pm.gov.au/</a></p><p><a href=\"screenshots/www-pm-gov-au-20130328232628-200.png\"><img src=\"screenshots/www-pm-gov-au-20130328232628-200.png\"></a><br><a href=\"screenshots/www-pm-gov-au-20130328232628-200.png\">[Download]</a></p></div>",
          "text/plain": "<IPython.core.display.HTML object>"
         },
         "metadata": {},
         "output_type": "display_data"
        }
       ]
      }
     },
     "a4fad40981d940149768fd12cb5bf8eb": {
      "model_module": "@jupyter-widgets/base",
      "model_module_version": "1.2.0",
      "model_name": "LayoutModel",
      "state": {}
     },
     "a55bc2bdb6f4459e89d79ceec1a5fdff": {
      "model_module": "@jupyter-widgets/base",
      "model_module_version": "1.2.0",
      "model_name": "LayoutModel",
      "state": {}
     },
     "a59a0726b2ee4502b480f8bfef645fa4": {
      "model_module": "@jupyter-widgets/base",
      "model_module_version": "1.2.0",
      "model_name": "LayoutModel",
      "state": {}
     },
     "a5b2e5ded1aa4995ad824016339853eb": {
      "model_module": "@jupyter-widgets/controls",
      "model_module_version": "1.5.0",
      "model_name": "ButtonModel",
      "state": {
       "button_style": "primary",
       "description": "Get screenshot",
       "layout": "IPY_MODEL_b70b19ad01d24d4ebd7e5946aecb0e15",
       "style": "IPY_MODEL_954706ea898a49bdae223cc263e0b46c"
      }
     },
     "a60b0e29e6b74bc9b753036339347ffa": {
      "model_module": "@jupyter-widgets/controls",
      "model_module_version": "1.5.0",
      "model_name": "DatePickerModel",
      "state": {
       "description": "Target date: ",
       "disabled": false,
       "layout": "IPY_MODEL_631f14369d444578ba39c0c1e8219dc5",
       "style": "IPY_MODEL_38f184e4afa6435ebdd75ab57717e82a",
       "value": {
        "date": 1,
        "month": 0,
        "year": 2018
       }
      }
     },
     "a71afbdbc84a443e880eb8562e9299df": {
      "model_module": "@jupyter-widgets/controls",
      "model_module_version": "1.5.0",
      "model_name": "HBoxModel",
      "state": {
       "children": [
        "IPY_MODEL_ff43d85ff81146d89504733f2f8a148c",
        "IPY_MODEL_cef92bfec4de40c2a639b9e6c178e17f"
       ],
       "layout": "IPY_MODEL_8b7d21208ad2427dad0cfabca82d936e"
      }
     },
     "a7e42556643346298e94256e5f411fac": {
      "model_module": "@jupyter-widgets/base",
      "model_module_version": "1.2.0",
      "model_name": "LayoutModel",
      "state": {}
     },
     "a7eadff8980e4e4a9c3ede69772ad73a": {
      "model_module": "@jupyter-widgets/controls",
      "model_module_version": "1.5.0",
      "model_name": "HBoxModel",
      "state": {
       "children": [
        "IPY_MODEL_a5b2e5ded1aa4995ad824016339853eb",
        "IPY_MODEL_e38da657975c4d73b372a5649949423f",
        "IPY_MODEL_b4cfe791d82745eca976fa3e5e0c9f22"
       ],
       "layout": "IPY_MODEL_d39e49d489e24057a709983ec6a29d2a"
      }
     },
     "a861a8a332b9467a8408a2082f4e9c40": {
      "model_module": "@jupyter-widgets/base",
      "model_module_version": "1.2.0",
      "model_name": "LayoutModel",
      "state": {}
     },
     "a86fabe22fa548139b344b04f576664e": {
      "model_module": "@jupyter-widgets/base",
      "model_module_version": "1.2.0",
      "model_name": "LayoutModel",
      "state": {}
     },
     "a8a5a88a65324d1696a4afb8cd66c639": {
      "model_module": "@jupyter-widgets/controls",
      "model_module_version": "1.5.0",
      "model_name": "DescriptionStyleModel",
      "state": {
       "description_width": ""
      }
     },
     "a908805a02c7409dac9825b5f2bdb494": {
      "model_module": "@jupyter-widgets/controls",
      "model_module_version": "1.5.0",
      "model_name": "VBoxModel",
      "state": {
       "children": [
        "IPY_MODEL_cfd6660c7de94166a3c1053a21747716",
        "IPY_MODEL_c085239e587b40cc83ed05feff198438"
       ],
       "layout": "IPY_MODEL_ad45828acfc94519a092b4f6018a4d3c"
      }
     },
     "a90a590a926b4cae9bb816cb1ebac585": {
      "model_module": "@jupyter-widgets/controls",
      "model_module_version": "1.5.0",
      "model_name": "DescriptionStyleModel",
      "state": {
       "description_width": ""
      }
     },
     "a9b2cd57083e46cebfc8347644b813d8": {
      "model_module": "@jupyter-widgets/base",
      "model_module_version": "1.2.0",
      "model_name": "LayoutModel",
      "state": {}
     },
     "a9d0c51fd01a4e8cbcaf5f13b9ab2d50": {
      "model_module": "@jupyter-widgets/controls",
      "model_module_version": "1.5.0",
      "model_name": "ButtonStyleModel",
      "state": {}
     },
     "a9fefc8e8212401aa34579071ac6288b": {
      "model_module": "@jupyter-widgets/controls",
      "model_module_version": "1.5.0",
      "model_name": "TextModel",
      "state": {
       "description": "Target URL:",
       "layout": "IPY_MODEL_82a4cf512e6e4dfe903fa684ebbbaff1",
       "style": "IPY_MODEL_efa5bfec19c940ae8b25216cbb05bde7"
      }
     },
     "aa0cd67dfcb342b3be08441009256678": {
      "model_module": "@jupyter-widgets/controls",
      "model_module_version": "1.5.0",
      "model_name": "SliderStyleModel",
      "state": {
       "description_width": ""
      }
     },
     "aa1d9e2e322445a6bb9a4c0d92d4249a": {
      "model_module": "@jupyter-widgets/base",
      "model_module_version": "1.2.0",
      "model_name": "LayoutModel",
      "state": {}
     },
     "aa450ba06e984572adea1b84ee1741e6": {
      "model_module": "@jupyter-widgets/controls",
      "model_module_version": "1.5.0",
      "model_name": "ButtonModel",
      "state": {
       "description": "Clear all",
       "layout": "IPY_MODEL_1d586eddaab54e6ba5aba50c4cb987ef",
       "style": "IPY_MODEL_fc58afbe1f4a4794a117c51f9138a083"
      }
     },
     "aa4d3e22955c4d1aace4ea6d8246e05a": {
      "model_module": "@jupyter-widgets/controls",
      "model_module_version": "1.5.0",
      "model_name": "VBoxModel",
      "state": {
       "children": [
        "IPY_MODEL_500979b73a2c40aaa79755426caba533",
        "IPY_MODEL_234386f479724ac6a612d0fba1a5474a"
       ],
       "layout": "IPY_MODEL_ed143738cc6c4b419322afe591f862b3"
      }
     },
     "aa5ca00433704e2fbe62939b6b3e9bc3": {
      "model_module": "@jupyter-widgets/base",
      "model_module_version": "1.2.0",
      "model_name": "LayoutModel",
      "state": {}
     },
     "abb92e30f3644cdb8bd1dcc88e8b8574": {
      "model_module": "@jupyter-widgets/controls",
      "model_module_version": "1.5.0",
      "model_name": "DescriptionStyleModel",
      "state": {
       "description_width": ""
      }
     },
     "acb7664e82a7405fb4f8cd34e05bd9b8": {
      "model_module": "@jupyter-widgets/controls",
      "model_module_version": "1.5.0",
      "model_name": "DropdownModel",
      "state": {
       "_options_labels": [
        "---",
        "UK Web Archive",
        "National Library of Australia",
        "National Library of New Zealand",
        "Internet Archive"
       ],
       "description": "Archive:",
       "index": 2,
       "layout": "IPY_MODEL_8507955028a94fb2aed29db741f04b73",
       "style": "IPY_MODEL_7a85fe4a219642ebac95f284438e1f0f"
      }
     },
     "acd85851bb3b4dbe8b73899ef6608ea3": {
      "model_module": "@jupyter-widgets/base",
      "model_module_version": "1.2.0",
      "model_name": "LayoutModel",
      "state": {
       "padding": "20px"
      }
     },
     "ad21299664014186b697810bb7cb75cd": {
      "model_module": "@jupyter-widgets/base",
      "model_module_version": "1.2.0",
      "model_name": "LayoutModel",
      "state": {}
     },
     "ad45828acfc94519a092b4f6018a4d3c": {
      "model_module": "@jupyter-widgets/base",
      "model_module_version": "1.2.0",
      "model_name": "LayoutModel",
      "state": {}
     },
     "ade91e86d3b94742af0dd30a3629bbe4": {
      "model_module": "@jupyter-widgets/controls",
      "model_module_version": "1.5.0",
      "model_name": "HBoxModel",
      "state": {
       "children": [
        "IPY_MODEL_e549ec07e292438db3692c34933f9377",
        "IPY_MODEL_4f89f14cc740478388e0b575d32de207",
        "IPY_MODEL_620fabbed25e410282a6094344936e6c"
       ],
       "layout": "IPY_MODEL_9173790556794a028f52c1452e3b1f8f"
      }
     },
     "adf4799c845c4328ac65acb95ac4beee": {
      "model_module": "@jupyter-widgets/output",
      "model_module_version": "1.0.0",
      "model_name": "OutputModel",
      "state": {
       "layout": "IPY_MODEL_3b45a21c57a4486ba16ae2d7a90b2453"
      }
     },
     "af49faf23ece4c25becbd0af54a00cf9": {
      "model_module": "@jupyter-widgets/base",
      "model_module_version": "1.2.0",
      "model_name": "LayoutModel",
      "state": {}
     },
     "af787bb72ebb4c7f91c5445f884928e7": {
      "model_module": "@jupyter-widgets/controls",
      "model_module_version": "1.5.0",
      "model_name": "TextModel",
      "state": {
       "description": "Target URL:",
       "layout": "IPY_MODEL_62322e100c364e418ad9ac8fb5d6d521",
       "style": "IPY_MODEL_4ab6ff3a53624592be1740177ed1869d",
       "value": "http://www.topdogtheatre.com/"
      }
     },
     "afe5626f052849bdaec1b99652cc8667": {
      "model_module": "@jupyter-widgets/controls",
      "model_module_version": "1.5.0",
      "model_name": "DescriptionStyleModel",
      "state": {
       "description_width": ""
      }
     },
     "b03b7e8596db4218bd23c1cf1843bfee": {
      "model_module": "@jupyter-widgets/controls",
      "model_module_version": "1.5.0",
      "model_name": "VBoxModel",
      "state": {
       "children": [
        "IPY_MODEL_acb7664e82a7405fb4f8cd34e05bd9b8",
        "IPY_MODEL_c3f704d534784d54a1d49d5a5b926af8"
       ],
       "layout": "IPY_MODEL_c123782def8f4955ba371c1f66ede8ac"
      }
     },
     "b0f1a27441e94677a28afaac1ac600a0": {
      "model_module": "@jupyter-widgets/controls",
      "model_module_version": "1.5.0",
      "model_name": "ButtonModel",
      "state": {
       "description": "Clear all",
       "layout": "IPY_MODEL_c6feb3b80d3a4fa2bf6c47befec970d5",
       "style": "IPY_MODEL_f5a345106e5c4892b59777a9f0d9efea"
      }
     },
     "b0f47e8266f04905bd7c778ab3fbca2e": {
      "model_module": "@jupyter-widgets/output",
      "model_module_version": "1.0.0",
      "model_name": "OutputModel",
      "state": {
       "layout": "IPY_MODEL_f45d089a154a4ad7b54aac20d4fc639a"
      }
     },
     "b0fd48e94846461491fcbb8742bb22ea": {
      "model_module": "@jupyter-widgets/base",
      "model_module_version": "1.2.0",
      "model_name": "LayoutModel",
      "state": {}
     },
     "b109f2636c5e4553bc2b9e5f6ffd7f39": {
      "model_module": "@jupyter-widgets/controls",
      "model_module_version": "1.5.0",
      "model_name": "TextModel",
      "state": {
       "description": "Target URL:",
       "layout": "IPY_MODEL_5474e610cec347019434662f31a25646",
       "style": "IPY_MODEL_0442fd44dfaa42ec872c01ba84425051",
       "value": "http://abc.net.au"
      }
     },
     "b11f1ae1213144a182c74d3c3951513e": {
      "model_module": "@jupyter-widgets/controls",
      "model_module_version": "1.5.0",
      "model_name": "DatePickerModel",
      "state": {
       "description": "Target date: ",
       "disabled": false,
       "layout": "IPY_MODEL_4939e6aac84742d2abaa1a3b908d65e7",
       "style": "IPY_MODEL_c116338e09b14486aa9c62dbd675da74"
      }
     },
     "b13768c937c5410e9e2e699f516726c4": {
      "model_module": "@jupyter-widgets/controls",
      "model_module_version": "1.5.0",
      "model_name": "DescriptionStyleModel",
      "state": {
       "description_width": ""
      }
     },
     "b1430db44c204c918b4b16d3fa8cde23": {
      "model_module": "@jupyter-widgets/base",
      "model_module_version": "1.2.0",
      "model_name": "LayoutModel",
      "state": {}
     },
     "b1e546001db84bde85fd6767aa76daa2": {
      "model_module": "@jupyter-widgets/controls",
      "model_module_version": "1.5.0",
      "model_name": "DescriptionStyleModel",
      "state": {
       "description_width": ""
      }
     },
     "b229bf745d6542fca6a90dd37fe7d56e": {
      "model_module": "@jupyter-widgets/base",
      "model_module_version": "1.2.0",
      "model_name": "LayoutModel",
      "state": {}
     },
     "b271b146f9e24afb8903b07612e882f0": {
      "model_module": "@jupyter-widgets/controls",
      "model_module_version": "1.5.0",
      "model_name": "ButtonModel",
      "state": {
       "button_style": "primary",
       "description": "Get screenshot",
       "layout": "IPY_MODEL_0d628351695849f989d0f1204541eba9",
       "style": "IPY_MODEL_93e774bab7b74da7ac66da950e929655"
      }
     },
     "b2b14e6228e84c8a8bdca5f1b13dcdf0": {
      "model_module": "@jupyter-widgets/output",
      "model_module_version": "1.0.0",
      "model_name": "OutputModel",
      "state": {
       "layout": "IPY_MODEL_6f90f367cf124ee69e0723ff6e02b516",
       "outputs": [
        {
         "data": {
          "text/html": "<div style=\"float:left; margin-left: 20px;\"><p><b>4 March 2013</b><br><a href=\"https://webarchive.nla.gov.au/awa/20130328232628/http://www.pm.gov.au/\">http://www.pm.gov.au/</a></p><p><a href=\"screenshots/www-pm-gov-au-20130328232628-200.png\"><img src=\"screenshots/www-pm-gov-au-20130328232628-200.png\"></a><br><a href=\"screenshots/www-pm-gov-au-20130328232628-200.png\">[Download]</a></p></div><div style=\"float:left; margin-left: 20px;\"><p><b>3 December 2015</b><br><a href=\"https://ndhadeliver.natlib.govt.nz/webarchive/wayback/20151202074607/http://news.sheepdogandwolf.com/\">http://news.sheepdogandwolf.com/</a></p><p><a href=\"screenshots/news-sheepdogandwolf-com-20151202074607-200.png\"><img src=\"screenshots/news-sheepdogandwolf-com-20151202074607-200.png\"></a><br><a href=\"screenshots/news-sheepdogandwolf-com-20151202074607-200.png\">[Download]</a></p></div><div style=\"float:left; margin-left: 20px;\"><p><b>1 April 2012</b><br><a href=\"https://ndhadeliver.natlib.govt.nz/webarchive/wayback/20120409205424/http://www.topdogtheatre.com/\">http://www.topdogtheatre.com/</a></p><p><a href=\"screenshots/www-topdogtheatre-com-20120409205424-200.png\"><img src=\"screenshots/www-topdogtheatre-com-20120409205424-200.png\"></a><br><a href=\"screenshots/www-topdogtheatre-com-20120409205424-200.png\">[Download]</a></p></div>",
          "text/plain": "<IPython.core.display.HTML object>"
         },
         "metadata": {},
         "output_type": "display_data"
        }
       ]
      }
     },
     "b30bbe131f3741a5b5e7748037c66a73": {
      "model_module": "@jupyter-widgets/base",
      "model_module_version": "1.2.0",
      "model_name": "LayoutModel",
      "state": {}
     },
     "b33bc9fce3e44944b5cb61527ace2651": {
      "model_module": "@jupyter-widgets/base",
      "model_module_version": "1.2.0",
      "model_name": "LayoutModel",
      "state": {}
     },
     "b3c1afd8edb04c2d886f090fd1b8927c": {
      "model_module": "@jupyter-widgets/base",
      "model_module_version": "1.2.0",
      "model_name": "LayoutModel",
      "state": {}
     },
     "b426516dce724f7bab000c2a8082ce1c": {
      "model_module": "@jupyter-widgets/controls",
      "model_module_version": "1.5.0",
      "model_name": "HBoxModel",
      "state": {
       "children": [
        "IPY_MODEL_b271b146f9e24afb8903b07612e882f0",
        "IPY_MODEL_1f9dd0cb6aac4e6bab982517b54b3fa8",
        "IPY_MODEL_6b43dd3e07ff4940bc8139ba88133cb7"
       ],
       "layout": "IPY_MODEL_b584947d9f054f49aa1adf9c1e2ad669"
      }
     },
     "b462147d62f74439885be3b3d428466c": {
      "model_module": "@jupyter-widgets/controls",
      "model_module_version": "1.5.0",
      "model_name": "DescriptionStyleModel",
      "state": {
       "description_width": ""
      }
     },
     "b499d0528cbb4a4a98f2d3c9bfca967d": {
      "model_module": "@jupyter-widgets/base",
      "model_module_version": "1.2.0",
      "model_name": "LayoutModel",
      "state": {}
     },
     "b4c656e8710f4df2b5ecc3fe4a55c6bf": {
      "model_module": "@jupyter-widgets/base",
      "model_module_version": "1.2.0",
      "model_name": "LayoutModel",
      "state": {}
     },
     "b4cfe791d82745eca976fa3e5e0c9f22": {
      "model_module": "@jupyter-widgets/controls",
      "model_module_version": "1.5.0",
      "model_name": "ButtonModel",
      "state": {
       "description": "Clear last",
       "layout": "IPY_MODEL_94b88b6df26648429e59401dbf4aa90d",
       "style": "IPY_MODEL_7a7fe67a9b8f4518aab520e9ea343a5e"
      }
     },
     "b515ced3fa8845448e5293cc63e34aa9": {
      "model_module": "@jupyter-widgets/base",
      "model_module_version": "1.2.0",
      "model_name": "LayoutModel",
      "state": {}
     },
     "b51e726f6b8a461ebbfda03646d26c63": {
      "model_module": "@jupyter-widgets/output",
      "model_module_version": "1.0.0",
      "model_name": "OutputModel",
      "state": {
       "layout": "IPY_MODEL_b737f8c12c584cebb6e9fea8ec2914aa"
      }
     },
     "b543ac5b01d845a09220f3622aa7ca23": {
      "model_module": "@jupyter-widgets/output",
      "model_module_version": "1.0.0",
      "model_name": "OutputModel",
      "state": {
       "layout": "IPY_MODEL_097d565b195f49e18e9f2e2de617a074"
      }
     },
     "b57087a62c6547dea3bd6ba497fef4aa": {
      "model_module": "@jupyter-widgets/controls",
      "model_module_version": "1.5.0",
      "model_name": "HBoxModel",
      "state": {
       "children": [
        "IPY_MODEL_6d8bf57250b14c9aa3a3d05643f26df2",
        "IPY_MODEL_86ebd953184f441a80b053539fea5889",
        "IPY_MODEL_0a42a5ef217842d48729ce4a740dc30c"
       ],
       "layout": "IPY_MODEL_ad21299664014186b697810bb7cb75cd"
      }
     },
     "b584947d9f054f49aa1adf9c1e2ad669": {
      "model_module": "@jupyter-widgets/base",
      "model_module_version": "1.2.0",
      "model_name": "LayoutModel",
      "state": {}
     },
     "b6639c118c5a4787b796a80bc62d687c": {
      "model_module": "@jupyter-widgets/output",
      "model_module_version": "1.0.0",
      "model_name": "OutputModel",
      "state": {
       "layout": "IPY_MODEL_b1430db44c204c918b4b16d3fa8cde23"
      }
     },
     "b69e107fa44744c98ee89511626f6c7c": {
      "model_module": "@jupyter-widgets/base",
      "model_module_version": "1.2.0",
      "model_name": "LayoutModel",
      "state": {}
     },
     "b70b19ad01d24d4ebd7e5946aecb0e15": {
      "model_module": "@jupyter-widgets/base",
      "model_module_version": "1.2.0",
      "model_name": "LayoutModel",
      "state": {}
     },
     "b734d8678e2a4f07a972afebed8a1b34": {
      "model_module": "@jupyter-widgets/base",
      "model_module_version": "1.2.0",
      "model_name": "LayoutModel",
      "state": {}
     },
     "b737f8c12c584cebb6e9fea8ec2914aa": {
      "model_module": "@jupyter-widgets/base",
      "model_module_version": "1.2.0",
      "model_name": "LayoutModel",
      "state": {}
     },
     "b739a4e21e4d42dca4f6544c6618d457": {
      "model_module": "@jupyter-widgets/base",
      "model_module_version": "1.2.0",
      "model_name": "LayoutModel",
      "state": {
       "padding": "20px"
      }
     },
     "b74915be35c4431181240b91ac674221": {
      "model_module": "@jupyter-widgets/base",
      "model_module_version": "1.2.0",
      "model_name": "LayoutModel",
      "state": {}
     },
     "b8e9d6b70693413aaca6353d6fc002b0": {
      "model_module": "@jupyter-widgets/controls",
      "model_module_version": "1.5.0",
      "model_name": "ButtonStyleModel",
      "state": {}
     },
     "b9e1029c434b440381a52b0cb0e6a3c9": {
      "model_module": "@jupyter-widgets/controls",
      "model_module_version": "1.5.0",
      "model_name": "DescriptionStyleModel",
      "state": {
       "description_width": ""
      }
     },
     "ba2885afdc794dc0917490abd14064d6": {
      "model_module": "@jupyter-widgets/controls",
      "model_module_version": "1.5.0",
      "model_name": "SliderStyleModel",
      "state": {
       "description_width": ""
      }
     },
     "baa6ed8519ac40fea9a3faebf863130d": {
      "model_module": "@jupyter-widgets/controls",
      "model_module_version": "1.5.0",
      "model_name": "ButtonStyleModel",
      "state": {}
     },
     "bb21f1517742498b9ddc046e683264c1": {
      "model_module": "@jupyter-widgets/base",
      "model_module_version": "1.2.0",
      "model_name": "LayoutModel",
      "state": {}
     },
     "bb38667687ee43b09581a1751cd4d6c0": {
      "model_module": "@jupyter-widgets/controls",
      "model_module_version": "1.5.0",
      "model_name": "ButtonModel",
      "state": {
       "description": "Clear all",
       "layout": "IPY_MODEL_b515ced3fa8845448e5293cc63e34aa9",
       "style": "IPY_MODEL_cf962d9b828d4d42ae5fc5e1288024da"
      }
     },
     "bc44becc5dd94edda8150e7866ffa1d8": {
      "model_module": "@jupyter-widgets/base",
      "model_module_version": "1.2.0",
      "model_name": "LayoutModel",
      "state": {}
     },
     "bc50e081750f4d01b362886b6c11c437": {
      "model_module": "@jupyter-widgets/controls",
      "model_module_version": "1.5.0",
      "model_name": "DescriptionStyleModel",
      "state": {
       "description_width": ""
      }
     },
     "bc775c4229d04125bfb5438a749ce6c6": {
      "model_module": "@jupyter-widgets/controls",
      "model_module_version": "1.5.0",
      "model_name": "VBoxModel",
      "state": {
       "children": [
        "IPY_MODEL_d58876adc3d84d6b9c04eb48a789a430",
        "IPY_MODEL_3fe5b23666bc47d2ab571ff5565f71f7"
       ],
       "layout": "IPY_MODEL_f9205f6e26d042899acd172b757ab5e6"
      }
     },
     "bd1208f0a1f5418bb006dce730ce785b": {
      "model_module": "@jupyter-widgets/base",
      "model_module_version": "1.2.0",
      "model_name": "LayoutModel",
      "state": {}
     },
     "bd19dc22efff40128d0d03c9a28fe97e": {
      "model_module": "@jupyter-widgets/controls",
      "model_module_version": "1.5.0",
      "model_name": "ButtonStyleModel",
      "state": {}
     },
     "be13bb5d7ea24770ba66991b25989be2": {
      "model_module": "@jupyter-widgets/controls",
      "model_module_version": "1.5.0",
      "model_name": "TextModel",
      "state": {
       "description": "Target URL:",
       "layout": "IPY_MODEL_5a99121797b342018b009a61fc4bc062",
       "style": "IPY_MODEL_a8a5a88a65324d1696a4afb8cd66c639",
       "value": "https://webarchive.nla.gov.au/awa/20130328232628/http://www.pm.gov.au/"
      }
     },
     "be7cb9be71a54279a6035f9a95fe2348": {
      "model_module": "@jupyter-widgets/output",
      "model_module_version": "1.0.0",
      "model_name": "OutputModel",
      "state": {
       "layout": "IPY_MODEL_104a1caa2f7b4e7d90d4013e6ea95569",
       "outputs": [
        {
         "name": "stdout",
         "output_type": "stream",
         "text": "Something went wrong – couldn't get a screenshot of https://web.archive.org.au/awa-nobanner/20130328232628/http://www.pm.gov.au/ – sorry...\n"
        }
       ]
      }
     },
     "bf06b1275c4c4b68a314d8375c394deb": {
      "model_module": "@jupyter-widgets/output",
      "model_module_version": "1.0.0",
      "model_name": "OutputModel",
      "state": {
       "layout": "IPY_MODEL_fd58c34f7498412b8f6434be562c1cdc",
       "outputs": [
        {
         "data": {
          "text/html": "<div style=\"float:left; margin-left: 20px;\"><p><b>4 March 2013</b><br><a href=\"https://webarchive.nla.gov.au/awa/20130328232628/http://www.pm.gov.au/\">https://webarchive.nla.gov.au/awa/20130328232628/http://www.pm.gov.au/</a></p><p><a href=\"screenshots/www-pm-gov-au-20130328232628-200.png\"><img src=\"screenshots/www-pm-gov-au-20130328232628-200.png\"></a><br><a href=\"screenshots/www-pm-gov-au-20130328232628-200.png\">[Download]</a></p></div>",
          "text/plain": "<IPython.core.display.HTML object>"
         },
         "metadata": {},
         "output_type": "display_data"
        }
       ]
      }
     },
     "bf4028a8e1b24bd1aa551c05731191d5": {
      "model_module": "@jupyter-widgets/output",
      "model_module_version": "1.0.0",
      "model_name": "OutputModel",
      "state": {
       "layout": "IPY_MODEL_d6b74b058210455785614360a8d97480",
       "outputs": [
        {
         "data": {
          "text/html": "<div style=\"float:left; margin-left: 20px;\"><p><b>4 March 2013</b><br><a href=\"https://webarchive.nla.gov.au/awa/20130328232628/http://www.pm.gov.au/\">https://webarchive.nla.gov.au/awa/20130328232628/http://www.pm.gov.au/</a></p><p><a href=\"screenshots/www-pm-gov-au-20130328232628-200.png\"><img src=\"screenshots/www-pm-gov-au-20130328232628-200.png\"></a><br><a href=\"screenshots/www-pm-gov-au-20130328232628-200.png\">[Download]</a></p></div>",
          "text/plain": "<IPython.core.display.HTML object>"
         },
         "metadata": {},
         "output_type": "display_data"
        }
       ]
      }
     },
     "bf5ff01661c249b3930dc8ae036ab71c": {
      "model_module": "@jupyter-widgets/controls",
      "model_module_version": "1.5.0",
      "model_name": "ButtonStyleModel",
      "state": {}
     },
     "bf6a916d0bea44f3a8eddc27fbf88556": {
      "model_module": "@jupyter-widgets/output",
      "model_module_version": "1.0.0",
      "model_name": "OutputModel",
      "state": {
       "layout": "IPY_MODEL_3335da9fd5ee4542b594f812a210b85b",
       "outputs": [
        {
         "data": {
          "text/html": "<div style=\"float:left; margin-left: 20px;\"><p><b>4 March 2013</b><br><a href=\"https://webarchive.nla.gov.au/awa/20130328232628/http://www.pm.gov.au/\">https://webarchive.nla.gov.au/awa/20130328232628/http://www.pm.gov.au/</a></p><p><a href=\"screenshots/www-pm-gov-au-20130328232628-200.png\"><img src=\"screenshots/www-pm-gov-au-20130328232628-200.png\"></a><br><a href=\"screenshots/www-pm-gov-au-20130328232628-200.png\">[Download]</a></p></div>",
          "text/plain": "<IPython.core.display.HTML object>"
         },
         "metadata": {},
         "output_type": "display_data"
        }
       ]
      }
     },
     "bf6b2ed84bc444f09c7934e45a2d45f9": {
      "model_module": "@jupyter-widgets/base",
      "model_module_version": "1.2.0",
      "model_name": "LayoutModel",
      "state": {}
     },
     "bf78a39c475d4568881cd5311105e4ba": {
      "model_module": "@jupyter-widgets/base",
      "model_module_version": "1.2.0",
      "model_name": "LayoutModel",
      "state": {}
     },
     "c05f4c3d241d498cb9653e4d549ec119": {
      "model_module": "@jupyter-widgets/controls",
      "model_module_version": "1.5.0",
      "model_name": "DatePickerModel",
      "state": {
       "description": "Target date: ",
       "disabled": false,
       "layout": "IPY_MODEL_5b6aebe7ebde4193a74be0213ab7e249",
       "style": "IPY_MODEL_61da6d123c16494daf12348ea72fa300",
       "value": {
        "date": 25,
        "month": 10,
        "year": 2010
       }
      }
     },
     "c085239e587b40cc83ed05feff198438": {
      "model_module": "@jupyter-widgets/controls",
      "model_module_version": "1.5.0",
      "model_name": "DatePickerModel",
      "state": {
       "description": "Target date: ",
       "disabled": false,
       "layout": "IPY_MODEL_d6ef73ffded540eea4c23bcf9d5c8903",
       "style": "IPY_MODEL_3eb138fa0bcb49dcadfb66c1d3d97db4"
      }
     },
     "c10f7477a1f14ab1aee9c25a676e47b0": {
      "model_module": "@jupyter-widgets/controls",
      "model_module_version": "1.5.0",
      "model_name": "VBoxModel",
      "state": {
       "children": [
        "IPY_MODEL_8be42f7b01a849288bf2099ccb607408",
        "IPY_MODEL_5083f1d6880f47d2afa19a7a4ea9eacc"
       ],
       "layout": "IPY_MODEL_9e0a40bea5814b14bfcda6bf2678c54e"
      }
     },
     "c116338e09b14486aa9c62dbd675da74": {
      "model_module": "@jupyter-widgets/controls",
      "model_module_version": "1.5.0",
      "model_name": "DescriptionStyleModel",
      "state": {
       "description_width": ""
      }
     },
     "c123782def8f4955ba371c1f66ede8ac": {
      "model_module": "@jupyter-widgets/base",
      "model_module_version": "1.2.0",
      "model_name": "LayoutModel",
      "state": {}
     },
     "c12d8e52507e4c719f48f6734bfc2d52": {
      "model_module": "@jupyter-widgets/controls",
      "model_module_version": "1.5.0",
      "model_name": "ButtonStyleModel",
      "state": {}
     },
     "c15697ac180f4fd38f2db58f1d668c1d": {
      "model_module": "@jupyter-widgets/base",
      "model_module_version": "1.2.0",
      "model_name": "LayoutModel",
      "state": {}
     },
     "c1571be97c184bbd967e2873feee52ac": {
      "model_module": "@jupyter-widgets/controls",
      "model_module_version": "1.5.0",
      "model_name": "HBoxModel",
      "state": {
       "children": [
        "IPY_MODEL_8a2cd6395bfb4c6589865fa823259c1b",
        "IPY_MODEL_177b40254c5a4adc87bd08e1c2d372be",
        "IPY_MODEL_d46a3745ddbe48fc8a94e9a2c7f1edfb"
       ],
       "layout": "IPY_MODEL_8e5536db2c834a38a78a88d148f9c962"
      }
     },
     "c273d4ffdc5a4b97b59f981d544d7f13": {
      "model_module": "@jupyter-widgets/controls",
      "model_module_version": "1.5.0",
      "model_name": "SliderStyleModel",
      "state": {
       "description_width": ""
      }
     },
     "c28545f1cbe3437f95b66cff0b27aa0b": {
      "model_module": "@jupyter-widgets/controls",
      "model_module_version": "1.5.0",
      "model_name": "ButtonModel",
      "state": {
       "description": "Clear last",
       "layout": "IPY_MODEL_60c85e64957f463d82a3cc477ade58e7",
       "style": "IPY_MODEL_1cf549f56b024476892bb866d551c077"
      }
     },
     "c32413bf834c40cf9a8cc90aaa2317cf": {
      "model_module": "@jupyter-widgets/base",
      "model_module_version": "1.2.0",
      "model_name": "LayoutModel",
      "state": {}
     },
     "c346ca4808174a4b9b793480d2321559": {
      "model_module": "@jupyter-widgets/controls",
      "model_module_version": "1.5.0",
      "model_name": "ButtonModel",
      "state": {
       "button_style": "primary",
       "description": "Get screenshot",
       "layout": "IPY_MODEL_ca447290eb4a4a848eff8786161a154d",
       "style": "IPY_MODEL_f2b9a483ce0c4f04be14c11a5b424839"
      }
     },
     "c3f704d534784d54a1d49d5a5b926af8": {
      "model_module": "@jupyter-widgets/controls",
      "model_module_version": "1.5.0",
      "model_name": "DatePickerModel",
      "state": {
       "description": "Target date: ",
       "disabled": false,
       "layout": "IPY_MODEL_7f5bd8fdb7624851ad2c063bf2be0468",
       "style": "IPY_MODEL_b9e1029c434b440381a52b0cb0e6a3c9"
      }
     },
     "c4012506de234eff83a7ac5d943a74b8": {
      "model_module": "@jupyter-widgets/base",
      "model_module_version": "1.2.0",
      "model_name": "LayoutModel",
      "state": {}
     },
     "c42032f13de049c388ba141702dbd4b2": {
      "model_module": "@jupyter-widgets/controls",
      "model_module_version": "1.5.0",
      "model_name": "IntSliderModel",
      "state": {
       "continuous_update": false,
       "description": "Width:",
       "layout": "IPY_MODEL_4a4f1cbb06f54f17b7e3158a910ab51d",
       "max": 1000,
       "min": 200,
       "step": 100,
       "style": "IPY_MODEL_2bcdf108a4ce4621a0d06dfbdac3a741",
       "value": 200
      }
     },
     "c4355087aebb470db05b8c91095a9737": {
      "model_module": "@jupyter-widgets/base",
      "model_module_version": "1.2.0",
      "model_name": "LayoutModel",
      "state": {}
     },
     "c4d247cc850a4db9aac719f411295e9f": {
      "model_module": "@jupyter-widgets/controls",
      "model_module_version": "1.5.0",
      "model_name": "HBoxModel",
      "state": {
       "children": [
        "IPY_MODEL_0ba0bde49f97483d9f8ba7795345d748",
        "IPY_MODEL_551c7f8a0a5c46c29597889c88d3b398"
       ],
       "layout": "IPY_MODEL_2ed4b8733422452fba7a0c0d8e7e43ae"
      }
     },
     "c5157e55e9d34e05a85f7db89fcdae02": {
      "model_module": "@jupyter-widgets/base",
      "model_module_version": "1.2.0",
      "model_name": "LayoutModel",
      "state": {}
     },
     "c536fb602c3d41b49bfc17891449091f": {
      "model_module": "@jupyter-widgets/base",
      "model_module_version": "1.2.0",
      "model_name": "LayoutModel",
      "state": {}
     },
     "c61f18c90e2148cfa641149981ce52b3": {
      "model_module": "@jupyter-widgets/base",
      "model_module_version": "1.2.0",
      "model_name": "LayoutModel",
      "state": {}
     },
     "c699470e7ed9440584cd732fdfe36d82": {
      "model_module": "@jupyter-widgets/base",
      "model_module_version": "1.2.0",
      "model_name": "LayoutModel",
      "state": {
       "padding": "20px"
      }
     },
     "c6feb3b80d3a4fa2bf6c47befec970d5": {
      "model_module": "@jupyter-widgets/base",
      "model_module_version": "1.2.0",
      "model_name": "LayoutModel",
      "state": {}
     },
     "c77915abde4d4cc6a8a201ac22d839ad": {
      "model_module": "@jupyter-widgets/base",
      "model_module_version": "1.2.0",
      "model_name": "LayoutModel",
      "state": {
       "padding": "20px"
      }
     },
     "c7dcf2468d5f4ed39ebaebe6c291f222": {
      "model_module": "@jupyter-widgets/controls",
      "model_module_version": "1.5.0",
      "model_name": "IntSliderModel",
      "state": {
       "continuous_update": false,
       "description": "Width:",
       "layout": "IPY_MODEL_1ff1057d140740fe896271243c33a456",
       "max": 1000,
       "min": 200,
       "step": 100,
       "style": "IPY_MODEL_58bd28a2372a416caea96ce8b628c1c8",
       "value": 200
      }
     },
     "c866019952994d01bd6caadbd862f271": {
      "model_module": "@jupyter-widgets/controls",
      "model_module_version": "1.5.0",
      "model_name": "VBoxModel",
      "state": {
       "children": [
        "IPY_MODEL_818ed0b0fe7543e987413250778e115e",
        "IPY_MODEL_4e24676a8516448db168ba643b48b213"
       ],
       "layout": "IPY_MODEL_803335a806384f3ca610e20b692498ef"
      }
     },
     "c889cd1c28984463b38d6d87331ea843": {
      "model_module": "@jupyter-widgets/controls",
      "model_module_version": "1.5.0",
      "model_name": "ButtonModel",
      "state": {
       "button_style": "primary",
       "description": "Get screenshot",
       "layout": "IPY_MODEL_4afd27a06b0a4fc793ef93f074556e83",
       "style": "IPY_MODEL_df059b63fd734d8e81b740cb76f750ee"
      }
     },
     "c8de282874d946dab9e282166d829064": {
      "model_module": "@jupyter-widgets/controls",
      "model_module_version": "1.5.0",
      "model_name": "TextModel",
      "state": {
       "description": "Target URL:",
       "layout": "IPY_MODEL_d34b622dcb4f419a9066e26b19d96f2e",
       "style": "IPY_MODEL_a4e25a69948141498aad987c1a4a224a",
       "value": "https://webarchive.nla.gov.au/awa/20130328232628/http://www.pm.gov.au/"
      }
     },
     "c953900d4bd64949bbf90d006010b8a8": {
      "model_module": "@jupyter-widgets/controls",
      "model_module_version": "1.5.0",
      "model_name": "HBoxModel",
      "state": {
       "children": [
        "IPY_MODEL_3b64951f43eb4aa6a7263b9b6312779f",
        "IPY_MODEL_a13c2c50398446da9cf20b85d393cb93"
       ],
       "layout": "IPY_MODEL_07b3b8a0dce34f198655d2a21e87b0b4"
      }
     },
     "c9cf381f974446a6a20b87659116bf0e": {
      "model_module": "@jupyter-widgets/base",
      "model_module_version": "1.2.0",
      "model_name": "LayoutModel",
      "state": {}
     },
     "c9e088dbbbb04f5eab15c83d964ed73d": {
      "model_module": "@jupyter-widgets/controls",
      "model_module_version": "1.5.0",
      "model_name": "ButtonModel",
      "state": {
       "button_style": "primary",
       "description": "Get screenshot",
       "layout": "IPY_MODEL_5e2e4b986ad245eeaea2df0767cba8cf",
       "style": "IPY_MODEL_5497290fd71144b7b17b034774c3ed1d"
      }
     },
     "ca447290eb4a4a848eff8786161a154d": {
      "model_module": "@jupyter-widgets/base",
      "model_module_version": "1.2.0",
      "model_name": "LayoutModel",
      "state": {}
     },
     "ca4baf8b70fe4ed9848f85349b39e21e": {
      "model_module": "@jupyter-widgets/base",
      "model_module_version": "1.2.0",
      "model_name": "LayoutModel",
      "state": {}
     },
     "cae565d7aa99402986e640f86e1e049f": {
      "model_module": "@jupyter-widgets/output",
      "model_module_version": "1.0.0",
      "model_name": "OutputModel",
      "state": {
       "layout": "IPY_MODEL_1a11178c1d8941a59cf257844a0e07b9"
      }
     },
     "cb097d4bc77d4110b39273761cc24a80": {
      "model_module": "@jupyter-widgets/controls",
      "model_module_version": "1.5.0",
      "model_name": "ButtonModel",
      "state": {
       "button_style": "primary",
       "description": "Get screenshot",
       "layout": "IPY_MODEL_25cbef0e21a5487ea1b024fe36ecd273",
       "style": "IPY_MODEL_5f6daecf499341b788f79b28cd5dcc82"
      }
     },
     "cb3deac4984743bf941b5a057c4d8ecb": {
      "model_module": "@jupyter-widgets/controls",
      "model_module_version": "1.5.0",
      "model_name": "IntSliderModel",
      "state": {
       "continuous_update": false,
       "description": "Width:",
       "layout": "IPY_MODEL_b30bbe131f3741a5b5e7748037c66a73",
       "max": 1000,
       "min": 200,
       "step": 100,
       "style": "IPY_MODEL_07f32c1f68024aa982f9dfa0ac4bf4cd",
       "value": 200
      }
     },
     "cb8c9d1cdaee4da69e7ec1c21d3f269a": {
      "model_module": "@jupyter-widgets/base",
      "model_module_version": "1.2.0",
      "model_name": "LayoutModel",
      "state": {}
     },
     "cc1ab34b06fb4f6083cbaab236ff8104": {
      "model_module": "@jupyter-widgets/base",
      "model_module_version": "1.2.0",
      "model_name": "LayoutModel",
      "state": {}
     },
     "cc51f0db127d42728040bdcd60fe9cf6": {
      "model_module": "@jupyter-widgets/base",
      "model_module_version": "1.2.0",
      "model_name": "LayoutModel",
      "state": {}
     },
     "cc7c955ce83741998eac469e94013303": {
      "model_module": "@jupyter-widgets/controls",
      "model_module_version": "1.5.0",
      "model_name": "VBoxModel",
      "state": {
       "children": [
        "IPY_MODEL_6368b4e7ff464fcbbea42e25728a0ba5",
        "IPY_MODEL_3964b9146b1a48dc8e737a422dc990e9"
       ],
       "layout": "IPY_MODEL_672790bf55fb4b1294eb146bbdf55e41"
      }
     },
     "cd667dd37e0b4dd4956a2dbedd05e300": {
      "model_module": "@jupyter-widgets/base",
      "model_module_version": "1.2.0",
      "model_name": "LayoutModel",
      "state": {}
     },
     "ce648904c0a94227b8c0e4310563077f": {
      "model_module": "@jupyter-widgets/controls",
      "model_module_version": "1.5.0",
      "model_name": "DescriptionStyleModel",
      "state": {
       "description_width": ""
      }
     },
     "ce65003f25294a85837d6e058e6d2e16": {
      "model_module": "@jupyter-widgets/base",
      "model_module_version": "1.2.0",
      "model_name": "LayoutModel",
      "state": {}
     },
     "ce98a96042e24ddc8621cc1c7613f7ea": {
      "model_module": "@jupyter-widgets/controls",
      "model_module_version": "1.5.0",
      "model_name": "VBoxModel",
      "state": {
       "children": [
        "IPY_MODEL_d7f49927dacd408da9215417c64d0772",
        "IPY_MODEL_22328ea48024442983c04dbd2b531448"
       ],
       "layout": "IPY_MODEL_7da5702d8f3843dc90dae307280f2f9c"
      }
     },
     "cebd6edbc09f445e872e96d0de5caec5": {
      "model_module": "@jupyter-widgets/controls",
      "model_module_version": "1.5.0",
      "model_name": "DescriptionStyleModel",
      "state": {
       "description_width": ""
      }
     },
     "cef92bfec4de40c2a639b9e6c178e17f": {
      "model_module": "@jupyter-widgets/controls",
      "model_module_version": "1.5.0",
      "model_name": "VBoxModel",
      "state": {
       "children": [
        "IPY_MODEL_a9fefc8e8212401aa34579071ac6288b",
        "IPY_MODEL_a4df2d5ed567459884be33cd3801d554"
       ],
       "layout": "IPY_MODEL_dda9d91f18974f30bf8f376ed3a72c64"
      }
     },
     "cf5167d72c004a23876ff5ea8a39d04b": {
      "model_module": "@jupyter-widgets/controls",
      "model_module_version": "1.5.0",
      "model_name": "VBoxModel",
      "state": {
       "children": [
        "IPY_MODEL_f3acabeb37b449e9b7d15bf985f58fc8",
        "IPY_MODEL_6637ea6c169248728cc12e77f8e25065"
       ],
       "layout": "IPY_MODEL_ca4baf8b70fe4ed9848f85349b39e21e"
      }
     },
     "cf92c7fa095d4c8a8ccf45049532e7b9": {
      "model_module": "@jupyter-widgets/controls",
      "model_module_version": "1.5.0",
      "model_name": "HBoxModel",
      "state": {
       "children": [
        "IPY_MODEL_f193979123d34144a172bd55d5681346",
        "IPY_MODEL_e2dcdb06ba304b089575468712e254b0",
        "IPY_MODEL_49339965e33849669c6eb51a61d2a4e8"
       ],
       "layout": "IPY_MODEL_bd1208f0a1f5418bb006dce730ce785b"
      }
     },
     "cf962d9b828d4d42ae5fc5e1288024da": {
      "model_module": "@jupyter-widgets/controls",
      "model_module_version": "1.5.0",
      "model_name": "ButtonStyleModel",
      "state": {}
     },
     "cfd64575f54649c88482aecc57f4ba76": {
      "model_module": "@jupyter-widgets/controls",
      "model_module_version": "1.5.0",
      "model_name": "ButtonStyleModel",
      "state": {}
     },
     "cfd6660c7de94166a3c1053a21747716": {
      "model_module": "@jupyter-widgets/controls",
      "model_module_version": "1.5.0",
      "model_name": "DropdownModel",
      "state": {
       "_options_labels": [
        "---",
        "UK Web Archive",
        "National Library of Australia",
        "National Library of New Zealand",
        "Internet Archive"
       ],
       "description": "Archive:",
       "index": 0,
       "layout": "IPY_MODEL_50673fbb67d545359c1eb51436430b06",
       "style": "IPY_MODEL_39044468b05e4eeaacec6bfc60161b6f"
      }
     },
     "d0853f71dffa464abc3efdc3b441ae76": {
      "model_module": "@jupyter-widgets/base",
      "model_module_version": "1.2.0",
      "model_name": "LayoutModel",
      "state": {}
     },
     "d11d31ef05964d949adca0f5999e2726": {
      "model_module": "@jupyter-widgets/output",
      "model_module_version": "1.0.0",
      "model_name": "OutputModel",
      "state": {
       "layout": "IPY_MODEL_85cbbdb76bb74c118c8f46a6a46e52f6",
       "outputs": [
        {
         "data": {
          "text/html": "<div style=\"float:left; margin-left: 20px;\"><p><b>2 February 2010</b><br><a href=\"https://web.archive.org/web/20100209041537/http://discontents.com.au:80/\">http://discontents.com.au</a></p><p><a href=\"screenshots/discontents-com-au-80-20100209041537-200.png\"><img src=\"screenshots/discontents-com-au-80-20100209041537-200.png\"></a><br><a href=\"screenshots/discontents-com-au-80-20100209041537-200.png\">[Download]</a></p></div><div style=\"float:left; margin-left: 20px;\"><p><b>6 December 2017</b><br><a href=\"https://web.archive.org/web/20171230231911/http://discontents.com.au/\">http://discontents.com.au</a></p><p><a href=\"screenshots/discontents-com-au-20171230231911-200.png\"><img src=\"screenshots/discontents-com-au-20171230231911-200.png\"></a><br><a href=\"screenshots/discontents-com-au-20171230231911-200.png\">[Download]</a></p></div>",
          "text/plain": "<IPython.core.display.HTML object>"
         },
         "metadata": {},
         "output_type": "display_data"
        }
       ]
      }
     },
     "d11e9a9d5a4d4a618d4eb4f2d0feb099": {
      "model_module": "@jupyter-widgets/controls",
      "model_module_version": "1.5.0",
      "model_name": "IntSliderModel",
      "state": {
       "continuous_update": false,
       "description": "Width:",
       "layout": "IPY_MODEL_1b9d91a8d27b4f07be437ff4eb974472",
       "max": 1000,
       "min": 200,
       "step": 100,
       "style": "IPY_MODEL_1953417f6dab49b5a846b54f2aa68c79",
       "value": 200
      }
     },
     "d1eca440c5fb44efa945c128a2e7afa5": {
      "model_module": "@jupyter-widgets/controls",
      "model_module_version": "1.5.0",
      "model_name": "IntSliderModel",
      "state": {
       "continuous_update": false,
       "description": "Width:",
       "layout": "IPY_MODEL_3346e3435c1f4edb8e9ccd3dc4f11868",
       "max": 1000,
       "min": 200,
       "step": 100,
       "style": "IPY_MODEL_99b85fd06e4b4a72ad521d14c0e94acb",
       "value": 200
      }
     },
     "d1f9360b397a417985a610ab22e65e08": {
      "model_module": "@jupyter-widgets/base",
      "model_module_version": "1.2.0",
      "model_name": "LayoutModel",
      "state": {
       "padding": "20px"
      }
     },
     "d22bfb0f14484112b86ab0ba789cae0f": {
      "model_module": "@jupyter-widgets/output",
      "model_module_version": "1.0.0",
      "model_name": "OutputModel",
      "state": {
       "layout": "IPY_MODEL_dd634812a0f04099b4184725af2f4f6b"
      }
     },
     "d287767b9771487d86d26cf4b8c60192": {
      "model_module": "@jupyter-widgets/controls",
      "model_module_version": "1.5.0",
      "model_name": "DescriptionStyleModel",
      "state": {
       "description_width": ""
      }
     },
     "d2cf6ae4c8ac4c719b1cfc2dcf23c2b3": {
      "model_module": "@jupyter-widgets/controls",
      "model_module_version": "1.5.0",
      "model_name": "DescriptionStyleModel",
      "state": {
       "description_width": ""
      }
     },
     "d34b622dcb4f419a9066e26b19d96f2e": {
      "model_module": "@jupyter-widgets/base",
      "model_module_version": "1.2.0",
      "model_name": "LayoutModel",
      "state": {}
     },
     "d375ccc2805d4035a1859396fb505d95": {
      "model_module": "@jupyter-widgets/controls",
      "model_module_version": "1.5.0",
      "model_name": "HBoxModel",
      "state": {
       "children": [
        "IPY_MODEL_c889cd1c28984463b38d6d87331ea843",
        "IPY_MODEL_aa450ba06e984572adea1b84ee1741e6",
        "IPY_MODEL_8d21c89143f5440a8e2622bf40646025"
       ],
       "layout": "IPY_MODEL_9c612aba22fc481a998185dbd9011314"
      }
     },
     "d39e49d489e24057a709983ec6a29d2a": {
      "model_module": "@jupyter-widgets/base",
      "model_module_version": "1.2.0",
      "model_name": "LayoutModel",
      "state": {}
     },
     "d3dbfc6f36ce4866bdb34da703f0c09f": {
      "model_module": "@jupyter-widgets/controls",
      "model_module_version": "1.5.0",
      "model_name": "DropdownModel",
      "state": {
       "_options_labels": [
        "---",
        "UK Web Archive",
        "National Library of Australia",
        "National Library of New Zealand",
        "Internet Archive"
       ],
       "description": "Archive:",
       "index": 2,
       "layout": "IPY_MODEL_2a5ede3eba4d4ba3ba0f97d681d497f7",
       "style": "IPY_MODEL_8d5da13779b84c53a339c484dc4b6869"
      }
     },
     "d46a3745ddbe48fc8a94e9a2c7f1edfb": {
      "model_module": "@jupyter-widgets/controls",
      "model_module_version": "1.5.0",
      "model_name": "ButtonModel",
      "state": {
       "description": "Clear last",
       "layout": "IPY_MODEL_192b701594b74c5da07849d875fe775c",
       "style": "IPY_MODEL_c12d8e52507e4c719f48f6734bfc2d52"
      }
     },
     "d47304e83eb042c382220bc61b4ffc2b": {
      "model_module": "@jupyter-widgets/controls",
      "model_module_version": "1.5.0",
      "model_name": "IntSliderModel",
      "state": {
       "continuous_update": false,
       "description": "Width:",
       "layout": "IPY_MODEL_fadce508044544b29e3df4c49bcdf675",
       "max": 1000,
       "min": 200,
       "step": 100,
       "style": "IPY_MODEL_013a588e77ab43ec91a53b97a8f372f4",
       "value": 200
      }
     },
     "d50c80ca580b471f89d1c90da944a5f9": {
      "model_module": "@jupyter-widgets/controls",
      "model_module_version": "1.5.0",
      "model_name": "ButtonModel",
      "state": {
       "button_style": "primary",
       "description": "Get screenshot",
       "layout": "IPY_MODEL_947b9446e33e4cad87752029a9543381",
       "style": "IPY_MODEL_2b6c0b3f0ab049fabf156e15324831a5"
      }
     },
     "d52b0d6de7db418d8b0d9877d1aebc81": {
      "model_module": "@jupyter-widgets/controls",
      "model_module_version": "1.5.0",
      "model_name": "ButtonModel",
      "state": {
       "description": "Clear all",
       "layout": "IPY_MODEL_8bafe7ad2ad543bab2860522e09c86ad",
       "style": "IPY_MODEL_84c37fabdff84f9d8d8c54b97d11876b"
      }
     },
     "d57a0026480d4fb5950ab1c776d446f3": {
      "model_module": "@jupyter-widgets/controls",
      "model_module_version": "1.5.0",
      "model_name": "HBoxModel",
      "state": {
       "children": [
        "IPY_MODEL_c346ca4808174a4b9b793480d2321559",
        "IPY_MODEL_7bf1d18e9cff46fbb0413bd033960a78",
        "IPY_MODEL_dfc82508af5f48c19d05522b0e6df53d"
       ],
       "layout": "IPY_MODEL_95e9fc86c50f4d569c0674d7051bb8c0"
      }
     },
     "d58876adc3d84d6b9c04eb48a789a430": {
      "model_module": "@jupyter-widgets/controls",
      "model_module_version": "1.5.0",
      "model_name": "DropdownModel",
      "state": {
       "_options_labels": [
        "---",
        "UK Web Archive",
        "National Library of Australia",
        "National Library of New Zealand",
        "Internet Archive"
       ],
       "description": "Archive:",
       "index": 1,
       "layout": "IPY_MODEL_44fda3f18e6e4b1fb36f10437612b422",
       "style": "IPY_MODEL_b1e546001db84bde85fd6767aa76daa2"
      }
     },
     "d63d8d9e25c7497095aba95763a529fa": {
      "model_module": "@jupyter-widgets/controls",
      "model_module_version": "1.5.0",
      "model_name": "HBoxModel",
      "state": {
       "children": [
        "IPY_MODEL_911b3b6b50e3490297b2e77ed90ee4d0",
        "IPY_MODEL_20b4f5c5c1e04a66a283ba0a41f0f3f3"
       ],
       "layout": "IPY_MODEL_5f4d8058b18b4b2f8c4057f75579440a"
      }
     },
     "d6aea723508546678174fedbf16c7233": {
      "model_module": "@jupyter-widgets/base",
      "model_module_version": "1.2.0",
      "model_name": "LayoutModel",
      "state": {}
     },
     "d6b74b058210455785614360a8d97480": {
      "model_module": "@jupyter-widgets/base",
      "model_module_version": "1.2.0",
      "model_name": "LayoutModel",
      "state": {}
     },
     "d6ef73ffded540eea4c23bcf9d5c8903": {
      "model_module": "@jupyter-widgets/base",
      "model_module_version": "1.2.0",
      "model_name": "LayoutModel",
      "state": {}
     },
     "d78b426341e84924846ec54519030cd2": {
      "model_module": "@jupyter-widgets/base",
      "model_module_version": "1.2.0",
      "model_name": "LayoutModel",
      "state": {}
     },
     "d7c102fe9c854a3db009c47eec808a4b": {
      "model_module": "@jupyter-widgets/base",
      "model_module_version": "1.2.0",
      "model_name": "LayoutModel",
      "state": {}
     },
     "d7f49927dacd408da9215417c64d0772": {
      "model_module": "@jupyter-widgets/controls",
      "model_module_version": "1.5.0",
      "model_name": "TextModel",
      "state": {
       "description": "Target URL:",
       "layout": "IPY_MODEL_46edc698a6244c1ea1a2c622442ee6b7",
       "style": "IPY_MODEL_83f6af5a8e5a43faa703d53dd38e1ecc"
      }
     },
     "d8107cd28adb42fd9ca4cca4614a55ed": {
      "model_module": "@jupyter-widgets/controls",
      "model_module_version": "1.5.0",
      "model_name": "DescriptionStyleModel",
      "state": {
       "description_width": ""
      }
     },
     "d8371b9fd9bd4422a3b690d0666ba583": {
      "model_module": "@jupyter-widgets/base",
      "model_module_version": "1.2.0",
      "model_name": "LayoutModel",
      "state": {}
     },
     "d8568be13bda4b7bbe08133baaebb15a": {
      "model_module": "@jupyter-widgets/controls",
      "model_module_version": "1.5.0",
      "model_name": "HBoxModel",
      "state": {
       "children": [
        "IPY_MODEL_5a5baa3afcec437986aa329113b0f606",
        "IPY_MODEL_2acd50c39c934f80b5a9380226806286"
       ],
       "layout": "IPY_MODEL_4686311512a349a79b9b011c7a21e406"
      }
     },
     "d882ab52ef214521b5e3d4d39a71019d": {
      "model_module": "@jupyter-widgets/controls",
      "model_module_version": "1.5.0",
      "model_name": "ButtonModel",
      "state": {
       "button_style": "primary",
       "description": "Get screenshot",
       "layout": "IPY_MODEL_8c612fa55e6e4c0085504e110ca33ed0",
       "style": "IPY_MODEL_5b7105455f4c496385b5e2aae69951fa"
      }
     },
     "d8af32b6b2864a69b43eccb415d97e30": {
      "model_module": "@jupyter-widgets/controls",
      "model_module_version": "1.5.0",
      "model_name": "ButtonModel",
      "state": {
       "description": "Clear last",
       "layout": "IPY_MODEL_d6aea723508546678174fedbf16c7233",
       "style": "IPY_MODEL_05d36eefa4124ee1a625b994c2f3a4c8"
      }
     },
     "d8d69a82f1954550971d202840142ce4": {
      "model_module": "@jupyter-widgets/base",
      "model_module_version": "1.2.0",
      "model_name": "LayoutModel",
      "state": {}
     },
     "d91c2a743d3f405aa06635feb37941db": {
      "model_module": "@jupyter-widgets/base",
      "model_module_version": "1.2.0",
      "model_name": "LayoutModel",
      "state": {}
     },
     "db0369e500a44d8c81a662b248cd4a8f": {
      "model_module": "@jupyter-widgets/controls",
      "model_module_version": "1.5.0",
      "model_name": "ButtonModel",
      "state": {
       "description": "Clear last",
       "layout": "IPY_MODEL_dbb5dea183234b8fa54d22c73cb36cc9",
       "style": "IPY_MODEL_e70d673ce8d94953acbd5bf0b07710f2"
      }
     },
     "db0bc746f3584faaace3cc1c2b70677c": {
      "model_module": "@jupyter-widgets/output",
      "model_module_version": "1.0.0",
      "model_name": "OutputModel",
      "state": {
       "layout": "IPY_MODEL_a55bc2bdb6f4459e89d79ceec1a5fdff"
      }
     },
     "db1e3c3973aa44a9b4c57dfbc7ad31cd": {
      "model_module": "@jupyter-widgets/base",
      "model_module_version": "1.2.0",
      "model_name": "LayoutModel",
      "state": {}
     },
     "db384168c6a148b6a9134782ea261a7e": {
      "model_module": "@jupyter-widgets/base",
      "model_module_version": "1.2.0",
      "model_name": "LayoutModel",
      "state": {}
     },
     "db7909976ae84bbc9bfb3db5d3a75d36": {
      "model_module": "@jupyter-widgets/base",
      "model_module_version": "1.2.0",
      "model_name": "LayoutModel",
      "state": {}
     },
     "dbb5dea183234b8fa54d22c73cb36cc9": {
      "model_module": "@jupyter-widgets/base",
      "model_module_version": "1.2.0",
      "model_name": "LayoutModel",
      "state": {}
     },
     "dc82d8e3fe914db4ac302a29856316c6": {
      "model_module": "@jupyter-widgets/base",
      "model_module_version": "1.2.0",
      "model_name": "LayoutModel",
      "state": {
       "padding": "20px"
      }
     },
     "dccfffa226a147fd8c64c70e02084d77": {
      "model_module": "@jupyter-widgets/base",
      "model_module_version": "1.2.0",
      "model_name": "LayoutModel",
      "state": {}
     },
     "dd206a1b2b0b4dabbb19555479b3ddbc": {
      "model_module": "@jupyter-widgets/controls",
      "model_module_version": "1.5.0",
      "model_name": "DescriptionStyleModel",
      "state": {
       "description_width": ""
      }
     },
     "dd4aeb3ac0554fce88c7062e75b9b498": {
      "model_module": "@jupyter-widgets/base",
      "model_module_version": "1.2.0",
      "model_name": "LayoutModel",
      "state": {}
     },
     "dd634812a0f04099b4184725af2f4f6b": {
      "model_module": "@jupyter-widgets/base",
      "model_module_version": "1.2.0",
      "model_name": "LayoutModel",
      "state": {}
     },
     "dd926c2894284112b9fc8531fb81ff33": {
      "model_module": "@jupyter-widgets/controls",
      "model_module_version": "1.5.0",
      "model_name": "DescriptionStyleModel",
      "state": {
       "description_width": ""
      }
     },
     "dda9d91f18974f30bf8f376ed3a72c64": {
      "model_module": "@jupyter-widgets/base",
      "model_module_version": "1.2.0",
      "model_name": "LayoutModel",
      "state": {}
     },
     "ddfad60fd03b4047b16a4cd1f2ffc084": {
      "model_module": "@jupyter-widgets/base",
      "model_module_version": "1.2.0",
      "model_name": "LayoutModel",
      "state": {}
     },
     "de06f1dffef54edb96c456415dcffa91": {
      "model_module": "@jupyter-widgets/controls",
      "model_module_version": "1.5.0",
      "model_name": "ButtonStyleModel",
      "state": {}
     },
     "debf1f2395b9413d938b44cb5e498186": {
      "model_module": "@jupyter-widgets/controls",
      "model_module_version": "1.5.0",
      "model_name": "DescriptionStyleModel",
      "state": {
       "description_width": ""
      }
     },
     "dec0f84872c044dfb1dc6afb511b0285": {
      "model_module": "@jupyter-widgets/controls",
      "model_module_version": "1.5.0",
      "model_name": "VBoxModel",
      "state": {
       "children": [
        "IPY_MODEL_615b95331f504f9a830826065edee823",
        "IPY_MODEL_f03585047fb440a5a3f60d0434b314e2"
       ],
       "layout": "IPY_MODEL_db7909976ae84bbc9bfb3db5d3a75d36"
      }
     },
     "dee05f0ac5814f9f8f15c99b5beb3f42": {
      "model_module": "@jupyter-widgets/controls",
      "model_module_version": "1.5.0",
      "model_name": "SliderStyleModel",
      "state": {
       "description_width": ""
      }
     },
     "df059b63fd734d8e81b740cb76f750ee": {
      "model_module": "@jupyter-widgets/controls",
      "model_module_version": "1.5.0",
      "model_name": "ButtonStyleModel",
      "state": {}
     },
     "dfc82508af5f48c19d05522b0e6df53d": {
      "model_module": "@jupyter-widgets/controls",
      "model_module_version": "1.5.0",
      "model_name": "ButtonModel",
      "state": {
       "description": "Clear last",
       "layout": "IPY_MODEL_c5157e55e9d34e05a85f7db89fcdae02",
       "style": "IPY_MODEL_0466536be2114354aed8d712916439db"
      }
     },
     "e175c38da1d84b2c9b2955306b8093bd": {
      "model_module": "@jupyter-widgets/controls",
      "model_module_version": "1.5.0",
      "model_name": "ButtonStyleModel",
      "state": {}
     },
     "e1d2ddfd7bc049e099f219d1a7eb33e2": {
      "model_module": "@jupyter-widgets/base",
      "model_module_version": "1.2.0",
      "model_name": "LayoutModel",
      "state": {}
     },
     "e280a969d43b4f44831877763af6187f": {
      "model_module": "@jupyter-widgets/output",
      "model_module_version": "1.0.0",
      "model_name": "OutputModel",
      "state": {
       "layout": "IPY_MODEL_69592bd829f94507aa2e867876ab1267",
       "outputs": [
        {
         "data": {
          "text/html": "<div style=\"float:left; margin-left: 20px;\"><p><b>5 May 2020</b><br><a href=\"https://www.webarchive.org.uk/wayback/archive/20200508020000mp_/http://bl.uk/\">http://bl.uk</a></p><p><a href=\"screenshots/bl-uk-20200508020000-200.png\"><img src=\"screenshots/bl-uk-20200508020000-200.png\"></a><br><a href=\"screenshots/bl-uk-20200508020000-200.png\">[Download]</a></p></div><div style=\"float:left; margin-left: 20px;\"><p><b>4 January 2020</b><br><a href=\"https://ndhadeliver.natlib.govt.nz/webarchive/wayback/20200130060106/http://natlib.govt.nz/\">http://natlib.govt.nz</a></p><p><a href=\"screenshots/natlib-govt-nz-20200130060106-200.png\"><img src=\"screenshots/natlib-govt-nz-20200130060106-200.png\"></a><br><a href=\"screenshots/natlib-govt-nz-20200130060106-200.png\">[Download]</a></p></div>",
          "text/plain": "<IPython.core.display.HTML object>"
         },
         "metadata": {},
         "output_type": "display_data"
        }
       ]
      }
     },
     "e290e72836654af4bba0a35b6a7564a1": {
      "model_module": "@jupyter-widgets/base",
      "model_module_version": "1.2.0",
      "model_name": "LayoutModel",
      "state": {}
     },
     "e298fa658d1e4c02b8aa9c8771160cb2": {
      "model_module": "@jupyter-widgets/controls",
      "model_module_version": "1.5.0",
      "model_name": "HBoxModel",
      "state": {
       "children": [
        "IPY_MODEL_bc775c4229d04125bfb5438a749ce6c6",
        "IPY_MODEL_1c9ac863f4e3417c9326ece3bc35a1fb"
       ],
       "layout": "IPY_MODEL_04f4acf9eeea4365a21e763a52baa8fa"
      }
     },
     "e2ad335c792c4975ab1244dac09e1958": {
      "model_module": "@jupyter-widgets/base",
      "model_module_version": "1.2.0",
      "model_name": "LayoutModel",
      "state": {}
     },
     "e2bd56ac7ee64dc68280efe802f09614": {
      "model_module": "@jupyter-widgets/controls",
      "model_module_version": "1.5.0",
      "model_name": "VBoxModel",
      "state": {
       "children": [
        "IPY_MODEL_83e0602baa4d47af823bc4737770a5ba",
        "IPY_MODEL_3ca7fcbd86944e2aa76d0ebef3cb1da9"
       ],
       "layout": "IPY_MODEL_7a9a723cee5e4f9ca40067700b1a0fc2"
      }
     },
     "e2dcdb06ba304b089575468712e254b0": {
      "model_module": "@jupyter-widgets/controls",
      "model_module_version": "1.5.0",
      "model_name": "ButtonModel",
      "state": {
       "description": "Clear all",
       "layout": "IPY_MODEL_515172885116490e8b8f6596500f7cb4",
       "style": "IPY_MODEL_bd19dc22efff40128d0d03c9a28fe97e"
      }
     },
     "e357bac8ef54484a9c491da8c13c592f": {
      "model_module": "@jupyter-widgets/controls",
      "model_module_version": "1.5.0",
      "model_name": "ButtonModel",
      "state": {
       "description": "Clear last",
       "layout": "IPY_MODEL_040fac475c044b33a152d75e5419cba9",
       "style": "IPY_MODEL_0c6c246abc084652a501f3acd81fed56"
      }
     },
     "e377cf0bf52546cc9d39f2a106f1b8ba": {
      "model_module": "@jupyter-widgets/controls",
      "model_module_version": "1.5.0",
      "model_name": "VBoxModel",
      "state": {
       "children": [
        "IPY_MODEL_d3dbfc6f36ce4866bdb34da703f0c09f",
        "IPY_MODEL_c05f4c3d241d498cb9653e4d549ec119"
       ],
       "layout": "IPY_MODEL_39c57078680b456b92660ad5d8cb1a81"
      }
     },
     "e38da657975c4d73b372a5649949423f": {
      "model_module": "@jupyter-widgets/controls",
      "model_module_version": "1.5.0",
      "model_name": "ButtonModel",
      "state": {
       "description": "Clear all",
       "layout": "IPY_MODEL_00c7df29784d4edaad2faf638d0eb018",
       "style": "IPY_MODEL_baa6ed8519ac40fea9a3faebf863130d"
      }
     },
     "e39340311a5c40ce81d4037d393e8e52": {
      "model_module": "@jupyter-widgets/output",
      "model_module_version": "1.0.0",
      "model_name": "OutputModel",
      "state": {
       "layout": "IPY_MODEL_cc1ab34b06fb4f6083cbaab236ff8104"
      }
     },
     "e3e80a1260454e65af903cad32f42aae": {
      "model_module": "@jupyter-widgets/base",
      "model_module_version": "1.2.0",
      "model_name": "LayoutModel",
      "state": {}
     },
     "e47429ee910143f886d74f78d7dbae31": {
      "model_module": "@jupyter-widgets/controls",
      "model_module_version": "1.5.0",
      "model_name": "DescriptionStyleModel",
      "state": {
       "description_width": ""
      }
     },
     "e49f778cec5649668695bb7a0bb88e8c": {
      "model_module": "@jupyter-widgets/output",
      "model_module_version": "1.0.0",
      "model_name": "OutputModel",
      "state": {
       "layout": "IPY_MODEL_41e9400a80ed47f382c034a329417987"
      }
     },
     "e4ae94b33170406b90955a4687da3a86": {
      "model_module": "@jupyter-widgets/controls",
      "model_module_version": "1.5.0",
      "model_name": "IntSliderModel",
      "state": {
       "continuous_update": false,
       "description": "Width:",
       "layout": "IPY_MODEL_5f22abc45c7d41fd858ef215fdca4546",
       "max": 1000,
       "min": 200,
       "step": 100,
       "style": "IPY_MODEL_68597142155648c4a91a63bf7b5a24b3",
       "value": 200
      }
     },
     "e4f2242bff9444c9accd18c267e7a4db": {
      "model_module": "@jupyter-widgets/base",
      "model_module_version": "1.2.0",
      "model_name": "LayoutModel",
      "state": {}
     },
     "e549ec07e292438db3692c34933f9377": {
      "model_module": "@jupyter-widgets/controls",
      "model_module_version": "1.5.0",
      "model_name": "ButtonModel",
      "state": {
       "button_style": "primary",
       "description": "Get screenshot",
       "layout": "IPY_MODEL_3a2e76d6e7a44729a39f19e537b222bf",
       "style": "IPY_MODEL_de06f1dffef54edb96c456415dcffa91"
      }
     },
     "e5afa773b534418db98c9531c03916f6": {
      "model_module": "@jupyter-widgets/output",
      "model_module_version": "1.0.0",
      "model_name": "OutputModel",
      "state": {
       "layout": "IPY_MODEL_f9e364e1b08a4fa997e5877c1bdcfe8b"
      }
     },
     "e5d584d22dfe479abba4e267d3b8e514": {
      "model_module": "@jupyter-widgets/base",
      "model_module_version": "1.2.0",
      "model_name": "LayoutModel",
      "state": {}
     },
     "e70d673ce8d94953acbd5bf0b07710f2": {
      "model_module": "@jupyter-widgets/controls",
      "model_module_version": "1.5.0",
      "model_name": "ButtonStyleModel",
      "state": {}
     },
     "e71c683626fa45d38cf1c1c941cb0bd2": {
      "model_module": "@jupyter-widgets/controls",
      "model_module_version": "1.5.0",
      "model_name": "HBoxModel",
      "state": {
       "children": [
        "IPY_MODEL_c866019952994d01bd6caadbd862f271",
        "IPY_MODEL_761c98df592e4d47813ac1cc5ed2d6a5"
       ],
       "layout": "IPY_MODEL_8d39a95a9c5b48868a4da61c714ebe23"
      }
     },
     "e7814e1ac8ef4084900108332aa2c02c": {
      "model_module": "@jupyter-widgets/controls",
      "model_module_version": "1.5.0",
      "model_name": "IntSliderModel",
      "state": {
       "continuous_update": false,
       "description": "Width:",
       "layout": "IPY_MODEL_f5ffc3efff8c41a9b29f0acbdb145371",
       "max": 1000,
       "min": 200,
       "step": 100,
       "style": "IPY_MODEL_53300cfc38474bf99b10e87c26496de3",
       "value": 200
      }
     },
     "e7fdb8d5f8f34fa5b3d2b80fa802d816": {
      "model_module": "@jupyter-widgets/controls",
      "model_module_version": "1.5.0",
      "model_name": "IntSliderModel",
      "state": {
       "continuous_update": false,
       "description": "Width:",
       "layout": "IPY_MODEL_948631545c1647439e1dd3b96c21f355",
       "max": 1000,
       "min": 200,
       "step": 100,
       "style": "IPY_MODEL_540e7e555bef4a499b5db16ff9cb41ab",
       "value": 200
      }
     },
     "e83765cff081405e941760fe82606763": {
      "model_module": "@jupyter-widgets/controls",
      "model_module_version": "1.5.0",
      "model_name": "TextModel",
      "state": {
       "description": "Target URL:",
       "layout": "IPY_MODEL_0910baa8f4944df69d23afb2b7ffb219",
       "style": "IPY_MODEL_4605a81a357c45c8a389df9f245c02c1",
       "value": "http://abc.net.au"
      }
     },
     "e86ba4b3757d4cf386c36b4b1f1f27df": {
      "model_module": "@jupyter-widgets/controls",
      "model_module_version": "1.5.0",
      "model_name": "SliderStyleModel",
      "state": {
       "description_width": ""
      }
     },
     "e87dbc5a069d47e09d7d9cccff59a899": {
      "model_module": "@jupyter-widgets/controls",
      "model_module_version": "1.5.0",
      "model_name": "HBoxModel",
      "state": {
       "children": [
        "IPY_MODEL_30fef3b8ead14b9e85ecf4287f1c3ac8",
        "IPY_MODEL_0ff41f16e765497aa085c9a3be54a3df",
        "IPY_MODEL_3dc3572f0fb5455e9a68cdc474315a40"
       ],
       "layout": "IPY_MODEL_fd8e52dd49c8444f8ca0c2f2095f700d"
      }
     },
     "e89bb2ec9b2a490a8d385a5cb5abf15e": {
      "model_module": "@jupyter-widgets/controls",
      "model_module_version": "1.5.0",
      "model_name": "DescriptionStyleModel",
      "state": {
       "description_width": ""
      }
     },
     "e9e525827d664ad78084b5e1ed830188": {
      "model_module": "@jupyter-widgets/output",
      "model_module_version": "1.0.0",
      "model_name": "OutputModel",
      "state": {
       "layout": "IPY_MODEL_69c80894d4314e31a750f2c84dd364c5",
       "outputs": [
        {
         "data": {
          "text/html": "<div style=\"float:left; margin-left: 20px;\"><p><b>4 January 2020</b><br><a href=\"https://ndhadeliver.natlib.govt.nz/webarchive/wayback/20200130060106/http://natlib.govt.nz/\">http://natlib.govt.nz</a></p><p><a href=\"screenshots/natlib-govt-nz-20200130060106-200.png\"><img src=\"screenshots/natlib-govt-nz-20200130060106-200.png\"></a><br><a href=\"screenshots/natlib-govt-nz-20200130060106-200.png\">[Download]</a></p></div><div style=\"float:left; margin-left: 20px;\"><p><b>3 January 2010</b><br><a href=\"https://ndhadeliver.natlib.govt.nz/webarchive/wayback/20100106060030/http://natlib.govt.nz/\">http://natlib.govt.nz</a></p><p><a href=\"screenshots/natlib-govt-nz-20100106060030-200.png\"><img src=\"screenshots/natlib-govt-nz-20100106060030-200.png\"></a><br><a href=\"screenshots/natlib-govt-nz-20100106060030-200.png\">[Download]</a></p></div><div style=\"float:left; margin-left: 20px;\"><p><b>2 July 2006</b><br><a href=\"https://ndhadeliver.natlib.govt.nz/webarchive/wayback/20060704033135/http://natlib.govt.nz/\">http://natlib.govt.nz</a></p><p><a href=\"screenshots/natlib-govt-nz-20060704033135-200.png\"><img src=\"screenshots/natlib-govt-nz-20060704033135-200.png\"></a><br><a href=\"screenshots/natlib-govt-nz-20060704033135-200.png\">[Download]</a></p></div><div style=\"float:left; margin-left: 20px;\"><p><b>2 February 2000</b><br><a href=\"https://web.archive.org.au/awa/20000229204048mp_/http://www.pm.gov.au:80/\">http://pm.gov.au</a></p><p><a href=\"screenshots/www-pm-gov-au-80-20000229204048-200.png\"><img src=\"screenshots/www-pm-gov-au-80-20000229204048-200.png\"></a><br><a href=\"screenshots/www-pm-gov-au-80-20000229204048-200.png\">[Download]</a></p></div><div style=\"float:left; margin-left: 20px;\"><p><b>5 December 2018</b><br><a href=\"https://web.archive.org.au/awa/20181221095136mp_/https://www.pm.gov.au/\">http://pm.gov.au</a></p><p><a href=\"screenshots/www-pm-gov-au-20181221095136-200.png\"><img src=\"screenshots/www-pm-gov-au-20181221095136-200.png\"></a><br><a href=\"screenshots/www-pm-gov-au-20181221095136-200.png\">[Download]</a></p></div><div style=\"float:left; margin-left: 20px;\"><p><b>5 April 2020</b><br><a href=\"https://web.archive.org.au/awa/20200403051912mp_/https://www.abc.net.au/\">http://abc.net.au</a></p><p><a href=\"screenshots/www-abc-net-au-20200403051912-200.png\"><img src=\"screenshots/www-abc-net-au-20200403051912-200.png\"></a><br><a href=\"screenshots/www-abc-net-au-20200403051912-200.png\">[Download]</a></p></div>",
          "text/plain": "<IPython.core.display.HTML object>"
         },
         "metadata": {},
         "output_type": "display_data"
        }
       ]
      }
     },
     "ea0967ab5d5941a9bff56b80773e128a": {
      "model_module": "@jupyter-widgets/controls",
      "model_module_version": "1.5.0",
      "model_name": "DatePickerModel",
      "state": {
       "description": "Target date: ",
       "disabled": false,
       "layout": "IPY_MODEL_05867c87261d4784ad194c0237ec6bef",
       "style": "IPY_MODEL_5cfb624895bb493f8bbc0d74141708e0"
      }
     },
     "ecf64066f43b4ee3b889ad16e576871c": {
      "model_module": "@jupyter-widgets/controls",
      "model_module_version": "1.5.0",
      "model_name": "DescriptionStyleModel",
      "state": {
       "description_width": ""
      }
     },
     "ed0fe55ed6a14212962339dfa5072bb8": {
      "model_module": "@jupyter-widgets/controls",
      "model_module_version": "1.5.0",
      "model_name": "ButtonStyleModel",
      "state": {}
     },
     "ed143738cc6c4b419322afe591f862b3": {
      "model_module": "@jupyter-widgets/base",
      "model_module_version": "1.2.0",
      "model_name": "LayoutModel",
      "state": {}
     },
     "ed7494751ab84f7bb48a22b81be20e7d": {
      "model_module": "@jupyter-widgets/base",
      "model_module_version": "1.2.0",
      "model_name": "LayoutModel",
      "state": {}
     },
     "edef5fac0ebf41f68330e5647749883b": {
      "model_module": "@jupyter-widgets/base",
      "model_module_version": "1.2.0",
      "model_name": "LayoutModel",
      "state": {}
     },
     "ee3f06e8cd794c0aba9d5f3cc433848c": {
      "model_module": "@jupyter-widgets/base",
      "model_module_version": "1.2.0",
      "model_name": "LayoutModel",
      "state": {}
     },
     "eea7ef0cf7c0448cb7c49ddb6b72d40e": {
      "model_module": "@jupyter-widgets/base",
      "model_module_version": "1.2.0",
      "model_name": "LayoutModel",
      "state": {}
     },
     "eee706c6c1a244c08870038adaf5fdda": {
      "model_module": "@jupyter-widgets/base",
      "model_module_version": "1.2.0",
      "model_name": "LayoutModel",
      "state": {}
     },
     "ef0c7492f82c461990003a629eda36fd": {
      "model_module": "@jupyter-widgets/output",
      "model_module_version": "1.0.0",
      "model_name": "OutputModel",
      "state": {
       "layout": "IPY_MODEL_07b09576df744a578d3cf00de0f1ee81"
      }
     },
     "ef97f07e7f7c4c4c81a32ec81c4eafac": {
      "model_module": "@jupyter-widgets/controls",
      "model_module_version": "1.5.0",
      "model_name": "ButtonModel",
      "state": {
       "button_style": "primary",
       "description": "Get screenshot",
       "layout": "IPY_MODEL_434e16df159c4fbfb6efe4019d36e38e",
       "style": "IPY_MODEL_6da5a3be187644d6b945bbd44c3537d6"
      }
     },
     "efa5bfec19c940ae8b25216cbb05bde7": {
      "model_module": "@jupyter-widgets/controls",
      "model_module_version": "1.5.0",
      "model_name": "DescriptionStyleModel",
      "state": {
       "description_width": ""
      }
     },
     "eff90cc402834b6d8b5d34172716bc05": {
      "model_module": "@jupyter-widgets/base",
      "model_module_version": "1.2.0",
      "model_name": "LayoutModel",
      "state": {}
     },
     "f001773cbefa44a2944800d3f1fe59b9": {
      "model_module": "@jupyter-widgets/base",
      "model_module_version": "1.2.0",
      "model_name": "LayoutModel",
      "state": {}
     },
     "f03585047fb440a5a3f60d0434b314e2": {
      "model_module": "@jupyter-widgets/controls",
      "model_module_version": "1.5.0",
      "model_name": "DatePickerModel",
      "state": {
       "description": "Target date: ",
       "disabled": false,
       "layout": "IPY_MODEL_a4e265a2d388499d820f7515a861e3bc",
       "style": "IPY_MODEL_d2cf6ae4c8ac4c719b1cfc2dcf23c2b3",
       "value": {
        "date": 29,
        "month": 2,
        "year": 2013
       }
      }
     },
     "f05f79ba132e4f6e86611ca135cb51a4": {
      "model_module": "@jupyter-widgets/controls",
      "model_module_version": "1.5.0",
      "model_name": "ButtonModel",
      "state": {
       "button_style": "primary",
       "description": "Get screenshot",
       "layout": "IPY_MODEL_db384168c6a148b6a9134782ea261a7e",
       "style": "IPY_MODEL_5129a4cea56c40e6b4de95ef8355e19d"
      }
     },
     "f10251e45b9d4affbd12d23d6f227781": {
      "model_module": "@jupyter-widgets/controls",
      "model_module_version": "1.5.0",
      "model_name": "ButtonModel",
      "state": {
       "button_style": "primary",
       "description": "Get screenshot",
       "layout": "IPY_MODEL_b4c656e8710f4df2b5ecc3fe4a55c6bf",
       "style": "IPY_MODEL_174bcaf993b4427296ad91974cf9e059"
      }
     },
     "f1432b430c5c48c4a0ba89140db9161e": {
      "model_module": "@jupyter-widgets/controls",
      "model_module_version": "1.5.0",
      "model_name": "ButtonStyleModel",
      "state": {}
     },
     "f15bc7cf77094a0bb5e8bf9c2a180b0e": {
      "model_module": "@jupyter-widgets/controls",
      "model_module_version": "1.5.0",
      "model_name": "DescriptionStyleModel",
      "state": {
       "description_width": ""
      }
     },
     "f193979123d34144a172bd55d5681346": {
      "model_module": "@jupyter-widgets/controls",
      "model_module_version": "1.5.0",
      "model_name": "ButtonModel",
      "state": {
       "button_style": "primary",
       "description": "Get screenshot",
       "layout": "IPY_MODEL_2fe0445e6c974ecd932e8cc48abf99b6",
       "style": "IPY_MODEL_a9d0c51fd01a4e8cbcaf5f13b9ab2d50"
      }
     },
     "f19b99b22b6c42e7b47b94a6ab67e3a5": {
      "model_module": "@jupyter-widgets/controls",
      "model_module_version": "1.5.0",
      "model_name": "DropdownModel",
      "state": {
       "_options_labels": [
        "---",
        "UK Web Archive",
        "National Library of Australia",
        "National Library of New Zealand",
        "Internet Archive"
       ],
       "description": "Archive:",
       "index": 2,
       "layout": "IPY_MODEL_0790861e058f4add873cea2a020eaa2f",
       "style": "IPY_MODEL_f9878625e98243868500a6fdfe5dc90a"
      }
     },
     "f1eea3af5c0246eea9a7cc5d545f20fa": {
      "model_module": "@jupyter-widgets/controls",
      "model_module_version": "1.5.0",
      "model_name": "DescriptionStyleModel",
      "state": {
       "description_width": ""
      }
     },
     "f21885a1d66a430a922d28fa737fdd82": {
      "model_module": "@jupyter-widgets/base",
      "model_module_version": "1.2.0",
      "model_name": "LayoutModel",
      "state": {
       "padding": "20px"
      }
     },
     "f22a4abfe0d040ee98100e6d08c15b27": {
      "model_module": "@jupyter-widgets/base",
      "model_module_version": "1.2.0",
      "model_name": "LayoutModel",
      "state": {}
     },
     "f27815b2afd949a38f48c8333b651b11": {
      "model_module": "@jupyter-widgets/controls",
      "model_module_version": "1.5.0",
      "model_name": "DescriptionStyleModel",
      "state": {
       "description_width": ""
      }
     },
     "f2b9a483ce0c4f04be14c11a5b424839": {
      "model_module": "@jupyter-widgets/controls",
      "model_module_version": "1.5.0",
      "model_name": "ButtonStyleModel",
      "state": {}
     },
     "f2f86cf7d2824b98b9d1d97384660b0f": {
      "model_module": "@jupyter-widgets/controls",
      "model_module_version": "1.5.0",
      "model_name": "VBoxModel",
      "state": {
       "children": [
        "IPY_MODEL_4fa9711e9cd84868a2895824fa66d1b4",
        "IPY_MODEL_c42032f13de049c388ba141702dbd4b2"
       ],
       "layout": "IPY_MODEL_b74915be35c4431181240b91ac674221"
      }
     },
     "f39cee39537f42f4b6aba85894feadf9": {
      "model_module": "@jupyter-widgets/controls",
      "model_module_version": "1.5.0",
      "model_name": "VBoxModel",
      "state": {
       "children": [
        "IPY_MODEL_b109f2636c5e4553bc2b9e5f6ffd7f39",
        "IPY_MODEL_49dbcd4b9dcd4005be61739ad687f206"
       ],
       "layout": "IPY_MODEL_23ad1930a051430b95d982297605871a"
      }
     },
     "f3acabeb37b449e9b7d15bf985f58fc8": {
      "model_module": "@jupyter-widgets/controls",
      "model_module_version": "1.5.0",
      "model_name": "TextModel",
      "state": {
       "description": "Target URL:",
       "layout": "IPY_MODEL_c9cf381f974446a6a20b87659116bf0e",
       "style": "IPY_MODEL_0a8e957034c94c08b606eeae1360aab4",
       "value": "http://bl.uk"
      }
     },
     "f41f47583cb64a63b474be7cb635bb68": {
      "model_module": "@jupyter-widgets/controls",
      "model_module_version": "1.5.0",
      "model_name": "DropdownModel",
      "state": {
       "_options_labels": [
        "---",
        "UK Web Archive",
        "National Library of Australia",
        "National Library of New Zealand",
        "Internet Archive"
       ],
       "description": "Archive:",
       "index": 0,
       "layout": "IPY_MODEL_68fce4695b8f4b678f736ff1f4040bb5",
       "style": "IPY_MODEL_cebd6edbc09f445e872e96d0de5caec5"
      }
     },
     "f442e227169147eea9e6a0bba1498635": {
      "model_module": "@jupyter-widgets/controls",
      "model_module_version": "1.5.0",
      "model_name": "ButtonStyleModel",
      "state": {}
     },
     "f443f4bc0fe8474c9cb0f3f1ebcd5d13": {
      "model_module": "@jupyter-widgets/controls",
      "model_module_version": "1.5.0",
      "model_name": "TextModel",
      "state": {
       "description": "Target URL:",
       "layout": "IPY_MODEL_1f883a97b3f64af09a1932d6ed69689e",
       "style": "IPY_MODEL_5ad058957e704df49a8886fe7c9d9c94",
       "value": "http://discontents.com.au"
      }
     },
     "f45d089a154a4ad7b54aac20d4fc639a": {
      "model_module": "@jupyter-widgets/base",
      "model_module_version": "1.2.0",
      "model_name": "LayoutModel",
      "state": {}
     },
     "f4a6282b8cc1419bb377b4fa251c74e1": {
      "model_module": "@jupyter-widgets/base",
      "model_module_version": "1.2.0",
      "model_name": "LayoutModel",
      "state": {}
     },
     "f4f4c2833c974e49b7cfa7bffbc7a69f": {
      "model_module": "@jupyter-widgets/base",
      "model_module_version": "1.2.0",
      "model_name": "LayoutModel",
      "state": {}
     },
     "f5a345106e5c4892b59777a9f0d9efea": {
      "model_module": "@jupyter-widgets/controls",
      "model_module_version": "1.5.0",
      "model_name": "ButtonStyleModel",
      "state": {}
     },
     "f5f6a34b89fd4d4a80a344089f2f86b2": {
      "model_module": "@jupyter-widgets/controls",
      "model_module_version": "1.5.0",
      "model_name": "TextModel",
      "state": {
       "description": "Target URL:",
       "layout": "IPY_MODEL_842f70d11e49485391ddab893f2a8544",
       "style": "IPY_MODEL_a90a590a926b4cae9bb816cb1ebac585",
       "value": "https://web.archive.org.au/awa-nobanner/20130328232628/http://www.pm.gov.au/"
      }
     },
     "f5ffc3efff8c41a9b29f0acbdb145371": {
      "model_module": "@jupyter-widgets/base",
      "model_module_version": "1.2.0",
      "model_name": "LayoutModel",
      "state": {}
     },
     "f6423268a13b48c8a09009de0fff458c": {
      "model_module": "@jupyter-widgets/controls",
      "model_module_version": "1.5.0",
      "model_name": "ButtonModel",
      "state": {
       "description": "Clear all",
       "layout": "IPY_MODEL_ce65003f25294a85837d6e058e6d2e16",
       "style": "IPY_MODEL_0b93b64888694d4e9c3d5ca6807a645d"
      }
     },
     "f72012c5c5084259b0b418c46d120205": {
      "model_module": "@jupyter-widgets/base",
      "model_module_version": "1.2.0",
      "model_name": "LayoutModel",
      "state": {}
     },
     "f87873f71a9f413689601967ce6e674c": {
      "model_module": "@jupyter-widgets/controls",
      "model_module_version": "1.5.0",
      "model_name": "SliderStyleModel",
      "state": {
       "description_width": ""
      }
     },
     "f9205f6e26d042899acd172b757ab5e6": {
      "model_module": "@jupyter-widgets/base",
      "model_module_version": "1.2.0",
      "model_name": "LayoutModel",
      "state": {}
     },
     "f9878625e98243868500a6fdfe5dc90a": {
      "model_module": "@jupyter-widgets/controls",
      "model_module_version": "1.5.0",
      "model_name": "DescriptionStyleModel",
      "state": {
       "description_width": ""
      }
     },
     "f9bf9162687e4ab7804749e175cb79d7": {
      "model_module": "@jupyter-widgets/base",
      "model_module_version": "1.2.0",
      "model_name": "LayoutModel",
      "state": {}
     },
     "f9c22670f7db45debd46bff15a5c8187": {
      "model_module": "@jupyter-widgets/controls",
      "model_module_version": "1.5.0",
      "model_name": "VBoxModel",
      "state": {
       "children": [
        "IPY_MODEL_5ff9c308697a4d0081be17807a415abd",
        "IPY_MODEL_1de94384d9434f69affb79c778275381"
       ],
       "layout": "IPY_MODEL_edef5fac0ebf41f68330e5647749883b"
      }
     },
     "f9e364e1b08a4fa997e5877c1bdcfe8b": {
      "model_module": "@jupyter-widgets/base",
      "model_module_version": "1.2.0",
      "model_name": "LayoutModel",
      "state": {}
     },
     "fadce508044544b29e3df4c49bcdf675": {
      "model_module": "@jupyter-widgets/base",
      "model_module_version": "1.2.0",
      "model_name": "LayoutModel",
      "state": {}
     },
     "fc5024bbe36541f6bc48ef0e434ef5ad": {
      "model_module": "@jupyter-widgets/base",
      "model_module_version": "1.2.0",
      "model_name": "LayoutModel",
      "state": {}
     },
     "fc58afbe1f4a4794a117c51f9138a083": {
      "model_module": "@jupyter-widgets/controls",
      "model_module_version": "1.5.0",
      "model_name": "ButtonStyleModel",
      "state": {}
     },
     "fd10939fc619465383c0a9087104584a": {
      "model_module": "@jupyter-widgets/controls",
      "model_module_version": "1.5.0",
      "model_name": "ButtonStyleModel",
      "state": {}
     },
     "fd2406d6831a469aa073f527e639ea4c": {
      "model_module": "@jupyter-widgets/output",
      "model_module_version": "1.0.0",
      "model_name": "OutputModel",
      "state": {
       "layout": "IPY_MODEL_901e921a26d4464f8afa72c67e35e5fb"
      }
     },
     "fd24cfae5b844bb58851775aa06e4951": {
      "model_module": "@jupyter-widgets/base",
      "model_module_version": "1.2.0",
      "model_name": "LayoutModel",
      "state": {}
     },
     "fd58c34f7498412b8f6434be562c1cdc": {
      "model_module": "@jupyter-widgets/base",
      "model_module_version": "1.2.0",
      "model_name": "LayoutModel",
      "state": {}
     },
     "fd8e52dd49c8444f8ca0c2f2095f700d": {
      "model_module": "@jupyter-widgets/base",
      "model_module_version": "1.2.0",
      "model_name": "LayoutModel",
      "state": {}
     },
     "fe9bf08162ca42d8b0eecdeccd440987": {
      "model_module": "@jupyter-widgets/base",
      "model_module_version": "1.2.0",
      "model_name": "LayoutModel",
      "state": {}
     },
     "ff43d85ff81146d89504733f2f8a148c": {
      "model_module": "@jupyter-widgets/controls",
      "model_module_version": "1.5.0",
      "model_name": "VBoxModel",
      "state": {
       "children": [
        "IPY_MODEL_0988883ae10c4a8290e222d3bac9e1f6",
        "IPY_MODEL_3f3102c548764901ab064310ac97fab1"
       ],
       "layout": "IPY_MODEL_a86fabe22fa548139b344b04f576664e"
      }
     },
     "ff5bc2a7a6c540bb98daf578ce290833": {
      "model_module": "@jupyter-widgets/controls",
      "model_module_version": "1.5.0",
      "model_name": "HBoxModel",
      "state": {
       "children": [
        "IPY_MODEL_359e952722194d7a86f4dd0beb49ff8e",
        "IPY_MODEL_5324cf10135344e396c97c99dcf32cd2"
       ],
       "layout": "IPY_MODEL_c699470e7ed9440584cd732fdfe36d82"
      }
     },
     "ff6753656d1a459381d3961232d0e2df": {
      "model_module": "@jupyter-widgets/controls",
      "model_module_version": "1.5.0",
      "model_name": "TextModel",
      "state": {
       "description": "Target URL:",
       "layout": "IPY_MODEL_a59a0726b2ee4502b480f8bfef645fa4",
       "style": "IPY_MODEL_4ad720f9d18e49268ba5bf926610c63a",
       "value": "http://pm.gov.au"
      }
     }
    },
    "version_major": 2,
    "version_minor": 0
   }
  }
 },
 "nbformat": 4,
 "nbformat_minor": 4
}
