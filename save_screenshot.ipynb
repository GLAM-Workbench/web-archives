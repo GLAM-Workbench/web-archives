{
 "cells": [
  {
   "cell_type": "markdown",
   "metadata": {},
   "source": [
    "# Get full page screenshots from archived web pages"
   ]
  },
  {
   "cell_type": "code",
   "execution_count": null,
   "metadata": {},
   "outputs": [],
   "source": [
    "from selenium import webdriver\n",
    "import requests\n",
    "import selenium\n",
    "from PIL import Image\n",
    "import PIL\n",
    "import io\n",
    "import base64\n",
    "import time\n",
    "import re\n",
    "import arrow\n",
    "from slugify import slugify\n",
    "from webdriverdownloader import GeckoDriverDownloader\n",
    "from pathlib import Path\n",
    "from IPython.display import display, HTML\n",
    "from urllib.parse import urlparse\n",
    "import ipywidgets as widgets\n",
    "\n",
    "gdd = GeckoDriverDownloader()\n",
    "geckodriver = gdd.download_and_install(\"v0.26.0\")[1]"
   ]
  },
  {
   "cell_type": "code",
   "execution_count": null,
   "metadata": {},
   "outputs": [],
   "source": [
    "TIMEGATES = {\n",
    "    'nla': 'https://web.archive.org.au/awa/',\n",
    "    'nlnz': 'https://ndhadeliver.natlib.govt.nz/webarchive/wayback/',\n",
    "    'bl': 'https://www.webarchive.org.uk/wayback/archive/',\n",
    "    'ia': 'https://web.archive.org/web/'\n",
    "}\n",
    "\n",
    "pywb = ['webarchive.org.uk', 'web.archive.org.au', 'webarchive.nla.gov.au']\n",
    "wayback = ['ndhadeliver.natlib.govt.nz', 'web.archive.org']\n",
    "\n",
    "html_output = ''\n",
    "\n",
    "def format_date_for_headers(iso_date, tz):\n",
    "    '''\n",
    "    Convert an ISO date (YYYY-MM-DD) to a datetime at noon in the specified timezone.\n",
    "    Convert the datetime to UTC and format as required by Accet-Datetime headers:\n",
    "    eg Fri, 23 Mar 2007 01:00:00 GMT\n",
    "    '''\n",
    "    local = arrow.get(f'{iso_date} 12:00:00 {tz}', 'YYYY-MM-DD HH:mm:ss ZZZ')\n",
    "    gmt = local.to('utc')\n",
    "    return f'{gmt.format(\"ddd, DD MMM YYYY HH:mm:ss\")} GMT'\n",
    "\n",
    "def format_date_from_timestamp(url):\n",
    "    timestamp = re.search(r'/(\\d{14})(?:if_|mp_)*/', url).group(1)\n",
    "    return arrow.get(timestamp, 'YYYYMMDDHHmmss').format('d MMMM YYYY')\n",
    "\n",
    "def parse_links_from_headers(headers):\n",
    "    '''\n",
    "    Extract original, timegate, timemap, and memento links from 'Link' header.\n",
    "    '''\n",
    "    memento_links = {}\n",
    "    try:\n",
    "        links = re.findall(r'<(.*?)>; rel=\"(original|timegate|timemap|memento|first memento|prev memento|next memento|last memento)\"', headers['Link'])\n",
    "    except KeyError:\n",
    "        print(headers)\n",
    "        return None\n",
    "    else:\n",
    "        for url, url_type in links:\n",
    "            memento_links[url_type] = url\n",
    "        return memento_links\n",
    "\n",
    "def query_timegate(timegate, url, date=None, tz='Australia/Canberra'):\n",
    "    headers = {}\n",
    "    if date:\n",
    "        formatted_date = format_date_for_headers(date, tz)\n",
    "        headers['Accept-Datetime'] = formatted_date\n",
    "    # BL & NLNZ don't seem to default to latest date if no date supplied\n",
    "    elif not date and timegate in ['bl', 'nlnz']:\n",
    "        formatted_date = format_date_for_headers(arrow.utcnow().format('YYYY-MM-DD'), tz)\n",
    "        headers['Accept-Datetime'] = formatted_date\n",
    "    # Note that you don't get a timegate response if you leave off the trailing slash, but extras don't hurt!\n",
    "    tg_url = f'{TIMEGATES[timegate]}{url}/' if not url.endswith('/') else f'{TIMEGATES[timegate]}{url}'\n",
    "    print(tg_url)\n",
    "    # IA doesn't work with head, others don't work with get...\n",
    "    if timegate == 'ia':\n",
    "        response = requests.get(tg_url, headers=headers)\n",
    "    else:\n",
    "        response = requests.head(tg_url, headers=headers)\n",
    "    return parse_links_from_headers(response.headers)\n",
    "\n",
    "def get_memento():\n",
    "    links = query_timegate(repository.value, target_url.value, target_date.value)\n",
    "    # NLNZ doesn't always seem to return a Memento, so we'll build in some fuzziness\n",
    "    if links:\n",
    "        if 'memento' in links:\n",
    "            memento = links['memento']\n",
    "        elif 'prev memento' in links:\n",
    "            memento = links['prev memento']\n",
    "        elif 'next memento' in links:\n",
    "            memento = links['next memento']\n",
    "        elif 'last memento' in links:\n",
    "            memento = links['last memento']\n",
    "    else:\n",
    "        memento = None\n",
    "    return memento\n",
    "    \n",
    "def get_full_page_screenshot(url, save_width=200):\n",
    "    '''\n",
    "    Gets a full page screenshot of the supplied url.\n",
    "    By default resizes the screenshot to a maximum width of 200px.\n",
    "    Provide a 'save_width' value to change this.\n",
    "    \n",
    "    NOTE the webdriver sometimes fails for unknown reasons. Just try again.\n",
    "    '''\n",
    "    global html_output\n",
    "    domain = urlparse(url)[1].replace('www.', '')\n",
    "    # NZ and IA inject content into the page, so we use if_ to get the original page (with rewritten urls)\n",
    "    if domain in wayback and 'if_' not in url:\n",
    "        url = re.sub(r'/(\\d{14})/http', r'/\\1if_/http', url)\n",
    "    try:\n",
    "        date_str, site = re.search(r'/(\\d{14})(?:if_|mp_)*/https*://(.+/)', url).groups()\n",
    "    except AttributeError:\n",
    "        # There's something wrong with the link...\n",
    "        print(url)\n",
    "        status.clear_output()\n",
    "        with status:\n",
    "            print('Something went wrong, did you select an archive?')\n",
    "    else:\n",
    "        ss_file = Path('screenshots', f'{slugify(site)}-{date_str}-{save_width}.png')\n",
    "        options = webdriver.FirefoxOptions()\n",
    "        options.headless = True\n",
    "        driver = webdriver.Firefox(executable_path=geckodriver, options=options)\n",
    "        driver.implicitly_wait(30)\n",
    "        driver.get(url)\n",
    "        # Give some time for everything to load\n",
    "        time.sleep(10)\n",
    "        driver.maximize_window()\n",
    "        current_width = driver.get_window_size()['width']\n",
    "        # UK and AU use pywb in framed replay mode, so we need to switch to the framed content\n",
    "        if domain in pywb:\n",
    "            driver.switch_to.frame(0)\n",
    "        try:\n",
    "            ss = driver.find_element_by_tag_name('body').screenshot_as_base64\n",
    "        except selenium.common.exceptions.NoSuchElementException:\n",
    "            ss = driver.find_element_by_tag_name('frameset').screenshot_as_base64\n",
    "        driver.quit()\n",
    "        img = Image.open(io.BytesIO(base64.b64decode(ss)))\n",
    "        ratio = save_width / current_width\n",
    "        (width, height) = (round(img.width * ratio), round(img.height * ratio))\n",
    "        resized_img = img.resize((width, height), PIL.Image.LANCZOS)\n",
    "        resized_img.save(ss_file)\n",
    "        date = format_date_from_timestamp(url)\n",
    "        status.clear_output()\n",
    "        html_output += f'<div style=\"float:left; margin-left: 20px;\"><p><b>{date}</b></p><p><a href=\"{ss_file}\"><img src=\"{ss_file}\"></a></p></div>'\n",
    "        with out:\n",
    "            display((HTML(html_output)))\n",
    "        \n",
    "def start(e):\n",
    "    status.clear_output()\n",
    "    out.clear_output(wait=True)\n",
    "    with status:\n",
    "        print('Generating screenshot...')\n",
    "    if repository.value:\n",
    "        memento = get_memento()\n",
    "    else:\n",
    "        memento = target_url.value\n",
    "    if memento:\n",
    "        get_full_page_screenshot(memento, save_width=width.value)\n",
    "    else:\n",
    "        status.clear_output()\n",
    "        with status:\n",
    "            print('Something went wrong, sorry...')\n",
    "    \n",
    "def clear(e):\n",
    "    global html_output\n",
    "    html_output = ''\n",
    "    status.clear_output()\n",
    "    out.clear_output()\n",
    "\n",
    "repository = widgets.Dropdown(\n",
    "    options=[('---', ''), ('UK Web Archive', 'bl'), ('National Library of Australia', 'nla'), ('National Library of New Zealand', 'nlnz'), ('Internet Archive', 'ia')],\n",
    "    description='Archive:',\n",
    "    disabled=False,\n",
    ")\n",
    "\n",
    "target_url = widgets.Text(description='Target URL:')\n",
    "\n",
    "target_date = widgets.DatePicker(\n",
    "    description='Target date: ',\n",
    "    disabled=False\n",
    ")\n",
    "\n",
    "width = widgets.IntSlider(\n",
    "    value=7,\n",
    "    min=200,\n",
    "    max=1000,\n",
    "    step=100,\n",
    "    description='Width:',\n",
    "    disabled=False,\n",
    "    continuous_update=False,\n",
    "    orientation='horizontal',\n",
    "    readout=True,\n",
    "    readout_format='d'\n",
    ")\n",
    "\n",
    "out = widgets.Output()\n",
    "status = widgets.Output()\n",
    "ss_button = widgets.Button(description='Get screenshot', button_style='primary')\n",
    "ss_button.on_click(start)\n",
    "clear_button = widgets.Button(description='Clear')\n",
    "clear_button.on_click(clear)\n",
    "note = '''\n",
    "    <ul>\n",
    "    <li>Select a repository, and insert a url to generate a screenshot from the archive.</li>\n",
    "    <li>If you include a date, it\\'ll attempt to find the closest capture using Memento Timegates.</li>\n",
    "    <li>If you don't include a date, it'll give you the most recent capture.</li>\n",
    "    <li>If you already have the url of the exact capture you want, just put it in the 'Target url' box and leave 'Archive' and 'Target date' blank.\n",
    "    <li>You can add multiple screenshots to compare changes.</li>\n",
    "    </ul>\n",
    "    '''\n",
    "display(HTML(note), widgets.HBox([widgets.VBox([repository, target_date]), widgets.VBox([target_url, width])], layout=widgets.Layout(padding='20px')), widgets.HBox([ss_button, clear_button]), status, out)"
   ]
  },
  {
   "cell_type": "markdown",
   "metadata": {},
   "source": [
    "----\n",
    "\n",
    "Work on this notebook was supported by the [IIPC Discretionary Funding Programme 2019-2020](http://netpreserve.org/projects/)"
   ]
  }
 ],
 "metadata": {
  "kernelspec": {
   "display_name": "Python 3",
   "language": "python",
   "name": "python3"
  },
  "language_info": {
   "codemirror_mode": {
    "name": "ipython",
    "version": 3
   },
   "file_extension": ".py",
   "mimetype": "text/x-python",
   "name": "python",
   "nbconvert_exporter": "python",
   "pygments_lexer": "ipython3",
   "version": "3.7.3"
  },
  "widgets": {
   "application/vnd.jupyter.widget-state+json": {
    "state": {
     "01319beb4b684cfa908a032ebb6efddc": {
      "model_module": "@jupyter-widgets/controls",
      "model_module_version": "1.5.0",
      "model_name": "DescriptionStyleModel",
      "state": {
       "description_width": ""
      }
     },
     "030a1eac2f304385949626c48b3ab862": {
      "model_module": "@jupyter-widgets/base",
      "model_module_version": "1.2.0",
      "model_name": "LayoutModel",
      "state": {}
     },
     "033c3471942748a589c04b4a21f4afa5": {
      "model_module": "@jupyter-widgets/base",
      "model_module_version": "1.2.0",
      "model_name": "LayoutModel",
      "state": {}
     },
     "065c05ce9acc4c0b990b9f6d531e5d18": {
      "model_module": "@jupyter-widgets/controls",
      "model_module_version": "1.5.0",
      "model_name": "VBoxModel",
      "state": {
       "children": [
        "IPY_MODEL_3031703b847843d783c5d4fd14c89a85",
        "IPY_MODEL_45f4c905f6314703aeea1ced8c746434"
       ],
       "layout": "IPY_MODEL_3bb00f791e6042cfbb4a7ba387366b11"
      }
     },
     "07b64ede95114c8eb794ffe77e8794b8": {
      "model_module": "@jupyter-widgets/controls",
      "model_module_version": "1.5.0",
      "model_name": "DropdownModel",
      "state": {
       "_options_labels": [
        "---",
        "UK Web Archive",
        "National Library of Australia",
        "National Library of New Zealand",
        "Internet Archive"
       ],
       "description": "Archive:",
       "index": 2,
       "layout": "IPY_MODEL_3d094f19626f49f9b6086b7895f21933",
       "style": "IPY_MODEL_0db232342f0a4d7d9a0fdbdd0cffde47"
      }
     },
     "07e94713e0db4aae8391ea9fe04d4596": {
      "model_module": "@jupyter-widgets/base",
      "model_module_version": "1.2.0",
      "model_name": "LayoutModel",
      "state": {
       "padding": "20px"
      }
     },
     "08ce96699bca40b1b44cb001c151be42": {
      "model_module": "@jupyter-widgets/controls",
      "model_module_version": "1.5.0",
      "model_name": "HBoxModel",
      "state": {
       "children": [
        "IPY_MODEL_6e4f1e057c25482c9be1b444951e687d",
        "IPY_MODEL_bfc8cc4fe6444fca871bbabf25de8950"
       ],
       "layout": "IPY_MODEL_85d0e2d1b356405f954d32c70ccda533"
      }
     },
     "0d6105744f084ae586183b21374e9a5b": {
      "model_module": "@jupyter-widgets/controls",
      "model_module_version": "1.5.0",
      "model_name": "ButtonModel",
      "state": {
       "description": "Clear",
       "layout": "IPY_MODEL_945cea032a304f739ed7667e9ce5a42d",
       "style": "IPY_MODEL_3e0f67c6420941e78ae498da9d93a73a"
      }
     },
     "0db232342f0a4d7d9a0fdbdd0cffde47": {
      "model_module": "@jupyter-widgets/controls",
      "model_module_version": "1.5.0",
      "model_name": "DescriptionStyleModel",
      "state": {
       "description_width": ""
      }
     },
     "17b782e4e2244ffc8b6fdeb23fecaf3b": {
      "model_module": "@jupyter-widgets/controls",
      "model_module_version": "1.5.0",
      "model_name": "SliderStyleModel",
      "state": {
       "description_width": ""
      }
     },
     "18e8e480ad954b0082ef3adf77264e0e": {
      "model_module": "@jupyter-widgets/controls",
      "model_module_version": "1.5.0",
      "model_name": "VBoxModel",
      "state": {
       "children": [
        "IPY_MODEL_07b64ede95114c8eb794ffe77e8794b8",
        "IPY_MODEL_6d4cca5fca334d7387d6c76fe0c85281"
       ],
       "layout": "IPY_MODEL_980c6580d7ce4519a5f10041e7350f6c"
      }
     },
     "1e0ca94e4dce4006843c8985c92d9b99": {
      "model_module": "@jupyter-widgets/controls",
      "model_module_version": "1.5.0",
      "model_name": "ButtonStyleModel",
      "state": {}
     },
     "1fe04b0268b942f69e0beb6053caa64d": {
      "model_module": "@jupyter-widgets/base",
      "model_module_version": "1.2.0",
      "model_name": "LayoutModel",
      "state": {}
     },
     "2005151138664424baa4112ae8202e29": {
      "model_module": "@jupyter-widgets/controls",
      "model_module_version": "1.5.0",
      "model_name": "HBoxModel",
      "state": {
       "children": [
        "IPY_MODEL_9f5388f28c0e4a5189a47cda3ba9d533",
        "IPY_MODEL_0d6105744f084ae586183b21374e9a5b"
       ],
       "layout": "IPY_MODEL_b5f026fa28cc4338b1509e0764bcc306"
      }
     },
     "2f93b757973f4c41a666a12aeafc6858": {
      "model_module": "@jupyter-widgets/controls",
      "model_module_version": "1.5.0",
      "model_name": "TextModel",
      "state": {
       "description": "Target URL:",
       "layout": "IPY_MODEL_5012a73071a743b3a00517bba09b1ddb",
       "style": "IPY_MODEL_a53f927d965348adae734afe0d2a1bd1",
       "value": "http://nla.gov.au"
      }
     },
     "3031703b847843d783c5d4fd14c89a85": {
      "model_module": "@jupyter-widgets/controls",
      "model_module_version": "1.5.0",
      "model_name": "TextModel",
      "state": {
       "description": "Target URL:",
       "layout": "IPY_MODEL_607c13a9e88843ab99bf9b31248ff8ac",
       "style": "IPY_MODEL_01319beb4b684cfa908a032ebb6efddc"
      }
     },
     "348e49ccc3514c34a3e7f7d974f552a0": {
      "model_module": "@jupyter-widgets/base",
      "model_module_version": "1.2.0",
      "model_name": "LayoutModel",
      "state": {}
     },
     "36377088c8134094b03a9343029632a0": {
      "model_module": "@jupyter-widgets/controls",
      "model_module_version": "1.5.0",
      "model_name": "TextModel",
      "state": {
       "description": "Target URL:",
       "layout": "IPY_MODEL_4bd8f31d358d4838b7adeacf47487f7d",
       "style": "IPY_MODEL_c431a771c13a41a3b46e74b85a0b16db",
       "value": "http://abc.net.au"
      }
     },
     "39a69c8d5309484e8ef6a662cee165fc": {
      "model_module": "@jupyter-widgets/base",
      "model_module_version": "1.2.0",
      "model_name": "LayoutModel",
      "state": {
       "padding": "20px"
      }
     },
     "3b88db0df8d84fad888443a17df469a1": {
      "model_module": "@jupyter-widgets/base",
      "model_module_version": "1.2.0",
      "model_name": "LayoutModel",
      "state": {}
     },
     "3bb00f791e6042cfbb4a7ba387366b11": {
      "model_module": "@jupyter-widgets/base",
      "model_module_version": "1.2.0",
      "model_name": "LayoutModel",
      "state": {}
     },
     "3d094f19626f49f9b6086b7895f21933": {
      "model_module": "@jupyter-widgets/base",
      "model_module_version": "1.2.0",
      "model_name": "LayoutModel",
      "state": {}
     },
     "3e0f67c6420941e78ae498da9d93a73a": {
      "model_module": "@jupyter-widgets/controls",
      "model_module_version": "1.5.0",
      "model_name": "ButtonStyleModel",
      "state": {}
     },
     "3f8c5aa4931c45c6b3f81aaa58110871": {
      "model_module": "@jupyter-widgets/controls",
      "model_module_version": "1.5.0",
      "model_name": "DatePickerModel",
      "state": {
       "description": "Target date: ",
       "disabled": false,
       "layout": "IPY_MODEL_033c3471942748a589c04b4a21f4afa5",
       "style": "IPY_MODEL_40613ccaef564c339bd7bdb985059d3a"
      }
     },
     "40613ccaef564c339bd7bdb985059d3a": {
      "model_module": "@jupyter-widgets/controls",
      "model_module_version": "1.5.0",
      "model_name": "DescriptionStyleModel",
      "state": {
       "description_width": ""
      }
     },
     "45f4c905f6314703aeea1ced8c746434": {
      "model_module": "@jupyter-widgets/controls",
      "model_module_version": "1.5.0",
      "model_name": "IntSliderModel",
      "state": {
       "continuous_update": false,
       "description": "Width:",
       "layout": "IPY_MODEL_1fe04b0268b942f69e0beb6053caa64d",
       "max": 1000,
       "min": 200,
       "step": 100,
       "style": "IPY_MODEL_9505c7a96f364820b83460ca557d6111",
       "value": 200
      }
     },
     "483bbbd278f14aac9412a387e81113f7": {
      "model_module": "@jupyter-widgets/controls",
      "model_module_version": "1.5.0",
      "model_name": "ButtonModel",
      "state": {
       "button_style": "primary",
       "description": "Get screenshot",
       "layout": "IPY_MODEL_c8ce3990580d4ade9abccd01f5111f1a",
       "style": "IPY_MODEL_649e15ed7bf64bfb85737e49765ccf19"
      }
     },
     "4bd8f31d358d4838b7adeacf47487f7d": {
      "model_module": "@jupyter-widgets/base",
      "model_module_version": "1.2.0",
      "model_name": "LayoutModel",
      "state": {}
     },
     "4ef1b5a8e43e4df4937274d1a207d4ca": {
      "model_module": "@jupyter-widgets/controls",
      "model_module_version": "1.5.0",
      "model_name": "HBoxModel",
      "state": {
       "children": [
        "IPY_MODEL_18e8e480ad954b0082ef3adf77264e0e",
        "IPY_MODEL_82c6474f8726460981a9203b7ed09936"
       ],
       "layout": "IPY_MODEL_39a69c8d5309484e8ef6a662cee165fc"
      }
     },
     "4fc2626b086148398a501b424edd2043": {
      "model_module": "@jupyter-widgets/output",
      "model_module_version": "1.0.0",
      "model_name": "OutputModel",
      "state": {
       "layout": "IPY_MODEL_95c06ec8b1eb4b90b32b01037c3a7013",
       "outputs": [
        {
         "data": {
          "text/html": "<div style=\"float:left; margin-left: 20px;\"><p><b>4 March 2020</b></p><p><a href=\"screenshots/pandora-nla-gov-au-pan-161756-20200306-0200-www-nla-gov-au-20200305172547-200.png\"><img src=\"screenshots/pandora-nla-gov-au-pan-161756-20200306-0200-www-nla-gov-au-20200305172547-200.png\"></a></p></div>",
          "text/plain": "<IPython.core.display.HTML object>"
         },
         "metadata": {},
         "output_type": "display_data"
        }
       ]
      }
     },
     "5012a73071a743b3a00517bba09b1ddb": {
      "model_module": "@jupyter-widgets/base",
      "model_module_version": "1.2.0",
      "model_name": "LayoutModel",
      "state": {}
     },
     "51e9d8508e62418199e18950f2d7c384": {
      "model_module": "@jupyter-widgets/base",
      "model_module_version": "1.2.0",
      "model_name": "LayoutModel",
      "state": {}
     },
     "5bf2525da6064a3381595dc91f7fa2de": {
      "model_module": "@jupyter-widgets/controls",
      "model_module_version": "1.5.0",
      "model_name": "DropdownModel",
      "state": {
       "_options_labels": [
        "---",
        "UK Web Archive",
        "National Library of Australia",
        "National Library of New Zealand",
        "Internet Archive"
       ],
       "description": "Archive:",
       "index": 2,
       "layout": "IPY_MODEL_e2e8cc2baa22402eb81be6c8e1d2c565",
       "style": "IPY_MODEL_b8bb297532c94ba6af7ca3b044c1b56d"
      }
     },
     "600655e3f7714093b426d814c24a066e": {
      "model_module": "@jupyter-widgets/base",
      "model_module_version": "1.2.0",
      "model_name": "LayoutModel",
      "state": {}
     },
     "607c13a9e88843ab99bf9b31248ff8ac": {
      "model_module": "@jupyter-widgets/base",
      "model_module_version": "1.2.0",
      "model_name": "LayoutModel",
      "state": {}
     },
     "649e15ed7bf64bfb85737e49765ccf19": {
      "model_module": "@jupyter-widgets/controls",
      "model_module_version": "1.5.0",
      "model_name": "ButtonStyleModel",
      "state": {}
     },
     "650df612319b4d22bef16ac13ef5025b": {
      "model_module": "@jupyter-widgets/controls",
      "model_module_version": "1.5.0",
      "model_name": "ButtonModel",
      "state": {
       "description": "Clear",
       "layout": "IPY_MODEL_51e9d8508e62418199e18950f2d7c384",
       "style": "IPY_MODEL_d23043463ea84e01a0d593964a2568de"
      }
     },
     "67284b182e6a44e5be68bcb1d167e5f8": {
      "model_module": "@jupyter-widgets/controls",
      "model_module_version": "1.5.0",
      "model_name": "DescriptionStyleModel",
      "state": {
       "description_width": ""
      }
     },
     "6d4cca5fca334d7387d6c76fe0c85281": {
      "model_module": "@jupyter-widgets/controls",
      "model_module_version": "1.5.0",
      "model_name": "DatePickerModel",
      "state": {
       "description": "Target date: ",
       "disabled": false,
       "layout": "IPY_MODEL_7c9a6e6d36c34483af7fc7ac3e09d370",
       "style": "IPY_MODEL_67284b182e6a44e5be68bcb1d167e5f8"
      }
     },
     "6e4f1e057c25482c9be1b444951e687d": {
      "model_module": "@jupyter-widgets/controls",
      "model_module_version": "1.5.0",
      "model_name": "ButtonModel",
      "state": {
       "button_style": "primary",
       "description": "Get screenshot",
       "layout": "IPY_MODEL_994ca76be9144035b462296ff13351b7",
       "style": "IPY_MODEL_fb33aedfacb24b0380fc15792dd78a21"
      }
     },
     "6f875dcb489b4fbebad8c7a5de2cd58b": {
      "model_module": "@jupyter-widgets/output",
      "model_module_version": "1.0.0",
      "model_name": "OutputModel",
      "state": {
       "layout": "IPY_MODEL_f6101f5cfe984776b62241b84efd7c43"
      }
     },
     "70794194d1274b87a618a972ad41159b": {
      "model_module": "@jupyter-widgets/controls",
      "model_module_version": "1.5.0",
      "model_name": "DatePickerModel",
      "state": {
       "description": "Target date: ",
       "disabled": false,
       "layout": "IPY_MODEL_a1d71dc296c44dc68d080e8d1c0efe24",
       "style": "IPY_MODEL_86bfe8ddb2f8464bb4a20194de8a9499",
       "value": {
        "date": 1,
        "month": 0,
        "year": 1996
       }
      }
     },
     "7c9a6e6d36c34483af7fc7ac3e09d370": {
      "model_module": "@jupyter-widgets/base",
      "model_module_version": "1.2.0",
      "model_name": "LayoutModel",
      "state": {}
     },
     "7ce32405f8ac448aa19508bcf49bc988": {
      "model_module": "@jupyter-widgets/base",
      "model_module_version": "1.2.0",
      "model_name": "LayoutModel",
      "state": {}
     },
     "7d41cecd66f247e3b1baf55261363aff": {
      "model_module": "@jupyter-widgets/controls",
      "model_module_version": "1.5.0",
      "model_name": "ButtonStyleModel",
      "state": {}
     },
     "80fb3a844cb1430faa36bf6be642eb04": {
      "model_module": "@jupyter-widgets/controls",
      "model_module_version": "1.5.0",
      "model_name": "VBoxModel",
      "state": {
       "children": [
        "IPY_MODEL_36377088c8134094b03a9343029632a0",
        "IPY_MODEL_fc9bf5a7470347588ca2c81aa28d68ae"
       ],
       "layout": "IPY_MODEL_b6bf24aa71ec4a28965e6192fb0e8f96"
      }
     },
     "82c6474f8726460981a9203b7ed09936": {
      "model_module": "@jupyter-widgets/controls",
      "model_module_version": "1.5.0",
      "model_name": "VBoxModel",
      "state": {
       "children": [
        "IPY_MODEL_2f93b757973f4c41a666a12aeafc6858",
        "IPY_MODEL_fe6c29223d6944ed941ac4f29f77f3e5"
       ],
       "layout": "IPY_MODEL_348e49ccc3514c34a3e7f7d974f552a0"
      }
     },
     "85d0e2d1b356405f954d32c70ccda533": {
      "model_module": "@jupyter-widgets/base",
      "model_module_version": "1.2.0",
      "model_name": "LayoutModel",
      "state": {}
     },
     "86bfe8ddb2f8464bb4a20194de8a9499": {
      "model_module": "@jupyter-widgets/controls",
      "model_module_version": "1.5.0",
      "model_name": "DescriptionStyleModel",
      "state": {
       "description_width": ""
      }
     },
     "911af829172444dda57579b29fb61e4a": {
      "model_module": "@jupyter-widgets/controls",
      "model_module_version": "1.5.0",
      "model_name": "DescriptionStyleModel",
      "state": {
       "description_width": ""
      }
     },
     "945cea032a304f739ed7667e9ce5a42d": {
      "model_module": "@jupyter-widgets/base",
      "model_module_version": "1.2.0",
      "model_name": "LayoutModel",
      "state": {}
     },
     "9505c7a96f364820b83460ca557d6111": {
      "model_module": "@jupyter-widgets/controls",
      "model_module_version": "1.5.0",
      "model_name": "SliderStyleModel",
      "state": {
       "description_width": ""
      }
     },
     "95c06ec8b1eb4b90b32b01037c3a7013": {
      "model_module": "@jupyter-widgets/base",
      "model_module_version": "1.2.0",
      "model_name": "LayoutModel",
      "state": {}
     },
     "980c6580d7ce4519a5f10041e7350f6c": {
      "model_module": "@jupyter-widgets/base",
      "model_module_version": "1.2.0",
      "model_name": "LayoutModel",
      "state": {}
     },
     "994ca76be9144035b462296ff13351b7": {
      "model_module": "@jupyter-widgets/base",
      "model_module_version": "1.2.0",
      "model_name": "LayoutModel",
      "state": {}
     },
     "9aa9d9ed45ca4ac9a64cce8e10f5554a": {
      "model_module": "@jupyter-widgets/output",
      "model_module_version": "1.0.0",
      "model_name": "OutputModel",
      "state": {
       "layout": "IPY_MODEL_b3a6b60eacd841d4b3953dcac17acf18",
       "outputs": [
        {
         "data": {
          "text/html": "<div style=\"float:left; margin-left: 20px;\"><p><b>4 March 2020</b></p><p><a href=\"screenshots/pandora-nla-gov-au-pan-161756-20200306-0200-www-nla-gov-au-20200305172547-200.png\"><img src=\"screenshots/pandora-nla-gov-au-pan-161756-20200306-0200-www-nla-gov-au-20200305172547-200.png\"></a></p></div><div style=\"float:left; margin-left: 20px;\"><p><b>1 December 2010</b></p><p><a href=\"screenshots/www-nla-gov-au-20101227142625-200.png\"><img src=\"screenshots/www-nla-gov-au-20101227142625-200.png\"></a></p></div><div style=\"float:left; margin-left: 20px;\"><p><b>3 December 1997</b></p><p><a href=\"screenshots/www-abc-net-au-80-19971210210421-200.png\"><img src=\"screenshots/www-abc-net-au-80-19971210210421-200.png\"></a></p></div><div style=\"float:left; margin-left: 20px;\"><p><b>4 October 1996</b></p><p><a href=\"screenshots/www-abc-net-au-80-19961017233008-200.png\"><img src=\"screenshots/www-abc-net-au-80-19961017233008-200.png\"></a></p></div>",
          "text/plain": "<IPython.core.display.HTML object>"
         },
         "metadata": {},
         "output_type": "display_data"
        }
       ]
      }
     },
     "9f5388f28c0e4a5189a47cda3ba9d533": {
      "model_module": "@jupyter-widgets/controls",
      "model_module_version": "1.5.0",
      "model_name": "ButtonModel",
      "state": {
       "button_style": "primary",
       "description": "Get screenshot",
       "layout": "IPY_MODEL_7ce32405f8ac448aa19508bcf49bc988",
       "style": "IPY_MODEL_7d41cecd66f247e3b1baf55261363aff"
      }
     },
     "a1d71dc296c44dc68d080e8d1c0efe24": {
      "model_module": "@jupyter-widgets/base",
      "model_module_version": "1.2.0",
      "model_name": "LayoutModel",
      "state": {}
     },
     "a53f927d965348adae734afe0d2a1bd1": {
      "model_module": "@jupyter-widgets/controls",
      "model_module_version": "1.5.0",
      "model_name": "DescriptionStyleModel",
      "state": {
       "description_width": ""
      }
     },
     "a9567ff4ea804fa8b7f60753e6084f73": {
      "model_module": "@jupyter-widgets/base",
      "model_module_version": "1.2.0",
      "model_name": "LayoutModel",
      "state": {}
     },
     "b2804abf25374b1bbce676458273a9a9": {
      "model_module": "@jupyter-widgets/controls",
      "model_module_version": "1.5.0",
      "model_name": "HBoxModel",
      "state": {
       "children": [
        "IPY_MODEL_483bbbd278f14aac9412a387e81113f7",
        "IPY_MODEL_650df612319b4d22bef16ac13ef5025b"
       ],
       "layout": "IPY_MODEL_a9567ff4ea804fa8b7f60753e6084f73"
      }
     },
     "b3a64b36da364c2895cf64aca7209e6e": {
      "model_module": "@jupyter-widgets/base",
      "model_module_version": "1.2.0",
      "model_name": "LayoutModel",
      "state": {}
     },
     "b3a6b60eacd841d4b3953dcac17acf18": {
      "model_module": "@jupyter-widgets/base",
      "model_module_version": "1.2.0",
      "model_name": "LayoutModel",
      "state": {}
     },
     "b4271012410642c79fe7cd6e6e6d57a3": {
      "model_module": "@jupyter-widgets/controls",
      "model_module_version": "1.5.0",
      "model_name": "HBoxModel",
      "state": {
       "children": [
        "IPY_MODEL_f09f5e4a93684b35a5841effaa8da389",
        "IPY_MODEL_065c05ce9acc4c0b990b9f6d531e5d18"
       ],
       "layout": "IPY_MODEL_bc8a238933244a798e23636597e23c53"
      }
     },
     "b5f026fa28cc4338b1509e0764bcc306": {
      "model_module": "@jupyter-widgets/base",
      "model_module_version": "1.2.0",
      "model_name": "LayoutModel",
      "state": {}
     },
     "b6bf24aa71ec4a28965e6192fb0e8f96": {
      "model_module": "@jupyter-widgets/base",
      "model_module_version": "1.2.0",
      "model_name": "LayoutModel",
      "state": {}
     },
     "b8bb297532c94ba6af7ca3b044c1b56d": {
      "model_module": "@jupyter-widgets/controls",
      "model_module_version": "1.5.0",
      "model_name": "DescriptionStyleModel",
      "state": {
       "description_width": ""
      }
     },
     "bc8910686be244388b8787c77b0d04b4": {
      "model_module": "@jupyter-widgets/output",
      "model_module_version": "1.0.0",
      "model_name": "OutputModel",
      "state": {
       "layout": "IPY_MODEL_d6bb532822624a7497a21912a420a274"
      }
     },
     "bc8a238933244a798e23636597e23c53": {
      "model_module": "@jupyter-widgets/base",
      "model_module_version": "1.2.0",
      "model_name": "LayoutModel",
      "state": {
       "padding": "20px"
      }
     },
     "bfc8cc4fe6444fca871bbabf25de8950": {
      "model_module": "@jupyter-widgets/controls",
      "model_module_version": "1.5.0",
      "model_name": "ButtonModel",
      "state": {
       "description": "Clear",
       "layout": "IPY_MODEL_b3a64b36da364c2895cf64aca7209e6e",
       "style": "IPY_MODEL_1e0ca94e4dce4006843c8985c92d9b99"
      }
     },
     "c431a771c13a41a3b46e74b85a0b16db": {
      "model_module": "@jupyter-widgets/controls",
      "model_module_version": "1.5.0",
      "model_name": "DescriptionStyleModel",
      "state": {
       "description_width": ""
      }
     },
     "c8ce3990580d4ade9abccd01f5111f1a": {
      "model_module": "@jupyter-widgets/base",
      "model_module_version": "1.2.0",
      "model_name": "LayoutModel",
      "state": {}
     },
     "cce65e4b01e64193971ec0516702b935": {
      "model_module": "@jupyter-widgets/controls",
      "model_module_version": "1.5.0",
      "model_name": "HBoxModel",
      "state": {
       "children": [
        "IPY_MODEL_d577c9e0ea5f49e9b4d9b779733b9979",
        "IPY_MODEL_80fb3a844cb1430faa36bf6be642eb04"
       ],
       "layout": "IPY_MODEL_07e94713e0db4aae8391ea9fe04d4596"
      }
     },
     "cd364e33fa1d438b8e2cb0b70288eae2": {
      "model_module": "@jupyter-widgets/controls",
      "model_module_version": "1.5.0",
      "model_name": "SliderStyleModel",
      "state": {
       "description_width": ""
      }
     },
     "d23043463ea84e01a0d593964a2568de": {
      "model_module": "@jupyter-widgets/controls",
      "model_module_version": "1.5.0",
      "model_name": "ButtonStyleModel",
      "state": {}
     },
     "d2ace69bddc646fca9f9dde981b3345f": {
      "model_module": "@jupyter-widgets/output",
      "model_module_version": "1.0.0",
      "model_name": "OutputModel",
      "state": {
       "layout": "IPY_MODEL_030a1eac2f304385949626c48b3ab862"
      }
     },
     "d577c9e0ea5f49e9b4d9b779733b9979": {
      "model_module": "@jupyter-widgets/controls",
      "model_module_version": "1.5.0",
      "model_name": "VBoxModel",
      "state": {
       "children": [
        "IPY_MODEL_5bf2525da6064a3381595dc91f7fa2de",
        "IPY_MODEL_70794194d1274b87a618a972ad41159b"
       ],
       "layout": "IPY_MODEL_ff89140750264c60b7f63d7a6ba92c19"
      }
     },
     "d67ad074efd04f0c8b114149f4ff2b1c": {
      "model_module": "@jupyter-widgets/output",
      "model_module_version": "1.0.0",
      "model_name": "OutputModel",
      "state": {
       "layout": "IPY_MODEL_eeba6d9f5c014b63bf3b724ab1fe707a"
      }
     },
     "d6bb532822624a7497a21912a420a274": {
      "model_module": "@jupyter-widgets/base",
      "model_module_version": "1.2.0",
      "model_name": "LayoutModel",
      "state": {}
     },
     "dcb7ac94b95c4790b17f10eabdfb0c77": {
      "model_module": "@jupyter-widgets/base",
      "model_module_version": "1.2.0",
      "model_name": "LayoutModel",
      "state": {}
     },
     "df57a05f049d4ac095928e8063d4fd17": {
      "model_module": "@jupyter-widgets/base",
      "model_module_version": "1.2.0",
      "model_name": "LayoutModel",
      "state": {}
     },
     "e2e8cc2baa22402eb81be6c8e1d2c565": {
      "model_module": "@jupyter-widgets/base",
      "model_module_version": "1.2.0",
      "model_name": "LayoutModel",
      "state": {}
     },
     "e6528fe67c1845799df497462f8736c5": {
      "model_module": "@jupyter-widgets/controls",
      "model_module_version": "1.5.0",
      "model_name": "DropdownModel",
      "state": {
       "_options_labels": [
        "---",
        "UK Web Archive",
        "National Library of Australia",
        "National Library of New Zealand",
        "Internet Archive"
       ],
       "description": "Archive:",
       "index": 0,
       "layout": "IPY_MODEL_dcb7ac94b95c4790b17f10eabdfb0c77",
       "style": "IPY_MODEL_911af829172444dda57579b29fb61e4a"
      }
     },
     "eeba6d9f5c014b63bf3b724ab1fe707a": {
      "model_module": "@jupyter-widgets/base",
      "model_module_version": "1.2.0",
      "model_name": "LayoutModel",
      "state": {}
     },
     "f09f5e4a93684b35a5841effaa8da389": {
      "model_module": "@jupyter-widgets/controls",
      "model_module_version": "1.5.0",
      "model_name": "VBoxModel",
      "state": {
       "children": [
        "IPY_MODEL_e6528fe67c1845799df497462f8736c5",
        "IPY_MODEL_3f8c5aa4931c45c6b3f81aaa58110871"
       ],
       "layout": "IPY_MODEL_3b88db0df8d84fad888443a17df469a1"
      }
     },
     "f6101f5cfe984776b62241b84efd7c43": {
      "model_module": "@jupyter-widgets/base",
      "model_module_version": "1.2.0",
      "model_name": "LayoutModel",
      "state": {}
     },
     "fb33aedfacb24b0380fc15792dd78a21": {
      "model_module": "@jupyter-widgets/controls",
      "model_module_version": "1.5.0",
      "model_name": "ButtonStyleModel",
      "state": {}
     },
     "fc9bf5a7470347588ca2c81aa28d68ae": {
      "model_module": "@jupyter-widgets/controls",
      "model_module_version": "1.5.0",
      "model_name": "IntSliderModel",
      "state": {
       "continuous_update": false,
       "description": "Width:",
       "layout": "IPY_MODEL_600655e3f7714093b426d814c24a066e",
       "max": 1000,
       "min": 200,
       "step": 100,
       "style": "IPY_MODEL_cd364e33fa1d438b8e2cb0b70288eae2",
       "value": 200
      }
     },
     "fe6c29223d6944ed941ac4f29f77f3e5": {
      "model_module": "@jupyter-widgets/controls",
      "model_module_version": "1.5.0",
      "model_name": "IntSliderModel",
      "state": {
       "continuous_update": false,
       "description": "Width:",
       "layout": "IPY_MODEL_df57a05f049d4ac095928e8063d4fd17",
       "max": 1000,
       "min": 200,
       "step": 100,
       "style": "IPY_MODEL_17b782e4e2244ffc8b6fdeb23fecaf3b",
       "value": 200
      }
     },
     "ff89140750264c60b7f63d7a6ba92c19": {
      "model_module": "@jupyter-widgets/base",
      "model_module_version": "1.2.0",
      "model_name": "LayoutModel",
      "state": {}
     }
    },
    "version_major": 2,
    "version_minor": 0
   }
  }
 },
 "nbformat": 4,
 "nbformat_minor": 4
}
