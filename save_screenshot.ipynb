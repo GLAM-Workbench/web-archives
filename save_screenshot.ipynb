{
 "cells": [
  {
   "cell_type": "markdown",
   "metadata": {},
   "source": [
    "# Get full page screenshots from archived web pages"
   ]
  },
  {
   "cell_type": "markdown",
   "metadata": {},
   "source": [
    "<p class=\"alert alert-warning\">Work in progress – this is an experimental tool, it should work, but you never know...<p>"
   ]
  },
  {
   "cell_type": "code",
   "execution_count": null,
   "metadata": {},
   "outputs": [],
   "source": [
    "%%capture\n",
    "from selenium import webdriver\n",
    "import requests\n",
    "import selenium\n",
    "from PIL import Image\n",
    "import PIL\n",
    "import io\n",
    "import base64\n",
    "import time\n",
    "import re\n",
    "import arrow\n",
    "from slugify import slugify\n",
    "from webdriverdownloader import GeckoDriverDownloader\n",
    "from pathlib import Path\n",
    "from IPython.display import display, HTML\n",
    "from urllib.parse import urlparse\n",
    "import ipywidgets as widgets\n",
    "\n",
    "gdd = GeckoDriverDownloader()\n",
    "geckodriver = gdd.download_and_install(\"v0.26.0\")[1]"
   ]
  },
  {
   "cell_type": "code",
   "execution_count": null,
   "metadata": {},
   "outputs": [],
   "source": [
    "%%capture\n",
    "%%javascript\n",
    "// This is necessary in Jupyter notebook to stop the output area folding up\n",
    "// Will give an error in Jupyter Lab\n",
    "IPython.OutputArea.prototype._should_scroll = function(lines) {return false}"
   ]
  },
  {
   "cell_type": "code",
   "execution_count": null,
   "metadata": {},
   "outputs": [],
   "source": [
    "TIMEGATES = {\n",
    "    'nla': 'https://web.archive.org.au/awa/',\n",
    "    'nlnz': 'https://ndhadeliver.natlib.govt.nz/webarchive/wayback/',\n",
    "    'bl': 'https://www.webarchive.org.uk/wayback/archive/',\n",
    "    'ia': 'https://web.archive.org/web/'\n",
    "}\n",
    "\n",
    "pywb = ['webarchive.org.uk', 'web.archive.org.au', 'webarchive.nla.gov.au']\n",
    "wayback = ['ndhadeliver.natlib.govt.nz', 'web.archive.org']\n",
    "\n",
    "html_output = []\n",
    "\n",
    "def format_date_for_headers(iso_date, tz):\n",
    "    '''\n",
    "    Convert an ISO date (YYYY-MM-DD) to a datetime at noon in the specified timezone.\n",
    "    Convert the datetime to UTC and format as required by Accet-Datetime headers:\n",
    "    eg Fri, 23 Mar 2007 01:00:00 GMT\n",
    "    '''\n",
    "    local = arrow.get(f'{iso_date} 12:00:00 {tz}', 'YYYY-MM-DD HH:mm:ss ZZZ')\n",
    "    gmt = local.to('utc')\n",
    "    return f'{gmt.format(\"ddd, DD MMM YYYY HH:mm:ss\")} GMT'\n",
    "\n",
    "def format_date_from_timestamp(url):\n",
    "    timestamp = re.search(r'/(\\d{14})(?:if_|mp_)*/', url).group(1)\n",
    "    return arrow.get(timestamp, 'YYYYMMDDHHmmss').format('d MMMM YYYY')\n",
    "\n",
    "def parse_links_from_headers(headers):\n",
    "    '''\n",
    "    Extract original, timegate, timemap, and memento links from 'Link' header.\n",
    "    '''\n",
    "    memento_links = {}\n",
    "    try:\n",
    "        links = re.findall(r'<(.*?)>; rel=\"(original|timegate|timemap|memento|first memento|prev memento|next memento|last memento)\"', headers['Link'])\n",
    "    except KeyError:\n",
    "        # print(headers)\n",
    "        return None\n",
    "    else:\n",
    "        for url, url_type in links:\n",
    "            memento_links[url_type] = url\n",
    "        return memento_links\n",
    "\n",
    "def query_timegate(timegate, url, date=None, tz='Australia/Canberra'):\n",
    "    headers = {}\n",
    "    if date:\n",
    "        formatted_date = format_date_for_headers(date, tz)\n",
    "        headers['Accept-Datetime'] = formatted_date\n",
    "    # BL & NLNZ don't seem to default to latest date if no date supplied\n",
    "    elif not date and timegate in ['bl', 'nlnz']:\n",
    "        formatted_date = format_date_for_headers(arrow.utcnow().format('YYYY-MM-DD'), tz)\n",
    "        headers['Accept-Datetime'] = formatted_date\n",
    "    # Note that you don't get a timegate response if you leave off the trailing slash, but extras don't hurt!\n",
    "    tg_url = f'{TIMEGATES[timegate]}{url}/' if not url.endswith('/') else f'{TIMEGATES[timegate]}{url}'\n",
    "    # print(tg_url)\n",
    "    # IA doesn't work with head, others don't work with get...\n",
    "    if timegate == 'ia':\n",
    "        response = requests.get(tg_url, headers=headers)\n",
    "    else:\n",
    "        response = requests.head(tg_url, headers=headers)\n",
    "    return parse_links_from_headers(response.headers)\n",
    "\n",
    "def get_memento():\n",
    "    links = query_timegate(repository.value, target_url.value, target_date.value)\n",
    "    # NLNZ doesn't always seem to return a Memento, so we'll build in some fuzziness\n",
    "    if links:\n",
    "        if 'memento' in links:\n",
    "            memento = links['memento']\n",
    "        elif 'prev memento' in links:\n",
    "            memento = links['prev memento']\n",
    "        elif 'next memento' in links:\n",
    "            memento = links['next memento']\n",
    "        elif 'last memento' in links:\n",
    "            memento = links['last memento']\n",
    "    else:\n",
    "        memento = None\n",
    "    return memento\n",
    "    \n",
    "def get_full_page_screenshot(url, save_width=200):\n",
    "    '''\n",
    "    Gets a full page screenshot of the supplied url.\n",
    "    By default resizes the screenshot to a maximum width of 200px.\n",
    "    Provide a 'save_width' value to change this.\n",
    "    \n",
    "    NOTE the webdriver sometimes fails for unknown reasons. Just try again.\n",
    "    '''\n",
    "    global html_output\n",
    "    domain = urlparse(url)[1].replace('www.', '')\n",
    "    # NZ and IA inject content into the page, so we use if_ to get the original page (with rewritten urls)\n",
    "    if domain in wayback and 'if_' not in url:\n",
    "        url = re.sub(r'/(\\d{14})/http', r'/\\1if_/http', url)\n",
    "    try:\n",
    "        date_str, site = re.search(r'/(\\d{14})(?:if_|mp_)*/https*://(.+/)', url).groups()\n",
    "    except AttributeError:\n",
    "        # There's something wrong with the link...\n",
    "        # print(url)\n",
    "        show_error(f'{url} isn\\'t a Memento – did you forget to select an archive?')\n",
    "    else:\n",
    "        ss_file = Path('screenshots', f'{slugify(site)}-{date_str}-{save_width}.png')\n",
    "        options = webdriver.FirefoxOptions()\n",
    "        options.headless = True\n",
    "        driver = webdriver.Firefox(executable_path=geckodriver, options=options)\n",
    "        driver.implicitly_wait(30)\n",
    "        driver.get(url)\n",
    "        # Give some time for everything to load\n",
    "        time.sleep(15)\n",
    "        driver.maximize_window()\n",
    "        current_width = driver.get_window_size()['width']\n",
    "        # UK and AU use pywb in framed replay mode, so we need to switch to the framed content\n",
    "        if domain in pywb:\n",
    "            try:\n",
    "                driver.switch_to.frame(0)\n",
    "            except selenium.common.exceptions.NoSuchFrameException:\n",
    "                show_error(f'Couldn\\'t get a screenshot of {url} – sorry...')\n",
    "                return\n",
    "        try:\n",
    "            ss = driver.find_element_by_tag_name('body').screenshot_as_base64\n",
    "        except selenium.common.exceptions.NoSuchElementException:\n",
    "            try:\n",
    "                ss = driver.find_element_by_tag_name('frameset').screenshot_as_base64\n",
    "            except selenium.common.exceptions.NoSuchElementException:\n",
    "                show_error(f'Couldn\\'t get a screenshot of {url} – sorry...')\n",
    "                return\n",
    "        driver.quit()\n",
    "        img = Image.open(io.BytesIO(base64.b64decode(ss)))\n",
    "        ratio = save_width / current_width\n",
    "        (width, height) = (round(img.width * ratio), round(img.height * ratio))\n",
    "        resized_img = img.resize((width, height), PIL.Image.LANCZOS)\n",
    "        resized_img.save(ss_file)\n",
    "        date = format_date_from_timestamp(url)\n",
    "        status.clear_output()\n",
    "        html_output.append(f'<div style=\"float:left; margin-left: 20px;\"><p><b>{date}</b><br><a href=\"{url.replace(\"if_/\", \"/\")}\">{target_url.value}</a></p><p><a href=\"{ss_file}\"><img src=\"{ss_file}\"></a><br><a href=\"{ss_file}\">[Download]</a></p></div>')\n",
    "        with out:\n",
    "            display((HTML(''.join(html_output))))\n",
    "\n",
    "def show_error(message=None):\n",
    "    status.clear_output()\n",
    "    with status:\n",
    "        print(f'Something went wrong – {message}')\n",
    "\n",
    "def start(e):\n",
    "    status.clear_output()\n",
    "    out.clear_output(wait=True)\n",
    "    with status:\n",
    "        print('Generating screenshot...')\n",
    "    if repository.value:\n",
    "        memento = get_memento()\n",
    "    else:\n",
    "        memento = target_url.value\n",
    "    if memento:\n",
    "        try:\n",
    "            get_full_page_screenshot(memento, save_width=width.value)\n",
    "        except selenium.common.exceptions.WebDriverException:\n",
    "            show_error(f'couldn\\'t get a screenshot of {memento} – sorry...')\n",
    "    else:\n",
    "        show_error('couldn\\'t find a Memento – sorry...')\n",
    "    \n",
    "def clear(e):\n",
    "    global html_output\n",
    "    html_output = []\n",
    "    status.clear_output()\n",
    "    out.clear_output()\n",
    "    \n",
    "def clear_last(e):\n",
    "    global html_output\n",
    "    html_output.pop()\n",
    "    out.clear_output(wait=True)\n",
    "    with out:\n",
    "        display((HTML(''.join(html_output))))\n",
    "\n",
    "repository = widgets.Dropdown(\n",
    "    options=[('---', ''), ('UK Web Archive', 'bl'), ('National Library of Australia', 'nla'), ('National Library of New Zealand', 'nlnz'), ('Internet Archive', 'ia')],\n",
    "    description='Archive:',\n",
    "    disabled=False,\n",
    ")\n",
    "\n",
    "target_url = widgets.Text(description='Target URL:')\n",
    "\n",
    "target_date = widgets.DatePicker(\n",
    "    description='Target date: ',\n",
    "    disabled=False\n",
    ")\n",
    "\n",
    "width = widgets.IntSlider(\n",
    "    value=7,\n",
    "    min=200,\n",
    "    max=1000,\n",
    "    step=100,\n",
    "    description='Width:',\n",
    "    disabled=False,\n",
    "    continuous_update=False,\n",
    "    orientation='horizontal',\n",
    "    readout=True,\n",
    "    readout_format='d'\n",
    ")\n",
    "\n",
    "out = widgets.Output()\n",
    "status = widgets.Output()\n",
    "ss_button = widgets.Button(description='Get screenshot', button_style='primary')\n",
    "ss_button.on_click(start)\n",
    "clear_button = widgets.Button(description='Clear all')\n",
    "clear_button.on_click(clear)\n",
    "clear_last_button = widgets.Button(description='Clear last')\n",
    "clear_last_button.on_click(clear_last)\n",
    "note = '''\n",
    "    <ul>\n",
    "    <li>Select a repository, and insert a url to generate a screenshot from the archive.</li>\n",
    "    <li>If you include a date, it\\'ll attempt to find the closest capture using Memento Timegates.</li>\n",
    "    <li>If you don't include a date, it'll give you the most recent capture.</li>\n",
    "    <li>If you already have the url of the exact capture you want, just put it in the 'Target url' box and leave 'Archive' and 'Target date' blank.\n",
    "    <li>You can add multiple screenshots to compare changes.</li>\n",
    "    </ul>\n",
    "    '''\n",
    "display(HTML(note), widgets.HBox([widgets.VBox([repository, target_date]), widgets.VBox([target_url, width])], layout=widgets.Layout(padding='20px')), widgets.HBox([ss_button, clear_button, clear_last_button]), status, out)"
   ]
  },
  {
   "cell_type": "markdown",
   "metadata": {},
   "source": [
    "----\n",
    "\n",
    "Work on this notebook was supported by the [IIPC Discretionary Funding Programme 2019-2020](http://netpreserve.org/projects/)"
   ]
  }
 ],
 "metadata": {
  "kernelspec": {
   "display_name": "Python 3",
   "language": "python",
   "name": "python3"
  },
  "language_info": {
   "codemirror_mode": {
    "name": "ipython",
    "version": 3
   },
   "file_extension": ".py",
   "mimetype": "text/x-python",
   "name": "python",
   "nbconvert_exporter": "python",
   "pygments_lexer": "ipython3",
   "version": "3.7.3"
  },
  "widgets": {
   "application/vnd.jupyter.widget-state+json": {
    "state": {
     "0087363254184cc48ac0b8072fd051f2": {
      "model_module": "@jupyter-widgets/controls",
      "model_module_version": "1.5.0",
      "model_name": "SliderStyleModel",
      "state": {
       "description_width": ""
      }
     },
     "05954ba6a4fd47bfb22158e5086972ea": {
      "model_module": "@jupyter-widgets/controls",
      "model_module_version": "1.5.0",
      "model_name": "HBoxModel",
      "state": {
       "children": [
        "IPY_MODEL_cb097d4bc77d4110b39273761cc24a80",
        "IPY_MODEL_77da0e332c0e4bab891b0c7c53d7d102",
        "IPY_MODEL_db0369e500a44d8c81a662b248cd4a8f"
       ],
       "layout": "IPY_MODEL_7ef055b7a3104686bab45ec4243befa7"
      }
     },
     "07319dc65c754a71af0867eddb032193": {
      "model_module": "@jupyter-widgets/controls",
      "model_module_version": "1.5.0",
      "model_name": "ButtonStyleModel",
      "state": {}
     },
     "07b3b8a0dce34f198655d2a21e87b0b4": {
      "model_module": "@jupyter-widgets/base",
      "model_module_version": "1.2.0",
      "model_name": "LayoutModel",
      "state": {
       "padding": "20px"
      }
     },
     "0844aa7b38d641ecab23ed992bbcc707": {
      "model_module": "@jupyter-widgets/controls",
      "model_module_version": "1.5.0",
      "model_name": "ButtonStyleModel",
      "state": {}
     },
     "097876185e274f7087dfb6ea1fefb35b": {
      "model_module": "@jupyter-widgets/base",
      "model_module_version": "1.2.0",
      "model_name": "LayoutModel",
      "state": {}
     },
     "0988883ae10c4a8290e222d3bac9e1f6": {
      "model_module": "@jupyter-widgets/controls",
      "model_module_version": "1.5.0",
      "model_name": "DropdownModel",
      "state": {
       "_options_labels": [
        "---",
        "UK Web Archive",
        "National Library of Australia",
        "National Library of New Zealand",
        "Internet Archive"
       ],
       "description": "Archive:",
       "index": 0,
       "layout": "IPY_MODEL_fc5024bbe36541f6bc48ef0e434ef5ad",
       "style": "IPY_MODEL_f15bc7cf77094a0bb5e8bf9c2a180b0e"
      }
     },
     "0a42a5ef217842d48729ce4a740dc30c": {
      "model_module": "@jupyter-widgets/controls",
      "model_module_version": "1.5.0",
      "model_name": "ButtonModel",
      "state": {
       "description": "Clear last",
       "layout": "IPY_MODEL_c4012506de234eff83a7ac5d943a74b8",
       "style": "IPY_MODEL_8564beb3af3c4e96aa755ed16d768b40"
      }
     },
     "0f93587d5aba457b9393e4dc61c6580e": {
      "model_module": "@jupyter-widgets/controls",
      "model_module_version": "1.5.0",
      "model_name": "DescriptionStyleModel",
      "state": {
       "description_width": ""
      }
     },
     "177b40254c5a4adc87bd08e1c2d372be": {
      "model_module": "@jupyter-widgets/controls",
      "model_module_version": "1.5.0",
      "model_name": "ButtonModel",
      "state": {
       "description": "Clear all",
       "layout": "IPY_MODEL_46384519da8a48e894ebcae84ee810e7",
       "style": "IPY_MODEL_0844aa7b38d641ecab23ed992bbcc707"
      }
     },
     "17c558cde0174dc1ba28ce1b12e63fb4": {
      "model_module": "@jupyter-widgets/output",
      "model_module_version": "1.0.0",
      "model_name": "OutputModel",
      "state": {
       "layout": "IPY_MODEL_d78b426341e84924846ec54519030cd2"
      }
     },
     "1829bbfa254749b79efeb72760fcbc16": {
      "model_module": "@jupyter-widgets/controls",
      "model_module_version": "1.5.0",
      "model_name": "IntSliderModel",
      "state": {
       "continuous_update": false,
       "description": "Width:",
       "layout": "IPY_MODEL_8929b9893baf48d68595c60bcd720996",
       "max": 1000,
       "min": 200,
       "step": 100,
       "style": "IPY_MODEL_0087363254184cc48ac0b8072fd051f2",
       "value": 200
      }
     },
     "192b701594b74c5da07849d875fe775c": {
      "model_module": "@jupyter-widgets/base",
      "model_module_version": "1.2.0",
      "model_name": "LayoutModel",
      "state": {}
     },
     "1aeb2ffe7bd84a819660cafeb50527a4": {
      "model_module": "@jupyter-widgets/controls",
      "model_module_version": "1.5.0",
      "model_name": "VBoxModel",
      "state": {
       "children": [
        "IPY_MODEL_76cf2014dc53486c8595045643fe9086",
        "IPY_MODEL_1829bbfa254749b79efeb72760fcbc16"
       ],
       "layout": "IPY_MODEL_42b5930a31b1487ab7c2411ab023edf7"
      }
     },
     "2032a11fdff6483aa3bae05f2e3c4c81": {
      "model_module": "@jupyter-widgets/output",
      "model_module_version": "1.0.0",
      "model_name": "OutputModel",
      "state": {
       "layout": "IPY_MODEL_097876185e274f7087dfb6ea1fefb35b",
       "outputs": [
        {
         "name": "stdout",
         "output_type": "stream",
         "text": "Generating screenshot...\n"
        }
       ]
      }
     },
     "20e82684a7534914bfeb2900fadb0e6f": {
      "model_module": "@jupyter-widgets/controls",
      "model_module_version": "1.5.0",
      "model_name": "VBoxModel",
      "state": {
       "children": [
        "IPY_MODEL_ff6753656d1a459381d3961232d0e2df",
        "IPY_MODEL_395f766336ca42c8a08a0c82740149e1"
       ],
       "layout": "IPY_MODEL_eea7ef0cf7c0448cb7c49ddb6b72d40e"
      }
     },
     "219ccf760b354d4491491089c624b497": {
      "model_module": "@jupyter-widgets/output",
      "model_module_version": "1.0.0",
      "model_name": "OutputModel",
      "state": {
       "layout": "IPY_MODEL_f22a4abfe0d040ee98100e6d08c15b27",
       "outputs": [
        {
         "name": "stdout",
         "output_type": "stream",
         "text": "Something went wrong – couldn't get a screenshot of {memento} – sorry...\n"
        }
       ]
      }
     },
     "239a8672897d40d180ad166188027232": {
      "model_module": "@jupyter-widgets/controls",
      "model_module_version": "1.5.0",
      "model_name": "DescriptionStyleModel",
      "state": {
       "description_width": ""
      }
     },
     "2430730c0b2a429083f3aa9de909548b": {
      "model_module": "@jupyter-widgets/controls",
      "model_module_version": "1.5.0",
      "model_name": "ButtonStyleModel",
      "state": {}
     },
     "256f2f49721f41eda24d0054107a19a3": {
      "model_module": "@jupyter-widgets/base",
      "model_module_version": "1.2.0",
      "model_name": "LayoutModel",
      "state": {}
     },
     "25cbef0e21a5487ea1b024fe36ecd273": {
      "model_module": "@jupyter-widgets/base",
      "model_module_version": "1.2.0",
      "model_name": "LayoutModel",
      "state": {}
     },
     "29332d79f9f2465b825af8edbd4a8f81": {
      "model_module": "@jupyter-widgets/base",
      "model_module_version": "1.2.0",
      "model_name": "LayoutModel",
      "state": {}
     },
     "2a5ede3eba4d4ba3ba0f97d681d497f7": {
      "model_module": "@jupyter-widgets/base",
      "model_module_version": "1.2.0",
      "model_name": "LayoutModel",
      "state": {}
     },
     "2d0d400204d44b5a92e2bb57b6d0cefe": {
      "model_module": "@jupyter-widgets/controls",
      "model_module_version": "1.5.0",
      "model_name": "HBoxModel",
      "state": {
       "children": [
        "IPY_MODEL_70d5f38b209e4e9187d7abf0e8ee7eeb",
        "IPY_MODEL_47c44f64de7d403f8d794c539f8e0ef3",
        "IPY_MODEL_8e4089cf41984a9994e6efa5b27a210e"
       ],
       "layout": "IPY_MODEL_76565fb6c23048518a8365548ef9d2ca"
      }
     },
     "31c60bff8d994080a24879feecda4128": {
      "model_module": "@jupyter-widgets/base",
      "model_module_version": "1.2.0",
      "model_name": "LayoutModel",
      "state": {
       "padding": "20px"
      }
     },
     "38f83c9d9f3a425a9b085342062f20e6": {
      "model_module": "@jupyter-widgets/output",
      "model_module_version": "1.0.0",
      "model_name": "OutputModel",
      "state": {
       "layout": "IPY_MODEL_c15697ac180f4fd38f2db58f1d668c1d"
      }
     },
     "395f766336ca42c8a08a0c82740149e1": {
      "model_module": "@jupyter-widgets/controls",
      "model_module_version": "1.5.0",
      "model_name": "IntSliderModel",
      "state": {
       "continuous_update": false,
       "description": "Width:",
       "layout": "IPY_MODEL_d7c102fe9c854a3db009c47eec808a4b",
       "max": 1000,
       "min": 200,
       "step": 100,
       "style": "IPY_MODEL_49d9d57e6b30459fab43fb21d80d6a0f",
       "value": 200
      }
     },
     "39c57078680b456b92660ad5d8cb1a81": {
      "model_module": "@jupyter-widgets/base",
      "model_module_version": "1.2.0",
      "model_name": "LayoutModel",
      "state": {}
     },
     "3a215831936a41639ae3df9a14dba3c3": {
      "model_module": "@jupyter-widgets/base",
      "model_module_version": "1.2.0",
      "model_name": "LayoutModel",
      "state": {}
     },
     "3a4c69d13a8a4f47a82bcd14ac41d246": {
      "model_module": "@jupyter-widgets/base",
      "model_module_version": "1.2.0",
      "model_name": "LayoutModel",
      "state": {}
     },
     "3a66d3f04771466c8482e735ec525868": {
      "model_module": "@jupyter-widgets/controls",
      "model_module_version": "1.5.0",
      "model_name": "DropdownModel",
      "state": {
       "_options_labels": [
        "---",
        "UK Web Archive",
        "National Library of Australia",
        "National Library of New Zealand",
        "Internet Archive"
       ],
       "description": "Archive:",
       "index": 2,
       "layout": "IPY_MODEL_767cf9d1ba674f8587399e2423c75e92",
       "style": "IPY_MODEL_0f93587d5aba457b9393e4dc61c6580e"
      }
     },
     "3b64951f43eb4aa6a7263b9b6312779f": {
      "model_module": "@jupyter-widgets/controls",
      "model_module_version": "1.5.0",
      "model_name": "VBoxModel",
      "state": {
       "children": [
        "IPY_MODEL_3a66d3f04771466c8482e735ec525868",
        "IPY_MODEL_56007c46db1344559d881abedccb21f9"
       ],
       "layout": "IPY_MODEL_872a70d4799e4a28b193fb12f0af3abf"
      }
     },
     "3d9e23b3448a4aac906613867c5e3663": {
      "model_module": "@jupyter-widgets/base",
      "model_module_version": "1.2.0",
      "model_name": "LayoutModel",
      "state": {}
     },
     "3f3102c548764901ab064310ac97fab1": {
      "model_module": "@jupyter-widgets/controls",
      "model_module_version": "1.5.0",
      "model_name": "DatePickerModel",
      "state": {
       "description": "Target date: ",
       "disabled": false,
       "layout": "IPY_MODEL_5378c8a3fb854b7fb1cf8a3e8ceb49c4",
       "style": "IPY_MODEL_d287767b9771487d86d26cf4b8c60192"
      }
     },
     "42b5930a31b1487ab7c2411ab023edf7": {
      "model_module": "@jupyter-widgets/base",
      "model_module_version": "1.2.0",
      "model_name": "LayoutModel",
      "state": {}
     },
     "453deca008e24e9bacf216ed17db31b1": {
      "model_module": "@jupyter-widgets/output",
      "model_module_version": "1.0.0",
      "model_name": "OutputModel",
      "state": {
       "layout": "IPY_MODEL_9a80df097a274de9957ef89c1c1290be"
      }
     },
     "46384519da8a48e894ebcae84ee810e7": {
      "model_module": "@jupyter-widgets/base",
      "model_module_version": "1.2.0",
      "model_name": "LayoutModel",
      "state": {}
     },
     "47c44f64de7d403f8d794c539f8e0ef3": {
      "model_module": "@jupyter-widgets/controls",
      "model_module_version": "1.5.0",
      "model_name": "ButtonModel",
      "state": {
       "description": "Clear all",
       "layout": "IPY_MODEL_3d9e23b3448a4aac906613867c5e3663",
       "style": "IPY_MODEL_6ab6f7f795ea414380d3db7ddca44d5e"
      }
     },
     "4869f56821044ece8f98176013ca2346": {
      "model_module": "@jupyter-widgets/base",
      "model_module_version": "1.2.0",
      "model_name": "LayoutModel",
      "state": {}
     },
     "49d9d57e6b30459fab43fb21d80d6a0f": {
      "model_module": "@jupyter-widgets/controls",
      "model_module_version": "1.5.0",
      "model_name": "SliderStyleModel",
      "state": {
       "description_width": ""
      }
     },
     "4ad720f9d18e49268ba5bf926610c63a": {
      "model_module": "@jupyter-widgets/controls",
      "model_module_version": "1.5.0",
      "model_name": "DescriptionStyleModel",
      "state": {
       "description_width": ""
      }
     },
     "4fa24f9b4b8e4ab2ba5bba537032a437": {
      "model_module": "@jupyter-widgets/output",
      "model_module_version": "1.0.0",
      "model_name": "OutputModel",
      "state": {
       "layout": "IPY_MODEL_f72012c5c5084259b0b418c46d120205",
       "outputs": [
        {
         "data": {
          "text/html": "<div style=\"float:left; margin-left: 20px;\"><p><b>6 November 2010</b><br><a href=\"https://web.archive.org.au/awa/20101127074747mp_/http://pm.gov.au/\">http://pm.gov.au</a></p><p><a href=\"screenshots/pm-gov-au-20101127074747-200.png\"><img src=\"screenshots/pm-gov-au-20101127074747-200.png\"></a><br><a href=\"screenshots/pm-gov-au-20101127074747-200.png\">[Download]</a></p></div>",
          "text/plain": "<IPython.core.display.HTML object>"
         },
         "metadata": {},
         "output_type": "display_data"
        }
       ]
      }
     },
     "50bb5cf6d0144ad3bba1401d742eb87a": {
      "model_module": "@jupyter-widgets/controls",
      "model_module_version": "1.5.0",
      "model_name": "ButtonStyleModel",
      "state": {}
     },
     "526912572df6445fa1aa1c2afef7881e": {
      "model_module": "@jupyter-widgets/controls",
      "model_module_version": "1.5.0",
      "model_name": "ButtonStyleModel",
      "state": {}
     },
     "5378c8a3fb854b7fb1cf8a3e8ceb49c4": {
      "model_module": "@jupyter-widgets/base",
      "model_module_version": "1.2.0",
      "model_name": "LayoutModel",
      "state": {}
     },
     "56007c46db1344559d881abedccb21f9": {
      "model_module": "@jupyter-widgets/controls",
      "model_module_version": "1.5.0",
      "model_name": "DatePickerModel",
      "state": {
       "description": "Target date: ",
       "disabled": false,
       "layout": "IPY_MODEL_8474a998f2754f56aefb2b34e215ff32",
       "style": "IPY_MODEL_abb92e30f3644cdb8bd1dcc88e8b8574",
       "value": {
        "date": 29,
        "month": 2,
        "year": 2013
       }
      }
     },
     "5a7a771dd6934de09d0a5c52ad5b211b": {
      "model_module": "@jupyter-widgets/controls",
      "model_module_version": "1.5.0",
      "model_name": "ButtonStyleModel",
      "state": {}
     },
     "5b6aebe7ebde4193a74be0213ab7e249": {
      "model_module": "@jupyter-widgets/base",
      "model_module_version": "1.2.0",
      "model_name": "LayoutModel",
      "state": {}
     },
     "5bf7b629a86448248164676d689a60f0": {
      "model_module": "@jupyter-widgets/base",
      "model_module_version": "1.2.0",
      "model_name": "LayoutModel",
      "state": {}
     },
     "5f6daecf499341b788f79b28cd5dcc82": {
      "model_module": "@jupyter-widgets/controls",
      "model_module_version": "1.5.0",
      "model_name": "ButtonStyleModel",
      "state": {}
     },
     "615b95331f504f9a830826065edee823": {
      "model_module": "@jupyter-widgets/controls",
      "model_module_version": "1.5.0",
      "model_name": "DropdownModel",
      "state": {
       "_options_labels": [
        "---",
        "UK Web Archive",
        "National Library of Australia",
        "National Library of New Zealand",
        "Internet Archive"
       ],
       "description": "Archive:",
       "index": 2,
       "layout": "IPY_MODEL_dccfffa226a147fd8c64c70e02084d77",
       "style": "IPY_MODEL_a17589a9e20b43afa6210c9179e60e53"
      }
     },
     "61da6d123c16494daf12348ea72fa300": {
      "model_module": "@jupyter-widgets/controls",
      "model_module_version": "1.5.0",
      "model_name": "DescriptionStyleModel",
      "state": {
       "description_width": ""
      }
     },
     "66413a8a2246417191de732c0e52cdd2": {
      "model_module": "@jupyter-widgets/output",
      "model_module_version": "1.0.0",
      "model_name": "OutputModel",
      "state": {
       "layout": "IPY_MODEL_eee706c6c1a244c08870038adaf5fdda"
      }
     },
     "6ab6f7f795ea414380d3db7ddca44d5e": {
      "model_module": "@jupyter-widgets/controls",
      "model_module_version": "1.5.0",
      "model_name": "ButtonStyleModel",
      "state": {}
     },
     "6d8bf57250b14c9aa3a3d05643f26df2": {
      "model_module": "@jupyter-widgets/controls",
      "model_module_version": "1.5.0",
      "model_name": "ButtonModel",
      "state": {
       "button_style": "primary",
       "description": "Get screenshot",
       "layout": "IPY_MODEL_256f2f49721f41eda24d0054107a19a3",
       "style": "IPY_MODEL_f1432b430c5c48c4a0ba89140db9161e"
      }
     },
     "6e314615a419438d9d73e9bcca786247": {
      "model_module": "@jupyter-widgets/controls",
      "model_module_version": "1.5.0",
      "model_name": "HBoxModel",
      "state": {
       "children": [
        "IPY_MODEL_e377cf0bf52546cc9d39f2a106f1b8ba",
        "IPY_MODEL_20e82684a7534914bfeb2900fadb0e6f"
       ],
       "layout": "IPY_MODEL_c77915abde4d4cc6a8a201ac22d839ad"
      }
     },
     "70d5f38b209e4e9187d7abf0e8ee7eeb": {
      "model_module": "@jupyter-widgets/controls",
      "model_module_version": "1.5.0",
      "model_name": "ButtonModel",
      "state": {
       "button_style": "primary",
       "description": "Get screenshot",
       "layout": "IPY_MODEL_79c14bddface435b91b74f93e18df381",
       "style": "IPY_MODEL_50bb5cf6d0144ad3bba1401d742eb87a"
      }
     },
     "76565fb6c23048518a8365548ef9d2ca": {
      "model_module": "@jupyter-widgets/base",
      "model_module_version": "1.2.0",
      "model_name": "LayoutModel",
      "state": {}
     },
     "767cf9d1ba674f8587399e2423c75e92": {
      "model_module": "@jupyter-widgets/base",
      "model_module_version": "1.2.0",
      "model_name": "LayoutModel",
      "state": {}
     },
     "76cf2014dc53486c8595045643fe9086": {
      "model_module": "@jupyter-widgets/controls",
      "model_module_version": "1.5.0",
      "model_name": "TextModel",
      "state": {
       "description": "Target URL:",
       "layout": "IPY_MODEL_29332d79f9f2465b825af8edbd4a8f81",
       "style": "IPY_MODEL_dd926c2894284112b9fc8531fb81ff33",
       "value": "http://pm.gov.au"
      }
     },
     "77da0e332c0e4bab891b0c7c53d7d102": {
      "model_module": "@jupyter-widgets/controls",
      "model_module_version": "1.5.0",
      "model_name": "ButtonModel",
      "state": {
       "description": "Clear all",
       "layout": "IPY_MODEL_f4f4c2833c974e49b7cfa7bffbc7a69f",
       "style": "IPY_MODEL_07319dc65c754a71af0867eddb032193"
      }
     },
     "79c14bddface435b91b74f93e18df381": {
      "model_module": "@jupyter-widgets/base",
      "model_module_version": "1.2.0",
      "model_name": "LayoutModel",
      "state": {}
     },
     "7a04e5e5272d4f639598bf4f0a0ab9c3": {
      "model_module": "@jupyter-widgets/output",
      "model_module_version": "1.0.0",
      "model_name": "OutputModel",
      "state": {
       "layout": "IPY_MODEL_c4355087aebb470db05b8c91095a9737"
      }
     },
     "7a4b3b22c8444e8e8fd45707327e8d7a": {
      "model_module": "@jupyter-widgets/controls",
      "model_module_version": "1.5.0",
      "model_name": "HBoxModel",
      "state": {
       "children": [
        "IPY_MODEL_dec0f84872c044dfb1dc6afb511b0285",
        "IPY_MODEL_1aeb2ffe7bd84a819660cafeb50527a4"
       ],
       "layout": "IPY_MODEL_31c60bff8d994080a24879feecda4128"
      }
     },
     "7ef055b7a3104686bab45ec4243befa7": {
      "model_module": "@jupyter-widgets/base",
      "model_module_version": "1.2.0",
      "model_name": "LayoutModel",
      "state": {}
     },
     "81ddbd22ac724c89b98824f42bdb6db3": {
      "model_module": "@jupyter-widgets/base",
      "model_module_version": "1.2.0",
      "model_name": "LayoutModel",
      "state": {}
     },
     "81f037587821413c9155c0f9186bbdac": {
      "model_module": "@jupyter-widgets/controls",
      "model_module_version": "1.5.0",
      "model_name": "TextModel",
      "state": {
       "description": "Target URL:",
       "layout": "IPY_MODEL_5bf7b629a86448248164676d689a60f0",
       "style": "IPY_MODEL_239a8672897d40d180ad166188027232",
       "value": "http://pm.gov.au"
      }
     },
     "82a4cf512e6e4dfe903fa684ebbbaff1": {
      "model_module": "@jupyter-widgets/base",
      "model_module_version": "1.2.0",
      "model_name": "LayoutModel",
      "state": {}
     },
     "8474a998f2754f56aefb2b34e215ff32": {
      "model_module": "@jupyter-widgets/base",
      "model_module_version": "1.2.0",
      "model_name": "LayoutModel",
      "state": {}
     },
     "8564beb3af3c4e96aa755ed16d768b40": {
      "model_module": "@jupyter-widgets/controls",
      "model_module_version": "1.5.0",
      "model_name": "ButtonStyleModel",
      "state": {}
     },
     "86ebd953184f441a80b053539fea5889": {
      "model_module": "@jupyter-widgets/controls",
      "model_module_version": "1.5.0",
      "model_name": "ButtonModel",
      "state": {
       "description": "Clear all",
       "layout": "IPY_MODEL_3a4c69d13a8a4f47a82bcd14ac41d246",
       "style": "IPY_MODEL_5a7a771dd6934de09d0a5c52ad5b211b"
      }
     },
     "872a70d4799e4a28b193fb12f0af3abf": {
      "model_module": "@jupyter-widgets/base",
      "model_module_version": "1.2.0",
      "model_name": "LayoutModel",
      "state": {}
     },
     "8929b9893baf48d68595c60bcd720996": {
      "model_module": "@jupyter-widgets/base",
      "model_module_version": "1.2.0",
      "model_name": "LayoutModel",
      "state": {}
     },
     "8a2cd6395bfb4c6589865fa823259c1b": {
      "model_module": "@jupyter-widgets/controls",
      "model_module_version": "1.5.0",
      "model_name": "ButtonModel",
      "state": {
       "button_style": "primary",
       "description": "Get screenshot",
       "layout": "IPY_MODEL_fd24cfae5b844bb58851775aa06e4951",
       "style": "IPY_MODEL_526912572df6445fa1aa1c2afef7881e"
      }
     },
     "8b7d21208ad2427dad0cfabca82d936e": {
      "model_module": "@jupyter-widgets/base",
      "model_module_version": "1.2.0",
      "model_name": "LayoutModel",
      "state": {
       "padding": "20px"
      }
     },
     "8d5da13779b84c53a339c484dc4b6869": {
      "model_module": "@jupyter-widgets/controls",
      "model_module_version": "1.5.0",
      "model_name": "DescriptionStyleModel",
      "state": {
       "description_width": ""
      }
     },
     "8e4089cf41984a9994e6efa5b27a210e": {
      "model_module": "@jupyter-widgets/controls",
      "model_module_version": "1.5.0",
      "model_name": "ButtonModel",
      "state": {
       "description": "Clear last",
       "layout": "IPY_MODEL_3a215831936a41639ae3df9a14dba3c3",
       "style": "IPY_MODEL_2430730c0b2a429083f3aa9de909548b"
      }
     },
     "8e5536db2c834a38a78a88d148f9c962": {
      "model_module": "@jupyter-widgets/base",
      "model_module_version": "1.2.0",
      "model_name": "LayoutModel",
      "state": {}
     },
     "94ffa4c386d3428cb77bdd27b0bae8e5": {
      "model_module": "@jupyter-widgets/controls",
      "model_module_version": "1.5.0",
      "model_name": "IntSliderModel",
      "state": {
       "continuous_update": false,
       "description": "Width:",
       "layout": "IPY_MODEL_4869f56821044ece8f98176013ca2346",
       "max": 1000,
       "min": 200,
       "step": 100,
       "style": "IPY_MODEL_ba2885afdc794dc0917490abd14064d6",
       "value": 200
      }
     },
     "9a80df097a274de9957ef89c1c1290be": {
      "model_module": "@jupyter-widgets/base",
      "model_module_version": "1.2.0",
      "model_name": "LayoutModel",
      "state": {}
     },
     "a13c2c50398446da9cf20b85d393cb93": {
      "model_module": "@jupyter-widgets/controls",
      "model_module_version": "1.5.0",
      "model_name": "VBoxModel",
      "state": {
       "children": [
        "IPY_MODEL_81f037587821413c9155c0f9186bbdac",
        "IPY_MODEL_94ffa4c386d3428cb77bdd27b0bae8e5"
       ],
       "layout": "IPY_MODEL_81ddbd22ac724c89b98824f42bdb6db3"
      }
     },
     "a17589a9e20b43afa6210c9179e60e53": {
      "model_module": "@jupyter-widgets/controls",
      "model_module_version": "1.5.0",
      "model_name": "DescriptionStyleModel",
      "state": {
       "description_width": ""
      }
     },
     "a4df2d5ed567459884be33cd3801d554": {
      "model_module": "@jupyter-widgets/controls",
      "model_module_version": "1.5.0",
      "model_name": "IntSliderModel",
      "state": {
       "continuous_update": false,
       "description": "Width:",
       "layout": "IPY_MODEL_a9b2cd57083e46cebfc8347644b813d8",
       "max": 1000,
       "min": 200,
       "step": 100,
       "style": "IPY_MODEL_aa0cd67dfcb342b3be08441009256678",
       "value": 200
      }
     },
     "a4e265a2d388499d820f7515a861e3bc": {
      "model_module": "@jupyter-widgets/base",
      "model_module_version": "1.2.0",
      "model_name": "LayoutModel",
      "state": {}
     },
     "a59a0726b2ee4502b480f8bfef645fa4": {
      "model_module": "@jupyter-widgets/base",
      "model_module_version": "1.2.0",
      "model_name": "LayoutModel",
      "state": {}
     },
     "a71afbdbc84a443e880eb8562e9299df": {
      "model_module": "@jupyter-widgets/controls",
      "model_module_version": "1.5.0",
      "model_name": "HBoxModel",
      "state": {
       "children": [
        "IPY_MODEL_ff43d85ff81146d89504733f2f8a148c",
        "IPY_MODEL_cef92bfec4de40c2a639b9e6c178e17f"
       ],
       "layout": "IPY_MODEL_8b7d21208ad2427dad0cfabca82d936e"
      }
     },
     "a86fabe22fa548139b344b04f576664e": {
      "model_module": "@jupyter-widgets/base",
      "model_module_version": "1.2.0",
      "model_name": "LayoutModel",
      "state": {}
     },
     "a9b2cd57083e46cebfc8347644b813d8": {
      "model_module": "@jupyter-widgets/base",
      "model_module_version": "1.2.0",
      "model_name": "LayoutModel",
      "state": {}
     },
     "a9fefc8e8212401aa34579071ac6288b": {
      "model_module": "@jupyter-widgets/controls",
      "model_module_version": "1.5.0",
      "model_name": "TextModel",
      "state": {
       "description": "Target URL:",
       "layout": "IPY_MODEL_82a4cf512e6e4dfe903fa684ebbbaff1",
       "style": "IPY_MODEL_efa5bfec19c940ae8b25216cbb05bde7"
      }
     },
     "aa0cd67dfcb342b3be08441009256678": {
      "model_module": "@jupyter-widgets/controls",
      "model_module_version": "1.5.0",
      "model_name": "SliderStyleModel",
      "state": {
       "description_width": ""
      }
     },
     "abb92e30f3644cdb8bd1dcc88e8b8574": {
      "model_module": "@jupyter-widgets/controls",
      "model_module_version": "1.5.0",
      "model_name": "DescriptionStyleModel",
      "state": {
       "description_width": ""
      }
     },
     "ad21299664014186b697810bb7cb75cd": {
      "model_module": "@jupyter-widgets/base",
      "model_module_version": "1.2.0",
      "model_name": "LayoutModel",
      "state": {}
     },
     "b57087a62c6547dea3bd6ba497fef4aa": {
      "model_module": "@jupyter-widgets/controls",
      "model_module_version": "1.5.0",
      "model_name": "HBoxModel",
      "state": {
       "children": [
        "IPY_MODEL_6d8bf57250b14c9aa3a3d05643f26df2",
        "IPY_MODEL_86ebd953184f441a80b053539fea5889",
        "IPY_MODEL_0a42a5ef217842d48729ce4a740dc30c"
       ],
       "layout": "IPY_MODEL_ad21299664014186b697810bb7cb75cd"
      }
     },
     "ba2885afdc794dc0917490abd14064d6": {
      "model_module": "@jupyter-widgets/controls",
      "model_module_version": "1.5.0",
      "model_name": "SliderStyleModel",
      "state": {
       "description_width": ""
      }
     },
     "c05f4c3d241d498cb9653e4d549ec119": {
      "model_module": "@jupyter-widgets/controls",
      "model_module_version": "1.5.0",
      "model_name": "DatePickerModel",
      "state": {
       "description": "Target date: ",
       "disabled": false,
       "layout": "IPY_MODEL_5b6aebe7ebde4193a74be0213ab7e249",
       "style": "IPY_MODEL_61da6d123c16494daf12348ea72fa300",
       "value": {
        "date": 25,
        "month": 10,
        "year": 2010
       }
      }
     },
     "c12d8e52507e4c719f48f6734bfc2d52": {
      "model_module": "@jupyter-widgets/controls",
      "model_module_version": "1.5.0",
      "model_name": "ButtonStyleModel",
      "state": {}
     },
     "c15697ac180f4fd38f2db58f1d668c1d": {
      "model_module": "@jupyter-widgets/base",
      "model_module_version": "1.2.0",
      "model_name": "LayoutModel",
      "state": {}
     },
     "c1571be97c184bbd967e2873feee52ac": {
      "model_module": "@jupyter-widgets/controls",
      "model_module_version": "1.5.0",
      "model_name": "HBoxModel",
      "state": {
       "children": [
        "IPY_MODEL_8a2cd6395bfb4c6589865fa823259c1b",
        "IPY_MODEL_177b40254c5a4adc87bd08e1c2d372be",
        "IPY_MODEL_d46a3745ddbe48fc8a94e9a2c7f1edfb"
       ],
       "layout": "IPY_MODEL_8e5536db2c834a38a78a88d148f9c962"
      }
     },
     "c4012506de234eff83a7ac5d943a74b8": {
      "model_module": "@jupyter-widgets/base",
      "model_module_version": "1.2.0",
      "model_name": "LayoutModel",
      "state": {}
     },
     "c4355087aebb470db05b8c91095a9737": {
      "model_module": "@jupyter-widgets/base",
      "model_module_version": "1.2.0",
      "model_name": "LayoutModel",
      "state": {}
     },
     "c77915abde4d4cc6a8a201ac22d839ad": {
      "model_module": "@jupyter-widgets/base",
      "model_module_version": "1.2.0",
      "model_name": "LayoutModel",
      "state": {
       "padding": "20px"
      }
     },
     "c953900d4bd64949bbf90d006010b8a8": {
      "model_module": "@jupyter-widgets/controls",
      "model_module_version": "1.5.0",
      "model_name": "HBoxModel",
      "state": {
       "children": [
        "IPY_MODEL_3b64951f43eb4aa6a7263b9b6312779f",
        "IPY_MODEL_a13c2c50398446da9cf20b85d393cb93"
       ],
       "layout": "IPY_MODEL_07b3b8a0dce34f198655d2a21e87b0b4"
      }
     },
     "cb097d4bc77d4110b39273761cc24a80": {
      "model_module": "@jupyter-widgets/controls",
      "model_module_version": "1.5.0",
      "model_name": "ButtonModel",
      "state": {
       "button_style": "primary",
       "description": "Get screenshot",
       "layout": "IPY_MODEL_25cbef0e21a5487ea1b024fe36ecd273",
       "style": "IPY_MODEL_5f6daecf499341b788f79b28cd5dcc82"
      }
     },
     "cef92bfec4de40c2a639b9e6c178e17f": {
      "model_module": "@jupyter-widgets/controls",
      "model_module_version": "1.5.0",
      "model_name": "VBoxModel",
      "state": {
       "children": [
        "IPY_MODEL_a9fefc8e8212401aa34579071ac6288b",
        "IPY_MODEL_a4df2d5ed567459884be33cd3801d554"
       ],
       "layout": "IPY_MODEL_dda9d91f18974f30bf8f376ed3a72c64"
      }
     },
     "d287767b9771487d86d26cf4b8c60192": {
      "model_module": "@jupyter-widgets/controls",
      "model_module_version": "1.5.0",
      "model_name": "DescriptionStyleModel",
      "state": {
       "description_width": ""
      }
     },
     "d2cf6ae4c8ac4c719b1cfc2dcf23c2b3": {
      "model_module": "@jupyter-widgets/controls",
      "model_module_version": "1.5.0",
      "model_name": "DescriptionStyleModel",
      "state": {
       "description_width": ""
      }
     },
     "d3dbfc6f36ce4866bdb34da703f0c09f": {
      "model_module": "@jupyter-widgets/controls",
      "model_module_version": "1.5.0",
      "model_name": "DropdownModel",
      "state": {
       "_options_labels": [
        "---",
        "UK Web Archive",
        "National Library of Australia",
        "National Library of New Zealand",
        "Internet Archive"
       ],
       "description": "Archive:",
       "index": 2,
       "layout": "IPY_MODEL_2a5ede3eba4d4ba3ba0f97d681d497f7",
       "style": "IPY_MODEL_8d5da13779b84c53a339c484dc4b6869"
      }
     },
     "d46a3745ddbe48fc8a94e9a2c7f1edfb": {
      "model_module": "@jupyter-widgets/controls",
      "model_module_version": "1.5.0",
      "model_name": "ButtonModel",
      "state": {
       "description": "Clear last",
       "layout": "IPY_MODEL_192b701594b74c5da07849d875fe775c",
       "style": "IPY_MODEL_c12d8e52507e4c719f48f6734bfc2d52"
      }
     },
     "d78b426341e84924846ec54519030cd2": {
      "model_module": "@jupyter-widgets/base",
      "model_module_version": "1.2.0",
      "model_name": "LayoutModel",
      "state": {}
     },
     "d7c102fe9c854a3db009c47eec808a4b": {
      "model_module": "@jupyter-widgets/base",
      "model_module_version": "1.2.0",
      "model_name": "LayoutModel",
      "state": {}
     },
     "db0369e500a44d8c81a662b248cd4a8f": {
      "model_module": "@jupyter-widgets/controls",
      "model_module_version": "1.5.0",
      "model_name": "ButtonModel",
      "state": {
       "description": "Clear last",
       "layout": "IPY_MODEL_dbb5dea183234b8fa54d22c73cb36cc9",
       "style": "IPY_MODEL_e70d673ce8d94953acbd5bf0b07710f2"
      }
     },
     "db7909976ae84bbc9bfb3db5d3a75d36": {
      "model_module": "@jupyter-widgets/base",
      "model_module_version": "1.2.0",
      "model_name": "LayoutModel",
      "state": {}
     },
     "dbb5dea183234b8fa54d22c73cb36cc9": {
      "model_module": "@jupyter-widgets/base",
      "model_module_version": "1.2.0",
      "model_name": "LayoutModel",
      "state": {}
     },
     "dccfffa226a147fd8c64c70e02084d77": {
      "model_module": "@jupyter-widgets/base",
      "model_module_version": "1.2.0",
      "model_name": "LayoutModel",
      "state": {}
     },
     "dd926c2894284112b9fc8531fb81ff33": {
      "model_module": "@jupyter-widgets/controls",
      "model_module_version": "1.5.0",
      "model_name": "DescriptionStyleModel",
      "state": {
       "description_width": ""
      }
     },
     "dda9d91f18974f30bf8f376ed3a72c64": {
      "model_module": "@jupyter-widgets/base",
      "model_module_version": "1.2.0",
      "model_name": "LayoutModel",
      "state": {}
     },
     "dec0f84872c044dfb1dc6afb511b0285": {
      "model_module": "@jupyter-widgets/controls",
      "model_module_version": "1.5.0",
      "model_name": "VBoxModel",
      "state": {
       "children": [
        "IPY_MODEL_615b95331f504f9a830826065edee823",
        "IPY_MODEL_f03585047fb440a5a3f60d0434b314e2"
       ],
       "layout": "IPY_MODEL_db7909976ae84bbc9bfb3db5d3a75d36"
      }
     },
     "e377cf0bf52546cc9d39f2a106f1b8ba": {
      "model_module": "@jupyter-widgets/controls",
      "model_module_version": "1.5.0",
      "model_name": "VBoxModel",
      "state": {
       "children": [
        "IPY_MODEL_d3dbfc6f36ce4866bdb34da703f0c09f",
        "IPY_MODEL_c05f4c3d241d498cb9653e4d549ec119"
       ],
       "layout": "IPY_MODEL_39c57078680b456b92660ad5d8cb1a81"
      }
     },
     "e70d673ce8d94953acbd5bf0b07710f2": {
      "model_module": "@jupyter-widgets/controls",
      "model_module_version": "1.5.0",
      "model_name": "ButtonStyleModel",
      "state": {}
     },
     "eea7ef0cf7c0448cb7c49ddb6b72d40e": {
      "model_module": "@jupyter-widgets/base",
      "model_module_version": "1.2.0",
      "model_name": "LayoutModel",
      "state": {}
     },
     "eee706c6c1a244c08870038adaf5fdda": {
      "model_module": "@jupyter-widgets/base",
      "model_module_version": "1.2.0",
      "model_name": "LayoutModel",
      "state": {}
     },
     "efa5bfec19c940ae8b25216cbb05bde7": {
      "model_module": "@jupyter-widgets/controls",
      "model_module_version": "1.5.0",
      "model_name": "DescriptionStyleModel",
      "state": {
       "description_width": ""
      }
     },
     "f03585047fb440a5a3f60d0434b314e2": {
      "model_module": "@jupyter-widgets/controls",
      "model_module_version": "1.5.0",
      "model_name": "DatePickerModel",
      "state": {
       "description": "Target date: ",
       "disabled": false,
       "layout": "IPY_MODEL_a4e265a2d388499d820f7515a861e3bc",
       "style": "IPY_MODEL_d2cf6ae4c8ac4c719b1cfc2dcf23c2b3",
       "value": {
        "date": 29,
        "month": 2,
        "year": 2013
       }
      }
     },
     "f1432b430c5c48c4a0ba89140db9161e": {
      "model_module": "@jupyter-widgets/controls",
      "model_module_version": "1.5.0",
      "model_name": "ButtonStyleModel",
      "state": {}
     },
     "f15bc7cf77094a0bb5e8bf9c2a180b0e": {
      "model_module": "@jupyter-widgets/controls",
      "model_module_version": "1.5.0",
      "model_name": "DescriptionStyleModel",
      "state": {
       "description_width": ""
      }
     },
     "f22a4abfe0d040ee98100e6d08c15b27": {
      "model_module": "@jupyter-widgets/base",
      "model_module_version": "1.2.0",
      "model_name": "LayoutModel",
      "state": {}
     },
     "f4f4c2833c974e49b7cfa7bffbc7a69f": {
      "model_module": "@jupyter-widgets/base",
      "model_module_version": "1.2.0",
      "model_name": "LayoutModel",
      "state": {}
     },
     "f72012c5c5084259b0b418c46d120205": {
      "model_module": "@jupyter-widgets/base",
      "model_module_version": "1.2.0",
      "model_name": "LayoutModel",
      "state": {}
     },
     "fc5024bbe36541f6bc48ef0e434ef5ad": {
      "model_module": "@jupyter-widgets/base",
      "model_module_version": "1.2.0",
      "model_name": "LayoutModel",
      "state": {}
     },
     "fd24cfae5b844bb58851775aa06e4951": {
      "model_module": "@jupyter-widgets/base",
      "model_module_version": "1.2.0",
      "model_name": "LayoutModel",
      "state": {}
     },
     "ff43d85ff81146d89504733f2f8a148c": {
      "model_module": "@jupyter-widgets/controls",
      "model_module_version": "1.5.0",
      "model_name": "VBoxModel",
      "state": {
       "children": [
        "IPY_MODEL_0988883ae10c4a8290e222d3bac9e1f6",
        "IPY_MODEL_3f3102c548764901ab064310ac97fab1"
       ],
       "layout": "IPY_MODEL_a86fabe22fa548139b344b04f576664e"
      }
     },
     "ff6753656d1a459381d3961232d0e2df": {
      "model_module": "@jupyter-widgets/controls",
      "model_module_version": "1.5.0",
      "model_name": "TextModel",
      "state": {
       "description": "Target URL:",
       "layout": "IPY_MODEL_a59a0726b2ee4502b480f8bfef645fa4",
       "style": "IPY_MODEL_4ad720f9d18e49268ba5bf926610c63a",
       "value": "http://pm.gov.au"
      }
     }
    },
    "version_major": 2,
    "version_minor": 0
   }
  }
 },
 "nbformat": 4,
 "nbformat_minor": 4
}
