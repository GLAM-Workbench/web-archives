{
 "cells": [
  {
   "cell_type": "markdown",
   "metadata": {},
   "source": [
    "# Get a full page screenshot from an archived web page"
   ]
  },
  {
   "cell_type": "code",
   "execution_count": 82,
   "metadata": {},
   "outputs": [],
   "source": [
    "from selenium import webdriver\n",
    "import requests\n",
    "import selenium\n",
    "from PIL import Image\n",
    "import PIL\n",
    "import io\n",
    "import base64\n",
    "import time\n",
    "import re\n",
    "import arrow\n",
    "from slugify import slugify\n",
    "from webdriverdownloader import GeckoDriverDownloader\n",
    "from pathlib import Path\n",
    "from IPython.display import display, HTML\n",
    "from urllib.parse import urlparse\n",
    "import ipywidgets as widgets\n",
    "\n",
    "gdd = GeckoDriverDownloader()\n",
    "geckodriver = gdd.download_and_install(\"v0.26.0\")[1]"
   ]
  },
  {
   "cell_type": "code",
   "execution_count": 90,
   "metadata": {},
   "outputs": [
    {
     "data": {
      "application/vnd.jupyter.widget-view+json": {
       "model_id": "6885ace3f7ea4eac832e8deace3844a2",
       "version_major": 2,
       "version_minor": 0
      },
      "text/plain": [
       "HBox(children=(VBox(children=(Dropdown(description='Archive:', options=(('UK Web Archive', 'bl'), ('National L…"
      ]
     },
     "metadata": {},
     "output_type": "display_data"
    },
    {
     "data": {
      "application/vnd.jupyter.widget-view+json": {
       "model_id": "1b14fe2b8ed04aea89222f26d58da5da",
       "version_major": 2,
       "version_minor": 0
      },
      "text/plain": [
       "Button(description='Get screenshot', style=ButtonStyle())"
      ]
     },
     "metadata": {},
     "output_type": "display_data"
    },
    {
     "data": {
      "application/vnd.jupyter.widget-view+json": {
       "model_id": "7e07898f618940e2920ebb135c3138b4",
       "version_major": 2,
       "version_minor": 0
      },
      "text/plain": [
       "Output()"
      ]
     },
     "metadata": {},
     "output_type": "display_data"
    }
   ],
   "source": [
    "TIMEGATES = {\n",
    "    'nla': 'https://web.archive.org.au/awa/',\n",
    "    'nlnz': 'https://ndhadeliver.natlib.govt.nz/webarchive/wayback/',\n",
    "    'bl': 'https://www.webarchive.org.uk/wayback/archive/',\n",
    "    'ia': 'https://web.archive.org/web/'\n",
    "}\n",
    "\n",
    "pywb = ['webarchive.org.uk', 'web.archive.org.au']\n",
    "wayback = ['ndhadeliver.natlib.govt.nz', 'web.archive.org']\n",
    "\n",
    "def format_date_for_headers(iso_date, tz):\n",
    "    '''\n",
    "    Convert an ISO date (YYYY-MM-DD) to a datetime at noon in the specified timezone.\n",
    "    Convert the datetime to UTC and format as required by Accet-Datetime headers:\n",
    "    eg Fri, 23 Mar 2007 01:00:00 GMT\n",
    "    '''\n",
    "    local = arrow.get(f'{iso_date} 12:00:00 {tz}', 'YYYY-MM-DD HH:mm:ss ZZZ')\n",
    "    gmt = local.to('utc')\n",
    "    return f'{gmt.format(\"ddd, DD MMM YYYY HH:mm:ss\")} GMT'\n",
    "\n",
    "def parse_links_from_headers(headers):\n",
    "    '''\n",
    "    Extract original, timegate, timemap, and memento links from 'Link' header.\n",
    "    '''\n",
    "    memento_links = {}\n",
    "    links = re.findall(r'<(.*?)>; rel=\"(original|timegate|timemap|memento|first memento|prev memento|next memento|last memento)\"', headers['Link'])\n",
    "    for url, url_type in links:\n",
    "        memento_links[url_type] = url\n",
    "    return memento_links\n",
    "\n",
    "def query_timegate(timegate, url, date=None, tz='Australia/Canberra'):\n",
    "    headers = {}\n",
    "    if date:\n",
    "        formatted_date = format_date_for_headers(date, tz)\n",
    "        headers['Accept-Datetime'] = formatted_date\n",
    "    # Note that you don't get a timegate response if you leave off the trailing slash, but extras don't hurt!\n",
    "    tg_url = f'{TIMEGATES[timegate]}{url}/'\n",
    "    response = requests.get(tg_url, headers=headers)\n",
    "    return parse_links_from_headers(response.headers)\n",
    "\n",
    "def get_memento():\n",
    "    links = query_timegate(repository.value, target_url.value, target_date.value)\n",
    "    return links['memento']\n",
    "    \n",
    "def get_full_page_screenshot(url, save_width=200):\n",
    "    '''\n",
    "    Gets a full page screenshot of the supplied url.\n",
    "    By default resizes the screenshot to a maximum width of 200px.\n",
    "    Provide a 'save_width' value to change this.\n",
    "    \n",
    "    NOTE the webdriver sometimes fails for unknown reasons. Just try again.\n",
    "    '''\n",
    "    domain = urlparse(url)[1].replace('www.', '')\n",
    "    # NZ and IA inject content into the page, so we use if_ to get the original page (with rewritten urls)\n",
    "    if domain in wayback and 'if_' not in url:\n",
    "        url = re.sub(r'/(\\d{14})/http', r'/\\1if_/http', url)\n",
    "    date_str, site = re.search(r'/(\\d{14})(?:if_|mp_)*/https*://(.+/)', url).groups()\n",
    "    ss_file = Path('screenshots', f'{slugify(site)}-{date_str}-{save_width}.png')\n",
    "    options = webdriver.FirefoxOptions()\n",
    "    options.headless = True\n",
    "    driver = webdriver.Firefox(executable_path=geckodriver, options=options)\n",
    "    driver.get(url)\n",
    "    # Give some time for everything to load\n",
    "    time.sleep(5)\n",
    "    driver.maximize_window()\n",
    "    current_width = driver.get_window_size()['width']\n",
    "    # UK and AU use pywb in framed replay mode, so we need to switch to the framed content\n",
    "    if domain in pywb:\n",
    "        driver.switch_to.frame(0)\n",
    "    try:\n",
    "        ss = driver.find_element_by_tag_name('body').screenshot_as_base64\n",
    "    except selenium.common.exceptions.NoSuchElementException:\n",
    "        ss = driver.find_element_by_tag_name('frameset').screenshot_as_base64\n",
    "    driver.quit()\n",
    "    img = Image.open(io.BytesIO(base64.b64decode(ss)))\n",
    "    ratio = save_width / current_width\n",
    "    (width, height) = (round(img.width * ratio), round(img.height * ratio))\n",
    "    resized_img = img.resize((width, height), PIL.Image.LANCZOS)\n",
    "    resized_img.save(ss_file)\n",
    "    out.clear_output()\n",
    "    with out:\n",
    "        display(HTML(f'<img src=\"{ss_file}\">'))\n",
    "        \n",
    "def start(e):\n",
    "    out.clear_output()\n",
    "    with out:\n",
    "        print('Generating screenshot...')\n",
    "    memento = get_memento()\n",
    "    get_full_page_screenshot(memento, save_width=width.value)\n",
    "\n",
    "repository = widgets.Dropdown(\n",
    "    options=[('UK Web Archive', 'bl'), ('National Library of Australia', 'nla'), ('National Library of New Zealand', 'nlnz'), ('Internet Archive', 'ia')],\n",
    "    value='bl',\n",
    "    description='Archive:',\n",
    "    disabled=False,\n",
    ")\n",
    "\n",
    "target_url = widgets.Text(description='Target URL:')\n",
    "\n",
    "target_date = widgets.DatePicker(\n",
    "    description='Target date: ',\n",
    "    disabled=False\n",
    ")\n",
    "\n",
    "width = widgets.IntSlider(\n",
    "    value=7,\n",
    "    min=200,\n",
    "    max=1000,\n",
    "    step=100,\n",
    "    description='Width:',\n",
    "    disabled=False,\n",
    "    continuous_update=False,\n",
    "    orientation='horizontal',\n",
    "    readout=True,\n",
    "    readout_format='d'\n",
    ")\n",
    "\n",
    "out = widgets.Output()\n",
    "ss_button = widgets.Button(description='Get screenshot')\n",
    "ss_button.on_click(start)\n",
    "display(widgets.HBox([widgets.VBox([repository, target_date]), widgets.VBox([target_url, width])]), ss_button, out)"
   ]
  },
  {
   "cell_type": "code",
   "execution_count": null,
   "metadata": {},
   "outputs": [],
   "source": []
  }
 ],
 "metadata": {
  "kernelspec": {
   "display_name": "Python 3",
   "language": "python",
   "name": "python3"
  },
  "language_info": {
   "codemirror_mode": {
    "name": "ipython",
    "version": 3
   },
   "file_extension": ".py",
   "mimetype": "text/x-python",
   "name": "python",
   "nbconvert_exporter": "python",
   "pygments_lexer": "ipython3",
   "version": "3.7.3"
  },
  "widgets": {
   "application/vnd.jupyter.widget-state+json": {
    "state": {
     "0008536ef376401bab4ed005fc2acd09": {
      "model_module": "@jupyter-widgets/controls",
      "model_module_version": "1.5.0",
      "model_name": "VBoxModel",
      "state": {
       "children": [
        "IPY_MODEL_245afa0f27f74981b01dbac310fb7e22",
        "IPY_MODEL_c5539a09990540179e177c7925f3bb0b"
       ],
       "layout": "IPY_MODEL_4c841636e7da4a9d8f8d7e0bc3064909"
      }
     },
     "01334af6f38646888d252e8c64b8188d": {
      "model_module": "@jupyter-widgets/controls",
      "model_module_version": "1.5.0",
      "model_name": "VBoxModel",
      "state": {
       "children": [
        "IPY_MODEL_e636f2ec18464f358734af00a150800c",
        "IPY_MODEL_10816ee9d5034132bb3d26f5af545489"
       ],
       "layout": "IPY_MODEL_73571dfc0d3642caa365c71abb392228"
      }
     },
     "015f5df2aed846e3a68e20d174326291": {
      "model_module": "@jupyter-widgets/controls",
      "model_module_version": "1.5.0",
      "model_name": "IntSliderModel",
      "state": {
       "continuous_update": false,
       "description": "Width:",
       "layout": "IPY_MODEL_a5c7e1d2d68e463a8479f54b621162c0",
       "max": 1000,
       "min": 200,
       "step": 100,
       "style": "IPY_MODEL_ecb94af4540c473ea95c0d4516b46ee3",
       "value": 200
      }
     },
     "025c05d9c3244a1aa1d2ba2c6f2ff88f": {
      "model_module": "@jupyter-widgets/controls",
      "model_module_version": "1.5.0",
      "model_name": "IntSliderModel",
      "state": {
       "continuous_update": false,
       "description": "Width:",
       "layout": "IPY_MODEL_9333edee734e42b2a9b5d7ccb58d05c6",
       "max": 1000,
       "min": 200,
       "step": 100,
       "style": "IPY_MODEL_d7cadd83783f4236ae59234915c80fc1",
       "value": 200
      }
     },
     "026f3cfdfc1147479847b74ca70dd376": {
      "model_module": "@jupyter-widgets/base",
      "model_module_version": "1.2.0",
      "model_name": "LayoutModel",
      "state": {}
     },
     "0280974700f24442b0044c8db2903c2e": {
      "model_module": "@jupyter-widgets/base",
      "model_module_version": "1.2.0",
      "model_name": "LayoutModel",
      "state": {}
     },
     "029aaf506c4d46fe99cbb94abf597786": {
      "model_module": "@jupyter-widgets/base",
      "model_module_version": "1.2.0",
      "model_name": "LayoutModel",
      "state": {}
     },
     "0439aacd7abf4c7aa624b820747237f8": {
      "model_module": "@jupyter-widgets/base",
      "model_module_version": "1.2.0",
      "model_name": "LayoutModel",
      "state": {}
     },
     "04464f0450be499e8dd8c58a23335700": {
      "model_module": "@jupyter-widgets/controls",
      "model_module_version": "1.5.0",
      "model_name": "TextModel",
      "state": {
       "description": "Target URL:",
       "layout": "IPY_MODEL_4f496b535caf40c3a1402fcf9c073296",
       "style": "IPY_MODEL_e5b6bf0db464470eae08d3184b20189d"
      }
     },
     "04bf674ea13346e78ceb5d6636a15b1a": {
      "model_module": "@jupyter-widgets/base",
      "model_module_version": "1.2.0",
      "model_name": "LayoutModel",
      "state": {}
     },
     "05215f5168544a8a9e7038d20914439b": {
      "model_module": "@jupyter-widgets/controls",
      "model_module_version": "1.5.0",
      "model_name": "DescriptionStyleModel",
      "state": {
       "description_width": ""
      }
     },
     "052b64771420462d8998f108b670ba89": {
      "model_module": "@jupyter-widgets/controls",
      "model_module_version": "1.5.0",
      "model_name": "DatePickerModel",
      "state": {
       "description": "Target date: ",
       "disabled": false,
       "layout": "IPY_MODEL_c09337b507b24321bd7e0b3e1a981bae",
       "style": "IPY_MODEL_c15af1dbfdae4864b1cf5a60e9ea4128"
      }
     },
     "05612b7e0afe4f68ba8bdb6827c44484": {
      "model_module": "@jupyter-widgets/controls",
      "model_module_version": "1.5.0",
      "model_name": "SliderStyleModel",
      "state": {
       "description_width": ""
      }
     },
     "05cda44931ba40a3abf2610b0dbe90b5": {
      "model_module": "@jupyter-widgets/controls",
      "model_module_version": "1.5.0",
      "model_name": "IntSliderModel",
      "state": {
       "continuous_update": false,
       "description": "Width:",
       "layout": "IPY_MODEL_029aaf506c4d46fe99cbb94abf597786",
       "max": 1000,
       "min": 200,
       "step": 100,
       "style": "IPY_MODEL_beceb188716d490c8bec1ba6b71586d8",
       "value": 200
      }
     },
     "0624b259a4364a7085fc652c2f40070b": {
      "model_module": "@jupyter-widgets/base",
      "model_module_version": "1.2.0",
      "model_name": "LayoutModel",
      "state": {}
     },
     "064175af5f6e4ab7ade2ff906ce3dbdd": {
      "model_module": "@jupyter-widgets/controls",
      "model_module_version": "1.5.0",
      "model_name": "TextModel",
      "state": {
       "description": "Target URL:",
       "layout": "IPY_MODEL_375b0eb540844a28877b46a437503b79",
       "style": "IPY_MODEL_1a3f89b3743746a3b02e6b8b1f62b739",
       "value": "http://bl.uk"
      }
     },
     "07b437fac3dd45f28696e38f0e01063d": {
      "model_module": "@jupyter-widgets/base",
      "model_module_version": "1.2.0",
      "model_name": "LayoutModel",
      "state": {}
     },
     "07d5037ce9f045ad956232753fcce44b": {
      "model_module": "@jupyter-widgets/controls",
      "model_module_version": "1.5.0",
      "model_name": "DescriptionStyleModel",
      "state": {
       "description_width": ""
      }
     },
     "07ec0bc8288b47c5ac75bbfb09801cc3": {
      "model_module": "@jupyter-widgets/controls",
      "model_module_version": "1.5.0",
      "model_name": "DescriptionStyleModel",
      "state": {
       "description_width": ""
      }
     },
     "0919074d905b4266a03a5d7fac3fb9cf": {
      "model_module": "@jupyter-widgets/base",
      "model_module_version": "1.2.0",
      "model_name": "LayoutModel",
      "state": {}
     },
     "098f8918ab354d2eaf7d153a67594535": {
      "model_module": "@jupyter-widgets/base",
      "model_module_version": "1.2.0",
      "model_name": "LayoutModel",
      "state": {}
     },
     "09bb0b3024d94dfd9bc41863ac4d859f": {
      "model_module": "@jupyter-widgets/controls",
      "model_module_version": "1.5.0",
      "model_name": "ButtonStyleModel",
      "state": {}
     },
     "0c63361ce9f24919af95a2c61d4c4a36": {
      "model_module": "@jupyter-widgets/controls",
      "model_module_version": "1.5.0",
      "model_name": "DropdownModel",
      "state": {
       "_options_labels": [
        "British Library",
        "National Library of Australia",
        "National Library of New Zealand"
       ],
       "description": "Archive:",
       "index": 1,
       "layout": "IPY_MODEL_3a2ec8a56c5e421b8429c3405cdc48b3",
       "style": "IPY_MODEL_f2944a5d4dd84191915b45ea86fed306"
      }
     },
     "0d0b7ca1d23142fbb12efd715fac34cf": {
      "model_module": "@jupyter-widgets/controls",
      "model_module_version": "1.5.0",
      "model_name": "VBoxModel",
      "state": {
       "children": [
        "IPY_MODEL_bf8c9098c8764f598d574472c5d81e9a",
        "IPY_MODEL_d747e0575e85485faa8e19d8fa4c7971"
       ],
       "layout": "IPY_MODEL_d49238b8b6134ad2b75288f701332a3b"
      }
     },
     "0d5e87b6fa424f12b18a083b22b5ba83": {
      "model_module": "@jupyter-widgets/base",
      "model_module_version": "1.2.0",
      "model_name": "LayoutModel",
      "state": {}
     },
     "0e1dfc99c8c24744868a58c70d7756a2": {
      "model_module": "@jupyter-widgets/controls",
      "model_module_version": "1.5.0",
      "model_name": "DescriptionStyleModel",
      "state": {
       "description_width": ""
      }
     },
     "0e7afb04ccd7432a864e535fca19b129": {
      "model_module": "@jupyter-widgets/controls",
      "model_module_version": "1.5.0",
      "model_name": "VBoxModel",
      "state": {
       "children": [
        "IPY_MODEL_fafa29548bc7491c8a271f2d2a71a640",
        "IPY_MODEL_16dc151d0aee45a3aa4255636563e821"
       ],
       "layout": "IPY_MODEL_aab2ee2e43244c46a79d719cf264cf79"
      }
     },
     "0eaa92a264eb4e65b17cb5cdd4ac1f97": {
      "model_module": "@jupyter-widgets/base",
      "model_module_version": "1.2.0",
      "model_name": "LayoutModel",
      "state": {}
     },
     "0ebc90e57b1e40e1bb2574660c9ff7b3": {
      "model_module": "@jupyter-widgets/controls",
      "model_module_version": "1.5.0",
      "model_name": "HBoxModel",
      "state": {
       "children": [
        "IPY_MODEL_990a5826613341a787afceb736317263",
        "IPY_MODEL_4cbea0332e6c4ab9bbd912ac75d4ff88",
        "IPY_MODEL_edd0a76738e24ead89a63891843c93b2"
       ],
       "layout": "IPY_MODEL_954a9bb1b3a8476093919c442430d087"
      }
     },
     "0f04fc61b66f48ddb36bf87d57e8a6ab": {
      "model_module": "@jupyter-widgets/controls",
      "model_module_version": "1.5.0",
      "model_name": "VBoxModel",
      "state": {
       "children": [
        "IPY_MODEL_40125bcfc80c4d529e1d7d3abd446ad9",
        "IPY_MODEL_9dcc6139a50749a992621258f0fafc83"
       ],
       "layout": "IPY_MODEL_ffb7632e6e0d40a18bf19b409d2eac12"
      }
     },
     "0f37c888fedb4a6385589503ce928f37": {
      "model_module": "@jupyter-widgets/controls",
      "model_module_version": "1.5.0",
      "model_name": "DescriptionStyleModel",
      "state": {
       "description_width": ""
      }
     },
     "100d94d94e1a4fd5bdabf0b32ee76e75": {
      "model_module": "@jupyter-widgets/output",
      "model_module_version": "1.0.0",
      "model_name": "OutputModel",
      "state": {
       "layout": "IPY_MODEL_2245352693e4489a82523e60143d1d60",
       "outputs": [
        {
         "data": {
          "text/html": "<img src=\"screenshots/bl-uk-20120101010000-500.png\">",
          "text/plain": "<IPython.core.display.HTML object>"
         },
         "metadata": {},
         "output_type": "display_data"
        }
       ]
      }
     },
     "10816ee9d5034132bb3d26f5af545489": {
      "model_module": "@jupyter-widgets/controls",
      "model_module_version": "1.5.0",
      "model_name": "DatePickerModel",
      "state": {
       "description": "Target date: ",
       "disabled": false,
       "layout": "IPY_MODEL_b1fdcb2f3cf44d718bd37109e60e7a86",
       "style": "IPY_MODEL_3348dab537ce44ca9e79559bec9de9be"
      }
     },
     "10fa67318d6c47968ebfa9da0565eaca": {
      "model_module": "@jupyter-widgets/base",
      "model_module_version": "1.2.0",
      "model_name": "LayoutModel",
      "state": {}
     },
     "10ff971fd53b467c87f9262ab8987feb": {
      "model_module": "@jupyter-widgets/controls",
      "model_module_version": "1.5.0",
      "model_name": "DatePickerModel",
      "state": {
       "description": "Target date: ",
       "disabled": false,
       "layout": "IPY_MODEL_4157ed3cd1194362b7c961f0f8c84fd5",
       "style": "IPY_MODEL_3a75e96ef02e4ba3a80d2c6d19fd9296"
      }
     },
     "111dd8bfba3d46d889208192fe4011e2": {
      "model_module": "@jupyter-widgets/output",
      "model_module_version": "1.0.0",
      "model_name": "OutputModel",
      "state": {
       "layout": "IPY_MODEL_63f515d11e0b4534bab412dcc6b43f60",
       "outputs": [
        {
         "data": {
          "text/html": "<img src=\"screenshots/bl-uk-19980101010000-400.png\">",
          "text/plain": "<IPython.core.display.HTML object>"
         },
         "metadata": {},
         "output_type": "display_data"
        }
       ]
      }
     },
     "1130e35812d845b19ab51000a2e7a190": {
      "model_module": "@jupyter-widgets/base",
      "model_module_version": "1.2.0",
      "model_name": "LayoutModel",
      "state": {}
     },
     "11c3f48b42b24806b8fe93d0646e0fdd": {
      "model_module": "@jupyter-widgets/base",
      "model_module_version": "1.2.0",
      "model_name": "LayoutModel",
      "state": {}
     },
     "11ffbb4610e44c51ad7652c057aef949": {
      "model_module": "@jupyter-widgets/controls",
      "model_module_version": "1.5.0",
      "model_name": "VBoxModel",
      "state": {
       "children": [
        "IPY_MODEL_4cb91bc848d0444cb07ee74a01fe76ee",
        "IPY_MODEL_96e9a857b32846af9e4a9046838bc96e"
       ],
       "layout": "IPY_MODEL_e26b88ad42344fbf8f27e5cdd6a97277"
      }
     },
     "12b05047f1db49158a4a14d2293eff05": {
      "model_module": "@jupyter-widgets/base",
      "model_module_version": "1.2.0",
      "model_name": "LayoutModel",
      "state": {}
     },
     "133fa95809634809b435cfbef63acb69": {
      "model_module": "@jupyter-widgets/base",
      "model_module_version": "1.2.0",
      "model_name": "LayoutModel",
      "state": {}
     },
     "13558235e6754a758ad416cbf3c4d554": {
      "model_module": "@jupyter-widgets/controls",
      "model_module_version": "1.5.0",
      "model_name": "SliderStyleModel",
      "state": {
       "description_width": ""
      }
     },
     "13bac9acc1d943ac9913d537b4f8c5d4": {
      "model_module": "@jupyter-widgets/base",
      "model_module_version": "1.2.0",
      "model_name": "LayoutModel",
      "state": {}
     },
     "14556c8834194e6db22ef647e1fe2500": {
      "model_module": "@jupyter-widgets/controls",
      "model_module_version": "1.5.0",
      "model_name": "ButtonModel",
      "state": {
       "description": "Get screenshot",
       "layout": "IPY_MODEL_16e4b9402cab4b43a8c54403a94ca0de",
       "style": "IPY_MODEL_3c112a22139e4ff69bb1376e8dcc8e35"
      }
     },
     "14851ad067b54af3bd51114382d45f4f": {
      "model_module": "@jupyter-widgets/output",
      "model_module_version": "1.0.0",
      "model_name": "OutputModel",
      "state": {
       "layout": "IPY_MODEL_eea0fd3c656b4a238bc2252a7c5ea975"
      }
     },
     "153982e37f4e47128be22ff23775246a": {
      "model_module": "@jupyter-widgets/controls",
      "model_module_version": "1.5.0",
      "model_name": "TextModel",
      "state": {
       "description": "Target URL:",
       "layout": "IPY_MODEL_26e32d5c3d6146619bb6935da8da6a49",
       "style": "IPY_MODEL_39bc6dce7a9f490fb872c1336ae02d16",
       "value": "http://discontents.com.au"
      }
     },
     "157e7239e77f466e9d69171f74d2fb49": {
      "model_module": "@jupyter-widgets/base",
      "model_module_version": "1.2.0",
      "model_name": "LayoutModel",
      "state": {}
     },
     "159f8f2b594747d29502ae0d637fc347": {
      "model_module": "@jupyter-widgets/base",
      "model_module_version": "1.2.0",
      "model_name": "LayoutModel",
      "state": {}
     },
     "16dc151d0aee45a3aa4255636563e821": {
      "model_module": "@jupyter-widgets/controls",
      "model_module_version": "1.5.0",
      "model_name": "DatePickerModel",
      "state": {
       "description": "Target date: ",
       "disabled": false,
       "layout": "IPY_MODEL_225f9168023d4d4d8a14bdfde5625590",
       "style": "IPY_MODEL_dee2bb43445645a680416945d3d5f786"
      }
     },
     "16e4b9402cab4b43a8c54403a94ca0de": {
      "model_module": "@jupyter-widgets/base",
      "model_module_version": "1.2.0",
      "model_name": "LayoutModel",
      "state": {}
     },
     "1729a3d672a240b3871a6f26536c67a5": {
      "model_module": "@jupyter-widgets/controls",
      "model_module_version": "1.5.0",
      "model_name": "TextModel",
      "state": {
       "description": "URL:",
       "layout": "IPY_MODEL_c5001287905f4a0b89452e244d967d0c",
       "style": "IPY_MODEL_b09c404001ca40e3b7fbea321a83a81b"
      }
     },
     "178ff1108929497993f85c993b77f539": {
      "model_module": "@jupyter-widgets/base",
      "model_module_version": "1.2.0",
      "model_name": "LayoutModel",
      "state": {}
     },
     "1855f22890e042d3bd551df4e08b6f0e": {
      "model_module": "@jupyter-widgets/controls",
      "model_module_version": "1.5.0",
      "model_name": "DescriptionStyleModel",
      "state": {
       "description_width": ""
      }
     },
     "18dfb8802dcb4fc4b7c04766dcaa5f98": {
      "model_module": "@jupyter-widgets/controls",
      "model_module_version": "1.5.0",
      "model_name": "DropdownModel",
      "state": {
       "_options_labels": [
        "British Library",
        "National Library of Australia",
        "National Library of New Zealand"
       ],
       "description": "Archive:",
       "index": 0,
       "layout": "IPY_MODEL_85b8f17fdf1c47c7aba349c55e738d58",
       "style": "IPY_MODEL_a32e235a049045eb8f680f24dc51384c"
      }
     },
     "193696e80f0d4067ad48b32a93bf6bb5": {
      "model_module": "@jupyter-widgets/controls",
      "model_module_version": "1.5.0",
      "model_name": "DescriptionStyleModel",
      "state": {
       "description_width": ""
      }
     },
     "1a3f89b3743746a3b02e6b8b1f62b739": {
      "model_module": "@jupyter-widgets/controls",
      "model_module_version": "1.5.0",
      "model_name": "DescriptionStyleModel",
      "state": {
       "description_width": ""
      }
     },
     "1a89065bcf8743e1aefeed2128569174": {
      "model_module": "@jupyter-widgets/controls",
      "model_module_version": "1.5.0",
      "model_name": "DescriptionStyleModel",
      "state": {
       "description_width": ""
      }
     },
     "1aba9283b9a7495bbb060ce0e240eb4b": {
      "model_module": "@jupyter-widgets/controls",
      "model_module_version": "1.5.0",
      "model_name": "HBoxModel",
      "state": {
       "children": [
        "IPY_MODEL_11ffbb4610e44c51ad7652c057aef949",
        "IPY_MODEL_e7651306378341b0a3e144c3ef7d2e80"
       ],
       "layout": "IPY_MODEL_7784a6069cbb4198affb4a706bb7335c"
      }
     },
     "1ac2a00a733646e2bfd75fe5ff2d57ba": {
      "model_module": "@jupyter-widgets/base",
      "model_module_version": "1.2.0",
      "model_name": "LayoutModel",
      "state": {}
     },
     "1b14fe2b8ed04aea89222f26d58da5da": {
      "model_module": "@jupyter-widgets/controls",
      "model_module_version": "1.5.0",
      "model_name": "ButtonModel",
      "state": {
       "description": "Get screenshot",
       "layout": "IPY_MODEL_c2fe668f40d742d38eec2aaf295d5ecc",
       "style": "IPY_MODEL_34c161bf04754fcd8e378342994c4532"
      }
     },
     "1b4f4a06d4eb43fda57e82a1a7a8114d": {
      "model_module": "@jupyter-widgets/output",
      "model_module_version": "1.0.0",
      "model_name": "OutputModel",
      "state": {
       "layout": "IPY_MODEL_343b0cfca58c42f988b9f23197492a70",
       "outputs": [
        {
         "data": {
          "text/html": "<img src=\"screenshots/discontents-com-au-20200302223537-200.png\">",
          "text/plain": "<IPython.core.display.HTML object>"
         },
         "metadata": {},
         "output_type": "display_data"
        }
       ]
      }
     },
     "1bc0b9a2be6f4b658b4231c57b15e982": {
      "model_module": "@jupyter-widgets/base",
      "model_module_version": "1.2.0",
      "model_name": "LayoutModel",
      "state": {}
     },
     "1c1dd8dfd8e54e67b995efb25ac934c3": {
      "model_module": "@jupyter-widgets/controls",
      "model_module_version": "1.5.0",
      "model_name": "TextModel",
      "state": {
       "description": "URL:",
       "layout": "IPY_MODEL_2cff2992e5d3427292f8970a92c28989",
       "style": "IPY_MODEL_0e1dfc99c8c24744868a58c70d7756a2"
      }
     },
     "1c2ae9768ad94a099da11cdbd2f9478e": {
      "model_module": "@jupyter-widgets/controls",
      "model_module_version": "1.5.0",
      "model_name": "VBoxModel",
      "state": {
       "children": [
        "IPY_MODEL_e4fca71546e449b4b2e182acbc8da9eb",
        "IPY_MODEL_fa51b75e21bb4b8e91c596d3a5459a74"
       ],
       "layout": "IPY_MODEL_d7695239c44f4051b5737e85641b3872"
      }
     },
     "1d0b4aaf051045f8a804fae30ddf2e94": {
      "model_module": "@jupyter-widgets/base",
      "model_module_version": "1.2.0",
      "model_name": "LayoutModel",
      "state": {}
     },
     "1d4dc9e5a1c24bff8932930845244723": {
      "model_module": "@jupyter-widgets/controls",
      "model_module_version": "1.5.0",
      "model_name": "DatePickerModel",
      "state": {
       "description": "Target date: ",
       "disabled": false,
       "layout": "IPY_MODEL_80d301d53e1f4d429a80dd36c477d620",
       "style": "IPY_MODEL_23808594a8964e9a988c90724b7a61b3"
      }
     },
     "1d8bd6af734943faa46c5e59651a892f": {
      "model_module": "@jupyter-widgets/controls",
      "model_module_version": "1.5.0",
      "model_name": "DatePickerModel",
      "state": {
       "description": "First date: ",
       "disabled": false,
       "layout": "IPY_MODEL_430fa5604ea34392b05ce52d7d98531d",
       "style": "IPY_MODEL_8663f8cfee8248159c779a3fd214644a"
      }
     },
     "1df23bd52cb9448aa6f17888998b2dd5": {
      "model_module": "@jupyter-widgets/controls",
      "model_module_version": "1.5.0",
      "model_name": "HBoxModel",
      "state": {
       "children": [
        "IPY_MODEL_88cbbee51a2e486abff060a939148afa",
        "IPY_MODEL_ef3ef3b8e0d14f6b80ba388a61680a77"
       ],
       "layout": "IPY_MODEL_500181ee584f490089dfb975be6a447d"
      }
     },
     "1e71aa455ece4cd1b8672bcdc4b2e2ae": {
      "model_module": "@jupyter-widgets/controls",
      "model_module_version": "1.5.0",
      "model_name": "SliderStyleModel",
      "state": {
       "description_width": ""
      }
     },
     "20214d48add346f2987c0da21e46339b": {
      "model_module": "@jupyter-widgets/controls",
      "model_module_version": "1.5.0",
      "model_name": "TextModel",
      "state": {
       "description": "URL:",
       "layout": "IPY_MODEL_fabc2ac4fd8247b4a48b36549900a25a",
       "style": "IPY_MODEL_605cba38bfef402fb5d7bbaa2ad84d12"
      }
     },
     "2083cb166f894ee7afbf9613898180b4": {
      "model_module": "@jupyter-widgets/base",
      "model_module_version": "1.2.0",
      "model_name": "LayoutModel",
      "state": {}
     },
     "2102ac6c0ef9454094a057fdc6de1645": {
      "model_module": "@jupyter-widgets/base",
      "model_module_version": "1.2.0",
      "model_name": "LayoutModel",
      "state": {}
     },
     "21400a8124334abb8bc7c1f85ddb3c99": {
      "model_module": "@jupyter-widgets/controls",
      "model_module_version": "1.5.0",
      "model_name": "VBoxModel",
      "state": {
       "children": [
        "IPY_MODEL_04464f0450be499e8dd8c58a23335700",
        "IPY_MODEL_56a20f93bf9745baa3eb046ed1d1733b"
       ],
       "layout": "IPY_MODEL_1d0b4aaf051045f8a804fae30ddf2e94"
      }
     },
     "2245352693e4489a82523e60143d1d60": {
      "model_module": "@jupyter-widgets/base",
      "model_module_version": "1.2.0",
      "model_name": "LayoutModel",
      "state": {}
     },
     "225f9168023d4d4d8a14bdfde5625590": {
      "model_module": "@jupyter-widgets/base",
      "model_module_version": "1.2.0",
      "model_name": "LayoutModel",
      "state": {}
     },
     "2307dfbaf849494d9d929fc0f57ba6a7": {
      "model_module": "@jupyter-widgets/base",
      "model_module_version": "1.2.0",
      "model_name": "LayoutModel",
      "state": {}
     },
     "23808594a8964e9a988c90724b7a61b3": {
      "model_module": "@jupyter-widgets/controls",
      "model_module_version": "1.5.0",
      "model_name": "DescriptionStyleModel",
      "state": {
       "description_width": ""
      }
     },
     "24216ca5475b4ebb86307f84f0e0ffc8": {
      "model_module": "@jupyter-widgets/controls",
      "model_module_version": "1.5.0",
      "model_name": "HBoxModel",
      "state": {
       "children": [
        "IPY_MODEL_4d40f3a0ab764def852e4c24cebbb708",
        "IPY_MODEL_556c81034016443aa1a67fe89f0e0982"
       ],
       "layout": "IPY_MODEL_4e17d538e1b7492a912ac080f2a37393"
      }
     },
     "245afa0f27f74981b01dbac310fb7e22": {
      "model_module": "@jupyter-widgets/controls",
      "model_module_version": "1.5.0",
      "model_name": "DropdownModel",
      "state": {
       "_options_labels": [
        "British Library",
        "National Library of Australia",
        "National Library of New Zealand"
       ],
       "description": "Archive:",
       "index": 0,
       "layout": "IPY_MODEL_28d1d435c2b44ba1bcc6dc782f9603b5",
       "style": "IPY_MODEL_c912738e49a94253bdc481ce5f961e8d"
      }
     },
     "24a9c8febdef41dc96804a814eb3cea9": {
      "model_module": "@jupyter-widgets/controls",
      "model_module_version": "1.5.0",
      "model_name": "IntSliderModel",
      "state": {
       "continuous_update": false,
       "description": "Width:",
       "layout": "IPY_MODEL_a7f2dc7a0f684736b6c87bd6d272958f",
       "max": 1000,
       "min": 200,
       "step": 100,
       "style": "IPY_MODEL_c789c9850a1840fb86010693b1873087",
       "value": 500
      }
     },
     "256616e7783349219c09acc143ae9cd4": {
      "model_module": "@jupyter-widgets/controls",
      "model_module_version": "1.5.0",
      "model_name": "DropdownModel",
      "state": {
       "_options_labels": [
        "British Library",
        "National Library of Australia",
        "National Library of New Zealand"
       ],
       "description": "Archive:",
       "index": 0,
       "layout": "IPY_MODEL_ad26720594ff4928a550bec85b3fa367",
       "style": "IPY_MODEL_cc4ca7fb92244613b8aa38e70f200c40"
      }
     },
     "25a63aa2cec642198a3636c542279a70": {
      "model_module": "@jupyter-widgets/controls",
      "model_module_version": "1.5.0",
      "model_name": "ButtonStyleModel",
      "state": {}
     },
     "2632d6344c5b4d6595bd4baaa7dbdd7c": {
      "model_module": "@jupyter-widgets/base",
      "model_module_version": "1.2.0",
      "model_name": "LayoutModel",
      "state": {}
     },
     "26ca33283d9f4b21916af00678189e12": {
      "model_module": "@jupyter-widgets/base",
      "model_module_version": "1.2.0",
      "model_name": "LayoutModel",
      "state": {}
     },
     "26df2c05cd174377b159db10fdccf793": {
      "model_module": "@jupyter-widgets/controls",
      "model_module_version": "1.5.0",
      "model_name": "DescriptionStyleModel",
      "state": {
       "description_width": ""
      }
     },
     "26e32d5c3d6146619bb6935da8da6a49": {
      "model_module": "@jupyter-widgets/base",
      "model_module_version": "1.2.0",
      "model_name": "LayoutModel",
      "state": {}
     },
     "27a1befdfa854269ba3a5845bfaf5d93": {
      "model_module": "@jupyter-widgets/controls",
      "model_module_version": "1.5.0",
      "model_name": "HBoxModel",
      "state": {
       "children": [
        "IPY_MODEL_01334af6f38646888d252e8c64b8188d",
        "IPY_MODEL_57fc2ee097724398ba3b8eda842c4542"
       ],
       "layout": "IPY_MODEL_098f8918ab354d2eaf7d153a67594535"
      }
     },
     "282ed773c0d4497bbbf4d2b740d5aeae": {
      "model_module": "@jupyter-widgets/base",
      "model_module_version": "1.2.0",
      "model_name": "LayoutModel",
      "state": {}
     },
     "28d1d435c2b44ba1bcc6dc782f9603b5": {
      "model_module": "@jupyter-widgets/base",
      "model_module_version": "1.2.0",
      "model_name": "LayoutModel",
      "state": {}
     },
     "29b3615e67f9440295b979e6d16f9a01": {
      "model_module": "@jupyter-widgets/controls",
      "model_module_version": "1.5.0",
      "model_name": "DescriptionStyleModel",
      "state": {
       "description_width": ""
      }
     },
     "2aecee3de7bd42fd9bff3b212dbec193": {
      "model_module": "@jupyter-widgets/controls",
      "model_module_version": "1.5.0",
      "model_name": "ButtonModel",
      "state": {
       "description": "Get screenshot",
       "layout": "IPY_MODEL_de76d8b00c79416590c67699916a686e",
       "style": "IPY_MODEL_ccda11d3071248fc99d9f81410cae4a5"
      }
     },
     "2cdda79b91414ff680fe729a88dbb770": {
      "model_module": "@jupyter-widgets/controls",
      "model_module_version": "1.5.0",
      "model_name": "DescriptionStyleModel",
      "state": {
       "description_width": ""
      }
     },
     "2cff2992e5d3427292f8970a92c28989": {
      "model_module": "@jupyter-widgets/base",
      "model_module_version": "1.2.0",
      "model_name": "LayoutModel",
      "state": {}
     },
     "2e5b1f9cc80a48d98a383d7ead2bdedd": {
      "model_module": "@jupyter-widgets/controls",
      "model_module_version": "1.5.0",
      "model_name": "ButtonModel",
      "state": {
       "description": "Get screenshot",
       "layout": "IPY_MODEL_843bc0e2d15c4560bbb1bcf15a274fcd",
       "style": "IPY_MODEL_651dd2ec12304a23880c22b5638e2069"
      }
     },
     "3025d08c6144412e985882f95c6192f8": {
      "model_module": "@jupyter-widgets/base",
      "model_module_version": "1.2.0",
      "model_name": "LayoutModel",
      "state": {}
     },
     "303cdfc7b3dc404c9192d9b219aa8b79": {
      "model_module": "@jupyter-widgets/controls",
      "model_module_version": "1.5.0",
      "model_name": "DatePickerModel",
      "state": {
       "description": "Target date: ",
       "disabled": false,
       "layout": "IPY_MODEL_c85989216758495f8b88483d8ff67f97",
       "style": "IPY_MODEL_b92db2066ee643bc81f84ade4175de7a"
      }
     },
     "30abde314611492e8e7702cca3184b36": {
      "model_module": "@jupyter-widgets/controls",
      "model_module_version": "1.5.0",
      "model_name": "DescriptionStyleModel",
      "state": {
       "description_width": ""
      }
     },
     "3184f0741ec04cd797476dd517c72c72": {
      "model_module": "@jupyter-widgets/base",
      "model_module_version": "1.2.0",
      "model_name": "LayoutModel",
      "state": {}
     },
     "3348dab537ce44ca9e79559bec9de9be": {
      "model_module": "@jupyter-widgets/controls",
      "model_module_version": "1.5.0",
      "model_name": "DescriptionStyleModel",
      "state": {
       "description_width": ""
      }
     },
     "3371640ffe6446eca601c387fffb1ce4": {
      "model_module": "@jupyter-widgets/controls",
      "model_module_version": "1.5.0",
      "model_name": "DescriptionStyleModel",
      "state": {
       "description_width": ""
      }
     },
     "343b0cfca58c42f988b9f23197492a70": {
      "model_module": "@jupyter-widgets/base",
      "model_module_version": "1.2.0",
      "model_name": "LayoutModel",
      "state": {}
     },
     "34753af9dfea4037ab24ca6611922dde": {
      "model_module": "@jupyter-widgets/controls",
      "model_module_version": "1.5.0",
      "model_name": "DropdownModel",
      "state": {
       "_options_labels": [
        "British Library",
        "National Library of Australia",
        "National Library of New Zealand"
       ],
       "description": "Archive:",
       "index": 0,
       "layout": "IPY_MODEL_5ff0f274e00143748c71a0bfd304ee3f",
       "style": "IPY_MODEL_29b3615e67f9440295b979e6d16f9a01"
      }
     },
     "34c161bf04754fcd8e378342994c4532": {
      "model_module": "@jupyter-widgets/controls",
      "model_module_version": "1.5.0",
      "model_name": "ButtonStyleModel",
      "state": {}
     },
     "34c53396186f43b38a3a3c61616472d4": {
      "model_module": "@jupyter-widgets/base",
      "model_module_version": "1.2.0",
      "model_name": "LayoutModel",
      "state": {}
     },
     "35fe12b2a52b4a349706161c07e06cf2": {
      "model_module": "@jupyter-widgets/base",
      "model_module_version": "1.2.0",
      "model_name": "LayoutModel",
      "state": {}
     },
     "362aef62cf4044709b669b71ed8778fc": {
      "model_module": "@jupyter-widgets/base",
      "model_module_version": "1.2.0",
      "model_name": "LayoutModel",
      "state": {}
     },
     "36324f6974f34a648c0a986ac5d6c2f8": {
      "model_module": "@jupyter-widgets/base",
      "model_module_version": "1.2.0",
      "model_name": "LayoutModel",
      "state": {}
     },
     "364c790d134a49db8536bcd203ba7084": {
      "model_module": "@jupyter-widgets/controls",
      "model_module_version": "1.5.0",
      "model_name": "DescriptionStyleModel",
      "state": {
       "description_width": ""
      }
     },
     "3671487d5fa344f69471ad1060082e96": {
      "model_module": "@jupyter-widgets/base",
      "model_module_version": "1.2.0",
      "model_name": "LayoutModel",
      "state": {}
     },
     "3696e358a23d4b5a87dfce6c9649d553": {
      "model_module": "@jupyter-widgets/base",
      "model_module_version": "1.2.0",
      "model_name": "LayoutModel",
      "state": {}
     },
     "375b0eb540844a28877b46a437503b79": {
      "model_module": "@jupyter-widgets/base",
      "model_module_version": "1.2.0",
      "model_name": "LayoutModel",
      "state": {}
     },
     "384635bebb6448fabb858fdf9202e300": {
      "model_module": "@jupyter-widgets/base",
      "model_module_version": "1.2.0",
      "model_name": "LayoutModel",
      "state": {}
     },
     "384adaa370c347e0ac03fc085ddca609": {
      "model_module": "@jupyter-widgets/controls",
      "model_module_version": "1.5.0",
      "model_name": "VBoxModel",
      "state": {
       "children": [
        "IPY_MODEL_ae0542ebbdef443a8c2ff40fa320b913",
        "IPY_MODEL_6532fab947ee4f27b0cee60d9b6d2103"
       ],
       "layout": "IPY_MODEL_6e1eb32a0a0c497fbb681cea14dba976"
      }
     },
     "399d2fe1a17445219e3a95e50855cb93": {
      "model_module": "@jupyter-widgets/controls",
      "model_module_version": "1.5.0",
      "model_name": "DatePickerModel",
      "state": {
       "description": "Target date: ",
       "disabled": false,
       "layout": "IPY_MODEL_12b05047f1db49158a4a14d2293eff05",
       "style": "IPY_MODEL_cb14d66f6de240fabef95c5625aa8e70"
      }
     },
     "39bc6dce7a9f490fb872c1336ae02d16": {
      "model_module": "@jupyter-widgets/controls",
      "model_module_version": "1.5.0",
      "model_name": "DescriptionStyleModel",
      "state": {
       "description_width": ""
      }
     },
     "3a2ec8a56c5e421b8429c3405cdc48b3": {
      "model_module": "@jupyter-widgets/base",
      "model_module_version": "1.2.0",
      "model_name": "LayoutModel",
      "state": {}
     },
     "3a75e96ef02e4ba3a80d2c6d19fd9296": {
      "model_module": "@jupyter-widgets/controls",
      "model_module_version": "1.5.0",
      "model_name": "DescriptionStyleModel",
      "state": {
       "description_width": ""
      }
     },
     "3c112a22139e4ff69bb1376e8dcc8e35": {
      "model_module": "@jupyter-widgets/controls",
      "model_module_version": "1.5.0",
      "model_name": "ButtonStyleModel",
      "state": {}
     },
     "3c804439bb7548259e1e24f4e5b4db53": {
      "model_module": "@jupyter-widgets/base",
      "model_module_version": "1.2.0",
      "model_name": "LayoutModel",
      "state": {}
     },
     "3cb0568f91404827926c2c68ebf2e462": {
      "model_module": "@jupyter-widgets/base",
      "model_module_version": "1.2.0",
      "model_name": "LayoutModel",
      "state": {}
     },
     "3d7cc47d1cb346d38d528e54336305e1": {
      "model_module": "@jupyter-widgets/base",
      "model_module_version": "1.2.0",
      "model_name": "LayoutModel",
      "state": {}
     },
     "3d9ce8dce7cc417aa61f077e804dfca2": {
      "model_module": "@jupyter-widgets/controls",
      "model_module_version": "1.5.0",
      "model_name": "DatePickerModel",
      "state": {
       "description": "Target date: ",
       "disabled": false,
       "layout": "IPY_MODEL_a8849af9c0694212979d1b46e47ea94c",
       "style": "IPY_MODEL_193696e80f0d4067ad48b32a93bf6bb5"
      }
     },
     "3e664ea83eab4053b05bed79add45314": {
      "model_module": "@jupyter-widgets/base",
      "model_module_version": "1.2.0",
      "model_name": "LayoutModel",
      "state": {}
     },
     "3f9a01b1dffb4876be8c096f749085a9": {
      "model_module": "@jupyter-widgets/base",
      "model_module_version": "1.2.0",
      "model_name": "LayoutModel",
      "state": {}
     },
     "3fe220034fcc4a1c9bf1f01ae94f4df8": {
      "model_module": "@jupyter-widgets/base",
      "model_module_version": "1.2.0",
      "model_name": "LayoutModel",
      "state": {}
     },
     "40125bcfc80c4d529e1d7d3abd446ad9": {
      "model_module": "@jupyter-widgets/controls",
      "model_module_version": "1.5.0",
      "model_name": "TextModel",
      "state": {
       "description": "Target URL:",
       "layout": "IPY_MODEL_fb0faf0bbe5f4a24af6abe31f1a46ab3",
       "style": "IPY_MODEL_c7bdcfda15eb4f1e9280d3aaac806e84"
      }
     },
     "4017169232f44d51946c9fcfb1aba981": {
      "model_module": "@jupyter-widgets/controls",
      "model_module_version": "1.5.0",
      "model_name": "ButtonModel",
      "state": {
       "description": "Get screenshot",
       "layout": "IPY_MODEL_60fc50eef7b24150b30ee3fac4fd5a58",
       "style": "IPY_MODEL_b17b382b5179401b8f3ac2f8e36fcd18"
      }
     },
     "4024a87bf5234729be7533a308634af7": {
      "model_module": "@jupyter-widgets/controls",
      "model_module_version": "1.5.0",
      "model_name": "TextModel",
      "state": {
       "description": "Target URL:",
       "layout": "IPY_MODEL_1130e35812d845b19ab51000a2e7a190",
       "style": "IPY_MODEL_e9ddf9bbe7c443e7b86c80bc555cbb26"
      }
     },
     "4157ed3cd1194362b7c961f0f8c84fd5": {
      "model_module": "@jupyter-widgets/base",
      "model_module_version": "1.2.0",
      "model_name": "LayoutModel",
      "state": {}
     },
     "4171b05dfef54c5995f0c21d83a6921d": {
      "model_module": "@jupyter-widgets/controls",
      "model_module_version": "1.5.0",
      "model_name": "ButtonModel",
      "state": {
       "description": "Get screenshot",
       "layout": "IPY_MODEL_76d62855543840e2b8fb99e103efa2f9",
       "style": "IPY_MODEL_787126d6e6b34694a74c9e800f7525f5"
      }
     },
     "41d3a7eb5fbc49d5a1d9f21941c18fa1": {
      "model_module": "@jupyter-widgets/base",
      "model_module_version": "1.2.0",
      "model_name": "LayoutModel",
      "state": {}
     },
     "41dd4d21fc224ee0b96ee81353013913": {
      "model_module": "@jupyter-widgets/base",
      "model_module_version": "1.2.0",
      "model_name": "LayoutModel",
      "state": {}
     },
     "42432bf112ea4105994869f1ea17a27c": {
      "model_module": "@jupyter-widgets/controls",
      "model_module_version": "1.5.0",
      "model_name": "DescriptionStyleModel",
      "state": {
       "description_width": ""
      }
     },
     "425b1b18423a43e3aa67ec17b8c4c525": {
      "model_module": "@jupyter-widgets/base",
      "model_module_version": "1.2.0",
      "model_name": "LayoutModel",
      "state": {}
     },
     "430fa5604ea34392b05ce52d7d98531d": {
      "model_module": "@jupyter-widgets/base",
      "model_module_version": "1.2.0",
      "model_name": "LayoutModel",
      "state": {}
     },
     "4316cb3689d445f5863221b806e8f1bd": {
      "model_module": "@jupyter-widgets/base",
      "model_module_version": "1.2.0",
      "model_name": "LayoutModel",
      "state": {}
     },
     "43260d1f2fa44a4e9c91aa876552bbd0": {
      "model_module": "@jupyter-widgets/controls",
      "model_module_version": "1.5.0",
      "model_name": "VBoxModel",
      "state": {
       "children": [
        "IPY_MODEL_d1a1341c3f104807a6a32a5f6edb7335",
        "IPY_MODEL_3d9ce8dce7cc417aa61f077e804dfca2"
       ],
       "layout": "IPY_MODEL_46ba5f9e4d3444528877a3532a573380"
      }
     },
     "445ac71770074df096dfb2510dd2b95b": {
      "model_module": "@jupyter-widgets/controls",
      "model_module_version": "1.5.0",
      "model_name": "ButtonStyleModel",
      "state": {}
     },
     "44754ecb1658477baf3606774d19b9a9": {
      "model_module": "@jupyter-widgets/controls",
      "model_module_version": "1.5.0",
      "model_name": "DescriptionStyleModel",
      "state": {
       "description_width": ""
      }
     },
     "447c82e070a242e79db3ddfe84b6da65": {
      "model_module": "@jupyter-widgets/base",
      "model_module_version": "1.2.0",
      "model_name": "LayoutModel",
      "state": {}
     },
     "45179f8a72fe4fa89fcc148f022a5800": {
      "model_module": "@jupyter-widgets/controls",
      "model_module_version": "1.5.0",
      "model_name": "IntSliderModel",
      "state": {
       "continuous_update": false,
       "description": "Width:",
       "layout": "IPY_MODEL_6bd6fbb8b25740f4974716f6d0378ed7",
       "max": 1000,
       "min": 200,
       "step": 100,
       "style": "IPY_MODEL_9321efe3a8014d3cb61e5f43d540f101",
       "value": 500
      }
     },
     "451f90ea545245e7890f098573817d3b": {
      "model_module": "@jupyter-widgets/base",
      "model_module_version": "1.2.0",
      "model_name": "LayoutModel",
      "state": {}
     },
     "46ba5f9e4d3444528877a3532a573380": {
      "model_module": "@jupyter-widgets/base",
      "model_module_version": "1.2.0",
      "model_name": "LayoutModel",
      "state": {}
     },
     "477d0cdd07c54297b3c55aa2faab6117": {
      "model_module": "@jupyter-widgets/output",
      "model_module_version": "1.0.0",
      "model_name": "OutputModel",
      "state": {
       "layout": "IPY_MODEL_35fe12b2a52b4a349706161c07e06cf2",
       "outputs": [
        {
         "data": {
          "text/html": "<img src=\"screenshots/bl-uk-19980101010000-200.png\">",
          "text/plain": "<IPython.core.display.HTML object>"
         },
         "metadata": {},
         "output_type": "display_data"
        },
        {
         "data": {
          "text/html": "<img src=\"screenshots/bl-uk-20180101010000-200.png\">",
          "text/plain": "<IPython.core.display.HTML object>"
         },
         "metadata": {},
         "output_type": "display_data"
        }
       ]
      }
     },
     "47a5307499024767a8dff72cb0f077f9": {
      "model_module": "@jupyter-widgets/base",
      "model_module_version": "1.2.0",
      "model_name": "LayoutModel",
      "state": {}
     },
     "4852c9fd70984422b7447ebb8079e2c9": {
      "model_module": "@jupyter-widgets/controls",
      "model_module_version": "1.5.0",
      "model_name": "VBoxModel",
      "state": {
       "children": [
        "IPY_MODEL_256616e7783349219c09acc143ae9cd4",
        "IPY_MODEL_565e1f9219e7440993162c933e382daa",
        "IPY_MODEL_1d4dc9e5a1c24bff8932930845244723"
       ],
       "layout": "IPY_MODEL_7afc8ae0aaf042649cb201fdca529e22"
      }
     },
     "490984a5e3804545b3d3fbd53f293205": {
      "model_module": "@jupyter-widgets/controls",
      "model_module_version": "1.5.0",
      "model_name": "DatePickerModel",
      "state": {
       "description": "Target date: ",
       "disabled": false,
       "layout": "IPY_MODEL_c9e0b4237f154d68929ee10f908e252d",
       "style": "IPY_MODEL_928608650f1542a692d1da98c1057ea1"
      }
     },
     "49217533dd0848d98a5f96dc05ad53ff": {
      "model_module": "@jupyter-widgets/controls",
      "model_module_version": "1.5.0",
      "model_name": "IntSliderModel",
      "state": {
       "continuous_update": false,
       "description": "Width:",
       "layout": "IPY_MODEL_eff05c49ab8f444ebf4d47f5204caa14",
       "max": 1000,
       "min": 200,
       "step": 100,
       "style": "IPY_MODEL_aa760031ec064f0f9003b522ad992dfe",
       "value": 200
      }
     },
     "49d7830b978648d7b89025e5bc06df88": {
      "model_module": "@jupyter-widgets/base",
      "model_module_version": "1.2.0",
      "model_name": "LayoutModel",
      "state": {}
     },
     "4a507ea62e9a4f07b8fd0782b94a884e": {
      "model_module": "@jupyter-widgets/controls",
      "model_module_version": "1.5.0",
      "model_name": "DropdownModel",
      "state": {
       "_options_labels": [
        "British Library",
        "National Library of Australia",
        "National Library of New Zealand"
       ],
       "description": "Archive:",
       "index": 0,
       "layout": "IPY_MODEL_7fd8492a3424446a9a87c543c4f5831f",
       "style": "IPY_MODEL_538eddf0940b4b7f87c97c1cb29145de"
      }
     },
     "4abb384088824b5cae6010acbbe404f8": {
      "model_module": "@jupyter-widgets/base",
      "model_module_version": "1.2.0",
      "model_name": "LayoutModel",
      "state": {}
     },
     "4b01319638d44790bb2026648db2fe1f": {
      "model_module": "@jupyter-widgets/base",
      "model_module_version": "1.2.0",
      "model_name": "LayoutModel",
      "state": {}
     },
     "4b4c02e6310247819e780b26d1e6694f": {
      "model_module": "@jupyter-widgets/controls",
      "model_module_version": "1.5.0",
      "model_name": "SliderStyleModel",
      "state": {
       "description_width": ""
      }
     },
     "4c2df2a4fb2445f3baa0c6ab35d6f0fc": {
      "model_module": "@jupyter-widgets/controls",
      "model_module_version": "1.5.0",
      "model_name": "DatePickerModel",
      "state": {
       "description": "Target date: ",
       "disabled": false,
       "layout": "IPY_MODEL_3184f0741ec04cd797476dd517c72c72",
       "style": "IPY_MODEL_cdd9e499b5e2458c8c514bb4fa89eb42",
       "value": {
        "date": 1,
        "month": 0,
        "year": 2012
       }
      }
     },
     "4c841636e7da4a9d8f8d7e0bc3064909": {
      "model_module": "@jupyter-widgets/base",
      "model_module_version": "1.2.0",
      "model_name": "LayoutModel",
      "state": {}
     },
     "4cb91bc848d0444cb07ee74a01fe76ee": {
      "model_module": "@jupyter-widgets/controls",
      "model_module_version": "1.5.0",
      "model_name": "DropdownModel",
      "state": {
       "_options_labels": [
        "British Library",
        "National Library of Australia",
        "National Library of New Zealand"
       ],
       "description": "Archive:",
       "index": 0,
       "layout": "IPY_MODEL_801fad104e5747f8bb630b7e317d3c52",
       "style": "IPY_MODEL_6a2eab1d923d4476bb1d4656f230537c"
      }
     },
     "4cbea0332e6c4ab9bbd912ac75d4ff88": {
      "model_module": "@jupyter-widgets/controls",
      "model_module_version": "1.5.0",
      "model_name": "TextModel",
      "state": {
       "description": "URL:",
       "layout": "IPY_MODEL_3f9a01b1dffb4876be8c096f749085a9",
       "style": "IPY_MODEL_afb88508e105453e9bc3243d27893daf"
      }
     },
     "4d40f3a0ab764def852e4c24cebbb708": {
      "model_module": "@jupyter-widgets/controls",
      "model_module_version": "1.5.0",
      "model_name": "VBoxModel",
      "state": {
       "children": [
        "IPY_MODEL_9e8c665dbd2f4cb68b448714d13788eb",
        "IPY_MODEL_10ff971fd53b467c87f9262ab8987feb"
       ],
       "layout": "IPY_MODEL_178ff1108929497993f85c993b77f539"
      }
     },
     "4df40ea35180466c934bf87871b5bfea": {
      "model_module": "@jupyter-widgets/controls",
      "model_module_version": "1.5.0",
      "model_name": "IntSliderModel",
      "state": {
       "continuous_update": false,
       "description": "Width:",
       "layout": "IPY_MODEL_ec51ac3a3c704eb5a6454fc09d1441ed",
       "max": 1000,
       "min": 200,
       "step": 100,
       "style": "IPY_MODEL_aa9414b24bb548e8b15bdd4b054d2a80",
       "value": 200
      }
     },
     "4e17d538e1b7492a912ac080f2a37393": {
      "model_module": "@jupyter-widgets/base",
      "model_module_version": "1.2.0",
      "model_name": "LayoutModel",
      "state": {}
     },
     "4e944bbf35f041fd9fc1f96656482446": {
      "model_module": "@jupyter-widgets/base",
      "model_module_version": "1.2.0",
      "model_name": "LayoutModel",
      "state": {}
     },
     "4f496b535caf40c3a1402fcf9c073296": {
      "model_module": "@jupyter-widgets/base",
      "model_module_version": "1.2.0",
      "model_name": "LayoutModel",
      "state": {}
     },
     "4f92a955b8544985b8f0b156f1cbe763": {
      "model_module": "@jupyter-widgets/controls",
      "model_module_version": "1.5.0",
      "model_name": "DatePickerModel",
      "state": {
       "description": "Target date: ",
       "disabled": false,
       "layout": "IPY_MODEL_2632d6344c5b4d6595bd4baaa7dbdd7c",
       "style": "IPY_MODEL_98b836bd64524c34992731201a70152b"
      }
     },
     "500181ee584f490089dfb975be6a447d": {
      "model_module": "@jupyter-widgets/base",
      "model_module_version": "1.2.0",
      "model_name": "LayoutModel",
      "state": {}
     },
     "50bdd379496f427ca0c852843ceaaa5b": {
      "model_module": "@jupyter-widgets/controls",
      "model_module_version": "1.5.0",
      "model_name": "DescriptionStyleModel",
      "state": {
       "description_width": ""
      }
     },
     "5274b91eacf740af9aab14b03dd9dd41": {
      "model_module": "@jupyter-widgets/controls",
      "model_module_version": "1.5.0",
      "model_name": "DropdownModel",
      "state": {
       "_options_labels": [
        "UKWA",
        "National Library of Australia",
        "National Library of New Zealand",
        "Internet Archive"
       ],
       "description": "Archive:",
       "index": 0,
       "layout": "IPY_MODEL_d23db7e22a3d4a74804a2a6a92001fb9",
       "style": "IPY_MODEL_542c43424ae2437185ba597394b5b57e"
      }
     },
     "529b5f83c5cb40b89fb4cdbb1dc03047": {
      "model_module": "@jupyter-widgets/base",
      "model_module_version": "1.2.0",
      "model_name": "LayoutModel",
      "state": {}
     },
     "538eddf0940b4b7f87c97c1cb29145de": {
      "model_module": "@jupyter-widgets/controls",
      "model_module_version": "1.5.0",
      "model_name": "DescriptionStyleModel",
      "state": {
       "description_width": ""
      }
     },
     "542c43424ae2437185ba597394b5b57e": {
      "model_module": "@jupyter-widgets/controls",
      "model_module_version": "1.5.0",
      "model_name": "DescriptionStyleModel",
      "state": {
       "description_width": ""
      }
     },
     "556c81034016443aa1a67fe89f0e0982": {
      "model_module": "@jupyter-widgets/controls",
      "model_module_version": "1.5.0",
      "model_name": "VBoxModel",
      "state": {
       "children": [
        "IPY_MODEL_67b7ab766dd8447588cad049d1c9cc01",
        "IPY_MODEL_932d471bec204fd6a6c334cb0798db8c"
       ],
       "layout": "IPY_MODEL_a09c41c514c34d02944b6eb266e3a772"
      }
     },
     "565e1f9219e7440993162c933e382daa": {
      "model_module": "@jupyter-widgets/controls",
      "model_module_version": "1.5.0",
      "model_name": "TextModel",
      "state": {
       "description": "URL:",
       "layout": "IPY_MODEL_1ac2a00a733646e2bfd75fe5ff2d57ba",
       "style": "IPY_MODEL_07ec0bc8288b47c5ac75bbfb09801cc3"
      }
     },
     "5688660977a14b72b65bdbb042264cb7": {
      "model_module": "@jupyter-widgets/controls",
      "model_module_version": "1.5.0",
      "model_name": "DatePickerModel",
      "state": {
       "description": "Target date: ",
       "disabled": false,
       "layout": "IPY_MODEL_4e944bbf35f041fd9fc1f96656482446",
       "style": "IPY_MODEL_88233fe067a74d9097412c542ccebc55"
      }
     },
     "568aa743ed624c08b0297e1753c976fa": {
      "model_module": "@jupyter-widgets/base",
      "model_module_version": "1.2.0",
      "model_name": "LayoutModel",
      "state": {}
     },
     "56a20f93bf9745baa3eb046ed1d1733b": {
      "model_module": "@jupyter-widgets/controls",
      "model_module_version": "1.5.0",
      "model_name": "IntSliderModel",
      "state": {
       "continuous_update": false,
       "description": "Width:",
       "layout": "IPY_MODEL_820423e1290b4bce9779610bac38fb56",
       "max": 1000,
       "min": 200,
       "step": 100,
       "style": "IPY_MODEL_9f921852bffd48b3b990bf1c6ae88b36",
       "value": 200
      }
     },
     "570faa04abe941c4a785238aa1fe432b": {
      "model_module": "@jupyter-widgets/controls",
      "model_module_version": "1.5.0",
      "model_name": "IntSliderModel",
      "state": {
       "continuous_update": false,
       "description": "Width:",
       "layout": "IPY_MODEL_87ae0aaa9afe4be7af2b9db8aa50d04a",
       "max": 1000,
       "min": 200,
       "step": 100,
       "style": "IPY_MODEL_86f1f20c3bfa479db372e370033b877c",
       "value": 400
      }
     },
     "57fc2ee097724398ba3b8eda842c4542": {
      "model_module": "@jupyter-widgets/controls",
      "model_module_version": "1.5.0",
      "model_name": "VBoxModel",
      "state": {
       "children": [
        "IPY_MODEL_153982e37f4e47128be22ff23775246a",
        "IPY_MODEL_e7fafa7d8e67491ea541c02ab203bc82"
       ],
       "layout": "IPY_MODEL_ab29458bb2dc4f52ae2eb4e4de55fb26"
      }
     },
     "58768af44dee46ba974da1a349e6765a": {
      "model_module": "@jupyter-widgets/controls",
      "model_module_version": "1.5.0",
      "model_name": "ButtonStyleModel",
      "state": {}
     },
     "59e635a2969c4d30bf9d1c14b5df4976": {
      "model_module": "@jupyter-widgets/base",
      "model_module_version": "1.2.0",
      "model_name": "LayoutModel",
      "state": {}
     },
     "5c87a5c754b54dd8b517f85d0c0c37e0": {
      "model_module": "@jupyter-widgets/controls",
      "model_module_version": "1.5.0",
      "model_name": "DescriptionStyleModel",
      "state": {
       "description_width": ""
      }
     },
     "5d45446290914258811b4ca408722b41": {
      "model_module": "@jupyter-widgets/controls",
      "model_module_version": "1.5.0",
      "model_name": "HBoxModel",
      "state": {
       "children": [
        "IPY_MODEL_72faa11011c44f07abbd17cc9225dedd",
        "IPY_MODEL_21400a8124334abb8bc7c1f85ddb3c99"
       ],
       "layout": "IPY_MODEL_159f8f2b594747d29502ae0d637fc347"
      }
     },
     "5d5ac6c386704419a0e635f9ab6f4969": {
      "model_module": "@jupyter-widgets/controls",
      "model_module_version": "1.5.0",
      "model_name": "ButtonModel",
      "state": {
       "description": "Get screenshot",
       "layout": "IPY_MODEL_f67f3e88f8c846f5811c8e7e0f8a8995",
       "style": "IPY_MODEL_09bb0b3024d94dfd9bc41863ac4d859f"
      }
     },
     "5dfd4f089a6843b095d6931d5f1cb41c": {
      "model_module": "@jupyter-widgets/base",
      "model_module_version": "1.2.0",
      "model_name": "LayoutModel",
      "state": {}
     },
     "5e4cdf19d4784175a53f503e84a4be2d": {
      "model_module": "@jupyter-widgets/controls",
      "model_module_version": "1.5.0",
      "model_name": "VBoxModel",
      "state": {
       "children": [
        "IPY_MODEL_71c101b24aa347f1bae5b3b4de68dcf4",
        "IPY_MODEL_f3a89f6516a440f9baa9e7857f30059d"
       ],
       "layout": "IPY_MODEL_f02730a98d3d416ba2d7a4bc29586225"
      }
     },
     "5f052f8e1c6648018d7c3a6e48796538": {
      "model_module": "@jupyter-widgets/base",
      "model_module_version": "1.2.0",
      "model_name": "LayoutModel",
      "state": {}
     },
     "5ff0f274e00143748c71a0bfd304ee3f": {
      "model_module": "@jupyter-widgets/base",
      "model_module_version": "1.2.0",
      "model_name": "LayoutModel",
      "state": {}
     },
     "605cba38bfef402fb5d7bbaa2ad84d12": {
      "model_module": "@jupyter-widgets/controls",
      "model_module_version": "1.5.0",
      "model_name": "DescriptionStyleModel",
      "state": {
       "description_width": ""
      }
     },
     "60fc50eef7b24150b30ee3fac4fd5a58": {
      "model_module": "@jupyter-widgets/base",
      "model_module_version": "1.2.0",
      "model_name": "LayoutModel",
      "state": {}
     },
     "616af6bdc9424f51a9993bf626c90a5e": {
      "model_module": "@jupyter-widgets/controls",
      "model_module_version": "1.5.0",
      "model_name": "VBoxModel",
      "state": {
       "children": [
        "IPY_MODEL_96b4bfc4abe646b4b755d7085adde723",
        "IPY_MODEL_4017169232f44d51946c9fcfb1aba981"
       ],
       "layout": "IPY_MODEL_d6bf83a6eb8c456997ec27201b302c6f"
      }
     },
     "61c822fb23e9450cb8ac8a74c5572a80": {
      "model_module": "@jupyter-widgets/controls",
      "model_module_version": "1.5.0",
      "model_name": "DescriptionStyleModel",
      "state": {
       "description_width": ""
      }
     },
     "61ce58883675498d98f8bcfaa0550645": {
      "model_module": "@jupyter-widgets/base",
      "model_module_version": "1.2.0",
      "model_name": "LayoutModel",
      "state": {}
     },
     "61eb20c42d2d4938a05c53280ee9e4af": {
      "model_module": "@jupyter-widgets/base",
      "model_module_version": "1.2.0",
      "model_name": "LayoutModel",
      "state": {}
     },
     "6282dde13d80455190a4798ed0cd3a7f": {
      "model_module": "@jupyter-widgets/base",
      "model_module_version": "1.2.0",
      "model_name": "LayoutModel",
      "state": {}
     },
     "62e51505bb1e4b349054ae33541619b5": {
      "model_module": "@jupyter-widgets/controls",
      "model_module_version": "1.5.0",
      "model_name": "ButtonModel",
      "state": {
       "description": "Get screenshot",
       "layout": "IPY_MODEL_59e635a2969c4d30bf9d1c14b5df4976",
       "style": "IPY_MODEL_d4aa0ae222cb47379d09e1ec8127f019"
      }
     },
     "63f515d11e0b4534bab412dcc6b43f60": {
      "model_module": "@jupyter-widgets/base",
      "model_module_version": "1.2.0",
      "model_name": "LayoutModel",
      "state": {}
     },
     "63f65037f3c04bf086c1abc6264319f1": {
      "model_module": "@jupyter-widgets/base",
      "model_module_version": "1.2.0",
      "model_name": "LayoutModel",
      "state": {}
     },
     "651dd2ec12304a23880c22b5638e2069": {
      "model_module": "@jupyter-widgets/controls",
      "model_module_version": "1.5.0",
      "model_name": "ButtonStyleModel",
      "state": {}
     },
     "6532fab947ee4f27b0cee60d9b6d2103": {
      "model_module": "@jupyter-widgets/controls",
      "model_module_version": "1.5.0",
      "model_name": "IntSliderModel",
      "state": {
       "continuous_update": false,
       "description": "Width:",
       "layout": "IPY_MODEL_e1aa1f0dd1af4dfc958c9e668d174671",
       "max": 1000,
       "min": 200,
       "step": 100,
       "style": "IPY_MODEL_4b4c02e6310247819e780b26d1e6694f",
       "value": 200
      }
     },
     "65dfe3602612496fa6bf75fe942b1101": {
      "model_module": "@jupyter-widgets/controls",
      "model_module_version": "1.5.0",
      "model_name": "DescriptionStyleModel",
      "state": {
       "description_width": ""
      }
     },
     "669ebbcf2dd5483c8ff0cbceb877e9d2": {
      "model_module": "@jupyter-widgets/controls",
      "model_module_version": "1.5.0",
      "model_name": "DescriptionStyleModel",
      "state": {
       "description_width": ""
      }
     },
     "673dcbb1617441728dd2ad48c7e782a7": {
      "model_module": "@jupyter-widgets/base",
      "model_module_version": "1.2.0",
      "model_name": "LayoutModel",
      "state": {}
     },
     "678aa74bf3ab42d89eefd805b3b41550": {
      "model_module": "@jupyter-widgets/controls",
      "model_module_version": "1.5.0",
      "model_name": "DropdownModel",
      "state": {
       "_options_labels": [
        "British Library",
        "National Library of Australia",
        "National Library of New Zealand",
        "Internet Archive"
       ],
       "description": "Archive:",
       "index": 0,
       "layout": "IPY_MODEL_11c3f48b42b24806b8fe93d0646e0fdd",
       "style": "IPY_MODEL_ebf267409d9e41699c5cbeb9a11de8c1"
      }
     },
     "67b7ab766dd8447588cad049d1c9cc01": {
      "model_module": "@jupyter-widgets/controls",
      "model_module_version": "1.5.0",
      "model_name": "TextModel",
      "state": {
       "description": "Target URL:",
       "layout": "IPY_MODEL_3d7cc47d1cb346d38d528e54336305e1",
       "style": "IPY_MODEL_b42406548d504cea83941f28d4ec8c98"
      }
     },
     "6885ace3f7ea4eac832e8deace3844a2": {
      "model_module": "@jupyter-widgets/controls",
      "model_module_version": "1.5.0",
      "model_name": "HBoxModel",
      "state": {
       "children": [
        "IPY_MODEL_78ae1d5bfae6440591abf12c5422b6ea",
        "IPY_MODEL_f72300156fc8488085fb6f290998eac5"
       ],
       "layout": "IPY_MODEL_529b5f83c5cb40b89fb4cdbb1dc03047"
      }
     },
     "6a06c0550b994f4d9d6aa705d0af7070": {
      "model_module": "@jupyter-widgets/base",
      "model_module_version": "1.2.0",
      "model_name": "LayoutModel",
      "state": {}
     },
     "6a2eab1d923d4476bb1d4656f230537c": {
      "model_module": "@jupyter-widgets/controls",
      "model_module_version": "1.5.0",
      "model_name": "DescriptionStyleModel",
      "state": {
       "description_width": ""
      }
     },
     "6a592a5ff9c246beaeb5114f165a5e99": {
      "model_module": "@jupyter-widgets/controls",
      "model_module_version": "1.5.0",
      "model_name": "ButtonModel",
      "state": {
       "description": "Get screenshot",
       "layout": "IPY_MODEL_425b1b18423a43e3aa67ec17b8c4c525",
       "style": "IPY_MODEL_af9186ea8a4544e1a76dae5d65ae419d"
      }
     },
     "6bb51dfe68c44ce08d4dbb96f0e1988a": {
      "model_module": "@jupyter-widgets/controls",
      "model_module_version": "1.5.0",
      "model_name": "DatePickerModel",
      "state": {
       "description": "Target date: ",
       "disabled": false,
       "layout": "IPY_MODEL_ea0eb3cade774b6ca6682f8776dfe96f",
       "style": "IPY_MODEL_50bdd379496f427ca0c852843ceaaa5b",
       "value": {
        "date": 1,
        "month": 0,
        "year": 2018
       }
      }
     },
     "6bd6fbb8b25740f4974716f6d0378ed7": {
      "model_module": "@jupyter-widgets/base",
      "model_module_version": "1.2.0",
      "model_name": "LayoutModel",
      "state": {}
     },
     "6d29ba818c984f9b8d3c3b4e7e2ed99b": {
      "model_module": "@jupyter-widgets/controls",
      "model_module_version": "1.5.0",
      "model_name": "ButtonModel",
      "state": {
       "description": "Get screenshot",
       "layout": "IPY_MODEL_da078afb42974ff68c7e734aae2a9b3d",
       "style": "IPY_MODEL_ce374316071f4d4a97bb92de487a8f63"
      }
     },
     "6daa8baa5e1949e99424664484a391af": {
      "model_module": "@jupyter-widgets/controls",
      "model_module_version": "1.5.0",
      "model_name": "ButtonModel",
      "state": {
       "description": "Get screenshot",
       "layout": "IPY_MODEL_6282dde13d80455190a4798ed0cd3a7f",
       "style": "IPY_MODEL_af120f97ad974e08ad253264f9b94dbf"
      }
     },
     "6e1eb32a0a0c497fbb681cea14dba976": {
      "model_module": "@jupyter-widgets/base",
      "model_module_version": "1.2.0",
      "model_name": "LayoutModel",
      "state": {}
     },
     "6ec8a19019ee4f8c8c78e841e5c85d72": {
      "model_module": "@jupyter-widgets/base",
      "model_module_version": "1.2.0",
      "model_name": "LayoutModel",
      "state": {}
     },
     "6ee57890e39a493d966ee5bc33dcaa93": {
      "model_module": "@jupyter-widgets/controls",
      "model_module_version": "1.5.0",
      "model_name": "DescriptionStyleModel",
      "state": {
       "description_width": ""
      }
     },
     "70b0f9d9024c4fbf8d5b51753c410603": {
      "model_module": "@jupyter-widgets/base",
      "model_module_version": "1.2.0",
      "model_name": "LayoutModel",
      "state": {}
     },
     "71c101b24aa347f1bae5b3b4de68dcf4": {
      "model_module": "@jupyter-widgets/controls",
      "model_module_version": "1.5.0",
      "model_name": "TextModel",
      "state": {
       "description": "Target URL:",
       "layout": "IPY_MODEL_dcdfcc6312ef4e0cbae043c74e29562a",
       "style": "IPY_MODEL_42432bf112ea4105994869f1ea17a27c"
      }
     },
     "72faa11011c44f07abbd17cc9225dedd": {
      "model_module": "@jupyter-widgets/controls",
      "model_module_version": "1.5.0",
      "model_name": "VBoxModel",
      "state": {
       "children": [
        "IPY_MODEL_678aa74bf3ab42d89eefd805b3b41550",
        "IPY_MODEL_8b594bd10109490293bcebdc7a8aa41d"
       ],
       "layout": "IPY_MODEL_63f65037f3c04bf086c1abc6264319f1"
      }
     },
     "73571dfc0d3642caa365c71abb392228": {
      "model_module": "@jupyter-widgets/base",
      "model_module_version": "1.2.0",
      "model_name": "LayoutModel",
      "state": {}
     },
     "73f62212033d4e74ac29dbf82f6aed00": {
      "model_module": "@jupyter-widgets/base",
      "model_module_version": "1.2.0",
      "model_name": "LayoutModel",
      "state": {}
     },
     "7414689541874cba8379e5827057c93c": {
      "model_module": "@jupyter-widgets/controls",
      "model_module_version": "1.5.0",
      "model_name": "VBoxModel",
      "state": {
       "children": [
        "IPY_MODEL_db7c6f5fd52949c98cae38d5aeae32bf",
        "IPY_MODEL_d40353b0b2c347c98f2aaab22180d645",
        "IPY_MODEL_490984a5e3804545b3d3fbd53f293205"
       ],
       "layout": "IPY_MODEL_13bac9acc1d943ac9913d537b4f8c5d4"
      }
     },
     "74f6fe9fb319409eaf62a793b20c42e3": {
      "model_module": "@jupyter-widgets/base",
      "model_module_version": "1.2.0",
      "model_name": "LayoutModel",
      "state": {}
     },
     "75112f604ca94af49aa5b2ee16cc34f3": {
      "model_module": "@jupyter-widgets/controls",
      "model_module_version": "1.5.0",
      "model_name": "DatePickerModel",
      "state": {
       "description": "Target date: ",
       "disabled": false,
       "layout": "IPY_MODEL_efbc3233a3074c2f8697953975722821",
       "style": "IPY_MODEL_ec345ff800334e24ad19a6b8acd12c78"
      }
     },
     "75718fa3feff4e518f77c32397ba882d": {
      "model_module": "@jupyter-widgets/base",
      "model_module_version": "1.2.0",
      "model_name": "LayoutModel",
      "state": {}
     },
     "7667a6122c8a4551b0eccb3bd767c9ff": {
      "model_module": "@jupyter-widgets/controls",
      "model_module_version": "1.5.0",
      "model_name": "DropdownModel",
      "state": {
       "_options_labels": [
        "British Library",
        "National Library of Australia",
        "National Library of New Zealand"
       ],
       "description": "Archive:",
       "index": 0,
       "layout": "IPY_MODEL_3025d08c6144412e985882f95c6192f8",
       "style": "IPY_MODEL_98282ff4702949e480cf94d224f28462"
      }
     },
     "76d62855543840e2b8fb99e103efa2f9": {
      "model_module": "@jupyter-widgets/base",
      "model_module_version": "1.2.0",
      "model_name": "LayoutModel",
      "state": {}
     },
     "7784a6069cbb4198affb4a706bb7335c": {
      "model_module": "@jupyter-widgets/base",
      "model_module_version": "1.2.0",
      "model_name": "LayoutModel",
      "state": {}
     },
     "787126d6e6b34694a74c9e800f7525f5": {
      "model_module": "@jupyter-widgets/controls",
      "model_module_version": "1.5.0",
      "model_name": "ButtonStyleModel",
      "state": {}
     },
     "78760037f33d46228f6f65c0f8d6d669": {
      "model_module": "@jupyter-widgets/base",
      "model_module_version": "1.2.0",
      "model_name": "LayoutModel",
      "state": {}
     },
     "78ae1d5bfae6440591abf12c5422b6ea": {
      "model_module": "@jupyter-widgets/controls",
      "model_module_version": "1.5.0",
      "model_name": "VBoxModel",
      "state": {
       "children": [
        "IPY_MODEL_f278c901c40d4446b3ac8bf37e7432e0",
        "IPY_MODEL_cd12b425e03245059d20dd543d228b3f"
       ],
       "layout": "IPY_MODEL_5f052f8e1c6648018d7c3a6e48796538"
      }
     },
     "7a5d12650f594458afed5c53df8c440b": {
      "model_module": "@jupyter-widgets/controls",
      "model_module_version": "1.5.0",
      "model_name": "ButtonModel",
      "state": {
       "description": "Get screenshot",
       "layout": "IPY_MODEL_75718fa3feff4e518f77c32397ba882d",
       "style": "IPY_MODEL_9106ce8a42f141f5b25f5bed4123c3e3"
      }
     },
     "7afc8ae0aaf042649cb201fdca529e22": {
      "model_module": "@jupyter-widgets/base",
      "model_module_version": "1.2.0",
      "model_name": "LayoutModel",
      "state": {}
     },
     "7b62c4f92b43444ea2541ae22170cec0": {
      "model_module": "@jupyter-widgets/controls",
      "model_module_version": "1.5.0",
      "model_name": "DescriptionStyleModel",
      "state": {
       "description_width": ""
      }
     },
     "7c3170ef0f2c4c8898ecae7ee3b1c2d6": {
      "model_module": "@jupyter-widgets/base",
      "model_module_version": "1.2.0",
      "model_name": "LayoutModel",
      "state": {}
     },
     "7dca1083d39f4c1a9717ee4d02c353b0": {
      "model_module": "@jupyter-widgets/controls",
      "model_module_version": "1.5.0",
      "model_name": "ButtonModel",
      "state": {
       "description": "Get screenshot",
       "layout": "IPY_MODEL_47a5307499024767a8dff72cb0f077f9",
       "style": "IPY_MODEL_a934169ce0cd45ca893840f58433f400"
      }
     },
     "7e07898f618940e2920ebb135c3138b4": {
      "model_module": "@jupyter-widgets/output",
      "model_module_version": "1.0.0",
      "model_name": "OutputModel",
      "state": {
       "layout": "IPY_MODEL_74f6fe9fb319409eaf62a793b20c42e3"
      }
     },
     "7e57769af464473c82f92dbb7d3e8852": {
      "model_module": "@jupyter-widgets/base",
      "model_module_version": "1.2.0",
      "model_name": "LayoutModel",
      "state": {}
     },
     "7fb7bff1b52c4b279590ab8470789b8d": {
      "model_module": "@jupyter-widgets/controls",
      "model_module_version": "1.5.0",
      "model_name": "VBoxModel",
      "state": {
       "children": [
        "IPY_MODEL_f80cbaaa34a5477a9b1104a76df12a33",
        "IPY_MODEL_015f5df2aed846e3a68e20d174326291"
       ],
       "layout": "IPY_MODEL_961c158ea3fe40f29d94db4d585e9081"
      }
     },
     "7fd8492a3424446a9a87c543c4f5831f": {
      "model_module": "@jupyter-widgets/base",
      "model_module_version": "1.2.0",
      "model_name": "LayoutModel",
      "state": {}
     },
     "7ff4da308a7c4fa6b1cf097a5aca92b3": {
      "model_module": "@jupyter-widgets/controls",
      "model_module_version": "1.5.0",
      "model_name": "DropdownModel",
      "state": {
       "_options_labels": [
        "British Library",
        "National Library of Australia",
        "National Library of New Zealand"
       ],
       "description": "Archive:",
       "index": 0,
       "layout": "IPY_MODEL_73f62212033d4e74ac29dbf82f6aed00",
       "style": "IPY_MODEL_952d82cf37124447ad08ab6980db574e"
      }
     },
     "801fad104e5747f8bb630b7e317d3c52": {
      "model_module": "@jupyter-widgets/base",
      "model_module_version": "1.2.0",
      "model_name": "LayoutModel",
      "state": {}
     },
     "80666948a2ee415a82f8ab767c23c370": {
      "model_module": "@jupyter-widgets/controls",
      "model_module_version": "1.5.0",
      "model_name": "DescriptionStyleModel",
      "state": {
       "description_width": ""
      }
     },
     "80a56c0b648340eba7e1a2a59276f7a2": {
      "model_module": "@jupyter-widgets/controls",
      "model_module_version": "1.5.0",
      "model_name": "HBoxModel",
      "state": {
       "children": [
        "IPY_MODEL_99d044d3aaa54f6887f398501573eade",
        "IPY_MODEL_5e4cdf19d4784175a53f503e84a4be2d"
       ],
       "layout": "IPY_MODEL_41d3a7eb5fbc49d5a1d9f21941c18fa1"
      }
     },
     "80d301d53e1f4d429a80dd36c477d620": {
      "model_module": "@jupyter-widgets/base",
      "model_module_version": "1.2.0",
      "model_name": "LayoutModel",
      "state": {}
     },
     "8170e8f9f48c46f48b539ba5ba18c4e8": {
      "model_module": "@jupyter-widgets/controls",
      "model_module_version": "1.5.0",
      "model_name": "DescriptionStyleModel",
      "state": {
       "description_width": ""
      }
     },
     "81a8a66ed4654e03a304152dd36d12b5": {
      "model_module": "@jupyter-widgets/controls",
      "model_module_version": "1.5.0",
      "model_name": "IntSliderModel",
      "state": {
       "continuous_update": false,
       "description": "Width:",
       "layout": "IPY_MODEL_ef617182cd1e49af981b721287b994cd",
       "max": 1000,
       "min": 200,
       "step": 100,
       "style": "IPY_MODEL_fc13b6b66ade4774873544668b4f6c7b",
       "value": 200
      }
     },
     "820423e1290b4bce9779610bac38fb56": {
      "model_module": "@jupyter-widgets/base",
      "model_module_version": "1.2.0",
      "model_name": "LayoutModel",
      "state": {}
     },
     "833b4554a29d4277b92b9a3d3e30218c": {
      "model_module": "@jupyter-widgets/controls",
      "model_module_version": "1.5.0",
      "model_name": "HBoxModel",
      "state": {
       "children": [
        "IPY_MODEL_b6376e7c18da4c5fac32e51696b2e2e0",
        "IPY_MODEL_0f04fc61b66f48ddb36bf87d57e8a6ab"
       ],
       "layout": "IPY_MODEL_2307dfbaf849494d9d929fc0f57ba6a7"
      }
     },
     "843bc0e2d15c4560bbb1bcf15a274fcd": {
      "model_module": "@jupyter-widgets/base",
      "model_module_version": "1.2.0",
      "model_name": "LayoutModel",
      "state": {}
     },
     "859a8fa68c214f6199a4e34cc4c3e99a": {
      "model_module": "@jupyter-widgets/base",
      "model_module_version": "1.2.0",
      "model_name": "LayoutModel",
      "state": {}
     },
     "85b8f17fdf1c47c7aba349c55e738d58": {
      "model_module": "@jupyter-widgets/base",
      "model_module_version": "1.2.0",
      "model_name": "LayoutModel",
      "state": {}
     },
     "85fa68b08e784bd8ac718bd05ef43b8d": {
      "model_module": "@jupyter-widgets/base",
      "model_module_version": "1.2.0",
      "model_name": "LayoutModel",
      "state": {}
     },
     "8663f8cfee8248159c779a3fd214644a": {
      "model_module": "@jupyter-widgets/controls",
      "model_module_version": "1.5.0",
      "model_name": "DescriptionStyleModel",
      "state": {
       "description_width": ""
      }
     },
     "86f1f20c3bfa479db372e370033b877c": {
      "model_module": "@jupyter-widgets/controls",
      "model_module_version": "1.5.0",
      "model_name": "SliderStyleModel",
      "state": {
       "description_width": ""
      }
     },
     "87ae0aaa9afe4be7af2b9db8aa50d04a": {
      "model_module": "@jupyter-widgets/base",
      "model_module_version": "1.2.0",
      "model_name": "LayoutModel",
      "state": {}
     },
     "88233fe067a74d9097412c542ccebc55": {
      "model_module": "@jupyter-widgets/controls",
      "model_module_version": "1.5.0",
      "model_name": "DescriptionStyleModel",
      "state": {
       "description_width": ""
      }
     },
     "88cbbee51a2e486abff060a939148afa": {
      "model_module": "@jupyter-widgets/controls",
      "model_module_version": "1.5.0",
      "model_name": "VBoxModel",
      "state": {
       "children": [
        "IPY_MODEL_d197079076e6437b9e01ff6942940010",
        "IPY_MODEL_75112f604ca94af49aa5b2ee16cc34f3",
        "IPY_MODEL_6a592a5ff9c246beaeb5114f165a5e99"
       ],
       "layout": "IPY_MODEL_026f3cfdfc1147479847b74ca70dd376"
      }
     },
     "8a1e3e0062704007b20b908c89c4de09": {
      "model_module": "@jupyter-widgets/output",
      "model_module_version": "1.0.0",
      "model_name": "OutputModel",
      "state": {
       "layout": "IPY_MODEL_903df723f4c347508ecfba297d48133c"
      }
     },
     "8b103d3d9b39457da203fd1a373fd3c4": {
      "model_module": "@jupyter-widgets/controls",
      "model_module_version": "1.5.0",
      "model_name": "DatePickerModel",
      "state": {
       "description": "Target date: ",
       "disabled": false,
       "layout": "IPY_MODEL_0eaa92a264eb4e65b17cb5cdd4ac1f97",
       "style": "IPY_MODEL_da02ae3de26048f8902c4c3a57d6001f"
      }
     },
     "8b3ec27411564bfa8a112fcfec85fd4a": {
      "model_module": "@jupyter-widgets/base",
      "model_module_version": "1.2.0",
      "model_name": "LayoutModel",
      "state": {}
     },
     "8b594bd10109490293bcebdc7a8aa41d": {
      "model_module": "@jupyter-widgets/controls",
      "model_module_version": "1.5.0",
      "model_name": "DatePickerModel",
      "state": {
       "description": "Target date: ",
       "disabled": false,
       "layout": "IPY_MODEL_157e7239e77f466e9d69171f74d2fb49",
       "style": "IPY_MODEL_ee56d11e1cc5432cb49b7a342a5511d5"
      }
     },
     "8b8af1dc2e71484086e21e2cb6cdd7be": {
      "model_module": "@jupyter-widgets/output",
      "model_module_version": "1.0.0",
      "model_name": "OutputModel",
      "state": {
       "layout": "IPY_MODEL_2083cb166f894ee7afbf9613898180b4"
      }
     },
     "8bbf9b6e93b6411b9029ba8f068ee6e0": {
      "model_module": "@jupyter-widgets/base",
      "model_module_version": "1.2.0",
      "model_name": "LayoutModel",
      "state": {}
     },
     "8c0a0bf6189c4d5ba4c502a0446a9786": {
      "model_module": "@jupyter-widgets/controls",
      "model_module_version": "1.5.0",
      "model_name": "HBoxModel",
      "state": {
       "children": [
        "IPY_MODEL_cd70f620616c41f39a0233066f89c7a6",
        "IPY_MODEL_7fb7bff1b52c4b279590ab8470789b8d"
       ],
       "layout": "IPY_MODEL_dc9c8c85f8b84e8b803feb98593c8882"
      }
     },
     "8c79a509478546abb7476bcde455539a": {
      "model_module": "@jupyter-widgets/base",
      "model_module_version": "1.2.0",
      "model_name": "LayoutModel",
      "state": {}
     },
     "8d1877117dfc433783cf5969678e416c": {
      "model_module": "@jupyter-widgets/controls",
      "model_module_version": "1.5.0",
      "model_name": "TextModel",
      "state": {
       "description": "Target URL:",
       "layout": "IPY_MODEL_eefd47af49044d1c833523f68c19a83d",
       "style": "IPY_MODEL_9e22ae96e6dc4e28b9dccdc0e2e9228a",
       "value": "http://bl.uk"
      }
     },
     "8e22b8f3ee8b42cc85199d5bb85421d5": {
      "model_module": "@jupyter-widgets/controls",
      "model_module_version": "1.5.0",
      "model_name": "HBoxModel",
      "state": {
       "children": [
        "IPY_MODEL_f2467c8b4f574ea48078c3d2ce23b3e2",
        "IPY_MODEL_8fd8165d510f4cdc836cd781b8f1cbb8"
       ],
       "layout": "IPY_MODEL_6a06c0550b994f4d9d6aa705d0af7070"
      }
     },
     "8e5e3597535e4f2487a6b1f16a1c378a": {
      "model_module": "@jupyter-widgets/base",
      "model_module_version": "1.2.0",
      "model_name": "LayoutModel",
      "state": {}
     },
     "8fd8165d510f4cdc836cd781b8f1cbb8": {
      "model_module": "@jupyter-widgets/controls",
      "model_module_version": "1.5.0",
      "model_name": "VBoxModel",
      "state": {
       "children": [
        "IPY_MODEL_064175af5f6e4ab7ade2ff906ce3dbdd",
        "IPY_MODEL_24a9c8febdef41dc96804a814eb3cea9"
       ],
       "layout": "IPY_MODEL_4abb384088824b5cae6010acbbe404f8"
      }
     },
     "8fef263134014baba34a4530e8ffb39f": {
      "model_module": "@jupyter-widgets/controls",
      "model_module_version": "1.5.0",
      "model_name": "DescriptionStyleModel",
      "state": {
       "description_width": ""
      }
     },
     "902732efad28419dad89770cc71525ce": {
      "model_module": "@jupyter-widgets/base",
      "model_module_version": "1.2.0",
      "model_name": "LayoutModel",
      "state": {}
     },
     "903df723f4c347508ecfba297d48133c": {
      "model_module": "@jupyter-widgets/base",
      "model_module_version": "1.2.0",
      "model_name": "LayoutModel",
      "state": {}
     },
     "907f0e25c8954282bd17e056878ec47a": {
      "model_module": "@jupyter-widgets/controls",
      "model_module_version": "1.5.0",
      "model_name": "DescriptionStyleModel",
      "state": {
       "description_width": ""
      }
     },
     "90f7f5d0dcd84316aa6bcc25588affb4": {
      "model_module": "@jupyter-widgets/controls",
      "model_module_version": "1.5.0",
      "model_name": "HBoxModel",
      "state": {
       "children": [
        "IPY_MODEL_0008536ef376401bab4ed005fc2acd09",
        "IPY_MODEL_0d0b7ca1d23142fbb12efd715fac34cf"
       ],
       "layout": "IPY_MODEL_4b01319638d44790bb2026648db2fe1f"
      }
     },
     "9106ce8a42f141f5b25f5bed4123c3e3": {
      "model_module": "@jupyter-widgets/controls",
      "model_module_version": "1.5.0",
      "model_name": "ButtonStyleModel",
      "state": {}
     },
     "91135f782c4b43358729f85f7c9c5180": {
      "model_module": "@jupyter-widgets/controls",
      "model_module_version": "1.5.0",
      "model_name": "ButtonModel",
      "state": {
       "description": "Get screenshot",
       "layout": "IPY_MODEL_ccb1097719e342af9fb74d392b01cf83",
       "style": "IPY_MODEL_e990a5551ccf462faf218f570dcebc1b"
      }
     },
     "9151380ab8f8443790ba76bca188a47c": {
      "model_module": "@jupyter-widgets/controls",
      "model_module_version": "1.5.0",
      "model_name": "ButtonModel",
      "state": {
       "description": "Get screenshot",
       "layout": "IPY_MODEL_41dd4d21fc224ee0b96ee81353013913",
       "style": "IPY_MODEL_58768af44dee46ba974da1a349e6765a"
      }
     },
     "928608650f1542a692d1da98c1057ea1": {
      "model_module": "@jupyter-widgets/controls",
      "model_module_version": "1.5.0",
      "model_name": "DescriptionStyleModel",
      "state": {
       "description_width": ""
      }
     },
     "92979d457e6746f0a17d7d0c03b5cc70": {
      "model_module": "@jupyter-widgets/controls",
      "model_module_version": "1.5.0",
      "model_name": "VBoxModel",
      "state": {
       "children": [
        "IPY_MODEL_7667a6122c8a4551b0eccb3bd767c9ff",
        "IPY_MODEL_8b103d3d9b39457da203fd1a373fd3c4",
        "IPY_MODEL_b767f35ce07f4eb887a2dbae28de9912"
       ],
       "layout": "IPY_MODEL_cfbd8182a65249f189987de1aac6cf0b"
      }
     },
     "9321efe3a8014d3cb61e5f43d540f101": {
      "model_module": "@jupyter-widgets/controls",
      "model_module_version": "1.5.0",
      "model_name": "SliderStyleModel",
      "state": {
       "description_width": ""
      }
     },
     "932d471bec204fd6a6c334cb0798db8c": {
      "model_module": "@jupyter-widgets/controls",
      "model_module_version": "1.5.0",
      "model_name": "IntSliderModel",
      "state": {
       "continuous_update": false,
       "description": "Width:",
       "layout": "IPY_MODEL_902732efad28419dad89770cc71525ce",
       "max": 1000,
       "min": 200,
       "step": 100,
       "style": "IPY_MODEL_cf896d19d07a4f5e9df09987e8ebcc58",
       "value": 200
      }
     },
     "9333edee734e42b2a9b5d7ccb58d05c6": {
      "model_module": "@jupyter-widgets/base",
      "model_module_version": "1.2.0",
      "model_name": "LayoutModel",
      "state": {}
     },
     "950606b4891f4e95923e6188b506690d": {
      "model_module": "@jupyter-widgets/controls",
      "model_module_version": "1.5.0",
      "model_name": "DescriptionStyleModel",
      "state": {
       "description_width": ""
      }
     },
     "952d82cf37124447ad08ab6980db574e": {
      "model_module": "@jupyter-widgets/controls",
      "model_module_version": "1.5.0",
      "model_name": "DescriptionStyleModel",
      "state": {
       "description_width": ""
      }
     },
     "9544a1360b5e411a9f3a426c85582de8": {
      "model_module": "@jupyter-widgets/controls",
      "model_module_version": "1.5.0",
      "model_name": "SliderStyleModel",
      "state": {
       "description_width": ""
      }
     },
     "954a9bb1b3a8476093919c442430d087": {
      "model_module": "@jupyter-widgets/base",
      "model_module_version": "1.2.0",
      "model_name": "LayoutModel",
      "state": {}
     },
     "9586d7c308d6405fa64607c3d5798737": {
      "model_module": "@jupyter-widgets/controls",
      "model_module_version": "1.5.0",
      "model_name": "DescriptionStyleModel",
      "state": {
       "description_width": ""
      }
     },
     "95add7af6f364cb297b67f3682a23114": {
      "model_module": "@jupyter-widgets/controls",
      "model_module_version": "1.5.0",
      "model_name": "DatePickerModel",
      "state": {
       "description": "Target date: ",
       "disabled": false,
       "layout": "IPY_MODEL_fff220532495437ebe3cde814368cdd3",
       "style": "IPY_MODEL_907f0e25c8954282bd17e056878ec47a"
      }
     },
     "95c3fcbe5548487898b75ee0c130e696": {
      "model_module": "@jupyter-widgets/controls",
      "model_module_version": "1.5.0",
      "model_name": "ButtonStyleModel",
      "state": {}
     },
     "961c158ea3fe40f29d94db4d585e9081": {
      "model_module": "@jupyter-widgets/base",
      "model_module_version": "1.2.0",
      "model_name": "LayoutModel",
      "state": {}
     },
     "9631fcf85f0341a8a842af050e49badb": {
      "model_module": "@jupyter-widgets/controls",
      "model_module_version": "1.5.0",
      "model_name": "DropdownModel",
      "state": {
       "_options_labels": [
        "British Library",
        "National Library of Australia",
        "National Library of New Zealand"
       ],
       "description": "Archive:",
       "index": 0,
       "layout": "IPY_MODEL_d9f5c7af2a8e4d52800e2cb43daded3f",
       "style": "IPY_MODEL_80666948a2ee415a82f8ab767c23c370"
      }
     },
     "963fe81294bc48a0a0997b1dc76d49cd": {
      "model_module": "@jupyter-widgets/controls",
      "model_module_version": "1.5.0",
      "model_name": "HBoxModel",
      "state": {
       "children": [
        "IPY_MODEL_dbd16bb121bb42c5855b3b69bb15f158",
        "IPY_MODEL_cd901a301a364f6c923e9c5aa8adc844"
       ],
       "layout": "IPY_MODEL_673dcbb1617441728dd2ad48c7e782a7"
      }
     },
     "96428acb2e4347528b02519bc07076e1": {
      "model_module": "@jupyter-widgets/base",
      "model_module_version": "1.2.0",
      "model_name": "LayoutModel",
      "state": {}
     },
     "96b4bfc4abe646b4b755d7085adde723": {
      "model_module": "@jupyter-widgets/controls",
      "model_module_version": "1.5.0",
      "model_name": "IntSliderModel",
      "state": {
       "continuous_update": false,
       "description": "Width:",
       "layout": "IPY_MODEL_2102ac6c0ef9454094a057fdc6de1645",
       "max": 1000,
       "min": 200,
       "step": 100,
       "style": "IPY_MODEL_9544a1360b5e411a9f3a426c85582de8",
       "value": 200
      }
     },
     "96e9a857b32846af9e4a9046838bc96e": {
      "model_module": "@jupyter-widgets/controls",
      "model_module_version": "1.5.0",
      "model_name": "DatePickerModel",
      "state": {
       "description": "Target date: ",
       "disabled": false,
       "layout": "IPY_MODEL_f0c07d9252aa4115aff7b0d837ea4ba8",
       "style": "IPY_MODEL_af2c689ef62a4988809eb734cb312001"
      }
     },
     "98282ff4702949e480cf94d224f28462": {
      "model_module": "@jupyter-widgets/controls",
      "model_module_version": "1.5.0",
      "model_name": "DescriptionStyleModel",
      "state": {
       "description_width": ""
      }
     },
     "98b836bd64524c34992731201a70152b": {
      "model_module": "@jupyter-widgets/controls",
      "model_module_version": "1.5.0",
      "model_name": "DescriptionStyleModel",
      "state": {
       "description_width": ""
      }
     },
     "990a5826613341a787afceb736317263": {
      "model_module": "@jupyter-widgets/controls",
      "model_module_version": "1.5.0",
      "model_name": "DropdownModel",
      "state": {
       "_options_labels": [
        "British Library",
        "National Library of Australia",
        "National Library of New Zealand"
       ],
       "description": "Archive:",
       "index": 0,
       "layout": "IPY_MODEL_0624b259a4364a7085fc652c2f40070b",
       "style": "IPY_MODEL_950606b4891f4e95923e6188b506690d"
      }
     },
     "99d044d3aaa54f6887f398501573eade": {
      "model_module": "@jupyter-widgets/controls",
      "model_module_version": "1.5.0",
      "model_name": "VBoxModel",
      "state": {
       "children": [
        "IPY_MODEL_5274b91eacf740af9aab14b03dd9dd41",
        "IPY_MODEL_052b64771420462d8998f108b670ba89"
       ],
       "layout": "IPY_MODEL_447c82e070a242e79db3ddfe84b6da65"
      }
     },
     "9a61192c09904a5db036b984568920f4": {
      "model_module": "@jupyter-widgets/controls",
      "model_module_version": "1.5.0",
      "model_name": "HBoxModel",
      "state": {
       "children": [
        "IPY_MODEL_4852c9fd70984422b7447ebb8079e2c9",
        "IPY_MODEL_616af6bdc9424f51a9993bf626c90a5e"
       ],
       "layout": "IPY_MODEL_6ec8a19019ee4f8c8c78e841e5c85d72"
      }
     },
     "9ac1d837432149dd9e948f35e91671f4": {
      "model_module": "@jupyter-widgets/controls",
      "model_module_version": "1.5.0",
      "model_name": "DescriptionStyleModel",
      "state": {
       "description_width": ""
      }
     },
     "9b42a03e000f415c898bb10d7bfb5c87": {
      "model_module": "@jupyter-widgets/output",
      "model_module_version": "1.0.0",
      "model_name": "OutputModel",
      "state": {
       "layout": "IPY_MODEL_7e57769af464473c82f92dbb7d3e8852",
       "outputs": [
        {
         "data": {
          "text/html": "<img src=\"screenshots/discontents-com-au-20200302223537-200.png\">",
          "text/plain": "<IPython.core.display.HTML object>"
         },
         "metadata": {},
         "output_type": "display_data"
        }
       ]
      }
     },
     "9da55266572f4ea79c09954581088102": {
      "model_module": "@jupyter-widgets/controls",
      "model_module_version": "1.5.0",
      "model_name": "TextModel",
      "state": {
       "description": "Target URL:",
       "layout": "IPY_MODEL_3cb0568f91404827926c2c68ebf2e462",
       "style": "IPY_MODEL_0f37c888fedb4a6385589503ce928f37",
       "value": "http://bl.uk"
      }
     },
     "9dcc6139a50749a992621258f0fafc83": {
      "model_module": "@jupyter-widgets/controls",
      "model_module_version": "1.5.0",
      "model_name": "IntSliderModel",
      "state": {
       "continuous_update": false,
       "description": "Width:",
       "layout": "IPY_MODEL_859a8fa68c214f6199a4e34cc4c3e99a",
       "max": 1000,
       "min": 200,
       "step": 100,
       "style": "IPY_MODEL_f8d3878ffcd5415c9f7f0fab999792e0",
       "value": 200
      }
     },
     "9e22ae96e6dc4e28b9dccdc0e2e9228a": {
      "model_module": "@jupyter-widgets/controls",
      "model_module_version": "1.5.0",
      "model_name": "DescriptionStyleModel",
      "state": {
       "description_width": ""
      }
     },
     "9e5c2cb310b74b9e8f0ef692898aaba6": {
      "model_module": "@jupyter-widgets/controls",
      "model_module_version": "1.5.0",
      "model_name": "SliderStyleModel",
      "state": {
       "description_width": ""
      }
     },
     "9e6231370aa24cf29c72597881f4d649": {
      "model_module": "@jupyter-widgets/base",
      "model_module_version": "1.2.0",
      "model_name": "LayoutModel",
      "state": {}
     },
     "9e8c665dbd2f4cb68b448714d13788eb": {
      "model_module": "@jupyter-widgets/controls",
      "model_module_version": "1.5.0",
      "model_name": "DropdownModel",
      "state": {
       "_options_labels": [
        "British Library",
        "National Library of Australia",
        "National Library of New Zealand"
       ],
       "description": "Archive:",
       "index": 0,
       "layout": "IPY_MODEL_d9e82032e6b34eeaa52ed061737a152d",
       "style": "IPY_MODEL_364c790d134a49db8536bcd203ba7084"
      }
     },
     "9f63dc2d9b9c43d7b686e58056b7fbcb": {
      "model_module": "@jupyter-widgets/controls",
      "model_module_version": "1.5.0",
      "model_name": "VBoxModel",
      "state": {
       "children": [
        "IPY_MODEL_0c63361ce9f24919af95a2c61d4c4a36",
        "IPY_MODEL_95add7af6f364cb297b67f3682a23114"
       ],
       "layout": "IPY_MODEL_3696e358a23d4b5a87dfce6c9649d553"
      }
     },
     "9f921852bffd48b3b990bf1c6ae88b36": {
      "model_module": "@jupyter-widgets/controls",
      "model_module_version": "1.5.0",
      "model_name": "SliderStyleModel",
      "state": {
       "description_width": ""
      }
     },
     "a09c41c514c34d02944b6eb266e3a772": {
      "model_module": "@jupyter-widgets/base",
      "model_module_version": "1.2.0",
      "model_name": "LayoutModel",
      "state": {}
     },
     "a2f6c8547cc64f9a9aa8b9b4b45d48f3": {
      "model_module": "@jupyter-widgets/base",
      "model_module_version": "1.2.0",
      "model_name": "LayoutModel",
      "state": {}
     },
     "a32e235a049045eb8f680f24dc51384c": {
      "model_module": "@jupyter-widgets/controls",
      "model_module_version": "1.5.0",
      "model_name": "DescriptionStyleModel",
      "state": {
       "description_width": ""
      }
     },
     "a37af065b61e41189db0b84c8b26a605": {
      "model_module": "@jupyter-widgets/base",
      "model_module_version": "1.2.0",
      "model_name": "LayoutModel",
      "state": {}
     },
     "a3ec3fba42534e81847199f4f5500226": {
      "model_module": "@jupyter-widgets/controls",
      "model_module_version": "1.5.0",
      "model_name": "DatePickerModel",
      "state": {
       "description": "First date: ",
       "disabled": false,
       "layout": "IPY_MODEL_d9f36e2cbb42492d955a57fe8988b9bb",
       "style": "IPY_MODEL_cd9e7465e1124e0090f5431fdcf28e03"
      }
     },
     "a4f55eed30f44b3da4b58799ee19bf32": {
      "model_module": "@jupyter-widgets/controls",
      "model_module_version": "1.5.0",
      "model_name": "DescriptionStyleModel",
      "state": {
       "description_width": ""
      }
     },
     "a5adc0c824834d9e9929e132f4fd07ae": {
      "model_module": "@jupyter-widgets/base",
      "model_module_version": "1.2.0",
      "model_name": "LayoutModel",
      "state": {}
     },
     "a5c7e1d2d68e463a8479f54b621162c0": {
      "model_module": "@jupyter-widgets/base",
      "model_module_version": "1.2.0",
      "model_name": "LayoutModel",
      "state": {}
     },
     "a7f2dc7a0f684736b6c87bd6d272958f": {
      "model_module": "@jupyter-widgets/base",
      "model_module_version": "1.2.0",
      "model_name": "LayoutModel",
      "state": {}
     },
     "a8849af9c0694212979d1b46e47ea94c": {
      "model_module": "@jupyter-widgets/base",
      "model_module_version": "1.2.0",
      "model_name": "LayoutModel",
      "state": {}
     },
     "a8e89cfa57a34497992e9bc8aaebac78": {
      "model_module": "@jupyter-widgets/controls",
      "model_module_version": "1.5.0",
      "model_name": "VBoxModel",
      "state": {
       "children": [
        "IPY_MODEL_be3a8fac664545c1ab22822ed49d6760",
        "IPY_MODEL_49217533dd0848d98a5f96dc05ad53ff"
       ],
       "layout": "IPY_MODEL_3e664ea83eab4053b05bed79add45314"
      }
     },
     "a934169ce0cd45ca893840f58433f400": {
      "model_module": "@jupyter-widgets/controls",
      "model_module_version": "1.5.0",
      "model_name": "ButtonStyleModel",
      "state": {}
     },
     "a951ca6627824cfb8b89fc0d6c6a0edf": {
      "model_module": "@jupyter-widgets/controls",
      "model_module_version": "1.5.0",
      "model_name": "ButtonStyleModel",
      "state": {}
     },
     "aa760031ec064f0f9003b522ad992dfe": {
      "model_module": "@jupyter-widgets/controls",
      "model_module_version": "1.5.0",
      "model_name": "SliderStyleModel",
      "state": {
       "description_width": ""
      }
     },
     "aa9414b24bb548e8b15bdd4b054d2a80": {
      "model_module": "@jupyter-widgets/controls",
      "model_module_version": "1.5.0",
      "model_name": "SliderStyleModel",
      "state": {
       "description_width": ""
      }
     },
     "aab2ee2e43244c46a79d719cf264cf79": {
      "model_module": "@jupyter-widgets/base",
      "model_module_version": "1.2.0",
      "model_name": "LayoutModel",
      "state": {}
     },
     "ab29458bb2dc4f52ae2eb4e4de55fb26": {
      "model_module": "@jupyter-widgets/base",
      "model_module_version": "1.2.0",
      "model_name": "LayoutModel",
      "state": {}
     },
     "ad26720594ff4928a550bec85b3fa367": {
      "model_module": "@jupyter-widgets/base",
      "model_module_version": "1.2.0",
      "model_name": "LayoutModel",
      "state": {}
     },
     "ae0542ebbdef443a8c2ff40fa320b913": {
      "model_module": "@jupyter-widgets/controls",
      "model_module_version": "1.5.0",
      "model_name": "TextModel",
      "state": {
       "description": "Target URL:",
       "layout": "IPY_MODEL_5dfd4f089a6843b095d6931d5f1cb41c",
       "style": "IPY_MODEL_e7bfa139b178488587e4057dbe6b50ba",
       "value": "http://discontents.com.au"
      }
     },
     "aeb6eb20617b47afbd347b8029cf1ef3": {
      "model_module": "@jupyter-widgets/controls",
      "model_module_version": "1.5.0",
      "model_name": "VBoxModel",
      "state": {
       "children": [
        "IPY_MODEL_b9b9692d22b742f9bb14c2cbe7a3cd71",
        "IPY_MODEL_025c05d9c3244a1aa1d2ba2c6f2ff88f"
       ],
       "layout": "IPY_MODEL_70b0f9d9024c4fbf8d5b51753c410603"
      }
     },
     "aebe778989cc4c399e55663682b22b2b": {
      "model_module": "@jupyter-widgets/controls",
      "model_module_version": "1.5.0",
      "model_name": "DescriptionStyleModel",
      "state": {
       "description_width": ""
      }
     },
     "af120f97ad974e08ad253264f9b94dbf": {
      "model_module": "@jupyter-widgets/controls",
      "model_module_version": "1.5.0",
      "model_name": "ButtonStyleModel",
      "state": {}
     },
     "af2c689ef62a4988809eb734cb312001": {
      "model_module": "@jupyter-widgets/controls",
      "model_module_version": "1.5.0",
      "model_name": "DescriptionStyleModel",
      "state": {
       "description_width": ""
      }
     },
     "af9186ea8a4544e1a76dae5d65ae419d": {
      "model_module": "@jupyter-widgets/controls",
      "model_module_version": "1.5.0",
      "model_name": "ButtonStyleModel",
      "state": {}
     },
     "afb88508e105453e9bc3243d27893daf": {
      "model_module": "@jupyter-widgets/controls",
      "model_module_version": "1.5.0",
      "model_name": "DescriptionStyleModel",
      "state": {
       "description_width": ""
      }
     },
     "b00bc3f633114e42ae5420cc43fbb385": {
      "model_module": "@jupyter-widgets/controls",
      "model_module_version": "1.5.0",
      "model_name": "ButtonModel",
      "state": {
       "description": "Get screenshot",
       "layout": "IPY_MODEL_362aef62cf4044709b669b71ed8778fc",
       "style": "IPY_MODEL_25a63aa2cec642198a3636c542279a70"
      }
     },
     "b09c404001ca40e3b7fbea321a83a81b": {
      "model_module": "@jupyter-widgets/controls",
      "model_module_version": "1.5.0",
      "model_name": "DescriptionStyleModel",
      "state": {
       "description_width": ""
      }
     },
     "b17b382b5179401b8f3ac2f8e36fcd18": {
      "model_module": "@jupyter-widgets/controls",
      "model_module_version": "1.5.0",
      "model_name": "ButtonStyleModel",
      "state": {}
     },
     "b1945cfe971b484d8bbe54aa946b6fa8": {
      "model_module": "@jupyter-widgets/output",
      "model_module_version": "1.0.0",
      "model_name": "OutputModel",
      "state": {
       "layout": "IPY_MODEL_a5adc0c824834d9e9929e132f4fd07ae",
       "outputs": [
        {
         "data": {
          "text/html": "<img src=\"screenshots/discontents-com-au-20200302223537-200.png\">",
          "text/plain": "<IPython.core.display.HTML object>"
         },
         "metadata": {},
         "output_type": "display_data"
        }
       ]
      }
     },
     "b1fdcb2f3cf44d718bd37109e60e7a86": {
      "model_module": "@jupyter-widgets/base",
      "model_module_version": "1.2.0",
      "model_name": "LayoutModel",
      "state": {}
     },
     "b2b2f9c34929429ca51ea7e1f247fedb": {
      "model_module": "@jupyter-widgets/controls",
      "model_module_version": "1.5.0",
      "model_name": "IntSliderModel",
      "state": {
       "continuous_update": false,
       "description": "Width:",
       "layout": "IPY_MODEL_e017b4d9698f4ec7acd2acaea96d3eef",
       "max": 1000,
       "min": 200,
       "step": 100,
       "style": "IPY_MODEL_cf1522c44f0740a8aa49e41df1fd85a7",
       "value": 200
      }
     },
     "b42406548d504cea83941f28d4ec8c98": {
      "model_module": "@jupyter-widgets/controls",
      "model_module_version": "1.5.0",
      "model_name": "DescriptionStyleModel",
      "state": {
       "description_width": ""
      }
     },
     "b44115abcbf1456aa5c798fc441a156d": {
      "model_module": "@jupyter-widgets/controls",
      "model_module_version": "1.5.0",
      "model_name": "ButtonModel",
      "state": {
       "description": "Get screenshot",
       "layout": "IPY_MODEL_cfdf1bc2821348cabb636c8e8fb4de96",
       "style": "IPY_MODEL_445ac71770074df096dfb2510dd2b95b"
      }
     },
     "b6376e7c18da4c5fac32e51696b2e2e0": {
      "model_module": "@jupyter-widgets/controls",
      "model_module_version": "1.5.0",
      "model_name": "VBoxModel",
      "state": {
       "children": [
        "IPY_MODEL_18dfb8802dcb4fc4b7c04766dcaa5f98",
        "IPY_MODEL_4f92a955b8544985b8f0b156f1cbe763"
       ],
       "layout": "IPY_MODEL_78760037f33d46228f6f65c0f8d6d669"
      }
     },
     "b767f35ce07f4eb887a2dbae28de9912": {
      "model_module": "@jupyter-widgets/controls",
      "model_module_version": "1.5.0",
      "model_name": "ButtonModel",
      "state": {
       "description": "Get screenshot",
       "layout": "IPY_MODEL_451f90ea545245e7890f098573817d3b",
       "style": "IPY_MODEL_d812b16780c0490ab20b0d0a7d2bdb17"
      }
     },
     "b76bd83836f94a86afafc523eb96b5bd": {
      "model_module": "@jupyter-widgets/controls",
      "model_module_version": "1.5.0",
      "model_name": "ButtonModel",
      "state": {
       "description": "Get screenshot",
       "layout": "IPY_MODEL_3671487d5fa344f69471ad1060082e96",
       "style": "IPY_MODEL_95c3fcbe5548487898b75ee0c130e696"
      }
     },
     "b8f3d08da1094074b8f23966a1bf7f1f": {
      "model_module": "@jupyter-widgets/base",
      "model_module_version": "1.2.0",
      "model_name": "LayoutModel",
      "state": {}
     },
     "b92db2066ee643bc81f84ade4175de7a": {
      "model_module": "@jupyter-widgets/controls",
      "model_module_version": "1.5.0",
      "model_name": "DescriptionStyleModel",
      "state": {
       "description_width": ""
      }
     },
     "b9b9692d22b742f9bb14c2cbe7a3cd71": {
      "model_module": "@jupyter-widgets/controls",
      "model_module_version": "1.5.0",
      "model_name": "TextModel",
      "state": {
       "description": "Target URL:",
       "layout": "IPY_MODEL_bc43565efed54f359a77b3653ae01d2b",
       "style": "IPY_MODEL_aebe778989cc4c399e55663682b22b2b",
       "value": "http://discontents.com.au"
      }
     },
     "ba60d29892514370bc912f0f2b422d34": {
      "model_module": "@jupyter-widgets/controls",
      "model_module_version": "1.5.0",
      "model_name": "SliderStyleModel",
      "state": {
       "description_width": ""
      }
     },
     "bbfaae5952a4494688e16755beee7a3e": {
      "model_module": "@jupyter-widgets/base",
      "model_module_version": "1.2.0",
      "model_name": "LayoutModel",
      "state": {}
     },
     "bc43565efed54f359a77b3653ae01d2b": {
      "model_module": "@jupyter-widgets/base",
      "model_module_version": "1.2.0",
      "model_name": "LayoutModel",
      "state": {}
     },
     "bcc1c58b3ec34f61b3a8dfa3be7b7919": {
      "model_module": "@jupyter-widgets/base",
      "model_module_version": "1.2.0",
      "model_name": "LayoutModel",
      "state": {}
     },
     "bd3b803f94644f04a808e1d7baa0aa35": {
      "model_module": "@jupyter-widgets/base",
      "model_module_version": "1.2.0",
      "model_name": "LayoutModel",
      "state": {}
     },
     "be3a8fac664545c1ab22822ed49d6760": {
      "model_module": "@jupyter-widgets/controls",
      "model_module_version": "1.5.0",
      "model_name": "TextModel",
      "state": {
       "description": "Target URL:",
       "layout": "IPY_MODEL_d819264987a04af38536f7f12a56deae",
       "style": "IPY_MODEL_5c87a5c754b54dd8b517f85d0c0c37e0",
       "value": "http://discontents.com.au"
      }
     },
     "beceb188716d490c8bec1ba6b71586d8": {
      "model_module": "@jupyter-widgets/controls",
      "model_module_version": "1.5.0",
      "model_name": "SliderStyleModel",
      "state": {
       "description_width": ""
      }
     },
     "bf8c9098c8764f598d574472c5d81e9a": {
      "model_module": "@jupyter-widgets/controls",
      "model_module_version": "1.5.0",
      "model_name": "TextModel",
      "state": {
       "description": "Target URL:",
       "layout": "IPY_MODEL_cf8e15b2dc1948b48a5d8b099b9fbc5a",
       "style": "IPY_MODEL_c3a31de4b2eb403683eb7c3eb9ee4fb0"
      }
     },
     "c09337b507b24321bd7e0b3e1a981bae": {
      "model_module": "@jupyter-widgets/base",
      "model_module_version": "1.2.0",
      "model_name": "LayoutModel",
      "state": {}
     },
     "c15af1dbfdae4864b1cf5a60e9ea4128": {
      "model_module": "@jupyter-widgets/controls",
      "model_module_version": "1.5.0",
      "model_name": "DescriptionStyleModel",
      "state": {
       "description_width": ""
      }
     },
     "c2fe668f40d742d38eec2aaf295d5ecc": {
      "model_module": "@jupyter-widgets/base",
      "model_module_version": "1.2.0",
      "model_name": "LayoutModel",
      "state": {}
     },
     "c3a31de4b2eb403683eb7c3eb9ee4fb0": {
      "model_module": "@jupyter-widgets/controls",
      "model_module_version": "1.5.0",
      "model_name": "DescriptionStyleModel",
      "state": {
       "description_width": ""
      }
     },
     "c5001287905f4a0b89452e244d967d0c": {
      "model_module": "@jupyter-widgets/base",
      "model_module_version": "1.2.0",
      "model_name": "LayoutModel",
      "state": {}
     },
     "c5539a09990540179e177c7925f3bb0b": {
      "model_module": "@jupyter-widgets/controls",
      "model_module_version": "1.5.0",
      "model_name": "DatePickerModel",
      "state": {
       "description": "Target date: ",
       "disabled": false,
       "layout": "IPY_MODEL_568aa743ed624c08b0297e1753c976fa",
       "style": "IPY_MODEL_9586d7c308d6405fa64607c3d5798737"
      }
     },
     "c789c9850a1840fb86010693b1873087": {
      "model_module": "@jupyter-widgets/controls",
      "model_module_version": "1.5.0",
      "model_name": "SliderStyleModel",
      "state": {
       "description_width": ""
      }
     },
     "c7bdcfda15eb4f1e9280d3aaac806e84": {
      "model_module": "@jupyter-widgets/controls",
      "model_module_version": "1.5.0",
      "model_name": "DescriptionStyleModel",
      "state": {
       "description_width": ""
      }
     },
     "c85989216758495f8b88483d8ff67f97": {
      "model_module": "@jupyter-widgets/base",
      "model_module_version": "1.2.0",
      "model_name": "LayoutModel",
      "state": {}
     },
     "c904d035bb134b3cbb84290b7d51de9a": {
      "model_module": "@jupyter-widgets/controls",
      "model_module_version": "1.5.0",
      "model_name": "DescriptionStyleModel",
      "state": {
       "description_width": ""
      }
     },
     "c912738e49a94253bdc481ce5f961e8d": {
      "model_module": "@jupyter-widgets/controls",
      "model_module_version": "1.5.0",
      "model_name": "DescriptionStyleModel",
      "state": {
       "description_width": ""
      }
     },
     "c9691b4823fd43c3bd601a57abe6e5c5": {
      "model_module": "@jupyter-widgets/controls",
      "model_module_version": "1.5.0",
      "model_name": "TextModel",
      "state": {
       "description": "URL:",
       "layout": "IPY_MODEL_7c3170ef0f2c4c8898ecae7ee3b1c2d6",
       "style": "IPY_MODEL_30abde314611492e8e7702cca3184b36"
      }
     },
     "c97101ce232b4a2f9a7f1011600bf5a8": {
      "model_module": "@jupyter-widgets/base",
      "model_module_version": "1.2.0",
      "model_name": "LayoutModel",
      "state": {}
     },
     "c9c03f8e046f4b68a6349b7519ada2f2": {
      "model_module": "@jupyter-widgets/controls",
      "model_module_version": "1.5.0",
      "model_name": "HBoxModel",
      "state": {
       "children": [
        "IPY_MODEL_9f63dc2d9b9c43d7b686e58056b7fbcb",
        "IPY_MODEL_a8e89cfa57a34497992e9bc8aaebac78"
       ],
       "layout": "IPY_MODEL_0d5e87b6fa424f12b18a083b22b5ba83"
      }
     },
     "c9e0b4237f154d68929ee10f908e252d": {
      "model_module": "@jupyter-widgets/base",
      "model_module_version": "1.2.0",
      "model_name": "LayoutModel",
      "state": {}
     },
     "c9e9eb20bcbd4806b7beb21301328926": {
      "model_module": "@jupyter-widgets/controls",
      "model_module_version": "1.5.0",
      "model_name": "IntSliderModel",
      "state": {
       "continuous_update": false,
       "description": "Width:",
       "layout": "IPY_MODEL_85fa68b08e784bd8ac718bd05ef43b8d",
       "max": 1000,
       "min": 200,
       "step": 100,
       "style": "IPY_MODEL_05612b7e0afe4f68ba8bdb6827c44484",
       "value": 200
      }
     },
     "cb14d66f6de240fabef95c5625aa8e70": {
      "model_module": "@jupyter-widgets/controls",
      "model_module_version": "1.5.0",
      "model_name": "DescriptionStyleModel",
      "state": {
       "description_width": ""
      }
     },
     "cc4ca7fb92244613b8aa38e70f200c40": {
      "model_module": "@jupyter-widgets/controls",
      "model_module_version": "1.5.0",
      "model_name": "DescriptionStyleModel",
      "state": {
       "description_width": ""
      }
     },
     "cc5d1f1ac22147e882cf8e3694bc96a5": {
      "model_module": "@jupyter-widgets/controls",
      "model_module_version": "1.5.0",
      "model_name": "HBoxModel",
      "state": {
       "children": [
        "IPY_MODEL_1c2ae9768ad94a099da11cdbd2f9478e",
        "IPY_MODEL_f032cbc5c03e478c872c6f9e9321f8a3"
       ],
       "layout": "IPY_MODEL_8b3ec27411564bfa8a112fcfec85fd4a"
      }
     },
     "ccb1097719e342af9fb74d392b01cf83": {
      "model_module": "@jupyter-widgets/base",
      "model_module_version": "1.2.0",
      "model_name": "LayoutModel",
      "state": {}
     },
     "ccda11d3071248fc99d9f81410cae4a5": {
      "model_module": "@jupyter-widgets/controls",
      "model_module_version": "1.5.0",
      "model_name": "ButtonStyleModel",
      "state": {}
     },
     "cd0f7e944db84fff883e794a45792d9b": {
      "model_module": "@jupyter-widgets/controls",
      "model_module_version": "1.5.0",
      "model_name": "TextModel",
      "state": {
       "description": "Target URL:",
       "layout": "IPY_MODEL_10fa67318d6c47968ebfa9da0565eaca",
       "style": "IPY_MODEL_3371640ffe6446eca601c387fffb1ce4",
       "value": "http://discontents.com.au"
      }
     },
     "cd12b425e03245059d20dd543d228b3f": {
      "model_module": "@jupyter-widgets/controls",
      "model_module_version": "1.5.0",
      "model_name": "DatePickerModel",
      "state": {
       "description": "Target date: ",
       "disabled": false,
       "layout": "IPY_MODEL_34c53396186f43b38a3a3c61616472d4",
       "style": "IPY_MODEL_05215f5168544a8a9e7038d20914439b",
       "value": {
        "date": 1,
        "month": 0,
        "year": 2012
       }
      }
     },
     "cd70f620616c41f39a0233066f89c7a6": {
      "model_module": "@jupyter-widgets/controls",
      "model_module_version": "1.5.0",
      "model_name": "VBoxModel",
      "state": {
       "children": [
        "IPY_MODEL_9631fcf85f0341a8a842af050e49badb",
        "IPY_MODEL_6bb51dfe68c44ce08d4dbb96f0e1988a"
       ],
       "layout": "IPY_MODEL_d5bd4d162a8d4894a28714158a140f7a"
      }
     },
     "cd901a301a364f6c923e9c5aa8adc844": {
      "model_module": "@jupyter-widgets/controls",
      "model_module_version": "1.5.0",
      "model_name": "VBoxModel",
      "state": {
       "children": [
        "IPY_MODEL_cd0f7e944db84fff883e794a45792d9b",
        "IPY_MODEL_81a8a66ed4654e03a304152dd36d12b5"
       ],
       "layout": "IPY_MODEL_4316cb3689d445f5863221b806e8f1bd"
      }
     },
     "cd9e7465e1124e0090f5431fdcf28e03": {
      "model_module": "@jupyter-widgets/controls",
      "model_module_version": "1.5.0",
      "model_name": "DescriptionStyleModel",
      "state": {
       "description_width": ""
      }
     },
     "cdd9e499b5e2458c8c514bb4fa89eb42": {
      "model_module": "@jupyter-widgets/controls",
      "model_module_version": "1.5.0",
      "model_name": "DescriptionStyleModel",
      "state": {
       "description_width": ""
      }
     },
     "ce374316071f4d4a97bb92de487a8f63": {
      "model_module": "@jupyter-widgets/controls",
      "model_module_version": "1.5.0",
      "model_name": "ButtonStyleModel",
      "state": {}
     },
     "cf1522c44f0740a8aa49e41df1fd85a7": {
      "model_module": "@jupyter-widgets/controls",
      "model_module_version": "1.5.0",
      "model_name": "SliderStyleModel",
      "state": {
       "description_width": ""
      }
     },
     "cf896d19d07a4f5e9df09987e8ebcc58": {
      "model_module": "@jupyter-widgets/controls",
      "model_module_version": "1.5.0",
      "model_name": "SliderStyleModel",
      "state": {
       "description_width": ""
      }
     },
     "cf8e15b2dc1948b48a5d8b099b9fbc5a": {
      "model_module": "@jupyter-widgets/base",
      "model_module_version": "1.2.0",
      "model_name": "LayoutModel",
      "state": {}
     },
     "cfbd8182a65249f189987de1aac6cf0b": {
      "model_module": "@jupyter-widgets/base",
      "model_module_version": "1.2.0",
      "model_name": "LayoutModel",
      "state": {}
     },
     "cfdf1bc2821348cabb636c8e8fb4de96": {
      "model_module": "@jupyter-widgets/base",
      "model_module_version": "1.2.0",
      "model_name": "LayoutModel",
      "state": {}
     },
     "d0c4bfaf2b2a4f6f89786e3119e7f3f5": {
      "model_module": "@jupyter-widgets/base",
      "model_module_version": "1.2.0",
      "model_name": "LayoutModel",
      "state": {}
     },
     "d197079076e6437b9e01ff6942940010": {
      "model_module": "@jupyter-widgets/controls",
      "model_module_version": "1.5.0",
      "model_name": "DropdownModel",
      "state": {
       "_options_labels": [
        "British Library",
        "National Library of Australia",
        "National Library of New Zealand"
       ],
       "description": "Archive:",
       "index": 0,
       "layout": "IPY_MODEL_133fa95809634809b435cfbef63acb69",
       "style": "IPY_MODEL_8170e8f9f48c46f48b539ba5ba18c4e8"
      }
     },
     "d1a1341c3f104807a6a32a5f6edb7335": {
      "model_module": "@jupyter-widgets/controls",
      "model_module_version": "1.5.0",
      "model_name": "DropdownModel",
      "state": {
       "_options_labels": [
        "British Library",
        "National Library of Australia",
        "National Library of New Zealand",
        "Internet Archive"
       ],
       "description": "Archive:",
       "index": 3,
       "layout": "IPY_MODEL_8c79a509478546abb7476bcde455539a",
       "style": "IPY_MODEL_1855f22890e042d3bd551df4e08b6f0e"
      }
     },
     "d2113b00e72344df93e60c8169b738f2": {
      "model_module": "@jupyter-widgets/controls",
      "model_module_version": "1.5.0",
      "model_name": "IntSliderModel",
      "state": {
       "continuous_update": false,
       "description": "Width:",
       "layout": "IPY_MODEL_0439aacd7abf4c7aa624b820747237f8",
       "max": 1000,
       "min": 200,
       "step": 100,
       "style": "IPY_MODEL_1e71aa455ece4cd1b8672bcdc4b2e2ae",
       "value": 200
      }
     },
     "d23db7e22a3d4a74804a2a6a92001fb9": {
      "model_module": "@jupyter-widgets/base",
      "model_module_version": "1.2.0",
      "model_name": "LayoutModel",
      "state": {}
     },
     "d287090e75b04a409443cc46af54cf85": {
      "model_module": "@jupyter-widgets/controls",
      "model_module_version": "1.5.0",
      "model_name": "HBoxModel",
      "state": {
       "children": [
        "IPY_MODEL_0e7afb04ccd7432a864e535fca19b129",
        "IPY_MODEL_384adaa370c347e0ac03fc085ddca609"
       ],
       "layout": "IPY_MODEL_c97101ce232b4a2f9a7f1011600bf5a8"
      }
     },
     "d40353b0b2c347c98f2aaab22180d645": {
      "model_module": "@jupyter-widgets/controls",
      "model_module_version": "1.5.0",
      "model_name": "TextModel",
      "state": {
       "description": "URL:",
       "layout": "IPY_MODEL_282ed773c0d4497bbbf4d2b740d5aeae",
       "style": "IPY_MODEL_8fef263134014baba34a4530e8ffb39f"
      }
     },
     "d49238b8b6134ad2b75288f701332a3b": {
      "model_module": "@jupyter-widgets/base",
      "model_module_version": "1.2.0",
      "model_name": "LayoutModel",
      "state": {}
     },
     "d4aa0ae222cb47379d09e1ec8127f019": {
      "model_module": "@jupyter-widgets/controls",
      "model_module_version": "1.5.0",
      "model_name": "ButtonStyleModel",
      "state": {}
     },
     "d5929178b802418abd02b40f5c75d08a": {
      "model_module": "@jupyter-widgets/controls",
      "model_module_version": "1.5.0",
      "model_name": "DropdownModel",
      "state": {
       "_options_labels": [
        "British Library",
        "National Library of Australia",
        "National Library of New Zealand"
       ],
       "description": "Archive:",
       "index": 0,
       "layout": "IPY_MODEL_04bf674ea13346e78ceb5d6636a15b1a",
       "style": "IPY_MODEL_7b62c4f92b43444ea2541ae22170cec0"
      }
     },
     "d5bd4d162a8d4894a28714158a140f7a": {
      "model_module": "@jupyter-widgets/base",
      "model_module_version": "1.2.0",
      "model_name": "LayoutModel",
      "state": {}
     },
     "d6bf83a6eb8c456997ec27201b302c6f": {
      "model_module": "@jupyter-widgets/base",
      "model_module_version": "1.2.0",
      "model_name": "LayoutModel",
      "state": {}
     },
     "d747e0575e85485faa8e19d8fa4c7971": {
      "model_module": "@jupyter-widgets/controls",
      "model_module_version": "1.5.0",
      "model_name": "IntSliderModel",
      "state": {
       "continuous_update": false,
       "description": "Width:",
       "layout": "IPY_MODEL_49d7830b978648d7b89025e5bc06df88",
       "max": 1000,
       "min": 200,
       "step": 100,
       "style": "IPY_MODEL_9e5c2cb310b74b9e8f0ef692898aaba6",
       "value": 200
      }
     },
     "d7695239c44f4051b5737e85641b3872": {
      "model_module": "@jupyter-widgets/base",
      "model_module_version": "1.2.0",
      "model_name": "LayoutModel",
      "state": {}
     },
     "d7cadd83783f4236ae59234915c80fc1": {
      "model_module": "@jupyter-widgets/controls",
      "model_module_version": "1.5.0",
      "model_name": "SliderStyleModel",
      "state": {
       "description_width": ""
      }
     },
     "d7efb14498174a919657ca499e813676": {
      "model_module": "@jupyter-widgets/base",
      "model_module_version": "1.2.0",
      "model_name": "LayoutModel",
      "state": {}
     },
     "d812b16780c0490ab20b0d0a7d2bdb17": {
      "model_module": "@jupyter-widgets/controls",
      "model_module_version": "1.5.0",
      "model_name": "ButtonStyleModel",
      "state": {}
     },
     "d819264987a04af38536f7f12a56deae": {
      "model_module": "@jupyter-widgets/base",
      "model_module_version": "1.2.0",
      "model_name": "LayoutModel",
      "state": {}
     },
     "d9e82032e6b34eeaa52ed061737a152d": {
      "model_module": "@jupyter-widgets/base",
      "model_module_version": "1.2.0",
      "model_name": "LayoutModel",
      "state": {}
     },
     "d9ec70f4d1234f6aa62311d7cd8d65d4": {
      "model_module": "@jupyter-widgets/controls",
      "model_module_version": "1.5.0",
      "model_name": "TextModel",
      "state": {
       "description": "URL:",
       "layout": "IPY_MODEL_8e5e3597535e4f2487a6b1f16a1c378a",
       "style": "IPY_MODEL_44754ecb1658477baf3606774d19b9a9"
      }
     },
     "d9f36e2cbb42492d955a57fe8988b9bb": {
      "model_module": "@jupyter-widgets/base",
      "model_module_version": "1.2.0",
      "model_name": "LayoutModel",
      "state": {}
     },
     "d9f5c7af2a8e4d52800e2cb43daded3f": {
      "model_module": "@jupyter-widgets/base",
      "model_module_version": "1.2.0",
      "model_name": "LayoutModel",
      "state": {}
     },
     "da02ae3de26048f8902c4c3a57d6001f": {
      "model_module": "@jupyter-widgets/controls",
      "model_module_version": "1.5.0",
      "model_name": "DescriptionStyleModel",
      "state": {
       "description_width": ""
      }
     },
     "da078afb42974ff68c7e734aae2a9b3d": {
      "model_module": "@jupyter-widgets/base",
      "model_module_version": "1.2.0",
      "model_name": "LayoutModel",
      "state": {}
     },
     "db7c6f5fd52949c98cae38d5aeae32bf": {
      "model_module": "@jupyter-widgets/controls",
      "model_module_version": "1.5.0",
      "model_name": "DropdownModel",
      "state": {
       "_options_labels": [
        "British Library",
        "National Library of Australia",
        "National Library of New Zealand"
       ],
       "description": "Archive:",
       "index": 0,
       "layout": "IPY_MODEL_36324f6974f34a648c0a986ac5d6c2f8",
       "style": "IPY_MODEL_07d5037ce9f045ad956232753fcce44b"
      }
     },
     "dbd16bb121bb42c5855b3b69bb15f158": {
      "model_module": "@jupyter-widgets/controls",
      "model_module_version": "1.5.0",
      "model_name": "VBoxModel",
      "state": {
       "children": [
        "IPY_MODEL_e87d4a7aed624448975d5d0634736f2c",
        "IPY_MODEL_399d2fe1a17445219e3a95e50855cb93"
       ],
       "layout": "IPY_MODEL_d0c4bfaf2b2a4f6f89786e3119e7f3f5"
      }
     },
     "dbf1821c228b4189bf58e063234934da": {
      "model_module": "@jupyter-widgets/controls",
      "model_module_version": "1.5.0",
      "model_name": "HBoxModel",
      "state": {
       "children": [
        "IPY_MODEL_92979d457e6746f0a17d7d0c03b5cc70",
        "IPY_MODEL_fcea4f9ec5f044d6be646d4ec02cf6fb"
       ],
       "layout": "IPY_MODEL_0280974700f24442b0044c8db2903c2e"
      }
     },
     "dc9c8c85f8b84e8b803feb98593c8882": {
      "model_module": "@jupyter-widgets/base",
      "model_module_version": "1.2.0",
      "model_name": "LayoutModel",
      "state": {}
     },
     "dcdfcc6312ef4e0cbae043c74e29562a": {
      "model_module": "@jupyter-widgets/base",
      "model_module_version": "1.2.0",
      "model_name": "LayoutModel",
      "state": {}
     },
     "ddd74dace448488986fd47faf10c691d": {
      "model_module": "@jupyter-widgets/controls",
      "model_module_version": "1.5.0",
      "model_name": "ButtonStyleModel",
      "state": {}
     },
     "de76d8b00c79416590c67699916a686e": {
      "model_module": "@jupyter-widgets/base",
      "model_module_version": "1.2.0",
      "model_name": "LayoutModel",
      "state": {}
     },
     "dee2bb43445645a680416945d3d5f786": {
      "model_module": "@jupyter-widgets/controls",
      "model_module_version": "1.5.0",
      "model_name": "DescriptionStyleModel",
      "state": {
       "description_width": ""
      }
     },
     "e017b4d9698f4ec7acd2acaea96d3eef": {
      "model_module": "@jupyter-widgets/base",
      "model_module_version": "1.2.0",
      "model_name": "LayoutModel",
      "state": {}
     },
     "e1aa1f0dd1af4dfc958c9e668d174671": {
      "model_module": "@jupyter-widgets/base",
      "model_module_version": "1.2.0",
      "model_name": "LayoutModel",
      "state": {}
     },
     "e26b88ad42344fbf8f27e5cdd6a97277": {
      "model_module": "@jupyter-widgets/base",
      "model_module_version": "1.2.0",
      "model_name": "LayoutModel",
      "state": {}
     },
     "e4bbf17189c3425eb9cc60e3b4b9bb67": {
      "model_module": "@jupyter-widgets/base",
      "model_module_version": "1.2.0",
      "model_name": "LayoutModel",
      "state": {}
     },
     "e4fca71546e449b4b2e182acbc8da9eb": {
      "model_module": "@jupyter-widgets/controls",
      "model_module_version": "1.5.0",
      "model_name": "DropdownModel",
      "state": {
       "_options_labels": [
        "British Library",
        "National Library of Australia",
        "National Library of New Zealand"
       ],
       "description": "Archive:",
       "index": 0,
       "layout": "IPY_MODEL_9e6231370aa24cf29c72597881f4d649",
       "style": "IPY_MODEL_a4f55eed30f44b3da4b58799ee19bf32"
      }
     },
     "e5b6bf0db464470eae08d3184b20189d": {
      "model_module": "@jupyter-widgets/controls",
      "model_module_version": "1.5.0",
      "model_name": "DescriptionStyleModel",
      "state": {
       "description_width": ""
      }
     },
     "e636f2ec18464f358734af00a150800c": {
      "model_module": "@jupyter-widgets/controls",
      "model_module_version": "1.5.0",
      "model_name": "DropdownModel",
      "state": {
       "_options_labels": [
        "British Library",
        "National Library of Australia",
        "National Library of New Zealand"
       ],
       "description": "Archive:",
       "index": 1,
       "layout": "IPY_MODEL_ec51ea3a45304a45971205bf99be974a",
       "style": "IPY_MODEL_26df2c05cd174377b159db10fdccf793"
      }
     },
     "e7651306378341b0a3e144c3ef7d2e80": {
      "model_module": "@jupyter-widgets/controls",
      "model_module_version": "1.5.0",
      "model_name": "VBoxModel",
      "state": {
       "children": [
        "IPY_MODEL_4024a87bf5234729be7533a308634af7",
        "IPY_MODEL_c9e9eb20bcbd4806b7beb21301328926"
       ],
       "layout": "IPY_MODEL_b8f3d08da1094074b8f23966a1bf7f1f"
      }
     },
     "e7bfa139b178488587e4057dbe6b50ba": {
      "model_module": "@jupyter-widgets/controls",
      "model_module_version": "1.5.0",
      "model_name": "DescriptionStyleModel",
      "state": {
       "description_width": ""
      }
     },
     "e7fafa7d8e67491ea541c02ab203bc82": {
      "model_module": "@jupyter-widgets/controls",
      "model_module_version": "1.5.0",
      "model_name": "IntSliderModel",
      "state": {
       "continuous_update": false,
       "description": "Width:",
       "layout": "IPY_MODEL_07b437fac3dd45f28696e38f0e01063d",
       "max": 1000,
       "min": 200,
       "step": 100,
       "style": "IPY_MODEL_ba60d29892514370bc912f0f2b422d34",
       "value": 200
      }
     },
     "e87d4a7aed624448975d5d0634736f2c": {
      "model_module": "@jupyter-widgets/controls",
      "model_module_version": "1.5.0",
      "model_name": "DropdownModel",
      "state": {
       "_options_labels": [
        "British Library",
        "National Library of Australia",
        "National Library of New Zealand",
        "Internet Archive"
       ],
       "description": "Archive:",
       "index": 1,
       "layout": "IPY_MODEL_bd3b803f94644f04a808e1d7baa0aa35",
       "style": "IPY_MODEL_c904d035bb134b3cbb84290b7d51de9a"
      }
     },
     "e8c8235b44b4402fb33ef51df3b73b9d": {
      "model_module": "@jupyter-widgets/controls",
      "model_module_version": "1.5.0",
      "model_name": "ButtonModel",
      "state": {
       "description": "Get screenshot",
       "layout": "IPY_MODEL_384635bebb6448fabb858fdf9202e300",
       "style": "IPY_MODEL_a951ca6627824cfb8b89fc0d6c6a0edf"
      }
     },
     "e990a5551ccf462faf218f570dcebc1b": {
      "model_module": "@jupyter-widgets/controls",
      "model_module_version": "1.5.0",
      "model_name": "ButtonStyleModel",
      "state": {}
     },
     "e9ddf9bbe7c443e7b86c80bc555cbb26": {
      "model_module": "@jupyter-widgets/controls",
      "model_module_version": "1.5.0",
      "model_name": "DescriptionStyleModel",
      "state": {
       "description_width": ""
      }
     },
     "ea0eb3cade774b6ca6682f8776dfe96f": {
      "model_module": "@jupyter-widgets/base",
      "model_module_version": "1.2.0",
      "model_name": "LayoutModel",
      "state": {}
     },
     "ebf267409d9e41699c5cbeb9a11de8c1": {
      "model_module": "@jupyter-widgets/controls",
      "model_module_version": "1.5.0",
      "model_name": "DescriptionStyleModel",
      "state": {
       "description_width": ""
      }
     },
     "ec345ff800334e24ad19a6b8acd12c78": {
      "model_module": "@jupyter-widgets/controls",
      "model_module_version": "1.5.0",
      "model_name": "DescriptionStyleModel",
      "state": {
       "description_width": ""
      }
     },
     "ec51ac3a3c704eb5a6454fc09d1441ed": {
      "model_module": "@jupyter-widgets/base",
      "model_module_version": "1.2.0",
      "model_name": "LayoutModel",
      "state": {}
     },
     "ec51ea3a45304a45971205bf99be974a": {
      "model_module": "@jupyter-widgets/base",
      "model_module_version": "1.2.0",
      "model_name": "LayoutModel",
      "state": {}
     },
     "ecb94af4540c473ea95c0d4516b46ee3": {
      "model_module": "@jupyter-widgets/controls",
      "model_module_version": "1.5.0",
      "model_name": "SliderStyleModel",
      "state": {
       "description_width": ""
      }
     },
     "edd0a76738e24ead89a63891843c93b2": {
      "model_module": "@jupyter-widgets/controls",
      "model_module_version": "1.5.0",
      "model_name": "DatePickerModel",
      "state": {
       "description": "Target date: ",
       "disabled": false,
       "layout": "IPY_MODEL_e4bbf17189c3425eb9cc60e3b4b9bb67",
       "style": "IPY_MODEL_61c822fb23e9450cb8ac8a74c5572a80"
      }
     },
     "ee56d11e1cc5432cb49b7a342a5511d5": {
      "model_module": "@jupyter-widgets/controls",
      "model_module_version": "1.5.0",
      "model_name": "DescriptionStyleModel",
      "state": {
       "description_width": ""
      }
     },
     "eea0fd3c656b4a238bc2252a7c5ea975": {
      "model_module": "@jupyter-widgets/base",
      "model_module_version": "1.2.0",
      "model_name": "LayoutModel",
      "state": {}
     },
     "eefd47af49044d1c833523f68c19a83d": {
      "model_module": "@jupyter-widgets/base",
      "model_module_version": "1.2.0",
      "model_name": "LayoutModel",
      "state": {}
     },
     "ef3ef3b8e0d14f6b80ba388a61680a77": {
      "model_module": "@jupyter-widgets/controls",
      "model_module_version": "1.5.0",
      "model_name": "VBoxModel",
      "state": {
       "children": [
        "IPY_MODEL_fc045c9860314137b22eb8b65dd55888",
        "IPY_MODEL_4df40ea35180466c934bf87871b5bfea"
       ],
       "layout": "IPY_MODEL_26ca33283d9f4b21916af00678189e12"
      }
     },
     "ef617182cd1e49af981b721287b994cd": {
      "model_module": "@jupyter-widgets/base",
      "model_module_version": "1.2.0",
      "model_name": "LayoutModel",
      "state": {}
     },
     "efbc3233a3074c2f8697953975722821": {
      "model_module": "@jupyter-widgets/base",
      "model_module_version": "1.2.0",
      "model_name": "LayoutModel",
      "state": {}
     },
     "eff05c49ab8f444ebf4d47f5204caa14": {
      "model_module": "@jupyter-widgets/base",
      "model_module_version": "1.2.0",
      "model_name": "LayoutModel",
      "state": {}
     },
     "f02730a98d3d416ba2d7a4bc29586225": {
      "model_module": "@jupyter-widgets/base",
      "model_module_version": "1.2.0",
      "model_name": "LayoutModel",
      "state": {}
     },
     "f032cbc5c03e478c872c6f9e9321f8a3": {
      "model_module": "@jupyter-widgets/controls",
      "model_module_version": "1.5.0",
      "model_name": "VBoxModel",
      "state": {
       "children": [
        "IPY_MODEL_9da55266572f4ea79c09954581088102",
        "IPY_MODEL_570faa04abe941c4a785238aa1fe432b"
       ],
       "layout": "IPY_MODEL_fa6cfdf39816454aae465e4d33f2e761"
      }
     },
     "f0c07d9252aa4115aff7b0d837ea4ba8": {
      "model_module": "@jupyter-widgets/base",
      "model_module_version": "1.2.0",
      "model_name": "LayoutModel",
      "state": {}
     },
     "f2467c8b4f574ea48078c3d2ce23b3e2": {
      "model_module": "@jupyter-widgets/controls",
      "model_module_version": "1.5.0",
      "model_name": "VBoxModel",
      "state": {
       "children": [
        "IPY_MODEL_f62edd25f02444d78ff8a511a2bcdd30",
        "IPY_MODEL_4c2df2a4fb2445f3baa0c6ab35d6f0fc"
       ],
       "layout": "IPY_MODEL_8bbf9b6e93b6411b9029ba8f068ee6e0"
      }
     },
     "f278c901c40d4446b3ac8bf37e7432e0": {
      "model_module": "@jupyter-widgets/controls",
      "model_module_version": "1.5.0",
      "model_name": "DropdownModel",
      "state": {
       "_options_labels": [
        "UK Web Archive",
        "National Library of Australia",
        "National Library of New Zealand",
        "Internet Archive"
       ],
       "description": "Archive:",
       "index": 0,
       "layout": "IPY_MODEL_61eb20c42d2d4938a05c53280ee9e4af",
       "style": "IPY_MODEL_2cdda79b91414ff680fe729a88dbb770"
      }
     },
     "f2944a5d4dd84191915b45ea86fed306": {
      "model_module": "@jupyter-widgets/controls",
      "model_module_version": "1.5.0",
      "model_name": "DescriptionStyleModel",
      "state": {
       "description_width": ""
      }
     },
     "f3a89f6516a440f9baa9e7857f30059d": {
      "model_module": "@jupyter-widgets/controls",
      "model_module_version": "1.5.0",
      "model_name": "IntSliderModel",
      "state": {
       "continuous_update": false,
       "description": "Width:",
       "layout": "IPY_MODEL_1bc0b9a2be6f4b658b4231c57b15e982",
       "max": 1000,
       "min": 200,
       "step": 100,
       "style": "IPY_MODEL_13558235e6754a758ad416cbf3c4d554",
       "value": 200
      }
     },
     "f5848b294175462f8e61d3af17a9a7b6": {
      "model_module": "@jupyter-widgets/controls",
      "model_module_version": "1.5.0",
      "model_name": "HBoxModel",
      "state": {
       "children": [
        "IPY_MODEL_43260d1f2fa44a4e9c91aa876552bbd0",
        "IPY_MODEL_aeb6eb20617b47afbd347b8029cf1ef3"
       ],
       "layout": "IPY_MODEL_d7efb14498174a919657ca499e813676"
      }
     },
     "f5ac298f7a484f51a08360ebd2706e89": {
      "model_module": "@jupyter-widgets/controls",
      "model_module_version": "1.5.0",
      "model_name": "HBoxModel",
      "state": {
       "children": [
        "IPY_MODEL_7414689541874cba8379e5827057c93c"
       ],
       "layout": "IPY_MODEL_96428acb2e4347528b02519bc07076e1"
      }
     },
     "f5ec62786bab40ffa9b1e3c75fedf9d1": {
      "model_module": "@jupyter-widgets/controls",
      "model_module_version": "1.5.0",
      "model_name": "ButtonModel",
      "state": {
       "description": "Get screenshot",
       "layout": "IPY_MODEL_bcc1c58b3ec34f61b3a8dfa3be7b7919",
       "style": "IPY_MODEL_ddd74dace448488986fd47faf10c691d"
      }
     },
     "f62edd25f02444d78ff8a511a2bcdd30": {
      "model_module": "@jupyter-widgets/controls",
      "model_module_version": "1.5.0",
      "model_name": "DropdownModel",
      "state": {
       "_options_labels": [
        "British Library",
        "National Library of Australia",
        "National Library of New Zealand",
        "Internet Archive"
       ],
       "description": "Archive:",
       "index": 0,
       "layout": "IPY_MODEL_ffc0b612a4c24962a6d9a299f16e990f",
       "style": "IPY_MODEL_65dfe3602612496fa6bf75fe942b1101"
      }
     },
     "f67f3e88f8c846f5811c8e7e0f8a8995": {
      "model_module": "@jupyter-widgets/base",
      "model_module_version": "1.2.0",
      "model_name": "LayoutModel",
      "state": {}
     },
     "f72300156fc8488085fb6f290998eac5": {
      "model_module": "@jupyter-widgets/controls",
      "model_module_version": "1.5.0",
      "model_name": "VBoxModel",
      "state": {
       "children": [
        "IPY_MODEL_8d1877117dfc433783cf5969678e416c",
        "IPY_MODEL_45179f8a72fe4fa89fcc148f022a5800"
       ],
       "layout": "IPY_MODEL_61ce58883675498d98f8bcfaa0550645"
      }
     },
     "f80cbaaa34a5477a9b1104a76df12a33": {
      "model_module": "@jupyter-widgets/controls",
      "model_module_version": "1.5.0",
      "model_name": "TextModel",
      "state": {
       "description": "Target URL:",
       "layout": "IPY_MODEL_3c804439bb7548259e1e24f4e5b4db53",
       "style": "IPY_MODEL_6ee57890e39a493d966ee5bc33dcaa93",
       "value": "http://bl.uk"
      }
     },
     "f8d3878ffcd5415c9f7f0fab999792e0": {
      "model_module": "@jupyter-widgets/controls",
      "model_module_version": "1.5.0",
      "model_name": "SliderStyleModel",
      "state": {
       "description_width": ""
      }
     },
     "fa51b75e21bb4b8e91c596d3a5459a74": {
      "model_module": "@jupyter-widgets/controls",
      "model_module_version": "1.5.0",
      "model_name": "DatePickerModel",
      "state": {
       "description": "Target date: ",
       "disabled": false,
       "layout": "IPY_MODEL_a37af065b61e41189db0b84c8b26a605",
       "style": "IPY_MODEL_669ebbcf2dd5483c8ff0cbceb877e9d2",
       "value": {
        "date": 1,
        "month": 0,
        "year": 1998
       }
      }
     },
     "fa6cfdf39816454aae465e4d33f2e761": {
      "model_module": "@jupyter-widgets/base",
      "model_module_version": "1.2.0",
      "model_name": "LayoutModel",
      "state": {}
     },
     "fabc2ac4fd8247b4a48b36549900a25a": {
      "model_module": "@jupyter-widgets/base",
      "model_module_version": "1.2.0",
      "model_name": "LayoutModel",
      "state": {}
     },
     "fafa29548bc7491c8a271f2d2a71a640": {
      "model_module": "@jupyter-widgets/controls",
      "model_module_version": "1.5.0",
      "model_name": "DropdownModel",
      "state": {
       "_options_labels": [
        "British Library",
        "National Library of Australia",
        "National Library of New Zealand"
       ],
       "description": "Archive:",
       "index": 1,
       "layout": "IPY_MODEL_bbfaae5952a4494688e16755beee7a3e",
       "style": "IPY_MODEL_1a89065bcf8743e1aefeed2128569174"
      }
     },
     "fb0faf0bbe5f4a24af6abe31f1a46ab3": {
      "model_module": "@jupyter-widgets/base",
      "model_module_version": "1.2.0",
      "model_name": "LayoutModel",
      "state": {}
     },
     "fc045c9860314137b22eb8b65dd55888": {
      "model_module": "@jupyter-widgets/controls",
      "model_module_version": "1.5.0",
      "model_name": "TextModel",
      "state": {
       "description": "Target URL:",
       "layout": "IPY_MODEL_0919074d905b4266a03a5d7fac3fb9cf",
       "style": "IPY_MODEL_9ac1d837432149dd9e948f35e91671f4"
      }
     },
     "fc13b6b66ade4774873544668b4f6c7b": {
      "model_module": "@jupyter-widgets/controls",
      "model_module_version": "1.5.0",
      "model_name": "SliderStyleModel",
      "state": {
       "description_width": ""
      }
     },
     "fcea4f9ec5f044d6be646d4ec02cf6fb": {
      "model_module": "@jupyter-widgets/controls",
      "model_module_version": "1.5.0",
      "model_name": "VBoxModel",
      "state": {
       "children": [
        "IPY_MODEL_20214d48add346f2987c0da21e46339b",
        "IPY_MODEL_05cda44931ba40a3abf2610b0dbe90b5"
       ],
       "layout": "IPY_MODEL_a2f6c8547cc64f9a9aa8b9b4b45d48f3"
      }
     },
     "fdf59486610a46a09d9ef88e09da8bcb": {
      "model_module": "@jupyter-widgets/output",
      "model_module_version": "1.0.0",
      "model_name": "OutputModel",
      "state": {
       "layout": "IPY_MODEL_3fe220034fcc4a1c9bf1f01ae94f4df8"
      }
     },
     "ffb7632e6e0d40a18bf19b409d2eac12": {
      "model_module": "@jupyter-widgets/base",
      "model_module_version": "1.2.0",
      "model_name": "LayoutModel",
      "state": {}
     },
     "ffc0b612a4c24962a6d9a299f16e990f": {
      "model_module": "@jupyter-widgets/base",
      "model_module_version": "1.2.0",
      "model_name": "LayoutModel",
      "state": {}
     },
     "fff220532495437ebe3cde814368cdd3": {
      "model_module": "@jupyter-widgets/base",
      "model_module_version": "1.2.0",
      "model_name": "LayoutModel",
      "state": {}
     }
    },
    "version_major": 2,
    "version_minor": 0
   }
  }
 },
 "nbformat": 4,
 "nbformat_minor": 4
}
