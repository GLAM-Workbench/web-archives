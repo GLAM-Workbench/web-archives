{
 "cells": [
  {
   "cell_type": "code",
   "execution_count": 5,
   "metadata": {},
   "outputs": [],
   "source": [
    "from selenium import webdriver\n",
    "from PIL import Image\n",
    "import io\n",
    "import base64\n",
    "import time\n",
    "import re\n",
    "from slugify import slugify\n",
    "from webdriverdownloader import GeckoDriverDownloader\n",
    "\n",
    "gdd = GeckoDriverDownloader()\n",
    "geckodriver = gdd.download_and_install(\"v0.26.0\")[1]\n",
    "\n",
    "# See https://github.com/ouseful-template-repos/binder-selenium-demoscraper\n",
    "# Note that currently isn't working on Binder -- perhaps related to this https://github.com/mozilla/geckodriver/issues/1559"
   ]
  },
  {
   "cell_type": "code",
   "execution_count": 6,
   "metadata": {},
   "outputs": [],
   "source": [
    "URL = 'https://web.archive.org/web/19961019064223id_/http://www.nla.gov.au/'\n",
    "\n",
    "def get_full_page_screenshot(url, capture_width=1200, save_width=200):\n",
    "    options = webdriver.FirefoxOptions()\n",
    "    options.headless = True\n",
    "    \n",
    "    driver = webdriver.Firefox(executable_path=geckodriver, options=options)\n",
    "    driver.get(url)\n",
    "    time.sleep(3)\n",
    "    S = lambda X: driver.execute_script('return document.body.parentNode.scroll'+X)\n",
    "    driver.set_window_size(capture_width,S('Height')) # May need manual adjustment\n",
    "    ss = driver.find_element_by_tag_name('body').screenshot_as_base64\n",
    "    driver.quit()\n",
    "    date_str, site = re.search(r'\\/web\\/(\\d+)id_\\/https*:\\/\\/(.+\\/)', url).groups()\n",
    "    img = Image.open(io.BytesIO(base64.b64decode(ss)))\n",
    "    ratio = save_width / capture_width\n",
    "    (width, height) = (int(img.width * ratio), int(img.height * ratio))\n",
    "    resized_img = img.resize((width, height))\n",
    "    resized_img.save(f'{slugify(site)}-{date_str}.png')"
   ]
  },
  {
   "cell_type": "code",
   "execution_count": 7,
   "metadata": {},
   "outputs": [],
   "source": [
    "get_full_page_screenshot(URL)"
   ]
  },
  {
   "cell_type": "code",
   "execution_count": null,
   "metadata": {},
   "outputs": [],
   "source": []
  }
 ],
 "metadata": {
  "kernelspec": {
   "display_name": "Python 3",
   "language": "python",
   "name": "python3"
  },
  "language_info": {
   "codemirror_mode": {
    "name": "ipython",
    "version": 3
   },
   "file_extension": ".py",
   "mimetype": "text/x-python",
   "name": "python",
   "nbconvert_exporter": "python",
   "pygments_lexer": "ipython3",
   "version": "3.8.2"
  }
 },
 "nbformat": 4,
 "nbformat_minor": 4
}
