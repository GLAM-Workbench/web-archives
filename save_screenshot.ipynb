{
 "cells": [
  {
   "cell_type": "code",
   "execution_count": 31,
   "metadata": {},
   "outputs": [],
   "source": [
    "from selenium import webdriver\n",
    "from PIL import Image\n",
    "import PIL\n",
    "import io\n",
    "import base64\n",
    "import time\n",
    "import re\n",
    "from slugify import slugify\n",
    "from webdriverdownloader import GeckoDriverDownloader\n",
    "from pathlib import Path\n",
    "from IPython.display import display, HTML\n",
    "\n",
    "gdd = GeckoDriverDownloader()\n",
    "geckodriver = gdd.download_and_install(\"v0.26.0\")[1]\n",
    "\n",
    "# See https://github.com/ouseful-template-repos/binder-selenium-demoscraper\n",
    "# Note that currently isn't working on Binder -- perhaps related to this https://github.com/mozilla/geckodriver/issues/1559"
   ]
  },
  {
   "cell_type": "markdown",
   "metadata": {},
   "source": [
    "Works with NLNZ, IA, & ..."
   ]
  },
  {
   "cell_type": "code",
   "execution_count": 32,
   "metadata": {},
   "outputs": [],
   "source": [
    "URL = 'https://ndhadeliver.natlib.govt.nz/webarchive/wayback/20140922035225if_/http://www.shetlandwellington.org.nz/'\n",
    "    \n",
    "def get_full_page_screenshot(url, save_width=200):\n",
    "    '''\n",
    "    Gets a full page screenshot of the supplied url.\n",
    "    By default resizes the screenshot to a maximum width of 200px.\n",
    "    Provide a 'save_width' value to change this.\n",
    "    '''\n",
    "    # print(url)\n",
    "    date_str, site = re.search(r'/(\\d{14})(?:if_|mp_)*/https*://(.+/)', url).groups()\n",
    "    ss_file = Path('screenshots', f'{slugify(site)}-{date_str}-{save_width}.png')\n",
    "    options = webdriver.FirefoxOptions()\n",
    "    options.headless = True\n",
    "    driver = webdriver.Firefox(executable_path=geckodriver, options=options)\n",
    "    driver.get(url)\n",
    "    # Give some time for everything to load\n",
    "    time.sleep(5)\n",
    "    # Can just use maximize_window() instead of the below (only in Geckodriver?)\n",
    "    # S = lambda X: driver.execute_script('return document.body.parentNode.scroll'+X)\n",
    "    # driver.set_window_size(capture_width, S('Height') + 50) # May need manual adjustment\n",
    "    driver.maximize_window()\n",
    "    current_width = driver.get_window_size()['width']\n",
    "    try:\n",
    "        ss = driver.find_element_by_tag_name('body').screenshot_as_base64\n",
    "    except NoSuchElementException:\n",
    "        ss = driver.find_element_by_tag_name('frameset').screenshot_as_base64\n",
    "    driver.quit()\n",
    "    img = Image.open(io.BytesIO(base64.b64decode(ss)))\n",
    "    ratio = save_width / current_width\n",
    "    (width, height) = (round(img.width * ratio), round(img.height * ratio))\n",
    "    resized_img = img.resize((width, height), PIL.Image.LANCZOS)\n",
    "    resized_img.save(ss_file)\n",
    "    display(HTML(f'<img src=\"{ss_file}\">'))\n",
    "    "
   ]
  },
  {
   "cell_type": "code",
   "execution_count": 33,
   "metadata": {},
   "outputs": [
    {
     "data": {
      "text/html": [
       "<img src=\"screenshots/www-shetlandwellington-org-nz-20140922035225-200.png\">"
      ],
      "text/plain": [
       "<IPython.core.display.HTML object>"
      ]
     },
     "metadata": {},
     "output_type": "display_data"
    }
   ],
   "source": [
    "get_full_page_screenshot(URL)"
   ]
  }
 ],
 "metadata": {
  "kernelspec": {
   "display_name": "Python 3",
   "language": "python",
   "name": "python3"
  },
  "language_info": {
   "codemirror_mode": {
    "name": "ipython",
    "version": 3
   },
   "file_extension": ".py",
   "mimetype": "text/x-python",
   "name": "python",
   "nbconvert_exporter": "python",
   "pygments_lexer": "ipython3",
   "version": "3.8.2"
  },
  "widgets": {
   "application/vnd.jupyter.widget-state+json": {
    "state": {},
    "version_major": 2,
    "version_minor": 0
   }
  }
 },
 "nbformat": 4,
 "nbformat_minor": 4
}
