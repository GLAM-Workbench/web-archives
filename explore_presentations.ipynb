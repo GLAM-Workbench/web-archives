{
 "cells": [
  {
   "cell_type": "markdown",
   "metadata": {},
   "source": [
    "# Find and explore Powerpoint files from a domain"
   ]
  },
  {
   "cell_type": "markdown",
   "metadata": {},
   "source": [
    "<p class=\"alert alert-warning\">Work in progress – this notebook isn't finished yet. Check back later for more...<p>"
   ]
  },
  {
   "cell_type": "code",
   "execution_count": 153,
   "metadata": {},
   "outputs": [],
   "source": [
    "import requests\n",
    "from requests.adapters import HTTPAdapter\n",
    "from requests.packages.urllib3.util.retry import Retry\n",
    "from tqdm.auto import tqdm\n",
    "import pandas as pd\n",
    "import requests_cache\n",
    "import time\n",
    "import altair as alt\n",
    "import os\n",
    "from urllib.parse import urlparse\n",
    "from pathlib import Path\n",
    "import time\n",
    "# pyMuPDF (aka Fitz) seems to do a better job of converting PDFs to images than pdf2image\n",
    "import fitz\n",
    "#from pdf2image import convert_from_path\n",
    "from sqlite_utils import Database\n",
    "import sqlite3\n",
    "\n",
    "# Also need unoconv installed (pip or conda), and LibreOffice installed by whatever means is needed for local system\n",
    "# We call unoconv from shell below\n",
    "\n",
    "s = requests.Session()\n",
    "retries = Retry(total=10, backoff_factor=1, status_forcelist=[ 502, 503, 504 ])\n",
    "s.mount('https://', HTTPAdapter(max_retries=retries))\n",
    "s.mount('http://', HTTPAdapter(max_retries=retries))"
   ]
  },
  {
   "cell_type": "code",
   "execution_count": 243,
   "metadata": {},
   "outputs": [],
   "source": [
    "def get_total_pages(params):\n",
    "    these_params = params.copy()\n",
    "    these_params['showNumPages'] = 'true'\n",
    "    response = s.get('http://web.archive.org/cdx/search/cdx', params=these_params, headers={'User-Agent': ''})\n",
    "    return int(response.text)\n",
    "\n",
    "def query_cdx(url, **kwargs):\n",
    "    results = []\n",
    "    page = 0\n",
    "    params = kwargs\n",
    "    params['url'] = url\n",
    "    params['output'] = 'json'\n",
    "    total_pages = get_total_pages(params)\n",
    "    # print(total_pages)\n",
    "    with tqdm(total=total_pages-page) as pbar:\n",
    "        while page < total_pages:\n",
    "            params['page'] = page\n",
    "            response = requests.get('http://web.archive.org/cdx/search/cdx', params=params, headers={'User-Agent': ''})\n",
    "            print(response.url)\n",
    "            response.raise_for_status()\n",
    "            data = response.json()\n",
    "            if data:\n",
    "                columns = data[0]\n",
    "                results += data[1:]\n",
    "            page += 1\n",
    "            pbar.update(1)\n",
    "            time.sleep(0.2)\n",
    "    return columns, results"
   ]
  },
  {
   "cell_type": "markdown",
   "metadata": {},
   "source": [
    "## Get the CDX data"
   ]
  },
  {
   "cell_type": "code",
   "execution_count": 244,
   "metadata": {},
   "outputs": [],
   "source": [
    "domain = 'education.gov.au'"
   ]
  },
  {
   "cell_type": "code",
   "execution_count": null,
   "metadata": {},
   "outputs": [],
   "source": [
    "# Domain or prefix search? Domain...\n",
    "# Collapse on digest? Only removes adjacent captures with the same digest, so probably won't make much difference\n",
    "# What do we want -- unique combo of urlkey and digest? This will get changes in a file.\n",
    "# Note the use of regex in the mimetype filter -- should capture all(?) presentations.\n",
    "columns, results = query_cdx(f'*.{domain}', filter='mimetype:.*(powerpoint|presentation).*')"
   ]
  },
  {
   "cell_type": "code",
   "execution_count": 246,
   "metadata": {},
   "outputs": [],
   "source": [
    "df = pd.DataFrame(results, columns=columns)"
   ]
  },
  {
   "cell_type": "code",
   "execution_count": 247,
   "metadata": {},
   "outputs": [
    {
     "data": {
      "text/plain": [
       "(151, 7)"
      ]
     },
     "execution_count": 247,
     "metadata": {},
     "output_type": "execute_result"
    }
   ],
   "source": [
    "df.shape"
   ]
  },
  {
   "cell_type": "code",
   "execution_count": 249,
   "metadata": {},
   "outputs": [],
   "source": [
    "df_unique = df.drop_duplicates(subset=['digest'], keep='first')"
   ]
  },
  {
   "cell_type": "code",
   "execution_count": 250,
   "metadata": {},
   "outputs": [
    {
     "data": {
      "text/html": [
       "<div>\n",
       "<style scoped>\n",
       "    .dataframe tbody tr th:only-of-type {\n",
       "        vertical-align: middle;\n",
       "    }\n",
       "\n",
       "    .dataframe tbody tr th {\n",
       "        vertical-align: top;\n",
       "    }\n",
       "\n",
       "    .dataframe thead th {\n",
       "        text-align: right;\n",
       "    }\n",
       "</style>\n",
       "<table border=\"1\" class=\"dataframe\">\n",
       "  <thead>\n",
       "    <tr style=\"text-align: right;\">\n",
       "      <th></th>\n",
       "      <th>urlkey</th>\n",
       "      <th>timestamp</th>\n",
       "      <th>original</th>\n",
       "      <th>mimetype</th>\n",
       "      <th>statuscode</th>\n",
       "      <th>digest</th>\n",
       "      <th>length</th>\n",
       "    </tr>\n",
       "  </thead>\n",
       "  <tbody>\n",
       "    <tr>\n",
       "      <th>0</th>\n",
       "      <td>au,gov,education,docs)/system/files/doc/other/...</td>\n",
       "      <td>20170317221005</td>\n",
       "      <td>https://docs.education.gov.au/system/files/doc...</td>\n",
       "      <td>application/vnd.openxmlformats-officedocument....</td>\n",
       "      <td>200</td>\n",
       "      <td>4KINVGIFF6MRS333LLSE3H4ZBDVEK74G</td>\n",
       "      <td>219435</td>\n",
       "    </tr>\n",
       "    <tr>\n",
       "      <th>3</th>\n",
       "      <td>au,gov,education,docs)/system/files/doc/other/...</td>\n",
       "      <td>20180423021742</td>\n",
       "      <td>https://docs.education.gov.au/system/files/doc...</td>\n",
       "      <td>application/vnd.openxmlformats-officedocument....</td>\n",
       "      <td>200</td>\n",
       "      <td>EAFDTVCINL4EBHJPCRR5YPZIRKKYKNT6</td>\n",
       "      <td>1009135</td>\n",
       "    </tr>\n",
       "    <tr>\n",
       "      <th>5</th>\n",
       "      <td>au,gov,education,docs)/system/files/doc/other/...</td>\n",
       "      <td>20160329134542</td>\n",
       "      <td>https://docs.education.gov.au/system/files/doc...</td>\n",
       "      <td>application/vnd.openxmlformats-officedocument....</td>\n",
       "      <td>200</td>\n",
       "      <td>TH7PBW7BDPCAQOWECZO6XAW6RE4QM6NS</td>\n",
       "      <td>258215</td>\n",
       "    </tr>\n",
       "    <tr>\n",
       "      <th>6</th>\n",
       "      <td>au,gov,education,docs)/system/files/doc/other/...</td>\n",
       "      <td>20190421165805</td>\n",
       "      <td>https://docs.education.gov.au/system/files/doc...</td>\n",
       "      <td>application/vnd.openxmlformats-officedocument....</td>\n",
       "      <td>200</td>\n",
       "      <td>MA3XCGC6PDQUH34FGOMCDF3JDNDM5NST</td>\n",
       "      <td>1556063</td>\n",
       "    </tr>\n",
       "    <tr>\n",
       "      <th>7</th>\n",
       "      <td>au,gov,education,docs)/system/files/doc/other/...</td>\n",
       "      <td>20180423021849</td>\n",
       "      <td>https://docs.education.gov.au/system/files/doc...</td>\n",
       "      <td>application/vnd.openxmlformats-officedocument....</td>\n",
       "      <td>200</td>\n",
       "      <td>T6JIO3WN4TLI6H4RRWCQVA6JK63GXXH6</td>\n",
       "      <td>2665288</td>\n",
       "    </tr>\n",
       "    <tr>\n",
       "      <th>...</th>\n",
       "      <td>...</td>\n",
       "      <td>...</td>\n",
       "      <td>...</td>\n",
       "      <td>...</td>\n",
       "      <td>...</td>\n",
       "      <td>...</td>\n",
       "      <td>...</td>\n",
       "    </tr>\n",
       "    <tr>\n",
       "      <th>141</th>\n",
       "      <td>au,gov,education,heimshelp)/sites/heimshelp/su...</td>\n",
       "      <td>20160312131936</td>\n",
       "      <td>http://heimshelp.education.gov.au/sites/heimsh...</td>\n",
       "      <td>application/vnd.ms-powerpoint.presentation.12</td>\n",
       "      <td>200</td>\n",
       "      <td>M2CXJ4D7QRVPUT6OITVFTWVJWBCF2ZI6</td>\n",
       "      <td>2841389</td>\n",
       "    </tr>\n",
       "    <tr>\n",
       "      <th>144</th>\n",
       "      <td>au,gov,education,heimshelp)/sites/heimshelp/su...</td>\n",
       "      <td>20150329090908</td>\n",
       "      <td>http://heimshelp.education.gov.au/sites/heimsh...</td>\n",
       "      <td>application/vnd.ms-powerpoint.presentation.12</td>\n",
       "      <td>200</td>\n",
       "      <td>WQVVWQQ4ZAWZIGWXCGRIVNK23RMYXCDG</td>\n",
       "      <td>1486559</td>\n",
       "    </tr>\n",
       "    <tr>\n",
       "      <th>145</th>\n",
       "      <td>au,gov,education,heimshelp)/sites/heimshelp/su...</td>\n",
       "      <td>20150329090603</td>\n",
       "      <td>http://heimshelp.education.gov.au/sites/heimsh...</td>\n",
       "      <td>application/vnd.ms-powerpoint.presentation.12</td>\n",
       "      <td>200</td>\n",
       "      <td>4MVZ5MHUIEAQS3D2FYJ4XLRZCVTBLHSK</td>\n",
       "      <td>3395050</td>\n",
       "    </tr>\n",
       "    <tr>\n",
       "      <th>146</th>\n",
       "      <td>au,gov,education,heimshelp)/sites/heimshelp/su...</td>\n",
       "      <td>20160312131731</td>\n",
       "      <td>http://heimshelp.education.gov.au/sites/heimsh...</td>\n",
       "      <td>application/vnd.ms-powerpoint.presentation.12</td>\n",
       "      <td>200</td>\n",
       "      <td>VJW55IJO5PLHIF5HQQJWOUG2WLF2RSQ5</td>\n",
       "      <td>5668594</td>\n",
       "    </tr>\n",
       "    <tr>\n",
       "      <th>147</th>\n",
       "      <td>au,gov,education,heimshelp)/sites/heimshelp/su...</td>\n",
       "      <td>20170318054347</td>\n",
       "      <td>http://heimshelp.education.gov.au/sites/heimsh...</td>\n",
       "      <td>application/vnd.ms-powerpoint.presentation.12</td>\n",
       "      <td>200</td>\n",
       "      <td>DYEONQQIOG4JJE2ZIMLP3QYDPNRM5SBW</td>\n",
       "      <td>6116315</td>\n",
       "    </tr>\n",
       "  </tbody>\n",
       "</table>\n",
       "<p>112 rows × 7 columns</p>\n",
       "</div>"
      ],
      "text/plain": [
       "                                                urlkey       timestamp  \\\n",
       "0    au,gov,education,docs)/system/files/doc/other/...  20170317221005   \n",
       "3    au,gov,education,docs)/system/files/doc/other/...  20180423021742   \n",
       "5    au,gov,education,docs)/system/files/doc/other/...  20160329134542   \n",
       "6    au,gov,education,docs)/system/files/doc/other/...  20190421165805   \n",
       "7    au,gov,education,docs)/system/files/doc/other/...  20180423021849   \n",
       "..                                                 ...             ...   \n",
       "141  au,gov,education,heimshelp)/sites/heimshelp/su...  20160312131936   \n",
       "144  au,gov,education,heimshelp)/sites/heimshelp/su...  20150329090908   \n",
       "145  au,gov,education,heimshelp)/sites/heimshelp/su...  20150329090603   \n",
       "146  au,gov,education,heimshelp)/sites/heimshelp/su...  20160312131731   \n",
       "147  au,gov,education,heimshelp)/sites/heimshelp/su...  20170318054347   \n",
       "\n",
       "                                              original  \\\n",
       "0    https://docs.education.gov.au/system/files/doc...   \n",
       "3    https://docs.education.gov.au/system/files/doc...   \n",
       "5    https://docs.education.gov.au/system/files/doc...   \n",
       "6    https://docs.education.gov.au/system/files/doc...   \n",
       "7    https://docs.education.gov.au/system/files/doc...   \n",
       "..                                                 ...   \n",
       "141  http://heimshelp.education.gov.au/sites/heimsh...   \n",
       "144  http://heimshelp.education.gov.au/sites/heimsh...   \n",
       "145  http://heimshelp.education.gov.au/sites/heimsh...   \n",
       "146  http://heimshelp.education.gov.au/sites/heimsh...   \n",
       "147  http://heimshelp.education.gov.au/sites/heimsh...   \n",
       "\n",
       "                                              mimetype statuscode  \\\n",
       "0    application/vnd.openxmlformats-officedocument....        200   \n",
       "3    application/vnd.openxmlformats-officedocument....        200   \n",
       "5    application/vnd.openxmlformats-officedocument....        200   \n",
       "6    application/vnd.openxmlformats-officedocument....        200   \n",
       "7    application/vnd.openxmlformats-officedocument....        200   \n",
       "..                                                 ...        ...   \n",
       "141      application/vnd.ms-powerpoint.presentation.12        200   \n",
       "144      application/vnd.ms-powerpoint.presentation.12        200   \n",
       "145      application/vnd.ms-powerpoint.presentation.12        200   \n",
       "146      application/vnd.ms-powerpoint.presentation.12        200   \n",
       "147      application/vnd.ms-powerpoint.presentation.12        200   \n",
       "\n",
       "                               digest   length  \n",
       "0    4KINVGIFF6MRS333LLSE3H4ZBDVEK74G   219435  \n",
       "3    EAFDTVCINL4EBHJPCRR5YPZIRKKYKNT6  1009135  \n",
       "5    TH7PBW7BDPCAQOWECZO6XAW6RE4QM6NS   258215  \n",
       "6    MA3XCGC6PDQUH34FGOMCDF3JDNDM5NST  1556063  \n",
       "7    T6JIO3WN4TLI6H4RRWCQVA6JK63GXXH6  2665288  \n",
       "..                                ...      ...  \n",
       "141  M2CXJ4D7QRVPUT6OITVFTWVJWBCF2ZI6  2841389  \n",
       "144  WQVVWQQ4ZAWZIGWXCGRIVNK23RMYXCDG  1486559  \n",
       "145  4MVZ5MHUIEAQS3D2FYJ4XLRZCVTBLHSK  3395050  \n",
       "146  VJW55IJO5PLHIF5HQQJWOUG2WLF2RSQ5  5668594  \n",
       "147  DYEONQQIOG4JJE2ZIMLP3QYDPNRM5SBW  6116315  \n",
       "\n",
       "[112 rows x 7 columns]"
      ]
     },
     "execution_count": 250,
     "metadata": {},
     "output_type": "execute_result"
    }
   ],
   "source": [
    "df_unique"
   ]
  },
  {
   "cell_type": "markdown",
   "metadata": {},
   "source": [
    "## Download all the PP files and save some metadata"
   ]
  },
  {
   "cell_type": "code",
   "execution_count": 252,
   "metadata": {},
   "outputs": [],
   "source": [
    "def get_date_range(df, digest):\n",
    "    captures = df.loc[df['digest'] == digest]\n",
    "    return(captures['timestamp'].min(), captures['timestamp'].max())\n",
    "\n",
    "def check_if_exists(url):\n",
    "    try:\n",
    "        response = s.head(url, allow_redirects=True)\n",
    "    except requests.exceptions.ConnectionError:\n",
    "        return '404'\n",
    "    return response.status_code\n",
    "\n",
    "def save_files(df):\n",
    "    metadata = []\n",
    "    unique = df.drop_duplicates(subset=['digest'], keep='first').to_dict('records')\n",
    "    for row in tqdm(unique):\n",
    "        url = f'https://web.archive.org/web/{row[\"timestamp\"]}id_/{row[\"original\"]}'\n",
    "        parsed = urlparse(row[\"original\"])\n",
    "        suffix = Path(parsed.path).suffix\n",
    "        # This should give a sortable and unique filename if there are multiple versions of a file\n",
    "        file_name = f'{slugify(row[\"urlkey\"])}-{row[\"timestamp\"]}{suffix}'\n",
    "        # print(filename)\n",
    "        output_dir = Path('powerpoints', slugify(domain))\n",
    "        output_dir.mkdir(parents=True, exist_ok=True)\n",
    "        file_path = Path(output_dir, file_name)\n",
    "        if not file_path.exists():\n",
    "            response = requests.get(url=url, headers={'User-Agent': ''})\n",
    "            file_path.write_bytes(response.content)\n",
    "        details = row.copy()\n",
    "        first, last = get_date_range(df, row[\"digest\"])\n",
    "        details['first_capture'] = first\n",
    "        details['last_capture'] = last\n",
    "        details['current_status'] = check_if_exists(row[\"original\"])\n",
    "        details['file_path'] = str(file_path)\n",
    "        # print(details)\n",
    "        metadata.append(details)\n",
    "        time.sleep(5)\n",
    "    return metadata"
   ]
  },
  {
   "cell_type": "code",
   "execution_count": 253,
   "metadata": {},
   "outputs": [
    {
     "data": {
      "application/vnd.jupyter.widget-view+json": {
       "model_id": "d78d20d8cb514a28a2e8ea2e30699b46",
       "version_major": 2,
       "version_minor": 0
      },
      "text/plain": [
       "HBox(children=(FloatProgress(value=0.0, max=112.0), HTML(value='')))"
      ]
     },
     "metadata": {},
     "output_type": "display_data"
    },
    {
     "name": "stdout",
     "output_type": "stream",
     "text": [
      "\n"
     ]
    }
   ],
   "source": [
    "metadata = save_files(df)"
   ]
  },
  {
   "cell_type": "code",
   "execution_count": 254,
   "metadata": {},
   "outputs": [],
   "source": [
    "df_md = pd.DataFrame(metadata)\n",
    "df_md.to_csv(f'{slugify(domain)}-powerpoints.csv')"
   ]
  },
  {
   "cell_type": "markdown",
   "metadata": {},
   "source": [
    "## Convert the PP files to PDFs"
   ]
  },
  {
   "cell_type": "code",
   "execution_count": null,
   "metadata": {},
   "outputs": [],
   "source": [
    "# unoconv will sometime hang silently on files it can't convert\n",
    "# just remove the troublesome files, or change their file extension\n",
    "# Remove the -v option if you don't want to see the output\n",
    "input_dir = str(Path('powerpoints', slugify(domain))) + '/*[ppt,pps,pptx]'\n",
    "output_dir = Path('pdfs', slugify(domain))\n",
    "output_dir.mkdir(parents=True, exist_ok=True)\n",
    "pdf_output = str(output_dir)\n",
    "!unoconv -v -f pdf -o {pdf_output} {input_dir}"
   ]
  },
  {
   "cell_type": "markdown",
   "metadata": {},
   "source": [
    "## Generate screenshots and save data from PDFs"
   ]
  },
  {
   "cell_type": "code",
   "execution_count": null,
   "metadata": {},
   "outputs": [],
   "source": [
    "import base64\n",
    "\n",
    "for pdf in Path('pdfs', slugify(domain)).glob('*.pdf'):\n",
    "    doc = fitz.open(pdf)\n",
    "    page = doc.loadPage(0) #number of page\n",
    "    # Define matrix to increase resolution / size - https://pymupdf.readthedocs.io/en/latest/faq/\n",
    "    pix = page.getPixmap()\n",
    "    output = str(Path('ppt_images', f'{pdf.stem}.png'))\n",
    "    pix.writePNG(output)\n",
    "    b64 = base64.b64encode(pix.getPNGData())\n",
    "    "
   ]
  },
  {
   "cell_type": "code",
   "execution_count": 222,
   "metadata": {},
   "outputs": [],
   "source": [
    "import io\n",
    "from PIL import Image\n",
    "import PIL\n",
    "\n",
    "def get_data_from_pdfs(metadata):\n",
    "    pdf_data = metadata.copy()\n",
    "    for pdf in tqdm(pdf_data):\n",
    "        # See if pdf exists\n",
    "        pdf_name = f'{slugify(pdf[\"urlkey\"])}-{pdf[\"timestamp\"]}.pdf'\n",
    "        # print(filename)\n",
    "        output_dir = Path('pdfs', slugify(domain))\n",
    "        output_dir.mkdir(parents=True, exist_ok=True)\n",
    "        pdf_path = Path(output_dir, pdf_name)\n",
    "        if pdf_path.exists():\n",
    "            doc = fitz.open(pdf_path)\n",
    "            page_count = doc.pageCount\n",
    "            page_num = 0\n",
    "            text = ''\n",
    "            # Define matrix to increase resolution / size - https://pymupdf.readthedocs.io/en/latest/faq/\n",
    "            # Better way of fixing size?\n",
    "            # mat = fitz.Matrix(0.5,0.5)\n",
    "            while (page_num < page_count):\n",
    "                page = doc.loadPage(page_num)\n",
    "                if page_num == 0:\n",
    "                    pix = page.getPixmap(matrix=mat)\n",
    "                    output = str(Path('ppt_images', f'{pdf_path.stem}.png'))\n",
    "                    # pix.writePNG(output)\n",
    "                    #b64 = base64.b64encode(pix.getPNGData())\n",
    "                    # pdf['image'] = b64\n",
    "                    img_data = pix.getPNGData()\n",
    "                    img = Image.open(io.BytesIO(img_data))\n",
    "                    ratio = 300 / img.width\n",
    "                    (width, height) = (round(img.width * ratio), round(img.height * ratio))\n",
    "                    resized_img = img.resize((width, height), PIL.Image.LANCZOS)\n",
    "                    #resized_img.save(output)\n",
    "                    buffer = io.BytesIO()\n",
    "                    resized_img.save(buffer, format='PNG')\n",
    "                    pdf['image'] = buffer.getvalue()\n",
    "                text = text + page.getText()\n",
    "                pdf['text'] = text\n",
    "                page_num += 1\n",
    "        else:\n",
    "            pdf['text'] = ''\n",
    "            pdf['image'] = ''\n",
    "    return pdf_data"
   ]
  },
  {
   "cell_type": "code",
   "execution_count": 223,
   "metadata": {},
   "outputs": [
    {
     "data": {
      "application/vnd.jupyter.widget-view+json": {
       "model_id": "38c73db8c8334e3194a97f4acbf14325",
       "version_major": 2,
       "version_minor": 0
      },
      "text/plain": [
       "HBox(children=(FloatProgress(value=0.0, max=267.0), HTML(value='')))"
      ]
     },
     "metadata": {},
     "output_type": "display_data"
    },
    {
     "name": "stdout",
     "output_type": "stream",
     "text": [
      "\n"
     ]
    }
   ],
   "source": [
    "pdf_data = get_data_from_pdfs(metadata)"
   ]
  },
  {
   "cell_type": "markdown",
   "metadata": {},
   "source": [
    "## Save into SQLite, so we can explore the results in Datasette"
   ]
  },
  {
   "cell_type": "code",
   "execution_count": 224,
   "metadata": {},
   "outputs": [],
   "source": [
    "db = Database(\"defence-powerpoints.db\")"
   ]
  },
  {
   "cell_type": "code",
   "execution_count": 225,
   "metadata": {},
   "outputs": [
    {
     "data": {
      "text/plain": [
       "<Table files (urlkey, timestamp, original, mimetype, statuscode, digest, length, first_capture, last_capture, current_status, file_path, image, text)>"
      ]
     },
     "execution_count": 225,
     "metadata": {},
     "output_type": "execute_result"
    }
   ],
   "source": [
    "db['files'].insert_all(pdf_data)"
   ]
  },
  {
   "cell_type": "code",
   "execution_count": 177,
   "metadata": {},
   "outputs": [
    {
     "data": {
      "text/plain": [
       "[<Table files (urlkey, timestamp, original, mimetype, statuscode, digest, length, first_capture, last_capture, current_status, file_path, image, text)>]"
      ]
     },
     "execution_count": 177,
     "metadata": {},
     "output_type": "execute_result"
    }
   ],
   "source": [
    "db.tables"
   ]
  },
  {
   "cell_type": "code",
   "execution_count": 226,
   "metadata": {},
   "outputs": [
    {
     "name": "stdout",
     "output_type": "stream",
     "text": [
      "Serve! files=('defence-powerpoints.db',) (immutables=()) on port 8001\n",
      "\u001b[32mINFO\u001b[0m:     Started server process [\u001b[36m87382\u001b[0m]\n",
      "\u001b[32mINFO\u001b[0m:     Waiting for application startup.\n",
      "\u001b[32mINFO\u001b[0m:     Application startup complete.\n",
      "\u001b[32mINFO\u001b[0m:     Uvicorn running on \u001b[1mhttp://127.0.0.1:8001\u001b[0m (Press CTRL+C to quit)\n",
      "\u001b[32mINFO\u001b[0m:     127.0.0.1:50925 - \"\u001b[1mGET /defence-powerpoints/files HTTP/1.1\u001b[0m\" \u001b[32m200 OK\u001b[0m\n",
      "\u001b[32mINFO\u001b[0m:     127.0.0.1:50925 - \"\u001b[1mGET /-/static/app.css?4434ab HTTP/1.1\u001b[0m\" \u001b[32m200 OK\u001b[0m\n",
      "\u001b[32mINFO\u001b[0m:     127.0.0.1:52157 - \"\u001b[1mGET /defence-powerpoints/files?_next=100 HTTP/1.1\u001b[0m\" \u001b[32m200 OK\u001b[0m\n",
      "\u001b[32mINFO\u001b[0m:     127.0.0.1:52157 - \"\u001b[1mGET /-/static/app.css?4434ab HTTP/1.1\u001b[0m\" \u001b[32m200 OK\u001b[0m\n",
      "^C\n",
      "\u001b[32mINFO\u001b[0m:     Shutting down\n",
      "\u001b[32mINFO\u001b[0m:     Waiting for application shutdown.\n",
      "\u001b[32mINFO\u001b[0m:     Application shutdown complete.\n",
      "\u001b[32mINFO\u001b[0m:     Finished server process [\u001b[36m87382\u001b[0m]\n"
     ]
    }
   ],
   "source": [
    "# There's a slighly modifed version of the render-image plugin in the plugins folder\n",
    "# The original only showed images < 100kb.\n",
    "!datasette --plugins-dir plugins defence-powerpoints.db"
   ]
  },
  {
   "cell_type": "code",
   "execution_count": null,
   "metadata": {},
   "outputs": [],
   "source": []
  }
 ],
 "metadata": {
  "kernelspec": {
   "display_name": "Python 3",
   "language": "python",
   "name": "python3"
  },
  "language_info": {
   "codemirror_mode": {
    "name": "ipython",
    "version": 3
   },
   "file_extension": ".py",
   "mimetype": "text/x-python",
   "name": "python",
   "nbconvert_exporter": "python",
   "pygments_lexer": "ipython3",
   "version": "3.8.2"
  }
 },
 "nbformat": 4,
 "nbformat_minor": 4
}
