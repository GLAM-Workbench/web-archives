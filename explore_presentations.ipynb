{
 "cells": [
  {
   "cell_type": "markdown",
   "metadata": {},
   "source": [
    "# Find and explore presentations from a domain\n",
    "\n",
    "Web archives don't just contain HTML pages! Using the `filter` parameter in CDX queries we can limit our results to particular types of files, for example Powerpoint presentations.\n",
    "\n",
    "This notebook helps you find, download, and explore all the presentation files captured from a particular domain, like `defence.gov.au`. It uses the Internet Archive by default, as their CDX API allows domain level queries and pagination, however, you could try using the UKWA or the National Library of Australia (prefix queries only).\n",
    "\n",
    "This notebook includes a series of processing steps:\n",
    "\n",
    "1. Harvest capture data\n",
    "2. Remove duplicates from capture data and download files\n",
    "3. Convert Powerpoint files to PDFs\n",
    "4. Extract screenshots and text from the PDFs\n",
    "5. Save metadata, screenshots, and text into an SQLite database for exploration\n",
    "\n",
    "Moving large files around and extracting useful data from proprietary formats is not a straightforward process. While this notebook has been tested and will work running on Binder, you'll probably want to shift across to a local machine if you're doing any large-scale harvesting. That'll make it easier for you to deal with corrupted files, broken downloads etc."
   ]
  },
  {
   "cell_type": "markdown",
   "metadata": {},
   "source": [
    "<p class=\"alert alert-warning\">Work in progress – this notebook isn't finished yet. Check back later for more...<p>"
   ]
  },
  {
   "cell_type": "code",
   "execution_count": 1,
   "metadata": {},
   "outputs": [],
   "source": [
    "import requests\n",
    "from requests.adapters import HTTPAdapter\n",
    "from requests.packages.urllib3.util.retry import Retry\n",
    "from tqdm.auto import tqdm\n",
    "import pandas as pd\n",
    "import requests_cache\n",
    "import time\n",
    "import altair as alt\n",
    "import os\n",
    "from urllib.parse import urlparse\n",
    "from pathlib import Path\n",
    "import time\n",
    "import math\n",
    "import io\n",
    "from PIL import Image\n",
    "import PIL\n",
    "# pyMuPDF (aka Fitz) seems to do a better job of converting PDFs to images than pdf2image\n",
    "import fitz\n",
    "import sqlite_utils\n",
    "from slugify import slugify\n",
    "import arrow\n",
    "from notebook.notebookapp import list_running_servers\n",
    "from IPython.display import display, HTML\n",
    "\n",
    "# Also need LibreOffice installed by whatever means is needed for local system\n",
    "\n",
    "s = requests.Session()\n",
    "retries = Retry(total=10, backoff_factor=1, status_forcelist=[ 502, 503, 504 ])\n",
    "s.mount('https://', HTTPAdapter(max_retries=retries))\n",
    "s.mount('http://', HTTPAdapter(max_retries=retries))"
   ]
  },
  {
   "cell_type": "code",
   "execution_count": 2,
   "metadata": {},
   "outputs": [],
   "source": [
    "def convert_lists_to_dicts(results):\n",
    "    '''\n",
    "    Converts IA style timemap (a JSON array of arrays) to a list of dictionaries.\n",
    "    Renames keys to standardise IA with other Timemaps.\n",
    "    '''\n",
    "    if results:\n",
    "        keys = results[0]\n",
    "        results_as_dicts = [dict(zip(keys, v)) for v in results[1:]]\n",
    "    else:\n",
    "        results_as_dicts = results\n",
    "    for d in results_as_dicts:\n",
    "        d['status'] = d.pop('statuscode')\n",
    "        d['mime'] = d.pop('mimetype')\n",
    "        d['url'] = d.pop('original')\n",
    "    return results_as_dicts\n",
    "\n",
    "def get_total_pages(params):\n",
    "    these_params = params.copy()\n",
    "    these_params['showNumPages'] = 'true'\n",
    "    response = s.get('http://web.archive.org/cdx/search/cdx', params=these_params, headers={'User-Agent': ''})\n",
    "    return int(response.text)\n",
    "\n",
    "def query_cdx_ia(url, **kwargs):\n",
    "    results = []\n",
    "    page = 0\n",
    "    params = kwargs\n",
    "    params['url'] = url\n",
    "    params['output'] = 'json'\n",
    "    total_pages = get_total_pages(params)\n",
    "    # print(total_pages)\n",
    "    with tqdm(total=total_pages-page) as pbar:\n",
    "        while page < total_pages:\n",
    "            params['page'] = page\n",
    "            response = s.get('http://web.archive.org/cdx/search/cdx', params=params, headers={'User-Agent': ''})\n",
    "            # print(response.url)\n",
    "            response.raise_for_status()\n",
    "            results += convert_lists_to_dicts(response.json())\n",
    "            page += 1\n",
    "            pbar.update(1)\n",
    "            time.sleep(0.2)\n",
    "    return results"
   ]
  },
  {
   "cell_type": "markdown",
   "metadata": {},
   "source": [
    "## Harvest capture data\n",
    "\n",
    "See [Exploring the Internet Archive's CDX API](exploring_cdx_api.ipynb) and [Comparing CDX APIs](comparing_cdx_apis.ipynb) for more information on getting CDX data. \n",
    "\n",
    "Setting `filter=mimetype:application/vnd.ms-powerpoint` would get standard MS `.ppt` files, but what about `.pptx` or Open Office files? Using a regular expression like `filter=mimetype:.*(powerpoint|presentation).*` should get most presentation software variants."
   ]
  },
  {
   "cell_type": "code",
   "execution_count": 3,
   "metadata": {},
   "outputs": [],
   "source": [
    "# Set the domain that we're interested in\n",
    "domain = 'education.gov.au'\n",
    "\n",
    "# Create output directory for data\n",
    "domain_dir = Path('domains', slugify(domain))\n",
    "domain_dir.mkdir(parents=True, exist_ok=True)"
   ]
  },
  {
   "cell_type": "code",
   "execution_count": 4,
   "metadata": {},
   "outputs": [
    {
     "data": {
      "application/vnd.jupyter.widget-view+json": {
       "model_id": "5167785ab51348318a9e72349a91d256",
       "version_major": 2,
       "version_minor": 0
      },
      "text/plain": [
       "HBox(children=(FloatProgress(value=0.0, max=34.0), HTML(value='')))"
      ]
     },
     "metadata": {},
     "output_type": "display_data"
    },
    {
     "name": "stdout",
     "output_type": "stream",
     "text": [
      "\n"
     ]
    }
   ],
   "source": [
    "# Domain or prefix search? Domain...\n",
    "# Collapse on digest? Only removes adjacent captures with the same digest, so probably won't make much difference\n",
    "# Note the use of regex in the mimetype filter -- should capture all(?) presentations.\n",
    "results = query_cdx_ia(f'*.{domain}', filter='mimetype:.*(powerpoint|presentation).*')"
   ]
  },
  {
   "cell_type": "markdown",
   "metadata": {},
   "source": [
    "Let's convert the harvested data into a dataframe."
   ]
  },
  {
   "cell_type": "code",
   "execution_count": 5,
   "metadata": {},
   "outputs": [],
   "source": [
    "df = pd.DataFrame(results)"
   ]
  },
  {
   "cell_type": "markdown",
   "metadata": {},
   "source": [
    "How many captures are there?"
   ]
  },
  {
   "cell_type": "code",
   "execution_count": 6,
   "metadata": {},
   "outputs": [
    {
     "data": {
      "text/plain": [
       "(205, 7)"
      ]
     },
     "execution_count": 6,
     "metadata": {},
     "output_type": "execute_result"
    }
   ],
   "source": [
    "df.shape"
   ]
  },
  {
   "cell_type": "markdown",
   "metadata": {},
   "source": [
    "How many unique files are there? This drops duplicates based on the `digest` field."
   ]
  },
  {
   "cell_type": "code",
   "execution_count": 7,
   "metadata": {},
   "outputs": [],
   "source": [
    "df_unique = df.drop_duplicates(subset=['digest'], keep='first')"
   ]
  },
  {
   "cell_type": "code",
   "execution_count": 8,
   "metadata": {},
   "outputs": [
    {
     "data": {
      "text/plain": [
       "(132, 7)"
      ]
     },
     "execution_count": 8,
     "metadata": {},
     "output_type": "execute_result"
    }
   ],
   "source": [
    "df_unique.shape"
   ]
  },
  {
   "cell_type": "markdown",
   "metadata": {},
   "source": [
    "What `mimetype` values are there?"
   ]
  },
  {
   "cell_type": "code",
   "execution_count": 9,
   "metadata": {},
   "outputs": [
    {
     "data": {
      "text/plain": [
       "application/vnd.openxmlformats-officedocument.presentationml.presentation    77\n",
       "application/vnd.ms-powerpoint.presentation.12                                51\n",
       "application/vnd.openxmlformats-officedocument.presentationml.slideshow        3\n",
       "application/vnd.ms-powerpoint.show.12                                         1\n",
       "Name: mime, dtype: int64"
      ]
     },
     "execution_count": 9,
     "metadata": {},
     "output_type": "execute_result"
    }
   ],
   "source": [
    "df_unique['mime'].value_counts()"
   ]
  },
  {
   "cell_type": "markdown",
   "metadata": {},
   "source": [
    "## Download all the Powerpoint files and save some metadata about them\n",
    "\n",
    "In this step we'll work through the capture data and attempt to download each unique file. We'll also add in some extra metadata:\n",
    "\n",
    "* `first_capture` – the first time this file appears in the archive (ISO formatted date, YYYY-MM-DD)\n",
    "* `last_capture` – the last time this file appears in the archive (ISO formatted date, YYYY-MM-DD)\n",
    "* `current_status` – HTTP status code returned now by the original url\n",
    "\n",
    "The downloaded Powerpoint files will be stored in `/domains/[this domain]/powerpoints/original`."
   ]
  },
  {
   "cell_type": "code",
   "execution_count": 10,
   "metadata": {},
   "outputs": [],
   "source": [
    "def format_timestamp_as_iso(timestamp):\n",
    "    return arrow.get(timestamp, 'YYYYMMDDHHmmss').format('YYYY-MM-DD')\n",
    "\n",
    "def get_date_range(df, digest):\n",
    "    '''\n",
    "    Find the first and last captures identified by digest.\n",
    "    Return the dates in ISO format.\n",
    "    '''\n",
    "    captures = df.loc[df['digest'] == digest]\n",
    "    from_date = format_timestamp_as_iso(captures['timestamp'].min())\n",
    "    to_date = format_timestamp_as_iso(captures['timestamp'].max())\n",
    "    return(from_date, to_date)\n",
    "\n",
    "def check_if_exists(url):\n",
    "    '''\n",
    "    Check to see if a file still exists on the web.\n",
    "    Return the current status code.\n",
    "    '''\n",
    "    try:\n",
    "        response = s.head(url, allow_redirects=True)\n",
    "    # If there are any problems that don't generate codes\n",
    "    except requests.exceptions.ConnectionError:\n",
    "        return 'unreachable'\n",
    "    return response.status_code\n",
    "\n",
    "def save_files(df, add_current_status=True):\n",
    "    '''\n",
    "    Attempts to download each unique file.\n",
    "    Adds first_capture, and last_capture, and file_path to the file metadata.\n",
    "    Optionally checks to see if file is still accessible on the live web, adding current status code to metadata.\n",
    "    '''\n",
    "    metadata = df.drop_duplicates(subset=['digest'], keep='first').to_dict('records')\n",
    "    for row in tqdm(metadata):\n",
    "        url = f'https://web.archive.org/web/{row[\"timestamp\"]}id_/{row[\"url\"]}'\n",
    "        parsed = urlparse(row['url'])\n",
    "        suffix = Path(parsed.path).suffix\n",
    "        # This should give a sortable and unique filename if there are multiple versions of a file\n",
    "        file_name = f'{slugify(row[\"urlkey\"])}-{row[\"timestamp\"]}{suffix}'\n",
    "        # print(filename)\n",
    "        # Create the output directory for the downloaded files\n",
    "        output_dir = Path(domain_dir, 'powerpoints', 'original')\n",
    "        output_dir.mkdir(parents=True, exist_ok=True)\n",
    "        file_path = Path(output_dir, file_name)\n",
    "        # Don't re-get files we already got\n",
    "        if not file_path.exists():\n",
    "            response = s.get(url=url)\n",
    "            file_path.write_bytes(response.content)\n",
    "            time.sleep(1)\n",
    "        # Get first and last cpature dates\n",
    "        first, last = get_date_range(df, row[\"digest\"])\n",
    "        row['first_capture'] = first\n",
    "        row['last_capture'] = last\n",
    "        # This can slow things down a bit, so make it optional\n",
    "        if add_current_status:\n",
    "            row['current_status'] = check_if_exists(row[\"url\"])\n",
    "        row['file_path'] = str(file_path)\n",
    "    return metadata"
   ]
  },
  {
   "cell_type": "code",
   "execution_count": 11,
   "metadata": {},
   "outputs": [
    {
     "data": {
      "application/vnd.jupyter.widget-view+json": {
       "model_id": "493d79761d5646e4abb34d1984477e93",
       "version_major": 2,
       "version_minor": 0
      },
      "text/plain": [
       "HBox(children=(FloatProgress(value=0.0, max=132.0), HTML(value='')))"
      ]
     },
     "metadata": {},
     "output_type": "display_data"
    },
    {
     "name": "stdout",
     "output_type": "stream",
     "text": [
      "\n"
     ]
    }
   ],
   "source": [
    "metadata = save_files(df)"
   ]
  },
  {
   "cell_type": "markdown",
   "metadata": {},
   "source": [
    "Let's save the enriched data as a CSV file."
   ]
  },
  {
   "cell_type": "code",
   "execution_count": 12,
   "metadata": {},
   "outputs": [
    {
     "data": {
      "text/html": [
       "<a href='domains/education-gov-au/education-gov-au-powerpoints.csv' target='_blank'>domains/education-gov-au/education-gov-au-powerpoints.csv</a><br>"
      ],
      "text/plain": [
       "/Volumes/Workspace/mycode/glam-workbench/webarchives/notebooks/domains/education-gov-au/education-gov-au-powerpoints.csv"
      ]
     },
     "metadata": {},
     "output_type": "display_data"
    }
   ],
   "source": [
    "from IPython.display import display, FileLink\n",
    "df_md = pd.DataFrame(metadata)\n",
    "csv_file = Path(domain_dir, f'{slugify(domain)}-powerpoints.csv')\n",
    "df_md.to_csv(csv_file)\n",
    "display(FileLink(csv_file))"
   ]
  },
  {
   "cell_type": "markdown",
   "metadata": {},
   "source": [
    "How many of the archived Powerpoints are still accessible on the live web?"
   ]
  },
  {
   "cell_type": "code",
   "execution_count": 13,
   "metadata": {},
   "outputs": [
    {
     "data": {
      "text/plain": [
       "200    66\n",
       "404    52\n",
       "403    14\n",
       "Name: current_status, dtype: int64"
      ]
     },
     "execution_count": 13,
     "metadata": {},
     "output_type": "execute_result"
    }
   ],
   "source": [
    "df_md['current_status'].value_counts()"
   ]
  },
  {
   "cell_type": "markdown",
   "metadata": {},
   "source": [
    "## Convert the Powerpoint files to PDFs\n",
    "\n",
    "In this step we'll convert the Powerpoint files to PDFs. PDFs are easier to work with, and we can use them to extract text and images from the original presentation files. However, the conversion process can be a bit fiddly. Before you undertake this you'll need to make sure that you have a **recent version of [LibreOffice](https://www.libreoffice.org/) installed** on your system.\n",
    "\n",
    "If you're using this notebook on Binder, or have created a `virtualenv` using this repository's `requirements.txt`, you'll have installed the Python command-line program `unoconv`. Unoconv wraps around LibreOffice to provide a standard interface for converting files from one file type to another. However, while `unoconv` seems to work ok when running a notebook in a conda environment, it fails in a standard `virtualenv`. It's got something to do with the default interpreter, but even using LibreOffice's own packaged Python doesn't seem to help.\n",
    "\n",
    "Fortunately, you can just call LibreOffice directly. To do this, you'll need to know the location of the LibreOffice program. for example, on MacOS this is probably `/Applications/LibreOffice.app/Contents/MacOS/soffice`. Once you have that, it's easy to convert a directory full of Powerpoint files to pdfs, for example:\n",
    "\n",
    "``` shell\n",
    "!/Applications/LibreOffice.app/Contents/MacOS/soffice --headless --convert-to [format to convert to, eg pdf] --outdir [output directory] [input files]\n",
    "```\n",
    "\n",
    "I've included both the `unoconv` and direct LibreOffice options below so you can use the one that works best for you. Just comment/uncomment lines as necessary. **If you're using this notebook on Binder, it *should just work* with the default settings.**\n",
    "\n",
    "Some other issues:\n",
    "\n",
    "* Both commands might fail silently if LibreOffice is already running on your system – close it first! If a previous call to LibreOffice has failed in some ugly way, it might still be running in the background, so if nothing seems to be happening, hunt around for a running LibreOffice process.\n",
    "* Both commands might fail in unhelpful ways on corrupted or malformed Powerpoints. If you keep getting stuck on a particular file, just try moving or deleting it and then run the conversion command again.\n",
    "* I've seen reports that suggest the comands might fail if you feed in lots of files. I've processed > 100 without problem, but if this does happen it might be necessary to loop through individual files, or break them up into groups."
   ]
  },
  {
   "cell_type": "code",
   "execution_count": 14,
   "metadata": {
    "collapsed": true,
    "jupyter": {
     "outputs_hidden": true
    }
   },
   "outputs": [
    {
     "name": "stdout",
     "output_type": "stream",
     "text": [
      "convert /Volumes/Workspace/mycode/glam-workbench/webarchives/notebooks/domains/education-gov-au/powerpoints/original/au-gov-education-docs-system-files-doc-other-1-atsiheac-indigenous-stem-roundtable-4-december-2013-2-pptx-20170317221005.pptx -> /Volumes/Workspace/mycode/glam-workbench/webarchives/notebooks/domains/education-gov-au/powerpoints/pdfs/au-gov-education-docs-system-files-doc-other-1-atsiheac-indigenous-stem-roundtable-4-december-2013-2-pptx-20170317221005.pdf using filter : impress_pdf_Export\n",
      "Overwriting: /Volumes/Workspace/mycode/glam-workbench/webarchives/notebooks/domains/education-gov-au/powerpoints/pdfs/au-gov-education-docs-system-files-doc-other-1-atsiheac-indigenous-stem-roundtable-4-december-2013-2-pptx-20170317221005.pdf\n",
      "convert /Volumes/Workspace/mycode/glam-workbench/webarchives/notebooks/domains/education-gov-au/powerpoints/original/au-gov-education-docs-system-files-doc-other-2-presentation-to-go8-deans-of-engineering-8-may-2014-pptx-20180423021742.pptx -> /Volumes/Workspace/mycode/glam-workbench/webarchives/notebooks/domains/education-gov-au/powerpoints/pdfs/au-gov-education-docs-system-files-doc-other-2-presentation-to-go8-deans-of-engineering-8-may-2014-pptx-20180423021742.pdf using filter : impress_pdf_Export\n",
      "Overwriting: /Volumes/Workspace/mycode/glam-workbench/webarchives/notebooks/domains/education-gov-au/powerpoints/pdfs/au-gov-education-docs-system-files-doc-other-2-presentation-to-go8-deans-of-engineering-8-may-2014-pptx-20180423021742.pdf\n",
      "convert /Volumes/Workspace/mycode/glam-workbench/webarchives/notebooks/domains/education-gov-au/powerpoints/original/au-gov-education-docs-system-files-doc-other-20131204-atsiheac-indigenous-stem-roundtable-chairs-introduction-pptx-20160329134542.pptx -> /Volumes/Workspace/mycode/glam-workbench/webarchives/notebooks/domains/education-gov-au/powerpoints/pdfs/au-gov-education-docs-system-files-doc-other-20131204-atsiheac-indigenous-stem-roundtable-chairs-introduction-pptx-20160329134542.pdf using filter : impress_pdf_Export\n",
      "Overwriting: /Volumes/Workspace/mycode/glam-workbench/webarchives/notebooks/domains/education-gov-au/powerpoints/pdfs/au-gov-education-docs-system-files-doc-other-20131204-atsiheac-indigenous-stem-roundtable-chairs-introduction-pptx-20160329134542.pdf\n",
      "convert /Volumes/Workspace/mycode/glam-workbench/webarchives/notebooks/domains/education-gov-au/powerpoints/original/au-gov-education-docs-system-files-doc-other-20180522-webcast-for-ihc-services-clean-pptx-20190421165805.pptx -> /Volumes/Workspace/mycode/glam-workbench/webarchives/notebooks/domains/education-gov-au/powerpoints/pdfs/au-gov-education-docs-system-files-doc-other-20180522-webcast-for-ihc-services-clean-pptx-20190421165805.pdf using filter : impress_pdf_Export\n",
      "Overwriting: /Volumes/Workspace/mycode/glam-workbench/webarchives/notebooks/domains/education-gov-au/powerpoints/pdfs/au-gov-education-docs-system-files-doc-other-20180522-webcast-for-ihc-services-clean-pptx-20190421165805.pdf\n",
      "convert /Volumes/Workspace/mycode/glam-workbench/webarchives/notebooks/domains/education-gov-au/powerpoints/original/au-gov-education-docs-system-files-doc-other-3-presentation-to-acdict-7-july-2014-pptx-20180423021849.pptx -> /Volumes/Workspace/mycode/glam-workbench/webarchives/notebooks/domains/education-gov-au/powerpoints/pdfs/au-gov-education-docs-system-files-doc-other-3-presentation-to-acdict-7-july-2014-pptx-20180423021849.pdf using filter : impress_pdf_Export\n",
      "Overwriting: /Volumes/Workspace/mycode/glam-workbench/webarchives/notebooks/domains/education-gov-au/powerpoints/pdfs/au-gov-education-docs-system-files-doc-other-3-presentation-to-acdict-7-july-2014-pptx-20180423021849.pdf\n",
      "convert /Volumes/Workspace/mycode/glam-workbench/webarchives/notebooks/domains/education-gov-au/powerpoints/original/au-gov-education-docs-system-files-doc-other-4-presentation-to-acds-29-september-2014-pptx-20180423021954.pptx -> /Volumes/Workspace/mycode/glam-workbench/webarchives/notebooks/domains/education-gov-au/powerpoints/pdfs/au-gov-education-docs-system-files-doc-other-4-presentation-to-acds-29-september-2014-pptx-20180423021954.pdf using filter : impress_pdf_Export\n",
      "Overwriting: /Volumes/Workspace/mycode/glam-workbench/webarchives/notebooks/domains/education-gov-au/powerpoints/pdfs/au-gov-education-docs-system-files-doc-other-4-presentation-to-acds-29-september-2014-pptx-20180423021954.pdf\n",
      "convert /Volumes/Workspace/mycode/glam-workbench/webarchives/notebooks/domains/education-gov-au/powerpoints/original/au-gov-education-docs-system-files-doc-other-5-presentation-to-acde-30-september-2014-pptx-20180423022109.pptx -> /Volumes/Workspace/mycode/glam-workbench/webarchives/notebooks/domains/education-gov-au/powerpoints/pdfs/au-gov-education-docs-system-files-doc-other-5-presentation-to-acde-30-september-2014-pptx-20180423022109.pdf using filter : impress_pdf_Export\n",
      "Overwriting: /Volumes/Workspace/mycode/glam-workbench/webarchives/notebooks/domains/education-gov-au/powerpoints/pdfs/au-gov-education-docs-system-files-doc-other-5-presentation-to-acde-30-september-2014-pptx-20180423022109.pdf\n",
      "convert /Volumes/Workspace/mycode/glam-workbench/webarchives/notebooks/domains/education-gov-au/powerpoints/original/au-gov-education-docs-system-files-doc-other-6-presentation-to-atsima-10-november-2014-pptx-20180423022227.pptx -> /Volumes/Workspace/mycode/glam-workbench/webarchives/notebooks/domains/education-gov-au/powerpoints/pdfs/au-gov-education-docs-system-files-doc-other-6-presentation-to-atsima-10-november-2014-pptx-20180423022227.pdf using filter : impress_pdf_Export\n",
      "Overwriting: /Volumes/Workspace/mycode/glam-workbench/webarchives/notebooks/domains/education-gov-au/powerpoints/pdfs/au-gov-education-docs-system-files-doc-other-6-presentation-to-atsima-10-november-2014-pptx-20180423022227.pdf\n",
      "convert /Volumes/Workspace/mycode/glam-workbench/webarchives/notebooks/domains/education-gov-au/powerpoints/original/au-gov-education-docs-system-files-doc-other-7-atsiheac-indigenous-business-roundtable-12-june-2015-pptx-20180423022325.pptx -> /Volumes/Workspace/mycode/glam-workbench/webarchives/notebooks/domains/education-gov-au/powerpoints/pdfs/au-gov-education-docs-system-files-doc-other-7-atsiheac-indigenous-business-roundtable-12-june-2015-pptx-20180423022325.pdf using filter : impress_pdf_Export\n",
      "Overwriting: /Volumes/Workspace/mycode/glam-workbench/webarchives/notebooks/domains/education-gov-au/powerpoints/pdfs/au-gov-education-docs-system-files-doc-other-7-atsiheac-indigenous-business-roundtable-12-june-2015-pptx-20180423022325.pdf\n",
      "convert /Volumes/Workspace/mycode/glam-workbench/webarchives/notebooks/domains/education-gov-au/powerpoints/original/au-gov-education-docs-system-files-doc-other-aqf-review-consultation-presentation-pptx-20190404035624.pptx -> /Volumes/Workspace/mycode/glam-workbench/webarchives/notebooks/domains/education-gov-au/powerpoints/pdfs/au-gov-education-docs-system-files-doc-other-aqf-review-consultation-presentation-pptx-20190404035624.pdf using filter : impress_pdf_Export\n",
      "Overwriting: /Volumes/Workspace/mycode/glam-workbench/webarchives/notebooks/domains/education-gov-au/powerpoints/pdfs/au-gov-education-docs-system-files-doc-other-aqf-review-consultation-presentation-pptx-20190404035624.pdf\n",
      "convert /Volumes/Workspace/mycode/glam-workbench/webarchives/notebooks/domains/education-gov-au/powerpoints/original/au-gov-education-docs-system-files-doc-other-arc-presentation-anne-castles-and-genevieve-mcarthur-pptx-20150327005845.pptx -> /Volumes/Workspace/mycode/glam-workbench/webarchives/notebooks/domains/education-gov-au/powerpoints/pdfs/au-gov-education-docs-system-files-doc-other-arc-presentation-anne-castles-and-genevieve-mcarthur-pptx-20150327005845.pdf using filter : impress_pdf_Export\n",
      "Overwriting: /Volumes/Workspace/mycode/glam-workbench/webarchives/notebooks/domains/education-gov-au/powerpoints/pdfs/au-gov-education-docs-system-files-doc-other-arc-presentation-anne-castles-and-genevieve-mcarthur-pptx-20150327005845.pdf\n",
      "convert /Volumes/Workspace/mycode/glam-workbench/webarchives/notebooks/domains/education-gov-au/powerpoints/original/au-gov-education-docs-system-files-doc-other-bad-debt-fact-sheet-accessible-pptx-20200415212531.pptx -> /Volumes/Workspace/mycode/glam-workbench/webarchives/notebooks/domains/education-gov-au/powerpoints/pdfs/au-gov-education-docs-system-files-doc-other-bad-debt-fact-sheet-accessible-pptx-20200415212531.pdf using filter : impress_pdf_Export\n",
      "Overwriting: /Volumes/Workspace/mycode/glam-workbench/webarchives/notebooks/domains/education-gov-au/powerpoints/pdfs/au-gov-education-docs-system-files-doc-other-bad-debt-fact-sheet-accessible-pptx-20200415212531.pdf\n",
      "convert /Volumes/Workspace/mycode/glam-workbench/webarchives/notebooks/domains/education-gov-au/powerpoints/original/au-gov-education-docs-system-files-doc-other-dr-nola-firth-pptx-20150327005945.pptx -> /Volumes/Workspace/mycode/glam-workbench/webarchives/notebooks/domains/education-gov-au/powerpoints/pdfs/au-gov-education-docs-system-files-doc-other-dr-nola-firth-pptx-20150327005945.pdf using filter : impress_pdf_Export\n",
      "Overwriting: /Volumes/Workspace/mycode/glam-workbench/webarchives/notebooks/domains/education-gov-au/powerpoints/pdfs/au-gov-education-docs-system-files-doc-other-dr-nola-firth-pptx-20150327005945.pdf\n",
      "convert /Volumes/Workspace/mycode/glam-workbench/webarchives/notebooks/domains/education-gov-au/powerpoints/original/au-gov-education-docs-system-files-doc-other-engagingemployers-session1-jonathan-barr-pptx-20190414130859.pptx -> /Volumes/Workspace/mycode/glam-workbench/webarchives/notebooks/domains/education-gov-au/powerpoints/pdfs/au-gov-education-docs-system-files-doc-other-engagingemployers-session1-jonathan-barr-pptx-20190414130859.pdf using filter : impress_pdf_Export\n",
      "Overwriting: /Volumes/Workspace/mycode/glam-workbench/webarchives/notebooks/domains/education-gov-au/powerpoints/pdfs/au-gov-education-docs-system-files-doc-other-engagingemployers-session1-jonathan-barr-pptx-20190414130859.pdf\n",
      "convert /Volumes/Workspace/mycode/glam-workbench/webarchives/notebooks/domains/education-gov-au/powerpoints/original/au-gov-education-docs-system-files-doc-other-engagingemployers-session1-lorismoriconi-pptx-20190414125928.pptx -> /Volumes/Workspace/mycode/glam-workbench/webarchives/notebooks/domains/education-gov-au/powerpoints/pdfs/au-gov-education-docs-system-files-doc-other-engagingemployers-session1-lorismoriconi-pptx-20190414125928.pdf using filter : impress_pdf_Export\n",
      "Overwriting: /Volumes/Workspace/mycode/glam-workbench/webarchives/notebooks/domains/education-gov-au/powerpoints/pdfs/au-gov-education-docs-system-files-doc-other-engagingemployers-session1-lorismoriconi-pptx-20190414125928.pdf\n",
      "convert /Volumes/Workspace/mycode/glam-workbench/webarchives/notebooks/domains/education-gov-au/powerpoints/original/au-gov-education-docs-system-files-doc-other-engagingemployers-session2-dalewilliams-pptx-20190414130236.pptx -> /Volumes/Workspace/mycode/glam-workbench/webarchives/notebooks/domains/education-gov-au/powerpoints/pdfs/au-gov-education-docs-system-files-doc-other-engagingemployers-session2-dalewilliams-pptx-20190414130236.pdf using filter : impress_pdf_Export\n",
      "Overwriting: /Volumes/Workspace/mycode/glam-workbench/webarchives/notebooks/domains/education-gov-au/powerpoints/pdfs/au-gov-education-docs-system-files-doc-other-engagingemployers-session2-dalewilliams-pptx-20190414130236.pdf\n",
      "convert /Volumes/Workspace/mycode/glam-workbench/webarchives/notebooks/domains/education-gov-au/powerpoints/original/au-gov-education-docs-system-files-doc-other-engagingemployers-session2-janowen-pptx-20190414130451.pptx -> /Volumes/Workspace/mycode/glam-workbench/webarchives/notebooks/domains/education-gov-au/powerpoints/pdfs/au-gov-education-docs-system-files-doc-other-engagingemployers-session2-janowen-pptx-20190414130451.pdf using filter : impress_pdf_Export\n",
      "Overwriting: /Volumes/Workspace/mycode/glam-workbench/webarchives/notebooks/domains/education-gov-au/powerpoints/pdfs/au-gov-education-docs-system-files-doc-other-engagingemployers-session2-janowen-pptx-20190414130451.pdf\n",
      "convert /Volumes/Workspace/mycode/glam-workbench/webarchives/notebooks/domains/education-gov-au/powerpoints/original/au-gov-education-docs-system-files-doc-other-engagingemployers-session2-simonwhatmore-pptx-20190414132149.pptx -> /Volumes/Workspace/mycode/glam-workbench/webarchives/notebooks/domains/education-gov-au/powerpoints/pdfs/au-gov-education-docs-system-files-doc-other-engagingemployers-session2-simonwhatmore-pptx-20190414132149.pdf using filter : impress_pdf_Export\n",
      "Overwriting: /Volumes/Workspace/mycode/glam-workbench/webarchives/notebooks/domains/education-gov-au/powerpoints/pdfs/au-gov-education-docs-system-files-doc-other-engagingemployers-session2-simonwhatmore-pptx-20190414132149.pdf\n",
      "convert /Volumes/Workspace/mycode/glam-workbench/webarchives/notebooks/domains/education-gov-au/powerpoints/original/au-gov-education-docs-system-files-doc-other-engagingemployers-session3-ericasmith-pptx-20190414130348.pptx -> /Volumes/Workspace/mycode/glam-workbench/webarchives/notebooks/domains/education-gov-au/powerpoints/pdfs/au-gov-education-docs-system-files-doc-other-engagingemployers-session3-ericasmith-pptx-20190414130348.pdf using filter : impress_pdf_Export\n",
      "Overwriting: /Volumes/Workspace/mycode/glam-workbench/webarchives/notebooks/domains/education-gov-au/powerpoints/pdfs/au-gov-education-docs-system-files-doc-other-engagingemployers-session3-ericasmith-pptx-20190414130348.pdf\n",
      "convert /Volumes/Workspace/mycode/glam-workbench/webarchives/notebooks/domains/education-gov-au/powerpoints/original/au-gov-education-docs-system-files-doc-other-engagingemployers-session3-myung-sookjun-pptx-20190414131014.pptx -> /Volumes/Workspace/mycode/glam-workbench/webarchives/notebooks/domains/education-gov-au/powerpoints/pdfs/au-gov-education-docs-system-files-doc-other-engagingemployers-session3-myung-sookjun-pptx-20190414131014.pdf using filter : impress_pdf_Export\n",
      "Overwriting: /Volumes/Workspace/mycode/glam-workbench/webarchives/notebooks/domains/education-gov-au/powerpoints/pdfs/au-gov-education-docs-system-files-doc-other-engagingemployers-session3-myung-sookjun-pptx-20190414131014.pdf\n",
      "convert /Volumes/Workspace/mycode/glam-workbench/webarchives/notebooks/domains/education-gov-au/powerpoints/original/au-gov-education-docs-system-files-doc-other-engagingemployers-session3-sylvaingiguere-pptx-20190414132438.pptx -> /Volumes/Workspace/mycode/glam-workbench/webarchives/notebooks/domains/education-gov-au/powerpoints/pdfs/au-gov-education-docs-system-files-doc-other-engagingemployers-session3-sylvaingiguere-pptx-20190414132438.pdf using filter : impress_pdf_Export\n",
      "Overwriting: /Volumes/Workspace/mycode/glam-workbench/webarchives/notebooks/domains/education-gov-au/powerpoints/pdfs/au-gov-education-docs-system-files-doc-other-engagingemployers-session3-sylvaingiguere-pptx-20190414132438.pdf\n",
      "convert /Volumes/Workspace/mycode/glam-workbench/webarchives/notebooks/domains/education-gov-au/powerpoints/original/au-gov-education-docs-system-files-doc-other-engagingemployers-session4-annarubin-pptx-20190414130131.pptx -> /Volumes/Workspace/mycode/glam-workbench/webarchives/notebooks/domains/education-gov-au/powerpoints/pdfs/au-gov-education-docs-system-files-doc-other-engagingemployers-session4-annarubin-pptx-20190414130131.pdf using filter : impress_pdf_Export\n",
      "Overwriting: /Volumes/Workspace/mycode/glam-workbench/webarchives/notebooks/domains/education-gov-au/powerpoints/pdfs/au-gov-education-docs-system-files-doc-other-engagingemployers-session4-annarubin-pptx-20190414130131.pdf\n",
      "convert /Volumes/Workspace/mycode/glam-workbench/webarchives/notebooks/domains/education-gov-au/powerpoints/original/au-gov-education-docs-system-files-doc-other-engagingemployers-session4-damianoliver-pptx-20190414132534.pptx -> /Volumes/Workspace/mycode/glam-workbench/webarchives/notebooks/domains/education-gov-au/powerpoints/pdfs/au-gov-education-docs-system-files-doc-other-engagingemployers-session4-damianoliver-pptx-20190414132534.pdf using filter : impress_pdf_Export\n",
      "Overwriting: /Volumes/Workspace/mycode/glam-workbench/webarchives/notebooks/domains/education-gov-au/powerpoints/pdfs/au-gov-education-docs-system-files-doc-other-engagingemployers-session4-damianoliver-pptx-20190414132534.pdf\n",
      "convert /Volumes/Workspace/mycode/glam-workbench/webarchives/notebooks/domains/education-gov-au/powerpoints/original/au-gov-education-docs-system-files-doc-other-engagingemployers-session5-shanethomas-pptx-20190414132009.pptx -> /Volumes/Workspace/mycode/glam-workbench/webarchives/notebooks/domains/education-gov-au/powerpoints/pdfs/au-gov-education-docs-system-files-doc-other-engagingemployers-session5-shanethomas-pptx-20190414132009.pdf using filter : impress_pdf_Export\n",
      "Overwriting: /Volumes/Workspace/mycode/glam-workbench/webarchives/notebooks/domains/education-gov-au/powerpoints/pdfs/au-gov-education-docs-system-files-doc-other-engagingemployers-session5-shanethomas-pptx-20190414132009.pdf\n",
      "convert /Volumes/Workspace/mycode/glam-workbench/webarchives/notebooks/domains/education-gov-au/powerpoints/original/au-gov-education-docs-system-files-doc-other-engagingemployers-session5-stephenbillett-pptx-20190414132318.pptx -> /Volumes/Workspace/mycode/glam-workbench/webarchives/notebooks/domains/education-gov-au/powerpoints/pdfs/au-gov-education-docs-system-files-doc-other-engagingemployers-session5-stephenbillett-pptx-20190414132318.pdf using filter : impress_pdf_Export\n",
      "Overwriting: /Volumes/Workspace/mycode/glam-workbench/webarchives/notebooks/domains/education-gov-au/powerpoints/pdfs/au-gov-education-docs-system-files-doc-other-engagingemployers-session5-stephenbillett-pptx-20190414132318.pdf\n",
      "convert /Volumes/Workspace/mycode/glam-workbench/webarchives/notebooks/domains/education-gov-au/powerpoints/original/au-gov-education-docs-system-files-doc-other-john-curtin-college-of-the-arts-pptx-20150327010030.pptx -> /Volumes/Workspace/mycode/glam-workbench/webarchives/notebooks/domains/education-gov-au/powerpoints/pdfs/au-gov-education-docs-system-files-doc-other-john-curtin-college-of-the-arts-pptx-20150327010030.pdf using filter : impress_pdf_Export\n",
      "Overwriting: /Volumes/Workspace/mycode/glam-workbench/webarchives/notebooks/domains/education-gov-au/powerpoints/pdfs/au-gov-education-docs-system-files-doc-other-john-curtin-college-of-the-arts-pptx-20150327010030.pdf\n",
      "convert /Volumes/Workspace/mycode/glam-workbench/webarchives/notebooks/domains/education-gov-au/powerpoints/original/au-gov-education-docs-system-files-doc-other-managing-cash-flow-fact-sheet-accessible-pptx-20200415212748.pptx -> /Volumes/Workspace/mycode/glam-workbench/webarchives/notebooks/domains/education-gov-au/powerpoints/pdfs/au-gov-education-docs-system-files-doc-other-managing-cash-flow-fact-sheet-accessible-pptx-20200415212748.pdf using filter : impress_pdf_Export\n",
      "Overwriting: /Volumes/Workspace/mycode/glam-workbench/webarchives/notebooks/domains/education-gov-au/powerpoints/pdfs/au-gov-education-docs-system-files-doc-other-managing-cash-flow-fact-sheet-accessible-pptx-20200415212748.pdf\n",
      "convert /Volumes/Workspace/mycode/glam-workbench/webarchives/notebooks/domains/education-gov-au/powerpoints/original/au-gov-education-docs-system-files-doc-other-o-sullivan-beach-school-pptx-20150327010130.pptx -> /Volumes/Workspace/mycode/glam-workbench/webarchives/notebooks/domains/education-gov-au/powerpoints/pdfs/au-gov-education-docs-system-files-doc-other-o-sullivan-beach-school-pptx-20150327010130.pdf using filter : impress_pdf_Export\n",
      "Overwriting: /Volumes/Workspace/mycode/glam-workbench/webarchives/notebooks/domains/education-gov-au/powerpoints/pdfs/au-gov-education-docs-system-files-doc-other-o-sullivan-beach-school-pptx-20150327010130.pdf\n",
      "convert /Volumes/Workspace/mycode/glam-workbench/webarchives/notebooks/domains/education-gov-au/powerpoints/original/au-gov-education-docs-system-files-doc-other-opening-presentation-by-david-de-carvelho-pptx-20150328202121.pptx -> /Volumes/Workspace/mycode/glam-workbench/webarchives/notebooks/domains/education-gov-au/powerpoints/pdfs/au-gov-education-docs-system-files-doc-other-opening-presentation-by-david-de-carvelho-pptx-20150328202121.pdf using filter : impress_pdf_Export\n",
      "Overwriting: /Volumes/Workspace/mycode/glam-workbench/webarchives/notebooks/domains/education-gov-au/powerpoints/pdfs/au-gov-education-docs-system-files-doc-other-opening-presentation-by-david-de-carvelho-pptx-20150328202121.pdf\n",
      "convert /Volumes/Workspace/mycode/glam-workbench/webarchives/notebooks/domains/education-gov-au/powerpoints/original/au-gov-education-docs-system-files-doc-other-opening-presentation-by-octavi-quintana-trias-pptx-20150328202045.pptx -> /Volumes/Workspace/mycode/glam-workbench/webarchives/notebooks/domains/education-gov-au/powerpoints/pdfs/au-gov-education-docs-system-files-doc-other-opening-presentation-by-octavi-quintana-trias-pptx-20150328202045.pdf using filter : impress_pdf_Export\n",
      "Overwriting: /Volumes/Workspace/mycode/glam-workbench/webarchives/notebooks/domains/education-gov-au/powerpoints/pdfs/au-gov-education-docs-system-files-doc-other-opening-presentation-by-octavi-quintana-trias-pptx-20150328202045.pdf\n",
      "convert /Volumes/Workspace/mycode/glam-workbench/webarchives/notebooks/domains/education-gov-au/powerpoints/original/au-gov-education-docs-system-files-doc-other-post-announcement-qa-pptx-20190419234125.pptx -> /Volumes/Workspace/mycode/glam-workbench/webarchives/notebooks/domains/education-gov-au/powerpoints/pdfs/au-gov-education-docs-system-files-doc-other-post-announcement-qa-pptx-20190419234125.pdf using filter : impress_pdf_Export\n",
      "Overwriting: /Volumes/Workspace/mycode/glam-workbench/webarchives/notebooks/domains/education-gov-au/powerpoints/pdfs/au-gov-education-docs-system-files-doc-other-post-announcement-qa-pptx-20190419234125.pdf\n",
      "convert /Volumes/Workspace/mycode/glam-workbench/webarchives/notebooks/domains/education-gov-au/powerpoints/original/au-gov-education-docs-system-files-doc-other-rbg-webinar-2016-pptx-20200409231131.pptx -> /Volumes/Workspace/mycode/glam-workbench/webarchives/notebooks/domains/education-gov-au/powerpoints/pdfs/au-gov-education-docs-system-files-doc-other-rbg-webinar-2016-pptx-20200409231131.pdf using filter : impress_pdf_Export\n",
      "Overwriting: /Volumes/Workspace/mycode/glam-workbench/webarchives/notebooks/domains/education-gov-au/powerpoints/pdfs/au-gov-education-docs-system-files-doc-other-rbg-webinar-2016-pptx-20200409231131.pdf\n",
      "convert /Volumes/Workspace/mycode/glam-workbench/webarchives/notebooks/domains/education-gov-au/powerpoints/original/au-gov-education-docs-system-files-doc-other-understanding-ccs-balancing-webcast-presentation-slides-pptx-20200405014254.pptx -> /Volumes/Workspace/mycode/glam-workbench/webarchives/notebooks/domains/education-gov-au/powerpoints/pdfs/au-gov-education-docs-system-files-doc-other-understanding-ccs-balancing-webcast-presentation-slides-pptx-20200405014254.pdf using filter : impress_pdf_Export\n",
      "Overwriting: /Volumes/Workspace/mycode/glam-workbench/webarchives/notebooks/domains/education-gov-au/powerpoints/pdfs/au-gov-education-docs-system-files-doc-other-understanding-ccs-balancing-webcast-presentation-slides-pptx-20200405014254.pdf\n",
      "convert /Volumes/Workspace/mycode/glam-workbench/webarchives/notebooks/domains/education-gov-au/powerpoints/original/au-gov-education-heimshelp-sites-default-files-2019-tcsi-roadshow-slide-pack-pptx-v-1576806741-20200305123420.pptx -> /Volumes/Workspace/mycode/glam-workbench/webarchives/notebooks/domains/education-gov-au/powerpoints/pdfs/au-gov-education-heimshelp-sites-default-files-2019-tcsi-roadshow-slide-pack-pptx-v-1576806741-20200305123420.pdf using filter : impress_pdf_Export\n",
      "Overwriting: /Volumes/Workspace/mycode/glam-workbench/webarchives/notebooks/domains/education-gov-au/powerpoints/pdfs/au-gov-education-heimshelp-sites-default-files-2019-tcsi-roadshow-slide-pack-pptx-v-1576806741-20200305123420.pdf\n",
      "convert /Volumes/Workspace/mycode/glam-workbench/webarchives/notebooks/domains/education-gov-au/powerpoints/original/au-gov-education-heimshelp-sites-default-files-provider-transition-checklist-pptx-v-1575847001-20200305122846.pptx -> /Volumes/Workspace/mycode/glam-workbench/webarchives/notebooks/domains/education-gov-au/powerpoints/pdfs/au-gov-education-heimshelp-sites-default-files-provider-transition-checklist-pptx-v-1575847001-20200305122846.pdf using filter : impress_pdf_Export\n",
      "Overwriting: /Volumes/Workspace/mycode/glam-workbench/webarchives/notebooks/domains/education-gov-au/powerpoints/pdfs/au-gov-education-heimshelp-sites-default-files-provider-transition-checklist-pptx-v-1575847001-20200305122846.pdf\n",
      "convert /Volumes/Workspace/mycode/glam-workbench/webarchives/notebooks/domains/education-gov-au/powerpoints/original/au-gov-education-heimshelp-sites-default-files-tcsi-sector-webinar-november-8-0-pptx-v-1574638972-20200313092952.pptx -> /Volumes/Workspace/mycode/glam-workbench/webarchives/notebooks/domains/education-gov-au/powerpoints/pdfs/au-gov-education-heimshelp-sites-default-files-tcsi-sector-webinar-november-8-0-pptx-v-1574638972-20200313092952.pdf using filter : impress_pdf_Export\n",
      "Overwriting: /Volumes/Workspace/mycode/glam-workbench/webarchives/notebooks/domains/education-gov-au/powerpoints/pdfs/au-gov-education-heimshelp-sites-default-files-tcsi-sector-webinar-november-8-0-pptx-v-1574638972-20200313092952.pdf\n",
      "convert /Volumes/Workspace/mycode/glam-workbench/webarchives/notebooks/domains/education-gov-au/powerpoints/original/au-gov-education-heimshelp-sites-default-files-tcsi-testing-for-providers-fact-sheet-v1-0-pptx-v-1582844889-20200305122938.pptx -> /Volumes/Workspace/mycode/glam-workbench/webarchives/notebooks/domains/education-gov-au/powerpoints/pdfs/au-gov-education-heimshelp-sites-default-files-tcsi-testing-for-providers-fact-sheet-v1-0-pptx-v-1582844889-20200305122938.pdf using filter : impress_pdf_Export\n",
      "Overwriting: /Volumes/Workspace/mycode/glam-workbench/webarchives/notebooks/domains/education-gov-au/powerpoints/pdfs/au-gov-education-heimshelp-sites-default-files-tcsi-testing-for-providers-fact-sheet-v1-0-pptx-v-1582844889-20200305122938.pdf\n",
      "convert /Volumes/Workspace/mycode/glam-workbench/webarchives/notebooks/domains/education-gov-au/powerpoints/original/au-gov-education-heimshelp-sites-default-files-tcsi-vsl-webinar-14-november-2019-pptx-v-1574638937-20200313092918.pptx -> /Volumes/Workspace/mycode/glam-workbench/webarchives/notebooks/domains/education-gov-au/powerpoints/pdfs/au-gov-education-heimshelp-sites-default-files-tcsi-vsl-webinar-14-november-2019-pptx-v-1574638937-20200313092918.pdf using filter : impress_pdf_Export\n",
      "Overwriting: /Volumes/Workspace/mycode/glam-workbench/webarchives/notebooks/domains/education-gov-au/powerpoints/pdfs/au-gov-education-heimshelp-sites-default-files-tcsi-vsl-webinar-14-november-2019-pptx-v-1574638937-20200313092918.pdf\n",
      "convert /Volumes/Workspace/mycode/glam-workbench/webarchives/notebooks/domains/education-gov-au/powerpoints/original/au-gov-education-heimshelp-sites-default-files-webinar-dhs-use-of-tcsi-data-pptx-v-1578267405-20200313092846.pptx -> /Volumes/Workspace/mycode/glam-workbench/webarchives/notebooks/domains/education-gov-au/powerpoints/pdfs/au-gov-education-heimshelp-sites-default-files-webinar-dhs-use-of-tcsi-data-pptx-v-1578267405-20200313092846.pdf using filter : impress_pdf_Export\n",
      "Overwriting: /Volumes/Workspace/mycode/glam-workbench/webarchives/notebooks/domains/education-gov-au/powerpoints/pdfs/au-gov-education-heimshelp-sites-default-files-webinar-dhs-use-of-tcsi-data-pptx-v-1578267405-20200313092846.pdf\n",
      "convert /Volumes/Workspace/mycode/glam-workbench/webarchives/notebooks/domains/education-gov-au/powerpoints/original/au-gov-education-heimshelp-sites-default-files-webinar-pir-introduction-to-heims-0-pptx-v-1565243499-20200311040527.pptx -> /Volumes/Workspace/mycode/glam-workbench/webarchives/notebooks/domains/education-gov-au/powerpoints/pdfs/au-gov-education-heimshelp-sites-default-files-webinar-pir-introduction-to-heims-0-pptx-v-1565243499-20200311040527.pdf using filter : impress_pdf_Export\n",
      "Overwriting: /Volumes/Workspace/mycode/glam-workbench/webarchives/notebooks/domains/education-gov-au/powerpoints/pdfs/au-gov-education-heimshelp-sites-default-files-webinar-pir-introduction-to-heims-0-pptx-v-1565243499-20200311040527.pdf\n",
      "convert /Volumes/Workspace/mycode/glam-workbench/webarchives/notebooks/domains/education-gov-au/powerpoints/original/au-gov-education-heimshelp-sites-default-files-webinar-pir-reporting-with-hepcat-validating-your-data-pptx-v-1565675782-20200311034955.pptx -> /Volumes/Workspace/mycode/glam-workbench/webarchives/notebooks/domains/education-gov-au/powerpoints/pdfs/au-gov-education-heimshelp-sites-default-files-webinar-pir-reporting-with-hepcat-validating-your-data-pptx-v-1565675782-20200311034955.pdf using filter : impress_pdf_Export\n",
      "Overwriting: /Volumes/Workspace/mycode/glam-workbench/webarchives/notebooks/domains/education-gov-au/powerpoints/pdfs/au-gov-education-heimshelp-sites-default-files-webinar-pir-reporting-with-hepcat-validating-your-data-pptx-v-1565675782-20200311034955.pdf\n",
      "convert /Volumes/Workspace/mycode/glam-workbench/webarchives/notebooks/domains/education-gov-au/powerpoints/original/au-gov-education-heimshelp-sites-default-files-webinar-tcsi-entitlement-tfns-chessns-27sep19-pptx-v-1569905774-20200313093023.pptx -> /Volumes/Workspace/mycode/glam-workbench/webarchives/notebooks/domains/education-gov-au/powerpoints/pdfs/au-gov-education-heimshelp-sites-default-files-webinar-tcsi-entitlement-tfns-chessns-27sep19-pptx-v-1569905774-20200313093023.pdf using filter : impress_pdf_Export\n",
      "Overwriting: /Volumes/Workspace/mycode/glam-workbench/webarchives/notebooks/domains/education-gov-au/powerpoints/pdfs/au-gov-education-heimshelp-sites-default-files-webinar-tcsi-entitlement-tfns-chessns-27sep19-pptx-v-1569905774-20200313093023.pdf\n",
      "convert /Volumes/Workspace/mycode/glam-workbench/webarchives/notebooks/domains/education-gov-au/powerpoints/original/au-gov-education-heimshelp-sites-default-files-webinar-tcsi-providers-feb-2020-pptx-20200313092814.pptx -> /Volumes/Workspace/mycode/glam-workbench/webarchives/notebooks/domains/education-gov-au/powerpoints/pdfs/au-gov-education-heimshelp-sites-default-files-webinar-tcsi-providers-feb-2020-pptx-20200313092814.pdf using filter : impress_pdf_Export\n",
      "Overwriting: /Volumes/Workspace/mycode/glam-workbench/webarchives/notebooks/domains/education-gov-au/powerpoints/pdfs/au-gov-education-heimshelp-sites-default-files-webinar-tcsi-providers-feb-2020-pptx-20200313092814.pdf\n",
      "convert /Volumes/Workspace/mycode/glam-workbench/webarchives/notebooks/domains/education-gov-au/powerpoints/original/au-gov-education-heimshelp-sites-default-files-webinar-tcsi-reporting-requirements-update-29-august-2019-pptx-20200313093054.pptx -> /Volumes/Workspace/mycode/glam-workbench/webarchives/notebooks/domains/education-gov-au/powerpoints/pdfs/au-gov-education-heimshelp-sites-default-files-webinar-tcsi-reporting-requirements-update-29-august-2019-pptx-20200313093054.pdf using filter : impress_pdf_Export\n",
      "Overwriting: /Volumes/Workspace/mycode/glam-workbench/webarchives/notebooks/domains/education-gov-au/powerpoints/pdfs/au-gov-education-heimshelp-sites-default-files-webinar-tcsi-reporting-requirements-update-29-august-2019-pptx-20200313093054.pdf\n",
      "convert /Volumes/Workspace/mycode/glam-workbench/webarchives/notebooks/domains/education-gov-au/powerpoints/original/au-gov-education-heimshelp-sites-default-files-webinar-tcsi-user-journeys-19-august-2019-pptx-v-1566260815-20200313093323.pptx -> /Volumes/Workspace/mycode/glam-workbench/webarchives/notebooks/domains/education-gov-au/powerpoints/pdfs/au-gov-education-heimshelp-sites-default-files-webinar-tcsi-user-journeys-19-august-2019-pptx-v-1566260815-20200313093323.pdf using filter : impress_pdf_Export\n",
      "Overwriting: /Volumes/Workspace/mycode/glam-workbench/webarchives/notebooks/domains/education-gov-au/powerpoints/pdfs/au-gov-education-heimshelp-sites-default-files-webinar-tcsi-user-journeys-19-august-2019-pptx-v-1566260815-20200313093323.pdf\n",
      "convert /Volumes/Workspace/mycode/glam-workbench/webarchives/notebooks/domains/education-gov-au/powerpoints/original/au-gov-education-heimshelp-sites-default-files-webinar-transition-to-tcsi-21-august-2019-pptx-20200313093207.pptx -> /Volumes/Workspace/mycode/glam-workbench/webarchives/notebooks/domains/education-gov-au/powerpoints/pdfs/au-gov-education-heimshelp-sites-default-files-webinar-transition-to-tcsi-21-august-2019-pptx-20200313093207.pdf using filter : impress_pdf_Export\n",
      "Overwriting: /Volumes/Workspace/mycode/glam-workbench/webarchives/notebooks/domains/education-gov-au/powerpoints/pdfs/au-gov-education-heimshelp-sites-default-files-webinar-transition-to-tcsi-21-august-2019-pptx-20200313093207.pdf\n",
      "convert /Volumes/Workspace/mycode/glam-workbench/webarchives/notebooks/domains/education-gov-au/powerpoints/original/au-gov-education-heimshelp-sites-heimshelp-files-documents-pir-documents-webinar-pir-staff-data-pptx-20200414193136.pptx -> /Volumes/Workspace/mycode/glam-workbench/webarchives/notebooks/domains/education-gov-au/powerpoints/pdfs/au-gov-education-heimshelp-sites-heimshelp-files-documents-pir-documents-webinar-pir-staff-data-pptx-20200414193136.pdf using filter : impress_pdf_Export\n",
      "Overwriting: /Volumes/Workspace/mycode/glam-workbench/webarchives/notebooks/domains/education-gov-au/powerpoints/pdfs/au-gov-education-heimshelp-sites-heimshelp-files-documents-pir-documents-webinar-pir-staff-data-pptx-20200414193136.pdf\n",
      "convert /Volumes/Workspace/mycode/glam-workbench/webarchives/notebooks/domains/education-gov-au/powerpoints/original/au-gov-education-heimshelp-sites-heimshelp-files-documents-support-documents-training-2014-ministerial-notice-update-os-help-hecs-help-pptx-20190406174812.pptx -> /Volumes/Workspace/mycode/glam-workbench/webarchives/notebooks/domains/education-gov-au/powerpoints/pdfs/au-gov-education-heimshelp-sites-heimshelp-files-documents-support-documents-training-2014-ministerial-notice-update-os-help-hecs-help-pptx-20190406174812.pdf using filter : impress_pdf_Export\n",
      "Overwriting: /Volumes/Workspace/mycode/glam-workbench/webarchives/notebooks/domains/education-gov-au/powerpoints/pdfs/au-gov-education-heimshelp-sites-heimshelp-files-documents-support-documents-training-2014-ministerial-notice-update-os-help-hecs-help-pptx-20190406174812.pdf\n",
      "convert /Volumes/Workspace/mycode/glam-workbench/webarchives/notebooks/domains/education-gov-au/powerpoints/original/au-gov-education-heimshelp-sites-heimshelp-files-documents-support-documents-training-webinar-2018-hdr-requirements-pptx-20190406172954.pptx -> /Volumes/Workspace/mycode/glam-workbench/webarchives/notebooks/domains/education-gov-au/powerpoints/pdfs/au-gov-education-heimshelp-sites-heimshelp-files-documents-support-documents-training-webinar-2018-hdr-requirements-pptx-20190406172954.pdf using filter : impress_pdf_Export\n",
      "Overwriting: /Volumes/Workspace/mycode/glam-workbench/webarchives/notebooks/domains/education-gov-au/powerpoints/pdfs/au-gov-education-heimshelp-sites-heimshelp-files-documents-support-documents-training-webinar-2018-hdr-requirements-pptx-20190406172954.pdf\n",
      "convert /Volumes/Workspace/mycode/glam-workbench/webarchives/notebooks/domains/education-gov-au/powerpoints/original/au-gov-education-heimshelp-sites-heimshelp-files-documents-support-documents-training-webinar-commencement-date-revision-submission-pptx-20190406175202.pptx -> /Volumes/Workspace/mycode/glam-workbench/webarchives/notebooks/domains/education-gov-au/powerpoints/pdfs/au-gov-education-heimshelp-sites-heimshelp-files-documents-support-documents-training-webinar-commencement-date-revision-submission-pptx-20190406175202.pdf using filter : impress_pdf_Export\n",
      "Overwriting: /Volumes/Workspace/mycode/glam-workbench/webarchives/notebooks/domains/education-gov-au/powerpoints/pdfs/au-gov-education-heimshelp-sites-heimshelp-files-documents-support-documents-training-webinar-commencement-date-revision-submission-pptx-20190406175202.pdf\n",
      "convert /Volumes/Workspace/mycode/glam-workbench/webarchives/notebooks/domains/education-gov-au/powerpoints/original/au-gov-education-heimshelp-sites-heimshelp-files-documents-support-documents-training-webinar-final-2016-vet-fee-help-pptx-20190406173230.pptx -> /Volumes/Workspace/mycode/glam-workbench/webarchives/notebooks/domains/education-gov-au/powerpoints/pdfs/au-gov-education-heimshelp-sites-heimshelp-files-documents-support-documents-training-webinar-final-2016-vet-fee-help-pptx-20190406173230.pdf using filter : impress_pdf_Export\n",
      "Overwriting: /Volumes/Workspace/mycode/glam-workbench/webarchives/notebooks/domains/education-gov-au/powerpoints/pdfs/au-gov-education-heimshelp-sites-heimshelp-files-documents-support-documents-training-webinar-final-2016-vet-fee-help-pptx-20190406173230.pdf\n",
      "convert /Volumes/Workspace/mycode/glam-workbench/webarchives/notebooks/domains/education-gov-au/powerpoints/original/au-gov-education-heimshelp-sites-heimshelp-files-documents-support-documents-training-webinar-monitoring-students-use-of-help-pptx-20190406174718.pptx -> /Volumes/Workspace/mycode/glam-workbench/webarchives/notebooks/domains/education-gov-au/powerpoints/pdfs/au-gov-education-heimshelp-sites-heimshelp-files-documents-support-documents-training-webinar-monitoring-students-use-of-help-pptx-20190406174718.pdf using filter : impress_pdf_Export\n",
      "Overwriting: /Volumes/Workspace/mycode/glam-workbench/webarchives/notebooks/domains/education-gov-au/powerpoints/pdfs/au-gov-education-heimshelp-sites-heimshelp-files-documents-support-documents-training-webinar-monitoring-students-use-of-help-pptx-20190406174718.pdf\n",
      "convert /Volumes/Workspace/mycode/glam-workbench/webarchives/notebooks/domains/education-gov-au/powerpoints/original/au-gov-education-heimshelp-sites-heimshelp-files-documents-support-documents-training-webinar-reporting-completions-data-pptx-20190406174057.pptx -> /Volumes/Workspace/mycode/glam-workbench/webarchives/notebooks/domains/education-gov-au/powerpoints/pdfs/au-gov-education-heimshelp-sites-heimshelp-files-documents-support-documents-training-webinar-reporting-completions-data-pptx-20190406174057.pdf using filter : impress_pdf_Export\n",
      "Overwriting: /Volumes/Workspace/mycode/glam-workbench/webarchives/notebooks/domains/education-gov-au/powerpoints/pdfs/au-gov-education-heimshelp-sites-heimshelp-files-documents-support-documents-training-webinar-reporting-completions-data-pptx-20190406174057.pdf\n",
      "Error: source file could not be loaded\n",
      "convert /Volumes/Workspace/mycode/glam-workbench/webarchives/notebooks/domains/education-gov-au/powerpoints/original/au-gov-education-heimshelp-sites-heimshelp-files-documents-support-documents-training-webinar-reporting-completions-data-vet-pptx-20200325151215.pptx -> /Volumes/Workspace/mycode/glam-workbench/webarchives/notebooks/domains/education-gov-au/powerpoints/pdfs/au-gov-education-heimshelp-sites-heimshelp-files-documents-support-documents-training-webinar-reporting-completions-data-vet-pptx-20200325151215.pdf using filter : impress_pdf_Export\n",
      "Overwriting: /Volumes/Workspace/mycode/glam-workbench/webarchives/notebooks/domains/education-gov-au/powerpoints/pdfs/au-gov-education-heimshelp-sites-heimshelp-files-documents-support-documents-training-webinar-reporting-completions-data-vet-pptx-20200325151215.pdf\n",
      "convert /Volumes/Workspace/mycode/glam-workbench/webarchives/notebooks/domains/education-gov-au/powerpoints/original/au-gov-education-heimshelp-sites-heimshelp-files-documents-support-documents-training-webinar-reporting-staff-data-pptx-20190406174923.pptx -> /Volumes/Workspace/mycode/glam-workbench/webarchives/notebooks/domains/education-gov-au/powerpoints/pdfs/au-gov-education-heimshelp-sites-heimshelp-files-documents-support-documents-training-webinar-reporting-staff-data-pptx-20190406174923.pdf using filter : impress_pdf_Export\n",
      "Overwriting: /Volumes/Workspace/mycode/glam-workbench/webarchives/notebooks/domains/education-gov-au/powerpoints/pdfs/au-gov-education-heimshelp-sites-heimshelp-files-documents-support-documents-training-webinar-reporting-staff-data-pptx-20190406174923.pdf\n",
      "convert /Volumes/Workspace/mycode/glam-workbench/webarchives/notebooks/domains/education-gov-au/powerpoints/original/au-gov-education-heimshelp-sites-heimshelp-files-documents-support-documents-training-webinar-revising-your-data-pptx-20190406174229.pptx -> /Volumes/Workspace/mycode/glam-workbench/webarchives/notebooks/domains/education-gov-au/powerpoints/pdfs/au-gov-education-heimshelp-sites-heimshelp-files-documents-support-documents-training-webinar-revising-your-data-pptx-20190406174229.pdf using filter : impress_pdf_Export\n",
      "Overwriting: /Volumes/Workspace/mycode/glam-workbench/webarchives/notebooks/domains/education-gov-au/powerpoints/pdfs/au-gov-education-heimshelp-sites-heimshelp-files-documents-support-documents-training-webinar-revising-your-data-pptx-20190406174229.pdf\n",
      "convert /Volumes/Workspace/mycode/glam-workbench/webarchives/notebooks/domains/education-gov-au/powerpoints/original/au-gov-education-heimshelp-sites-heimshelp-files-documents-support-documents-training-webinar-simplifying-verification-he-pptx-20190406174402.pptx -> /Volumes/Workspace/mycode/glam-workbench/webarchives/notebooks/domains/education-gov-au/powerpoints/pdfs/au-gov-education-heimshelp-sites-heimshelp-files-documents-support-documents-training-webinar-simplifying-verification-he-pptx-20190406174402.pdf using filter : impress_pdf_Export\n",
      "Overwriting: /Volumes/Workspace/mycode/glam-workbench/webarchives/notebooks/domains/education-gov-au/powerpoints/pdfs/au-gov-education-heimshelp-sites-heimshelp-files-documents-support-documents-training-webinar-simplifying-verification-he-pptx-20190406174402.pdf\n",
      "convert /Volumes/Workspace/mycode/glam-workbench/webarchives/notebooks/domains/education-gov-au/powerpoints/original/au-gov-education-heimshelp-sites-heimshelp-files-documents-support-documents-training-webinar-student-concordance-submission-pptx-20190406175246.pptx -> /Volumes/Workspace/mycode/glam-workbench/webarchives/notebooks/domains/education-gov-au/powerpoints/pdfs/au-gov-education-heimshelp-sites-heimshelp-files-documents-support-documents-training-webinar-student-concordance-submission-pptx-20190406175246.pdf using filter : impress_pdf_Export\n",
      "Overwriting: /Volumes/Workspace/mycode/glam-workbench/webarchives/notebooks/domains/education-gov-au/powerpoints/pdfs/au-gov-education-heimshelp-sites-heimshelp-files-documents-support-documents-training-webinar-student-concordance-submission-pptx-20190406175246.pdf\n",
      "convert /Volumes/Workspace/mycode/glam-workbench/webarchives/notebooks/domains/education-gov-au/powerpoints/original/au-gov-education-heimshelp-sites-heimshelp-files-documents-support-documents-training-webinar-tax-file-number-verification-2-pptx-20190406173107.pptx -> /Volumes/Workspace/mycode/glam-workbench/webarchives/notebooks/domains/education-gov-au/powerpoints/pdfs/au-gov-education-heimshelp-sites-heimshelp-files-documents-support-documents-training-webinar-tax-file-number-verification-2-pptx-20190406173107.pdf using filter : impress_pdf_Export\n",
      "Overwriting: /Volumes/Workspace/mycode/glam-workbench/webarchives/notebooks/domains/education-gov-au/powerpoints/pdfs/au-gov-education-heimshelp-sites-heimshelp-files-documents-support-documents-training-webinar-tax-file-number-verification-2-pptx-20190406173107.pdf\n",
      "convert /Volumes/Workspace/mycode/glam-workbench/webarchives/notebooks/domains/education-gov-au/powerpoints/original/au-gov-education-heimshelp-sites-heimshelp-files-documents-support-documents-training-webinar-tax-file-number-verification-pptx-20190406173153.pptx -> /Volumes/Workspace/mycode/glam-workbench/webarchives/notebooks/domains/education-gov-au/powerpoints/pdfs/au-gov-education-heimshelp-sites-heimshelp-files-documents-support-documents-training-webinar-tax-file-number-verification-pptx-20190406173153.pdf using filter : impress_pdf_Export\n",
      "Overwriting: /Volumes/Workspace/mycode/glam-workbench/webarchives/notebooks/domains/education-gov-au/powerpoints/pdfs/au-gov-education-heimshelp-sites-heimshelp-files-documents-support-documents-training-webinar-tax-file-number-verification-pptx-20190406173153.pdf\n",
      "convert /Volumes/Workspace/mycode/glam-workbench/webarchives/notebooks/domains/education-gov-au/powerpoints/original/au-gov-education-heimshelp-sites-heimshelp-files-documents-support-documents-training-webinar-validating-your-data-pptx-20190406173806.pptx -> /Volumes/Workspace/mycode/glam-workbench/webarchives/notebooks/domains/education-gov-au/powerpoints/pdfs/au-gov-education-heimshelp-sites-heimshelp-files-documents-support-documents-training-webinar-validating-your-data-pptx-20190406173806.pdf using filter : impress_pdf_Export\n",
      "Overwriting: /Volumes/Workspace/mycode/glam-workbench/webarchives/notebooks/domains/education-gov-au/powerpoints/pdfs/au-gov-education-heimshelp-sites-heimshelp-files-documents-support-documents-training-webinar-validating-your-data-pptx-20190406173806.pdf\n",
      "convert /Volumes/Workspace/mycode/glam-workbench/webarchives/notebooks/domains/education-gov-au/powerpoints/original/au-gov-education-heimshelp-sites-heimshelp-files-documents-support-documents-training-webinar-vet-completions-q-and-a-pptx-20190406174003.pptx -> /Volumes/Workspace/mycode/glam-workbench/webarchives/notebooks/domains/education-gov-au/powerpoints/pdfs/au-gov-education-heimshelp-sites-heimshelp-files-documents-support-documents-training-webinar-vet-completions-q-and-a-pptx-20190406174003.pdf using filter : impress_pdf_Export\n",
      "Overwriting: /Volumes/Workspace/mycode/glam-workbench/webarchives/notebooks/domains/education-gov-au/powerpoints/pdfs/au-gov-education-heimshelp-sites-heimshelp-files-documents-support-documents-training-webinar-vet-completions-q-and-a-pptx-20190406174003.pdf\n",
      "convert /Volumes/Workspace/mycode/glam-workbench/webarchives/notebooks/domains/education-gov-au/powerpoints/original/au-gov-education-heimshelp-sites-heimshelp-files-response-to-the-discussion-paper-8-june-ppsx-20190321235745.ppsx -> /Volumes/Workspace/mycode/glam-workbench/webarchives/notebooks/domains/education-gov-au/powerpoints/pdfs/au-gov-education-heimshelp-sites-heimshelp-files-response-to-the-discussion-paper-8-june-ppsx-20190321235745.pdf using filter : impress_pdf_Export\n",
      "Overwriting: /Volumes/Workspace/mycode/glam-workbench/webarchives/notebooks/domains/education-gov-au/powerpoints/pdfs/au-gov-education-heimshelp-sites-heimshelp-files-response-to-the-discussion-paper-8-june-ppsx-20190321235745.pdf\n",
      "convert /Volumes/Workspace/mycode/glam-workbench/webarchives/notebooks/domains/education-gov-au/powerpoints/original/au-gov-education-heimshelp-sites-heimshelp-files-roadshow-feedback-webinar-pptx-v-1533779715-20190321235655.pptx -> /Volumes/Workspace/mycode/glam-workbench/webarchives/notebooks/domains/education-gov-au/powerpoints/pdfs/au-gov-education-heimshelp-sites-heimshelp-files-roadshow-feedback-webinar-pptx-v-1533779715-20190321235655.pdf using filter : impress_pdf_Export\n",
      "Overwriting: /Volumes/Workspace/mycode/glam-workbench/webarchives/notebooks/domains/education-gov-au/powerpoints/pdfs/au-gov-education-heimshelp-sites-heimshelp-files-roadshow-feedback-webinar-pptx-v-1533779715-20190321235655.pdf\n",
      "convert /Volumes/Workspace/mycode/glam-workbench/webarchives/notebooks/domains/education-gov-au/powerpoints/original/au-gov-education-heimshelp-sites-heimshelp-files-tcsi-proposed-solution-8-june-ppsx-20190321235819.ppsx -> /Volumes/Workspace/mycode/glam-workbench/webarchives/notebooks/domains/education-gov-au/powerpoints/pdfs/au-gov-education-heimshelp-sites-heimshelp-files-tcsi-proposed-solution-8-june-ppsx-20190321235819.pdf using filter : impress_pdf_Export\n",
      "Overwriting: /Volumes/Workspace/mycode/glam-workbench/webarchives/notebooks/domains/education-gov-au/powerpoints/pdfs/au-gov-education-heimshelp-sites-heimshelp-files-tcsi-proposed-solution-8-june-ppsx-20190321235819.pdf\n",
      "convert /Volumes/Workspace/mycode/glam-workbench/webarchives/notebooks/domains/education-gov-au/powerpoints/original/au-gov-education-heimshelp-sites-heimshelp-files-tcsi-roadshow-presentation-ppsx-20190321235544.ppsx -> /Volumes/Workspace/mycode/glam-workbench/webarchives/notebooks/domains/education-gov-au/powerpoints/pdfs/au-gov-education-heimshelp-sites-heimshelp-files-tcsi-roadshow-presentation-ppsx-20190321235544.pdf using filter : impress_pdf_Export\n",
      "Overwriting: /Volumes/Workspace/mycode/glam-workbench/webarchives/notebooks/domains/education-gov-au/powerpoints/pdfs/au-gov-education-heimshelp-sites-heimshelp-files-tcsi-roadshow-presentation-ppsx-20190321235544.pdf\n",
      "convert /Volumes/Workspace/mycode/glam-workbench/webarchives/notebooks/domains/education-gov-au/powerpoints/original/au-gov-education-heimshelp-sites-heimshelp-files-webinar-2020-reporting-requirements-and-portal-follow-up-15-feb-2019-pptx-20190321234930.pptx -> /Volumes/Workspace/mycode/glam-workbench/webarchives/notebooks/domains/education-gov-au/powerpoints/pdfs/au-gov-education-heimshelp-sites-heimshelp-files-webinar-2020-reporting-requirements-and-portal-follow-up-15-feb-2019-pptx-20190321234930.pdf using filter : impress_pdf_Export\n",
      "Overwriting: /Volumes/Workspace/mycode/glam-workbench/webarchives/notebooks/domains/education-gov-au/powerpoints/pdfs/au-gov-education-heimshelp-sites-heimshelp-files-webinar-2020-reporting-requirements-and-portal-follow-up-15-feb-2019-pptx-20190321234930.pdf\n",
      "convert /Volumes/Workspace/mycode/glam-workbench/webarchives/notebooks/domains/education-gov-au/powerpoints/original/au-gov-education-heimshelp-sites-heimshelp-files-webinar-pir-heims-online-0-pptx-v-1534815076-20190319113402.pptx -> /Volumes/Workspace/mycode/glam-workbench/webarchives/notebooks/domains/education-gov-au/powerpoints/pdfs/au-gov-education-heimshelp-sites-heimshelp-files-webinar-pir-heims-online-0-pptx-v-1534815076-20190319113402.pdf using filter : impress_pdf_Export\n",
      "Overwriting: /Volumes/Workspace/mycode/glam-workbench/webarchives/notebooks/domains/education-gov-au/powerpoints/pdfs/au-gov-education-heimshelp-sites-heimshelp-files-webinar-pir-heims-online-0-pptx-v-1534815076-20190319113402.pdf\n",
      "convert /Volumes/Workspace/mycode/glam-workbench/webarchives/notebooks/domains/education-gov-au/powerpoints/original/au-gov-education-heimshelp-sites-heimshelp-files-webinar-pir-heims-online-pptx-20190319112846.pptx -> /Volumes/Workspace/mycode/glam-workbench/webarchives/notebooks/domains/education-gov-au/powerpoints/pdfs/au-gov-education-heimshelp-sites-heimshelp-files-webinar-pir-heims-online-pptx-20190319112846.pdf using filter : impress_pdf_Export\n",
      "Overwriting: /Volumes/Workspace/mycode/glam-workbench/webarchives/notebooks/domains/education-gov-au/powerpoints/pdfs/au-gov-education-heimshelp-sites-heimshelp-files-webinar-pir-heims-online-pptx-20190319112846.pdf\n",
      "convert /Volumes/Workspace/mycode/glam-workbench/webarchives/notebooks/domains/education-gov-au/powerpoints/original/au-gov-education-heimshelp-sites-heimshelp-files-webinar-pir-introduction-to-heims-pptx-20190319113224.pptx -> /Volumes/Workspace/mycode/glam-workbench/webarchives/notebooks/domains/education-gov-au/powerpoints/pdfs/au-gov-education-heimshelp-sites-heimshelp-files-webinar-pir-introduction-to-heims-pptx-20190319113224.pdf using filter : impress_pdf_Export\n",
      "Overwriting: /Volumes/Workspace/mycode/glam-workbench/webarchives/notebooks/domains/education-gov-au/powerpoints/pdfs/au-gov-education-heimshelp-sites-heimshelp-files-webinar-pir-introduction-to-heims-pptx-20190319113224.pdf\n",
      "convert /Volumes/Workspace/mycode/glam-workbench/webarchives/notebooks/domains/education-gov-au/powerpoints/original/au-gov-education-heimshelp-sites-heimshelp-files-webinar-pir-staff-data-pptx-20190319113442.pptx -> /Volumes/Workspace/mycode/glam-workbench/webarchives/notebooks/domains/education-gov-au/powerpoints/pdfs/au-gov-education-heimshelp-sites-heimshelp-files-webinar-pir-staff-data-pptx-20190319113442.pdf using filter : impress_pdf_Export\n",
      "Overwriting: /Volumes/Workspace/mycode/glam-workbench/webarchives/notebooks/domains/education-gov-au/powerpoints/pdfs/au-gov-education-heimshelp-sites-heimshelp-files-webinar-pir-staff-data-pptx-20190319113442.pdf\n",
      "convert /Volumes/Workspace/mycode/glam-workbench/webarchives/notebooks/domains/education-gov-au/powerpoints/original/au-gov-education-heimshelp-sites-heimshelp-files-webinar-pir-validating-your-data-pptx-20190319111859.pptx -> /Volumes/Workspace/mycode/glam-workbench/webarchives/notebooks/domains/education-gov-au/powerpoints/pdfs/au-gov-education-heimshelp-sites-heimshelp-files-webinar-pir-validating-your-data-pptx-20190319111859.pdf using filter : impress_pdf_Export\n",
      "Overwriting: /Volumes/Workspace/mycode/glam-workbench/webarchives/notebooks/domains/education-gov-au/powerpoints/pdfs/au-gov-education-heimshelp-sites-heimshelp-files-webinar-pir-validating-your-data-pptx-20190319111859.pdf\n",
      "convert /Volumes/Workspace/mycode/glam-workbench/webarchives/notebooks/domains/education-gov-au/powerpoints/original/au-gov-education-heimshelp-sites-heimshelp-files-webinar-reporting-getting-started-pptx-v-1550102800-20190406173457.pptx -> /Volumes/Workspace/mycode/glam-workbench/webarchives/notebooks/domains/education-gov-au/powerpoints/pdfs/au-gov-education-heimshelp-sites-heimshelp-files-webinar-reporting-getting-started-pptx-v-1550102800-20190406173457.pdf using filter : impress_pdf_Export\n",
      "Overwriting: /Volumes/Workspace/mycode/glam-workbench/webarchives/notebooks/domains/education-gov-au/powerpoints/pdfs/au-gov-education-heimshelp-sites-heimshelp-files-webinar-reporting-getting-started-pptx-v-1550102800-20190406173457.pdf\n",
      "convert /Volumes/Workspace/mycode/glam-workbench/webarchives/notebooks/domains/education-gov-au/powerpoints/original/au-gov-education-heimshelp-sites-heimshelp-files-webinar-reporting-with-hepcat-pptx-v-1550102774-20190406173615.pptx -> /Volumes/Workspace/mycode/glam-workbench/webarchives/notebooks/domains/education-gov-au/powerpoints/pdfs/au-gov-education-heimshelp-sites-heimshelp-files-webinar-reporting-with-hepcat-pptx-v-1550102774-20190406173615.pdf using filter : impress_pdf_Export\n",
      "Overwriting: /Volumes/Workspace/mycode/glam-workbench/webarchives/notebooks/domains/education-gov-au/powerpoints/pdfs/au-gov-education-heimshelp-sites-heimshelp-files-webinar-reporting-with-hepcat-pptx-v-1550102774-20190406173615.pdf\n",
      "convert /Volumes/Workspace/mycode/glam-workbench/webarchives/notebooks/domains/education-gov-au/powerpoints/original/au-gov-education-heimshelp-sites-heimshelp-files-webinar-shining-a-spotlight-on-changes-27-feb-2019-pptx-20190321234818.pptx -> /Volumes/Workspace/mycode/glam-workbench/webarchives/notebooks/domains/education-gov-au/powerpoints/pdfs/au-gov-education-heimshelp-sites-heimshelp-files-webinar-shining-a-spotlight-on-changes-27-feb-2019-pptx-20190321234818.pdf using filter : impress_pdf_Export\n",
      "Overwriting: /Volumes/Workspace/mycode/glam-workbench/webarchives/notebooks/domains/education-gov-au/powerpoints/pdfs/au-gov-education-heimshelp-sites-heimshelp-files-webinar-shining-a-spotlight-on-changes-27-feb-2019-pptx-20190321234818.pdf\n",
      "convert /Volumes/Workspace/mycode/glam-workbench/webarchives/notebooks/domains/education-gov-au/powerpoints/original/au-gov-education-heimshelp-sites-heimshelp-files-webinar-tcsi-for-vsl-providers-pptx-v-1559009700-20200313093455.pptx -> /Volumes/Workspace/mycode/glam-workbench/webarchives/notebooks/domains/education-gov-au/powerpoints/pdfs/au-gov-education-heimshelp-sites-heimshelp-files-webinar-tcsi-for-vsl-providers-pptx-v-1559009700-20200313093455.pdf using filter : impress_pdf_Export\n",
      "Overwriting: /Volumes/Workspace/mycode/glam-workbench/webarchives/notebooks/domains/education-gov-au/powerpoints/pdfs/au-gov-education-heimshelp-sites-heimshelp-files-webinar-tcsi-for-vsl-providers-pptx-v-1559009700-20200313093455.pdf\n",
      "convert /Volumes/Workspace/mycode/glam-workbench/webarchives/notebooks/domains/education-gov-au/powerpoints/original/au-gov-education-heimshelp-sites-heimshelp-files-webinar-tcsi-into-the-future-3-apr-2019-pptx-v-1554686315-20200313093531.pptx -> /Volumes/Workspace/mycode/glam-workbench/webarchives/notebooks/domains/education-gov-au/powerpoints/pdfs/au-gov-education-heimshelp-sites-heimshelp-files-webinar-tcsi-into-the-future-3-apr-2019-pptx-v-1554686315-20200313093531.pdf using filter : impress_pdf_Export\n",
      "Overwriting: /Volumes/Workspace/mycode/glam-workbench/webarchives/notebooks/domains/education-gov-au/powerpoints/pdfs/au-gov-education-heimshelp-sites-heimshelp-files-webinar-tcsi-into-the-future-3-apr-2019-pptx-v-1554686315-20200313093531.pdf\n",
      "convert /Volumes/Workspace/mycode/glam-workbench/webarchives/notebooks/domains/education-gov-au/powerpoints/original/au-gov-education-heimshelp-sites-heimshelp-files-webinar-tcsi-portal-demo-07-feb-2019-web-pptx-20190321235014.pptx -> /Volumes/Workspace/mycode/glam-workbench/webarchives/notebooks/domains/education-gov-au/powerpoints/pdfs/au-gov-education-heimshelp-sites-heimshelp-files-webinar-tcsi-portal-demo-07-feb-2019-web-pptx-20190321235014.pdf using filter : impress_pdf_Export\n",
      "Overwriting: /Volumes/Workspace/mycode/glam-workbench/webarchives/notebooks/domains/education-gov-au/powerpoints/pdfs/au-gov-education-heimshelp-sites-heimshelp-files-webinar-tcsi-portal-demo-07-feb-2019-web-pptx-20190321235014.pdf\n",
      "convert /Volumes/Workspace/mycode/glam-workbench/webarchives/notebooks/domains/education-gov-au/powerpoints/original/au-gov-education-heimshelp-sites-heimshelp-files-webinar-tcsi-transition-and-data-migration-19-june-2019-pptx-v-1560998550-20200313093409.pptx -> /Volumes/Workspace/mycode/glam-workbench/webarchives/notebooks/domains/education-gov-au/powerpoints/pdfs/au-gov-education-heimshelp-sites-heimshelp-files-webinar-tcsi-transition-and-data-migration-19-june-2019-pptx-v-1560998550-20200313093409.pdf using filter : impress_pdf_Export\n",
      "Overwriting: /Volumes/Workspace/mycode/glam-workbench/webarchives/notebooks/domains/education-gov-au/powerpoints/pdfs/au-gov-education-heimshelp-sites-heimshelp-files-webinar-tcsi-transition-and-data-migration-19-june-2019-pptx-v-1560998550-20200313093409.pdf\n",
      "convert /Volumes/Workspace/mycode/glam-workbench/webarchives/notebooks/domains/education-gov-au/powerpoints/original/au-gov-education-heimshelp-sites-heimshelp-pir-documents-webinar-pir-heims-online-pptx-20170220230848.pptx -> /Volumes/Workspace/mycode/glam-workbench/webarchives/notebooks/domains/education-gov-au/powerpoints/pdfs/au-gov-education-heimshelp-sites-heimshelp-pir-documents-webinar-pir-heims-online-pptx-20170220230848.pdf using filter : impress_pdf_Export\n",
      "Overwriting: /Volumes/Workspace/mycode/glam-workbench/webarchives/notebooks/domains/education-gov-au/powerpoints/pdfs/au-gov-education-heimshelp-sites-heimshelp-pir-documents-webinar-pir-heims-online-pptx-20170220230848.pdf\n",
      "convert /Volumes/Workspace/mycode/glam-workbench/webarchives/notebooks/domains/education-gov-au/powerpoints/original/au-gov-education-heimshelp-sites-heimshelp-pir-documents-webinar-pir-heims-online-pptx-20180327163409.pptx -> /Volumes/Workspace/mycode/glam-workbench/webarchives/notebooks/domains/education-gov-au/powerpoints/pdfs/au-gov-education-heimshelp-sites-heimshelp-pir-documents-webinar-pir-heims-online-pptx-20180327163409.pdf using filter : impress_pdf_Export\n",
      "Overwriting: /Volumes/Workspace/mycode/glam-workbench/webarchives/notebooks/domains/education-gov-au/powerpoints/pdfs/au-gov-education-heimshelp-sites-heimshelp-pir-documents-webinar-pir-heims-online-pptx-20180327163409.pdf\n",
      "convert /Volumes/Workspace/mycode/glam-workbench/webarchives/notebooks/domains/education-gov-au/powerpoints/original/au-gov-education-heimshelp-sites-heimshelp-pir-documents-webinar-pir-introduction-to-heims-pptx-20170220225816.pptx -> /Volumes/Workspace/mycode/glam-workbench/webarchives/notebooks/domains/education-gov-au/powerpoints/pdfs/au-gov-education-heimshelp-sites-heimshelp-pir-documents-webinar-pir-introduction-to-heims-pptx-20170220225816.pdf using filter : impress_pdf_Export\n",
      "Overwriting: /Volumes/Workspace/mycode/glam-workbench/webarchives/notebooks/domains/education-gov-au/powerpoints/pdfs/au-gov-education-heimshelp-sites-heimshelp-pir-documents-webinar-pir-introduction-to-heims-pptx-20170220225816.pdf\n",
      "convert /Volumes/Workspace/mycode/glam-workbench/webarchives/notebooks/domains/education-gov-au/powerpoints/original/au-gov-education-heimshelp-sites-heimshelp-pir-documents-webinar-pir-introduction-to-heims-pptx-20180327163700.pptx -> /Volumes/Workspace/mycode/glam-workbench/webarchives/notebooks/domains/education-gov-au/powerpoints/pdfs/au-gov-education-heimshelp-sites-heimshelp-pir-documents-webinar-pir-introduction-to-heims-pptx-20180327163700.pdf using filter : impress_pdf_Export\n",
      "Overwriting: /Volumes/Workspace/mycode/glam-workbench/webarchives/notebooks/domains/education-gov-au/powerpoints/pdfs/au-gov-education-heimshelp-sites-heimshelp-pir-documents-webinar-pir-introduction-to-heims-pptx-20180327163700.pdf\n",
      "convert /Volumes/Workspace/mycode/glam-workbench/webarchives/notebooks/domains/education-gov-au/powerpoints/original/au-gov-education-heimshelp-sites-heimshelp-pir-documents-webinar-pir-reporting-with-hepcat-pptx-20170220230429.pptx -> /Volumes/Workspace/mycode/glam-workbench/webarchives/notebooks/domains/education-gov-au/powerpoints/pdfs/au-gov-education-heimshelp-sites-heimshelp-pir-documents-webinar-pir-reporting-with-hepcat-pptx-20170220230429.pdf using filter : impress_pdf_Export\n",
      "Overwriting: /Volumes/Workspace/mycode/glam-workbench/webarchives/notebooks/domains/education-gov-au/powerpoints/pdfs/au-gov-education-heimshelp-sites-heimshelp-pir-documents-webinar-pir-reporting-with-hepcat-pptx-20170220230429.pdf\n",
      "convert /Volumes/Workspace/mycode/glam-workbench/webarchives/notebooks/domains/education-gov-au/powerpoints/original/au-gov-education-heimshelp-sites-heimshelp-pir-documents-webinar-pir-reporting-with-hepcat-pptx-20180327163949.pptx -> /Volumes/Workspace/mycode/glam-workbench/webarchives/notebooks/domains/education-gov-au/powerpoints/pdfs/au-gov-education-heimshelp-sites-heimshelp-pir-documents-webinar-pir-reporting-with-hepcat-pptx-20180327163949.pdf using filter : impress_pdf_Export\n",
      "Overwriting: /Volumes/Workspace/mycode/glam-workbench/webarchives/notebooks/domains/education-gov-au/powerpoints/pdfs/au-gov-education-heimshelp-sites-heimshelp-pir-documents-webinar-pir-reporting-with-hepcat-pptx-20180327163949.pdf\n",
      "convert /Volumes/Workspace/mycode/glam-workbench/webarchives/notebooks/domains/education-gov-au/powerpoints/original/au-gov-education-heimshelp-sites-heimshelp-pir-documents-webinar-pir-staff-data-pptx-20170220231125.pptx -> /Volumes/Workspace/mycode/glam-workbench/webarchives/notebooks/domains/education-gov-au/powerpoints/pdfs/au-gov-education-heimshelp-sites-heimshelp-pir-documents-webinar-pir-staff-data-pptx-20170220231125.pdf using filter : impress_pdf_Export\n",
      "Overwriting: /Volumes/Workspace/mycode/glam-workbench/webarchives/notebooks/domains/education-gov-au/powerpoints/pdfs/au-gov-education-heimshelp-sites-heimshelp-pir-documents-webinar-pir-staff-data-pptx-20170220231125.pdf\n",
      "convert /Volumes/Workspace/mycode/glam-workbench/webarchives/notebooks/domains/education-gov-au/powerpoints/original/au-gov-education-heimshelp-sites-heimshelp-pir-documents-webinar-pir-validating-your-data-pptx-20170220224053.pptx -> /Volumes/Workspace/mycode/glam-workbench/webarchives/notebooks/domains/education-gov-au/powerpoints/pdfs/au-gov-education-heimshelp-sites-heimshelp-pir-documents-webinar-pir-validating-your-data-pptx-20170220224053.pdf using filter : impress_pdf_Export\n",
      "Overwriting: /Volumes/Workspace/mycode/glam-workbench/webarchives/notebooks/domains/education-gov-au/powerpoints/pdfs/au-gov-education-heimshelp-sites-heimshelp-pir-documents-webinar-pir-validating-your-data-pptx-20170220224053.pdf\n",
      "convert /Volumes/Workspace/mycode/glam-workbench/webarchives/notebooks/domains/education-gov-au/powerpoints/original/au-gov-education-heimshelp-sites-heimshelp-pir-documents-webinar-pir-validating-your-data-pptx-20180327161740.pptx -> /Volumes/Workspace/mycode/glam-workbench/webarchives/notebooks/domains/education-gov-au/powerpoints/pdfs/au-gov-education-heimshelp-sites-heimshelp-pir-documents-webinar-pir-validating-your-data-pptx-20180327161740.pdf using filter : impress_pdf_Export\n",
      "Overwriting: /Volumes/Workspace/mycode/glam-workbench/webarchives/notebooks/domains/education-gov-au/powerpoints/pdfs/au-gov-education-heimshelp-sites-heimshelp-pir-documents-webinar-pir-validating-your-data-pptx-20180327161740.pdf\n",
      "convert /Volumes/Workspace/mycode/glam-workbench/webarchives/notebooks/domains/education-gov-au/powerpoints/original/au-gov-education-heimshelp-sites-heimshelp-resources-documents-providers-data-collections-survey-presentation-ppsx-20180406224450.ppsx -> /Volumes/Workspace/mycode/glam-workbench/webarchives/notebooks/domains/education-gov-au/powerpoints/pdfs/au-gov-education-heimshelp-sites-heimshelp-resources-documents-providers-data-collections-survey-presentation-ppsx-20180406224450.pdf using filter : impress_pdf_Export\n",
      "Overwriting: /Volumes/Workspace/mycode/glam-workbench/webarchives/notebooks/domains/education-gov-au/powerpoints/pdfs/au-gov-education-heimshelp-sites-heimshelp-resources-documents-providers-data-collections-survey-presentation-ppsx-20180406224450.pdf\n",
      "convert /Volumes/Workspace/mycode/glam-workbench/webarchives/notebooks/domains/education-gov-au/powerpoints/original/au-gov-education-heimshelp-sites-heimshelp-support-documents-training-2014-ministerial-notice-update-os-help-hecs-help-pptx-20150329090950.pptx -> /Volumes/Workspace/mycode/glam-workbench/webarchives/notebooks/domains/education-gov-au/powerpoints/pdfs/au-gov-education-heimshelp-sites-heimshelp-support-documents-training-2014-ministerial-notice-update-os-help-hecs-help-pptx-20150329090950.pdf using filter : impress_pdf_Export\n",
      "Overwriting: /Volumes/Workspace/mycode/glam-workbench/webarchives/notebooks/domains/education-gov-au/powerpoints/pdfs/au-gov-education-heimshelp-sites-heimshelp-support-documents-training-2014-ministerial-notice-update-os-help-hecs-help-pptx-20150329090950.pdf\n",
      "convert /Volumes/Workspace/mycode/glam-workbench/webarchives/notebooks/domains/education-gov-au/powerpoints/original/au-gov-education-heimshelp-sites-heimshelp-support-documents-training-2014-ministerial-notice-update-os-help-hecs-help-pptx-20160312132040.pptx -> /Volumes/Workspace/mycode/glam-workbench/webarchives/notebooks/domains/education-gov-au/powerpoints/pdfs/au-gov-education-heimshelp-sites-heimshelp-support-documents-training-2014-ministerial-notice-update-os-help-hecs-help-pptx-20160312132040.pdf using filter : impress_pdf_Export\n",
      "Overwriting: /Volumes/Workspace/mycode/glam-workbench/webarchives/notebooks/domains/education-gov-au/powerpoints/pdfs/au-gov-education-heimshelp-sites-heimshelp-support-documents-training-2014-ministerial-notice-update-os-help-hecs-help-pptx-20160312132040.pdf\n",
      "convert /Volumes/Workspace/mycode/glam-workbench/webarchives/notebooks/domains/education-gov-au/powerpoints/original/au-gov-education-heimshelp-sites-heimshelp-support-documents-training-webinar-commencement-date-revision-submission-pptx-20150329091047.pptx -> /Volumes/Workspace/mycode/glam-workbench/webarchives/notebooks/domains/education-gov-au/powerpoints/pdfs/au-gov-education-heimshelp-sites-heimshelp-support-documents-training-webinar-commencement-date-revision-submission-pptx-20150329091047.pdf using filter : impress_pdf_Export\n",
      "Overwriting: /Volumes/Workspace/mycode/glam-workbench/webarchives/notebooks/domains/education-gov-au/powerpoints/pdfs/au-gov-education-heimshelp-sites-heimshelp-support-documents-training-webinar-commencement-date-revision-submission-pptx-20150329091047.pdf\n",
      "convert /Volumes/Workspace/mycode/glam-workbench/webarchives/notebooks/domains/education-gov-au/powerpoints/original/au-gov-education-heimshelp-sites-heimshelp-support-documents-training-webinar-commencement-date-revision-submission-pptx-20160312132128.pptx -> /Volumes/Workspace/mycode/glam-workbench/webarchives/notebooks/domains/education-gov-au/powerpoints/pdfs/au-gov-education-heimshelp-sites-heimshelp-support-documents-training-webinar-commencement-date-revision-submission-pptx-20160312132128.pdf using filter : impress_pdf_Export\n",
      "Overwriting: /Volumes/Workspace/mycode/glam-workbench/webarchives/notebooks/domains/education-gov-au/powerpoints/pdfs/au-gov-education-heimshelp-sites-heimshelp-support-documents-training-webinar-commencement-date-revision-submission-pptx-20160312132128.pdf\n",
      "convert /Volumes/Workspace/mycode/glam-workbench/webarchives/notebooks/domains/education-gov-au/powerpoints/original/au-gov-education-heimshelp-sites-heimshelp-support-documents-training-webinar-higher-education-ministerial-notice-2017-pptx-20160816100756.pptx -> /Volumes/Workspace/mycode/glam-workbench/webarchives/notebooks/domains/education-gov-au/powerpoints/pdfs/au-gov-education-heimshelp-sites-heimshelp-support-documents-training-webinar-higher-education-ministerial-notice-2017-pptx-20160816100756.pdf using filter : impress_pdf_Export\n",
      "Overwriting: /Volumes/Workspace/mycode/glam-workbench/webarchives/notebooks/domains/education-gov-au/powerpoints/pdfs/au-gov-education-heimshelp-sites-heimshelp-support-documents-training-webinar-higher-education-ministerial-notice-2017-pptx-20160816100756.pdf\n",
      "convert /Volumes/Workspace/mycode/glam-workbench/webarchives/notebooks/domains/education-gov-au/powerpoints/original/au-gov-education-heimshelp-sites-heimshelp-support-documents-training-webinar-higher-education-ministerial-notice-2017-pptx-20170318054032.pptx -> /Volumes/Workspace/mycode/glam-workbench/webarchives/notebooks/domains/education-gov-au/powerpoints/pdfs/au-gov-education-heimshelp-sites-heimshelp-support-documents-training-webinar-higher-education-ministerial-notice-2017-pptx-20170318054032.pdf using filter : impress_pdf_Export\n",
      "Overwriting: /Volumes/Workspace/mycode/glam-workbench/webarchives/notebooks/domains/education-gov-au/powerpoints/pdfs/au-gov-education-heimshelp-sites-heimshelp-support-documents-training-webinar-higher-education-ministerial-notice-2017-pptx-20170318054032.pdf\n",
      "convert /Volumes/Workspace/mycode/glam-workbench/webarchives/notebooks/domains/education-gov-au/powerpoints/original/au-gov-education-heimshelp-sites-heimshelp-support-documents-training-webinar-monitoring-students-use-of-help-pptx-20170318055058.pptx -> /Volumes/Workspace/mycode/glam-workbench/webarchives/notebooks/domains/education-gov-au/powerpoints/pdfs/au-gov-education-heimshelp-sites-heimshelp-support-documents-training-webinar-monitoring-students-use-of-help-pptx-20170318055058.pdf using filter : impress_pdf_Export\n",
      "Overwriting: /Volumes/Workspace/mycode/glam-workbench/webarchives/notebooks/domains/education-gov-au/powerpoints/pdfs/au-gov-education-heimshelp-sites-heimshelp-support-documents-training-webinar-monitoring-students-use-of-help-pptx-20170318055058.pdf\n",
      "convert /Volumes/Workspace/mycode/glam-workbench/webarchives/notebooks/domains/education-gov-au/powerpoints/original/au-gov-education-heimshelp-sites-heimshelp-support-documents-training-webinar-new-commencement-date-revision-submission-pptx-20140808124749.pptx -> /Volumes/Workspace/mycode/glam-workbench/webarchives/notebooks/domains/education-gov-au/powerpoints/pdfs/au-gov-education-heimshelp-sites-heimshelp-support-documents-training-webinar-new-commencement-date-revision-submission-pptx-20140808124749.pdf using filter : impress_pdf_Export\n",
      "Overwriting: /Volumes/Workspace/mycode/glam-workbench/webarchives/notebooks/domains/education-gov-au/powerpoints/pdfs/au-gov-education-heimshelp-sites-heimshelp-support-documents-training-webinar-new-commencement-date-revision-submission-pptx-20140808124749.pdf\n",
      "convert /Volumes/Workspace/mycode/glam-workbench/webarchives/notebooks/domains/education-gov-au/powerpoints/original/au-gov-education-heimshelp-sites-heimshelp-support-documents-training-webinar-new-online-registration-process-pptx-20170318053946.pptx -> /Volumes/Workspace/mycode/glam-workbench/webarchives/notebooks/domains/education-gov-au/powerpoints/pdfs/au-gov-education-heimshelp-sites-heimshelp-support-documents-training-webinar-new-online-registration-process-pptx-20170318053946.pdf using filter : impress_pdf_Export\n",
      "Overwriting: /Volumes/Workspace/mycode/glam-workbench/webarchives/notebooks/domains/education-gov-au/powerpoints/pdfs/au-gov-education-heimshelp-sites-heimshelp-support-documents-training-webinar-new-online-registration-process-pptx-20170318053946.pdf\n",
      "convert /Volumes/Workspace/mycode/glam-workbench/webarchives/notebooks/domains/education-gov-au/powerpoints/original/au-gov-education-heimshelp-sites-heimshelp-support-documents-training-webinar-reporting-completions-data-pptx-20150329090636.pptx -> /Volumes/Workspace/mycode/glam-workbench/webarchives/notebooks/domains/education-gov-au/powerpoints/pdfs/au-gov-education-heimshelp-sites-heimshelp-support-documents-training-webinar-reporting-completions-data-pptx-20150329090636.pdf using filter : impress_pdf_Export\n",
      "Overwriting: /Volumes/Workspace/mycode/glam-workbench/webarchives/notebooks/domains/education-gov-au/powerpoints/pdfs/au-gov-education-heimshelp-sites-heimshelp-support-documents-training-webinar-reporting-completions-data-pptx-20150329090636.pdf\n",
      "convert /Volumes/Workspace/mycode/glam-workbench/webarchives/notebooks/domains/education-gov-au/powerpoints/original/au-gov-education-heimshelp-sites-heimshelp-support-documents-training-webinar-reporting-completions-data-pptx-20160312131810.pptx -> /Volumes/Workspace/mycode/glam-workbench/webarchives/notebooks/domains/education-gov-au/powerpoints/pdfs/au-gov-education-heimshelp-sites-heimshelp-support-documents-training-webinar-reporting-completions-data-pptx-20160312131810.pdf using filter : impress_pdf_Export\n",
      "Overwriting: /Volumes/Workspace/mycode/glam-workbench/webarchives/notebooks/domains/education-gov-au/powerpoints/pdfs/au-gov-education-heimshelp-sites-heimshelp-support-documents-training-webinar-reporting-completions-data-pptx-20160312131810.pdf\n",
      "convert /Volumes/Workspace/mycode/glam-workbench/webarchives/notebooks/domains/education-gov-au/powerpoints/original/au-gov-education-heimshelp-sites-heimshelp-support-documents-training-webinar-reporting-getting-started-pptx-20150329090146.pptx -> /Volumes/Workspace/mycode/glam-workbench/webarchives/notebooks/domains/education-gov-au/powerpoints/pdfs/au-gov-education-heimshelp-sites-heimshelp-support-documents-training-webinar-reporting-getting-started-pptx-20150329090146.pdf using filter : impress_pdf_Export\n",
      "Overwriting: /Volumes/Workspace/mycode/glam-workbench/webarchives/notebooks/domains/education-gov-au/powerpoints/pdfs/au-gov-education-heimshelp-sites-heimshelp-support-documents-training-webinar-reporting-getting-started-pptx-20150329090146.pdf\n",
      "convert /Volumes/Workspace/mycode/glam-workbench/webarchives/notebooks/domains/education-gov-au/powerpoints/original/au-gov-education-heimshelp-sites-heimshelp-support-documents-training-webinar-reporting-getting-started-pptx-20160312131305.pptx -> /Volumes/Workspace/mycode/glam-workbench/webarchives/notebooks/domains/education-gov-au/powerpoints/pdfs/au-gov-education-heimshelp-sites-heimshelp-support-documents-training-webinar-reporting-getting-started-pptx-20160312131305.pdf using filter : impress_pdf_Export\n",
      "Overwriting: /Volumes/Workspace/mycode/glam-workbench/webarchives/notebooks/domains/education-gov-au/powerpoints/pdfs/au-gov-education-heimshelp-sites-heimshelp-support-documents-training-webinar-reporting-getting-started-pptx-20160312131305.pdf\n",
      "convert /Volumes/Workspace/mycode/glam-workbench/webarchives/notebooks/domains/education-gov-au/powerpoints/original/au-gov-education-heimshelp-sites-heimshelp-support-documents-training-webinar-reporting-getting-started-pptx-20170318054110.pptx -> /Volumes/Workspace/mycode/glam-workbench/webarchives/notebooks/domains/education-gov-au/powerpoints/pdfs/au-gov-education-heimshelp-sites-heimshelp-support-documents-training-webinar-reporting-getting-started-pptx-20170318054110.pdf using filter : impress_pdf_Export\n",
      "Overwriting: /Volumes/Workspace/mycode/glam-workbench/webarchives/notebooks/domains/education-gov-au/powerpoints/pdfs/au-gov-education-heimshelp-sites-heimshelp-support-documents-training-webinar-reporting-getting-started-pptx-20170318054110.pdf\n",
      "convert /Volumes/Workspace/mycode/glam-workbench/webarchives/notebooks/domains/education-gov-au/powerpoints/original/au-gov-education-heimshelp-sites-heimshelp-support-documents-training-webinar-reporting-getting-started-pptx-20180415165028.pptx -> /Volumes/Workspace/mycode/glam-workbench/webarchives/notebooks/domains/education-gov-au/powerpoints/pdfs/au-gov-education-heimshelp-sites-heimshelp-support-documents-training-webinar-reporting-getting-started-pptx-20180415165028.pdf using filter : impress_pdf_Export\n",
      "Overwriting: /Volumes/Workspace/mycode/glam-workbench/webarchives/notebooks/domains/education-gov-au/powerpoints/pdfs/au-gov-education-heimshelp-sites-heimshelp-support-documents-training-webinar-reporting-getting-started-pptx-20180415165028.pdf\n",
      "convert /Volumes/Workspace/mycode/glam-workbench/webarchives/notebooks/domains/education-gov-au/powerpoints/original/au-gov-education-heimshelp-sites-heimshelp-support-documents-training-webinar-reporting-staff-data-pptx-20150329091020.pptx -> /Volumes/Workspace/mycode/glam-workbench/webarchives/notebooks/domains/education-gov-au/powerpoints/pdfs/au-gov-education-heimshelp-sites-heimshelp-support-documents-training-webinar-reporting-staff-data-pptx-20150329091020.pdf using filter : impress_pdf_Export\n",
      "Overwriting: /Volumes/Workspace/mycode/glam-workbench/webarchives/notebooks/domains/education-gov-au/powerpoints/pdfs/au-gov-education-heimshelp-sites-heimshelp-support-documents-training-webinar-reporting-staff-data-pptx-20150329091020.pdf\n",
      "convert /Volumes/Workspace/mycode/glam-workbench/webarchives/notebooks/domains/education-gov-au/powerpoints/original/au-gov-education-heimshelp-sites-heimshelp-support-documents-training-webinar-reporting-staff-data-pptx-20160312132106.pptx -> /Volumes/Workspace/mycode/glam-workbench/webarchives/notebooks/domains/education-gov-au/powerpoints/pdfs/au-gov-education-heimshelp-sites-heimshelp-support-documents-training-webinar-reporting-staff-data-pptx-20160312132106.pdf using filter : impress_pdf_Export\n",
      "Overwriting: /Volumes/Workspace/mycode/glam-workbench/webarchives/notebooks/domains/education-gov-au/powerpoints/pdfs/au-gov-education-heimshelp-sites-heimshelp-support-documents-training-webinar-reporting-staff-data-pptx-20160312132106.pdf\n",
      "convert /Volumes/Workspace/mycode/glam-workbench/webarchives/notebooks/domains/education-gov-au/powerpoints/original/au-gov-education-heimshelp-sites-heimshelp-support-documents-training-webinar-reporting-staff-data-pptx-20170318055226.pptx -> /Volumes/Workspace/mycode/glam-workbench/webarchives/notebooks/domains/education-gov-au/powerpoints/pdfs/au-gov-education-heimshelp-sites-heimshelp-support-documents-training-webinar-reporting-staff-data-pptx-20170318055226.pdf using filter : impress_pdf_Export\n",
      "Overwriting: /Volumes/Workspace/mycode/glam-workbench/webarchives/notebooks/domains/education-gov-au/powerpoints/pdfs/au-gov-education-heimshelp-sites-heimshelp-support-documents-training-webinar-reporting-staff-data-pptx-20170318055226.pdf\n",
      "convert /Volumes/Workspace/mycode/glam-workbench/webarchives/notebooks/domains/education-gov-au/powerpoints/original/au-gov-education-heimshelp-sites-heimshelp-support-documents-training-webinar-reporting-with-hepcat-part-1-pptx-20150329090319.pptx -> /Volumes/Workspace/mycode/glam-workbench/webarchives/notebooks/domains/education-gov-au/powerpoints/pdfs/au-gov-education-heimshelp-sites-heimshelp-support-documents-training-webinar-reporting-with-hepcat-part-1-pptx-20150329090319.pdf using filter : impress_pdf_Export\n",
      "Overwriting: /Volumes/Workspace/mycode/glam-workbench/webarchives/notebooks/domains/education-gov-au/powerpoints/pdfs/au-gov-education-heimshelp-sites-heimshelp-support-documents-training-webinar-reporting-with-hepcat-part-1-pptx-20150329090319.pdf\n",
      "convert /Volumes/Workspace/mycode/glam-workbench/webarchives/notebooks/domains/education-gov-au/powerpoints/original/au-gov-education-heimshelp-sites-heimshelp-support-documents-training-webinar-reporting-with-hepcat-part-1-pptx-20160312131421.pptx -> /Volumes/Workspace/mycode/glam-workbench/webarchives/notebooks/domains/education-gov-au/powerpoints/pdfs/au-gov-education-heimshelp-sites-heimshelp-support-documents-training-webinar-reporting-with-hepcat-part-1-pptx-20160312131421.pdf using filter : impress_pdf_Export\n",
      "Overwriting: /Volumes/Workspace/mycode/glam-workbench/webarchives/notebooks/domains/education-gov-au/powerpoints/pdfs/au-gov-education-heimshelp-sites-heimshelp-support-documents-training-webinar-reporting-with-hepcat-part-1-pptx-20160312131421.pdf\n",
      "convert /Volumes/Workspace/mycode/glam-workbench/webarchives/notebooks/domains/education-gov-au/powerpoints/original/au-gov-education-heimshelp-sites-heimshelp-support-documents-training-webinar-reporting-with-hepcat-part-2-pptx-20150329090439.pptx -> /Volumes/Workspace/mycode/glam-workbench/webarchives/notebooks/domains/education-gov-au/powerpoints/pdfs/au-gov-education-heimshelp-sites-heimshelp-support-documents-training-webinar-reporting-with-hepcat-part-2-pptx-20150329090439.pdf using filter : impress_pdf_Export\n",
      "Overwriting: /Volumes/Workspace/mycode/glam-workbench/webarchives/notebooks/domains/education-gov-au/powerpoints/pdfs/au-gov-education-heimshelp-sites-heimshelp-support-documents-training-webinar-reporting-with-hepcat-part-2-pptx-20150329090439.pdf\n",
      "convert /Volumes/Workspace/mycode/glam-workbench/webarchives/notebooks/domains/education-gov-au/powerpoints/original/au-gov-education-heimshelp-sites-heimshelp-support-documents-training-webinar-reporting-with-hepcat-part-2-pptx-20160312131555.pptx -> /Volumes/Workspace/mycode/glam-workbench/webarchives/notebooks/domains/education-gov-au/powerpoints/pdfs/au-gov-education-heimshelp-sites-heimshelp-support-documents-training-webinar-reporting-with-hepcat-part-2-pptx-20160312131555.pdf using filter : impress_pdf_Export\n",
      "Overwriting: /Volumes/Workspace/mycode/glam-workbench/webarchives/notebooks/domains/education-gov-au/powerpoints/pdfs/au-gov-education-heimshelp-sites-heimshelp-support-documents-training-webinar-reporting-with-hepcat-part-2-pptx-20160312131555.pdf\n",
      "convert /Volumes/Workspace/mycode/glam-workbench/webarchives/notebooks/domains/education-gov-au/powerpoints/original/au-gov-education-heimshelp-sites-heimshelp-support-documents-training-webinar-reporting-with-hepcat-pptx-20170318054226.pptx -> /Volumes/Workspace/mycode/glam-workbench/webarchives/notebooks/domains/education-gov-au/powerpoints/pdfs/au-gov-education-heimshelp-sites-heimshelp-support-documents-training-webinar-reporting-with-hepcat-pptx-20170318054226.pdf using filter : impress_pdf_Export\n",
      "Overwriting: /Volumes/Workspace/mycode/glam-workbench/webarchives/notebooks/domains/education-gov-au/powerpoints/pdfs/au-gov-education-heimshelp-sites-heimshelp-support-documents-training-webinar-reporting-with-hepcat-pptx-20170318054226.pdf\n",
      "convert /Volumes/Workspace/mycode/glam-workbench/webarchives/notebooks/domains/education-gov-au/powerpoints/original/au-gov-education-heimshelp-sites-heimshelp-support-documents-training-webinar-reporting-with-hepcat-pptx-20180415165203.pptx -> /Volumes/Workspace/mycode/glam-workbench/webarchives/notebooks/domains/education-gov-au/powerpoints/pdfs/au-gov-education-heimshelp-sites-heimshelp-support-documents-training-webinar-reporting-with-hepcat-pptx-20180415165203.pdf using filter : impress_pdf_Export\n",
      "Overwriting: /Volumes/Workspace/mycode/glam-workbench/webarchives/notebooks/domains/education-gov-au/powerpoints/pdfs/au-gov-education-heimshelp-sites-heimshelp-support-documents-training-webinar-reporting-with-hepcat-pptx-20180415165203.pdf\n",
      "convert /Volumes/Workspace/mycode/glam-workbench/webarchives/notebooks/domains/education-gov-au/powerpoints/original/au-gov-education-heimshelp-sites-heimshelp-support-documents-training-webinar-reviewing-your-reported-data-pptx-20150329090714.pptx -> /Volumes/Workspace/mycode/glam-workbench/webarchives/notebooks/domains/education-gov-au/powerpoints/pdfs/au-gov-education-heimshelp-sites-heimshelp-support-documents-training-webinar-reviewing-your-reported-data-pptx-20150329090714.pdf using filter : impress_pdf_Export\n",
      "Overwriting: /Volumes/Workspace/mycode/glam-workbench/webarchives/notebooks/domains/education-gov-au/powerpoints/pdfs/au-gov-education-heimshelp-sites-heimshelp-support-documents-training-webinar-reviewing-your-reported-data-pptx-20150329090714.pdf\n",
      "convert /Volumes/Workspace/mycode/glam-workbench/webarchives/notebooks/domains/education-gov-au/powerpoints/original/au-gov-education-heimshelp-sites-heimshelp-support-documents-training-webinar-reviewing-your-reported-data-pptx-20160312131852.pptx -> /Volumes/Workspace/mycode/glam-workbench/webarchives/notebooks/domains/education-gov-au/powerpoints/pdfs/au-gov-education-heimshelp-sites-heimshelp-support-documents-training-webinar-reviewing-your-reported-data-pptx-20160312131852.pdf using filter : impress_pdf_Export\n",
      "Overwriting: /Volumes/Workspace/mycode/glam-workbench/webarchives/notebooks/domains/education-gov-au/powerpoints/pdfs/au-gov-education-heimshelp-sites-heimshelp-support-documents-training-webinar-reviewing-your-reported-data-pptx-20160312131852.pdf\n",
      "convert /Volumes/Workspace/mycode/glam-workbench/webarchives/notebooks/domains/education-gov-au/powerpoints/original/au-gov-education-heimshelp-sites-heimshelp-support-documents-training-webinar-revising-your-data-pptx-20150329090828.pptx -> /Volumes/Workspace/mycode/glam-workbench/webarchives/notebooks/domains/education-gov-au/powerpoints/pdfs/au-gov-education-heimshelp-sites-heimshelp-support-documents-training-webinar-revising-your-data-pptx-20150329090828.pdf using filter : impress_pdf_Export\n",
      "Overwriting: /Volumes/Workspace/mycode/glam-workbench/webarchives/notebooks/domains/education-gov-au/powerpoints/pdfs/au-gov-education-heimshelp-sites-heimshelp-support-documents-training-webinar-revising-your-data-pptx-20150329090828.pdf\n",
      "convert /Volumes/Workspace/mycode/glam-workbench/webarchives/notebooks/domains/education-gov-au/powerpoints/original/au-gov-education-heimshelp-sites-heimshelp-support-documents-training-webinar-revising-your-data-pptx-20160312132010.pptx -> /Volumes/Workspace/mycode/glam-workbench/webarchives/notebooks/domains/education-gov-au/powerpoints/pdfs/au-gov-education-heimshelp-sites-heimshelp-support-documents-training-webinar-revising-your-data-pptx-20160312132010.pdf using filter : impress_pdf_Export\n",
      "Overwriting: /Volumes/Workspace/mycode/glam-workbench/webarchives/notebooks/domains/education-gov-au/powerpoints/pdfs/au-gov-education-heimshelp-sites-heimshelp-support-documents-training-webinar-revising-your-data-pptx-20160312132010.pdf\n",
      "convert /Volumes/Workspace/mycode/glam-workbench/webarchives/notebooks/domains/education-gov-au/powerpoints/original/au-gov-education-heimshelp-sites-heimshelp-support-documents-training-webinar-revising-your-data-pptx-20170318054726.pptx -> /Volumes/Workspace/mycode/glam-workbench/webarchives/notebooks/domains/education-gov-au/powerpoints/pdfs/au-gov-education-heimshelp-sites-heimshelp-support-documents-training-webinar-revising-your-data-pptx-20170318054726.pdf using filter : impress_pdf_Export\n",
      "Overwriting: /Volumes/Workspace/mycode/glam-workbench/webarchives/notebooks/domains/education-gov-au/powerpoints/pdfs/au-gov-education-heimshelp-sites-heimshelp-support-documents-training-webinar-revising-your-data-pptx-20170318054726.pdf\n",
      "convert /Volumes/Workspace/mycode/glam-workbench/webarchives/notebooks/domains/education-gov-au/powerpoints/original/au-gov-education-heimshelp-sites-heimshelp-support-documents-training-webinar-simplifying-verification-he-pptx-20170318054947.pptx -> /Volumes/Workspace/mycode/glam-workbench/webarchives/notebooks/domains/education-gov-au/powerpoints/pdfs/au-gov-education-heimshelp-sites-heimshelp-support-documents-training-webinar-simplifying-verification-he-pptx-20170318054947.pdf using filter : impress_pdf_Export\n",
      "Overwriting: /Volumes/Workspace/mycode/glam-workbench/webarchives/notebooks/domains/education-gov-au/powerpoints/pdfs/au-gov-education-heimshelp-sites-heimshelp-support-documents-training-webinar-simplifying-verification-he-pptx-20170318054947.pdf\n",
      "convert /Volumes/Workspace/mycode/glam-workbench/webarchives/notebooks/domains/education-gov-au/powerpoints/original/au-gov-education-heimshelp-sites-heimshelp-support-documents-training-webinar-simplifying-verification-pptx-20150316163357.pptx -> /Volumes/Workspace/mycode/glam-workbench/webarchives/notebooks/domains/education-gov-au/powerpoints/pdfs/au-gov-education-heimshelp-sites-heimshelp-support-documents-training-webinar-simplifying-verification-pptx-20150316163357.pdf using filter : impress_pdf_Export\n",
      "Overwriting: /Volumes/Workspace/mycode/glam-workbench/webarchives/notebooks/domains/education-gov-au/powerpoints/pdfs/au-gov-education-heimshelp-sites-heimshelp-support-documents-training-webinar-simplifying-verification-pptx-20150316163357.pdf\n",
      "convert /Volumes/Workspace/mycode/glam-workbench/webarchives/notebooks/domains/education-gov-au/powerpoints/original/au-gov-education-heimshelp-sites-heimshelp-support-documents-training-webinar-simplifying-verification-pptx-20160304044158.pptx -> /Volumes/Workspace/mycode/glam-workbench/webarchives/notebooks/domains/education-gov-au/powerpoints/pdfs/au-gov-education-heimshelp-sites-heimshelp-support-documents-training-webinar-simplifying-verification-pptx-20160304044158.pdf using filter : impress_pdf_Export\n",
      "Overwriting: /Volumes/Workspace/mycode/glam-workbench/webarchives/notebooks/domains/education-gov-au/powerpoints/pdfs/au-gov-education-heimshelp-sites-heimshelp-support-documents-training-webinar-simplifying-verification-pptx-20160304044158.pdf\n",
      "convert /Volumes/Workspace/mycode/glam-workbench/webarchives/notebooks/domains/education-gov-au/powerpoints/original/au-gov-education-heimshelp-sites-heimshelp-support-documents-training-webinar-simplifying-verification-pptx-20170227160049.pptx -> /Volumes/Workspace/mycode/glam-workbench/webarchives/notebooks/domains/education-gov-au/powerpoints/pdfs/au-gov-education-heimshelp-sites-heimshelp-support-documents-training-webinar-simplifying-verification-pptx-20170227160049.pdf using filter : impress_pdf_Export\n",
      "Overwriting: /Volumes/Workspace/mycode/glam-workbench/webarchives/notebooks/domains/education-gov-au/powerpoints/pdfs/au-gov-education-heimshelp-sites-heimshelp-support-documents-training-webinar-simplifying-verification-pptx-20170227160049.pdf\n",
      "convert /Volumes/Workspace/mycode/glam-workbench/webarchives/notebooks/domains/education-gov-au/powerpoints/original/au-gov-education-heimshelp-sites-heimshelp-support-documents-training-webinar-simplifying-verification-vet-pptx-20170318054851.pptx -> /Volumes/Workspace/mycode/glam-workbench/webarchives/notebooks/domains/education-gov-au/powerpoints/pdfs/au-gov-education-heimshelp-sites-heimshelp-support-documents-training-webinar-simplifying-verification-vet-pptx-20170318054851.pdf using filter : impress_pdf_Export\n",
      "Overwriting: /Volumes/Workspace/mycode/glam-workbench/webarchives/notebooks/domains/education-gov-au/powerpoints/pdfs/au-gov-education-heimshelp-sites-heimshelp-support-documents-training-webinar-simplifying-verification-vet-pptx-20170318054851.pdf\n",
      "convert /Volumes/Workspace/mycode/glam-workbench/webarchives/notebooks/domains/education-gov-au/powerpoints/original/au-gov-education-heimshelp-sites-heimshelp-support-documents-training-webinar-student-concordance-submission-pptx-20150329091114.pptx -> /Volumes/Workspace/mycode/glam-workbench/webarchives/notebooks/domains/education-gov-au/powerpoints/pdfs/au-gov-education-heimshelp-sites-heimshelp-support-documents-training-webinar-student-concordance-submission-pptx-20150329091114.pdf using filter : impress_pdf_Export\n",
      "Overwriting: /Volumes/Workspace/mycode/glam-workbench/webarchives/notebooks/domains/education-gov-au/powerpoints/pdfs/au-gov-education-heimshelp-sites-heimshelp-support-documents-training-webinar-student-concordance-submission-pptx-20150329091114.pdf\n",
      "convert /Volumes/Workspace/mycode/glam-workbench/webarchives/notebooks/domains/education-gov-au/powerpoints/original/au-gov-education-heimshelp-sites-heimshelp-support-documents-training-webinar-student-concordance-submission-pptx-20160312132146.pptx -> /Volumes/Workspace/mycode/glam-workbench/webarchives/notebooks/domains/education-gov-au/powerpoints/pdfs/au-gov-education-heimshelp-sites-heimshelp-support-documents-training-webinar-student-concordance-submission-pptx-20160312132146.pdf using filter : impress_pdf_Export\n",
      "Overwriting: /Volumes/Workspace/mycode/glam-workbench/webarchives/notebooks/domains/education-gov-au/powerpoints/pdfs/au-gov-education-heimshelp-sites-heimshelp-support-documents-training-webinar-student-concordance-submission-pptx-20160312132146.pdf\n",
      "convert /Volumes/Workspace/mycode/glam-workbench/webarchives/notebooks/domains/education-gov-au/powerpoints/original/au-gov-education-heimshelp-sites-heimshelp-support-documents-training-webinar-student-help-entitlements-calculations-pptx-20150329090753.pptx -> /Volumes/Workspace/mycode/glam-workbench/webarchives/notebooks/domains/education-gov-au/powerpoints/pdfs/au-gov-education-heimshelp-sites-heimshelp-support-documents-training-webinar-student-help-entitlements-calculations-pptx-20150329090753.pdf using filter : impress_pdf_Export\n",
      "Overwriting: /Volumes/Workspace/mycode/glam-workbench/webarchives/notebooks/domains/education-gov-au/powerpoints/pdfs/au-gov-education-heimshelp-sites-heimshelp-support-documents-training-webinar-student-help-entitlements-calculations-pptx-20150329090753.pdf\n",
      "convert /Volumes/Workspace/mycode/glam-workbench/webarchives/notebooks/domains/education-gov-au/powerpoints/original/au-gov-education-heimshelp-sites-heimshelp-support-documents-training-webinar-student-help-entitlements-calculations-pptx-20160312131936.pptx -> /Volumes/Workspace/mycode/glam-workbench/webarchives/notebooks/domains/education-gov-au/powerpoints/pdfs/au-gov-education-heimshelp-sites-heimshelp-support-documents-training-webinar-student-help-entitlements-calculations-pptx-20160312131936.pdf using filter : impress_pdf_Export\n",
      "Overwriting: /Volumes/Workspace/mycode/glam-workbench/webarchives/notebooks/domains/education-gov-au/powerpoints/pdfs/au-gov-education-heimshelp-sites-heimshelp-support-documents-training-webinar-student-help-entitlements-calculations-pptx-20160312131936.pdf\n",
      "convert /Volumes/Workspace/mycode/glam-workbench/webarchives/notebooks/domains/education-gov-au/powerpoints/original/au-gov-education-heimshelp-sites-heimshelp-support-documents-training-webinar-universities-verification-forum-pptx-20150329090908.pptx -> /Volumes/Workspace/mycode/glam-workbench/webarchives/notebooks/domains/education-gov-au/powerpoints/pdfs/au-gov-education-heimshelp-sites-heimshelp-support-documents-training-webinar-universities-verification-forum-pptx-20150329090908.pdf using filter : impress_pdf_Export\n",
      "Overwriting: /Volumes/Workspace/mycode/glam-workbench/webarchives/notebooks/domains/education-gov-au/powerpoints/pdfs/au-gov-education-heimshelp-sites-heimshelp-support-documents-training-webinar-universities-verification-forum-pptx-20150329090908.pdf\n",
      "convert /Volumes/Workspace/mycode/glam-workbench/webarchives/notebooks/domains/education-gov-au/powerpoints/original/au-gov-education-heimshelp-sites-heimshelp-support-documents-training-webinar-validating-your-data-pptx-20150329090603.pptx -> /Volumes/Workspace/mycode/glam-workbench/webarchives/notebooks/domains/education-gov-au/powerpoints/pdfs/au-gov-education-heimshelp-sites-heimshelp-support-documents-training-webinar-validating-your-data-pptx-20150329090603.pdf using filter : impress_pdf_Export\n",
      "Overwriting: /Volumes/Workspace/mycode/glam-workbench/webarchives/notebooks/domains/education-gov-au/powerpoints/pdfs/au-gov-education-heimshelp-sites-heimshelp-support-documents-training-webinar-validating-your-data-pptx-20150329090603.pdf\n",
      "convert /Volumes/Workspace/mycode/glam-workbench/webarchives/notebooks/domains/education-gov-au/powerpoints/original/au-gov-education-heimshelp-sites-heimshelp-support-documents-training-webinar-validating-your-data-pptx-20160312131731.pptx -> /Volumes/Workspace/mycode/glam-workbench/webarchives/notebooks/domains/education-gov-au/powerpoints/pdfs/au-gov-education-heimshelp-sites-heimshelp-support-documents-training-webinar-validating-your-data-pptx-20160312131731.pdf using filter : impress_pdf_Export\n",
      "Overwriting: /Volumes/Workspace/mycode/glam-workbench/webarchives/notebooks/domains/education-gov-au/powerpoints/pdfs/au-gov-education-heimshelp-sites-heimshelp-support-documents-training-webinar-validating-your-data-pptx-20160312131731.pdf\n",
      "convert /Volumes/Workspace/mycode/glam-workbench/webarchives/notebooks/domains/education-gov-au/powerpoints/original/au-gov-education-heimshelp-sites-heimshelp-support-documents-training-webinar-validating-your-data-pptx-20170318054347.pptx -> /Volumes/Workspace/mycode/glam-workbench/webarchives/notebooks/domains/education-gov-au/powerpoints/pdfs/au-gov-education-heimshelp-sites-heimshelp-support-documents-training-webinar-validating-your-data-pptx-20170318054347.pdf using filter : impress_pdf_Export\n",
      "Overwriting: /Volumes/Workspace/mycode/glam-workbench/webarchives/notebooks/domains/education-gov-au/powerpoints/pdfs/au-gov-education-heimshelp-sites-heimshelp-support-documents-training-webinar-validating-your-data-pptx-20170318054347.pdf\n"
     ]
    }
   ],
   "source": [
    "input_dir = str(Path(domain_dir, 'powerpoints', 'original')) + '/*[ppt,pps,pptx]'\n",
    "output_dir = Path(domain_dir, 'powerpoints', 'pdfs')\n",
    "output_dir.mkdir(parents=True, exist_ok=True)\n",
    "\n",
    "# Use either unoconv or LibreOffice directly\n",
    "!unoconv -v -f pdf -o {pdf_output} {input_dir}\n",
    "# Typical MacOS installation of most recent LibreOffice\n",
    "#!/Applications/LibreOffice.app/Contents/MacOS/soffice --headless --convert-to pdf --outdir {output_dir} {input_dir}"
   ]
  },
  {
   "cell_type": "markdown",
   "metadata": {},
   "source": [
    "## Generate screenshots and save data from PDFs\n",
    "\n",
    "Now that we have PDF-formatted versions of the presentations, we can save individual slides as images, and extract all the text from the presentation. The function below works its way through out metadata file, looking for the PDF version of each of our downloaded Powerpoint files. If the PDF exists it:\n",
    "\n",
    "* Saves the first slide (ie the first page in the PDF) as a PNG image in the `/domains/[your selected domain]/powerpoints/images` directory.\n",
    "* Resizes the image to a maximum width of 300px and saves it as binary data in the metadata file.\n",
    "* Loops through all the pages to extract the complete text of the presentation, and saves to text to the metadata file.\n",
    "\n",
    "We end up with a metadata file that includes the full text of the file as well as an image of the first page. In the next step, we'll turn this into a database."
   ]
  },
  {
   "cell_type": "code",
   "execution_count": 15,
   "metadata": {},
   "outputs": [],
   "source": [
    "def get_data_from_pdfs(metadata):\n",
    "    pdf_data = metadata.copy()\n",
    "    for pdf in tqdm(pdf_data):\n",
    "        # See if pdf exists\n",
    "        pdf_name = f'{slugify(pdf[\"urlkey\"])}-{pdf[\"timestamp\"]}.pdf'\n",
    "        # print(filename)\n",
    "        input_dir = Path(domain_dir, 'powerpoints', 'pdfs')\n",
    "        output_dir = Path(domain_dir, 'powerpoints', 'images')\n",
    "        output_dir.mkdir(parents=True, exist_ok=True)\n",
    "        pdf_path = Path(input_dir, pdf_name)\n",
    "        if pdf_path.exists():\n",
    "            doc = fitz.open(pdf_path)\n",
    "            page_count = doc.pageCount\n",
    "            page_num = 0\n",
    "            text = ''\n",
    "            # You can define matrix to increase resolution / size - https://pymupdf.readthedocs.io/en/latest/faq/\n",
    "            # Increase numbers below to zoom\n",
    "            mat = fitz.Matrix(1,1)\n",
    "            while (page_num < page_count):\n",
    "                page = doc.loadPage(page_num)\n",
    "                # Convert first page to image\n",
    "                if page_num == 0:\n",
    "                    # Get page as image and save\n",
    "                    pix = page.getPixmap(matrix=mat)\n",
    "                    image_file = Path(output_dir, f'{pdf_path.stem}.png')\n",
    "                    pix.writePNG(str(image_file))\n",
    "                    # Resize the image as a thumbnail for saving in db\n",
    "                    img_data = pix.getPNGData()\n",
    "                    img = Image.open(io.BytesIO(img_data))\n",
    "                    ratio = 300 / img.width\n",
    "                    (width, height) = (300, math.ceil(img.height * ratio))\n",
    "                    resized_img = img.resize((width, height), PIL.Image.LANCZOS)\n",
    "                    # Save as data\n",
    "                    buffer = io.BytesIO()\n",
    "                    resized_img.save(buffer, format='PNG')\n",
    "                    pdf['image'] = buffer.getvalue()\n",
    "                text += page.getText()\n",
    "                page_num += 1\n",
    "            pdf['text'] = text\n",
    "        else:\n",
    "            pdf['text'] = ''\n",
    "            pdf['image'] = ''\n",
    "    return pdf_data"
   ]
  },
  {
   "cell_type": "code",
   "execution_count": 16,
   "metadata": {},
   "outputs": [
    {
     "data": {
      "application/vnd.jupyter.widget-view+json": {
       "model_id": "e41dc488ef32487798b576a52a502f1d",
       "version_major": 2,
       "version_minor": 0
      },
      "text/plain": [
       "HBox(children=(FloatProgress(value=0.0, max=132.0), HTML(value='')))"
      ]
     },
     "metadata": {},
     "output_type": "display_data"
    },
    {
     "name": "stderr",
     "output_type": "stream",
     "text": [
      "mupdf: cannot create appearance stream for Screen annotations\n"
     ]
    },
    {
     "name": "stdout",
     "output_type": "stream",
     "text": [
      "\n"
     ]
    }
   ],
   "source": [
    "pdf_data = get_data_from_pdfs(metadata)"
   ]
  },
  {
   "cell_type": "markdown",
   "metadata": {},
   "source": [
    "## Save into SQLite so we can explore the results in Datasette\n",
    "\n",
    "In this step we import the enriched metadata file into a SQLite database using [SQlite-utils](https://sqlite-utils.readthedocs.io/en/stable/index.html). Then we can open the database in [Datasette](https://datasette.readthedocs.io/en/stable/index.html) and explore the results.\n",
    "\n",
    "There's a few interesting things to note:\n",
    "\n",
    "* Using `sql-utils` we can index the `text` column so that it's searchable as full text.\n",
    "* To get Datasette to work on Binder we have to find the base url of the Jupyter proxy and give it to Datasette."
   ]
  },
  {
   "cell_type": "code",
   "execution_count": 30,
   "metadata": {},
   "outputs": [],
   "source": [
    "# Create the db\n",
    "db_file = Path(domain_dir, f'{slugify(domain)}-powerpoints.db')\n",
    "db = sqlite_utils.Database(db_file)"
   ]
  },
  {
   "cell_type": "code",
   "execution_count": 18,
   "metadata": {},
   "outputs": [
    {
     "data": {
      "text/plain": [
       "<Table files (urlkey, timestamp, digest, length, status, mime, url, first_capture, last_capture, current_status, file_path, image, text)>"
      ]
     },
     "execution_count": 18,
     "metadata": {},
     "output_type": "execute_result"
    }
   ],
   "source": [
    "# Insert the metadata into the db\n",
    "db['files'].insert_all(pdf_data)"
   ]
  },
  {
   "cell_type": "code",
   "execution_count": 19,
   "metadata": {},
   "outputs": [
    {
     "data": {
      "text/plain": [
       "<Table files (urlkey, timestamp, digest, length, status, mime, url, first_capture, last_capture, current_status, file_path, image, text)>"
      ]
     },
     "execution_count": 19,
     "metadata": {},
     "output_type": "execute_result"
    }
   ],
   "source": [
    "# Make the text column full text searchable\n",
    "db['files'].enable_fts(['text'])\n",
    "db['files'].optimize()"
   ]
  },
  {
   "cell_type": "markdown",
   "metadata": {},
   "source": [
    "The following code should launch Datasette correctly on either Binder or a local system."
   ]
  },
  {
   "cell_type": "code",
   "execution_count": 31,
   "metadata": {},
   "outputs": [
    {
     "data": {
      "text/html": [
       "<p><a style=\"display: block; border: 1px solid #307fc1; background-color: #1976d2; color: #ffffff; padding: 10px; text-align: center;\"href=\"/proxy/absolute/8001/\">View Datasette</a> (Click on the stop button in the top menu bar to close the Datasette server)</p>"
      ],
      "text/plain": [
       "<IPython.core.display.HTML object>"
      ]
     },
     "metadata": {},
     "output_type": "display_data"
    },
    {
     "name": "stdout",
     "output_type": "stream",
     "text": [
      "Serve! files=('domains/education-gov-au/education-gov-au-powerpoints.db',) (immutables=()) on port 8001\n",
      "\u001b[32mINFO\u001b[0m:     Started server process [\u001b[36m26121\u001b[0m]\n",
      "\u001b[32mINFO\u001b[0m:     Waiting for application startup.\n",
      "\u001b[32mINFO\u001b[0m:     Application startup complete.\n",
      "\u001b[32mINFO\u001b[0m:     Uvicorn running on \u001b[1mhttp://127.0.0.1:8001\u001b[0m (Press CTRL+C to quit)\n",
      "^C\n",
      "\u001b[32mINFO\u001b[0m:     Shutting down\n",
      "\u001b[32mINFO\u001b[0m:     Waiting for application shutdown.\n",
      "\u001b[32mINFO\u001b[0m:     Application shutdown complete.\n",
      "\u001b[32mINFO\u001b[0m:     Finished server process [\u001b[36m26121\u001b[0m]\n"
     ]
    }
   ],
   "source": [
    "# Get current running servers\n",
    "servers = list_running_servers()\n",
    "\n",
    "# Get the current base url\n",
    "base_url = next(servers)['base_url']\n",
    "\n",
    "# Create a base url for Datasette using the proxy path\n",
    "proxy_url = f'{base_url}proxy/absolute/8001/'\n",
    "\n",
    "# Display a link to Datasette\n",
    "display(HTML(f'<p><a style=\"display: block; border: 1px solid #307fc1; background-color: #1976d2; color: #ffffff; padding: 10px; text-align: center;\"href=\"{proxy_url}\">View Datasette</a> (Click on the stop button in the top menu bar to close the Datasette server)</p>'))\n",
    "\n",
    "# Launch Datasette\n",
    "!datasette -- {str(db_file)} --port 8001 --config base_url:{proxy_url} --plugins-dir plugins"
   ]
  },
  {
   "cell_type": "markdown",
   "metadata": {},
   "source": [
    "----\n",
    "\n",
    "Work on this notebook was supported by the [IIPC Discretionary Funding Programme 2019-2020](http://netpreserve.org/projects/)"
   ]
  }
 ],
 "metadata": {
  "kernelspec": {
   "display_name": "Python 3",
   "language": "python",
   "name": "python3"
  },
  "language_info": {
   "codemirror_mode": {
    "name": "ipython",
    "version": 3
   },
   "file_extension": ".py",
   "mimetype": "text/x-python",
   "name": "python",
   "nbconvert_exporter": "python",
   "pygments_lexer": "ipython3",
   "version": "3.7.7"
  },
  "widgets": {
   "application/vnd.jupyter.widget-state+json": {
    "state": {},
    "version_major": 2,
    "version_minor": 0
   }
  }
 },
 "nbformat": 4,
 "nbformat_minor": 4
}
