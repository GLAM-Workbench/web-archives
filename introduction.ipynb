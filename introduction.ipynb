{
 "cells": [
  {
   "cell_type": "markdown",
   "metadata": {},
   "source": [
    "# Working with web archives\n",
    "\n"
   ]
  },
  {
   "cell_type": "markdown",
   "metadata": {},
   "source": [
    "<p class=\"alert alert-warning\">Work in progress – this notebook isn't finished yet. Check back later for more...<p>"
   ]
  },
  {
   "cell_type": "markdown",
   "metadata": {},
   "source": [
    "## No API needed\n",
    "\n",
    "Explain how timegate/availability APIs work in the web interface."
   ]
  },
  {
   "cell_type": "markdown",
   "metadata": {},
   "source": [
    "## Introduction to the CDX API\n",
    "\n",
    "* [Exploring the CDX API](exploring_cdx_api.ipynb) – mostly done, needs an intro.\n",
    "* [Timemap or CDX API?](getting_all_snapshots_timemap_vs_cdx.ipynb) – mostly done\n",
    "* [Bulk harvesting (ie domains)](harvesting_gov_au_domains.ipynb) – is this going to work?\n",
    "\n",
    "## Exploring change over time\n",
    "\n",
    "* [Change in a page over time](change_in_a_page_over_time.ipynb) \n",
    "* [Explosions and extinctions (visualising domain level changes)](explosions_and_extinctions-2.ipynb) – need to clean up, organise and consolidate with [version 1](explosions_and_extinctions.ipynb)\n",
    "* [Screenshots over time](screenshots_over_time.ipynb) – mostly done\n",
    "* Explore a particular question using a combination of the methods above...\n",
    "\n",
    "## Useful tools\n",
    "\n",
    "* [Find and explore presentations](explore_presentations.ipynb) – working, needs a bit of a cleanup. Create a version for PDFs?\n",
    "* [Save a full page screenshot](save_screenshot.ipynb) – bring in updated code from the screenshots over time notebook\n",
    "* [Compare versions of a page](show_diffs.ipynb) – bring in stuff from 'change over time' and screenshot notebooks, and add a lot more. Provide multiple perspectives."
   ]
  },
  {
   "cell_type": "code",
   "execution_count": null,
   "metadata": {},
   "outputs": [],
   "source": []
  }
 ],
 "metadata": {
  "kernelspec": {
   "display_name": "Python 3",
   "language": "python",
   "name": "python3"
  },
  "language_info": {
   "codemirror_mode": {
    "name": "ipython",
    "version": 3
   },
   "file_extension": ".py",
   "mimetype": "text/x-python",
   "name": "python",
   "nbconvert_exporter": "python",
   "pygments_lexer": "ipython3",
   "version": "3.8.2"
  }
 },
 "nbformat": 4,
 "nbformat_minor": 4
}
