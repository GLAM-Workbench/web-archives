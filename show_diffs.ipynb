{
 "cells": [
  {
   "cell_type": "markdown",
   "metadata": {},
   "source": [
    "# Comparing web pages from the Wayback Machine"
   ]
  },
  {
   "cell_type": "code",
   "execution_count": 41,
   "metadata": {},
   "outputs": [
    {
     "data": {
      "text/html": [
       "<style>.diff_add {background-color: #d0e9c6;}.diff_sub {background-color: #ebcccc;} table.diff, table.diff thead {border: 1px solid black;}</style>"
      ],
      "text/plain": [
       "<IPython.core.display.HTML object>"
      ]
     },
     "execution_count": 41,
     "metadata": {},
     "output_type": "execute_result"
    }
   ],
   "source": [
    "from difflib import HtmlDiff\n",
    "import requests\n",
    "from IPython.display import display, HTML\n",
    "import re\n",
    "import arrow\n",
    "\n",
    "# Add styles for the diff\n",
    "HTML('<style>.diff_add {background-color: #d0e9c6;}.diff_sub {background-color: #ebcccc;} table.diff, table.diff thead {border: 1px solid black;}</style>')"
   ]
  },
  {
   "cell_type": "code",
   "execution_count": 42,
   "metadata": {},
   "outputs": [],
   "source": [
    "url1 = 'https://web.archive.org/web/19961019064223id_/http://www.nla.gov.au/'\n",
    "url2 = 'https://web.archive.org/web/19970315230640id_/http://www.nla.gov.au/'"
   ]
  },
  {
   "cell_type": "code",
   "execution_count": 43,
   "metadata": {},
   "outputs": [],
   "source": [
    "def get_html(url):\n",
    "    response = requests.get(url, headers={'User-Agent': ''})\n",
    "    return [l.decode() for l in response.content.splitlines()]\n",
    "\n",
    "def get_date(url):\n",
    "    date_str = re.search(r'\\/web\\/(\\d+)id_', url).group(1)\n",
    "    return arrow.get(date_str, 'YYYYMMDDHHmmss').format('d MMMM YYYY')"
   ]
  },
  {
   "cell_type": "code",
   "execution_count": 44,
   "metadata": {},
   "outputs": [],
   "source": [
    "differ = HtmlDiff()"
   ]
  },
  {
   "cell_type": "code",
   "execution_count": 45,
   "metadata": {},
   "outputs": [
    {
     "data": {
      "text/html": [
       "\n",
       "    <table class=\"diff\" id=\"difflib_chg_to5__top\"\n",
       "           cellspacing=\"0\" cellpadding=\"0\" rules=\"groups\" >\n",
       "        <colgroup></colgroup> <colgroup></colgroup> <colgroup></colgroup>\n",
       "        <colgroup></colgroup> <colgroup></colgroup> <colgroup></colgroup>\n",
       "        <thead><tr><th class=\"diff_next\"><br /></th><th colspan=\"2\" class=\"diff_header\">6 October 1996</th><th class=\"diff_next\"><br /></th><th colspan=\"2\" class=\"diff_header\">6 March 1997</th></tr></thead>\n",
       "        <tbody>\n",
       "            <tr><td class=\"diff_next\" id=\"difflib_chg_to5__0\"><a href=\"#difflib_chg_to5__1\">n</a></td><td class=\"diff_header\" id=\"from5_4\">4</td><td nowrap=\"nowrap\">&lt;meta&nbsp;name=\"author\"&nbsp;content=\"Syems&nbsp;Projects\"&gt;</td><td class=\"diff_next\"><a href=\"#difflib_chg_to5__1\">n</a></td><td class=\"diff_header\" id=\"to5_4\">4</td><td nowrap=\"nowrap\">&lt;meta&nbsp;name=\"author\"&nbsp;content=\"Sy<span class=\"diff_add\">st</span>ems&nbsp;Projects\"&gt;</td></tr>\n",
       "        </tbody>        \n",
       "        <tbody>\n",
       "            <tr><td class=\"diff_next\" id=\"difflib_chg_to5__1\"><a href=\"#difflib_chg_to5__2\">n</a></td><td class=\"diff_header\" id=\"from5_11\">11</td><td nowrap=\"nowrap\"><span class=\"diff_sub\">The&nbsp;</span>National&nbsp;Library&nbsp;of&nbsp;Australia&lt;/H1&gt;</td><td class=\"diff_next\"><a href=\"#difflib_chg_to5__2\">n</a></td><td class=\"diff_header\" id=\"to5_11\">11</td><td nowrap=\"nowrap\">National&nbsp;Library&nbsp;of&nbsp;Australia&lt;/H1&gt;</td></tr>\n",
       "            <tr><td class=\"diff_next\"></td><td class=\"diff_header\" id=\"from5_12\">12</td><td nowrap=\"nowrap\"><span class=\"diff_sub\">&lt;hr&gt;</span></td><td class=\"diff_next\"></td><td class=\"diff_header\" id=\"to5_12\">12</td><td nowrap=\"nowrap\"><span class=\"diff_add\">&lt;hr&gt;&lt;p&gt;</span></td></tr>\n",
       "            <tr><td class=\"diff_next\"></td><td class=\"diff_header\" id=\"from5_13\">13</td><td nowrap=\"nowrap\"><span class=\"diff_sub\">&lt;p&gt;</span></td><td class=\"diff_next\"></td><td class=\"diff_header\"></td><td nowrap=\"nowrap\"></td></tr>\n",
       "        </tbody>        \n",
       "        <tbody>\n",
       "            <tr><td class=\"diff_next\" id=\"difflib_chg_to5__2\"><a href=\"#difflib_chg_to5__3\">n</a></td><td class=\"diff_header\"></td><td nowrap=\"nowrap\"></td><td class=\"diff_next\"><a href=\"#difflib_chg_to5__3\">n</a></td><td class=\"diff_header\" id=\"to5_15\">15</td><td nowrap=\"nowrap\"><span class=\"diff_add\">&lt;P&gt;</span></td></tr>\n",
       "        </tbody>        \n",
       "        <tbody>\n",
       "            <tr><td class=\"diff_next\" id=\"difflib_chg_to5__3\"><a href=\"#difflib_chg_to5__4\">n</a></td><td class=\"diff_header\" id=\"from5_34\">34</td><td nowrap=\"nowrap\">Enter&nbsp;keywords&nbsp;to&nbsp;search&nbsp;<span class=\"diff_chg\">for&nbsp;us</span>i<span class=\"diff_chg\">ng</span>&nbsp;the&nbsp;NLA&nbsp;Information&nbsp;Broker<span class=\"diff_sub\">.</span></td><td class=\"diff_next\"><a href=\"#difflib_chg_to5__4\">n</a></td><td class=\"diff_header\" id=\"to5_34\">34</td><td nowrap=\"nowrap\">Enter&nbsp;keywords&nbsp;to&nbsp;search&nbsp;<span class=\"diff_chg\">v</span>i<span class=\"diff_chg\">a</span>&nbsp;the&nbsp;NLA&nbsp;Information&nbsp;Broker</td></tr>\n",
       "            <tr><td class=\"diff_next\"></td><td class=\"diff_header\" id=\"from5_35\">35</td><td nowrap=\"nowrap\">&lt;A&nbsp;HREF=\"/nla/help_search.html\"&gt;<span class=\"diff_chg\">I</span>nformation&nbsp;and&nbsp;options.&lt;/A&gt;&lt;P&gt;</td><td class=\"diff_next\"></td><td class=\"diff_header\" id=\"to5_35\">35</td><td nowrap=\"nowrap\"><span class=\"diff_add\">(</span>&lt;A&nbsp;HREF=\"/nla/help_search.html\"&gt;<span class=\"diff_chg\">i</span>nformation&nbsp;and&nbsp;options<span class=\"diff_add\">)</span>.&lt;/A&gt;&lt;P&gt;</td></tr>\n",
       "        </tbody>        \n",
       "        <tbody>\n",
       "            <tr><td class=\"diff_next\" id=\"difflib_chg_to5__4\"><a href=\"#difflib_chg_to5__5\">n</a></td><td class=\"diff_header\" id=\"from5_47\">47</td><td nowrap=\"nowrap\"><span class=\"diff_sub\">&lt;H6&gt;&lt;address&gt;</span></td><td class=\"diff_next\"><a href=\"#difflib_chg_to5__5\">n</a></td><td class=\"diff_header\" id=\"to5_47\">47</td><td nowrap=\"nowrap\"><span class=\"diff_add\">&lt;H6&gt;</span></td></tr>\n",
       "        </tbody>        \n",
       "        <tbody>\n",
       "            <tr><td class=\"diff_next\" id=\"difflib_chg_to5__5\"><a href=\"#difflib_chg_to5__top\">t</a></td><td class=\"diff_header\" id=\"from5_52\">52</td><td nowrap=\"nowrap\">&lt;I&gt;&lt;A&nbsp;HREF=\"mailto:<span class=\"diff_chg\">mmanchel</span>@nla.gov.au\"&gt;www@nla.gov.au&lt;/A&gt;&lt;/I&gt;</td><td class=\"diff_next\"><a href=\"#difflib_chg_to5__top\">t</a></td><td class=\"diff_header\" id=\"to5_52\">52</td><td nowrap=\"nowrap\">&lt;I&gt;&lt;A&nbsp;HREF=\"mailto:<span class=\"diff_chg\">www</span>@nla.gov.au\"&gt;www@nla.gov.au&lt;/A&gt;&lt;/I&gt;</td></tr>\n",
       "            <tr><td class=\"diff_next\"></td><td class=\"diff_header\" id=\"from5_53\">53</td><td nowrap=\"nowrap\"><span class=\"diff_sub\">&lt;/address&gt;&lt;/H6&gt;</span></td><td class=\"diff_next\"></td><td class=\"diff_header\" id=\"to5_53\">53</td><td nowrap=\"nowrap\"><span class=\"diff_add\">&lt;/H6&gt;</span></td></tr>\n",
       "        </tbody>\n",
       "    </table>"
      ],
      "text/plain": [
       "<IPython.core.display.HTML object>"
      ]
     },
     "metadata": {},
     "output_type": "display_data"
    }
   ],
   "source": [
    "# context=False -- shows the whole document\n",
    "# numlines -- when context=True, the number of lines to show around the diff \n",
    "# numline=0 -- just the diffs\n",
    "html = differ.make_table(get_html(url1), get_html(url2), context=True, numlines=0, fromdesc=get_date(url1), todesc=get_date(url2))\n",
    "display(HTML(html))"
   ]
  },
  {
   "cell_type": "code",
   "execution_count": null,
   "metadata": {},
   "outputs": [],
   "source": []
  }
 ],
 "metadata": {
  "kernelspec": {
   "display_name": "Python 3",
   "language": "python",
   "name": "python3"
  },
  "language_info": {
   "codemirror_mode": {
    "name": "ipython",
    "version": 3
   },
   "file_extension": ".py",
   "mimetype": "text/x-python",
   "name": "python",
   "nbconvert_exporter": "python",
   "pygments_lexer": "ipython3",
   "version": "3.8.2"
  }
 },
 "nbformat": 4,
 "nbformat_minor": 4
}
