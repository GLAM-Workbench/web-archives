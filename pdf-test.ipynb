{
 "cells": [
  {
   "cell_type": "code",
   "execution_count": 22,
   "metadata": {},
   "outputs": [],
   "source": [
    "from pdfminer.high_level import extract_text\n",
    "import re"
   ]
  },
  {
   "cell_type": "code",
   "execution_count": 2,
   "metadata": {},
   "outputs": [],
   "source": [
    "text = extract_text('pdfs/091130%20INDUSTRY%20ROADSHOW%20PRESENTATION.pdf')"
   ]
  },
  {
   "cell_type": "code",
   "execution_count": 23,
   "metadata": {},
   "outputs": [
    {
     "name": "stdout",
     "output_type": "stream",
     "text": [
      "Industry Session on Tendering and HC-1 2003 Presenters: Marko Misko, Clayton Utz Bob Baird, Director Construction Contracts, DOD Katrina Fields, Deputy Director, DOD These slides have been prepared solely for the purpose of assisting IAD to provide an overview, at its national industry information sessions, of the key features of its procurement processes and standard form Head Contract HC-1 2003. As an overview, the slides seek to summarise much important information, and are not a complete explanation of all of the features of those processes or that contract. They should therefore not be relied on for any purpose, or used as a substitute for detailed legal advice on any issue of concern. Defence has issued these slides on the basis that it takes no responsibility for any errors, ambiguities, inconsistencies or omissions in the slides. Nothing in the slides is intended to have any legal effect or to in any way alter or affect the rights and obligations of any party to a procurement process run by IAD or a contract awarded by IAD. If any issue is identified in the slides, then it should be referred to IAD , Deputy Director Construction Contracts 02 6266 8147 Introductions and Housekeeping Defence Infrastructure overview Invitations to Register Interest Tendering – HC 1 2003 Overview of HC-1 2003 Who are we? Presenters: Bob Baird, Director Construction Contracts, DOD Katrina Fields, Deputy Director, DOD In this session you will develop an awareness of: Facilities in Defence Who we are and where we fit in Business Tools and support materials 8 $ billion 2.2 2.0 1.8 1.6 1.4 1.2 1.0 0.8 0.6 0.4 0.2 0.0 2007-08 DCP Facilities Government Initiatives MCF Baseline 2008-09 2009-10 2010-11 2011-12 2012-13 2013-14 2014-15 2015-16 2016-17 2017-18 Financial Year Tips and What to avoid Presenters: Bob Baird, Director Construction Contracts, DOD Katrina Fields, Deputy Director, DOD Marko Misko, Partner, Clayton Utz In this session you will develop an awareness of: Information Requirements of ITR’s Tips for quality submissions What to avoid Where do you find out about our opportunities? First approach to the market Project may not be approved PWC process AusTender www.tenders.gov.au Register for access Register for notifications Print media – local and national Gauge market interest Streamline tender processes Reduce your cost of tendering Preliminary Proposals Approach to WOL Approach to ESD Particular project concerns Management Plans Industrial Relations Time and Cost Control OHS Current Capacity What you currently have on the books... What else you are tendering for... Capability Who you propose to resource this job with and why Their skills, qualification and experience Their availability Past Performance Previous 12 months – all completed contracts Agreed and end contract values Variation/EOT history under contract...and reasons for changes/claims Claims made >$50K (not progress claims) Value adds/problem solving Rule 1: Read the ITR documents thoroughly to get a feel for the project Rule 2: Have someone unrelated to the project do a sanity check of the submission Rule 3: Understand what has to be signed and sign it Rule 4: Get a debrief of where your weaknesses were, even when shortlisted Leave submitting the bid until the last minute Rely on a junior or courier to submit the bid on the due date Provide the kitchen sink in your responses Recycle unsuccessful submissions ITR to reduce costs ITR to streamline tendering Put your best foot forward and learn from successful and unsuccessful submissions. QUESTIONS? The Do’s and Don’ts Presenters: Bob Baird, Director Construction Contracts, DOD Katrina Fields, Deputy Director, DOD Marko Misko, Partner, Clayton Utz In this session you will develop an awareness of: General features of a Defence Tender Process Information Requirements of Tender Documents Tips for quality submissions What to avoid Through Tender Administrator Request must be in writing Need to sign disclaimer Cannot download from AusTender Practical Issues with the Disclaimer Signatures of authorised company representative Binding promises with regard to confidentiality and disclaimer of liability for information Must be returned before receipt of documentation Where a single stage RFT, can be problematic Seek documents as advised and return the Disclaimer as quickly as possible Once documents are received, ensure staff understand the requirements Distinction between Tender Documents and Information Documents Note minimum form and content requirements Issuing of addenda Industry briefing may be conducted Conducted for “information only” May include a site tour Project background Overview of tender documents May result in addenda or information documents being produced Additional site tours Tender period is opportunity to mitigate your risk through asking questions Note any cut off for queries Distribution of questions to other tenderers Extensions to closing date Here’s what happens Here’s what happens Evaluation Report goes to the Delegate Report may recommend: Negotiations; Contract award; or No value for money offer received After report agreed, recommendation is actioned Project Plans – Outline Current Capacity and Capability Previous Performance Financial Standing Price Program Insurance Statutory Declaration Miscellaneous Contract Particulars Alternative Proposals National Code of Practice Commercial in confidence Equal Opportunity for Women Imported Items Office of Federal Safety Commissioner Accreditation Use checklists based on standard documentation Variance is usually only within the technical schedules Turn your mind to: what information we want to know, what information we need to know, and what information you believe sets you apart. Everything else is probably unnecessary Conditional language in covering letters Provide standard list of exclusions in pricing schedules Use standard pricing schedule that limits the validity period of the tender Insert TBA in miscellaneous contract particulars The following examples may not result in non-conformance but will slow evaluation or impact your assessment: Fail to provide a response Fail to provide a signature Fail to attach the relevant industrial instrument or DEEWR letter Recycle the last submission with references to different projects as the methodology Fail to comply with timeframes in any request for clarification 1 contract form – 3 delivery methods Presenters: Marko Misko, Partner, Clayton Utz Bob Baird, Director Construction Contracts, DOD Katrina Fields, Deputy Director, DOD In this session you will develop an awareness of: Key features of HC 1 2003 Why it is not an AS contract Risk allocation basics Business Tools and support materials Three delivery methods provided for under HC 1 2003: Design and Construct Document and Construct Construct only Relationship Traditional Target Date & Target Cost Fixed Time & Fixed Cost Agent of the Commonwealth Not a superintendent, or independent certifier Must act within authority of contract Issues directions and makes determinations Unless a Variation Order is given by Contract Administrator or the Contractor can substantiate a Claim Comply with programming obligations Variation Latent Conditions ( if applicable) Act of Prevention Breach of Contract Delayed access to Site Suspension Acceleration Direction which Contractor believes is a Variation Change in law Contract Administrator has broad powers to issue directions under the Contract Ideally, will be in scope Sometimes, Contractors consider the direction to constitute a Variation Notices provision sets out the procedural requirements to keep an entitlement alive Provides for a bar on claims that are not brought “within time” Purpose is to ensure claims are raised in timely manner Important that you examine how you will manage this risk Commonwealth can only make payment for claims due and payable Example of broad right of CA to issue directions Where construct only, will seek the relevant information or direct action in accordance with documents Often may be directed to the buildability provisions Recognise the need to respond expediently to allow you to progress the works Not all acts of prevention are breaches of contract Commonwealth accepts responsibility for effects of acts of prevention on program Unilateral right to extend the Date for Completion No agreed damages payable for these events May be an entitlement to extra costs In response to a claim for EOT, the CA may give an instruction to accelerate Increasingly may become more prevalent in Defence contracts with capability driven projects Pre-agreed margin tendered to be applied to extra cost reasonably incurred Liquidated Damages are not affected by the instruction Existing conditions and geotechnical What is the site? Confined definition investigations Reliance on inquiries Information documents Warranties Commonwealth undertakes to provide access to site Not exclusive possession Adjacent sites Cooperation Construction traffic management Local arrangements and base procedures Induction of construction workers Conditions Precedent Site Management Plan Environmental Clearance Certificate Provision of Security Insurance Others as described Subject to Defence operational requirements Airfields Stages SAFEBASE - restriction of access Delayed access by the Commonwealth No right to Agreed Damages Extra costs reasonably incurred Right to extension of time Must have met all conditions precedent for site access to bring claim Tied to obligation to provide access CA has right to order suspension No equivalent right for Contractor to suspend If notice issued, right to extra costs reasonably incurred (unless Contractor caused) Obligation on Contractor to mitigate costs Right to extension of time Only a breach of the Contract will give rise to an entitlement to Agreed Damages Agreed Damages are tendered and included in Contract Particulars Presume full mobilisation to Site Limitation on the Commonwealth’s liability for the breach Contractor entitled to payment of Contract Price, as adjusted Entitlement to make a claim dependant on meeting conditions precedent Commonwealth can only make payment for amounts due and payable under the Contract Construct only – workmanship and materials D&C – also fitness for purpose Proper and workmanlike Merchantable quality In accordance with BCA, MFPE and AS Certification Inspection and testing Defect rectification Works are complete when: Can be used for intended purpose; and are defect free; or have minor Defects which do not affect the convenient use of the Works by the Commonwealth. Contractor retains responsibility for correction of Defects, subject to direction by Defence \n"
     ]
    }
   ],
   "source": [
    "print(re.sub(r'\\s+', ' ', text.replace('\\uf0d2', '').replace('\\uf0c9', '').replace('\\n', ' ')))"
   ]
  },
  {
   "cell_type": "code",
   "execution_count": null,
   "metadata": {},
   "outputs": [],
   "source": []
  }
 ],
 "metadata": {
  "kernelspec": {
   "display_name": "Python 3",
   "language": "python",
   "name": "python3"
  },
  "language_info": {
   "codemirror_mode": {
    "name": "ipython",
    "version": 3
   },
   "file_extension": ".py",
   "mimetype": "text/x-python",
   "name": "python",
   "nbconvert_exporter": "python",
   "pygments_lexer": "ipython3",
   "version": "3.8.2"
  }
 },
 "nbformat": 4,
 "nbformat_minor": 4
}
