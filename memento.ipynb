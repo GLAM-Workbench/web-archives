{
 "cells": [
  {
   "cell_type": "markdown",
   "metadata": {},
   "source": [
    "# Using Memento\n",
    "\n",
    "Systems supporting the Memento protocol provide machine-readable information about web archive captures, even if other APIs are not available.\n",
    "\n",
    "**Documentation**\n",
    "* [Memento Protocol Specification](https://tools.ietf.org/html/rfc7089)\n",
    "* [Pywb implementation](https://pywb.readthedocs.io/en/latest/manual/memento.html)\n",
    "* [Pywb URL rewriting](https://pywb.readthedocs.io/en/latest/manual/rewriter.html?highlight=id_#url-rewriting)\n",
    "\n",
    "**Tools**\n",
    "* [Memento client](https://github.com/mementoweb/py-memento-client)"
   ]
  },
  {
   "cell_type": "code",
   "execution_count": 2,
   "metadata": {},
   "outputs": [],
   "source": [
    "import requests\n",
    "import arrow\n",
    "import re\n",
    "import json\n",
    "\n",
    "# Alternatively use the python Memento client "
   ]
  },
  {
   "cell_type": "code",
   "execution_count": 16,
   "metadata": {},
   "outputs": [],
   "source": [
    "# Some handy functions that we'll use below\n",
    "\n",
    "def format_date_for_headers(iso_date, tz):\n",
    "    '''\n",
    "    Convert an ISO date (YYYY-MM-DD) to a datetime at noon in the specified timezone.\n",
    "    Convert the datetime to UTC and format as required by Accet-Datetime headers:\n",
    "    eg Fri, 23 Mar 2007 01:00:00 GMT\n",
    "    '''\n",
    "    local = arrow.get(f'{iso_date} 12:00:00 {tz}', 'YYYY-MM-DD HH:mm:ss ZZZ')\n",
    "    gmt = local.to('utc')\n",
    "    return f'{gmt.format(\"ddd, DD MMM YYYY HH:mm:ss\")} GMT'\n",
    "\n",
    "def parse_links_from_headers(headers):\n",
    "    '''\n",
    "    Extract original, timegate, timemap, and memento links from 'Link' header.\n",
    "    '''\n",
    "    memento_links = {}\n",
    "    try:\n",
    "        links = re.findall(r'<(.*?)>; rel=\"(original|timegate|timemap|memento|first memento|prev memento|next memento|last memento)\"', headers['Link'])\n",
    "    except (KeyError):\n",
    "        print(\"No 'Link' header\")\n",
    "        print(headers)\n",
    "    else:\n",
    "        for url, url_type in links:\n",
    "            memento_links[url_type] = url\n",
    "    return memento_links\n",
    "\n",
    "def format_timestamp(timestamp, date_format='YYYY-MM-DD HH:mm:ss'):\n",
    "    return arrow.get(timestamp, 'YYYYMMDDHHmmss').format(date_format)"
   ]
  },
  {
   "cell_type": "code",
   "execution_count": 4,
   "metadata": {},
   "outputs": [
    {
     "data": {
      "text/plain": [
       "'Fri, 01 Jan 2010 01:00:00 GMT'"
      ]
     },
     "execution_count": 4,
     "metadata": {},
     "output_type": "execute_result"
    }
   ],
   "source": [
    "format_date_for_headers('2010-01-01', 'Australia/Canberra')"
   ]
  },
  {
   "cell_type": "code",
   "execution_count": 5,
   "metadata": {},
   "outputs": [
    {
     "data": {
      "text/plain": [
       "'2001-01-01 00:00:00'"
      ]
     },
     "execution_count": 5,
     "metadata": {},
     "output_type": "execute_result"
    }
   ],
   "source": [
    "format_timestamp('20010101000000')"
   ]
  },
  {
   "cell_type": "code",
   "execution_count": 6,
   "metadata": {},
   "outputs": [],
   "source": [
    "TIMEGATES = {\n",
    "    'nla': 'https://web.archive.org.au/awa/',\n",
    "    'nlnz': 'https://ndhadeliver.natlib.govt.nz/webarchive/wayback/',\n",
    "    'bl': 'https://www.webarchive.org.uk/wayback/archive/',\n",
    "    'ia': 'https://web.archive.org/web/'\n",
    "}"
   ]
  },
  {
   "cell_type": "markdown",
   "metadata": {},
   "source": [
    "## Timegates\n",
    "\n",
    "Timegates let you query a web archive for the capture closest to a specific date. You do this by supplying your target date as the `Accept-Datetime` value in the headers of your request.\n",
    "\n",
    "For example, if you wanted to query the Australian Web Archive to find the version of `http://nla.gov.au/` that was captured as close as possible to 1 January 2001, you'd set the `Accept-Datetime` header to header to 'Fri, 01 Jan 2010 01:00:00 GMT' and request the url:\n",
    "\n",
    "```\n",
    "https://web.archive.org.au/awa/http://nla.gov.au/\n",
    "```\n",
    "\n",
    "A `get` request will return the captured page, but if all you want is the url of the archived page you can use a `head` request and extract the information you need from the response headers. Try this:"
   ]
  },
  {
   "cell_type": "code",
   "execution_count": 7,
   "metadata": {},
   "outputs": [
    {
     "data": {
      "text/plain": [
       "{'Server': 'nginx', 'Date': 'Fri, 08 May 2020 02:03:16 GMT', 'Content-Length': '0', 'Connection': 'keep-alive', 'Location': 'https://web.archive.org.au/awa/20100205144227/http://nla.gov.au/', 'Link': '<http://nla.gov.au/>; rel=\"original\", <https://web.archive.org.au/awa/http://nla.gov.au/>; rel=\"timegate\", <https://web.archive.org.au/awa/timemap/link/http://nla.gov.au/>; rel=\"timemap\"; type=\"application/link-format\", <https://web.archive.org.au/awa/20100205144227mp_/http://nla.gov.au/>; rel=\"memento\"; datetime=\"Fri, 05 Feb 2010 14:42:27 GMT\"', 'Vary': 'accept-datetime'}"
      ]
     },
     "execution_count": 7,
     "metadata": {},
     "output_type": "execute_result"
    }
   ],
   "source": [
    "response = requests.head('https://web.archive.org.au/awa/http://nla.gov.au/', headers={'Accept-Datetime': 'Fri, 01 Jan 2010 01:00:00 GMT'})\n",
    "response.headers"
   ]
  },
  {
   "cell_type": "markdown",
   "metadata": {},
   "source": [
    "The request above returns the following headers:\n",
    "\n",
    "``` python\n",
    "{\n",
    "    'Server': 'nginx', \n",
    "    'Date': 'Wed, 06 May 2020 04:34:50 GMT', \n",
    "    'Content-Length': '0', 'Connection': 'keep-alive', \n",
    "    'Location': 'https://web.archive.org.au/awa/20100205144227/http://nla.gov.au/', \n",
    "    'Link': '<http://nla.gov.au/>; rel=\"original\", <https://web.archive.org.au/awa/http://nla.gov.au/>; rel=\"timegate\", <https://web.archive.org.au/awa/timemap/link/http://nla.gov.au/>; rel=\"timemap\"; type=\"application/link-format\", <https://web.archive.org.au/awa/20100205144227mp_/http://nla.gov.au/>; rel=\"memento\"; datetime=\"Fri, 05 Feb 2010 14:42:27 GMT\"', \n",
    "    'Vary': 'accept-datetime'\n",
    "}\n",
    "```\n",
    "\n",
    "The `Link` parameter contains the Memento information. You can see that it's actually providing information on four types of link:\n",
    "\n",
    "* the `original` url (ie the url that was archived) – `<http://nla.gov.au/>`\n",
    "* the `timegate` for the harvested url (which us what we just used) – `<https://web.archive.org.au/awa/http://nla.gov.au/>`\n",
    "* the `timemap` for the harvested url (we'll look at this below) – `<https://web.archive.org.au/awa/timemap/link/http://nla.gov.au/>`\n",
    "* the `memento` – `<https://web.archive.org.au/awa/20100205144227mp_/http://nla.gov.au/>`\n",
    "\n",
    "The `memento` link is the capture closest in time to the date we requested. In this case there's only about a month's difference, but of course this will depend on how frequently a url is captured. Opening the link will display the capture in the web archive. As we'll see below, some systems provide additional links such as `first memento`, `last memento`, `prev memento`, and `next memento`."
   ]
  },
  {
   "cell_type": "markdown",
   "metadata": {},
   "source": [
    "Here's a basic function to query a timegate in one of the four systems we're exploring. We'll use it to compare the results we get from each."
   ]
  },
  {
   "cell_type": "code",
   "execution_count": 8,
   "metadata": {},
   "outputs": [],
   "source": [
    "def query_timegate(timegate, url, date=None, tz='Australia/Canberra', request_type='head'):\n",
    "    headers = {}\n",
    "    if date:\n",
    "        formatted_date = format_date_for_headers(date, tz)\n",
    "        headers['Accept-Datetime'] = formatted_date\n",
    "    # Note that you don't get a timegate response if you leave off the trailing slash\n",
    "    tg_url = f'{TIMEGATES[timegate]}{url}/' if not url.endswith('/') else f'{TIMEGATES[timegate]}{url}'\n",
    "    print(tg_url)\n",
    "    if request_type == 'head':\n",
    "        response = requests.head(tg_url, headers=headers)\n",
    "    else:\n",
    "        response = requests.get(tg_url, headers=headers)\n",
    "    # print(response.headers)\n",
    "    return parse_links_from_headers(response.headers)"
   ]
  },
  {
   "cell_type": "markdown",
   "metadata": {},
   "source": [
    "### National Library of Australia\n",
    "\n",
    "A query without an `Accept-Datetime` value returns a recent capture."
   ]
  },
  {
   "cell_type": "code",
   "execution_count": 105,
   "metadata": {},
   "outputs": [
    {
     "name": "stdout",
     "output_type": "stream",
     "text": [
      "https://web.archive.org.au/awa/http://www.nla.gov.au/\n"
     ]
    },
    {
     "data": {
      "text/plain": [
       "{'original': 'http://pandora.nla.gov.au/pan/161756/20200306-0200/www.nla.gov.au/index.html',\n",
       " 'timegate': 'https://web.archive.org.au/awa/http://pandora.nla.gov.au/pan/161756/20200306-0200/www.nla.gov.au/index.html',\n",
       " 'timemap': 'https://web.archive.org.au/awa/timemap/link/http://pandora.nla.gov.au/pan/161756/20200306-0200/www.nla.gov.au/index.html',\n",
       " 'memento': 'https://web.archive.org.au/awa/20200305172547mp_/http://pandora.nla.gov.au/pan/161756/20200306-0200/www.nla.gov.au/index.html'}"
      ]
     },
     "execution_count": 105,
     "metadata": {},
     "output_type": "execute_result"
    }
   ],
   "source": [
    "query_timegate('nla', 'http://www.nla.gov.au')"
   ]
  },
  {
   "cell_type": "markdown",
   "metadata": {},
   "source": [
    "A query with an `Accept-Datetime` value of 1 January 2002 returns a capture from 20 January 2002."
   ]
  },
  {
   "cell_type": "code",
   "execution_count": 98,
   "metadata": {},
   "outputs": [
    {
     "name": "stdout",
     "output_type": "stream",
     "text": [
      "https://web.archive.org.au/awa/http://www.education.gov.au/\n"
     ]
    },
    {
     "data": {
      "text/plain": [
       "{'original': 'http://www.education.gov.au:80/',\n",
       " 'timegate': 'https://web.archive.org.au/awa/http://www.education.gov.au:80/',\n",
       " 'timemap': 'https://web.archive.org.au/awa/timemap/link/http://www.education.gov.au:80/',\n",
       " 'memento': 'https://web.archive.org.au/awa/20020120171009mp_/http://www.education.gov.au:80/'}"
      ]
     },
     "execution_count": 98,
     "metadata": {},
     "output_type": "execute_result"
    }
   ],
   "source": [
    "query_timegate('nla', 'http://www.education.gov.au/', date='2002-01-01')"
   ]
  },
  {
   "cell_type": "markdown",
   "metadata": {},
   "source": [
    "Using a `GET` rather than a `HEAD` request returns no Memento information."
   ]
  },
  {
   "cell_type": "code",
   "execution_count": 17,
   "metadata": {},
   "outputs": [
    {
     "name": "stdout",
     "output_type": "stream",
     "text": [
      "https://web.archive.org.au/awa/http://www.education.gov.au/\n",
      "No 'Link' header\n",
      "{'Server': 'nginx', 'Date': 'Fri, 08 May 2020 02:25:04 GMT', 'Content-Type': 'text/html;charset=UTF-8', 'Connection': 'close', 'Content-Language': 'en-AU', 'Content-Encoding': 'gzip'}\n"
     ]
    },
    {
     "data": {
      "text/plain": [
       "{}"
      ]
     },
     "execution_count": 17,
     "metadata": {},
     "output_type": "execute_result"
    }
   ],
   "source": [
    "query_timegate('nla', 'http://www.education.gov.au/', date='2002-01-01', request_type='get')"
   ]
  },
  {
   "cell_type": "markdown",
   "metadata": {},
   "source": [
    "### National Library of New Zealand\n",
    "\n",
    "A query without an `Accept-Datetime` value doesn't return a `memento`, but does include `first memento`, `last memento`, and `prev memento`."
   ]
  },
  {
   "cell_type": "code",
   "execution_count": 9,
   "metadata": {},
   "outputs": [
    {
     "name": "stdout",
     "output_type": "stream",
     "text": [
      "https://ndhadeliver.natlib.govt.nz/webarchive/wayback/http://natlib.govt.nz/\n"
     ]
    },
    {
     "data": {
      "text/plain": [
       "{'original': 'http://natlib.govt.nz/',\n",
       " 'timemap': 'https://ndhadeliver.natlib.govt.nz/webarchive/wayback/timemap/link/http://natlib.govt.nz/',\n",
       " 'last memento': 'https://ndhadeliver.natlib.govt.nz/webarchive/wayback/20200130060111/http://natlib.govt.nz/',\n",
       " 'first memento': 'https://ndhadeliver.natlib.govt.nz/webarchive/wayback/20040711213225/http://natlib.govt.nz/',\n",
       " 'prev memento': 'https://ndhadeliver.natlib.govt.nz/webarchive/wayback/20200130060106/http://natlib.govt.nz/'}"
      ]
     },
     "execution_count": 9,
     "metadata": {},
     "output_type": "execute_result"
    }
   ],
   "source": [
    "query_timegate('nlnz', 'http://natlib.govt.nz')"
   ]
  },
  {
   "cell_type": "markdown",
   "metadata": {},
   "source": [
    "A query with an `Accept-Datetime` value of 1 January 2005 doesn't return a `memento`, even though there's a capture available from July 2004. I don't know why this is."
   ]
  },
  {
   "cell_type": "code",
   "execution_count": 10,
   "metadata": {},
   "outputs": [
    {
     "name": "stdout",
     "output_type": "stream",
     "text": [
      "https://ndhadeliver.natlib.govt.nz/webarchive/wayback/http://natlib.govt.nz/\n"
     ]
    },
    {
     "data": {
      "text/plain": [
       "{'original': 'http://natlib.govt.nz/',\n",
       " 'timemap': 'https://ndhadeliver.natlib.govt.nz/webarchive/wayback/timemap/link/http://natlib.govt.nz/',\n",
       " 'first memento': 'https://ndhadeliver.natlib.govt.nz/webarchive/wayback/20040711213225/http://natlib.govt.nz/',\n",
       " 'next memento': 'https://ndhadeliver.natlib.govt.nz/webarchive/wayback/20060704033135/http://natlib.govt.nz/',\n",
       " 'last memento': 'https://ndhadeliver.natlib.govt.nz/webarchive/wayback/20200130060111/http://natlib.govt.nz/'}"
      ]
     },
     "execution_count": 10,
     "metadata": {},
     "output_type": "execute_result"
    }
   ],
   "source": [
    "query_timegate('nlnz', 'http://natlib.govt.nz', date='2005-01-01')"
   ]
  },
  {
   "cell_type": "markdown",
   "metadata": {},
   "source": [
    "A query with an `Accept-Datetime` value of 1 January 2008 returns a `memento` from 25 February 2008, as well as `first memento`, `last memento`, `prev memento`, and `next memento`."
   ]
  },
  {
   "cell_type": "code",
   "execution_count": 11,
   "metadata": {},
   "outputs": [
    {
     "name": "stdout",
     "output_type": "stream",
     "text": [
      "https://ndhadeliver.natlib.govt.nz/webarchive/wayback/http://natlib.govt.nz/\n"
     ]
    },
    {
     "data": {
      "text/plain": [
       "{'original': 'http://natlib.govt.nz/',\n",
       " 'timemap': 'https://ndhadeliver.natlib.govt.nz/webarchive/wayback/timemap/link/http://natlib.govt.nz/',\n",
       " 'first memento': 'https://ndhadeliver.natlib.govt.nz/webarchive/wayback/20040711213225/http://natlib.govt.nz/',\n",
       " 'prev memento': 'https://ndhadeliver.natlib.govt.nz/webarchive/wayback/20070322041546/http://natlib.govt.nz/',\n",
       " 'memento': 'https://ndhadeliver.natlib.govt.nz/webarchive/wayback/20080225060238/http://natlib.govt.nz/',\n",
       " 'next memento': 'https://ndhadeliver.natlib.govt.nz/webarchive/wayback/20081019225343/http://natlib.govt.nz/',\n",
       " 'last memento': 'https://ndhadeliver.natlib.govt.nz/webarchive/wayback/20200130060111/http://natlib.govt.nz/'}"
      ]
     },
     "execution_count": 11,
     "metadata": {},
     "output_type": "execute_result"
    }
   ],
   "source": [
    "query_timegate('nlnz', 'http://natlib.govt.nz', date='2008-01-01')"
   ]
  },
  {
   "cell_type": "markdown",
   "metadata": {},
   "source": [
    "A `GET` requests returns the same results as a `HEAD` request."
   ]
  },
  {
   "cell_type": "code",
   "execution_count": 18,
   "metadata": {},
   "outputs": [
    {
     "name": "stdout",
     "output_type": "stream",
     "text": [
      "https://ndhadeliver.natlib.govt.nz/webarchive/wayback/http://natlib.govt.nz/\n"
     ]
    },
    {
     "data": {
      "text/plain": [
       "{'original': 'http://www.natlib.govt.nz/',\n",
       " 'timemap': 'https://ndhadeliver.natlib.govt.nz/webarchive/wayback/timemap/link/http://www.natlib.govt.nz/',\n",
       " 'timegate': 'https://ndhadeliver.natlib.govt.nz/webarchive/wayback/http://www.natlib.govt.nz/',\n",
       " 'first memento': 'https://ndhadeliver.natlib.govt.nz/webarchive/wayback/20040711213225/http://www.natlib.govt.nz/',\n",
       " 'prev memento': 'https://ndhadeliver.natlib.govt.nz/webarchive/wayback/20070322041546/http://www.natlib.govt.nz/',\n",
       " 'memento': 'https://ndhadeliver.natlib.govt.nz/webarchive/wayback/20080225060238/http://www.natlib.govt.nz/',\n",
       " 'next memento': 'https://ndhadeliver.natlib.govt.nz/webarchive/wayback/20081019225343/http://www.natlib.govt.nz/',\n",
       " 'last memento': 'https://ndhadeliver.natlib.govt.nz/webarchive/wayback/20200130060111/http://www.natlib.govt.nz/'}"
      ]
     },
     "execution_count": 18,
     "metadata": {},
     "output_type": "execute_result"
    }
   ],
   "source": [
    "query_timegate('nlnz', 'http://natlib.govt.nz', date='2008-01-01', request_type='get')"
   ]
  },
  {
   "cell_type": "markdown",
   "metadata": {},
   "source": [
    "### Internet Archive\n",
    "\n",
    "Using a `HEAD` request returns no Memento information (this is different from all the others)."
   ]
  },
  {
   "cell_type": "code",
   "execution_count": 19,
   "metadata": {},
   "outputs": [
    {
     "name": "stdout",
     "output_type": "stream",
     "text": [
      "https://web.archive.org/web/http://discontents.com.au/\n",
      "No 'Link' header\n",
      "{'Server': 'nginx/1.15.8', 'Date': 'Fri, 08 May 2020 02:33:02 GMT', 'Content-Type': 'text/plain; charset=utf-8', 'Content-Length': '0', 'Connection': 'keep-alive', 'X-Archive-Redirect-Reason': 'found capture at 20200418035854', 'Location': 'https://web.archive.org/web/20200418035854/http://www.discontents.com.au/', 'Server-Timing': 'PetaboxLoader3.datanode;dur=25.887495, captures_list;dur=263.083917, LoadShardBlock;dur=209.967965, PetaboxLoader3.resolve;dur=67.117410, RedisCDXSource;dur=25.657726, exclusion.robots.policy;dur=0.173983, CDXLines.iter;dur=15.774050, esindex;dur=0.019052, exclusion.robots;dur=0.186151', 'X-App-Server': 'wwwb-app29', 'X-ts': '302', 'X-location': 'All', 'X-Cache-Key': 'httpsweb.archive.org/web/http://discontents.com.au/AU', 'X-Page-Cache': 'MISS'}\n"
     ]
    },
    {
     "data": {
      "text/plain": [
       "{}"
      ]
     },
     "execution_count": 19,
     "metadata": {},
     "output_type": "execute_result"
    }
   ],
   "source": [
    "query_timegate('ia', 'http://discontents.com.au')"
   ]
  },
  {
   "cell_type": "markdown",
   "metadata": {},
   "source": [
    "A query without an `Accept-Datetime` value returns a `memento` and also includes a `first memento`, `last memento`, `prev memento`, and `last memento`. It seems that the `memento` returned is the second last capture."
   ]
  },
  {
   "cell_type": "code",
   "execution_count": 21,
   "metadata": {},
   "outputs": [
    {
     "name": "stdout",
     "output_type": "stream",
     "text": [
      "https://web.archive.org/web/http://discontents.com.au/\n"
     ]
    },
    {
     "data": {
      "text/plain": [
       "{'original': 'http://discontents.com.au/',\n",
       " 'timemap': 'https://web.archive.org/web/timemap/link/http://discontents.com.au/',\n",
       " 'timegate': 'https://web.archive.org/web/http://discontents.com.au/',\n",
       " 'first memento': 'https://web.archive.org/web/19981206012233/http://www.discontents.com.au:80/',\n",
       " 'prev memento': 'https://web.archive.org/web/20200307153616/http://www.discontents.com.au/',\n",
       " 'memento': 'https://web.archive.org/web/20200417044906/http://discontents.com.au/',\n",
       " 'next memento': 'https://web.archive.org/web/20200418035854/http://www.discontents.com.au/',\n",
       " 'last memento': 'https://web.archive.org/web/20200418035854/http://www.discontents.com.au/'}"
      ]
     },
     "execution_count": 21,
     "metadata": {},
     "output_type": "execute_result"
    }
   ],
   "source": [
    "query_timegate('ia', 'http://discontents.com.au', request_type='get')"
   ]
  },
  {
   "cell_type": "markdown",
   "metadata": {},
   "source": [
    "A query with an `Accept-Datetime` value of 1 January 2010 returns a `memento` from 4 September 2010, even though the `prev memento` date, 30 October 2009, is closer."
   ]
  },
  {
   "cell_type": "code",
   "execution_count": 23,
   "metadata": {},
   "outputs": [
    {
     "name": "stdout",
     "output_type": "stream",
     "text": [
      "https://web.archive.org/web/http://discontents.com.au/\n"
     ]
    },
    {
     "data": {
      "text/plain": [
       "{'original': 'http://discontents.com.au:80/',\n",
       " 'timemap': 'https://web.archive.org/web/timemap/link/http://discontents.com.au:80/',\n",
       " 'timegate': 'https://web.archive.org/web/http://discontents.com.au:80/',\n",
       " 'first memento': 'https://web.archive.org/web/19981206012233/http://www.discontents.com.au:80/',\n",
       " 'prev memento': 'https://web.archive.org/web/20091030053520/http://discontents.com.au/',\n",
       " 'memento': 'https://web.archive.org/web/20100209041537/http://discontents.com.au:80/',\n",
       " 'next memento': 'https://web.archive.org/web/20100523101442/http://discontents.com.au:80/',\n",
       " 'last memento': 'https://web.archive.org/web/20200418035854/http://www.discontents.com.au/'}"
      ]
     },
     "execution_count": 23,
     "metadata": {},
     "output_type": "execute_result"
    }
   ],
   "source": [
    "query_timegate('ia', 'http://discontents.com.au', date='2010-01-01', request_type='get')"
   ]
  },
  {
   "cell_type": "markdown",
   "metadata": {},
   "source": [
    "### UK Web Archive\n",
    "\n",
    "A query without an `Accept-Datetime` value doesn't return a `memento`."
   ]
  },
  {
   "cell_type": "code",
   "execution_count": 101,
   "metadata": {},
   "outputs": [
    {
     "name": "stdout",
     "output_type": "stream",
     "text": [
      "https://www.webarchive.org.uk/wayback/archive/http://bl.uk/\n"
     ]
    },
    {
     "data": {
      "text/plain": [
       "{'original': 'http://bl.uk/',\n",
       " 'timegate': 'https://www.webarchive.org.uk/wayback/archive/http://bl.uk/',\n",
       " 'timemap': 'https://www.webarchive.org.uk/wayback/archive/timemap/link/http://bl.uk/'}"
      ]
     },
     "execution_count": 101,
     "metadata": {},
     "output_type": "execute_result"
    }
   ],
   "source": [
    "query_timegate('bl', 'http://bl.uk')"
   ]
  },
  {
   "cell_type": "markdown",
   "metadata": {},
   "source": [
    "A query with an `Accept-Datetime` value of 1 January 2006 returns a `memento` from 1 January 2006."
   ]
  },
  {
   "cell_type": "code",
   "execution_count": 100,
   "metadata": {},
   "outputs": [
    {
     "name": "stdout",
     "output_type": "stream",
     "text": [
      "https://www.webarchive.org.uk/wayback/archive/http://bl.uk/\n"
     ]
    },
    {
     "data": {
      "text/plain": [
       "{'original': 'http://bl.uk/',\n",
       " 'timegate': 'https://www.webarchive.org.uk/wayback/archive/http://bl.uk/',\n",
       " 'timemap': 'https://www.webarchive.org.uk/wayback/archive/timemap/link/http://bl.uk/',\n",
       " 'memento': 'https://www.webarchive.org.uk/wayback/archive/20060101010000mp_/http://bl.uk/'}"
      ]
     },
     "execution_count": 100,
     "metadata": {},
     "output_type": "execute_result"
    }
   ],
   "source": [
    "query_timegate('bl', 'http://bl.uk', date='2006-01-01')"
   ]
  },
  {
   "cell_type": "markdown",
   "metadata": {},
   "source": [
    "A `GET` request returns the same results as a `HEAD` request."
   ]
  },
  {
   "cell_type": "code",
   "execution_count": 24,
   "metadata": {},
   "outputs": [
    {
     "name": "stdout",
     "output_type": "stream",
     "text": [
      "https://www.webarchive.org.uk/wayback/archive/http://bl.uk/\n"
     ]
    },
    {
     "data": {
      "text/plain": [
       "{'original': 'http://bl.uk/',\n",
       " 'timegate': 'https://www.webarchive.org.uk/wayback/archive/http://bl.uk/',\n",
       " 'timemap': 'https://www.webarchive.org.uk/wayback/archive/timemap/link/http://bl.uk/',\n",
       " 'memento': 'https://www.webarchive.org.uk/wayback/archive/20060101010000mp_/http://bl.uk/'}"
      ]
     },
     "execution_count": 24,
     "metadata": {},
     "output_type": "execute_result"
    }
   ],
   "source": [
    "query_timegate('bl', 'http://bl.uk', date='2006-01-01', request_type='get')"
   ]
  },
  {
   "cell_type": "markdown",
   "metadata": {},
   "source": [
    "## Timemaps"
   ]
  },
  {
   "cell_type": "code",
   "execution_count": 262,
   "metadata": {},
   "outputs": [],
   "source": [
    "def get_timemap(timegate, url):\n",
    "    tg_url = f'{TIMEGATES[timegate]}timemap/json/{url}/'\n",
    "    response = requests.get(tg_url)\n",
    "    data = [json.loads(line) for line in response.text.splitlines()]\n",
    "    return data"
   ]
  },
  {
   "cell_type": "code",
   "execution_count": null,
   "metadata": {},
   "outputs": [],
   "source": [
    "timemap = get_timemap('nla', 'http://www.aph.gov.au/Senate/committee/eet_ctte/uni_finances/report/index.htm')\n",
    "timemap"
   ]
  },
  {
   "cell_type": "markdown",
   "metadata": {},
   "source": [
    "## Mementos\n",
    "\n",
    "id_, if_, mp_"
   ]
  },
  {
   "cell_type": "code",
   "execution_count": 247,
   "metadata": {},
   "outputs": [
    {
     "data": {
      "text/plain": [
       "{'Server': 'nginx', 'Date': 'Sat, 02 May 2020 12:17:38 GMT', 'Content-Type': 'text/html; charset=UTF-8', 'Content-Length': '0', 'Connection': 'keep-alive', 'X-Archive-Orig-Server': 'nginx', 'X-Archive-Orig-Connection': 'close', 'X-Archive-Orig-Vary': 'Accept-Encoding', 'Link': '<http://discontents.com.au/wp-json/>; rel=\"https://api.w.org/\", <http://wp.me/65XnW>; rel=shortlink, <http://discontents.com.au/>; rel=\"original\", <https://web.archive.org.au/awa/http://discontents.com.au/>; rel=\"timegate\", <https://web.archive.org.au/awa/timemap/link/http://discontents.com.au/>; rel=\"timemap\"; type=\"application/link-format\", <https://web.archive.org.au/awa/20200302223537mp_/http://discontents.com.au/>; rel=\"memento\"; datetime=\"Mon, 02 Mar 2020 22:35:37 GMT\"; collection=\"awa\"', 'Memento-Datetime': 'Mon, 02 Mar 2020 22:35:37 GMT'}"
      ]
     },
     "execution_count": 247,
     "metadata": {},
     "output_type": "execute_result"
    }
   ],
   "source": [
    "response = requests.head('https://web.archive.org.au/awa/20200302223537if_/http://discontents.com.au/')\n",
    "response.headers"
   ]
  },
  {
   "cell_type": "code",
   "execution_count": null,
   "metadata": {},
   "outputs": [],
   "source": []
  }
 ],
 "metadata": {
  "kernelspec": {
   "display_name": "Python 3",
   "language": "python",
   "name": "python3"
  },
  "language_info": {
   "codemirror_mode": {
    "name": "ipython",
    "version": 3
   },
   "file_extension": ".py",
   "mimetype": "text/x-python",
   "name": "python",
   "nbconvert_exporter": "python",
   "pygments_lexer": "ipython3",
   "version": "3.7.3"
  },
  "widgets": {
   "application/vnd.jupyter.widget-state+json": {
    "state": {},
    "version_major": 2,
    "version_minor": 0
   }
  }
 },
 "nbformat": 4,
 "nbformat_minor": 4
}
