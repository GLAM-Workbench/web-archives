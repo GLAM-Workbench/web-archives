{
 "cells": [
  {
   "cell_type": "markdown",
   "metadata": {},
   "source": [
    "# Using Memento\n",
    "\n",
    "Systems supporting the Memento protocol provide machine-readable information about web archive captures, even if other APIs are not available.\n",
    "\n",
    "**Documentation**\n",
    "* [Memento Protocol Specification](https://tools.ietf.org/html/rfc7089)\n",
    "* [Pywb implementation](https://pywb.readthedocs.io/en/latest/manual/memento.html)\n",
    "* [Pywb URL rewriting](https://pywb.readthedocs.io/en/latest/manual/rewriter.html?highlight=id_#url-rewriting)\n",
    "\n",
    "**Tools**\n",
    "* [Memento client](https://github.com/mementoweb/py-memento-client)"
   ]
  },
  {
   "cell_type": "code",
   "execution_count": 3,
   "metadata": {},
   "outputs": [],
   "source": [
    "import requests\n",
    "import arrow\n",
    "import re\n",
    "import json\n",
    "\n",
    "# Alternatively use the python Memento client "
   ]
  },
  {
   "cell_type": "code",
   "execution_count": 27,
   "metadata": {},
   "outputs": [],
   "source": [
    "def format_date_for_headers(iso_date, tz):\n",
    "    '''\n",
    "    Convert an ISO date (YYYY-MM-DD) to a datetime at noon in the specified timezone.\n",
    "    Convert the datetime to UTC and format as required by Accet-Datetime headers:\n",
    "    eg Fri, 23 Mar 2007 01:00:00 GMT\n",
    "    '''\n",
    "    local = arrow.get(f'{iso_date} 12:00:00 {tz}', 'YYYY-MM-DD HH:mm:ss ZZZ')\n",
    "    gmt = local.to('utc')\n",
    "    return f'{gmt.format(\"ddd, DD MMM YYYY HH:mm:ss\")} GMT'\n",
    "\n",
    "def parse_links_from_headers(headers):\n",
    "    '''\n",
    "    Extract original, timegate, timemap, and memento links from 'Link' header.\n",
    "    '''\n",
    "    memento_links = {}\n",
    "    links = re.findall(r'<(.*?)>; rel=\"(original|timegate|timemap|memento|first memento|prev memento|next memento|last memento)\"', headers['Link'])\n",
    "    for url, url_type in links:\n",
    "        memento_links[url_type] = url\n",
    "    return memento_links\n",
    "\n",
    "def format_timestamp(timestamp, date_format='YYYY-MM-DD HH:mm:ss'):\n",
    "    return arrow.get(timestamp, 'YYYYMMDDHHmmss').format(date_format)"
   ]
  },
  {
   "cell_type": "code",
   "execution_count": 5,
   "metadata": {},
   "outputs": [
    {
     "data": {
      "text/plain": [
       "'Fri, 01 Jan 2010 01:00:00 GMT'"
      ]
     },
     "execution_count": 5,
     "metadata": {},
     "output_type": "execute_result"
    }
   ],
   "source": [
    "format_date_for_headers('2010-01-01', 'Australia/Canberra')"
   ]
  },
  {
   "cell_type": "code",
   "execution_count": 6,
   "metadata": {},
   "outputs": [
    {
     "data": {
      "text/plain": [
       "'2001-01-01 00:00:00'"
      ]
     },
     "execution_count": 6,
     "metadata": {},
     "output_type": "execute_result"
    }
   ],
   "source": [
    "format_timestamp('20010101000000')"
   ]
  },
  {
   "cell_type": "code",
   "execution_count": 7,
   "metadata": {},
   "outputs": [],
   "source": [
    "TIMEGATES = {\n",
    "    'nla': 'https://web.archive.org.au/awa/',\n",
    "    'nlnz': 'https://ndhadeliver.natlib.govt.nz/webarchive/wayback/',\n",
    "    'bl': 'https://www.webarchive.org.uk/wayback/archive/',\n",
    "    'ia': 'https://web.archive.org/web/'\n",
    "}"
   ]
  },
  {
   "cell_type": "markdown",
   "metadata": {},
   "source": [
    "## Timegates\n",
    "\n",
    "Timegates let you query a web archive for the capture closest to a specific date. You do this by supplying your target date as the `Accept-Datetime` value in the headers of your request.\n",
    "\n",
    "For example, if you wanted to query the Australian Web Archive to find the version of `http://nla.gov.au/` that was captured as close as possible to 1 January 2001, you'd set the `Accept-Datetime` header to header to 'Fri, 01 Jan 2010 01:00:00 GMT' and request the url:\n",
    "\n",
    "```\n",
    "https://web.archive.org.au/awa/http://nla.gov.au/\n",
    "```\n",
    "\n",
    "A `get` request will return the captured page, but if all you want is the url of the archived page you can use a `head` request and extract the information you need from the response headers. Try this:"
   ]
  },
  {
   "cell_type": "code",
   "execution_count": 12,
   "metadata": {},
   "outputs": [
    {
     "data": {
      "text/plain": [
       "{'Server': 'nginx', 'Date': 'Wed, 06 May 2020 04:37:21 GMT', 'Content-Length': '0', 'Connection': 'keep-alive', 'Location': 'https://web.archive.org.au/awa/20100205144227/http://nla.gov.au/', 'Link': '<http://nla.gov.au/>; rel=\"original\", <https://web.archive.org.au/awa/http://nla.gov.au/>; rel=\"timegate\", <https://web.archive.org.au/awa/timemap/link/http://nla.gov.au/>; rel=\"timemap\"; type=\"application/link-format\", <https://web.archive.org.au/awa/20100205144227mp_/http://nla.gov.au/>; rel=\"memento\"; datetime=\"Fri, 05 Feb 2010 14:42:27 GMT\"', 'Vary': 'accept-datetime'}"
      ]
     },
     "metadata": {},
     "output_type": "display_data"
    }
   ],
   "source": [
    "response = requests.head('https://web.archive.org.au/awa/http://nla.gov.au/', headers={'Accept-Datetime': 'Fri, 01 Jan 2010 01:00:00 GMT'})\n",
    "response.headers"
   ]
  },
  {
   "cell_type": "markdown",
   "metadata": {},
   "source": [
    "The request above returns the following headers:\n",
    "\n",
    "``` python\n",
    "{\n",
    "    'Server': 'nginx', \n",
    "    'Date': 'Wed, 06 May 2020 04:34:50 GMT', \n",
    "    'Content-Length': '0', 'Connection': 'keep-alive', \n",
    "    'Location': 'https://web.archive.org.au/awa/20100205144227/http://nla.gov.au/', \n",
    "    'Link': '<http://nla.gov.au/>; rel=\"original\", <https://web.archive.org.au/awa/http://nla.gov.au/>; rel=\"timegate\", <https://web.archive.org.au/awa/timemap/link/http://nla.gov.au/>; rel=\"timemap\"; type=\"application/link-format\", <https://web.archive.org.au/awa/20100205144227mp_/http://nla.gov.au/>; rel=\"memento\"; datetime=\"Fri, 05 Feb 2010 14:42:27 GMT\"', \n",
    "    'Vary': 'accept-datetime'\n",
    "}\n",
    "```\n",
    "\n",
    "The `Link` parameter contains the Memento information. You can see that it's actually providing information on four types of link:\n",
    "\n",
    "* the `original` url (ie the url that was archived) – `<http://nla.gov.au/>`\n",
    "* the `timegate` for the harvested url (which us what we just used) – `<https://web.archive.org.au/awa/http://nla.gov.au/>`\n",
    "* the `timemap` for the harvested url (we'll look at this below) – `<https://web.archive.org.au/awa/timemap/link/http://nla.gov.au/>`\n",
    "* the `memento` – `<https://web.archive.org.au/awa/20100205144227mp_/http://nla.gov.au/>`\n",
    "\n",
    "The `memento` link is the capture closest in time to the date we requested. In this case there's only about a month's difference, but of course this will depend on how frequently a url is captured. Opening the link will display the capture in the web archive."
   ]
  },
  {
   "cell_type": "code",
   "execution_count": 99,
   "metadata": {},
   "outputs": [],
   "source": [
    "def query_timegate(timegate, url, date=None, tz='Australia/Canberra'):\n",
    "    headers = {}\n",
    "    if date:\n",
    "        formatted_date = format_date_for_headers(date, tz)\n",
    "        headers['Accept-Datetime'] = formatted_date\n",
    "    '''\n",
    "    # BL doesn't seem to default to latest date if no date supplied\n",
    "    elif not date and timegate == 'bl':\n",
    "        formatted_date = format_date_for_headers(arrow.utcnow().format('YYYY-MM-DD'), tz)\n",
    "        headers['Accept-Datetime'] = formatted_date\n",
    "    '''\n",
    "    # Note that you don't get a timegate response if you leave off the trailing slash\n",
    "    tg_url = f'{TIMEGATES[timegate]}{url}/' if not url.endswith('/') else f'{TIMEGATES[timegate]}{url}'\n",
    "    print(tg_url)\n",
    "    if timegate == 'ia':\n",
    "        response = requests.get(tg_url, headers=headers)\n",
    "    else:\n",
    "        response = requests.head(tg_url, headers=headers)\n",
    "    # print(response.headers)\n",
    "    return parse_links_from_headers(response.headers)"
   ]
  },
  {
   "cell_type": "code",
   "execution_count": 103,
   "metadata": {},
   "outputs": [
    {
     "name": "stdout",
     "output_type": "stream",
     "text": [
      "https://web.archive.org.au/awa/http://www.education.gov.au/\n"
     ]
    },
    {
     "data": {
      "text/plain": [
       "{'original': 'http://pandora.nla.gov.au/pan/180147/20200304-0021/www.education.gov.au/index.html',\n",
       " 'timegate': 'https://web.archive.org.au/awa/http://pandora.nla.gov.au/pan/180147/20200304-0021/www.education.gov.au/index.html',\n",
       " 'timemap': 'https://web.archive.org.au/awa/timemap/link/http://pandora.nla.gov.au/pan/180147/20200304-0021/www.education.gov.au/index.html',\n",
       " 'memento': 'https://web.archive.org.au/awa/20200304105707mp_/http://pandora.nla.gov.au/pan/180147/20200304-0021/www.education.gov.au/index.html'}"
      ]
     },
     "execution_count": 103,
     "metadata": {},
     "output_type": "execute_result"
    }
   ],
   "source": [
    "query_timegate('nla', 'http://www.education.gov.au/')"
   ]
  },
  {
   "cell_type": "code",
   "execution_count": 98,
   "metadata": {},
   "outputs": [
    {
     "name": "stdout",
     "output_type": "stream",
     "text": [
      "https://web.archive.org.au/awa/http://www.education.gov.au/\n"
     ]
    },
    {
     "data": {
      "text/plain": [
       "{'original': 'http://www.education.gov.au:80/',\n",
       " 'timegate': 'https://web.archive.org.au/awa/http://www.education.gov.au:80/',\n",
       " 'timemap': 'https://web.archive.org.au/awa/timemap/link/http://www.education.gov.au:80/',\n",
       " 'memento': 'https://web.archive.org.au/awa/20020120171009mp_/http://www.education.gov.au:80/'}"
      ]
     },
     "execution_count": 98,
     "metadata": {},
     "output_type": "execute_result"
    }
   ],
   "source": [
    "query_timegate('nla', 'http://www.education.gov.au/', date='2002-01-01')"
   ]
  },
  {
   "cell_type": "code",
   "execution_count": 102,
   "metadata": {},
   "outputs": [
    {
     "name": "stdout",
     "output_type": "stream",
     "text": [
      "https://ndhadeliver.natlib.govt.nz/webarchive/wayback/http://natlib.govt.nz/\n"
     ]
    },
    {
     "data": {
      "text/plain": [
       "{'original': 'http://natlib.govt.nz/',\n",
       " 'timemap': 'https://ndhadeliver.natlib.govt.nz/webarchive/wayback/timemap/link/http://natlib.govt.nz/',\n",
       " 'last memento': 'https://ndhadeliver.natlib.govt.nz/webarchive/wayback/20200130060111/http://natlib.govt.nz/',\n",
       " 'first memento': 'https://ndhadeliver.natlib.govt.nz/webarchive/wayback/20040711213225/http://natlib.govt.nz/',\n",
       " 'prev memento': 'https://ndhadeliver.natlib.govt.nz/webarchive/wayback/20200130060106/http://natlib.govt.nz/'}"
      ]
     },
     "execution_count": 102,
     "metadata": {},
     "output_type": "execute_result"
    }
   ],
   "source": [
    "query_timegate('nlnz', 'http://natlib.govt.nz')"
   ]
  },
  {
   "cell_type": "code",
   "execution_count": 93,
   "metadata": {},
   "outputs": [
    {
     "name": "stdout",
     "output_type": "stream",
     "text": [
      "https://ndhadeliver.natlib.govt.nz/webarchive/wayback/http://natlib.govt.nz/\n"
     ]
    },
    {
     "data": {
      "text/plain": [
       "{'original': 'http://natlib.govt.nz/',\n",
       " 'timemap': 'https://ndhadeliver.natlib.govt.nz/webarchive/wayback/timemap/link/http://natlib.govt.nz/',\n",
       " 'first memento': 'https://ndhadeliver.natlib.govt.nz/webarchive/wayback/20040711213225/http://natlib.govt.nz/',\n",
       " 'next memento': 'https://ndhadeliver.natlib.govt.nz/webarchive/wayback/20060704033135/http://natlib.govt.nz/',\n",
       " 'last memento': 'https://ndhadeliver.natlib.govt.nz/webarchive/wayback/20200130060111/http://natlib.govt.nz/'}"
      ]
     },
     "execution_count": 93,
     "metadata": {},
     "output_type": "execute_result"
    }
   ],
   "source": [
    "query_timegate('nlnz', 'http://natlib.govt.nz', date='2005-01-01')"
   ]
  },
  {
   "cell_type": "code",
   "execution_count": 94,
   "metadata": {},
   "outputs": [
    {
     "name": "stdout",
     "output_type": "stream",
     "text": [
      "https://ndhadeliver.natlib.govt.nz/webarchive/wayback/http://natlib.govt.nz/\n"
     ]
    },
    {
     "data": {
      "text/plain": [
       "{'original': 'http://natlib.govt.nz/',\n",
       " 'timemap': 'https://ndhadeliver.natlib.govt.nz/webarchive/wayback/timemap/link/http://natlib.govt.nz/',\n",
       " 'first memento': 'https://ndhadeliver.natlib.govt.nz/webarchive/wayback/20040711213225/http://natlib.govt.nz/',\n",
       " 'prev memento': 'https://ndhadeliver.natlib.govt.nz/webarchive/wayback/20070322041546/http://natlib.govt.nz/',\n",
       " 'memento': 'https://ndhadeliver.natlib.govt.nz/webarchive/wayback/20080225060238/http://natlib.govt.nz/',\n",
       " 'next memento': 'https://ndhadeliver.natlib.govt.nz/webarchive/wayback/20081019225343/http://natlib.govt.nz/',\n",
       " 'last memento': 'https://ndhadeliver.natlib.govt.nz/webarchive/wayback/20200130060111/http://natlib.govt.nz/'}"
      ]
     },
     "execution_count": 94,
     "metadata": {},
     "output_type": "execute_result"
    }
   ],
   "source": [
    "query_timegate('nlnz', 'http://natlib.govt.nz', date='2008-01-01')"
   ]
  },
  {
   "cell_type": "code",
   "execution_count": 89,
   "metadata": {},
   "outputs": [
    {
     "name": "stdout",
     "output_type": "stream",
     "text": [
      "https://web.archive.org/web/http://discontents.com.au/\n"
     ]
    },
    {
     "data": {
      "text/plain": [
       "{'original': 'http://www.discontents.com.au:80/',\n",
       " 'timemap': 'https://web.archive.org/web/timemap/link/http://www.discontents.com.au:80/',\n",
       " 'timegate': 'https://web.archive.org/web/http://www.discontents.com.au:80/',\n",
       " 'first memento': 'https://web.archive.org/web/19981206012233/http://www.discontents.com.au:80/',\n",
       " 'memento': 'https://web.archive.org/web/19981206012233/http://www.discontents.com.au:80/',\n",
       " 'next memento': 'https://web.archive.org/web/19981212024410/http://www.discontents.com.au:80/',\n",
       " 'last memento': 'https://web.archive.org/web/20200418035854/http://www.discontents.com.au/'}"
      ]
     },
     "execution_count": 89,
     "metadata": {},
     "output_type": "execute_result"
    }
   ],
   "source": [
    "query_timegate('ia', 'http://discontents.com.au', date='1998-01-01')"
   ]
  },
  {
   "cell_type": "code",
   "execution_count": 101,
   "metadata": {},
   "outputs": [
    {
     "name": "stdout",
     "output_type": "stream",
     "text": [
      "https://www.webarchive.org.uk/wayback/archive/http://bl.uk/\n"
     ]
    },
    {
     "data": {
      "text/plain": [
       "{'original': 'http://bl.uk/',\n",
       " 'timegate': 'https://www.webarchive.org.uk/wayback/archive/http://bl.uk/',\n",
       " 'timemap': 'https://www.webarchive.org.uk/wayback/archive/timemap/link/http://bl.uk/'}"
      ]
     },
     "execution_count": 101,
     "metadata": {},
     "output_type": "execute_result"
    }
   ],
   "source": [
    "query_timegate('bl', 'http://bl.uk')"
   ]
  },
  {
   "cell_type": "code",
   "execution_count": 100,
   "metadata": {},
   "outputs": [
    {
     "name": "stdout",
     "output_type": "stream",
     "text": [
      "https://www.webarchive.org.uk/wayback/archive/http://bl.uk/\n"
     ]
    },
    {
     "data": {
      "text/plain": [
       "{'original': 'http://bl.uk/',\n",
       " 'timegate': 'https://www.webarchive.org.uk/wayback/archive/http://bl.uk/',\n",
       " 'timemap': 'https://www.webarchive.org.uk/wayback/archive/timemap/link/http://bl.uk/',\n",
       " 'memento': 'https://www.webarchive.org.uk/wayback/archive/20060101010000mp_/http://bl.uk/'}"
      ]
     },
     "execution_count": 100,
     "metadata": {},
     "output_type": "execute_result"
    }
   ],
   "source": [
    "query_timegate('bl', 'http://bl.uk', date='2006-01-01')"
   ]
  },
  {
   "cell_type": "markdown",
   "metadata": {},
   "source": [
    "## Timemaps"
   ]
  },
  {
   "cell_type": "code",
   "execution_count": 262,
   "metadata": {},
   "outputs": [],
   "source": [
    "def get_timemap(timegate, url):\n",
    "    tg_url = f'{TIMEGATES[timegate]}timemap/json/{url}/'\n",
    "    response = requests.get(tg_url)\n",
    "    data = [json.loads(line) for line in response.text.splitlines()]\n",
    "    return data"
   ]
  },
  {
   "cell_type": "code",
   "execution_count": 336,
   "metadata": {},
   "outputs": [
    {
     "name": "stdout",
     "output_type": "stream",
     "text": [
      "False\n"
     ]
    },
    {
     "data": {
      "text/plain": [
       "[{'urlkey': 'au,gov,aph)/senate/committee/eet_ctte/uni_finances/report/index.htm',\n",
       "  'timestamp': '20031122074837',\n",
       "  'url': 'http://www.aph.gov.au/senate/committee/EET_CTTE/uni_finances/report/index.htm',\n",
       "  'mime': 'text/html',\n",
       "  'status': '200',\n",
       "  'digest': '3H5Z77RMYKXRFCE6ODTWAKMBPZOGJ4YE',\n",
       "  'offset': '97170362',\n",
       "  'filename': 'NLA-EXTRACTION-1996-2004-ARCS-PART-01336-000000.arc.gz',\n",
       "  'source': 'awa',\n",
       "  'source-coll': 'awa'},\n",
       " {'urlkey': 'au,gov,aph)/senate/committee/eet_ctte/uni_finances/report/index.htm',\n",
       "  'timestamp': '20031204140637',\n",
       "  'url': 'http://www.aph.gov.au/senate/committee/eet_ctte/uni_finances/report/index.htm',\n",
       "  'mime': 'text/html',\n",
       "  'status': '200',\n",
       "  'digest': '3H5Z77RMYKXRFCE6ODTWAKMBPZOGJ4YE',\n",
       "  'offset': '42227559',\n",
       "  'filename': 'NLA-EXTRACTION-1996-2004-ARCS-PART-03097-000000.arc.gz',\n",
       "  'source': 'awa',\n",
       "  'source-coll': 'awa'},\n",
       " {'urlkey': 'au,gov,aph)/senate/committee/eet_ctte/uni_finances/report/index.htm',\n",
       "  'timestamp': '20031204170123',\n",
       "  'url': 'http://www.aph.gov.au/Senate/committee/eet_ctte/uni_finances/report/index.htm',\n",
       "  'mime': 'text/html',\n",
       "  'status': '200',\n",
       "  'digest': '3H5Z77RMYKXRFCE6ODTWAKMBPZOGJ4YE',\n",
       "  'offset': '63404246',\n",
       "  'filename': 'NLA-EXTRACTION-1996-2004-ARCS-PART-03002-000002.arc.gz',\n",
       "  'source': 'awa',\n",
       "  'source-coll': 'awa'},\n",
       " {'urlkey': 'au,gov,aph)/senate/committee/eet_ctte/uni_finances/report/index.htm',\n",
       "  'timestamp': '20040109090704',\n",
       "  'url': 'http://www.aph.gov.au/Senate/committee/EET_CTTE/uni_finances/report/index.htm',\n",
       "  'mime': 'text/html',\n",
       "  'status': '200',\n",
       "  'digest': '3H5Z77RMYKXRFCE6ODTWAKMBPZOGJ4YE',\n",
       "  'offset': '56970676',\n",
       "  'filename': 'NLA-EXTRACTION-1996-2004-ARCS-PART-02588-000002.arc.gz',\n",
       "  'source': 'awa',\n",
       "  'source-coll': 'awa'},\n",
       " {'urlkey': 'au,gov,aph)/senate/committee/eet_ctte/uni_finances/report/index.htm',\n",
       "  'timestamp': '20040113083035',\n",
       "  'url': 'http://www.aph.gov.au/SENATE/COMMITTEE/eet_ctte/uni_finances/report/index.htm',\n",
       "  'mime': 'text/html',\n",
       "  'status': '200',\n",
       "  'digest': '3H5Z77RMYKXRFCE6ODTWAKMBPZOGJ4YE',\n",
       "  'offset': '23769866',\n",
       "  'filename': 'NLA-EXTRACTION-1996-2004-ARCS-PART-02215-000003.arc.gz',\n",
       "  'source': 'awa',\n",
       "  'source-coll': 'awa'},\n",
       " {'urlkey': 'au,gov,aph)/senate/committee/eet_ctte/uni_finances/report/index.htm',\n",
       "  'timestamp': '20040203165253',\n",
       "  'url': 'http://www.aph.gov.au/Senate/committee/eet_ctte/uni_finances/report/index.htm',\n",
       "  'mime': 'text/html',\n",
       "  'status': '200',\n",
       "  'digest': '3H5Z77RMYKXRFCE6ODTWAKMBPZOGJ4YE',\n",
       "  'offset': '47228949',\n",
       "  'filename': 'NLA-EXTRACTION-1996-2004-ARCS-PART-03032-000001.arc.gz',\n",
       "  'source': 'awa',\n",
       "  'source-coll': 'awa'},\n",
       " {'urlkey': 'au,gov,aph)/senate/committee/eet_ctte/uni_finances/report/index.htm',\n",
       "  'timestamp': '20040224074739',\n",
       "  'url': 'http://www.aph.gov.au/senate/committee/eet_ctte/uni_finances/report/index.htm',\n",
       "  'mime': 'text/html',\n",
       "  'status': '200',\n",
       "  'digest': '3H5Z77RMYKXRFCE6ODTWAKMBPZOGJ4YE',\n",
       "  'offset': '16391383',\n",
       "  'filename': 'NLA-EXTRACTION-1996-2004-ARCS-PART-02823-000003.arc.gz',\n",
       "  'source': 'awa',\n",
       "  'source-coll': 'awa'},\n",
       " {'urlkey': 'au,gov,aph)/senate/committee/eet_ctte/uni_finances/report/index.htm',\n",
       "  'timestamp': '20040224104154',\n",
       "  'url': 'http://www.aph.gov.au/Senate/committee/EET_CTTE/uni_finances/report/index.htm',\n",
       "  'mime': 'text/html',\n",
       "  'status': '200',\n",
       "  'digest': '3H5Z77RMYKXRFCE6ODTWAKMBPZOGJ4YE',\n",
       "  'offset': '100994337',\n",
       "  'filename': 'NLA-EXTRACTION-1996-2004-ARCS-PART-01908-000000.arc.gz',\n",
       "  'source': 'awa',\n",
       "  'source-coll': 'awa'},\n",
       " {'urlkey': 'au,gov,aph)/senate/committee/eet_ctte/uni_finances/report/index.htm',\n",
       "  'timestamp': '20040423051441',\n",
       "  'url': 'http://www.aph.gov.au/Senate/committee/eet_ctte/uni_finances/report/index.htm',\n",
       "  'mime': 'text/html',\n",
       "  'status': '200',\n",
       "  'digest': '3H5Z77RMYKXRFCE6ODTWAKMBPZOGJ4YE',\n",
       "  'offset': '85232200',\n",
       "  'filename': 'NLA-EXTRACTION-1996-2004-ARCS-PART-02661-000001.arc.gz',\n",
       "  'source': 'awa',\n",
       "  'source-coll': 'awa'},\n",
       " {'urlkey': 'au,gov,aph)/senate/committee/eet_ctte/uni_finances/report/index.htm',\n",
       "  'timestamp': '20040513230522',\n",
       "  'url': 'http://www.aph.gov.au/Senate/committee/EET_CTTE/uni_finances/report/index.htm',\n",
       "  'mime': 'text/html',\n",
       "  'status': '200',\n",
       "  'digest': '3H5Z77RMYKXRFCE6ODTWAKMBPZOGJ4YE',\n",
       "  'offset': '86766483',\n",
       "  'filename': 'NLA-EXTRACTION-1996-2004-ARCS-PART-01282-000001.arc.gz',\n",
       "  'source': 'awa',\n",
       "  'source-coll': 'awa'},\n",
       " {'urlkey': 'au,gov,aph)/senate/committee/eet_ctte/uni_finances/report/index.htm',\n",
       "  'timestamp': '20040530013749',\n",
       "  'url': 'http://www.aph.gov.au/SENATE/committee/eet_ctte/uni_finances/report/index.htm',\n",
       "  'mime': 'text/html',\n",
       "  'status': '200',\n",
       "  'digest': '3H5Z77RMYKXRFCE6ODTWAKMBPZOGJ4YE',\n",
       "  'offset': '78405605',\n",
       "  'filename': 'NLA-EXTRACTION-1996-2004-ARCS-PART-01751-000000.arc.gz',\n",
       "  'source': 'awa',\n",
       "  'source-coll': 'awa'},\n",
       " {'urlkey': 'au,gov,aph)/senate/committee/eet_ctte/uni_finances/report/index.htm',\n",
       "  'timestamp': '20040624093625',\n",
       "  'url': 'http://www.aph.gov.au/senate/committee/eet_ctte/uni_finances/report/index.htm',\n",
       "  'mime': 'text/html',\n",
       "  'status': '200',\n",
       "  'digest': '3H5Z77RMYKXRFCE6ODTWAKMBPZOGJ4YE',\n",
       "  'offset': '8600241',\n",
       "  'filename': 'NLA-EXTRACTION-1996-2004-ARCS-PART-02750-000003.arc.gz',\n",
       "  'source': 'awa',\n",
       "  'source-coll': 'awa'},\n",
       " {'urlkey': 'au,gov,aph)/senate/committee/eet_ctte/uni_finances/report/index.htm',\n",
       "  'timestamp': '20040629130551',\n",
       "  'url': 'http://www.aph.gov.au/Senate/committee/eet_ctte/uni_finances/report/index.htm',\n",
       "  'mime': 'text/html',\n",
       "  'status': '200',\n",
       "  'digest': 'QJNP7SAVOBOBYWIXIMLGQA6PFJWBGRON',\n",
       "  'offset': '71023454',\n",
       "  'filename': 'NLA-EXTRACTION-1996-2004-ARCS-PART-02504-000004.arc.gz',\n",
       "  'source': 'awa',\n",
       "  'source-coll': 'awa'},\n",
       " {'urlkey': 'au,gov,aph)/senate/committee/eet_ctte/uni_finances/report/index.htm',\n",
       "  'timestamp': '20040705015830',\n",
       "  'url': 'http://www.aph.gov.au/Senate/committee/EET_CTTE/uni_finances/report/index.htm',\n",
       "  'mime': 'text/html',\n",
       "  'status': '200',\n",
       "  'digest': 'QJNP7SAVOBOBYWIXIMLGQA6PFJWBGRON',\n",
       "  'offset': '23456756',\n",
       "  'filename': 'NLA-EXTRACTION-1996-2004-ARCS-PART-02913-000003.arc.gz',\n",
       "  'source': 'awa',\n",
       "  'source-coll': 'awa'},\n",
       " {'urlkey': 'au,gov,aph)/senate/committee/eet_ctte/uni_finances/report/index.htm',\n",
       "  'timestamp': '20040903042631',\n",
       "  'url': 'http://www.aph.gov.au/senate/committee/eet_ctte/uni_finances/report/index.htm',\n",
       "  'mime': 'text/html',\n",
       "  'status': '200',\n",
       "  'digest': 'QJNP7SAVOBOBYWIXIMLGQA6PFJWBGRON',\n",
       "  'offset': '8706487',\n",
       "  'filename': 'NLA-EXTRACTION-1996-2004-ARCS-PART-00990-000003.arc.gz',\n",
       "  'source': 'awa',\n",
       "  'source-coll': 'awa'},\n",
       " {'urlkey': 'au,gov,aph)/senate/committee/eet_ctte/uni_finances/report/index.htm',\n",
       "  'timestamp': '20040915213756',\n",
       "  'url': 'http://pandora.nla.gov.au/pan/39391/20040107-0000/www.aph.gov.au/Senate/committee/eet_ctte/uni_finances/report/index.htm',\n",
       "  'mime': 'text/html',\n",
       "  'status': '200',\n",
       "  'digest': 'E2AZHNETOOWKEDPFVFWYTFCJNA6WSTTK',\n",
       "  'offset': '0',\n",
       "  'filename': 'nla.arc-39391-20040107-0000-000.warc.gz',\n",
       "  'source': 'awa',\n",
       "  'source-coll': 'awa'},\n",
       " {'urlkey': 'au,gov,aph)/senate/committee/eet_ctte/uni_finances/report/index.htm',\n",
       "  'timestamp': '20041229120723',\n",
       "  'url': 'http://www.aph.gov.au/Senate/committee/eet_ctte/uni_finances/report/index.htm',\n",
       "  'mime': 'text/html',\n",
       "  'status': '500',\n",
       "  'digest': 'JUXHCW54LQEXP33YDHIU5UERFO7K4AKJ',\n",
       "  'offset': '71020745',\n",
       "  'filename': 'NLA-EXTRACTION-1996-2004-ARCS-PART-01222-000005.arc.gz',\n",
       "  'source': 'awa',\n",
       "  'source-coll': 'awa'},\n",
       " {'urlkey': 'au,gov,aph)/senate/committee/eet_ctte/uni_finances/report/index.htm',\n",
       "  'timestamp': '20050718212744',\n",
       "  'url': 'http://www.aph.gov.au/Senate/committee/eet_ctte/uni_finances/report/index.htm',\n",
       "  'mime': 'text/html',\n",
       "  'status': '301',\n",
       "  'digest': 'OBEEHJYBQVSGA6Z7ETFKT3DX2J23K3M5',\n",
       "  'offset': '15075670',\n",
       "  'filename': 'NLA-AU-CRAWL-000-20050718212647-02896-crawling016.archive.org.arc.gz',\n",
       "  'source': 'awa',\n",
       "  'source-coll': 'awa'}]"
      ]
     },
     "execution_count": 336,
     "metadata": {},
     "output_type": "execute_result"
    }
   ],
   "source": [
    "timemap = get_timemap('nla', 'http://www.aph.gov.au/Senate/committee/eet_ctte/uni_finances/report/index.htm')\n",
    "timemap"
   ]
  },
  {
   "cell_type": "markdown",
   "metadata": {},
   "source": [
    "## Mementos"
   ]
  },
  {
   "cell_type": "code",
   "execution_count": 247,
   "metadata": {},
   "outputs": [
    {
     "data": {
      "text/plain": [
       "{'Server': 'nginx', 'Date': 'Sat, 02 May 2020 12:17:38 GMT', 'Content-Type': 'text/html; charset=UTF-8', 'Content-Length': '0', 'Connection': 'keep-alive', 'X-Archive-Orig-Server': 'nginx', 'X-Archive-Orig-Connection': 'close', 'X-Archive-Orig-Vary': 'Accept-Encoding', 'Link': '<http://discontents.com.au/wp-json/>; rel=\"https://api.w.org/\", <http://wp.me/65XnW>; rel=shortlink, <http://discontents.com.au/>; rel=\"original\", <https://web.archive.org.au/awa/http://discontents.com.au/>; rel=\"timegate\", <https://web.archive.org.au/awa/timemap/link/http://discontents.com.au/>; rel=\"timemap\"; type=\"application/link-format\", <https://web.archive.org.au/awa/20200302223537mp_/http://discontents.com.au/>; rel=\"memento\"; datetime=\"Mon, 02 Mar 2020 22:35:37 GMT\"; collection=\"awa\"', 'Memento-Datetime': 'Mon, 02 Mar 2020 22:35:37 GMT'}"
      ]
     },
     "execution_count": 247,
     "metadata": {},
     "output_type": "execute_result"
    }
   ],
   "source": [
    "response = requests.head('https://web.archive.org.au/awa/20200302223537if_/http://discontents.com.au/')\n",
    "response.headers"
   ]
  },
  {
   "cell_type": "code",
   "execution_count": null,
   "metadata": {},
   "outputs": [],
   "source": []
  }
 ],
 "metadata": {
  "kernelspec": {
   "display_name": "Python 3",
   "language": "python",
   "name": "python3"
  },
  "language_info": {
   "codemirror_mode": {
    "name": "ipython",
    "version": 3
   },
   "file_extension": ".py",
   "mimetype": "text/x-python",
   "name": "python",
   "nbconvert_exporter": "python",
   "pygments_lexer": "ipython3",
   "version": "3.7.3"
  },
  "widgets": {
   "application/vnd.jupyter.widget-state+json": {
    "state": {},
    "version_major": 2,
    "version_minor": 0
   }
  }
 },
 "nbformat": 4,
 "nbformat_minor": 4
}
